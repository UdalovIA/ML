{
  "nbformat": 4,
  "nbformat_minor": 0,
  "metadata": {
    "colab": {
      "provenance": [],
      "collapsed_sections": []
    },
    "kernelspec": {
      "name": "python3",
      "display_name": "Python 3"
    },
    "language_info": {
      "name": "python"
    },
    "gpuClass": "standard",
    "accelerator": "GPU"
  },
  "cells": [
    {
      "cell_type": "code",
      "source": [
        "import urllib.request\n",
        "urllib.request.urlretrieve(\"https://storage.yandexcloud.net/audioml-contest22/dataset.tar.gz\", \"dataset.tar.gz\")"
      ],
      "metadata": {
        "colab": {
          "base_uri": "https://localhost:8080/",
          "height": 341
        },
        "id": "oRjPkPUbkneB",
        "outputId": "40abee0b-6087-444f-e93f-5b8fb9319128"
      },
      "execution_count": null,
      "outputs": [
        {
          "output_type": "error",
          "ename": "KeyboardInterrupt",
          "evalue": "ignored",
          "traceback": [
            "\u001b[0;31m---------------------------------------------------------------------------\u001b[0m",
            "\u001b[0;31mKeyboardInterrupt\u001b[0m                         Traceback (most recent call last)",
            "\u001b[0;32m<ipython-input-1-dc850e86a294>\u001b[0m in \u001b[0;36m<module>\u001b[0;34m\u001b[0m\n\u001b[1;32m      1\u001b[0m \u001b[0;32mimport\u001b[0m \u001b[0murllib\u001b[0m\u001b[0;34m.\u001b[0m\u001b[0mrequest\u001b[0m\u001b[0;34m\u001b[0m\u001b[0;34m\u001b[0m\u001b[0m\n\u001b[0;32m----> 2\u001b[0;31m \u001b[0murllib\u001b[0m\u001b[0;34m.\u001b[0m\u001b[0mrequest\u001b[0m\u001b[0;34m.\u001b[0m\u001b[0murlretrieve\u001b[0m\u001b[0;34m(\u001b[0m\u001b[0;34m\"https://storage.yandexcloud.net/audioml-contest22/dataset.tar.gz\"\u001b[0m\u001b[0;34m,\u001b[0m \u001b[0;34m\"dataset.tar.gz\"\u001b[0m\u001b[0;34m)\u001b[0m\u001b[0;34m\u001b[0m\u001b[0;34m\u001b[0m\u001b[0m\n\u001b[0m",
            "\u001b[0;32m/usr/lib/python3.7/urllib/request.py\u001b[0m in \u001b[0;36murlretrieve\u001b[0;34m(url, filename, reporthook, data)\u001b[0m\n\u001b[1;32m    274\u001b[0m \u001b[0;34m\u001b[0m\u001b[0m\n\u001b[1;32m    275\u001b[0m             \u001b[0;32mwhile\u001b[0m \u001b[0;32mTrue\u001b[0m\u001b[0;34m:\u001b[0m\u001b[0;34m\u001b[0m\u001b[0;34m\u001b[0m\u001b[0m\n\u001b[0;32m--> 276\u001b[0;31m                 \u001b[0mblock\u001b[0m \u001b[0;34m=\u001b[0m \u001b[0mfp\u001b[0m\u001b[0;34m.\u001b[0m\u001b[0mread\u001b[0m\u001b[0;34m(\u001b[0m\u001b[0mbs\u001b[0m\u001b[0;34m)\u001b[0m\u001b[0;34m\u001b[0m\u001b[0;34m\u001b[0m\u001b[0m\n\u001b[0m\u001b[1;32m    277\u001b[0m                 \u001b[0;32mif\u001b[0m \u001b[0;32mnot\u001b[0m \u001b[0mblock\u001b[0m\u001b[0;34m:\u001b[0m\u001b[0;34m\u001b[0m\u001b[0;34m\u001b[0m\u001b[0m\n\u001b[1;32m    278\u001b[0m                     \u001b[0;32mbreak\u001b[0m\u001b[0;34m\u001b[0m\u001b[0;34m\u001b[0m\u001b[0m\n",
            "\u001b[0;32m/usr/lib/python3.7/http/client.py\u001b[0m in \u001b[0;36mread\u001b[0;34m(self, amt)\u001b[0m\n\u001b[1;32m    463\u001b[0m             \u001b[0;31m# Amount is given, implement using readinto\u001b[0m\u001b[0;34m\u001b[0m\u001b[0;34m\u001b[0m\u001b[0;34m\u001b[0m\u001b[0m\n\u001b[1;32m    464\u001b[0m             \u001b[0mb\u001b[0m \u001b[0;34m=\u001b[0m \u001b[0mbytearray\u001b[0m\u001b[0;34m(\u001b[0m\u001b[0mamt\u001b[0m\u001b[0;34m)\u001b[0m\u001b[0;34m\u001b[0m\u001b[0;34m\u001b[0m\u001b[0m\n\u001b[0;32m--> 465\u001b[0;31m             \u001b[0mn\u001b[0m \u001b[0;34m=\u001b[0m \u001b[0mself\u001b[0m\u001b[0;34m.\u001b[0m\u001b[0mreadinto\u001b[0m\u001b[0;34m(\u001b[0m\u001b[0mb\u001b[0m\u001b[0;34m)\u001b[0m\u001b[0;34m\u001b[0m\u001b[0;34m\u001b[0m\u001b[0m\n\u001b[0m\u001b[1;32m    466\u001b[0m             \u001b[0;32mreturn\u001b[0m \u001b[0mmemoryview\u001b[0m\u001b[0;34m(\u001b[0m\u001b[0mb\u001b[0m\u001b[0;34m)\u001b[0m\u001b[0;34m[\u001b[0m\u001b[0;34m:\u001b[0m\u001b[0mn\u001b[0m\u001b[0;34m]\u001b[0m\u001b[0;34m.\u001b[0m\u001b[0mtobytes\u001b[0m\u001b[0;34m(\u001b[0m\u001b[0;34m)\u001b[0m\u001b[0;34m\u001b[0m\u001b[0;34m\u001b[0m\u001b[0m\n\u001b[1;32m    467\u001b[0m         \u001b[0;32melse\u001b[0m\u001b[0;34m:\u001b[0m\u001b[0;34m\u001b[0m\u001b[0;34m\u001b[0m\u001b[0m\n",
            "\u001b[0;32m/usr/lib/python3.7/http/client.py\u001b[0m in \u001b[0;36mreadinto\u001b[0;34m(self, b)\u001b[0m\n\u001b[1;32m    507\u001b[0m         \u001b[0;31m# connection, and the user is reading more bytes than will be provided\u001b[0m\u001b[0;34m\u001b[0m\u001b[0;34m\u001b[0m\u001b[0;34m\u001b[0m\u001b[0m\n\u001b[1;32m    508\u001b[0m         \u001b[0;31m# (for example, reading in 1k chunks)\u001b[0m\u001b[0;34m\u001b[0m\u001b[0;34m\u001b[0m\u001b[0;34m\u001b[0m\u001b[0m\n\u001b[0;32m--> 509\u001b[0;31m         \u001b[0mn\u001b[0m \u001b[0;34m=\u001b[0m \u001b[0mself\u001b[0m\u001b[0;34m.\u001b[0m\u001b[0mfp\u001b[0m\u001b[0;34m.\u001b[0m\u001b[0mreadinto\u001b[0m\u001b[0;34m(\u001b[0m\u001b[0mb\u001b[0m\u001b[0;34m)\u001b[0m\u001b[0;34m\u001b[0m\u001b[0;34m\u001b[0m\u001b[0m\n\u001b[0m\u001b[1;32m    510\u001b[0m         \u001b[0;32mif\u001b[0m \u001b[0;32mnot\u001b[0m \u001b[0mn\u001b[0m \u001b[0;32mand\u001b[0m \u001b[0mb\u001b[0m\u001b[0;34m:\u001b[0m\u001b[0;34m\u001b[0m\u001b[0;34m\u001b[0m\u001b[0m\n\u001b[1;32m    511\u001b[0m             \u001b[0;31m# Ideally, we would raise IncompleteRead if the content-length\u001b[0m\u001b[0;34m\u001b[0m\u001b[0;34m\u001b[0m\u001b[0;34m\u001b[0m\u001b[0m\n",
            "\u001b[0;32m/usr/lib/python3.7/socket.py\u001b[0m in \u001b[0;36mreadinto\u001b[0;34m(self, b)\u001b[0m\n\u001b[1;32m    587\u001b[0m         \u001b[0;32mwhile\u001b[0m \u001b[0;32mTrue\u001b[0m\u001b[0;34m:\u001b[0m\u001b[0;34m\u001b[0m\u001b[0;34m\u001b[0m\u001b[0m\n\u001b[1;32m    588\u001b[0m             \u001b[0;32mtry\u001b[0m\u001b[0;34m:\u001b[0m\u001b[0;34m\u001b[0m\u001b[0;34m\u001b[0m\u001b[0m\n\u001b[0;32m--> 589\u001b[0;31m                 \u001b[0;32mreturn\u001b[0m \u001b[0mself\u001b[0m\u001b[0;34m.\u001b[0m\u001b[0m_sock\u001b[0m\u001b[0;34m.\u001b[0m\u001b[0mrecv_into\u001b[0m\u001b[0;34m(\u001b[0m\u001b[0mb\u001b[0m\u001b[0;34m)\u001b[0m\u001b[0;34m\u001b[0m\u001b[0;34m\u001b[0m\u001b[0m\n\u001b[0m\u001b[1;32m    590\u001b[0m             \u001b[0;32mexcept\u001b[0m \u001b[0mtimeout\u001b[0m\u001b[0;34m:\u001b[0m\u001b[0;34m\u001b[0m\u001b[0;34m\u001b[0m\u001b[0m\n\u001b[1;32m    591\u001b[0m                 \u001b[0mself\u001b[0m\u001b[0;34m.\u001b[0m\u001b[0m_timeout_occurred\u001b[0m \u001b[0;34m=\u001b[0m \u001b[0;32mTrue\u001b[0m\u001b[0;34m\u001b[0m\u001b[0;34m\u001b[0m\u001b[0m\n",
            "\u001b[0;32m/usr/lib/python3.7/ssl.py\u001b[0m in \u001b[0;36mrecv_into\u001b[0;34m(self, buffer, nbytes, flags)\u001b[0m\n\u001b[1;32m   1069\u001b[0m                   \u001b[0;34m\"non-zero flags not allowed in calls to recv_into() on %s\"\u001b[0m \u001b[0;34m%\u001b[0m\u001b[0;34m\u001b[0m\u001b[0;34m\u001b[0m\u001b[0m\n\u001b[1;32m   1070\u001b[0m                   self.__class__)\n\u001b[0;32m-> 1071\u001b[0;31m             \u001b[0;32mreturn\u001b[0m \u001b[0mself\u001b[0m\u001b[0;34m.\u001b[0m\u001b[0mread\u001b[0m\u001b[0;34m(\u001b[0m\u001b[0mnbytes\u001b[0m\u001b[0;34m,\u001b[0m \u001b[0mbuffer\u001b[0m\u001b[0;34m)\u001b[0m\u001b[0;34m\u001b[0m\u001b[0;34m\u001b[0m\u001b[0m\n\u001b[0m\u001b[1;32m   1072\u001b[0m         \u001b[0;32melse\u001b[0m\u001b[0;34m:\u001b[0m\u001b[0;34m\u001b[0m\u001b[0;34m\u001b[0m\u001b[0m\n\u001b[1;32m   1073\u001b[0m             \u001b[0;32mreturn\u001b[0m \u001b[0msuper\u001b[0m\u001b[0;34m(\u001b[0m\u001b[0;34m)\u001b[0m\u001b[0;34m.\u001b[0m\u001b[0mrecv_into\u001b[0m\u001b[0;34m(\u001b[0m\u001b[0mbuffer\u001b[0m\u001b[0;34m,\u001b[0m \u001b[0mnbytes\u001b[0m\u001b[0;34m,\u001b[0m \u001b[0mflags\u001b[0m\u001b[0;34m)\u001b[0m\u001b[0;34m\u001b[0m\u001b[0;34m\u001b[0m\u001b[0m\n",
            "\u001b[0;32m/usr/lib/python3.7/ssl.py\u001b[0m in \u001b[0;36mread\u001b[0;34m(self, len, buffer)\u001b[0m\n\u001b[1;32m    927\u001b[0m         \u001b[0;32mtry\u001b[0m\u001b[0;34m:\u001b[0m\u001b[0;34m\u001b[0m\u001b[0;34m\u001b[0m\u001b[0m\n\u001b[1;32m    928\u001b[0m             \u001b[0;32mif\u001b[0m \u001b[0mbuffer\u001b[0m \u001b[0;32mis\u001b[0m \u001b[0;32mnot\u001b[0m \u001b[0;32mNone\u001b[0m\u001b[0;34m:\u001b[0m\u001b[0;34m\u001b[0m\u001b[0;34m\u001b[0m\u001b[0m\n\u001b[0;32m--> 929\u001b[0;31m                 \u001b[0;32mreturn\u001b[0m \u001b[0mself\u001b[0m\u001b[0;34m.\u001b[0m\u001b[0m_sslobj\u001b[0m\u001b[0;34m.\u001b[0m\u001b[0mread\u001b[0m\u001b[0;34m(\u001b[0m\u001b[0mlen\u001b[0m\u001b[0;34m,\u001b[0m \u001b[0mbuffer\u001b[0m\u001b[0;34m)\u001b[0m\u001b[0;34m\u001b[0m\u001b[0;34m\u001b[0m\u001b[0m\n\u001b[0m\u001b[1;32m    930\u001b[0m             \u001b[0;32melse\u001b[0m\u001b[0;34m:\u001b[0m\u001b[0;34m\u001b[0m\u001b[0;34m\u001b[0m\u001b[0m\n\u001b[1;32m    931\u001b[0m                 \u001b[0;32mreturn\u001b[0m \u001b[0mself\u001b[0m\u001b[0;34m.\u001b[0m\u001b[0m_sslobj\u001b[0m\u001b[0;34m.\u001b[0m\u001b[0mread\u001b[0m\u001b[0;34m(\u001b[0m\u001b[0mlen\u001b[0m\u001b[0;34m)\u001b[0m\u001b[0;34m\u001b[0m\u001b[0;34m\u001b[0m\u001b[0m\n",
            "\u001b[0;31mKeyboardInterrupt\u001b[0m: "
          ]
        }
      ]
    },
    {
      "cell_type": "code",
      "source": [
        "#!python naive_baseline.py --features-dir /content/train_features --tracks-meta /content/train_meta.tsv --output /content/out/text.txt"
      ],
      "metadata": {
        "id": "lCRddOJi4lXy"
      },
      "execution_count": null,
      "outputs": []
    },
    {
      "cell_type": "code",
      "source": [
        "from google.colab import drive\n",
        "drive.mount('drive')\n",
        "#!cp /content/train_meta.tsv \"drive/My Drive/\""
      ],
      "metadata": {
        "colab": {
          "base_uri": "https://localhost:8080/"
        },
        "id": "lXu_nlItQBL7",
        "outputId": "11f714f6-7fc6-4f71-adcf-b0961f0e5964"
      },
      "execution_count": 1,
      "outputs": [
        {
          "output_type": "stream",
          "name": "stdout",
          "text": [
            "Mounted at drive\n"
          ]
        }
      ]
    },
    {
      "cell_type": "code",
      "source": [
        "import zipfile\n",
        "with zipfile.ZipFile('/content/drive/MyDrive/train_features.zip', 'r') as zip_ref:\n",
        "    zip_ref.extractall('/content/train_features')"
      ],
      "metadata": {
        "id": "0NUiJzHfpcJA"
      },
      "execution_count": 2,
      "outputs": []
    },
    {
      "cell_type": "code",
      "source": [
        "import shutil\n",
        "shutil.copy(\"/content/drive/MyDrive/train_meta.tsv\", \"/content/\")"
      ],
      "metadata": {
        "colab": {
          "base_uri": "https://localhost:8080/",
          "height": 36
        },
        "id": "HwZ1NDnIqDwO",
        "outputId": "eced39ec-506c-4b5d-bc0f-cd4afff1c3de"
      },
      "execution_count": 3,
      "outputs": [
        {
          "output_type": "execute_result",
          "data": {
            "text/plain": [
              "'/content/train_meta.tsv'"
            ],
            "application/vnd.google.colaboratory.intrinsic+json": {
              "type": "string"
            }
          },
          "metadata": {},
          "execution_count": 3
        }
      ]
    },
    {
      "cell_type": "code",
      "source": [
        "!cp /content/train_meta.tsv \"drive/My Drive/\""
      ],
      "metadata": {
        "id": "LlGdzwyZh7WY"
      },
      "execution_count": 4,
      "outputs": []
    },
    {
      "cell_type": "code",
      "source": [
        "import tarfile\n",
        "import zipfile\n",
        "zipfile = '/content/dataset.tar.gz'\n",
        "if zipfile.endswith(\"tar.gz\"):\n",
        "    tar = tarfile.open(zipfile, \"r:gz\")\n",
        "elif zipfile.endswith(\"tar\"):\n",
        "    tar = tarfile.open(zipfile, \"r:\")\n",
        "tar.extractall()\n",
        "tar.close()  "
      ],
      "metadata": {
        "id": "T68UDBeHrk2f"
      },
      "execution_count": null,
      "outputs": []
    },
    {
      "cell_type": "code",
      "source": [
        "!pip install annoy\n"
      ],
      "metadata": {
        "colab": {
          "base_uri": "https://localhost:8080/"
        },
        "id": "Bp19pd1JriHh",
        "outputId": "4c0e2bc9-0dd9-49aa-b5c1-0253aec85b9b"
      },
      "execution_count": 5,
      "outputs": [
        {
          "output_type": "stream",
          "name": "stdout",
          "text": [
            "Looking in indexes: https://pypi.org/simple, https://us-python.pkg.dev/colab-wheels/public/simple/\n",
            "Collecting annoy\n",
            "  Downloading annoy-1.17.1.tar.gz (647 kB)\n",
            "\u001b[K     |████████████████████████████████| 647 kB 15.7 MB/s \n",
            "\u001b[?25hBuilding wheels for collected packages: annoy\n",
            "  Building wheel for annoy (setup.py) ... \u001b[?25l\u001b[?25hdone\n",
            "  Created wheel for annoy: filename=annoy-1.17.1-cp37-cp37m-linux_x86_64.whl size=397045 sha256=39d35ee8e1996edfd68c2bd44abba1f23ee31a8fddab8f8ea3fedddf651097bc\n",
            "  Stored in directory: /root/.cache/pip/wheels/81/94/bf/92cb0e4fef8770fe9c6df0ba588fca30ab7c306b6048ae8a54\n",
            "Successfully built annoy\n",
            "Installing collected packages: annoy\n",
            "Successfully installed annoy-1.17.1\n"
          ]
        }
      ]
    },
    {
      "cell_type": "code",
      "source": [
        "# encoding=utf-8\n",
        "import numpy as np\n",
        "import pandas as pd\n",
        "import os\n",
        "from argparse import ArgumentParser\n",
        "from sklearn.model_selection import train_test_split\n",
        "import torch\n",
        "import torch.nn as nn\n",
        "import torch.nn.functional as F\n",
        "from scipy.spatial.distance import cdist\n",
        "from tqdm import tqdm\n",
        "import random\n",
        "import annoy"
      ],
      "metadata": {
        "id": "D7IrnlxwTZEd"
      },
      "execution_count": 6,
      "outputs": []
    },
    {
      "cell_type": "code",
      "source": [],
      "metadata": {
        "id": "hp7mJx8X3Pc1"
      },
      "execution_count": null,
      "outputs": []
    },
    {
      "cell_type": "code",
      "source": [
        "\n",
        "\n",
        "# Data Loader \n",
        "\n",
        "def train_val_split(dataset, val_size = 0.2): # Сплит по artistid\n",
        "    artist_ids = dataset['artistid'].unique()\n",
        "    train_artist_ids, val_artist_ids = train_test_split(artist_ids, test_size = val_size)\n",
        "    trainset = dataset[dataset['artistid'].isin(train_artist_ids)].copy()\n",
        "    valset = dataset[dataset['artistid'].isin(val_artist_ids)].copy()\n",
        "    return trainset, valset\n",
        "\n",
        "class FeaturesLoader: \n",
        "    def __init__(self, features_dir_path, meta_info, device='cpu', crop_size = 60):\n",
        "        self.features_dir_path = features_dir_path\n",
        "        self.meta_info = meta_info\n",
        "        self.trackid2path = meta_info.set_index('trackid')['archive_features_path'].to_dict()\n",
        "        self.crop_size = crop_size\n",
        "        self.device = device\n",
        "        \n",
        "    def _load_item(self, track_id):\n",
        "        track_features_file_path = self.trackid2path[track_id]\n",
        "        track_features = np.load(os.path.join(self.features_dir_path, track_features_file_path))\n",
        "        padding = (track_features.shape[1] - self.crop_size) // 2\n",
        "        return track_features[:, padding:padding+self.crop_size]\n",
        "    \n",
        "    def load_batch(self, tracks_ids):\n",
        "        batch = [self._load_item(track_id) for track_id in tracks_ids]\n",
        "        return torch.tensor(np.array(batch)).to(self.device)\n",
        "\n",
        "class TrainLoader:\n",
        "    def __init__(self, features_loader, batch_size = 256, features_size = (512, 60)):\n",
        "        self.features_loader = features_loader\n",
        "        self.batch_size = batch_size\n",
        "        self.features_size = features_size\n",
        "        self.artist_track_ids = self.features_loader.meta_info.groupby('artistid').agg(list)\n",
        "        \n",
        "    def _generate_pairs(self, track_ids):\n",
        "        np.random.shuffle(track_ids)\n",
        "        pairs = [track_ids[i-2:i] for i in range(2, len(track_ids)+1, 2)]\n",
        "        return pairs\n",
        "        \n",
        "    def _get_pair_ids(self):\n",
        "        artist_track_ids = self.artist_track_ids.copy()\n",
        "        artist_track_pairs = artist_track_ids['trackid'].map(self._generate_pairs)\n",
        "        for pair_ids in artist_track_pairs.explode().dropna():\n",
        "            yield pair_ids\n",
        "            \n",
        "    def _get_batch(self, batch_ids):\n",
        "        batch_ids = np.array(batch_ids).reshape(-1)\n",
        "        batch_features = self.features_loader.load_batch(batch_ids)\n",
        "        batch_features = batch_features.reshape(self.batch_size, 2, *self.features_size)\n",
        "        return batch_features\n",
        "        \n",
        "    def __iter__(self):\n",
        "        batch_ids = []\n",
        "        for pair_ids in self._get_pair_ids():\n",
        "            batch_ids.append(pair_ids)\n",
        "            if len(batch_ids) == self.batch_size:\n",
        "                batch = self._get_batch(batch_ids)\n",
        "                yield batch\n",
        "                batch_ids = []\n",
        "\n",
        "class TestLoader:\n",
        "    def __init__(self, features_loader, batch_size = 256, features_size = (512, 60)):\n",
        "        self.features_loader = features_loader\n",
        "        self.batch_size = batch_size\n",
        "        self.features_size = features_size\n",
        "        \n",
        "    def __iter__(self):\n",
        "        batch_ids = []\n",
        "        for track_id in tqdm(self.features_loader.meta_info['trackid'].values):\n",
        "            batch_ids.append(track_id)\n",
        "            if len(batch_ids) == self.batch_size:\n",
        "                yield batch_ids, self.features_loader.load_batch(batch_ids) \n",
        "                batch_ids = []\n",
        "        if len(batch_ids) > 0:\n",
        "            yield batch_ids, self.features_loader.load_batch(batch_ids) \n",
        "\n",
        "\n",
        "\n"
      ],
      "metadata": {
        "id": "xkNrd8zOhiRo"
      },
      "execution_count": 7,
      "outputs": []
    },
    {
      "cell_type": "code",
      "source": [
        "FeaturesLoader.load_batch"
      ],
      "metadata": {
        "id": "qUI2-QKYB287"
      },
      "execution_count": null,
      "outputs": []
    },
    {
      "cell_type": "code",
      "source": [
        "# Loss & Metrics\n",
        "\n",
        "class NT_Xent(nn.Module):\n",
        "    def __init__(self, temperature):\n",
        "        super(NT_Xent, self).__init__()\n",
        "        self.temperature = temperature\n",
        "        self.criterion = nn.CrossEntropyLoss(reduction=\"sum\")\n",
        "        self.similarity_f = nn.CosineSimilarity(dim=2)\n",
        "\n",
        "    def mask_correlated_samples(self, batch_size):\n",
        "        N = 2 * batch_size\n",
        "        mask = torch.ones((N, N), dtype=bool)\n",
        "        mask = mask.fill_diagonal_(0)\n",
        "        for i in range(batch_size):\n",
        "            mask[i, batch_size + i] = 0\n",
        "            mask[batch_size + i, i] = 0\n",
        "        return mask\n",
        "\n",
        "    def forward(self, z_i, z_j):\n",
        "        batch_size = z_i.shape[0]\n",
        "        N = 2 * batch_size\n",
        "        z = torch.cat((z_i, z_j), dim=0)\n",
        " \n",
        "        sim = self.similarity_f(z.unsqueeze(1), z.unsqueeze(0)) / self.temperature\n",
        "        sim_i_j = torch.diag(sim, batch_size)\n",
        "        sim_j_i = torch.diag(sim, -batch_size)\n",
        "\n",
        "        mask = self.mask_correlated_samples(batch_size)\n",
        "        positive_samples = torch.cat((sim_i_j, sim_j_i), dim=0).reshape(N, 1)\n",
        "        negative_samples = sim[mask].reshape(N, -1)\n",
        "\n",
        "        labels = torch.zeros(N).to(positive_samples.device).long()\n",
        "        logits = torch.cat((positive_samples, negative_samples), dim=1)\n",
        "        loss = self.criterion(logits, labels)\n",
        "        loss /= N\n",
        "        \n",
        "        with torch.no_grad():\n",
        "            top1_negative_samples, _ = negative_samples.topk(1)\n",
        "            avg_rank = logits.argsort(descending=True).argmin(dim=1).float().mean().cpu().numpy()\n",
        "\n",
        "        return loss, avg_rank\n",
        "\n",
        "def get_ranked_list(embeds, top_size, annoy_num_trees = 32):\n",
        "    annoy_index = None\n",
        "    annoy2id = []\n",
        "    id2annoy = dict()\n",
        "    for track_id, track_embed in embeds.items():\n",
        "        id2annoy[track_id] = len(annoy2id)\n",
        "        annoy2id.append(track_id)\n",
        "        if annoy_index is None:\n",
        "            annoy_index = annoy.AnnoyIndex(len(track_embed), 'angular')\n",
        "        annoy_index.add_item(id2annoy[track_id], track_embed)\n",
        "    annoy_index.build(annoy_num_trees)\n",
        "    ranked_list = dict()\n",
        "    for track_id in embeds.keys():\n",
        "        candidates = annoy_index.get_nns_by_item(id2annoy[track_id], top_size+1)[1:] # exclude trackid itself\n",
        "        candidates = list(filter(lambda x: x != id2annoy[track_id], candidates))\n",
        "        ranked_list[track_id] = [annoy2id[candidate] for candidate in candidates]\n",
        "    return ranked_list\n",
        "\n",
        "def position_discounter(position):\n",
        "    return 1.0 / np.log2(position+1)   \n",
        "\n",
        "def get_ideal_dcg(relevant_items_count, top_size):\n",
        "    dcg = 0.0\n",
        "    for result_indx in range(min(top_size, relevant_items_count)):\n",
        "        position = result_indx + 1\n",
        "        dcg += position_discounter(position)\n",
        "    return dcg\n",
        "\n",
        "def compute_dcg(query_trackid, ranked_list, track2artist_map, top_size):\n",
        "    query_artistid = track2artist_map[query_trackid]\n",
        "    dcg = 0.0\n",
        "    for result_indx, result_trackid in enumerate(ranked_list[:top_size]):\n",
        "        assert result_trackid != query_trackid\n",
        "        position = result_indx + 1\n",
        "        discounted_position = position_discounter(position)\n",
        "        result_artistid = track2artist_map[result_trackid]\n",
        "        if result_artistid == query_artistid:\n",
        "            dcg += discounted_position\n",
        "    return dcg\n",
        "\n",
        "def eval_submission(submission, gt_meta_info, top_size = 100):\n",
        "    track2artist_map = gt_meta_info.set_index('trackid')['artistid'].to_dict()\n",
        "    artist2tracks_map = gt_meta_info.groupby('artistid').agg(list)['trackid'].to_dict()\n",
        "    ndcg_list = []\n",
        "    for query_trackid in tqdm(submission.keys()):\n",
        "        ranked_list = submission[query_trackid]\n",
        "        query_artistid = track2artist_map[query_trackid]\n",
        "        query_artist_tracks_count = len(artist2tracks_map[query_artistid])\n",
        "        ideal_dcg = get_ideal_dcg(query_artist_tracks_count-1, top_size=top_size)\n",
        "        dcg = compute_dcg(query_trackid, ranked_list, track2artist_map, top_size=top_size)\n",
        "        try:\n",
        "            ndcg_list.append(dcg/ideal_dcg)\n",
        "        except ZeroDivisionError:\n",
        "            continue\n",
        "    return np.mean(ndcg_list)\n"
      ],
      "metadata": {
        "id": "YfsRBIlbTWf_"
      },
      "execution_count": 8,
      "outputs": []
    },
    {
      "cell_type": "code",
      "source": [
        "def train(module, train_loader, val_loader, valset_meta, optimizer, criterion, num_epochs, checkpoint_path, top_size = 100):\n",
        "    max_ndcg = None\n",
        "    for epoch in range(num_epochs):\n",
        "        for batch in tqdm(train_loader):\n",
        "            optimizer.zero_grad()\n",
        "            module.train()\n",
        "            x_i, x_j = batch[:, 0, :, :], batch[:, 1, :, :]\n",
        "            h_i, h_j, z_i, z_j = module(x_i, x_j)\n",
        "            loss, avg_rank = criterion(z_i, z_j)\n",
        "            loss.backward()\n",
        "            optimizer.step()\n",
        "            print(\"Epoch {}/{}\".format(epoch+1, num_epochs))\n",
        "            print(\"loss: {}\".format(loss))\n",
        "            print(\"avg_rank: {}\".format(avg_rank))\n",
        "            print()\n",
        "        \n",
        "        with torch.no_grad():\n",
        "            model_encoder = module.encoder\n",
        "            embeds_encoder = inference(model_encoder, val_loader)\n",
        "            ranked_list_encoder = get_ranked_list(embeds_encoder, top_size)\n",
        "            val_ndcg_encoder = eval_submission(ranked_list_encoder, valset_meta)\n",
        "            \n",
        "            model_projector = nn.Sequential(module.encoder, module.projector)\n",
        "            embeds_projector = inference(model_projector, val_loader)\n",
        "            ranked_list_projector = get_ranked_list(embeds_projector, top_size)\n",
        "            val_ndcg_projector = eval_submission(ranked_list_projector, valset_meta)\n",
        "            \n",
        "            print(\"Validation nDCG on epoch {}\".format(epoch))\n",
        "            print(\"Encoder - {}\".format(val_ndcg_encoder))\n",
        "            print(\"Projector - {}\".format(val_ndcg_projector))\n",
        "            if (max_ndcg is None) or (val_ndcg_encoder > max_ndcg):\n",
        "                max_ndcg = val_ndcg_encoder\n",
        "                torch.save(model_encoder.state_dict(), checkpoint_path)\n",
        "\n",
        "def save_submission(submission, submission_path):\n",
        "    with open(submission_path, 'w') as f:\n",
        "        for query_trackid, result in submission.items():\n",
        "            f.write(\"{}\\t{}\\n\".format(query_trackid, \" \".join(map(str, result))))"
      ],
      "metadata": {
        "id": "ItXyIiD3TKJj"
      },
      "execution_count": 106,
      "outputs": []
    },
    {
      "cell_type": "code",
      "source": [
        "# Train & Inference functions\n",
        "\n",
        "class BasicNet(nn.Module):\n",
        "    def __init__(self, output_features_size):\n",
        "        super().__init__()\n",
        "        self.output_features_size = output_features_size\n",
        "        self.kernel = 3\n",
        "        self.conv_1 = nn.Conv1d(512, output_features_size, kernel_size=self.kernel, padding=1)\n",
        "        self.conv_2 = nn.Conv1d(output_features_size, output_features_size, kernel_size=self.kernel, padding=1)\n",
        "        self.mp_1 = nn.MaxPool1d(2, 2)\n",
        "        self.conv_3 = nn.Conv1d(output_features_size, output_features_size, kernel_size=self.kernel, padding=1)\n",
        "        self.conv_4 = nn.Conv1d(output_features_size, output_features_size, kernel_size=self.kernel, padding=1)\n",
        "        self.mp_2 = nn.MaxPool1d(2, 2)\n",
        "        self.conv_5 = nn.Conv1d(output_features_size, output_features_size, kernel_size=self.kernel, padding=1)\n",
        "        self.conv_6 = nn.Conv1d(output_features_size, output_features_size, kernel_size=self.kernel, padding=1)\n",
        "\n",
        "        #self.mp_3 = nn.MaxPool1d(2, 2)\n",
        "        #self.conv_6 = nn.Conv1d(output_features_size, output_features_size, kernel_size=self.kernel, padding=1)\n",
        "        #self.conv_7 = nn.Conv1d(output_features_size, output_features_size, kernel_size=self.kernel, padding=1)\n",
        "\n",
        "    def forward(self, x):\n",
        "        x = F.relu(self.conv_1(x))\n",
        "        x = F.relu(self.conv_2(x))\n",
        "        x = self.mp_1(x)\n",
        "        x = F.relu(self.conv_3(x))\n",
        "        x = self.conv_4(x).mean(axis = 2)\n",
        "        return x\n",
        "\n",
        "class SimCLR(nn.Module):\n",
        "    def __init__(self, encoder, projection_dim):\n",
        "        super().__init__()\n",
        "        self.encoder = encoder\n",
        "        self.n_features = encoder.output_features_size \n",
        "        self.projection_dim = projection_dim\n",
        "        self.projector = nn.Sequential(\n",
        "            nn.Linear(self.n_features, self.n_features, bias=False),\n",
        "            nn.ReLU(),\n",
        "            #nn.Linear(self.n_features, self.n_features, bias=False),\n",
        "            #nn.ReLU(),\n",
        "            nn.Linear(self.n_features, self.projection_dim, bias=False),\n",
        "        )\n",
        "        \n",
        "    def forward(self, x_i, x_j):\n",
        "        h_i = self.encoder(x_i)#.view(-1, 64*15)\n",
        "        h_j = self.encoder(x_j)#.view(-1, 64*15)\n",
        "        #print(x_i.shape)\n",
        "\n",
        "        #print(h_i.shape)\n",
        "        #print(h_j.shape)\n",
        "        \n",
        "        z_i = self.projector(h_i)\n",
        "        z_j = self.projector(h_j)\n",
        "        #z_i = self.projector(h_i.view(-1, 64*15))\n",
        "        #z_j = self.projector(h_j.view(-1, 64*15))\n",
        "        return h_i, h_j, z_i, z_j\n",
        "#(32768x15 and 64x64)\n",
        "def inference(model, loader):\n",
        "    embeds = dict()\n",
        "    for tracks_ids, tracks_features in loader:\n",
        "        with torch.no_grad():\n",
        "            tracks_embeds = model(tracks_features)#.view(-1, 64*15)\n",
        "            for track_id, track_embed in zip(tracks_ids, tracks_embeds):\n",
        "                embeds[track_id] = track_embed.cpu().numpy()\n",
        "    return embeds\n",
        "def inference1(model, loader):\n",
        "    embeds = dict()\n",
        "    for tracks_ids, tracks_features in loader:\n",
        "        with torch.no_grad():\n",
        "            tracks_embeds = model[1](model[0](tracks_features).view(-1, 64*15))\n",
        "            for track_id, track_embed in zip(tracks_ids, tracks_embeds):\n",
        "                embeds[track_id] = track_embed.cpu().numpy()\n",
        "    return embeds"
      ],
      "metadata": {
        "id": "9hfFqEDWTSO_"
      },
      "execution_count": 180,
      "outputs": []
    },
    {
      "cell_type": "code",
      "source": [
        "\n",
        "#parser = ArgumentParser(description='Simple naive baseline')\n",
        "#parser.add_argument('--base-dir', dest='base_dir', action='store', required=True)\n",
        "#args = parser.parse_args()\n",
        "\n",
        "base_dir = '/content'\n",
        "    # Seed\n",
        "seed = 42\n",
        "random.seed(seed)\n",
        "np.random.seed(seed)\n",
        "torch.manual_seed(seed)\n",
        "torch.cuda.manual_seed(seed)\n",
        "torch.cuda.manual_seed_all(seed)\n",
        "torch.backends.cudnn.benchmark = False\n",
        "torch.backends.cudnn.deterministic = True\n",
        "\n",
        "TRAINSET_DIRNAME = 'train_features'\n",
        "TESTSET_DIRNAME = 'test_features'\n",
        "TRAINSET_META_FILENAME = 'train_meta.tsv'\n",
        "TESTSET_META_FILENAME = 'test_meta.tsv'\n",
        "SUBMISSION_FILENAME = 'submission.txt'\n",
        "MODEL_FILENAME = 'model.pt'\n",
        "CHECKPOINT_FILENAME = 'best.pt'\n",
        "device = 'cuda' if torch.cuda.is_available() else 'cpu'\n",
        "\n",
        "BATCH_SIZE = 512\n",
        "N_CHANNELS = 128\n",
        "PROJECTION_DIM = 256\n",
        "NUM_EPOCHS = 20\n",
        "LR = 1e-4\n",
        "TEMPERATURE = 0.1\n",
        "\n",
        "TRAINSET_PATH = os.path.join(base_dir, TRAINSET_DIRNAME)\n",
        "TESTSET_PATH = os.path.join(base_dir, TESTSET_DIRNAME)\n",
        "TRAINSET_META_PATH = os.path.join(base_dir, TRAINSET_META_FILENAME)\n",
        "TESTSET_META_PATH = os.path.join(base_dir, TESTSET_META_FILENAME)\n",
        "SUBMISSION_PATH = os.path.join(base_dir, SUBMISSION_FILENAME)\n",
        "MODEL_PATH = os.path.join(base_dir, MODEL_FILENAME)\n",
        "CHECKPOINT_PATH = os.path.join(base_dir, CHECKPOINT_FILENAME)\n"
      ],
      "metadata": {
        "id": "GRGWGFHQS71E"
      },
      "execution_count": 181,
      "outputs": []
    },
    {
      "cell_type": "code",
      "source": [
        "\n",
        "sim_clr = SimCLR(\n",
        "    encoder = BasicNet(N_CHANNELS),\n",
        "    projection_dim = PROJECTION_DIM\n",
        ").to(device)\n",
        "'''\n",
        "sim_clr = SimCLR(\n",
        "    encoder = autoen.encoder,\n",
        "    projection_dim = PROJECTION_DIM\n",
        ").to(device)'''\n",
        "train_meta_info = pd.read_csv(TRAINSET_META_PATH, sep='\\t')\n",
        "#test_meta_info = pd.read_csv(TESTSET_META_PATH, sep='\\t')\n",
        "train_meta_info, validation_meta_info = train_val_split(train_meta_info, val_size=0.2)\n",
        "\n",
        "print(\"Loaded data\")\n",
        "print(\"Train set size: {}\".format(len(train_meta_info)))\n",
        "print(\"Validation set size: {}\".format(len(validation_meta_info)))\n",
        "#print(\"Test set size: {}\".format(len(test_meta_info)))\n",
        "print()\n",
        "\n",
        "print(\"Train\")\n",
        "train(\n",
        "        module = sim_clr,\n",
        "        train_loader = TrainLoader(FeaturesLoader(TRAINSET_PATH, train_meta_info, device), batch_size = BATCH_SIZE),\n",
        "        val_loader = TestLoader(FeaturesLoader(TRAINSET_PATH, validation_meta_info, device), batch_size = BATCH_SIZE),\n",
        "        valset_meta = validation_meta_info,\n",
        "        optimizer = torch.optim.Adam(sim_clr.parameters(), lr = LR),\n",
        "        criterion = NT_Xent(temperature = TEMPERATURE),\n",
        "        num_epochs = NUM_EPOCHS,\n",
        "        checkpoint_path = CHECKPOINT_PATH\n",
        ")\n",
        "\n",
        "print(\"Submission\")\n",
        "#test_loader = TestLoader(FeaturesLoader(TESTSET_PATH, test_meta_info, device), batch_size = BATCH_SIZE)\n",
        "#model = sim_clr.encoder\n",
        "#embeds = inference(model, test_loader)\n",
        "#submission = get_ranked_list(embeds, 100)\n",
        "#save_submission(submission, SUBMISSION_PATH)\n",
        "#torch.save(sim_clr.state_dict(), MODEL_PATH)"
      ],
      "metadata": {
        "colab": {
          "base_uri": "https://localhost:8080/"
        },
        "id": "RJnI5PRWaSqp",
        "outputId": "cd08613f-e570-4510-97c3-7a8eb87e4f4d"
      },
      "execution_count": null,
      "outputs": [
        {
          "output_type": "stream",
          "name": "stdout",
          "text": [
            "Loaded data\n",
            "Train set size: 39917\n",
            "Validation set size: 9949\n",
            "\n",
            "Train\n"
          ]
        },
        {
          "output_type": "stream",
          "name": "stderr",
          "text": [
            "\r0it [00:00, ?it/s]"
          ]
        },
        {
          "output_type": "stream",
          "name": "stdout",
          "text": [
            "Epoch 1/20\n"
          ]
        },
        {
          "output_type": "stream",
          "name": "stderr",
          "text": [
            "\r1it [00:03,  3.10s/it]"
          ]
        },
        {
          "output_type": "stream",
          "name": "stdout",
          "text": [
            "loss: 6.848399639129639\n",
            "avg_rank: 222.251953125\n",
            "\n",
            "Epoch 1/20\n"
          ]
        },
        {
          "output_type": "stream",
          "name": "stderr",
          "text": [
            "\r2it [00:05,  2.69s/it]"
          ]
        },
        {
          "output_type": "stream",
          "name": "stdout",
          "text": [
            "loss: 6.755856990814209\n",
            "avg_rank: 199.232421875\n",
            "\n",
            "Epoch 1/20\n"
          ]
        },
        {
          "output_type": "stream",
          "name": "stderr",
          "text": [
            "\r3it [00:07,  2.25s/it]"
          ]
        },
        {
          "output_type": "stream",
          "name": "stdout",
          "text": [
            "loss: 6.661728382110596\n",
            "avg_rank: 199.5078125\n",
            "\n",
            "Epoch 1/20\n"
          ]
        },
        {
          "output_type": "stream",
          "name": "stderr",
          "text": [
            "\r4it [00:08,  1.95s/it]"
          ]
        },
        {
          "output_type": "stream",
          "name": "stdout",
          "text": [
            "loss: 6.5314717292785645\n",
            "avg_rank: 194.091796875\n",
            "\n",
            "Epoch 1/20\n"
          ]
        },
        {
          "output_type": "stream",
          "name": "stderr",
          "text": [
            "\r5it [00:09,  1.65s/it]"
          ]
        },
        {
          "output_type": "stream",
          "name": "stdout",
          "text": [
            "loss: 6.33939790725708\n",
            "avg_rank: 185.283203125\n",
            "\n",
            "Epoch 1/20\n"
          ]
        },
        {
          "output_type": "stream",
          "name": "stderr",
          "text": [
            "\r6it [00:10,  1.38s/it]"
          ]
        },
        {
          "output_type": "stream",
          "name": "stdout",
          "text": [
            "loss: 6.248264789581299\n",
            "avg_rank: 182.705078125\n",
            "\n",
            "Epoch 1/20\n"
          ]
        },
        {
          "output_type": "stream",
          "name": "stderr",
          "text": [
            "\r7it [00:11,  1.20s/it]"
          ]
        },
        {
          "output_type": "stream",
          "name": "stdout",
          "text": [
            "loss: 6.12133264541626\n",
            "avg_rank: 170.5234375\n",
            "\n",
            "Epoch 1/20\n"
          ]
        },
        {
          "output_type": "stream",
          "name": "stderr",
          "text": [
            "\r8it [00:12,  1.09s/it]"
          ]
        },
        {
          "output_type": "stream",
          "name": "stdout",
          "text": [
            "loss: 6.014343738555908\n",
            "avg_rank: 160.4921875\n",
            "\n",
            "Epoch 1/20\n"
          ]
        },
        {
          "output_type": "stream",
          "name": "stderr",
          "text": [
            "\r9it [00:13,  1.02s/it]"
          ]
        },
        {
          "output_type": "stream",
          "name": "stdout",
          "text": [
            "loss: 6.090710163116455\n",
            "avg_rank: 182.28515625\n",
            "\n",
            "Epoch 1/20\n"
          ]
        },
        {
          "output_type": "stream",
          "name": "stderr",
          "text": [
            "\r10it [00:14,  1.04it/s]"
          ]
        },
        {
          "output_type": "stream",
          "name": "stdout",
          "text": [
            "loss: 6.010486125946045\n",
            "avg_rank: 172.37890625\n",
            "\n",
            "Epoch 1/20\n"
          ]
        },
        {
          "output_type": "stream",
          "name": "stderr",
          "text": [
            "\r11it [00:14,  1.07it/s]"
          ]
        },
        {
          "output_type": "stream",
          "name": "stdout",
          "text": [
            "loss: 5.8868727684021\n",
            "avg_rank: 154.6494140625\n",
            "\n",
            "Epoch 1/20\n"
          ]
        },
        {
          "output_type": "stream",
          "name": "stderr",
          "text": [
            "\r12it [00:17,  1.55s/it]"
          ]
        },
        {
          "output_type": "stream",
          "name": "stdout",
          "text": [
            "loss: 5.852413177490234\n",
            "avg_rank: 147.9619140625\n",
            "\n",
            "Epoch 1/20\n"
          ]
        },
        {
          "output_type": "stream",
          "name": "stderr",
          "text": [
            "\r13it [00:20,  1.97s/it]"
          ]
        },
        {
          "output_type": "stream",
          "name": "stdout",
          "text": [
            "loss: 5.888524055480957\n",
            "avg_rank: 160.4443359375\n",
            "\n",
            "Epoch 1/20\n"
          ]
        },
        {
          "output_type": "stream",
          "name": "stderr",
          "text": [
            "\r14it [00:23,  2.26s/it]"
          ]
        },
        {
          "output_type": "stream",
          "name": "stdout",
          "text": [
            "loss: 5.813045978546143\n",
            "avg_rank: 149.685546875\n",
            "\n",
            "Epoch 1/20\n"
          ]
        },
        {
          "output_type": "stream",
          "name": "stderr",
          "text": [
            "\r15it [00:26,  2.44s/it]"
          ]
        },
        {
          "output_type": "stream",
          "name": "stdout",
          "text": [
            "loss: 5.810052871704102\n",
            "avg_rank: 153.515625\n",
            "\n",
            "Epoch 1/20\n"
          ]
        },
        {
          "output_type": "stream",
          "name": "stderr",
          "text": [
            "\r16it [00:29,  2.59s/it]"
          ]
        },
        {
          "output_type": "stream",
          "name": "stdout",
          "text": [
            "loss: 5.666943073272705\n",
            "avg_rank: 128.419921875\n",
            "\n",
            "Epoch 1/20\n"
          ]
        },
        {
          "output_type": "stream",
          "name": "stderr",
          "text": [
            "\r17it [00:32,  2.67s/it]"
          ]
        },
        {
          "output_type": "stream",
          "name": "stdout",
          "text": [
            "loss: 5.758700370788574\n",
            "avg_rank: 142.3994140625\n",
            "\n",
            "Epoch 1/20\n"
          ]
        },
        {
          "output_type": "stream",
          "name": "stderr",
          "text": [
            "\r18it [00:35,  2.75s/it]"
          ]
        },
        {
          "output_type": "stream",
          "name": "stdout",
          "text": [
            "loss: 5.685309410095215\n",
            "avg_rank: 126.29296875\n",
            "\n",
            "Epoch 1/20\n"
          ]
        },
        {
          "output_type": "stream",
          "name": "stderr",
          "text": [
            "\r19it [00:38,  2.79s/it]"
          ]
        },
        {
          "output_type": "stream",
          "name": "stdout",
          "text": [
            "loss: 5.455661773681641\n",
            "avg_rank: 114.1005859375\n",
            "\n",
            "Epoch 1/20\n"
          ]
        },
        {
          "output_type": "stream",
          "name": "stderr",
          "text": [
            "\r20it [00:41,  2.80s/it]"
          ]
        },
        {
          "output_type": "stream",
          "name": "stdout",
          "text": [
            "loss: 5.659786701202393\n",
            "avg_rank: 136.234375\n",
            "\n",
            "Epoch 1/20\n"
          ]
        },
        {
          "output_type": "stream",
          "name": "stderr",
          "text": [
            "\r21it [00:43,  2.82s/it]"
          ]
        },
        {
          "output_type": "stream",
          "name": "stdout",
          "text": [
            "loss: 5.518552303314209\n",
            "avg_rank: 121.0634765625\n",
            "\n",
            "Epoch 1/20\n"
          ]
        },
        {
          "output_type": "stream",
          "name": "stderr",
          "text": [
            "\r22it [00:46,  2.84s/it]"
          ]
        },
        {
          "output_type": "stream",
          "name": "stdout",
          "text": [
            "loss: 5.500095367431641\n",
            "avg_rank: 120.0947265625\n",
            "\n",
            "Epoch 1/20\n"
          ]
        },
        {
          "output_type": "stream",
          "name": "stderr",
          "text": [
            "\r23it [00:49,  2.83s/it]"
          ]
        },
        {
          "output_type": "stream",
          "name": "stdout",
          "text": [
            "loss: 5.568464756011963\n",
            "avg_rank: 118.5537109375\n",
            "\n",
            "Epoch 1/20\n"
          ]
        },
        {
          "output_type": "stream",
          "name": "stderr",
          "text": [
            "\r24it [00:52,  2.88s/it]"
          ]
        },
        {
          "output_type": "stream",
          "name": "stdout",
          "text": [
            "loss: 5.476482391357422\n",
            "avg_rank: 116.7353515625\n",
            "\n",
            "Epoch 1/20\n"
          ]
        },
        {
          "output_type": "stream",
          "name": "stderr",
          "text": [
            "\r25it [00:55,  2.93s/it]"
          ]
        },
        {
          "output_type": "stream",
          "name": "stdout",
          "text": [
            "loss: 5.445505142211914\n",
            "avg_rank: 110.0556640625\n",
            "\n",
            "Epoch 1/20\n"
          ]
        },
        {
          "output_type": "stream",
          "name": "stderr",
          "text": [
            "\r26it [00:58,  2.96s/it]"
          ]
        },
        {
          "output_type": "stream",
          "name": "stdout",
          "text": [
            "loss: 5.5308098793029785\n",
            "avg_rank: 119.8427734375\n",
            "\n",
            "Epoch 1/20\n"
          ]
        },
        {
          "output_type": "stream",
          "name": "stderr",
          "text": [
            "\r27it [01:01,  2.95s/it]"
          ]
        },
        {
          "output_type": "stream",
          "name": "stdout",
          "text": [
            "loss: 5.339969158172607\n",
            "avg_rank: 99.716796875\n",
            "\n",
            "Epoch 1/20\n"
          ]
        },
        {
          "output_type": "stream",
          "name": "stderr",
          "text": [
            "\r28it [01:04,  2.94s/it]"
          ]
        },
        {
          "output_type": "stream",
          "name": "stdout",
          "text": [
            "loss: 5.365002632141113\n",
            "avg_rank: 110.9873046875\n",
            "\n"
          ]
        }
      ]
    },
    {
      "cell_type": "markdown",
      "source": [
        "**Encoder**"
      ],
      "metadata": {
        "id": "j36BYeXHwj1F"
      }
    },
    {
      "cell_type": "code",
      "source": [
        "def train_ae(module, train_loader,optimizer, criterion, num_epochs): #, val_loader, valset_meta, optimizer, criterion, num_epochs, checkpoint_path, top_size = 100):\n",
        "    max_ndcg = None\n",
        "    losses = []\n",
        "    for epoch in range(num_epochs):\n",
        "        for tracks_ids, tracks_features in train_loader:\n",
        "            optimizer.zero_grad()\n",
        "            module.train()\n",
        "            reconstructed, _ = module(tracks_features)\n",
        "            loss = criterion(reconstructed, tracks_features)\n",
        "            loss.backward()\n",
        "            optimizer.step()\n",
        "            print(\"Epoch {}/{}\".format(epoch+1, num_epochs))\n",
        "            print(\"loss: {}\".format(loss))\n",
        "            print()\n",
        "            losses.append(loss.item())\n",
        "        '''with torch.no_grad():\n",
        "            module.eval()\n",
        "            for X_batch in val_loader:\n",
        "                X_batch = X_batch.view(-1, 3, 64, 64).float()\n",
        "                reconstructed, _ = model(X_batch.to(device))\n",
        "                loss = loss_fn(reconstructed.view(-1, 3, 64, 64), X_batch.to(device))\n",
        "                val_losses_per_epoch.append(loss.item())\n",
        "            \n",
        "            print(\"Validation nDCG on epoch {}\".format(epoch))\n",
        "            print(\"Encoder - {}\".format(val_ndcg_encoder))\n",
        "            print(\"Projector - {}\".format(val_ndcg_projector))\n",
        "            if (max_ndcg is None) or (val_ndcg_encoder > max_ndcg):\n",
        "                max_ndcg = val_ndcg_encoder\n",
        "                torch.save(model_encoder.state_dict(), checkpoint_path)'''\n",
        "    return losses"
      ],
      "metadata": {
        "id": "xCPQSH9OxdYX"
      },
      "execution_count": 11,
      "outputs": []
    },
    {
      "cell_type": "code",
      "source": [
        "\n",
        "class Autoencoder(nn.Module):\n",
        "    def __init__(self, output_features_size):\n",
        "        super().__init__()\n",
        "        self.n_features = output_features_size\n",
        "\n",
        "        self.encoder = nn.Sequential(\n",
        "            nn.Conv1d(512, self.n_features, kernel_size=3, padding=1),\n",
        "            nn.Conv1d(self.n_features, self.n_features, kernel_size=3, padding=1),\n",
        "            nn.Conv1d(self.n_features, self.n_features//2, kernel_size=3, padding=1),\n",
        "\n",
        "            nn.MaxPool1d(2, 2, return_indices=False),\n",
        "\n",
        "            nn.Conv1d(self.n_features//2, self.n_features//2, kernel_size=3, padding=1),\n",
        "            nn.Conv1d(self.n_features//2, self.n_features//4, kernel_size=3, padding=1),\n",
        "\n",
        "            nn.Conv1d(self.n_features//4, self.n_features//4, kernel_size=3, padding=1),\n",
        "            nn.Conv1d(self.n_features//4, self.n_features//8, kernel_size=3, padding=1),\n",
        "\n",
        "            nn.MaxPool1d(2, 2, return_indices=False),\n",
        "\n",
        "            nn.Conv1d(self.n_features//8, self.n_features//8, kernel_size=3, padding=1),\n",
        "            nn.Conv1d(self.n_features//8, self.n_features//8, kernel_size=3, padding=1)\n",
        "        )\n",
        "       \n",
        "        self.decoder = nn.Sequential(\n",
        "            nn.ConvTranspose1d(self.n_features//8, self.n_features//8, kernel_size=3, padding=1),\n",
        "            nn.ConvTranspose1d(self.n_features//8, self.n_features//4,stride =2, kernel_size=3, padding=0),\n",
        "           #nn.MaxUnpool1d(2),\n",
        "            nn.ConvTranspose1d(self.n_features//4, self.n_features//2, kernel_size=3, padding=1),\n",
        "            nn.ConvTranspose1d(self.n_features//2, self.n_features, kernel_size=3, padding=1),\n",
        "            #nn.MaxUnpool1d(2),\n",
        "            nn.ConvTranspose1d(self.n_features, self.n_features,stride = 2,kernel_size=2, padding=1),\n",
        "            nn.ConvTranspose1d(self.n_features, self.n_features, kernel_size=3, padding=1)\n",
        "        )\n",
        "\n",
        "    def forward(self, x):\n",
        "        print('x.shape ' , x.shape)\n",
        "        latent = self.encoder(x) #.view(-1, 512)\n",
        "        print('latent.shape ' ,latent.shape)\n",
        "        #latent = self.encoder(x)\n",
        "        reconstructed = self.decoder(latent)\n",
        "        print('reconstructed.shape ' ,reconstructed.shape)\n",
        "        return reconstructed, latent\n"
      ],
      "metadata": {
        "id": "E-MpjqMexCa6"
      },
      "execution_count": 90,
      "outputs": []
    },
    {
      "cell_type": "code",
      "source": [
        "autoen = Autoencoder(\n",
        "    output_features_size = 512,\n",
        ").to(device)"
      ],
      "metadata": {
        "id": "hD-HT2dG4RR6"
      },
      "execution_count": 102,
      "outputs": []
    },
    {
      "cell_type": "code",
      "source": [
        "losses = train_ae(module= autoen,\n",
        "         train_loader = TestLoader(FeaturesLoader(TRAINSET_PATH, validation_meta_info, device), batch_size = BATCH_SIZE),\n",
        "         optimizer = torch.optim.Adam(autoen.parameters(), lr = LR),\n",
        "         criterion = F.mse_loss,\n",
        "         num_epochs = NUM_EPOCHS)"
      ],
      "metadata": {
        "colab": {
          "base_uri": "https://localhost:8080/",
          "height": 1000
        },
        "id": "yLdIGPTN3g8D",
        "outputId": "d571afc9-932e-4215-a42f-42c509eff40b"
      },
      "execution_count": 92,
      "outputs": [
        {
          "output_type": "stream",
          "name": "stderr",
          "text": [
            "\r  0%|          | 0/9918 [00:00<?, ?it/s]"
          ]
        },
        {
          "output_type": "stream",
          "name": "stdout",
          "text": [
            "x.shape  torch.Size([512, 512, 60])\n",
            "latent.shape  torch.Size([512, 64, 15])\n",
            "reconstructed.shape  torch.Size([512, 512, 60])\n",
            "Epoch 1/20\n"
          ]
        },
        {
          "output_type": "stream",
          "name": "stderr",
          "text": [
            "\r  5%|▌         | 512/9918 [00:00<00:10, 928.30it/s]"
          ]
        },
        {
          "output_type": "stream",
          "name": "stdout",
          "text": [
            "loss: 0.2879805266857147\n",
            "\n"
          ]
        },
        {
          "output_type": "stream",
          "name": "stderr",
          "text": [
            "\r 10%|█         | 1024/9918 [00:00<00:08, 1088.17it/s]"
          ]
        },
        {
          "output_type": "stream",
          "name": "stdout",
          "text": [
            "x.shape  torch.Size([512, 512, 60])\n",
            "latent.shape  torch.Size([512, 64, 15])\n",
            "reconstructed.shape  torch.Size([512, 512, 60])\n",
            "Epoch 1/20\n",
            "loss: 0.28580787777900696\n",
            "\n"
          ]
        },
        {
          "output_type": "stream",
          "name": "stderr",
          "text": [
            "\r 15%|█▌        | 1536/9918 [00:01<00:07, 1140.60it/s]"
          ]
        },
        {
          "output_type": "stream",
          "name": "stdout",
          "text": [
            "x.shape  torch.Size([512, 512, 60])\n",
            "latent.shape  torch.Size([512, 64, 15])\n",
            "reconstructed.shape  torch.Size([512, 512, 60])\n",
            "Epoch 1/20\n",
            "loss: 0.2844337522983551\n",
            "\n"
          ]
        },
        {
          "output_type": "stream",
          "name": "stderr",
          "text": [
            "\r 21%|██        | 2048/9918 [00:01<00:06, 1175.32it/s]"
          ]
        },
        {
          "output_type": "stream",
          "name": "stdout",
          "text": [
            "x.shape  torch.Size([512, 512, 60])\n",
            "latent.shape  torch.Size([512, 64, 15])\n",
            "reconstructed.shape  torch.Size([512, 512, 60])\n",
            "Epoch 1/20\n",
            "loss: 0.2787727117538452\n",
            "\n"
          ]
        },
        {
          "output_type": "stream",
          "name": "stderr",
          "text": [
            "\r 26%|██▌       | 2560/9918 [00:02<00:06, 1185.95it/s]"
          ]
        },
        {
          "output_type": "stream",
          "name": "stdout",
          "text": [
            "x.shape  torch.Size([512, 512, 60])\n",
            "latent.shape  torch.Size([512, 64, 15])\n",
            "reconstructed.shape  torch.Size([512, 512, 60])\n",
            "Epoch 1/20\n",
            "loss: 0.2762623727321625\n",
            "\n"
          ]
        },
        {
          "output_type": "stream",
          "name": "stderr",
          "text": [
            "\r 31%|███       | 3072/9918 [00:02<00:05, 1203.55it/s]"
          ]
        },
        {
          "output_type": "stream",
          "name": "stdout",
          "text": [
            "x.shape  torch.Size([512, 512, 60])\n",
            "latent.shape  torch.Size([512, 64, 15])\n",
            "reconstructed.shape  torch.Size([512, 512, 60])\n",
            "Epoch 1/20\n",
            "loss: 0.2785797715187073\n",
            "\n"
          ]
        },
        {
          "output_type": "stream",
          "name": "stderr",
          "text": [
            "\r 36%|███▌      | 3584/9918 [00:03<00:05, 1222.77it/s]"
          ]
        },
        {
          "output_type": "stream",
          "name": "stdout",
          "text": [
            "x.shape  torch.Size([512, 512, 60])\n",
            "latent.shape  torch.Size([512, 64, 15])\n",
            "reconstructed.shape  torch.Size([512, 512, 60])\n",
            "Epoch 1/20\n",
            "loss: 0.27129262685775757\n",
            "\n"
          ]
        },
        {
          "output_type": "stream",
          "name": "stderr",
          "text": [
            "\r 41%|████▏     | 4096/9918 [00:03<00:04, 1229.34it/s]"
          ]
        },
        {
          "output_type": "stream",
          "name": "stdout",
          "text": [
            "x.shape  torch.Size([512, 512, 60])\n",
            "latent.shape  torch.Size([512, 64, 15])\n",
            "reconstructed.shape  torch.Size([512, 512, 60])\n",
            "Epoch 1/20\n",
            "loss: 0.2678282558917999\n",
            "\n"
          ]
        },
        {
          "output_type": "stream",
          "name": "stderr",
          "text": [
            "\r 46%|████▋     | 4608/9918 [00:03<00:04, 1231.73it/s]"
          ]
        },
        {
          "output_type": "stream",
          "name": "stdout",
          "text": [
            "x.shape  torch.Size([512, 512, 60])\n",
            "latent.shape  torch.Size([512, 64, 15])\n",
            "reconstructed.shape  torch.Size([512, 512, 60])\n",
            "Epoch 1/20\n",
            "loss: 0.2650681138038635\n",
            "\n"
          ]
        },
        {
          "output_type": "stream",
          "name": "stderr",
          "text": [
            "\r 52%|█████▏    | 5120/9918 [00:04<00:03, 1234.90it/s]"
          ]
        },
        {
          "output_type": "stream",
          "name": "stdout",
          "text": [
            "x.shape  torch.Size([512, 512, 60])\n",
            "latent.shape  torch.Size([512, 64, 15])\n",
            "reconstructed.shape  torch.Size([512, 512, 60])\n",
            "Epoch 1/20\n",
            "loss: 0.26070472598075867\n",
            "\n"
          ]
        },
        {
          "output_type": "stream",
          "name": "stderr",
          "text": [
            "\r 57%|█████▋    | 5632/9918 [00:04<00:03, 1239.58it/s]"
          ]
        },
        {
          "output_type": "stream",
          "name": "stdout",
          "text": [
            "x.shape  torch.Size([512, 512, 60])\n",
            "latent.shape  torch.Size([512, 64, 15])\n",
            "reconstructed.shape  torch.Size([512, 512, 60])\n",
            "Epoch 1/20\n",
            "loss: 0.2513282001018524\n",
            "\n"
          ]
        },
        {
          "output_type": "stream",
          "name": "stderr",
          "text": [
            "\r 62%|██████▏   | 6144/9918 [00:05<00:03, 1243.67it/s]"
          ]
        },
        {
          "output_type": "stream",
          "name": "stdout",
          "text": [
            "x.shape  torch.Size([512, 512, 60])\n",
            "latent.shape  torch.Size([512, 64, 15])\n",
            "reconstructed.shape  torch.Size([512, 512, 60])\n",
            "Epoch 1/20\n",
            "loss: 0.24168360233306885\n",
            "\n"
          ]
        },
        {
          "output_type": "stream",
          "name": "stderr",
          "text": [
            "\r 67%|██████▋   | 6656/9918 [00:05<00:02, 1253.68it/s]"
          ]
        },
        {
          "output_type": "stream",
          "name": "stdout",
          "text": [
            "x.shape  torch.Size([512, 512, 60])\n",
            "latent.shape  torch.Size([512, 64, 15])\n",
            "reconstructed.shape  torch.Size([512, 512, 60])\n",
            "Epoch 1/20\n",
            "loss: 0.22448395192623138\n",
            "\n"
          ]
        },
        {
          "output_type": "stream",
          "name": "stderr",
          "text": [
            "\r 72%|███████▏  | 7168/9918 [00:05<00:02, 1257.22it/s]"
          ]
        },
        {
          "output_type": "stream",
          "name": "stdout",
          "text": [
            "x.shape  torch.Size([512, 512, 60])\n",
            "latent.shape  torch.Size([512, 64, 15])\n",
            "reconstructed.shape  torch.Size([512, 512, 60])\n",
            "Epoch 1/20\n",
            "loss: 0.2001826912164688\n",
            "\n"
          ]
        },
        {
          "output_type": "stream",
          "name": "stderr",
          "text": [
            "\r 77%|███████▋  | 7680/9918 [00:06<00:01, 1255.31it/s]"
          ]
        },
        {
          "output_type": "stream",
          "name": "stdout",
          "text": [
            "x.shape  torch.Size([512, 512, 60])\n",
            "latent.shape  torch.Size([512, 64, 15])\n",
            "reconstructed.shape  torch.Size([512, 512, 60])\n",
            "Epoch 1/20\n",
            "loss: 0.16704116761684418\n",
            "\n"
          ]
        },
        {
          "output_type": "stream",
          "name": "stderr",
          "text": [
            "\r 83%|████████▎ | 8192/9918 [00:06<00:01, 1252.22it/s]"
          ]
        },
        {
          "output_type": "stream",
          "name": "stdout",
          "text": [
            "x.shape  torch.Size([512, 512, 60])\n",
            "latent.shape  torch.Size([512, 64, 15])\n",
            "reconstructed.shape  torch.Size([512, 512, 60])\n",
            "Epoch 1/20\n",
            "loss: 0.1499592512845993\n",
            "\n"
          ]
        },
        {
          "output_type": "stream",
          "name": "stderr",
          "text": [
            "\r 88%|████████▊ | 8704/9918 [00:07<00:00, 1251.01it/s]"
          ]
        },
        {
          "output_type": "stream",
          "name": "stdout",
          "text": [
            "x.shape  torch.Size([512, 512, 60])\n",
            "latent.shape  torch.Size([512, 64, 15])\n",
            "reconstructed.shape  torch.Size([512, 512, 60])\n",
            "Epoch 1/20\n",
            "loss: 0.19122540950775146\n",
            "\n"
          ]
        },
        {
          "output_type": "stream",
          "name": "stderr",
          "text": [
            "\r 93%|█████████▎| 9216/9918 [00:07<00:00, 1244.54it/s]"
          ]
        },
        {
          "output_type": "stream",
          "name": "stdout",
          "text": [
            "x.shape  torch.Size([512, 512, 60])\n",
            "latent.shape  torch.Size([512, 64, 15])\n",
            "reconstructed.shape  torch.Size([512, 512, 60])\n",
            "Epoch 1/20\n",
            "loss: 0.16031844913959503\n",
            "\n"
          ]
        },
        {
          "output_type": "stream",
          "name": "stderr",
          "text": [
            "100%|██████████| 9918/9918 [00:07<00:00, 1244.74it/s]"
          ]
        },
        {
          "output_type": "stream",
          "name": "stdout",
          "text": [
            "x.shape  torch.Size([512, 512, 60])\n",
            "latent.shape  torch.Size([512, 64, 15])\n",
            "reconstructed.shape  torch.Size([512, 512, 60])\n",
            "Epoch 1/20\n",
            "loss: 0.14341843128204346\n",
            "\n"
          ]
        },
        {
          "output_type": "stream",
          "name": "stderr",
          "text": [
            "\n"
          ]
        },
        {
          "output_type": "stream",
          "name": "stdout",
          "text": [
            "x.shape  torch.Size([190, 512, 60])\n",
            "latent.shape  torch.Size([190, 64, 15])\n",
            "reconstructed.shape  torch.Size([190, 512, 60])\n",
            "Epoch 1/20\n",
            "loss: 0.1409786194562912\n",
            "\n"
          ]
        },
        {
          "output_type": "stream",
          "name": "stderr",
          "text": [
            "  5%|▌         | 512/9918 [00:00<00:07, 1247.04it/s]"
          ]
        },
        {
          "output_type": "stream",
          "name": "stdout",
          "text": [
            "x.shape  torch.Size([512, 512, 60])\n",
            "latent.shape  torch.Size([512, 64, 15])\n",
            "reconstructed.shape  torch.Size([512, 512, 60])\n",
            "Epoch 2/20\n",
            "loss: 0.14897902309894562\n",
            "\n"
          ]
        },
        {
          "output_type": "stream",
          "name": "stderr",
          "text": [
            "\r 10%|█         | 1024/9918 [00:00<00:07, 1235.60it/s]"
          ]
        },
        {
          "output_type": "stream",
          "name": "stdout",
          "text": [
            "x.shape  torch.Size([512, 512, 60])\n",
            "latent.shape  torch.Size([512, 64, 15])\n",
            "reconstructed.shape  torch.Size([512, 512, 60])\n",
            "Epoch 2/20\n",
            "loss: 0.15453845262527466\n",
            "\n"
          ]
        },
        {
          "output_type": "stream",
          "name": "stderr",
          "text": [
            "\r 15%|█▌        | 1536/9918 [00:01<00:06, 1236.02it/s]"
          ]
        },
        {
          "output_type": "stream",
          "name": "stdout",
          "text": [
            "x.shape  torch.Size([512, 512, 60])\n",
            "latent.shape  torch.Size([512, 64, 15])\n",
            "reconstructed.shape  torch.Size([512, 512, 60])\n",
            "Epoch 2/20\n",
            "loss: 0.15582135319709778\n",
            "\n"
          ]
        },
        {
          "output_type": "stream",
          "name": "stderr",
          "text": [
            "\r 21%|██        | 2048/9918 [00:01<00:06, 1233.45it/s]"
          ]
        },
        {
          "output_type": "stream",
          "name": "stdout",
          "text": [
            "x.shape  torch.Size([512, 512, 60])\n",
            "latent.shape  torch.Size([512, 64, 15])\n",
            "reconstructed.shape  torch.Size([512, 512, 60])\n",
            "Epoch 2/20\n",
            "loss: 0.15188723802566528\n",
            "\n"
          ]
        },
        {
          "output_type": "stream",
          "name": "stderr",
          "text": [
            "\r 26%|██▌       | 2560/9918 [00:02<00:05, 1239.66it/s]"
          ]
        },
        {
          "output_type": "stream",
          "name": "stdout",
          "text": [
            "x.shape  torch.Size([512, 512, 60])\n",
            "latent.shape  torch.Size([512, 64, 15])\n",
            "reconstructed.shape  torch.Size([512, 512, 60])\n",
            "Epoch 2/20\n",
            "loss: 0.14574506878852844\n",
            "\n"
          ]
        },
        {
          "output_type": "stream",
          "name": "stderr",
          "text": [
            "\r 31%|███       | 3072/9918 [00:02<00:05, 1242.81it/s]"
          ]
        },
        {
          "output_type": "stream",
          "name": "stdout",
          "text": [
            "x.shape  torch.Size([512, 512, 60])\n",
            "latent.shape  torch.Size([512, 64, 15])\n",
            "reconstructed.shape  torch.Size([512, 512, 60])\n",
            "Epoch 2/20\n",
            "loss: 0.14251106977462769\n",
            "\n"
          ]
        },
        {
          "output_type": "stream",
          "name": "stderr",
          "text": [
            "\r 36%|███▌      | 3584/9918 [00:02<00:05, 1242.54it/s]"
          ]
        },
        {
          "output_type": "stream",
          "name": "stdout",
          "text": [
            "x.shape  torch.Size([512, 512, 60])\n",
            "latent.shape  torch.Size([512, 64, 15])\n",
            "reconstructed.shape  torch.Size([512, 512, 60])\n",
            "Epoch 2/20\n",
            "loss: 0.13367648422718048\n",
            "\n"
          ]
        },
        {
          "output_type": "stream",
          "name": "stderr",
          "text": [
            "\r 41%|████▏     | 4096/9918 [00:03<00:04, 1233.39it/s]"
          ]
        },
        {
          "output_type": "stream",
          "name": "stdout",
          "text": [
            "x.shape  torch.Size([512, 512, 60])\n",
            "latent.shape  torch.Size([512, 64, 15])\n",
            "reconstructed.shape  torch.Size([512, 512, 60])\n",
            "Epoch 2/20\n",
            "loss: 0.13287940621376038\n",
            "\n"
          ]
        },
        {
          "output_type": "stream",
          "name": "stderr",
          "text": [
            "\r 46%|████▋     | 4608/9918 [00:03<00:04, 1240.68it/s]"
          ]
        },
        {
          "output_type": "stream",
          "name": "stdout",
          "text": [
            "x.shape  torch.Size([512, 512, 60])\n",
            "latent.shape  torch.Size([512, 64, 15])\n",
            "reconstructed.shape  torch.Size([512, 512, 60])\n",
            "Epoch 2/20\n",
            "loss: 0.13814692199230194\n",
            "\n"
          ]
        },
        {
          "output_type": "stream",
          "name": "stderr",
          "text": [
            "\r 52%|█████▏    | 5120/9918 [00:04<00:03, 1247.96it/s]"
          ]
        },
        {
          "output_type": "stream",
          "name": "stdout",
          "text": [
            "x.shape  torch.Size([512, 512, 60])\n",
            "latent.shape  torch.Size([512, 64, 15])\n",
            "reconstructed.shape  torch.Size([512, 512, 60])\n",
            "Epoch 2/20\n",
            "loss: 0.14407558739185333\n",
            "\n"
          ]
        },
        {
          "output_type": "stream",
          "name": "stderr",
          "text": [
            "\r 57%|█████▋    | 5632/9918 [00:04<00:03, 1255.01it/s]"
          ]
        },
        {
          "output_type": "stream",
          "name": "stdout",
          "text": [
            "x.shape  torch.Size([512, 512, 60])\n",
            "latent.shape  torch.Size([512, 64, 15])\n",
            "reconstructed.shape  torch.Size([512, 512, 60])\n",
            "Epoch 2/20\n",
            "loss: 0.13967148959636688\n",
            "\n"
          ]
        },
        {
          "output_type": "stream",
          "name": "stderr",
          "text": [
            "\r 62%|██████▏   | 6144/9918 [00:04<00:02, 1260.05it/s]"
          ]
        },
        {
          "output_type": "stream",
          "name": "stdout",
          "text": [
            "x.shape  torch.Size([512, 512, 60])\n",
            "latent.shape  torch.Size([512, 64, 15])\n",
            "reconstructed.shape  torch.Size([512, 512, 60])\n",
            "Epoch 2/20\n",
            "loss: 0.13476550579071045\n",
            "\n"
          ]
        },
        {
          "output_type": "stream",
          "name": "stderr",
          "text": [
            "\r 67%|██████▋   | 6656/9918 [00:05<00:02, 1241.18it/s]"
          ]
        },
        {
          "output_type": "stream",
          "name": "stdout",
          "text": [
            "x.shape  torch.Size([512, 512, 60])\n",
            "latent.shape  torch.Size([512, 64, 15])\n",
            "reconstructed.shape  torch.Size([512, 512, 60])\n",
            "Epoch 2/20\n",
            "loss: 0.1325841248035431\n",
            "\n"
          ]
        },
        {
          "output_type": "stream",
          "name": "stderr",
          "text": [
            "\r 72%|███████▏  | 7168/9918 [00:05<00:02, 1242.93it/s]"
          ]
        },
        {
          "output_type": "stream",
          "name": "stdout",
          "text": [
            "x.shape  torch.Size([512, 512, 60])\n",
            "latent.shape  torch.Size([512, 64, 15])\n",
            "reconstructed.shape  torch.Size([512, 512, 60])\n",
            "Epoch 2/20\n",
            "loss: 0.13340896368026733\n",
            "\n"
          ]
        },
        {
          "output_type": "stream",
          "name": "stderr",
          "text": [
            "\r 77%|███████▋  | 7680/9918 [00:06<00:01, 1231.79it/s]"
          ]
        },
        {
          "output_type": "stream",
          "name": "stdout",
          "text": [
            "x.shape  torch.Size([512, 512, 60])\n",
            "latent.shape  torch.Size([512, 64, 15])\n",
            "reconstructed.shape  torch.Size([512, 512, 60])\n",
            "Epoch 2/20\n",
            "loss: 0.13459627330303192\n",
            "\n"
          ]
        },
        {
          "output_type": "stream",
          "name": "stderr",
          "text": [
            "\r 83%|████████▎ | 8192/9918 [00:06<00:01, 1239.85it/s]"
          ]
        },
        {
          "output_type": "stream",
          "name": "stdout",
          "text": [
            "x.shape  torch.Size([512, 512, 60])\n",
            "latent.shape  torch.Size([512, 64, 15])\n",
            "reconstructed.shape  torch.Size([512, 512, 60])\n",
            "Epoch 2/20\n",
            "loss: 0.13740114867687225\n",
            "\n"
          ]
        },
        {
          "output_type": "stream",
          "name": "stderr",
          "text": [
            "\r 88%|████████▊ | 8704/9918 [00:07<00:00, 1247.53it/s]"
          ]
        },
        {
          "output_type": "stream",
          "name": "stdout",
          "text": [
            "x.shape  torch.Size([512, 512, 60])\n",
            "latent.shape  torch.Size([512, 64, 15])\n",
            "reconstructed.shape  torch.Size([512, 512, 60])\n",
            "Epoch 2/20\n",
            "loss: 0.13355223834514618\n",
            "\n"
          ]
        },
        {
          "output_type": "stream",
          "name": "stderr",
          "text": [
            "\r 93%|█████████▎| 9216/9918 [00:07<00:00, 1244.49it/s]"
          ]
        },
        {
          "output_type": "stream",
          "name": "stdout",
          "text": [
            "x.shape  torch.Size([512, 512, 60])\n",
            "latent.shape  torch.Size([512, 64, 15])\n",
            "reconstructed.shape  torch.Size([512, 512, 60])\n",
            "Epoch 2/20\n",
            "loss: 0.1346031278371811\n",
            "\n"
          ]
        },
        {
          "output_type": "stream",
          "name": "stderr",
          "text": [
            "100%|██████████| 9918/9918 [00:07<00:00, 1268.06it/s]"
          ]
        },
        {
          "output_type": "stream",
          "name": "stdout",
          "text": [
            "x.shape  torch.Size([512, 512, 60])\n",
            "latent.shape  torch.Size([512, 64, 15])\n",
            "reconstructed.shape  torch.Size([512, 512, 60])\n",
            "Epoch 2/20\n",
            "loss: 0.1360306441783905\n",
            "\n"
          ]
        },
        {
          "output_type": "stream",
          "name": "stderr",
          "text": [
            "\n"
          ]
        },
        {
          "output_type": "stream",
          "name": "stdout",
          "text": [
            "x.shape  torch.Size([190, 512, 60])\n",
            "latent.shape  torch.Size([190, 64, 15])\n",
            "reconstructed.shape  torch.Size([190, 512, 60])\n",
            "Epoch 2/20\n",
            "loss: 0.1301201730966568\n",
            "\n"
          ]
        },
        {
          "output_type": "stream",
          "name": "stderr",
          "text": [
            "  5%|▌         | 512/9918 [00:00<00:13, 696.93it/s]"
          ]
        },
        {
          "output_type": "stream",
          "name": "stdout",
          "text": [
            "x.shape  torch.Size([512, 512, 60])\n",
            "latent.shape  torch.Size([512, 64, 15])\n",
            "reconstructed.shape  torch.Size([512, 512, 60])\n",
            "Epoch 3/20\n",
            "loss: 0.13079462945461273\n",
            "\n"
          ]
        },
        {
          "output_type": "stream",
          "name": "stderr",
          "text": [
            "\r 10%|█         | 1024/9918 [00:01<00:09, 948.21it/s]"
          ]
        },
        {
          "output_type": "stream",
          "name": "stdout",
          "text": [
            "x.shape  torch.Size([512, 512, 60])\n",
            "latent.shape  torch.Size([512, 64, 15])\n",
            "reconstructed.shape  torch.Size([512, 512, 60])\n",
            "Epoch 3/20\n",
            "loss: 0.13251517713069916\n",
            "\n"
          ]
        },
        {
          "output_type": "stream",
          "name": "stderr",
          "text": [
            "\r 15%|█▌        | 1536/9918 [00:01<00:10, 779.16it/s]"
          ]
        },
        {
          "output_type": "stream",
          "name": "stdout",
          "text": [
            "x.shape  torch.Size([512, 512, 60])\n",
            "latent.shape  torch.Size([512, 64, 15])\n",
            "reconstructed.shape  torch.Size([512, 512, 60])\n",
            "Epoch 3/20\n",
            "loss: 0.1337347775697708\n",
            "\n"
          ]
        },
        {
          "output_type": "stream",
          "name": "stderr",
          "text": [
            "\r 21%|██        | 2048/9918 [00:02<00:08, 920.31it/s]"
          ]
        },
        {
          "output_type": "stream",
          "name": "stdout",
          "text": [
            "x.shape  torch.Size([512, 512, 60])\n",
            "latent.shape  torch.Size([512, 64, 15])\n",
            "reconstructed.shape  torch.Size([512, 512, 60])\n",
            "Epoch 3/20\n",
            "loss: 0.13300727307796478\n",
            "\n"
          ]
        },
        {
          "output_type": "stream",
          "name": "stderr",
          "text": [
            "\r 26%|██▌       | 2560/9918 [00:03<00:08, 843.43it/s]"
          ]
        },
        {
          "output_type": "stream",
          "name": "stdout",
          "text": [
            "x.shape  torch.Size([512, 512, 60])\n",
            "latent.shape  torch.Size([512, 64, 15])\n",
            "reconstructed.shape  torch.Size([512, 512, 60])\n",
            "Epoch 3/20\n",
            "loss: 0.13075560331344604\n",
            "\n"
          ]
        },
        {
          "output_type": "stream",
          "name": "stderr",
          "text": [
            "\r 31%|███       | 3072/9918 [00:03<00:07, 944.29it/s]"
          ]
        },
        {
          "output_type": "stream",
          "name": "stdout",
          "text": [
            "x.shape  torch.Size([512, 512, 60])\n",
            "latent.shape  torch.Size([512, 64, 15])\n",
            "reconstructed.shape  torch.Size([512, 512, 60])\n",
            "Epoch 3/20\n",
            "loss: 0.13264372944831848\n",
            "\n"
          ]
        },
        {
          "output_type": "stream",
          "name": "stderr",
          "text": [
            "\r 36%|███▌      | 3584/9918 [00:03<00:06, 1024.33it/s]"
          ]
        },
        {
          "output_type": "stream",
          "name": "stdout",
          "text": [
            "x.shape  torch.Size([512, 512, 60])\n",
            "latent.shape  torch.Size([512, 64, 15])\n",
            "reconstructed.shape  torch.Size([512, 512, 60])\n",
            "Epoch 3/20\n",
            "loss: 0.12967082858085632\n",
            "\n"
          ]
        },
        {
          "output_type": "stream",
          "name": "stderr",
          "text": [
            "\r 41%|████▏     | 4096/9918 [00:04<00:05, 1086.71it/s]"
          ]
        },
        {
          "output_type": "stream",
          "name": "stdout",
          "text": [
            "x.shape  torch.Size([512, 512, 60])\n",
            "latent.shape  torch.Size([512, 64, 15])\n",
            "reconstructed.shape  torch.Size([512, 512, 60])\n",
            "Epoch 3/20\n",
            "loss: 0.13064728677272797\n",
            "\n"
          ]
        },
        {
          "output_type": "stream",
          "name": "stderr",
          "text": [
            "\r 46%|████▋     | 4608/9918 [00:04<00:04, 1127.80it/s]"
          ]
        },
        {
          "output_type": "stream",
          "name": "stdout",
          "text": [
            "x.shape  torch.Size([512, 512, 60])\n",
            "latent.shape  torch.Size([512, 64, 15])\n",
            "reconstructed.shape  torch.Size([512, 512, 60])\n",
            "Epoch 3/20\n",
            "loss: 0.1316199153661728\n",
            "\n"
          ]
        },
        {
          "output_type": "stream",
          "name": "stderr",
          "text": [
            "\r 52%|█████▏    | 5120/9918 [00:05<00:04, 1161.13it/s]"
          ]
        },
        {
          "output_type": "stream",
          "name": "stdout",
          "text": [
            "x.shape  torch.Size([512, 512, 60])\n",
            "latent.shape  torch.Size([512, 64, 15])\n",
            "reconstructed.shape  torch.Size([512, 512, 60])\n",
            "Epoch 3/20\n",
            "loss: 0.13287822902202606\n",
            "\n"
          ]
        },
        {
          "output_type": "stream",
          "name": "stderr",
          "text": [
            "\r 57%|█████▋    | 5632/9918 [00:05<00:03, 1179.22it/s]"
          ]
        },
        {
          "output_type": "stream",
          "name": "stdout",
          "text": [
            "x.shape  torch.Size([512, 512, 60])\n",
            "latent.shape  torch.Size([512, 64, 15])\n",
            "reconstructed.shape  torch.Size([512, 512, 60])\n",
            "Epoch 3/20\n",
            "loss: 0.1306312084197998\n",
            "\n"
          ]
        },
        {
          "output_type": "stream",
          "name": "stderr",
          "text": [
            "\r 62%|██████▏   | 6144/9918 [00:05<00:03, 1198.74it/s]"
          ]
        },
        {
          "output_type": "stream",
          "name": "stdout",
          "text": [
            "x.shape  torch.Size([512, 512, 60])\n",
            "latent.shape  torch.Size([512, 64, 15])\n",
            "reconstructed.shape  torch.Size([512, 512, 60])\n",
            "Epoch 3/20\n",
            "loss: 0.13083787262439728\n",
            "\n"
          ]
        },
        {
          "output_type": "stream",
          "name": "stderr",
          "text": [
            "\r 67%|██████▋   | 6656/9918 [00:06<00:02, 1210.41it/s]"
          ]
        },
        {
          "output_type": "stream",
          "name": "stdout",
          "text": [
            "x.shape  torch.Size([512, 512, 60])\n",
            "latent.shape  torch.Size([512, 64, 15])\n",
            "reconstructed.shape  torch.Size([512, 512, 60])\n",
            "Epoch 3/20\n",
            "loss: 0.13048329949378967\n",
            "\n"
          ]
        },
        {
          "output_type": "stream",
          "name": "stderr",
          "text": [
            "\r 72%|███████▏  | 7168/9918 [00:06<00:02, 1224.06it/s]"
          ]
        },
        {
          "output_type": "stream",
          "name": "stdout",
          "text": [
            "x.shape  torch.Size([512, 512, 60])\n",
            "latent.shape  torch.Size([512, 64, 15])\n",
            "reconstructed.shape  torch.Size([512, 512, 60])\n",
            "Epoch 3/20\n",
            "loss: 0.13023455440998077\n",
            "\n"
          ]
        },
        {
          "output_type": "stream",
          "name": "stderr",
          "text": [
            "\r 77%|███████▋  | 7680/9918 [00:07<00:01, 1229.81it/s]"
          ]
        },
        {
          "output_type": "stream",
          "name": "stdout",
          "text": [
            "x.shape  torch.Size([512, 512, 60])\n",
            "latent.shape  torch.Size([512, 64, 15])\n",
            "reconstructed.shape  torch.Size([512, 512, 60])\n",
            "Epoch 3/20\n",
            "loss: 0.12960955500602722\n",
            "\n"
          ]
        },
        {
          "output_type": "stream",
          "name": "stderr",
          "text": [
            "\r 83%|████████▎ | 8192/9918 [00:07<00:01, 1226.41it/s]"
          ]
        },
        {
          "output_type": "stream",
          "name": "stdout",
          "text": [
            "x.shape  torch.Size([512, 512, 60])\n",
            "latent.shape  torch.Size([512, 64, 15])\n",
            "reconstructed.shape  torch.Size([512, 512, 60])\n",
            "Epoch 3/20\n",
            "loss: 0.13133294880390167\n",
            "\n"
          ]
        },
        {
          "output_type": "stream",
          "name": "stderr",
          "text": [
            "\r 88%|████████▊ | 8704/9918 [00:07<00:00, 1234.39it/s]"
          ]
        },
        {
          "output_type": "stream",
          "name": "stdout",
          "text": [
            "x.shape  torch.Size([512, 512, 60])\n",
            "latent.shape  torch.Size([512, 64, 15])\n",
            "reconstructed.shape  torch.Size([512, 512, 60])\n",
            "Epoch 3/20\n",
            "loss: 0.12762483954429626\n",
            "\n"
          ]
        },
        {
          "output_type": "stream",
          "name": "stderr",
          "text": [
            "\r 93%|█████████▎| 9216/9918 [00:08<00:00, 1235.59it/s]"
          ]
        },
        {
          "output_type": "stream",
          "name": "stdout",
          "text": [
            "x.shape  torch.Size([512, 512, 60])\n",
            "latent.shape  torch.Size([512, 64, 15])\n",
            "reconstructed.shape  torch.Size([512, 512, 60])\n",
            "Epoch 3/20\n",
            "loss: 0.12935447692871094\n",
            "\n"
          ]
        },
        {
          "output_type": "stream",
          "name": "stderr",
          "text": [
            "100%|██████████| 9918/9918 [00:08<00:00, 1125.93it/s]"
          ]
        },
        {
          "output_type": "stream",
          "name": "stdout",
          "text": [
            "x.shape  torch.Size([512, 512, 60])\n",
            "latent.shape  torch.Size([512, 64, 15])\n",
            "reconstructed.shape  torch.Size([512, 512, 60])\n",
            "Epoch 3/20\n",
            "loss: 0.13237524032592773\n",
            "\n"
          ]
        },
        {
          "output_type": "stream",
          "name": "stderr",
          "text": [
            "\n"
          ]
        },
        {
          "output_type": "stream",
          "name": "stdout",
          "text": [
            "x.shape  torch.Size([190, 512, 60])\n",
            "latent.shape  torch.Size([190, 64, 15])\n",
            "reconstructed.shape  torch.Size([190, 512, 60])\n",
            "Epoch 3/20\n",
            "loss: 0.12815682590007782\n",
            "\n"
          ]
        },
        {
          "output_type": "stream",
          "name": "stderr",
          "text": [
            "  5%|▌         | 512/9918 [00:00<00:07, 1263.41it/s]"
          ]
        },
        {
          "output_type": "stream",
          "name": "stdout",
          "text": [
            "x.shape  torch.Size([512, 512, 60])\n",
            "latent.shape  torch.Size([512, 64, 15])\n",
            "reconstructed.shape  torch.Size([512, 512, 60])\n",
            "Epoch 4/20\n",
            "loss: 0.12933765351772308\n",
            "\n"
          ]
        },
        {
          "output_type": "stream",
          "name": "stderr",
          "text": [
            "\r 10%|█         | 1024/9918 [00:00<00:07, 1262.36it/s]"
          ]
        },
        {
          "output_type": "stream",
          "name": "stdout",
          "text": [
            "x.shape  torch.Size([512, 512, 60])\n",
            "latent.shape  torch.Size([512, 64, 15])\n",
            "reconstructed.shape  torch.Size([512, 512, 60])\n",
            "Epoch 4/20\n",
            "loss: 0.1303594559431076\n",
            "\n"
          ]
        },
        {
          "output_type": "stream",
          "name": "stderr",
          "text": [
            "\r 15%|█▌        | 1536/9918 [00:01<00:06, 1270.00it/s]"
          ]
        },
        {
          "output_type": "stream",
          "name": "stdout",
          "text": [
            "x.shape  torch.Size([512, 512, 60])\n",
            "latent.shape  torch.Size([512, 64, 15])\n",
            "reconstructed.shape  torch.Size([512, 512, 60])\n",
            "Epoch 4/20\n",
            "loss: 0.13051390647888184\n",
            "\n"
          ]
        },
        {
          "output_type": "stream",
          "name": "stderr",
          "text": [
            "\r 21%|██        | 2048/9918 [00:01<00:06, 1261.03it/s]"
          ]
        },
        {
          "output_type": "stream",
          "name": "stdout",
          "text": [
            "x.shape  torch.Size([512, 512, 60])\n",
            "latent.shape  torch.Size([512, 64, 15])\n",
            "reconstructed.shape  torch.Size([512, 512, 60])\n",
            "Epoch 4/20\n",
            "loss: 0.1295080929994583\n",
            "\n"
          ]
        },
        {
          "output_type": "stream",
          "name": "stderr",
          "text": [
            "\r 26%|██▌       | 2560/9918 [00:02<00:05, 1265.64it/s]"
          ]
        },
        {
          "output_type": "stream",
          "name": "stdout",
          "text": [
            "x.shape  torch.Size([512, 512, 60])\n",
            "latent.shape  torch.Size([512, 64, 15])\n",
            "reconstructed.shape  torch.Size([512, 512, 60])\n",
            "Epoch 4/20\n",
            "loss: 0.12821395695209503\n",
            "\n"
          ]
        },
        {
          "output_type": "stream",
          "name": "stderr",
          "text": [
            "\r 31%|███       | 3072/9918 [00:02<00:05, 1265.17it/s]"
          ]
        },
        {
          "output_type": "stream",
          "name": "stdout",
          "text": [
            "x.shape  torch.Size([512, 512, 60])\n",
            "latent.shape  torch.Size([512, 64, 15])\n",
            "reconstructed.shape  torch.Size([512, 512, 60])\n",
            "Epoch 4/20\n",
            "loss: 0.13121406733989716\n",
            "\n"
          ]
        },
        {
          "output_type": "stream",
          "name": "stderr",
          "text": [
            "\r 36%|███▌      | 3584/9918 [00:02<00:05, 1265.77it/s]"
          ]
        },
        {
          "output_type": "stream",
          "name": "stdout",
          "text": [
            "x.shape  torch.Size([512, 512, 60])\n",
            "latent.shape  torch.Size([512, 64, 15])\n",
            "reconstructed.shape  torch.Size([512, 512, 60])\n",
            "Epoch 4/20\n",
            "loss: 0.12843383848667145\n",
            "\n"
          ]
        },
        {
          "output_type": "stream",
          "name": "stderr",
          "text": [
            "\r 41%|████▏     | 4096/9918 [00:03<00:04, 1257.08it/s]"
          ]
        },
        {
          "output_type": "stream",
          "name": "stdout",
          "text": [
            "x.shape  torch.Size([512, 512, 60])\n",
            "latent.shape  torch.Size([512, 64, 15])\n",
            "reconstructed.shape  torch.Size([512, 512, 60])\n",
            "Epoch 4/20\n",
            "loss: 0.1291518211364746\n",
            "\n"
          ]
        },
        {
          "output_type": "stream",
          "name": "stderr",
          "text": [
            "\r 46%|████▋     | 4608/9918 [00:03<00:04, 1251.08it/s]"
          ]
        },
        {
          "output_type": "stream",
          "name": "stdout",
          "text": [
            "x.shape  torch.Size([512, 512, 60])\n",
            "latent.shape  torch.Size([512, 64, 15])\n",
            "reconstructed.shape  torch.Size([512, 512, 60])\n",
            "Epoch 4/20\n",
            "loss: 0.12961822748184204\n",
            "\n"
          ]
        },
        {
          "output_type": "stream",
          "name": "stderr",
          "text": [
            "\r 52%|█████▏    | 5120/9918 [00:04<00:03, 1255.93it/s]"
          ]
        },
        {
          "output_type": "stream",
          "name": "stdout",
          "text": [
            "x.shape  torch.Size([512, 512, 60])\n",
            "latent.shape  torch.Size([512, 64, 15])\n",
            "reconstructed.shape  torch.Size([512, 512, 60])\n",
            "Epoch 4/20\n",
            "loss: 0.1307055652141571\n",
            "\n"
          ]
        },
        {
          "output_type": "stream",
          "name": "stderr",
          "text": [
            "\r 57%|█████▋    | 5632/9918 [00:04<00:03, 1265.33it/s]"
          ]
        },
        {
          "output_type": "stream",
          "name": "stdout",
          "text": [
            "x.shape  torch.Size([512, 512, 60])\n",
            "latent.shape  torch.Size([512, 64, 15])\n",
            "reconstructed.shape  torch.Size([512, 512, 60])\n",
            "Epoch 4/20\n",
            "loss: 0.12859797477722168\n",
            "\n"
          ]
        },
        {
          "output_type": "stream",
          "name": "stderr",
          "text": [
            "\r 62%|██████▏   | 6144/9918 [00:04<00:03, 1256.11it/s]"
          ]
        },
        {
          "output_type": "stream",
          "name": "stdout",
          "text": [
            "x.shape  torch.Size([512, 512, 60])\n",
            "latent.shape  torch.Size([512, 64, 15])\n",
            "reconstructed.shape  torch.Size([512, 512, 60])\n",
            "Epoch 4/20\n",
            "loss: 0.12917834520339966\n",
            "\n"
          ]
        },
        {
          "output_type": "stream",
          "name": "stderr",
          "text": [
            "\r 67%|██████▋   | 6656/9918 [00:05<00:02, 1250.88it/s]"
          ]
        },
        {
          "output_type": "stream",
          "name": "stdout",
          "text": [
            "x.shape  torch.Size([512, 512, 60])\n",
            "latent.shape  torch.Size([512, 64, 15])\n",
            "reconstructed.shape  torch.Size([512, 512, 60])\n",
            "Epoch 4/20\n",
            "loss: 0.1293020397424698\n",
            "\n"
          ]
        },
        {
          "output_type": "stream",
          "name": "stderr",
          "text": [
            "\r 72%|███████▏  | 7168/9918 [00:05<00:02, 1236.66it/s]"
          ]
        },
        {
          "output_type": "stream",
          "name": "stdout",
          "text": [
            "x.shape  torch.Size([512, 512, 60])\n",
            "latent.shape  torch.Size([512, 64, 15])\n",
            "reconstructed.shape  torch.Size([512, 512, 60])\n",
            "Epoch 4/20\n",
            "loss: 0.12924566864967346\n",
            "\n"
          ]
        },
        {
          "output_type": "stream",
          "name": "stderr",
          "text": [
            "\r 77%|███████▋  | 7680/9918 [00:06<00:02, 1025.41it/s]"
          ]
        },
        {
          "output_type": "stream",
          "name": "stdout",
          "text": [
            "x.shape  torch.Size([512, 512, 60])\n",
            "latent.shape  torch.Size([512, 64, 15])\n",
            "reconstructed.shape  torch.Size([512, 512, 60])\n",
            "Epoch 4/20\n",
            "loss: 0.1284584254026413\n",
            "\n"
          ]
        },
        {
          "output_type": "stream",
          "name": "stderr",
          "text": [
            "\r 83%|████████▎ | 8192/9918 [00:06<00:01, 1076.64it/s]"
          ]
        },
        {
          "output_type": "stream",
          "name": "stdout",
          "text": [
            "x.shape  torch.Size([512, 512, 60])\n",
            "latent.shape  torch.Size([512, 64, 15])\n",
            "reconstructed.shape  torch.Size([512, 512, 60])\n",
            "Epoch 4/20\n",
            "loss: 0.129876047372818\n",
            "\n"
          ]
        },
        {
          "output_type": "stream",
          "name": "stderr",
          "text": [
            "\r 88%|████████▊ | 8704/9918 [00:07<00:01, 1118.98it/s]"
          ]
        },
        {
          "output_type": "stream",
          "name": "stdout",
          "text": [
            "x.shape  torch.Size([512, 512, 60])\n",
            "latent.shape  torch.Size([512, 64, 15])\n",
            "reconstructed.shape  torch.Size([512, 512, 60])\n",
            "Epoch 4/20\n",
            "loss: 0.12604402005672455\n",
            "\n"
          ]
        },
        {
          "output_type": "stream",
          "name": "stderr",
          "text": [
            "\r 93%|█████████▎| 9216/9918 [00:07<00:00, 1150.90it/s]"
          ]
        },
        {
          "output_type": "stream",
          "name": "stdout",
          "text": [
            "x.shape  torch.Size([512, 512, 60])\n",
            "latent.shape  torch.Size([512, 64, 15])\n",
            "reconstructed.shape  torch.Size([512, 512, 60])\n",
            "Epoch 4/20\n",
            "loss: 0.1280164271593094\n",
            "\n"
          ]
        },
        {
          "output_type": "stream",
          "name": "stderr",
          "text": [
            "100%|██████████| 9918/9918 [00:08<00:00, 1226.28it/s]"
          ]
        },
        {
          "output_type": "stream",
          "name": "stdout",
          "text": [
            "x.shape  torch.Size([512, 512, 60])\n",
            "latent.shape  torch.Size([512, 64, 15])\n",
            "reconstructed.shape  torch.Size([512, 512, 60])\n",
            "Epoch 4/20\n",
            "loss: 0.13130468130111694\n",
            "\n"
          ]
        },
        {
          "output_type": "stream",
          "name": "stderr",
          "text": [
            "\n"
          ]
        },
        {
          "output_type": "stream",
          "name": "stdout",
          "text": [
            "x.shape  torch.Size([190, 512, 60])\n",
            "latent.shape  torch.Size([190, 64, 15])\n",
            "reconstructed.shape  torch.Size([190, 512, 60])\n",
            "Epoch 4/20\n",
            "loss: 0.12720870971679688\n",
            "\n"
          ]
        },
        {
          "output_type": "stream",
          "name": "stderr",
          "text": [
            "  5%|▌         | 512/9918 [00:00<00:09, 1013.90it/s]"
          ]
        },
        {
          "output_type": "stream",
          "name": "stdout",
          "text": [
            "x.shape  torch.Size([512, 512, 60])\n",
            "latent.shape  torch.Size([512, 64, 15])\n",
            "reconstructed.shape  torch.Size([512, 512, 60])\n",
            "Epoch 5/20\n",
            "loss: 0.12835511565208435\n",
            "\n"
          ]
        },
        {
          "output_type": "stream",
          "name": "stderr",
          "text": [
            "\r 10%|█         | 1024/9918 [00:01<00:08, 1005.91it/s]"
          ]
        },
        {
          "output_type": "stream",
          "name": "stdout",
          "text": [
            "x.shape  torch.Size([512, 512, 60])\n",
            "latent.shape  torch.Size([512, 64, 15])\n",
            "reconstructed.shape  torch.Size([512, 512, 60])\n",
            "Epoch 5/20\n",
            "loss: 0.12924104928970337\n",
            "\n"
          ]
        },
        {
          "output_type": "stream",
          "name": "stderr",
          "text": [
            "\r 15%|█▌        | 1535/9918 [00:01<00:08, 1011.71it/s]"
          ]
        },
        {
          "output_type": "stream",
          "name": "stdout",
          "text": [
            "x.shape  torch.Size([512, 512, 60])\n",
            "latent.shape  torch.Size([512, 64, 15])\n",
            "reconstructed.shape  torch.Size([512, 512, 60])\n",
            "Epoch 5/20\n"
          ]
        },
        {
          "output_type": "stream",
          "name": "stderr",
          "text": [
            "\n"
          ]
        },
        {
          "output_type": "error",
          "ename": "KeyboardInterrupt",
          "evalue": "ignored",
          "traceback": [
            "\u001b[0;31m---------------------------------------------------------------------------\u001b[0m",
            "\u001b[0;31mKeyboardInterrupt\u001b[0m                         Traceback (most recent call last)",
            "\u001b[0;32m<ipython-input-92-6aa9803fac70>\u001b[0m in \u001b[0;36m<module>\u001b[0;34m\u001b[0m\n\u001b[1;32m      3\u001b[0m          \u001b[0moptimizer\u001b[0m \u001b[0;34m=\u001b[0m \u001b[0mtorch\u001b[0m\u001b[0;34m.\u001b[0m\u001b[0moptim\u001b[0m\u001b[0;34m.\u001b[0m\u001b[0mAdam\u001b[0m\u001b[0;34m(\u001b[0m\u001b[0mautoen\u001b[0m\u001b[0;34m.\u001b[0m\u001b[0mparameters\u001b[0m\u001b[0;34m(\u001b[0m\u001b[0;34m)\u001b[0m\u001b[0;34m,\u001b[0m \u001b[0mlr\u001b[0m \u001b[0;34m=\u001b[0m \u001b[0mLR\u001b[0m\u001b[0;34m)\u001b[0m\u001b[0;34m,\u001b[0m\u001b[0;34m\u001b[0m\u001b[0;34m\u001b[0m\u001b[0m\n\u001b[1;32m      4\u001b[0m          \u001b[0mcriterion\u001b[0m \u001b[0;34m=\u001b[0m \u001b[0mF\u001b[0m\u001b[0;34m.\u001b[0m\u001b[0mmse_loss\u001b[0m\u001b[0;34m,\u001b[0m\u001b[0;34m\u001b[0m\u001b[0;34m\u001b[0m\u001b[0m\n\u001b[0;32m----> 5\u001b[0;31m          num_epochs = NUM_EPOCHS)\n\u001b[0m",
            "\u001b[0;32m<ipython-input-11-af59c1c49d69>\u001b[0m in \u001b[0;36mtrain_ae\u001b[0;34m(module, train_loader, optimizer, criterion, num_epochs)\u001b[0m\n\u001b[1;32m     11\u001b[0m             \u001b[0moptimizer\u001b[0m\u001b[0;34m.\u001b[0m\u001b[0mstep\u001b[0m\u001b[0;34m(\u001b[0m\u001b[0;34m)\u001b[0m\u001b[0;34m\u001b[0m\u001b[0;34m\u001b[0m\u001b[0m\n\u001b[1;32m     12\u001b[0m             \u001b[0mprint\u001b[0m\u001b[0;34m(\u001b[0m\u001b[0;34m\"Epoch {}/{}\"\u001b[0m\u001b[0;34m.\u001b[0m\u001b[0mformat\u001b[0m\u001b[0;34m(\u001b[0m\u001b[0mepoch\u001b[0m\u001b[0;34m+\u001b[0m\u001b[0;36m1\u001b[0m\u001b[0;34m,\u001b[0m \u001b[0mnum_epochs\u001b[0m\u001b[0;34m)\u001b[0m\u001b[0;34m)\u001b[0m\u001b[0;34m\u001b[0m\u001b[0;34m\u001b[0m\u001b[0m\n\u001b[0;32m---> 13\u001b[0;31m             \u001b[0mprint\u001b[0m\u001b[0;34m(\u001b[0m\u001b[0;34m\"loss: {}\"\u001b[0m\u001b[0;34m.\u001b[0m\u001b[0mformat\u001b[0m\u001b[0;34m(\u001b[0m\u001b[0mloss\u001b[0m\u001b[0;34m)\u001b[0m\u001b[0;34m)\u001b[0m\u001b[0;34m\u001b[0m\u001b[0;34m\u001b[0m\u001b[0m\n\u001b[0m\u001b[1;32m     14\u001b[0m             \u001b[0mprint\u001b[0m\u001b[0;34m(\u001b[0m\u001b[0;34m)\u001b[0m\u001b[0;34m\u001b[0m\u001b[0;34m\u001b[0m\u001b[0m\n\u001b[1;32m     15\u001b[0m             \u001b[0mlosses\u001b[0m\u001b[0;34m.\u001b[0m\u001b[0mappend\u001b[0m\u001b[0;34m(\u001b[0m\u001b[0mloss\u001b[0m\u001b[0;34m.\u001b[0m\u001b[0mitem\u001b[0m\u001b[0;34m(\u001b[0m\u001b[0;34m)\u001b[0m\u001b[0;34m)\u001b[0m\u001b[0;34m\u001b[0m\u001b[0;34m\u001b[0m\u001b[0m\n",
            "\u001b[0;32m/usr/local/lib/python3.7/dist-packages/torch/_tensor.py\u001b[0m in \u001b[0;36m__format__\u001b[0;34m(self, format_spec)\u001b[0m\n\u001b[1;32m    657\u001b[0m             \u001b[0;32mreturn\u001b[0m \u001b[0mhandle_torch_function\u001b[0m\u001b[0;34m(\u001b[0m\u001b[0mTensor\u001b[0m\u001b[0;34m.\u001b[0m\u001b[0m__format__\u001b[0m\u001b[0;34m,\u001b[0m \u001b[0;34m(\u001b[0m\u001b[0mself\u001b[0m\u001b[0;34m,\u001b[0m\u001b[0;34m)\u001b[0m\u001b[0;34m,\u001b[0m \u001b[0mself\u001b[0m\u001b[0;34m,\u001b[0m \u001b[0mformat_spec\u001b[0m\u001b[0;34m)\u001b[0m\u001b[0;34m\u001b[0m\u001b[0;34m\u001b[0m\u001b[0m\n\u001b[1;32m    658\u001b[0m         \u001b[0;32mif\u001b[0m \u001b[0mself\u001b[0m\u001b[0;34m.\u001b[0m\u001b[0mdim\u001b[0m\u001b[0;34m(\u001b[0m\u001b[0;34m)\u001b[0m \u001b[0;34m==\u001b[0m \u001b[0;36m0\u001b[0m \u001b[0;32mand\u001b[0m \u001b[0;32mnot\u001b[0m \u001b[0mself\u001b[0m\u001b[0;34m.\u001b[0m\u001b[0mis_meta\u001b[0m\u001b[0;34m:\u001b[0m\u001b[0;34m\u001b[0m\u001b[0;34m\u001b[0m\u001b[0m\n\u001b[0;32m--> 659\u001b[0;31m             \u001b[0;32mreturn\u001b[0m \u001b[0mself\u001b[0m\u001b[0;34m.\u001b[0m\u001b[0mitem\u001b[0m\u001b[0;34m(\u001b[0m\u001b[0;34m)\u001b[0m\u001b[0;34m.\u001b[0m\u001b[0m__format__\u001b[0m\u001b[0;34m(\u001b[0m\u001b[0mformat_spec\u001b[0m\u001b[0;34m)\u001b[0m\u001b[0;34m\u001b[0m\u001b[0;34m\u001b[0m\u001b[0m\n\u001b[0m\u001b[1;32m    660\u001b[0m         \u001b[0;32mreturn\u001b[0m \u001b[0mobject\u001b[0m\u001b[0;34m.\u001b[0m\u001b[0m__format__\u001b[0m\u001b[0;34m(\u001b[0m\u001b[0mself\u001b[0m\u001b[0;34m,\u001b[0m \u001b[0mformat_spec\u001b[0m\u001b[0;34m)\u001b[0m\u001b[0;34m\u001b[0m\u001b[0;34m\u001b[0m\u001b[0m\n\u001b[1;32m    661\u001b[0m \u001b[0;34m\u001b[0m\u001b[0m\n",
            "\u001b[0;31mKeyboardInterrupt\u001b[0m: "
          ]
        }
      ]
    },
    {
      "cell_type": "code",
      "source": [
        "plt.plot(losses)"
      ],
      "metadata": {
        "colab": {
          "base_uri": "https://localhost:8080/",
          "height": 171
        },
        "id": "KcIw-hlOThYq",
        "outputId": "70f36943-06ba-4fd6-cebb-8ad180fbf267"
      },
      "execution_count": 72,
      "outputs": [
        {
          "output_type": "error",
          "ename": "NameError",
          "evalue": "ignored",
          "traceback": [
            "\u001b[0;31m---------------------------------------------------------------------------\u001b[0m",
            "\u001b[0;31mNameError\u001b[0m                                 Traceback (most recent call last)",
            "\u001b[0;32m<ipython-input-72-1f71c63ba2d5>\u001b[0m in \u001b[0;36m<module>\u001b[0;34m\u001b[0m\n\u001b[0;32m----> 1\u001b[0;31m \u001b[0mplt\u001b[0m\u001b[0;34m.\u001b[0m\u001b[0mplot\u001b[0m\u001b[0;34m(\u001b[0m\u001b[0mlosses\u001b[0m\u001b[0;34m)\u001b[0m\u001b[0;34m\u001b[0m\u001b[0;34m\u001b[0m\u001b[0m\n\u001b[0m",
            "\u001b[0;31mNameError\u001b[0m: name 'plt' is not defined"
          ]
        }
      ]
    },
    {
      "cell_type": "code",
      "source": [
        "\n",
        "plt.plot(losses)"
      ],
      "metadata": {
        "colab": {
          "base_uri": "https://localhost:8080/",
          "height": 283
        },
        "id": "mrAFV0HIbv7E",
        "outputId": "a844219e-a08d-461b-effe-bea4f3217744"
      },
      "execution_count": null,
      "outputs": [
        {
          "output_type": "execute_result",
          "data": {
            "text/plain": [
              "[<matplotlib.lines.Line2D at 0x7f7c135c1f50>]"
            ]
          },
          "metadata": {},
          "execution_count": 184
        },
        {
          "output_type": "display_data",
          "data": {
            "text/plain": [
              "<Figure size 432x288 with 1 Axes>"
            ],
            "image/png": "[encoded data removed]"
          },
          "metadata": {
            "needs_background": "light"
          }
        }
      ]
    },
    {
      "cell_type": "code",
      "source": [
        "import matplotlib.pyplot as plt\n",
        "\n",
        "plt.plot(losses)"
      ],
      "metadata": {
        "colab": {
          "base_uri": "https://localhost:8080/",
          "height": 283
        },
        "id": "1ay5R_LcNkE4",
        "outputId": "a1be1a55-c58d-4a18-8b3b-2b618de63fd4"
      },
      "execution_count": 73,
      "outputs": [
        {
          "output_type": "execute_result",
          "data": {
            "text/plain": [
              "[<matplotlib.lines.Line2D at 0x7fb71e1520d0>]"
            ]
          },
          "metadata": {},
          "execution_count": 73
        },
        {
          "output_type": "display_data",
          "data": {
            "text/plain": [
              "<Figure size 432x288 with 1 Axes>"
            ],
            "image/png": "[encoded data removed]"
          },
          "metadata": {
            "needs_background": "light"
          }
        }
      ]
    }
  ]
}