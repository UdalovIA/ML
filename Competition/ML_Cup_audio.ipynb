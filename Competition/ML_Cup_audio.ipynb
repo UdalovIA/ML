{
  "nbformat": 4,
  "nbformat_minor": 0,
  "metadata": {
    "colab": {
      "provenance": [],
      "collapsed_sections": []
    },
    "kernelspec": {
      "name": "python3",
      "display_name": "Python 3"
    },
    "language_info": {
      "name": "python"
    },
    "gpuClass": "standard",
    "accelerator": "GPU"
  },
  "cells": [
    {
      "cell_type": "code",
      "source": [
        "import urllib.request\n",
        "urllib.request.urlretrieve(\"https://storage.yandexcloud.net/audioml-contest22/dataset.tar.gz\", \"dataset.tar.gz\")"
      ],
      "metadata": {
        "colab": {
          "base_uri": "https://localhost:8080/",
          "height": 341
        },
        "id": "oRjPkPUbkneB",
        "outputId": "40abee0b-6087-444f-e93f-5b8fb9319128"
      },
      "execution_count": null,
      "outputs": [
        {
          "output_type": "error",
          "ename": "KeyboardInterrupt",
          "evalue": "ignored",
          "traceback": [
            "\u001b[0;31m---------------------------------------------------------------------------\u001b[0m",
            "\u001b[0;31mKeyboardInterrupt\u001b[0m                         Traceback (most recent call last)",
            "\u001b[0;32m<ipython-input-1-dc850e86a294>\u001b[0m in \u001b[0;36m<module>\u001b[0;34m\u001b[0m\n\u001b[1;32m      1\u001b[0m \u001b[0;32mimport\u001b[0m \u001b[0murllib\u001b[0m\u001b[0;34m.\u001b[0m\u001b[0mrequest\u001b[0m\u001b[0;34m\u001b[0m\u001b[0;34m\u001b[0m\u001b[0m\n\u001b[0;32m----> 2\u001b[0;31m \u001b[0murllib\u001b[0m\u001b[0;34m.\u001b[0m\u001b[0mrequest\u001b[0m\u001b[0;34m.\u001b[0m\u001b[0murlretrieve\u001b[0m\u001b[0;34m(\u001b[0m\u001b[0;34m\"https://storage.yandexcloud.net/audioml-contest22/dataset.tar.gz\"\u001b[0m\u001b[0;34m,\u001b[0m \u001b[0;34m\"dataset.tar.gz\"\u001b[0m\u001b[0;34m)\u001b[0m\u001b[0;34m\u001b[0m\u001b[0;34m\u001b[0m\u001b[0m\n\u001b[0m",
            "\u001b[0;32m/usr/lib/python3.7/urllib/request.py\u001b[0m in \u001b[0;36murlretrieve\u001b[0;34m(url, filename, reporthook, data)\u001b[0m\n\u001b[1;32m    274\u001b[0m \u001b[0;34m\u001b[0m\u001b[0m\n\u001b[1;32m    275\u001b[0m             \u001b[0;32mwhile\u001b[0m \u001b[0;32mTrue\u001b[0m\u001b[0;34m:\u001b[0m\u001b[0;34m\u001b[0m\u001b[0;34m\u001b[0m\u001b[0m\n\u001b[0;32m--> 276\u001b[0;31m                 \u001b[0mblock\u001b[0m \u001b[0;34m=\u001b[0m \u001b[0mfp\u001b[0m\u001b[0;34m.\u001b[0m\u001b[0mread\u001b[0m\u001b[0;34m(\u001b[0m\u001b[0mbs\u001b[0m\u001b[0;34m)\u001b[0m\u001b[0;34m\u001b[0m\u001b[0;34m\u001b[0m\u001b[0m\n\u001b[0m\u001b[1;32m    277\u001b[0m                 \u001b[0;32mif\u001b[0m \u001b[0;32mnot\u001b[0m \u001b[0mblock\u001b[0m\u001b[0;34m:\u001b[0m\u001b[0;34m\u001b[0m\u001b[0;34m\u001b[0m\u001b[0m\n\u001b[1;32m    278\u001b[0m                     \u001b[0;32mbreak\u001b[0m\u001b[0;34m\u001b[0m\u001b[0;34m\u001b[0m\u001b[0m\n",
            "\u001b[0;32m/usr/lib/python3.7/http/client.py\u001b[0m in \u001b[0;36mread\u001b[0;34m(self, amt)\u001b[0m\n\u001b[1;32m    463\u001b[0m             \u001b[0;31m# Amount is given, implement using readinto\u001b[0m\u001b[0;34m\u001b[0m\u001b[0;34m\u001b[0m\u001b[0;34m\u001b[0m\u001b[0m\n\u001b[1;32m    464\u001b[0m             \u001b[0mb\u001b[0m \u001b[0;34m=\u001b[0m \u001b[0mbytearray\u001b[0m\u001b[0;34m(\u001b[0m\u001b[0mamt\u001b[0m\u001b[0;34m)\u001b[0m\u001b[0;34m\u001b[0m\u001b[0;34m\u001b[0m\u001b[0m\n\u001b[0;32m--> 465\u001b[0;31m             \u001b[0mn\u001b[0m \u001b[0;34m=\u001b[0m \u001b[0mself\u001b[0m\u001b[0;34m.\u001b[0m\u001b[0mreadinto\u001b[0m\u001b[0;34m(\u001b[0m\u001b[0mb\u001b[0m\u001b[0;34m)\u001b[0m\u001b[0;34m\u001b[0m\u001b[0;34m\u001b[0m\u001b[0m\n\u001b[0m\u001b[1;32m    466\u001b[0m             \u001b[0;32mreturn\u001b[0m \u001b[0mmemoryview\u001b[0m\u001b[0;34m(\u001b[0m\u001b[0mb\u001b[0m\u001b[0;34m)\u001b[0m\u001b[0;34m[\u001b[0m\u001b[0;34m:\u001b[0m\u001b[0mn\u001b[0m\u001b[0;34m]\u001b[0m\u001b[0;34m.\u001b[0m\u001b[0mtobytes\u001b[0m\u001b[0;34m(\u001b[0m\u001b[0;34m)\u001b[0m\u001b[0;34m\u001b[0m\u001b[0;34m\u001b[0m\u001b[0m\n\u001b[1;32m    467\u001b[0m         \u001b[0;32melse\u001b[0m\u001b[0;34m:\u001b[0m\u001b[0;34m\u001b[0m\u001b[0;34m\u001b[0m\u001b[0m\n",
            "\u001b[0;32m/usr/lib/python3.7/http/client.py\u001b[0m in \u001b[0;36mreadinto\u001b[0;34m(self, b)\u001b[0m\n\u001b[1;32m    507\u001b[0m         \u001b[0;31m# connection, and the user is reading more bytes than will be provided\u001b[0m\u001b[0;34m\u001b[0m\u001b[0;34m\u001b[0m\u001b[0;34m\u001b[0m\u001b[0m\n\u001b[1;32m    508\u001b[0m         \u001b[0;31m# (for example, reading in 1k chunks)\u001b[0m\u001b[0;34m\u001b[0m\u001b[0;34m\u001b[0m\u001b[0;34m\u001b[0m\u001b[0m\n\u001b[0;32m--> 509\u001b[0;31m         \u001b[0mn\u001b[0m \u001b[0;34m=\u001b[0m \u001b[0mself\u001b[0m\u001b[0;34m.\u001b[0m\u001b[0mfp\u001b[0m\u001b[0;34m.\u001b[0m\u001b[0mreadinto\u001b[0m\u001b[0;34m(\u001b[0m\u001b[0mb\u001b[0m\u001b[0;34m)\u001b[0m\u001b[0;34m\u001b[0m\u001b[0;34m\u001b[0m\u001b[0m\n\u001b[0m\u001b[1;32m    510\u001b[0m         \u001b[0;32mif\u001b[0m \u001b[0;32mnot\u001b[0m \u001b[0mn\u001b[0m \u001b[0;32mand\u001b[0m \u001b[0mb\u001b[0m\u001b[0;34m:\u001b[0m\u001b[0;34m\u001b[0m\u001b[0;34m\u001b[0m\u001b[0m\n\u001b[1;32m    511\u001b[0m             \u001b[0;31m# Ideally, we would raise IncompleteRead if the content-length\u001b[0m\u001b[0;34m\u001b[0m\u001b[0;34m\u001b[0m\u001b[0;34m\u001b[0m\u001b[0m\n",
            "\u001b[0;32m/usr/lib/python3.7/socket.py\u001b[0m in \u001b[0;36mreadinto\u001b[0;34m(self, b)\u001b[0m\n\u001b[1;32m    587\u001b[0m         \u001b[0;32mwhile\u001b[0m \u001b[0;32mTrue\u001b[0m\u001b[0;34m:\u001b[0m\u001b[0;34m\u001b[0m\u001b[0;34m\u001b[0m\u001b[0m\n\u001b[1;32m    588\u001b[0m             \u001b[0;32mtry\u001b[0m\u001b[0;34m:\u001b[0m\u001b[0;34m\u001b[0m\u001b[0;34m\u001b[0m\u001b[0m\n\u001b[0;32m--> 589\u001b[0;31m                 \u001b[0;32mreturn\u001b[0m \u001b[0mself\u001b[0m\u001b[0;34m.\u001b[0m\u001b[0m_sock\u001b[0m\u001b[0;34m.\u001b[0m\u001b[0mrecv_into\u001b[0m\u001b[0;34m(\u001b[0m\u001b[0mb\u001b[0m\u001b[0;34m)\u001b[0m\u001b[0;34m\u001b[0m\u001b[0;34m\u001b[0m\u001b[0m\n\u001b[0m\u001b[1;32m    590\u001b[0m             \u001b[0;32mexcept\u001b[0m \u001b[0mtimeout\u001b[0m\u001b[0;34m:\u001b[0m\u001b[0;34m\u001b[0m\u001b[0;34m\u001b[0m\u001b[0m\n\u001b[1;32m    591\u001b[0m                 \u001b[0mself\u001b[0m\u001b[0;34m.\u001b[0m\u001b[0m_timeout_occurred\u001b[0m \u001b[0;34m=\u001b[0m \u001b[0;32mTrue\u001b[0m\u001b[0;34m\u001b[0m\u001b[0;34m\u001b[0m\u001b[0m\n",
            "\u001b[0;32m/usr/lib/python3.7/ssl.py\u001b[0m in \u001b[0;36mrecv_into\u001b[0;34m(self, buffer, nbytes, flags)\u001b[0m\n\u001b[1;32m   1069\u001b[0m                   \u001b[0;34m\"non-zero flags not allowed in calls to recv_into() on %s\"\u001b[0m \u001b[0;34m%\u001b[0m\u001b[0;34m\u001b[0m\u001b[0;34m\u001b[0m\u001b[0m\n\u001b[1;32m   1070\u001b[0m                   self.__class__)\n\u001b[0;32m-> 1071\u001b[0;31m             \u001b[0;32mreturn\u001b[0m \u001b[0mself\u001b[0m\u001b[0;34m.\u001b[0m\u001b[0mread\u001b[0m\u001b[0;34m(\u001b[0m\u001b[0mnbytes\u001b[0m\u001b[0;34m,\u001b[0m \u001b[0mbuffer\u001b[0m\u001b[0;34m)\u001b[0m\u001b[0;34m\u001b[0m\u001b[0;34m\u001b[0m\u001b[0m\n\u001b[0m\u001b[1;32m   1072\u001b[0m         \u001b[0;32melse\u001b[0m\u001b[0;34m:\u001b[0m\u001b[0;34m\u001b[0m\u001b[0;34m\u001b[0m\u001b[0m\n\u001b[1;32m   1073\u001b[0m             \u001b[0;32mreturn\u001b[0m \u001b[0msuper\u001b[0m\u001b[0;34m(\u001b[0m\u001b[0;34m)\u001b[0m\u001b[0;34m.\u001b[0m\u001b[0mrecv_into\u001b[0m\u001b[0;34m(\u001b[0m\u001b[0mbuffer\u001b[0m\u001b[0;34m,\u001b[0m \u001b[0mnbytes\u001b[0m\u001b[0;34m,\u001b[0m \u001b[0mflags\u001b[0m\u001b[0;34m)\u001b[0m\u001b[0;34m\u001b[0m\u001b[0;34m\u001b[0m\u001b[0m\n",
            "\u001b[0;32m/usr/lib/python3.7/ssl.py\u001b[0m in \u001b[0;36mread\u001b[0;34m(self, len, buffer)\u001b[0m\n\u001b[1;32m    927\u001b[0m         \u001b[0;32mtry\u001b[0m\u001b[0;34m:\u001b[0m\u001b[0;34m\u001b[0m\u001b[0;34m\u001b[0m\u001b[0m\n\u001b[1;32m    928\u001b[0m             \u001b[0;32mif\u001b[0m \u001b[0mbuffer\u001b[0m \u001b[0;32mis\u001b[0m \u001b[0;32mnot\u001b[0m \u001b[0;32mNone\u001b[0m\u001b[0;34m:\u001b[0m\u001b[0;34m\u001b[0m\u001b[0;34m\u001b[0m\u001b[0m\n\u001b[0;32m--> 929\u001b[0;31m                 \u001b[0;32mreturn\u001b[0m \u001b[0mself\u001b[0m\u001b[0;34m.\u001b[0m\u001b[0m_sslobj\u001b[0m\u001b[0;34m.\u001b[0m\u001b[0mread\u001b[0m\u001b[0;34m(\u001b[0m\u001b[0mlen\u001b[0m\u001b[0;34m,\u001b[0m \u001b[0mbuffer\u001b[0m\u001b[0;34m)\u001b[0m\u001b[0;34m\u001b[0m\u001b[0;34m\u001b[0m\u001b[0m\n\u001b[0m\u001b[1;32m    930\u001b[0m             \u001b[0;32melse\u001b[0m\u001b[0;34m:\u001b[0m\u001b[0;34m\u001b[0m\u001b[0;34m\u001b[0m\u001b[0m\n\u001b[1;32m    931\u001b[0m                 \u001b[0;32mreturn\u001b[0m \u001b[0mself\u001b[0m\u001b[0;34m.\u001b[0m\u001b[0m_sslobj\u001b[0m\u001b[0;34m.\u001b[0m\u001b[0mread\u001b[0m\u001b[0;34m(\u001b[0m\u001b[0mlen\u001b[0m\u001b[0;34m)\u001b[0m\u001b[0;34m\u001b[0m\u001b[0;34m\u001b[0m\u001b[0m\n",
            "\u001b[0;31mKeyboardInterrupt\u001b[0m: "
          ]
        }
      ]
    },
    {
      "cell_type": "code",
      "source": [
        "#!python naive_baseline.py --features-dir /content/train_features --tracks-meta /content/train_meta.tsv --output /content/out/text.txt"
      ],
      "metadata": {
        "id": "lCRddOJi4lXy"
      },
      "execution_count": null,
      "outputs": []
    },
    {
      "cell_type": "code",
      "source": [
        "from google.colab import drive\n",
        "drive.mount('drive')\n",
        "#!cp /content/train_meta.tsv \"drive/My Drive/\""
      ],
      "metadata": {
        "colab": {
          "base_uri": "https://localhost:8080/",
          "height": 359
        },
        "id": "lXu_nlItQBL7",
        "outputId": "fb26d4fd-060b-466a-c4b7-ea1960ec98e7"
      },
      "execution_count": null,
      "outputs": [
        {
          "output_type": "error",
          "ename": "MessageError",
          "evalue": "ignored",
          "traceback": [
            "\u001b[0;31m---------------------------------------------------------------------------\u001b[0m",
            "\u001b[0;31mMessageError\u001b[0m                              Traceback (most recent call last)",
            "\u001b[0;32m<ipython-input-1-e0791a1dc2c4>\u001b[0m in \u001b[0;36m<module>\u001b[0;34m\u001b[0m\n\u001b[1;32m      1\u001b[0m \u001b[0;32mfrom\u001b[0m \u001b[0mgoogle\u001b[0m\u001b[0;34m.\u001b[0m\u001b[0mcolab\u001b[0m \u001b[0;32mimport\u001b[0m \u001b[0mdrive\u001b[0m\u001b[0;34m\u001b[0m\u001b[0;34m\u001b[0m\u001b[0m\n\u001b[0;32m----> 2\u001b[0;31m \u001b[0mdrive\u001b[0m\u001b[0;34m.\u001b[0m\u001b[0mmount\u001b[0m\u001b[0;34m(\u001b[0m\u001b[0;34m'drive'\u001b[0m\u001b[0;34m)\u001b[0m\u001b[0;34m\u001b[0m\u001b[0;34m\u001b[0m\u001b[0m\n\u001b[0m\u001b[1;32m      3\u001b[0m \u001b[0;31m#!cp /content/train_meta.tsv \"drive/My Drive/\"\u001b[0m\u001b[0;34m\u001b[0m\u001b[0;34m\u001b[0m\u001b[0;34m\u001b[0m\u001b[0m\n",
            "\u001b[0;32m/usr/local/lib/python3.7/dist-packages/google/colab/drive.py\u001b[0m in \u001b[0;36mmount\u001b[0;34m(mountpoint, force_remount, timeout_ms, readonly)\u001b[0m\n\u001b[1;32m    104\u001b[0m       \u001b[0mtimeout_ms\u001b[0m\u001b[0;34m=\u001b[0m\u001b[0mtimeout_ms\u001b[0m\u001b[0;34m,\u001b[0m\u001b[0;34m\u001b[0m\u001b[0;34m\u001b[0m\u001b[0m\n\u001b[1;32m    105\u001b[0m       \u001b[0mephemeral\u001b[0m\u001b[0;34m=\u001b[0m\u001b[0;32mTrue\u001b[0m\u001b[0;34m,\u001b[0m\u001b[0;34m\u001b[0m\u001b[0;34m\u001b[0m\u001b[0m\n\u001b[0;32m--> 106\u001b[0;31m       readonly=readonly)\n\u001b[0m\u001b[1;32m    107\u001b[0m \u001b[0;34m\u001b[0m\u001b[0m\n\u001b[1;32m    108\u001b[0m \u001b[0;34m\u001b[0m\u001b[0m\n",
            "\u001b[0;32m/usr/local/lib/python3.7/dist-packages/google/colab/drive.py\u001b[0m in \u001b[0;36m_mount\u001b[0;34m(mountpoint, force_remount, timeout_ms, ephemeral, readonly)\u001b[0m\n\u001b[1;32m    123\u001b[0m   \u001b[0;32mif\u001b[0m \u001b[0mephemeral\u001b[0m\u001b[0;34m:\u001b[0m\u001b[0;34m\u001b[0m\u001b[0;34m\u001b[0m\u001b[0m\n\u001b[1;32m    124\u001b[0m     _message.blocking_request(\n\u001b[0;32m--> 125\u001b[0;31m         'request_auth', request={'authType': 'dfs_ephemeral'}, timeout_sec=None)\n\u001b[0m\u001b[1;32m    126\u001b[0m \u001b[0;34m\u001b[0m\u001b[0m\n\u001b[1;32m    127\u001b[0m   \u001b[0mmountpoint\u001b[0m \u001b[0;34m=\u001b[0m \u001b[0m_os\u001b[0m\u001b[0;34m.\u001b[0m\u001b[0mpath\u001b[0m\u001b[0;34m.\u001b[0m\u001b[0mexpanduser\u001b[0m\u001b[0;34m(\u001b[0m\u001b[0mmountpoint\u001b[0m\u001b[0;34m)\u001b[0m\u001b[0;34m\u001b[0m\u001b[0;34m\u001b[0m\u001b[0m\n",
            "\u001b[0;32m/usr/local/lib/python3.7/dist-packages/google/colab/_message.py\u001b[0m in \u001b[0;36mblocking_request\u001b[0;34m(request_type, request, timeout_sec, parent)\u001b[0m\n\u001b[1;32m    169\u001b[0m   request_id = send_request(\n\u001b[1;32m    170\u001b[0m       request_type, request, parent=parent, expect_reply=True)\n\u001b[0;32m--> 171\u001b[0;31m   \u001b[0;32mreturn\u001b[0m \u001b[0mread_reply_from_input\u001b[0m\u001b[0;34m(\u001b[0m\u001b[0mrequest_id\u001b[0m\u001b[0;34m,\u001b[0m \u001b[0mtimeout_sec\u001b[0m\u001b[0;34m)\u001b[0m\u001b[0;34m\u001b[0m\u001b[0;34m\u001b[0m\u001b[0m\n\u001b[0m",
            "\u001b[0;32m/usr/local/lib/python3.7/dist-packages/google/colab/_message.py\u001b[0m in \u001b[0;36mread_reply_from_input\u001b[0;34m(message_id, timeout_sec)\u001b[0m\n\u001b[1;32m    100\u001b[0m         reply.get('colab_msg_id') == message_id):\n\u001b[1;32m    101\u001b[0m       \u001b[0;32mif\u001b[0m \u001b[0;34m'error'\u001b[0m \u001b[0;32min\u001b[0m \u001b[0mreply\u001b[0m\u001b[0;34m:\u001b[0m\u001b[0;34m\u001b[0m\u001b[0;34m\u001b[0m\u001b[0m\n\u001b[0;32m--> 102\u001b[0;31m         \u001b[0;32mraise\u001b[0m \u001b[0mMessageError\u001b[0m\u001b[0;34m(\u001b[0m\u001b[0mreply\u001b[0m\u001b[0;34m[\u001b[0m\u001b[0;34m'error'\u001b[0m\u001b[0;34m]\u001b[0m\u001b[0;34m)\u001b[0m\u001b[0;34m\u001b[0m\u001b[0;34m\u001b[0m\u001b[0m\n\u001b[0m\u001b[1;32m    103\u001b[0m       \u001b[0;32mreturn\u001b[0m \u001b[0mreply\u001b[0m\u001b[0;34m.\u001b[0m\u001b[0mget\u001b[0m\u001b[0;34m(\u001b[0m\u001b[0;34m'data'\u001b[0m\u001b[0;34m,\u001b[0m \u001b[0;32mNone\u001b[0m\u001b[0;34m)\u001b[0m\u001b[0;34m\u001b[0m\u001b[0;34m\u001b[0m\u001b[0m\n\u001b[1;32m    104\u001b[0m \u001b[0;34m\u001b[0m\u001b[0m\n",
            "\u001b[0;31mMessageError\u001b[0m: Error: credential propagation was unsuccessful"
          ]
        }
      ]
    },
    {
      "cell_type": "code",
      "source": [
        "import zipfile\n",
        "with zipfile.ZipFile('/content/drive/MyDrive/train_features.zip', 'r') as zip_ref:\n",
        "    zip_ref.extractall('/content/train_features')"
      ],
      "metadata": {
        "id": "0NUiJzHfpcJA"
      },
      "execution_count": null,
      "outputs": []
    },
    {
      "cell_type": "code",
      "source": [
        "import shutil\n",
        "shutil.copy(\"/content/drive/MyDrive/train_meta.tsv\", \"/content/\")"
      ],
      "metadata": {
        "colab": {
          "base_uri": "https://localhost:8080/",
          "height": 36
        },
        "id": "HwZ1NDnIqDwO",
        "outputId": "e2a8260e-8297-4ae9-d290-4431973231b9"
      },
      "execution_count": null,
      "outputs": [
        {
          "output_type": "execute_result",
          "data": {
            "text/plain": [
              "'/content/train_meta.tsv'"
            ],
            "application/vnd.google.colaboratory.intrinsic+json": {
              "type": "string"
            }
          },
          "metadata": {},
          "execution_count": 3
        }
      ]
    },
    {
      "cell_type": "code",
      "source": [
        "!cp /content/train_meta.tsv \"drive/My Drive/\""
      ],
      "metadata": {
        "id": "LlGdzwyZh7WY"
      },
      "execution_count": null,
      "outputs": []
    },
    {
      "cell_type": "code",
      "source": [
        "import tarfile\n",
        "import zipfile\n",
        "zipfile = '/content/dataset.tar.gz'\n",
        "if zipfile.endswith(\"tar.gz\"):\n",
        "    tar = tarfile.open(zipfile, \"r:gz\")\n",
        "elif zipfile.endswith(\"tar\"):\n",
        "    tar = tarfile.open(zipfile, \"r:\")\n",
        "tar.extractall()\n",
        "tar.close()  "
      ],
      "metadata": {
        "id": "T68UDBeHrk2f"
      },
      "execution_count": null,
      "outputs": []
    },
    {
      "cell_type": "code",
      "source": [
        "!pip install annoy\n"
      ],
      "metadata": {
        "colab": {
          "base_uri": "https://localhost:8080/"
        },
        "id": "Bp19pd1JriHh",
        "outputId": "bfc21228-4210-41cb-85c1-0b197f71de06"
      },
      "execution_count": null,
      "outputs": [
        {
          "output_type": "stream",
          "name": "stdout",
          "text": [
            "Looking in indexes: https://pypi.org/simple, https://us-python.pkg.dev/colab-wheels/public/simple/\n",
            "Collecting annoy\n",
            "  Downloading annoy-1.17.1.tar.gz (647 kB)\n",
            "\u001b[K     |████████████████████████████████| 647 kB 4.7 MB/s \n",
            "\u001b[?25hBuilding wheels for collected packages: annoy\n",
            "  Building wheel for annoy (setup.py) ... \u001b[?25l\u001b[?25hdone\n",
            "  Created wheel for annoy: filename=annoy-1.17.1-cp37-cp37m-linux_x86_64.whl size=395193 sha256=03310bb99eebd0238ccda55e2acbf5b895e36c9f3f89b7694755ed8f70ee06f1\n",
            "  Stored in directory: /root/.cache/pip/wheels/81/94/bf/92cb0e4fef8770fe9c6df0ba588fca30ab7c306b6048ae8a54\n",
            "Successfully built annoy\n",
            "Installing collected packages: annoy\n",
            "Successfully installed annoy-1.17.1\n"
          ]
        }
      ]
    },
    {
      "cell_type": "code",
      "source": [
        "# encoding=utf-8\n",
        "import numpy as np\n",
        "import pandas as pd\n",
        "import os\n",
        "from argparse import ArgumentParser\n",
        "from sklearn.model_selection import train_test_split\n",
        "import torch\n",
        "import torch.nn as nn\n",
        "import torch.nn.functional as F\n",
        "from scipy.spatial.distance import cdist\n",
        "from tqdm import tqdm\n",
        "import random\n",
        "import annoy"
      ],
      "metadata": {
        "id": "D7IrnlxwTZEd"
      },
      "execution_count": null,
      "outputs": []
    },
    {
      "cell_type": "code",
      "source": [],
      "metadata": {
        "id": "hp7mJx8X3Pc1"
      },
      "execution_count": null,
      "outputs": []
    },
    {
      "cell_type": "code",
      "source": [
        "\n",
        "\n",
        "# Data Loader \n",
        "\n",
        "def train_val_split(dataset, val_size = 0.2): # Сплит по artistid\n",
        "    artist_ids = dataset['artistid'].unique()\n",
        "    train_artist_ids, val_artist_ids = train_test_split(artist_ids, test_size = val_size)\n",
        "    trainset = dataset[dataset['artistid'].isin(train_artist_ids)].copy()\n",
        "    valset = dataset[dataset['artistid'].isin(val_artist_ids)].copy()\n",
        "    return trainset, valset\n",
        "\n",
        "class FeaturesLoader: \n",
        "    def __init__(self, features_dir_path, meta_info, device='cpu', crop_size = 60):\n",
        "        self.features_dir_path = features_dir_path\n",
        "        self.meta_info = meta_info\n",
        "        self.trackid2path = meta_info.set_index('trackid')['archive_features_path'].to_dict()\n",
        "        self.crop_size = crop_size\n",
        "        self.device = device\n",
        "        \n",
        "    def _load_item(self, track_id):\n",
        "        track_features_file_path = self.trackid2path[track_id]\n",
        "        track_features = np.load(os.path.join(self.features_dir_path, track_features_file_path))\n",
        "        padding = (track_features.shape[1] - self.crop_size) // 2\n",
        "        return track_features[:, padding:padding+self.crop_size]\n",
        "    \n",
        "    def load_batch(self, tracks_ids):\n",
        "        batch = [self._load_item(track_id) for track_id in tracks_ids]\n",
        "        return torch.tensor(np.array(batch)).to(self.device)\n",
        "\n",
        "class TrainLoader:\n",
        "    def __init__(self, features_loader, batch_size = 256, features_size = (512, 60)):\n",
        "        self.features_loader = features_loader\n",
        "        self.batch_size = batch_size\n",
        "        self.features_size = features_size\n",
        "        self.artist_track_ids = self.features_loader.meta_info.groupby('artistid').agg(list)\n",
        "        \n",
        "    def _generate_pairs(self, track_ids):\n",
        "        np.random.shuffle(track_ids)\n",
        "        pairs = [track_ids[i-2:i] for i in range(2, len(track_ids)+1, 2)]\n",
        "        return pairs\n",
        "        \n",
        "    def _get_pair_ids(self):\n",
        "        artist_track_ids = self.artist_track_ids.copy()\n",
        "        artist_track_pairs = artist_track_ids['trackid'].map(self._generate_pairs)\n",
        "        for pair_ids in artist_track_pairs.explode().dropna():\n",
        "            yield pair_ids\n",
        "            \n",
        "    def _get_batch(self, batch_ids):\n",
        "        batch_ids = np.array(batch_ids).reshape(-1)\n",
        "        batch_features = self.features_loader.load_batch(batch_ids)\n",
        "        batch_features = batch_features.reshape(self.batch_size, 2, *self.features_size)\n",
        "        return batch_features\n",
        "        \n",
        "    def __iter__(self):\n",
        "        batch_ids = []\n",
        "        for pair_ids in self._get_pair_ids():\n",
        "            batch_ids.append(pair_ids)\n",
        "            if len(batch_ids) == self.batch_size:\n",
        "                batch = self._get_batch(batch_ids)\n",
        "                yield batch\n",
        "                batch_ids = []\n",
        "\n",
        "class TestLoader:\n",
        "    def __init__(self, features_loader, batch_size = 256, features_size = (512, 60)):\n",
        "        self.features_loader = features_loader\n",
        "        self.batch_size = batch_size\n",
        "        self.features_size = features_size\n",
        "        \n",
        "    def __iter__(self):\n",
        "        batch_ids = []\n",
        "        for track_id in tqdm(self.features_loader.meta_info['trackid'].values):\n",
        "            batch_ids.append(track_id)\n",
        "            if len(batch_ids) == self.batch_size:\n",
        "                yield batch_ids, self.features_loader.load_batch(batch_ids) \n",
        "                batch_ids = []\n",
        "        if len(batch_ids) > 0:\n",
        "            yield batch_ids, self.features_loader.load_batch(batch_ids) \n",
        "\n",
        "\n",
        "\n"
      ],
      "metadata": {
        "id": "xkNrd8zOhiRo"
      },
      "execution_count": null,
      "outputs": []
    },
    {
      "cell_type": "code",
      "source": [
        "FeaturesLoader.load_batch"
      ],
      "metadata": {
        "id": "qUI2-QKYB287"
      },
      "execution_count": null,
      "outputs": []
    },
    {
      "cell_type": "code",
      "source": [
        "# Loss & Metrics\n",
        "\n",
        "class NT_Xent(nn.Module):\n",
        "    def __init__(self, temperature):\n",
        "        super(NT_Xent, self).__init__()\n",
        "        self.temperature = temperature\n",
        "        self.criterion = nn.CrossEntropyLoss(reduction=\"sum\")\n",
        "        self.similarity_f = nn.CosineSimilarity(dim=2)\n",
        "\n",
        "    def mask_correlated_samples(self, batch_size):\n",
        "        N = 2 * batch_size\n",
        "        mask = torch.ones((N, N), dtype=bool)\n",
        "        mask = mask.fill_diagonal_(0)\n",
        "        for i in range(batch_size):\n",
        "            mask[i, batch_size + i] = 0\n",
        "            mask[batch_size + i, i] = 0\n",
        "        return mask\n",
        "\n",
        "    def forward(self, z_i, z_j):\n",
        "        batch_size = z_i.shape[0]\n",
        "        N = 2 * batch_size\n",
        "        z = torch.cat((z_i, z_j), dim=0)\n",
        " \n",
        "        sim = self.similarity_f(z.unsqueeze(1), z.unsqueeze(0)) / self.temperature\n",
        "        sim_i_j = torch.diag(sim, batch_size)\n",
        "        sim_j_i = torch.diag(sim, -batch_size)\n",
        "\n",
        "        mask = self.mask_correlated_samples(batch_size)\n",
        "        positive_samples = torch.cat((sim_i_j, sim_j_i), dim=0).reshape(N, 1)\n",
        "        negative_samples = sim[mask].reshape(N, -1)\n",
        "\n",
        "        labels = torch.zeros(N).to(positive_samples.device).long()\n",
        "        logits = torch.cat((positive_samples, negative_samples), dim=1)\n",
        "        loss = self.criterion(logits, labels)\n",
        "        loss /= N\n",
        "        \n",
        "        with torch.no_grad():\n",
        "            top1_negative_samples, _ = negative_samples.topk(1)\n",
        "            avg_rank = logits.argsort(descending=True).argmin(dim=1).float().mean().cpu().numpy()\n",
        "\n",
        "        return loss, avg_rank\n",
        "\n",
        "def get_ranked_list(embeds, top_size, annoy_num_trees = 32):\n",
        "    annoy_index = None\n",
        "    annoy2id = []\n",
        "    id2annoy = dict()\n",
        "    for track_id, track_embed in embeds.items():\n",
        "        id2annoy[track_id] = len(annoy2id)\n",
        "        annoy2id.append(track_id)\n",
        "        if annoy_index is None:\n",
        "            annoy_index = annoy.AnnoyIndex(len(track_embed), 'angular')\n",
        "        annoy_index.add_item(id2annoy[track_id], track_embed)\n",
        "    annoy_index.build(annoy_num_trees)\n",
        "    ranked_list = dict()\n",
        "    for track_id in embeds.keys():\n",
        "        candidates = annoy_index.get_nns_by_item(id2annoy[track_id], top_size+1)[1:] # exclude trackid itself\n",
        "        candidates = list(filter(lambda x: x != id2annoy[track_id], candidates))\n",
        "        ranked_list[track_id] = [annoy2id[candidate] for candidate in candidates]\n",
        "    return ranked_list\n",
        "\n",
        "def position_discounter(position):\n",
        "    return 1.0 / np.log2(position+1)   \n",
        "\n",
        "def get_ideal_dcg(relevant_items_count, top_size):\n",
        "    dcg = 0.0\n",
        "    for result_indx in range(min(top_size, relevant_items_count)):\n",
        "        position = result_indx + 1\n",
        "        dcg += position_discounter(position)\n",
        "    return dcg\n",
        "\n",
        "def compute_dcg(query_trackid, ranked_list, track2artist_map, top_size):\n",
        "    query_artistid = track2artist_map[query_trackid]\n",
        "    dcg = 0.0\n",
        "    for result_indx, result_trackid in enumerate(ranked_list[:top_size]):\n",
        "        assert result_trackid != query_trackid\n",
        "        position = result_indx + 1\n",
        "        discounted_position = position_discounter(position)\n",
        "        result_artistid = track2artist_map[result_trackid]\n",
        "        if result_artistid == query_artistid:\n",
        "            dcg += discounted_position\n",
        "    return dcg\n",
        "\n",
        "def eval_submission(submission, gt_meta_info, top_size = 100):\n",
        "    track2artist_map = gt_meta_info.set_index('trackid')['artistid'].to_dict()\n",
        "    artist2tracks_map = gt_meta_info.groupby('artistid').agg(list)['trackid'].to_dict()\n",
        "    ndcg_list = []\n",
        "    for query_trackid in tqdm(submission.keys()):\n",
        "        ranked_list = submission[query_trackid]\n",
        "        query_artistid = track2artist_map[query_trackid]\n",
        "        query_artist_tracks_count = len(artist2tracks_map[query_artistid])\n",
        "        ideal_dcg = get_ideal_dcg(query_artist_tracks_count-1, top_size=top_size)\n",
        "        dcg = compute_dcg(query_trackid, ranked_list, track2artist_map, top_size=top_size)\n",
        "        try:\n",
        "            ndcg_list.append(dcg/ideal_dcg)\n",
        "        except ZeroDivisionError:\n",
        "            continue\n",
        "    return np.mean(ndcg_list)\n"
      ],
      "metadata": {
        "id": "YfsRBIlbTWf_"
      },
      "execution_count": null,
      "outputs": []
    },
    {
      "cell_type": "code",
      "source": [
        "def train(module, train_loader, val_loader, valset_meta, optimizer, criterion, num_epochs, checkpoint_path, top_size = 100):\n",
        "    max_ndcg = None\n",
        "    for epoch in range(num_epochs):\n",
        "        for batch in tqdm(train_loader):\n",
        "            optimizer.zero_grad()\n",
        "            module.train()\n",
        "            x_i, x_j = batch[:, 0, :, :], batch[:, 1, :, :]\n",
        "            h_i, h_j, z_i, z_j = module(x_i, x_j)\n",
        "            loss, avg_rank = criterion(z_i, z_j)\n",
        "            loss.backward()\n",
        "            optimizer.step()\n",
        "            print(\"Epoch {}/{}\".format(epoch+1, num_epochs))\n",
        "            print(\"loss: {}\".format(loss))\n",
        "            print(\"avg_rank: {}\".format(avg_rank))\n",
        "            print()\n",
        "        \n",
        "        with torch.no_grad():\n",
        "            model_encoder = module.encoder\n",
        "            embeds_encoder = inference(model_encoder, val_loader)\n",
        "            ranked_list_encoder = get_ranked_list(embeds_encoder, top_size)\n",
        "            val_ndcg_encoder = eval_submission(ranked_list_encoder, valset_meta)\n",
        "            \n",
        "            model_projector = nn.Sequential(module.encoder, module.projector)\n",
        "            embeds_projector = inference1(model_projector, val_loader)\n",
        "            ranked_list_projector = get_ranked_list(embeds_projector, top_size)\n",
        "            val_ndcg_projector = eval_submission(ranked_list_projector, valset_meta)\n",
        "            \n",
        "            print(\"Validation nDCG on epoch {}\".format(epoch))\n",
        "            print(\"Encoder - {}\".format(val_ndcg_encoder))\n",
        "            print(\"Projector - {}\".format(val_ndcg_projector))\n",
        "            if (max_ndcg is None) or (val_ndcg_encoder > max_ndcg):\n",
        "                max_ndcg = val_ndcg_encoder\n",
        "                torch.save(model_encoder.state_dict(), checkpoint_path)\n",
        "\n",
        "def save_submission(submission, submission_path):\n",
        "    with open(submission_path, 'w') as f:\n",
        "        for query_trackid, result in submission.items():\n",
        "            f.write(\"{}\\t{}\\n\".format(query_trackid, \" \".join(map(str, result))))"
      ],
      "metadata": {
        "id": "ItXyIiD3TKJj"
      },
      "execution_count": null,
      "outputs": []
    },
    {
      "cell_type": "code",
      "source": [
        "# Train & Inference functions\n",
        "\n",
        "class BasicNet(nn.Module):\n",
        "    def __init__(self, output_features_size):\n",
        "        super().__init__()\n",
        "        self.output_features_size = output_features_size\n",
        "        self.conv_1 = nn.Conv1d(512, output_features_size, kernel_size=3, padding=1)\n",
        "        self.conv_2 = nn.Conv1d(output_features_size, output_features_size, kernel_size=3, padding=1)\n",
        "        self.mp_1 = nn.MaxPool1d(2, 2)\n",
        "        self.conv_3 = nn.Conv1d(output_features_size, output_features_size, kernel_size=3, padding=1)\n",
        "        self.conv_4 = nn.Conv1d(output_features_size, output_features_size, kernel_size=3, padding=1)\n",
        "        self.mp_2 = nn.MaxPool1d(2, 2)\n",
        "        self.conv_5 = nn.Conv1d(output_features_size, output_features_size, kernel_size=3, padding=1)\n",
        "        self.conv_6 = nn.Conv1d(output_features_size, output_features_size, kernel_size=3, padding=1)\n",
        "\n",
        "    def forward(self, x):\n",
        "        x = F.relu(self.conv_1(x))\n",
        "        x = F.relu(self.conv_2(x))\n",
        "        x = self.mp_1(x)\n",
        "        x = F.relu(self.conv_3(x))\n",
        "        x = self.conv_4(x).mean(axis = 2)\n",
        "        return x\n",
        "\n",
        "class SimCLR(nn.Module):\n",
        "    def __init__(self, encoder, projection_dim):\n",
        "        super().__init__()\n",
        "        self.encoder = encoder\n",
        "        self.n_features = 64 #encoder.output_features_size \n",
        "        self.projection_dim = projection_dim\n",
        "        self.projector = nn.Sequential(\n",
        "            nn.Linear(self.n_features*15, self.n_features, bias=False),\n",
        "            nn.ReLU(),\n",
        "            nn.Linear(self.n_features, self.projection_dim, bias=False),\n",
        "        )\n",
        "        \n",
        "    def forward(self, x_i, x_j):\n",
        "        h_i = self.encoder(x_i).view(-1, 64*15)\n",
        "        h_j = self.encoder(x_j).view(-1, 64*15)\n",
        "        #print(x_i.shape)\n",
        "\n",
        "        #print(h_i.shape)\n",
        "        #print(h_j.shape)\n",
        "        \n",
        "        z_i = self.projector(h_i)\n",
        "        z_j = self.projector(h_j)\n",
        "        #z_i = self.projector(h_i.view(-1, 64*15))\n",
        "        #z_j = self.projector(h_j.view(-1, 64*15))\n",
        "        return h_i, h_j, z_i, z_j\n",
        "#(32768x15 and 64x64)\n",
        "def inference(model, loader):\n",
        "    embeds = dict()\n",
        "    for tracks_ids, tracks_features in loader:\n",
        "        with torch.no_grad():\n",
        "            tracks_embeds = model(tracks_features).view(-1, 64*15)\n",
        "            for track_id, track_embed in zip(tracks_ids, tracks_embeds):\n",
        "                embeds[track_id] = track_embed.cpu().numpy()\n",
        "    return embeds\n",
        "def inference(model, loader):\n",
        "    embeds = dict()\n",
        "    for tracks_ids, tracks_features in loader:\n",
        "        with torch.no_grad():\n",
        "            tracks_embeds = model(tracks_features)\n",
        "            for track_id, track_embed in zip(tracks_ids, tracks_embeds):\n",
        "                embeds[track_id] = track_embed.cpu().numpy()\n",
        "    return embeds"
      ],
      "metadata": {
        "id": "9hfFqEDWTSO_"
      },
      "execution_count": null,
      "outputs": []
    },
    {
      "cell_type": "code",
      "source": [
        "\n",
        "#parser = ArgumentParser(description='Simple naive baseline')\n",
        "#parser.add_argument('--base-dir', dest='base_dir', action='store', required=True)\n",
        "#args = parser.parse_args()\n",
        "\n",
        "base_dir = '/content'\n",
        "    # Seed\n",
        "seed = 42\n",
        "random.seed(seed)\n",
        "np.random.seed(seed)\n",
        "torch.manual_seed(seed)\n",
        "torch.cuda.manual_seed(seed)\n",
        "torch.cuda.manual_seed_all(seed)\n",
        "torch.backends.cudnn.benchmark = False\n",
        "torch.backends.cudnn.deterministic = True\n",
        "\n",
        "TRAINSET_DIRNAME = 'train_features'\n",
        "TESTSET_DIRNAME = 'test_features'\n",
        "TRAINSET_META_FILENAME = 'train_meta.tsv'\n",
        "TESTSET_META_FILENAME = 'test_meta.tsv'\n",
        "SUBMISSION_FILENAME = 'submission.txt'\n",
        "MODEL_FILENAME = 'model.pt'\n",
        "CHECKPOINT_FILENAME = 'best.pt'\n",
        "device = 'cuda' if torch.cuda.is_available() else 'cpu'\n",
        "\n",
        "BATCH_SIZE = 512\n",
        "N_CHANNELS = 256\n",
        "PROJECTION_DIM = 128\n",
        "NUM_EPOCHS = 20\n",
        "LR = 1e-4\n",
        "TEMPERATURE = 0.1\n",
        "\n",
        "TRAINSET_PATH = os.path.join(base_dir, TRAINSET_DIRNAME)\n",
        "TESTSET_PATH = os.path.join(base_dir, TESTSET_DIRNAME)\n",
        "TRAINSET_META_PATH = os.path.join(base_dir, TRAINSET_META_FILENAME)\n",
        "TESTSET_META_PATH = os.path.join(base_dir, TESTSET_META_FILENAME)\n",
        "SUBMISSION_PATH = os.path.join(base_dir, SUBMISSION_FILENAME)\n",
        "MODEL_PATH = os.path.join(base_dir, MODEL_FILENAME)\n",
        "CHECKPOINT_PATH = os.path.join(base_dir, CHECKPOINT_FILENAME)\n",
        "'''\n",
        "sim_clr = SimCLR(\n",
        "    encoder = BasicNet(N_CHANNELS),\n",
        "    projection_dim = PROJECTION_DIM\n",
        ").to(device)\n",
        "'''\n",
        "sim_clr = SimCLR(\n",
        "    encoder = autoen.encoder,\n",
        "    projection_dim = PROJECTION_DIM\n",
        ").to(device)\n",
        "train_meta_info = pd.read_csv(TRAINSET_META_PATH, sep='\\t')\n",
        "#test_meta_info = pd.read_csv(TESTSET_META_PATH, sep='\\t')\n",
        "train_meta_info, validation_meta_info = train_val_split(train_meta_info, val_size=0.7)\n",
        "\n",
        "print(\"Loaded data\")\n",
        "print(\"Train set size: {}\".format(len(train_meta_info)))\n",
        "print(\"Validation set size: {}\".format(len(validation_meta_info)))\n",
        "#print(\"Test set size: {}\".format(len(test_meta_info)))\n",
        "print()\n",
        "\n",
        "print(\"Train\")\n",
        "train(\n",
        "        module = sim_clr,\n",
        "        train_loader = TrainLoader(FeaturesLoader(TRAINSET_PATH, train_meta_info, device), batch_size = BATCH_SIZE),\n",
        "        val_loader = TestLoader(FeaturesLoader(TRAINSET_PATH, validation_meta_info, device), batch_size = BATCH_SIZE),\n",
        "        valset_meta = validation_meta_info,\n",
        "        optimizer = torch.optim.Adam(sim_clr.parameters(), lr = LR),\n",
        "        criterion = NT_Xent(temperature = TEMPERATURE),\n",
        "        num_epochs = NUM_EPOCHS,\n",
        "        checkpoint_path = CHECKPOINT_PATH\n",
        ")\n",
        "\n",
        "print(\"Submission\")\n",
        "#test_loader = TestLoader(FeaturesLoader(TESTSET_PATH, test_meta_info, device), batch_size = BATCH_SIZE)\n",
        "#model = sim_clr.encoder\n",
        "#embeds = inference(model, test_loader)\n",
        "#submission = get_ranked_list(embeds, 100)\n",
        "#save_submission(submission, SUBMISSION_PATH)\n",
        "#torch.save(sim_clr.state_dict(), MODEL_PATH)"
      ],
      "metadata": {
        "colab": {
          "base_uri": "https://localhost:8080/",
          "height": 1000
        },
        "id": "GRGWGFHQS71E",
        "outputId": "1322470d-4c1f-4da3-ab99-90a381ff329f"
      },
      "execution_count": null,
      "outputs": [
        {
          "output_type": "stream",
          "name": "stdout",
          "text": [
            "Loaded data\n",
            "Train set size: 14931\n",
            "Validation set size: 34935\n",
            "\n",
            "Train\n"
          ]
        },
        {
          "output_type": "stream",
          "name": "stderr",
          "text": [
            "1it [00:02,  2.86s/it]"
          ]
        },
        {
          "output_type": "stream",
          "name": "stdout",
          "text": [
            "Epoch 1/20\n",
            "loss: 5.782120704650879\n",
            "avg_rank: 137.927734375\n",
            "\n"
          ]
        },
        {
          "output_type": "stream",
          "name": "stderr",
          "text": [
            "\r2it [00:05,  2.79s/it]"
          ]
        },
        {
          "output_type": "stream",
          "name": "stdout",
          "text": [
            "Epoch 1/20\n",
            "loss: 5.618890762329102\n",
            "avg_rank: 118.4296875\n",
            "\n"
          ]
        },
        {
          "output_type": "stream",
          "name": "stderr",
          "text": [
            "\r3it [00:08,  2.74s/it]"
          ]
        },
        {
          "output_type": "stream",
          "name": "stdout",
          "text": [
            "Epoch 1/20\n",
            "loss: 5.740687847137451\n",
            "avg_rank: 133.13671875\n",
            "\n"
          ]
        },
        {
          "output_type": "stream",
          "name": "stderr",
          "text": [
            "\r4it [00:10,  2.71s/it]"
          ]
        },
        {
          "output_type": "stream",
          "name": "stdout",
          "text": [
            "Epoch 1/20\n",
            "loss: 6.134812355041504\n",
            "avg_rank: 181.6142578125\n",
            "\n"
          ]
        },
        {
          "output_type": "stream",
          "name": "stderr",
          "text": [
            "\r5it [00:13,  2.69s/it]"
          ]
        },
        {
          "output_type": "stream",
          "name": "stdout",
          "text": [
            "Epoch 1/20\n",
            "loss: 5.833146095275879\n",
            "avg_rank: 144.828125\n",
            "\n"
          ]
        },
        {
          "output_type": "stream",
          "name": "stderr",
          "text": [
            "\r6it [00:16,  2.69s/it]"
          ]
        },
        {
          "output_type": "stream",
          "name": "stdout",
          "text": [
            "Epoch 1/20\n",
            "loss: 5.819565773010254\n",
            "avg_rank: 150.6103515625\n",
            "\n"
          ]
        },
        {
          "output_type": "stream",
          "name": "stderr",
          "text": [
            "\r7it [00:18,  2.69s/it]"
          ]
        },
        {
          "output_type": "stream",
          "name": "stdout",
          "text": [
            "Epoch 1/20\n",
            "loss: 5.913147926330566\n",
            "avg_rank: 154.2373046875\n",
            "\n"
          ]
        },
        {
          "output_type": "stream",
          "name": "stderr",
          "text": [
            "\r8it [00:21,  2.71s/it]"
          ]
        },
        {
          "output_type": "stream",
          "name": "stdout",
          "text": [
            "Epoch 1/20\n",
            "loss: 5.865423202514648\n",
            "avg_rank: 151.951171875\n",
            "\n"
          ]
        },
        {
          "output_type": "stream",
          "name": "stderr",
          "text": [
            "\r9it [00:24,  2.74s/it]"
          ]
        },
        {
          "output_type": "stream",
          "name": "stdout",
          "text": [
            "Epoch 1/20\n",
            "loss: 5.927371025085449\n",
            "avg_rank: 157.3251953125\n",
            "\n"
          ]
        },
        {
          "output_type": "stream",
          "name": "stderr",
          "text": [
            "\r10it [00:27,  2.74s/it]"
          ]
        },
        {
          "output_type": "stream",
          "name": "stdout",
          "text": [
            "Epoch 1/20\n",
            "loss: 5.812445163726807\n",
            "avg_rank: 147.75390625\n",
            "\n"
          ]
        },
        {
          "output_type": "stream",
          "name": "stderr",
          "text": [
            "\r11it [00:30,  2.73s/it]"
          ]
        },
        {
          "output_type": "stream",
          "name": "stdout",
          "text": [
            "Epoch 1/20\n",
            "loss: 5.76015567779541\n",
            "avg_rank: 139.7119140625\n",
            "\n"
          ]
        },
        {
          "output_type": "stream",
          "name": "stderr",
          "text": [
            "\r12it [00:32,  2.71s/it]"
          ]
        },
        {
          "output_type": "stream",
          "name": "stdout",
          "text": [
            "Epoch 1/20\n",
            "loss: 5.970620155334473\n",
            "avg_rank: 169.1513671875\n",
            "\n"
          ]
        },
        {
          "output_type": "stream",
          "name": "stderr",
          "text": [
            "\r13it [00:35,  2.71s/it]"
          ]
        },
        {
          "output_type": "stream",
          "name": "stdout",
          "text": [
            "Epoch 1/20\n",
            "loss: 5.756602764129639\n",
            "avg_rank: 135.806640625\n",
            "\n"
          ]
        },
        {
          "output_type": "stream",
          "name": "stderr",
          "text": [
            "14it [00:38,  2.73s/it]\n"
          ]
        },
        {
          "output_type": "stream",
          "name": "stdout",
          "text": [
            "Epoch 1/20\n",
            "loss: 5.952322483062744\n",
            "avg_rank: 166.5322265625\n",
            "\n"
          ]
        },
        {
          "output_type": "stream",
          "name": "stderr",
          "text": [
            "100%|██████████| 34935/34935 [01:22<00:00, 421.67it/s]\n"
          ]
        },
        {
          "output_type": "error",
          "ename": "TypeError",
          "evalue": "ignored",
          "traceback": [
            "\u001b[0;31m---------------------------------------------------------------------------\u001b[0m",
            "\u001b[0;31mTypeError\u001b[0m                                 Traceback (most recent call last)",
            "\u001b[0;32m<ipython-input-222-106be1eeda63>\u001b[0m in \u001b[0;36m<module>\u001b[0;34m\u001b[0m\n\u001b[1;32m     66\u001b[0m         \u001b[0mcriterion\u001b[0m \u001b[0;34m=\u001b[0m \u001b[0mNT_Xent\u001b[0m\u001b[0;34m(\u001b[0m\u001b[0mtemperature\u001b[0m \u001b[0;34m=\u001b[0m \u001b[0mTEMPERATURE\u001b[0m\u001b[0;34m)\u001b[0m\u001b[0;34m,\u001b[0m\u001b[0;34m\u001b[0m\u001b[0;34m\u001b[0m\u001b[0m\n\u001b[1;32m     67\u001b[0m         \u001b[0mnum_epochs\u001b[0m \u001b[0;34m=\u001b[0m \u001b[0mNUM_EPOCHS\u001b[0m\u001b[0;34m,\u001b[0m\u001b[0;34m\u001b[0m\u001b[0;34m\u001b[0m\u001b[0m\n\u001b[0;32m---> 68\u001b[0;31m         \u001b[0mcheckpoint_path\u001b[0m \u001b[0;34m=\u001b[0m \u001b[0mCHECKPOINT_PATH\u001b[0m\u001b[0;34m\u001b[0m\u001b[0;34m\u001b[0m\u001b[0m\n\u001b[0m\u001b[1;32m     69\u001b[0m )\n\u001b[1;32m     70\u001b[0m \u001b[0;34m\u001b[0m\u001b[0m\n",
            "\u001b[0;32m<ipython-input-23-959168bd76ef>\u001b[0m in \u001b[0;36mtrain\u001b[0;34m(module, train_loader, val_loader, valset_meta, optimizer, criterion, num_epochs, checkpoint_path, top_size)\u001b[0m\n\u001b[1;32m     18\u001b[0m             \u001b[0mmodel_encoder\u001b[0m \u001b[0;34m=\u001b[0m \u001b[0mmodule\u001b[0m\u001b[0;34m.\u001b[0m\u001b[0mencoder\u001b[0m\u001b[0;34m\u001b[0m\u001b[0;34m\u001b[0m\u001b[0m\n\u001b[1;32m     19\u001b[0m             \u001b[0membeds_encoder\u001b[0m \u001b[0;34m=\u001b[0m \u001b[0minference\u001b[0m\u001b[0;34m(\u001b[0m\u001b[0mmodel_encoder\u001b[0m\u001b[0;34m,\u001b[0m \u001b[0mval_loader\u001b[0m\u001b[0;34m)\u001b[0m\u001b[0;34m\u001b[0m\u001b[0;34m\u001b[0m\u001b[0m\n\u001b[0;32m---> 20\u001b[0;31m             \u001b[0mranked_list_encoder\u001b[0m \u001b[0;34m=\u001b[0m \u001b[0mget_ranked_list\u001b[0m\u001b[0;34m(\u001b[0m\u001b[0membeds_encoder\u001b[0m\u001b[0;34m,\u001b[0m \u001b[0mtop_size\u001b[0m\u001b[0;34m)\u001b[0m\u001b[0;34m\u001b[0m\u001b[0;34m\u001b[0m\u001b[0m\n\u001b[0m\u001b[1;32m     21\u001b[0m             \u001b[0mval_ndcg_encoder\u001b[0m \u001b[0;34m=\u001b[0m \u001b[0meval_submission\u001b[0m\u001b[0;34m(\u001b[0m\u001b[0mranked_list_encoder\u001b[0m\u001b[0;34m,\u001b[0m \u001b[0mvalset_meta\u001b[0m\u001b[0;34m)\u001b[0m\u001b[0;34m\u001b[0m\u001b[0;34m\u001b[0m\u001b[0m\n\u001b[1;32m     22\u001b[0m \u001b[0;34m\u001b[0m\u001b[0m\n",
            "\u001b[0;32m<ipython-input-26-57ef5b166d66>\u001b[0m in \u001b[0;36mget_ranked_list\u001b[0;34m(embeds, top_size, annoy_num_trees)\u001b[0m\n\u001b[1;32m     50\u001b[0m         \u001b[0;32mif\u001b[0m \u001b[0mannoy_index\u001b[0m \u001b[0;32mis\u001b[0m \u001b[0;32mNone\u001b[0m\u001b[0;34m:\u001b[0m\u001b[0;34m\u001b[0m\u001b[0;34m\u001b[0m\u001b[0m\n\u001b[1;32m     51\u001b[0m             \u001b[0mannoy_index\u001b[0m \u001b[0;34m=\u001b[0m \u001b[0mannoy\u001b[0m\u001b[0;34m.\u001b[0m\u001b[0mAnnoyIndex\u001b[0m\u001b[0;34m(\u001b[0m\u001b[0mlen\u001b[0m\u001b[0;34m(\u001b[0m\u001b[0mtrack_embed\u001b[0m\u001b[0;34m)\u001b[0m\u001b[0;34m,\u001b[0m \u001b[0;34m'angular'\u001b[0m\u001b[0;34m)\u001b[0m\u001b[0;34m\u001b[0m\u001b[0;34m\u001b[0m\u001b[0m\n\u001b[0;32m---> 52\u001b[0;31m         \u001b[0mannoy_index\u001b[0m\u001b[0;34m.\u001b[0m\u001b[0madd_item\u001b[0m\u001b[0;34m(\u001b[0m\u001b[0mid2annoy\u001b[0m\u001b[0;34m[\u001b[0m\u001b[0mtrack_id\u001b[0m\u001b[0;34m]\u001b[0m\u001b[0;34m,\u001b[0m \u001b[0mtrack_embed\u001b[0m\u001b[0;34m)\u001b[0m\u001b[0;34m\u001b[0m\u001b[0;34m\u001b[0m\u001b[0m\n\u001b[0m\u001b[1;32m     53\u001b[0m     \u001b[0mannoy_index\u001b[0m\u001b[0;34m.\u001b[0m\u001b[0mbuild\u001b[0m\u001b[0;34m(\u001b[0m\u001b[0mannoy_num_trees\u001b[0m\u001b[0;34m)\u001b[0m\u001b[0;34m\u001b[0m\u001b[0;34m\u001b[0m\u001b[0m\n\u001b[1;32m     54\u001b[0m     \u001b[0mranked_list\u001b[0m \u001b[0;34m=\u001b[0m \u001b[0mdict\u001b[0m\u001b[0;34m(\u001b[0m\u001b[0;34m)\u001b[0m\u001b[0;34m\u001b[0m\u001b[0;34m\u001b[0m\u001b[0m\n",
            "\u001b[0;31mTypeError\u001b[0m: only size-1 arrays can be converted to Python scalars"
          ]
        }
      ]
    },
    {
      "cell_type": "code",
      "source": [
        "train_loader = TrainLoader(FeaturesLoader(TRAINSET_PATH, train_meta_info, device), batch_size = BATCH_SIZE)"
      ],
      "metadata": {
        "id": "lxIXFhgPpPmj"
      },
      "execution_count": null,
      "outputs": []
    },
    {
      "cell_type": "code",
      "source": [
        "val_loader = TestLoader(FeaturesLoader(TRAINSET_PATH, validation_meta_info, device), batch_size = BATCH_SIZE),"
      ],
      "metadata": {
        "id": "hsZSUqbEBbd_"
      },
      "execution_count": null,
      "outputs": []
    },
    {
      "cell_type": "code",
      "source": [
        "def trai(module, val_loader):\n",
        "    model_encoder = module.encoder\n",
        "    embeds_encoder = inference(model_encoder, val_loader)"
      ],
      "metadata": {
        "id": "JPx3xuUCthWO"
      },
      "execution_count": null,
      "outputs": []
    },
    {
      "cell_type": "code",
      "source": [
        "def inferen(loader):\n",
        "    for tracks_ids, tracks_features in loader:\n",
        "        i =0"
      ],
      "metadata": {
        "id": "JLVpT36lvmWd"
      },
      "execution_count": null,
      "outputs": []
    },
    {
      "cell_type": "markdown",
      "source": [
        "**Encoder**"
      ],
      "metadata": {
        "id": "j36BYeXHwj1F"
      }
    },
    {
      "cell_type": "code",
      "source": [
        "def train_ae(module, train_loader,optimizer, criterion, num_epochs): #, val_loader, valset_meta, optimizer, criterion, num_epochs, checkpoint_path, top_size = 100):\n",
        "    max_ndcg = None\n",
        "    losses = []\n",
        "    for epoch in range(num_epochs):\n",
        "        for tracks_ids, tracks_features in train_loader:\n",
        "            optimizer.zero_grad()\n",
        "            module.train()\n",
        "            reconstructed, _ = module(tracks_features)\n",
        "            loss = criterion(reconstructed, tracks_features)\n",
        "            loss.backward()\n",
        "            optimizer.step()\n",
        "            print(\"Epoch {}/{}\".format(epoch+1, num_epochs))\n",
        "            print(\"loss: {}\".format(loss))\n",
        "            print()\n",
        "            losses.append(loss.item())\n",
        "        '''with torch.no_grad():\n",
        "            module.eval()\n",
        "            for X_batch in val_loader:\n",
        "                X_batch = X_batch.view(-1, 3, 64, 64).float()\n",
        "                reconstructed, _ = model(X_batch.to(device))\n",
        "                loss = loss_fn(reconstructed.view(-1, 3, 64, 64), X_batch.to(device))\n",
        "                val_losses_per_epoch.append(loss.item())\n",
        "            \n",
        "            print(\"Validation nDCG on epoch {}\".format(epoch))\n",
        "            print(\"Encoder - {}\".format(val_ndcg_encoder))\n",
        "            print(\"Projector - {}\".format(val_ndcg_projector))\n",
        "            if (max_ndcg is None) or (val_ndcg_encoder > max_ndcg):\n",
        "                max_ndcg = val_ndcg_encoder\n",
        "                torch.save(model_encoder.state_dict(), checkpoint_path)'''\n",
        "    return losses"
      ],
      "metadata": {
        "id": "xCPQSH9OxdYX"
      },
      "execution_count": null,
      "outputs": []
    },
    {
      "cell_type": "code",
      "source": [
        "\n",
        "class Autoencoder(nn.Module):\n",
        "    def __init__(self, output_features_size):\n",
        "        super().__init__()\n",
        "        self.n_features = output_features_size\n",
        "\n",
        "        self.encoder = nn.Sequential(\n",
        "            nn.Conv1d(512, self.n_features, kernel_size=3, padding=1),\n",
        "            nn.Conv1d(self.n_features, self.n_features//2, kernel_size=3, padding=1),\n",
        "\n",
        "            nn.MaxPool1d(2, 2, return_indices=False),\n",
        "\n",
        "            nn.Conv1d(self.n_features//2, self.n_features//4, kernel_size=3, padding=1),\n",
        "            nn.Conv1d(self.n_features//4, self.n_features//8, kernel_size=3, padding=1),\n",
        "\n",
        "            nn.MaxPool1d(2, 2, return_indices=False),\n",
        "\n",
        "            nn.Conv1d(self.n_features//8, self.n_features//8, kernel_size=3, padding=1),\n",
        "            nn.Conv1d(self.n_features//8, self.n_features//8, kernel_size=3, padding=1)\n",
        "        )\n",
        "       \n",
        "        self.decoder = nn.Sequential(\n",
        "            nn.ConvTranspose1d(self.n_features//8, self.n_features//8, kernel_size=3, padding=1),\n",
        "            nn.ConvTranspose1d(self.n_features//8, self.n_features//4,stride =2, kernel_size=3, padding=0),\n",
        "           #nn.MaxUnpool1d(2),\n",
        "            nn.ConvTranspose1d(self.n_features//4, self.n_features//2, kernel_size=3, padding=1),\n",
        "            nn.ConvTranspose1d(self.n_features//2, self.n_features, kernel_size=3, padding=1),\n",
        "            #nn.MaxUnpool1d(2),\n",
        "            nn.ConvTranspose1d(self.n_features, self.n_features,stride = 2,kernel_size=2, padding=1),\n",
        "            nn.ConvTranspose1d(self.n_features, self.n_features, kernel_size=3, padding=1)\n",
        "        )\n",
        "\n",
        "    def forward(self, x):\n",
        "        print('x.shape ' , x.shape)\n",
        "        latent = self.encoder(x) #.view(-1, 512)\n",
        "        print('latent.shape ' ,latent.shape)\n",
        "        #latent = self.encoder(x)\n",
        "        reconstructed = self.decoder(latent)\n",
        "        print('reconstructed.shape ' ,reconstructed.shape)\n",
        "        return reconstructed, latent\n"
      ],
      "metadata": {
        "id": "E-MpjqMexCa6"
      },
      "execution_count": null,
      "outputs": []
    },
    {
      "cell_type": "code",
      "source": [
        "autoen = Autoencoder(\n",
        "    output_features_size = 512,\n",
        ").to(device)"
      ],
      "metadata": {
        "id": "hD-HT2dG4RR6"
      },
      "execution_count": null,
      "outputs": []
    },
    {
      "cell_type": "code",
      "source": [
        "losses = train_ae(module= autoen,\n",
        "         train_loader = TestLoader(FeaturesLoader(TRAINSET_PATH, validation_meta_info, device), batch_size = BATCH_SIZE),\n",
        "         optimizer = torch.optim.Adam(autoen.parameters(), lr = LR),\n",
        "         criterion = F.mse_loss,\n",
        "         num_epochs = NUM_EPOCHS)"
      ],
      "metadata": {
        "colab": {
          "base_uri": "https://localhost:8080/"
        },
        "id": "yLdIGPTN3g8D",
        "outputId": "2a02bf05-e469-4157-8620-7d6ad2604535"
      },
      "execution_count": null,
      "outputs": [
        {
          "output_type": "stream",
          "name": "stderr",
          "text": [
            "  1%|▏         | 512/34935 [00:00<00:29, 1176.05it/s]"
          ]
        },
        {
          "output_type": "stream",
          "name": "stdout",
          "text": [
            "x.shape  torch.Size([512, 512, 60])\n",
            "latent.shape  torch.Size([512, 64, 15])\n",
            "reconstructed.shape  torch.Size([512, 512, 60])\n",
            "Epoch 1/20\n",
            "loss: 0.28791582584381104\n",
            "\n"
          ]
        },
        {
          "output_type": "stream",
          "name": "stderr",
          "text": [
            "\r  3%|▎         | 1024/34935 [00:01<00:42, 800.29it/s]"
          ]
        },
        {
          "output_type": "stream",
          "name": "stdout",
          "text": [
            "x.shape  torch.Size([512, 512, 60])\n",
            "latent.shape  torch.Size([512, 64, 15])\n",
            "reconstructed.shape  torch.Size([512, 512, 60])\n",
            "Epoch 1/20\n",
            "loss: 0.2851850688457489\n",
            "\n"
          ]
        },
        {
          "output_type": "stream",
          "name": "stderr",
          "text": [
            "\r  4%|▍         | 1536/34935 [00:02<00:56, 595.25it/s]"
          ]
        },
        {
          "output_type": "stream",
          "name": "stdout",
          "text": [
            "x.shape  torch.Size([512, 512, 60])\n",
            "latent.shape  torch.Size([512, 64, 15])\n",
            "reconstructed.shape  torch.Size([512, 512, 60])\n",
            "Epoch 1/20\n",
            "loss: 0.28223875164985657\n",
            "\n"
          ]
        },
        {
          "output_type": "stream",
          "name": "stderr",
          "text": [
            "\r  6%|▌         | 2048/34935 [00:03<01:00, 547.96it/s]"
          ]
        },
        {
          "output_type": "stream",
          "name": "stdout",
          "text": [
            "x.shape  torch.Size([512, 512, 60])\n",
            "latent.shape  torch.Size([512, 64, 15])\n",
            "reconstructed.shape  torch.Size([512, 512, 60])\n",
            "Epoch 1/20\n",
            "loss: 0.28246989846229553\n",
            "\n"
          ]
        },
        {
          "output_type": "stream",
          "name": "stderr",
          "text": [
            "\r  7%|▋         | 2560/34935 [00:04<01:03, 511.72it/s]"
          ]
        },
        {
          "output_type": "stream",
          "name": "stdout",
          "text": [
            "x.shape  torch.Size([512, 512, 60])\n",
            "latent.shape  torch.Size([512, 64, 15])\n",
            "reconstructed.shape  torch.Size([512, 512, 60])\n",
            "Epoch 1/20\n",
            "loss: 0.2771851420402527\n",
            "\n"
          ]
        },
        {
          "output_type": "stream",
          "name": "stderr",
          "text": [
            "\r  9%|▉         | 3072/34935 [00:05<01:04, 491.17it/s]"
          ]
        },
        {
          "output_type": "stream",
          "name": "stdout",
          "text": [
            "x.shape  torch.Size([512, 512, 60])\n",
            "latent.shape  torch.Size([512, 64, 15])\n",
            "reconstructed.shape  torch.Size([512, 512, 60])\n",
            "Epoch 1/20\n",
            "loss: 0.2747081518173218\n",
            "\n"
          ]
        },
        {
          "output_type": "stream",
          "name": "stderr",
          "text": [
            "\r 10%|█         | 3584/34935 [00:06<01:06, 471.48it/s]"
          ]
        },
        {
          "output_type": "stream",
          "name": "stdout",
          "text": [
            "x.shape  torch.Size([512, 512, 60])\n",
            "latent.shape  torch.Size([512, 64, 15])\n",
            "reconstructed.shape  torch.Size([512, 512, 60])\n",
            "Epoch 1/20\n",
            "loss: 0.2681698501110077\n",
            "\n"
          ]
        },
        {
          "output_type": "stream",
          "name": "stderr",
          "text": [
            "\r 12%|█▏        | 4096/34935 [00:08<01:07, 454.77it/s]"
          ]
        },
        {
          "output_type": "stream",
          "name": "stdout",
          "text": [
            "x.shape  torch.Size([512, 512, 60])\n",
            "latent.shape  torch.Size([512, 64, 15])\n",
            "reconstructed.shape  torch.Size([512, 512, 60])\n",
            "Epoch 1/20\n",
            "loss: 0.2653732895851135\n",
            "\n"
          ]
        },
        {
          "output_type": "stream",
          "name": "stderr",
          "text": [
            "\r 13%|█▎        | 4608/34935 [00:09<01:07, 446.21it/s]"
          ]
        },
        {
          "output_type": "stream",
          "name": "stdout",
          "text": [
            "x.shape  torch.Size([512, 512, 60])\n",
            "latent.shape  torch.Size([512, 64, 15])\n",
            "reconstructed.shape  torch.Size([512, 512, 60])\n",
            "Epoch 1/20\n",
            "loss: 0.25854218006134033\n",
            "\n"
          ]
        },
        {
          "output_type": "stream",
          "name": "stderr",
          "text": [
            "\r 15%|█▍        | 5120/34935 [00:10<01:07, 441.80it/s]"
          ]
        },
        {
          "output_type": "stream",
          "name": "stdout",
          "text": [
            "x.shape  torch.Size([512, 512, 60])\n",
            "latent.shape  torch.Size([512, 64, 15])\n",
            "reconstructed.shape  torch.Size([512, 512, 60])\n",
            "Epoch 1/20\n",
            "loss: 0.25334346294403076\n",
            "\n"
          ]
        },
        {
          "output_type": "stream",
          "name": "stderr",
          "text": [
            "\r 16%|█▌        | 5632/34935 [00:11<01:06, 442.00it/s]"
          ]
        },
        {
          "output_type": "stream",
          "name": "stdout",
          "text": [
            "x.shape  torch.Size([512, 512, 60])\n",
            "latent.shape  torch.Size([512, 64, 15])\n",
            "reconstructed.shape  torch.Size([512, 512, 60])\n",
            "Epoch 1/20\n",
            "loss: 0.24474354088306427\n",
            "\n"
          ]
        },
        {
          "output_type": "stream",
          "name": "stderr",
          "text": [
            "\r 18%|█▊        | 6144/34935 [00:12<01:05, 442.51it/s]"
          ]
        },
        {
          "output_type": "stream",
          "name": "stdout",
          "text": [
            "x.shape  torch.Size([512, 512, 60])\n",
            "latent.shape  torch.Size([512, 64, 15])\n",
            "reconstructed.shape  torch.Size([512, 512, 60])\n",
            "Epoch 1/20\n",
            "loss: 0.22598473727703094\n",
            "\n"
          ]
        },
        {
          "output_type": "stream",
          "name": "stderr",
          "text": [
            "\r 19%|█▉        | 6656/34935 [00:13<01:03, 443.32it/s]"
          ]
        },
        {
          "output_type": "stream",
          "name": "stdout",
          "text": [
            "x.shape  torch.Size([512, 512, 60])\n",
            "latent.shape  torch.Size([512, 64, 15])\n",
            "reconstructed.shape  torch.Size([512, 512, 60])\n",
            "Epoch 1/20\n",
            "loss: 0.20417548716068268\n",
            "\n"
          ]
        },
        {
          "output_type": "stream",
          "name": "stderr",
          "text": [
            "\r 21%|██        | 7168/34935 [00:15<01:04, 432.97it/s]"
          ]
        },
        {
          "output_type": "stream",
          "name": "stdout",
          "text": [
            "x.shape  torch.Size([512, 512, 60])\n",
            "latent.shape  torch.Size([512, 64, 15])\n",
            "reconstructed.shape  torch.Size([512, 512, 60])\n",
            "Epoch 1/20\n",
            "loss: 0.1809355467557907\n",
            "\n"
          ]
        },
        {
          "output_type": "stream",
          "name": "stderr",
          "text": [
            "\r 22%|██▏       | 7680/34935 [00:16<01:04, 425.72it/s]"
          ]
        },
        {
          "output_type": "stream",
          "name": "stdout",
          "text": [
            "x.shape  torch.Size([512, 512, 60])\n",
            "latent.shape  torch.Size([512, 64, 15])\n",
            "reconstructed.shape  torch.Size([512, 512, 60])\n",
            "Epoch 1/20\n",
            "loss: 0.15582247078418732\n",
            "\n"
          ]
        },
        {
          "output_type": "stream",
          "name": "stderr",
          "text": [
            "\r 23%|██▎       | 8192/34935 [00:17<01:02, 427.74it/s]"
          ]
        },
        {
          "output_type": "stream",
          "name": "stdout",
          "text": [
            "x.shape  torch.Size([512, 512, 60])\n",
            "latent.shape  torch.Size([512, 64, 15])\n",
            "reconstructed.shape  torch.Size([512, 512, 60])\n",
            "Epoch 1/20\n",
            "loss: 0.14948762953281403\n",
            "\n"
          ]
        },
        {
          "output_type": "stream",
          "name": "stderr",
          "text": [
            "\r 25%|██▍       | 8704/34935 [00:18<01:01, 429.19it/s]"
          ]
        },
        {
          "output_type": "stream",
          "name": "stdout",
          "text": [
            "x.shape  torch.Size([512, 512, 60])\n",
            "latent.shape  torch.Size([512, 64, 15])\n",
            "reconstructed.shape  torch.Size([512, 512, 60])\n",
            "Epoch 1/20\n",
            "loss: 0.17439350485801697\n",
            "\n"
          ]
        },
        {
          "output_type": "stream",
          "name": "stderr",
          "text": [
            "\r 26%|██▋       | 9216/34935 [00:19<00:59, 431.10it/s]"
          ]
        },
        {
          "output_type": "stream",
          "name": "stdout",
          "text": [
            "x.shape  torch.Size([512, 512, 60])\n",
            "latent.shape  torch.Size([512, 64, 15])\n",
            "reconstructed.shape  torch.Size([512, 512, 60])\n",
            "Epoch 1/20\n",
            "loss: 0.16136577725410461\n",
            "\n"
          ]
        },
        {
          "output_type": "stream",
          "name": "stderr",
          "text": [
            "\r 28%|██▊       | 9728/34935 [00:21<00:58, 431.18it/s]"
          ]
        },
        {
          "output_type": "stream",
          "name": "stdout",
          "text": [
            "x.shape  torch.Size([512, 512, 60])\n",
            "latent.shape  torch.Size([512, 64, 15])\n",
            "reconstructed.shape  torch.Size([512, 512, 60])\n",
            "Epoch 1/20\n",
            "loss: 0.14179721474647522\n",
            "\n"
          ]
        },
        {
          "output_type": "stream",
          "name": "stderr",
          "text": [
            "\r 29%|██▉       | 10240/34935 [00:22<00:56, 439.15it/s]"
          ]
        },
        {
          "output_type": "stream",
          "name": "stdout",
          "text": [
            "x.shape  torch.Size([512, 512, 60])\n",
            "latent.shape  torch.Size([512, 64, 15])\n",
            "reconstructed.shape  torch.Size([512, 512, 60])\n",
            "Epoch 1/20\n",
            "loss: 0.1380143165588379\n",
            "\n"
          ]
        },
        {
          "output_type": "stream",
          "name": "stderr",
          "text": [
            "\r 31%|███       | 10752/34935 [00:23<00:55, 437.43it/s]"
          ]
        },
        {
          "output_type": "stream",
          "name": "stdout",
          "text": [
            "x.shape  torch.Size([512, 512, 60])\n",
            "latent.shape  torch.Size([512, 64, 15])\n",
            "reconstructed.shape  torch.Size([512, 512, 60])\n",
            "Epoch 1/20\n",
            "loss: 0.1380903273820877\n",
            "\n"
          ]
        },
        {
          "output_type": "stream",
          "name": "stderr",
          "text": [
            "\r 32%|███▏      | 11264/34935 [00:24<00:54, 432.95it/s]"
          ]
        },
        {
          "output_type": "stream",
          "name": "stdout",
          "text": [
            "x.shape  torch.Size([512, 512, 60])\n",
            "latent.shape  torch.Size([512, 64, 15])\n",
            "reconstructed.shape  torch.Size([512, 512, 60])\n",
            "Epoch 1/20\n",
            "loss: 0.1420515775680542\n",
            "\n"
          ]
        },
        {
          "output_type": "stream",
          "name": "stderr",
          "text": [
            "\r 34%|███▎      | 11776/34935 [00:25<00:54, 427.87it/s]"
          ]
        },
        {
          "output_type": "stream",
          "name": "stdout",
          "text": [
            "x.shape  torch.Size([512, 512, 60])\n",
            "latent.shape  torch.Size([512, 64, 15])\n",
            "reconstructed.shape  torch.Size([512, 512, 60])\n",
            "Epoch 1/20\n",
            "loss: 0.1446579396724701\n",
            "\n"
          ]
        },
        {
          "output_type": "stream",
          "name": "stderr",
          "text": [
            "\r 35%|███▌      | 12288/34935 [00:27<00:52, 429.37it/s]"
          ]
        },
        {
          "output_type": "stream",
          "name": "stdout",
          "text": [
            "x.shape  torch.Size([512, 512, 60])\n",
            "latent.shape  torch.Size([512, 64, 15])\n",
            "reconstructed.shape  torch.Size([512, 512, 60])\n",
            "Epoch 1/20\n",
            "loss: 0.14209626615047455\n",
            "\n"
          ]
        },
        {
          "output_type": "stream",
          "name": "stderr",
          "text": [
            "\r 37%|███▋      | 12800/34935 [00:28<00:50, 438.53it/s]"
          ]
        },
        {
          "output_type": "stream",
          "name": "stdout",
          "text": [
            "x.shape  torch.Size([512, 512, 60])\n",
            "latent.shape  torch.Size([512, 64, 15])\n",
            "reconstructed.shape  torch.Size([512, 512, 60])\n",
            "Epoch 1/20\n",
            "loss: 0.14106805622577667\n",
            "\n"
          ]
        },
        {
          "output_type": "stream",
          "name": "stderr",
          "text": [
            "\r 38%|███▊      | 13312/34935 [00:29<00:50, 431.38it/s]"
          ]
        },
        {
          "output_type": "stream",
          "name": "stdout",
          "text": [
            "x.shape  torch.Size([512, 512, 60])\n",
            "latent.shape  torch.Size([512, 64, 15])\n",
            "reconstructed.shape  torch.Size([512, 512, 60])\n",
            "Epoch 1/20\n",
            "loss: 0.13733822107315063\n",
            "\n"
          ]
        },
        {
          "output_type": "stream",
          "name": "stderr",
          "text": [
            "\r 40%|███▉      | 13824/34935 [00:30<00:49, 426.14it/s]"
          ]
        },
        {
          "output_type": "stream",
          "name": "stdout",
          "text": [
            "x.shape  torch.Size([512, 512, 60])\n",
            "latent.shape  torch.Size([512, 64, 15])\n",
            "reconstructed.shape  torch.Size([512, 512, 60])\n",
            "Epoch 1/20\n",
            "loss: 0.13264118134975433\n",
            "\n"
          ]
        },
        {
          "output_type": "stream",
          "name": "stderr",
          "text": [
            "\r 41%|████      | 14336/34935 [00:31<00:49, 419.71it/s]"
          ]
        },
        {
          "output_type": "stream",
          "name": "stdout",
          "text": [
            "x.shape  torch.Size([512, 512, 60])\n",
            "latent.shape  torch.Size([512, 64, 15])\n",
            "reconstructed.shape  torch.Size([512, 512, 60])\n",
            "Epoch 1/20\n",
            "loss: 0.13033607602119446\n",
            "\n"
          ]
        },
        {
          "output_type": "stream",
          "name": "stderr",
          "text": [
            "\r 43%|████▎     | 14848/34935 [00:33<00:47, 421.35it/s]"
          ]
        },
        {
          "output_type": "stream",
          "name": "stdout",
          "text": [
            "x.shape  torch.Size([512, 512, 60])\n",
            "latent.shape  torch.Size([512, 64, 15])\n",
            "reconstructed.shape  torch.Size([512, 512, 60])\n",
            "Epoch 1/20\n",
            "loss: 0.13384458422660828\n",
            "\n"
          ]
        },
        {
          "output_type": "stream",
          "name": "stderr",
          "text": [
            "\r 44%|████▍     | 15360/34935 [00:34<00:46, 419.74it/s]"
          ]
        },
        {
          "output_type": "stream",
          "name": "stdout",
          "text": [
            "x.shape  torch.Size([512, 512, 60])\n",
            "latent.shape  torch.Size([512, 64, 15])\n",
            "reconstructed.shape  torch.Size([512, 512, 60])\n",
            "Epoch 1/20\n",
            "loss: 0.13609425723552704\n",
            "\n"
          ]
        },
        {
          "output_type": "stream",
          "name": "stderr",
          "text": [
            "\r 45%|████▌     | 15872/34935 [00:35<00:45, 418.11it/s]"
          ]
        },
        {
          "output_type": "stream",
          "name": "stdout",
          "text": [
            "x.shape  torch.Size([512, 512, 60])\n",
            "latent.shape  torch.Size([512, 64, 15])\n",
            "reconstructed.shape  torch.Size([512, 512, 60])\n",
            "Epoch 1/20\n",
            "loss: 0.13750898838043213\n",
            "\n"
          ]
        },
        {
          "output_type": "stream",
          "name": "stderr",
          "text": [
            "\r 47%|████▋     | 16384/34935 [00:36<00:44, 415.57it/s]"
          ]
        },
        {
          "output_type": "stream",
          "name": "stdout",
          "text": [
            "x.shape  torch.Size([512, 512, 60])\n",
            "latent.shape  torch.Size([512, 64, 15])\n",
            "reconstructed.shape  torch.Size([512, 512, 60])\n",
            "Epoch 1/20\n",
            "loss: 0.13317546248435974\n",
            "\n"
          ]
        },
        {
          "output_type": "stream",
          "name": "stderr",
          "text": [
            "\r 48%|████▊     | 16896/34935 [00:38<00:44, 407.73it/s]"
          ]
        },
        {
          "output_type": "stream",
          "name": "stdout",
          "text": [
            "x.shape  torch.Size([512, 512, 60])\n",
            "latent.shape  torch.Size([512, 64, 15])\n",
            "reconstructed.shape  torch.Size([512, 512, 60])\n",
            "Epoch 1/20\n",
            "loss: 0.13125842809677124\n",
            "\n"
          ]
        },
        {
          "output_type": "stream",
          "name": "stderr",
          "text": [
            "\r 50%|████▉     | 17408/34935 [00:39<00:42, 408.39it/s]"
          ]
        },
        {
          "output_type": "stream",
          "name": "stdout",
          "text": [
            "x.shape  torch.Size([512, 512, 60])\n",
            "latent.shape  torch.Size([512, 64, 15])\n",
            "reconstructed.shape  torch.Size([512, 512, 60])\n",
            "Epoch 1/20\n",
            "loss: 0.129884272813797\n",
            "\n"
          ]
        },
        {
          "output_type": "stream",
          "name": "stderr",
          "text": [
            "\r 51%|█████▏    | 17920/34935 [00:40<00:41, 405.35it/s]"
          ]
        },
        {
          "output_type": "stream",
          "name": "stdout",
          "text": [
            "x.shape  torch.Size([512, 512, 60])\n",
            "latent.shape  torch.Size([512, 64, 15])\n",
            "reconstructed.shape  torch.Size([512, 512, 60])\n",
            "Epoch 1/20\n",
            "loss: 0.1310899704694748\n",
            "\n"
          ]
        },
        {
          "output_type": "stream",
          "name": "stderr",
          "text": [
            "\r 53%|█████▎    | 18432/34935 [00:41<00:40, 403.00it/s]"
          ]
        },
        {
          "output_type": "stream",
          "name": "stdout",
          "text": [
            "x.shape  torch.Size([512, 512, 60])\n",
            "latent.shape  torch.Size([512, 64, 15])\n",
            "reconstructed.shape  torch.Size([512, 512, 60])\n",
            "Epoch 1/20\n",
            "loss: 0.13426955044269562\n",
            "\n"
          ]
        },
        {
          "output_type": "stream",
          "name": "stderr",
          "text": [
            "\r 54%|█████▍    | 18944/34935 [00:43<00:39, 399.83it/s]"
          ]
        },
        {
          "output_type": "stream",
          "name": "stdout",
          "text": [
            "x.shape  torch.Size([512, 512, 60])\n",
            "latent.shape  torch.Size([512, 64, 15])\n",
            "reconstructed.shape  torch.Size([512, 512, 60])\n",
            "Epoch 1/20\n",
            "loss: 0.13055625557899475\n",
            "\n"
          ]
        },
        {
          "output_type": "stream",
          "name": "stderr",
          "text": [
            "\r 56%|█████▌    | 19456/34935 [00:44<00:38, 402.89it/s]"
          ]
        },
        {
          "output_type": "stream",
          "name": "stdout",
          "text": [
            "x.shape  torch.Size([512, 512, 60])\n",
            "latent.shape  torch.Size([512, 64, 15])\n",
            "reconstructed.shape  torch.Size([512, 512, 60])\n",
            "Epoch 1/20\n",
            "loss: 0.13449430465698242\n",
            "\n"
          ]
        },
        {
          "output_type": "stream",
          "name": "stderr",
          "text": [
            "\r 57%|█████▋    | 19968/34935 [00:45<00:37, 398.51it/s]"
          ]
        },
        {
          "output_type": "stream",
          "name": "stdout",
          "text": [
            "x.shape  torch.Size([512, 512, 60])\n",
            "latent.shape  torch.Size([512, 64, 15])\n",
            "reconstructed.shape  torch.Size([512, 512, 60])\n",
            "Epoch 1/20\n",
            "loss: 0.13278239965438843\n",
            "\n"
          ]
        },
        {
          "output_type": "stream",
          "name": "stderr",
          "text": [
            "\r 59%|█████▊    | 20480/34935 [00:47<00:36, 397.92it/s]"
          ]
        },
        {
          "output_type": "stream",
          "name": "stdout",
          "text": [
            "x.shape  torch.Size([512, 512, 60])\n",
            "latent.shape  torch.Size([512, 64, 15])\n",
            "reconstructed.shape  torch.Size([512, 512, 60])\n",
            "Epoch 1/20\n",
            "loss: 0.13121618330478668\n",
            "\n"
          ]
        },
        {
          "output_type": "stream",
          "name": "stderr",
          "text": [
            "\r 60%|██████    | 20992/34935 [00:48<00:34, 401.06it/s]"
          ]
        },
        {
          "output_type": "stream",
          "name": "stdout",
          "text": [
            "x.shape  torch.Size([512, 512, 60])\n",
            "latent.shape  torch.Size([512, 64, 15])\n",
            "reconstructed.shape  torch.Size([512, 512, 60])\n",
            "Epoch 1/20\n",
            "loss: 0.12883667647838593\n",
            "\n"
          ]
        },
        {
          "output_type": "stream",
          "name": "stderr",
          "text": [
            "\r 62%|██████▏   | 21504/34935 [00:49<00:33, 401.75it/s]"
          ]
        },
        {
          "output_type": "stream",
          "name": "stdout",
          "text": [
            "x.shape  torch.Size([512, 512, 60])\n",
            "latent.shape  torch.Size([512, 64, 15])\n",
            "reconstructed.shape  torch.Size([512, 512, 60])\n",
            "Epoch 1/20\n",
            "loss: 0.13087624311447144\n",
            "\n"
          ]
        },
        {
          "output_type": "stream",
          "name": "stderr",
          "text": [
            "\r 63%|██████▎   | 22016/34935 [00:50<00:32, 396.84it/s]"
          ]
        },
        {
          "output_type": "stream",
          "name": "stdout",
          "text": [
            "x.shape  torch.Size([512, 512, 60])\n",
            "latent.shape  torch.Size([512, 64, 15])\n",
            "reconstructed.shape  torch.Size([512, 512, 60])\n",
            "Epoch 1/20\n",
            "loss: 0.1291513890028\n",
            "\n"
          ]
        },
        {
          "output_type": "stream",
          "name": "stderr",
          "text": [
            "\r 64%|██████▍   | 22528/34935 [00:52<00:31, 388.80it/s]"
          ]
        },
        {
          "output_type": "stream",
          "name": "stdout",
          "text": [
            "x.shape  torch.Size([512, 512, 60])\n",
            "latent.shape  torch.Size([512, 64, 15])\n",
            "reconstructed.shape  torch.Size([512, 512, 60])\n",
            "Epoch 1/20\n",
            "loss: 0.12960785627365112\n",
            "\n"
          ]
        },
        {
          "output_type": "stream",
          "name": "stderr",
          "text": [
            "\r 66%|██████▌   | 23040/34935 [00:53<00:31, 376.22it/s]"
          ]
        },
        {
          "output_type": "stream",
          "name": "stdout",
          "text": [
            "x.shape  torch.Size([512, 512, 60])\n",
            "latent.shape  torch.Size([512, 64, 15])\n",
            "reconstructed.shape  torch.Size([512, 512, 60])\n",
            "Epoch 1/20\n",
            "loss: 0.13023070991039276\n",
            "\n"
          ]
        },
        {
          "output_type": "stream",
          "name": "stderr",
          "text": [
            "\r 67%|██████▋   | 23552/34935 [00:54<00:29, 388.10it/s]"
          ]
        },
        {
          "output_type": "stream",
          "name": "stdout",
          "text": [
            "x.shape  torch.Size([512, 512, 60])\n",
            "latent.shape  torch.Size([512, 64, 15])\n",
            "reconstructed.shape  torch.Size([512, 512, 60])\n",
            "Epoch 1/20\n",
            "loss: 0.13046139478683472\n",
            "\n"
          ]
        },
        {
          "output_type": "stream",
          "name": "stderr",
          "text": [
            "\r 69%|██████▉   | 24064/34935 [00:56<00:27, 392.54it/s]"
          ]
        },
        {
          "output_type": "stream",
          "name": "stdout",
          "text": [
            "x.shape  torch.Size([512, 512, 60])\n",
            "latent.shape  torch.Size([512, 64, 15])\n",
            "reconstructed.shape  torch.Size([512, 512, 60])\n",
            "Epoch 1/20\n",
            "loss: 0.12973903119564056\n",
            "\n"
          ]
        },
        {
          "output_type": "stream",
          "name": "stderr",
          "text": [
            "\r 70%|███████   | 24576/34935 [00:57<00:25, 401.45it/s]"
          ]
        },
        {
          "output_type": "stream",
          "name": "stdout",
          "text": [
            "x.shape  torch.Size([512, 512, 60])\n",
            "latent.shape  torch.Size([512, 64, 15])\n",
            "reconstructed.shape  torch.Size([512, 512, 60])\n",
            "Epoch 1/20\n",
            "loss: 0.1287425458431244\n",
            "\n"
          ]
        },
        {
          "output_type": "stream",
          "name": "stderr",
          "text": [
            "\r 72%|███████▏  | 25088/34935 [00:58<00:24, 405.85it/s]"
          ]
        },
        {
          "output_type": "stream",
          "name": "stdout",
          "text": [
            "x.shape  torch.Size([512, 512, 60])\n",
            "latent.shape  torch.Size([512, 64, 15])\n",
            "reconstructed.shape  torch.Size([512, 512, 60])\n",
            "Epoch 1/20\n",
            "loss: 0.12808838486671448\n",
            "\n"
          ]
        },
        {
          "output_type": "stream",
          "name": "stderr",
          "text": [
            "\r 73%|███████▎  | 25600/34935 [00:59<00:22, 407.16it/s]"
          ]
        },
        {
          "output_type": "stream",
          "name": "stdout",
          "text": [
            "x.shape  torch.Size([512, 512, 60])\n",
            "latent.shape  torch.Size([512, 64, 15])\n",
            "reconstructed.shape  torch.Size([512, 512, 60])\n",
            "Epoch 1/20\n",
            "loss: 0.12904374301433563\n",
            "\n"
          ]
        },
        {
          "output_type": "stream",
          "name": "stderr",
          "text": [
            "\r 75%|███████▍  | 26112/34935 [01:01<00:22, 394.47it/s]"
          ]
        },
        {
          "output_type": "stream",
          "name": "stdout",
          "text": [
            "x.shape  torch.Size([512, 512, 60])\n",
            "latent.shape  torch.Size([512, 64, 15])\n",
            "reconstructed.shape  torch.Size([512, 512, 60])\n",
            "Epoch 1/20\n",
            "loss: 0.1296982765197754\n",
            "\n"
          ]
        },
        {
          "output_type": "stream",
          "name": "stderr",
          "text": [
            "\r 76%|███████▌  | 26624/34935 [01:02<00:21, 387.69it/s]"
          ]
        },
        {
          "output_type": "stream",
          "name": "stdout",
          "text": [
            "x.shape  torch.Size([512, 512, 60])\n",
            "latent.shape  torch.Size([512, 64, 15])\n",
            "reconstructed.shape  torch.Size([512, 512, 60])\n",
            "Epoch 1/20\n",
            "loss: 0.1296185702085495\n",
            "\n"
          ]
        },
        {
          "output_type": "stream",
          "name": "stderr",
          "text": [
            "\r 78%|███████▊  | 27136/34935 [01:04<00:20, 380.34it/s]"
          ]
        },
        {
          "output_type": "stream",
          "name": "stdout",
          "text": [
            "x.shape  torch.Size([512, 512, 60])\n",
            "latent.shape  torch.Size([512, 64, 15])\n",
            "reconstructed.shape  torch.Size([512, 512, 60])\n",
            "Epoch 1/20\n",
            "loss: 0.13042767345905304\n",
            "\n"
          ]
        },
        {
          "output_type": "stream",
          "name": "stderr",
          "text": [
            "\r 79%|███████▉  | 27648/34935 [01:05<00:19, 377.36it/s]"
          ]
        },
        {
          "output_type": "stream",
          "name": "stdout",
          "text": [
            "x.shape  torch.Size([512, 512, 60])\n",
            "latent.shape  torch.Size([512, 64, 15])\n",
            "reconstructed.shape  torch.Size([512, 512, 60])\n",
            "Epoch 1/20\n",
            "loss: 0.12957607209682465\n",
            "\n"
          ]
        },
        {
          "output_type": "stream",
          "name": "stderr",
          "text": [
            "\r 81%|████████  | 28160/34935 [01:06<00:18, 372.26it/s]"
          ]
        },
        {
          "output_type": "stream",
          "name": "stdout",
          "text": [
            "x.shape  torch.Size([512, 512, 60])\n",
            "latent.shape  torch.Size([512, 64, 15])\n",
            "reconstructed.shape  torch.Size([512, 512, 60])\n",
            "Epoch 1/20\n",
            "loss: 0.12780606746673584\n",
            "\n"
          ]
        },
        {
          "output_type": "stream",
          "name": "stderr",
          "text": [
            "\r 82%|████████▏ | 28672/34935 [01:08<00:16, 374.96it/s]"
          ]
        },
        {
          "output_type": "stream",
          "name": "stdout",
          "text": [
            "x.shape  torch.Size([512, 512, 60])\n",
            "latent.shape  torch.Size([512, 64, 15])\n",
            "reconstructed.shape  torch.Size([512, 512, 60])\n",
            "Epoch 1/20\n",
            "loss: 0.12693285942077637\n",
            "\n"
          ]
        },
        {
          "output_type": "stream",
          "name": "stderr",
          "text": [
            "\r 84%|████████▎ | 29184/34935 [01:09<00:15, 371.81it/s]"
          ]
        },
        {
          "output_type": "stream",
          "name": "stdout",
          "text": [
            "x.shape  torch.Size([512, 512, 60])\n",
            "latent.shape  torch.Size([512, 64, 15])\n",
            "reconstructed.shape  torch.Size([512, 512, 60])\n",
            "Epoch 1/20\n",
            "loss: 0.12893089652061462\n",
            "\n"
          ]
        },
        {
          "output_type": "stream",
          "name": "stderr",
          "text": [
            "\r 85%|████████▌ | 29696/34935 [01:11<00:14, 372.11it/s]"
          ]
        },
        {
          "output_type": "stream",
          "name": "stdout",
          "text": [
            "x.shape  torch.Size([512, 512, 60])\n",
            "latent.shape  torch.Size([512, 64, 15])\n",
            "reconstructed.shape  torch.Size([512, 512, 60])\n",
            "Epoch 1/20\n",
            "loss: 0.12835828959941864\n",
            "\n"
          ]
        },
        {
          "output_type": "stream",
          "name": "stderr",
          "text": [
            "\r 86%|████████▋ | 30208/34935 [01:12<00:12, 365.24it/s]"
          ]
        },
        {
          "output_type": "stream",
          "name": "stdout",
          "text": [
            "x.shape  torch.Size([512, 512, 60])\n",
            "latent.shape  torch.Size([512, 64, 15])\n",
            "reconstructed.shape  torch.Size([512, 512, 60])\n",
            "Epoch 1/20\n",
            "loss: 0.1273084431886673\n",
            "\n"
          ]
        },
        {
          "output_type": "stream",
          "name": "stderr",
          "text": [
            "\r 88%|████████▊ | 30720/34935 [01:13<00:11, 364.71it/s]"
          ]
        },
        {
          "output_type": "stream",
          "name": "stdout",
          "text": [
            "x.shape  torch.Size([512, 512, 60])\n",
            "latent.shape  torch.Size([512, 64, 15])\n",
            "reconstructed.shape  torch.Size([512, 512, 60])\n",
            "Epoch 1/20\n",
            "loss: 0.12795905768871307\n",
            "\n"
          ]
        },
        {
          "output_type": "stream",
          "name": "stderr",
          "text": [
            "\r 89%|████████▉ | 31232/34935 [01:15<00:10, 369.71it/s]"
          ]
        },
        {
          "output_type": "stream",
          "name": "stdout",
          "text": [
            "x.shape  torch.Size([512, 512, 60])\n",
            "latent.shape  torch.Size([512, 64, 15])\n",
            "reconstructed.shape  torch.Size([512, 512, 60])\n",
            "Epoch 1/20\n",
            "loss: 0.128307044506073\n",
            "\n"
          ]
        },
        {
          "output_type": "stream",
          "name": "stderr",
          "text": [
            "\r 91%|█████████ | 31744/34935 [01:16<00:08, 366.67it/s]"
          ]
        },
        {
          "output_type": "stream",
          "name": "stdout",
          "text": [
            "x.shape  torch.Size([512, 512, 60])\n",
            "latent.shape  torch.Size([512, 64, 15])\n",
            "reconstructed.shape  torch.Size([512, 512, 60])\n",
            "Epoch 1/20\n",
            "loss: 0.1297992765903473\n",
            "\n"
          ]
        },
        {
          "output_type": "stream",
          "name": "stderr",
          "text": [
            "\r 92%|█████████▏| 32256/34935 [01:18<00:07, 369.23it/s]"
          ]
        },
        {
          "output_type": "stream",
          "name": "stdout",
          "text": [
            "x.shape  torch.Size([512, 512, 60])\n",
            "latent.shape  torch.Size([512, 64, 15])\n",
            "reconstructed.shape  torch.Size([512, 512, 60])\n",
            "Epoch 1/20\n",
            "loss: 0.12823481857776642\n",
            "\n"
          ]
        },
        {
          "output_type": "stream",
          "name": "stderr",
          "text": [
            "\r 94%|█████████▍| 32768/34935 [01:19<00:05, 374.32it/s]"
          ]
        },
        {
          "output_type": "stream",
          "name": "stdout",
          "text": [
            "x.shape  torch.Size([512, 512, 60])\n",
            "latent.shape  torch.Size([512, 64, 15])\n",
            "reconstructed.shape  torch.Size([512, 512, 60])\n",
            "Epoch 1/20\n",
            "loss: 0.12714628875255585\n",
            "\n"
          ]
        },
        {
          "output_type": "stream",
          "name": "stderr",
          "text": [
            "\r 95%|█████████▌| 33280/34935 [01:20<00:04, 380.65it/s]"
          ]
        },
        {
          "output_type": "stream",
          "name": "stdout",
          "text": [
            "x.shape  torch.Size([512, 512, 60])\n",
            "latent.shape  torch.Size([512, 64, 15])\n",
            "reconstructed.shape  torch.Size([512, 512, 60])\n",
            "Epoch 1/20\n",
            "loss: 0.1299382895231247\n",
            "\n"
          ]
        },
        {
          "output_type": "stream",
          "name": "stderr",
          "text": [
            "\r 97%|█████████▋| 33792/34935 [01:21<00:02, 382.10it/s]"
          ]
        },
        {
          "output_type": "stream",
          "name": "stdout",
          "text": [
            "x.shape  torch.Size([512, 512, 60])\n",
            "latent.shape  torch.Size([512, 64, 15])\n",
            "reconstructed.shape  torch.Size([512, 512, 60])\n",
            "Epoch 1/20\n",
            "loss: 0.13081951439380646\n",
            "\n"
          ]
        },
        {
          "output_type": "stream",
          "name": "stderr",
          "text": [
            "\r 98%|█████████▊| 34304/34935 [01:23<00:01, 385.16it/s]"
          ]
        },
        {
          "output_type": "stream",
          "name": "stdout",
          "text": [
            "x.shape  torch.Size([512, 512, 60])\n",
            "latent.shape  torch.Size([512, 64, 15])\n",
            "reconstructed.shape  torch.Size([512, 512, 60])\n",
            "Epoch 1/20\n",
            "loss: 0.1300451010465622\n",
            "\n"
          ]
        },
        {
          "output_type": "stream",
          "name": "stderr",
          "text": [
            "100%|██████████| 34935/34935 [01:24<00:00, 412.94it/s]"
          ]
        },
        {
          "output_type": "stream",
          "name": "stdout",
          "text": [
            "x.shape  torch.Size([512, 512, 60])\n",
            "latent.shape  torch.Size([512, 64, 15])\n",
            "reconstructed.shape  torch.Size([512, 512, 60])\n",
            "Epoch 1/20\n",
            "loss: 0.12920373678207397\n",
            "\n"
          ]
        },
        {
          "output_type": "stream",
          "name": "stderr",
          "text": [
            "\n"
          ]
        },
        {
          "output_type": "stream",
          "name": "stdout",
          "text": [
            "x.shape  torch.Size([119, 512, 60])\n",
            "latent.shape  torch.Size([119, 64, 15])\n",
            "reconstructed.shape  torch.Size([119, 512, 60])\n",
            "Epoch 1/20\n",
            "loss: 0.1259935200214386\n",
            "\n"
          ]
        },
        {
          "output_type": "stream",
          "name": "stderr",
          "text": [
            "  1%|▏         | 512/34935 [00:01<01:26, 396.11it/s]"
          ]
        },
        {
          "output_type": "stream",
          "name": "stdout",
          "text": [
            "x.shape  torch.Size([512, 512, 60])\n",
            "latent.shape  torch.Size([512, 64, 15])\n",
            "reconstructed.shape  torch.Size([512, 512, 60])\n",
            "Epoch 2/20\n",
            "loss: 0.1275862455368042\n",
            "\n"
          ]
        },
        {
          "output_type": "stream",
          "name": "stderr",
          "text": [
            "\r  3%|▎         | 1024/34935 [00:02<01:16, 443.81it/s]"
          ]
        },
        {
          "output_type": "stream",
          "name": "stdout",
          "text": [
            "x.shape  torch.Size([512, 512, 60])\n",
            "latent.shape  torch.Size([512, 64, 15])\n",
            "reconstructed.shape  torch.Size([512, 512, 60])\n",
            "Epoch 2/20\n",
            "loss: 0.12890996038913727\n",
            "\n"
          ]
        },
        {
          "output_type": "stream",
          "name": "stderr",
          "text": [
            "\r  4%|▍         | 1536/34935 [00:03<01:20, 417.07it/s]"
          ]
        },
        {
          "output_type": "stream",
          "name": "stdout",
          "text": [
            "x.shape  torch.Size([512, 512, 60])\n",
            "latent.shape  torch.Size([512, 64, 15])\n",
            "reconstructed.shape  torch.Size([512, 512, 60])\n",
            "Epoch 2/20\n",
            "loss: 0.12625257670879364\n",
            "\n"
          ]
        },
        {
          "output_type": "stream",
          "name": "stderr",
          "text": [
            "\r  6%|▌         | 2048/34935 [00:04<01:21, 404.66it/s]"
          ]
        },
        {
          "output_type": "stream",
          "name": "stdout",
          "text": [
            "x.shape  torch.Size([512, 512, 60])\n",
            "latent.shape  torch.Size([512, 64, 15])\n",
            "reconstructed.shape  torch.Size([512, 512, 60])\n",
            "Epoch 2/20\n",
            "loss: 0.12835104763507843\n",
            "\n"
          ]
        },
        {
          "output_type": "stream",
          "name": "stderr",
          "text": [
            "\r  7%|▋         | 2560/34935 [00:06<01:21, 398.03it/s]"
          ]
        },
        {
          "output_type": "stream",
          "name": "stdout",
          "text": [
            "x.shape  torch.Size([512, 512, 60])\n",
            "latent.shape  torch.Size([512, 64, 15])\n",
            "reconstructed.shape  torch.Size([512, 512, 60])\n",
            "Epoch 2/20\n",
            "loss: 0.1284753978252411\n",
            "\n"
          ]
        },
        {
          "output_type": "stream",
          "name": "stderr",
          "text": [
            "\r  9%|▉         | 3072/34935 [00:07<01:20, 395.91it/s]"
          ]
        },
        {
          "output_type": "stream",
          "name": "stdout",
          "text": [
            "x.shape  torch.Size([512, 512, 60])\n",
            "latent.shape  torch.Size([512, 64, 15])\n",
            "reconstructed.shape  torch.Size([512, 512, 60])\n",
            "Epoch 2/20\n",
            "loss: 0.12905767560005188\n",
            "\n"
          ]
        },
        {
          "output_type": "stream",
          "name": "stderr",
          "text": [
            "\r 10%|█         | 3584/34935 [00:08<01:19, 392.82it/s]"
          ]
        },
        {
          "output_type": "stream",
          "name": "stdout",
          "text": [
            "x.shape  torch.Size([512, 512, 60])\n",
            "latent.shape  torch.Size([512, 64, 15])\n",
            "reconstructed.shape  torch.Size([512, 512, 60])\n",
            "Epoch 2/20\n",
            "loss: 0.12714630365371704\n",
            "\n"
          ]
        },
        {
          "output_type": "stream",
          "name": "stderr",
          "text": [
            "\r 12%|█▏        | 4096/34935 [00:10<01:16, 403.09it/s]"
          ]
        },
        {
          "output_type": "stream",
          "name": "stdout",
          "text": [
            "x.shape  torch.Size([512, 512, 60])\n",
            "latent.shape  torch.Size([512, 64, 15])\n",
            "reconstructed.shape  torch.Size([512, 512, 60])\n",
            "Epoch 2/20\n",
            "loss: 0.1279195100069046\n",
            "\n"
          ]
        },
        {
          "output_type": "stream",
          "name": "stderr",
          "text": [
            "\r 13%|█▎        | 4608/34935 [00:11<01:14, 406.99it/s]"
          ]
        },
        {
          "output_type": "stream",
          "name": "stdout",
          "text": [
            "x.shape  torch.Size([512, 512, 60])\n",
            "latent.shape  torch.Size([512, 64, 15])\n",
            "reconstructed.shape  torch.Size([512, 512, 60])\n",
            "Epoch 2/20\n",
            "loss: 0.1267942190170288\n",
            "\n"
          ]
        },
        {
          "output_type": "stream",
          "name": "stderr",
          "text": [
            "\r 15%|█▍        | 5120/34935 [00:12<01:12, 409.07it/s]"
          ]
        },
        {
          "output_type": "stream",
          "name": "stdout",
          "text": [
            "x.shape  torch.Size([512, 512, 60])\n",
            "latent.shape  torch.Size([512, 64, 15])\n",
            "reconstructed.shape  torch.Size([512, 512, 60])\n",
            "Epoch 2/20\n",
            "loss: 0.12901021540164948\n",
            "\n"
          ]
        },
        {
          "output_type": "stream",
          "name": "stderr",
          "text": [
            "\r 16%|█▌        | 5632/34935 [00:13<01:10, 413.76it/s]"
          ]
        },
        {
          "output_type": "stream",
          "name": "stdout",
          "text": [
            "x.shape  torch.Size([512, 512, 60])\n",
            "latent.shape  torch.Size([512, 64, 15])\n",
            "reconstructed.shape  torch.Size([512, 512, 60])\n",
            "Epoch 2/20\n",
            "loss: 0.12820570170879364\n",
            "\n"
          ]
        },
        {
          "output_type": "stream",
          "name": "stderr",
          "text": [
            "\r 18%|█▊        | 6144/34935 [00:15<01:09, 415.79it/s]"
          ]
        },
        {
          "output_type": "stream",
          "name": "stdout",
          "text": [
            "x.shape  torch.Size([512, 512, 60])\n",
            "latent.shape  torch.Size([512, 64, 15])\n",
            "reconstructed.shape  torch.Size([512, 512, 60])\n",
            "Epoch 2/20\n",
            "loss: 0.12703609466552734\n",
            "\n"
          ]
        },
        {
          "output_type": "stream",
          "name": "stderr",
          "text": [
            "\r 19%|█▉        | 6656/34935 [00:16<01:07, 419.60it/s]"
          ]
        },
        {
          "output_type": "stream",
          "name": "stdout",
          "text": [
            "x.shape  torch.Size([512, 512, 60])\n",
            "latent.shape  torch.Size([512, 64, 15])\n",
            "reconstructed.shape  torch.Size([512, 512, 60])\n",
            "Epoch 2/20\n",
            "loss: 0.1245063915848732\n",
            "\n"
          ]
        },
        {
          "output_type": "stream",
          "name": "stderr",
          "text": [
            "\r 21%|██        | 7168/34935 [00:17<01:06, 420.11it/s]"
          ]
        },
        {
          "output_type": "stream",
          "name": "stdout",
          "text": [
            "x.shape  torch.Size([512, 512, 60])\n",
            "latent.shape  torch.Size([512, 64, 15])\n",
            "reconstructed.shape  torch.Size([512, 512, 60])\n",
            "Epoch 2/20\n",
            "loss: 0.12598657608032227\n",
            "\n"
          ]
        },
        {
          "output_type": "stream",
          "name": "stderr",
          "text": [
            "\r 22%|██▏       | 7680/34935 [00:18<01:05, 415.76it/s]"
          ]
        },
        {
          "output_type": "stream",
          "name": "stdout",
          "text": [
            "x.shape  torch.Size([512, 512, 60])\n",
            "latent.shape  torch.Size([512, 64, 15])\n",
            "reconstructed.shape  torch.Size([512, 512, 60])\n",
            "Epoch 2/20\n",
            "loss: 0.12829744815826416\n",
            "\n"
          ]
        },
        {
          "output_type": "stream",
          "name": "stderr",
          "text": [
            "\r 23%|██▎       | 8192/34935 [00:19<01:04, 416.99it/s]"
          ]
        },
        {
          "output_type": "stream",
          "name": "stdout",
          "text": [
            "x.shape  torch.Size([512, 512, 60])\n",
            "latent.shape  torch.Size([512, 64, 15])\n",
            "reconstructed.shape  torch.Size([512, 512, 60])\n",
            "Epoch 2/20\n",
            "loss: 0.12611787021160126\n",
            "\n"
          ]
        },
        {
          "output_type": "stream",
          "name": "stderr",
          "text": [
            "\r 25%|██▍       | 8704/34935 [00:21<01:02, 418.28it/s]"
          ]
        },
        {
          "output_type": "stream",
          "name": "stdout",
          "text": [
            "x.shape  torch.Size([512, 512, 60])\n",
            "latent.shape  torch.Size([512, 64, 15])\n",
            "reconstructed.shape  torch.Size([512, 512, 60])\n",
            "Epoch 2/20\n",
            "loss: 0.12648892402648926\n",
            "\n"
          ]
        },
        {
          "output_type": "stream",
          "name": "stderr",
          "text": [
            "\r 26%|██▋       | 9216/34935 [00:22<01:01, 420.95it/s]"
          ]
        },
        {
          "output_type": "stream",
          "name": "stdout",
          "text": [
            "x.shape  torch.Size([512, 512, 60])\n",
            "latent.shape  torch.Size([512, 64, 15])\n",
            "reconstructed.shape  torch.Size([512, 512, 60])\n",
            "Epoch 2/20\n",
            "loss: 0.12801234424114227\n",
            "\n"
          ]
        },
        {
          "output_type": "stream",
          "name": "stderr",
          "text": [
            "\r 28%|██▊       | 9728/34935 [00:23<00:58, 427.95it/s]"
          ]
        },
        {
          "output_type": "stream",
          "name": "stdout",
          "text": [
            "x.shape  torch.Size([512, 512, 60])\n",
            "latent.shape  torch.Size([512, 64, 15])\n",
            "reconstructed.shape  torch.Size([512, 512, 60])\n",
            "Epoch 2/20\n",
            "loss: 0.12718228995800018\n",
            "\n"
          ]
        },
        {
          "output_type": "stream",
          "name": "stderr",
          "text": [
            "\r 29%|██▉       | 10240/34935 [00:24<00:57, 430.57it/s]"
          ]
        },
        {
          "output_type": "stream",
          "name": "stdout",
          "text": [
            "x.shape  torch.Size([512, 512, 60])\n",
            "latent.shape  torch.Size([512, 64, 15])\n",
            "reconstructed.shape  torch.Size([512, 512, 60])\n",
            "Epoch 2/20\n",
            "loss: 0.12906897068023682\n",
            "\n"
          ]
        },
        {
          "output_type": "stream",
          "name": "stderr",
          "text": [
            "\r 31%|███       | 10752/34935 [00:25<00:55, 431.90it/s]"
          ]
        },
        {
          "output_type": "stream",
          "name": "stdout",
          "text": [
            "x.shape  torch.Size([512, 512, 60])\n",
            "latent.shape  torch.Size([512, 64, 15])\n",
            "reconstructed.shape  torch.Size([512, 512, 60])\n",
            "Epoch 2/20\n",
            "loss: 0.12657058238983154\n",
            "\n"
          ]
        },
        {
          "output_type": "stream",
          "name": "stderr",
          "text": [
            "\r 32%|███▏      | 11264/34935 [00:26<00:53, 440.05it/s]"
          ]
        },
        {
          "output_type": "stream",
          "name": "stdout",
          "text": [
            "x.shape  torch.Size([512, 512, 60])\n",
            "latent.shape  torch.Size([512, 64, 15])\n",
            "reconstructed.shape  torch.Size([512, 512, 60])\n",
            "Epoch 2/20\n",
            "loss: 0.12636369466781616\n",
            "\n"
          ]
        },
        {
          "output_type": "stream",
          "name": "stderr",
          "text": [
            "\r 34%|███▎      | 11776/34935 [00:28<00:52, 437.83it/s]"
          ]
        },
        {
          "output_type": "stream",
          "name": "stdout",
          "text": [
            "x.shape  torch.Size([512, 512, 60])\n",
            "latent.shape  torch.Size([512, 64, 15])\n",
            "reconstructed.shape  torch.Size([512, 512, 60])\n",
            "Epoch 2/20\n",
            "loss: 0.1266445815563202\n",
            "\n"
          ]
        },
        {
          "output_type": "stream",
          "name": "stderr",
          "text": [
            "\r 35%|███▌      | 12288/34935 [00:29<00:50, 445.44it/s]"
          ]
        },
        {
          "output_type": "stream",
          "name": "stdout",
          "text": [
            "x.shape  torch.Size([512, 512, 60])\n",
            "latent.shape  torch.Size([512, 64, 15])\n",
            "reconstructed.shape  torch.Size([512, 512, 60])\n",
            "Epoch 2/20\n",
            "loss: 0.12511156499385834\n",
            "\n"
          ]
        },
        {
          "output_type": "stream",
          "name": "stderr",
          "text": [
            "\r 37%|███▋      | 12800/34935 [00:30<00:49, 449.56it/s]"
          ]
        },
        {
          "output_type": "stream",
          "name": "stdout",
          "text": [
            "x.shape  torch.Size([512, 512, 60])\n",
            "latent.shape  torch.Size([512, 64, 15])\n",
            "reconstructed.shape  torch.Size([512, 512, 60])\n",
            "Epoch 2/20\n",
            "loss: 0.12663982808589935\n",
            "\n"
          ]
        },
        {
          "output_type": "stream",
          "name": "stderr",
          "text": [
            "\r 38%|███▊      | 13312/34935 [00:31<00:48, 445.88it/s]"
          ]
        },
        {
          "output_type": "stream",
          "name": "stdout",
          "text": [
            "x.shape  torch.Size([512, 512, 60])\n",
            "latent.shape  torch.Size([512, 64, 15])\n",
            "reconstructed.shape  torch.Size([512, 512, 60])\n",
            "Epoch 2/20\n",
            "loss: 0.12690086662769318\n",
            "\n"
          ]
        },
        {
          "output_type": "stream",
          "name": "stderr",
          "text": [
            "\r 40%|███▉      | 13824/34935 [00:32<00:47, 441.89it/s]"
          ]
        },
        {
          "output_type": "stream",
          "name": "stdout",
          "text": [
            "x.shape  torch.Size([512, 512, 60])\n",
            "latent.shape  torch.Size([512, 64, 15])\n",
            "reconstructed.shape  torch.Size([512, 512, 60])\n",
            "Epoch 2/20\n",
            "loss: 0.12637513875961304\n",
            "\n"
          ]
        },
        {
          "output_type": "stream",
          "name": "stderr",
          "text": [
            "\r 41%|████      | 14336/34935 [00:33<00:46, 444.66it/s]"
          ]
        },
        {
          "output_type": "stream",
          "name": "stdout",
          "text": [
            "x.shape  torch.Size([512, 512, 60])\n",
            "latent.shape  torch.Size([512, 64, 15])\n",
            "reconstructed.shape  torch.Size([512, 512, 60])\n",
            "Epoch 2/20\n",
            "loss: 0.12592826783657074\n",
            "\n"
          ]
        },
        {
          "output_type": "stream",
          "name": "stderr",
          "text": [
            "\r 43%|████▎     | 14848/34935 [00:34<00:44, 446.90it/s]"
          ]
        },
        {
          "output_type": "stream",
          "name": "stdout",
          "text": [
            "x.shape  torch.Size([512, 512, 60])\n",
            "latent.shape  torch.Size([512, 64, 15])\n",
            "reconstructed.shape  torch.Size([512, 512, 60])\n",
            "Epoch 2/20\n",
            "loss: 0.12763696908950806\n",
            "\n"
          ]
        },
        {
          "output_type": "stream",
          "name": "stderr",
          "text": [
            "\r 44%|████▍     | 15360/34935 [00:36<00:45, 434.24it/s]"
          ]
        },
        {
          "output_type": "stream",
          "name": "stdout",
          "text": [
            "x.shape  torch.Size([512, 512, 60])\n",
            "latent.shape  torch.Size([512, 64, 15])\n",
            "reconstructed.shape  torch.Size([512, 512, 60])\n",
            "Epoch 2/20\n",
            "loss: 0.12638376653194427\n",
            "\n"
          ]
        },
        {
          "output_type": "stream",
          "name": "stderr",
          "text": [
            "\r 45%|████▌     | 15872/34935 [00:37<00:43, 439.19it/s]"
          ]
        },
        {
          "output_type": "stream",
          "name": "stdout",
          "text": [
            "x.shape  torch.Size([512, 512, 60])\n",
            "latent.shape  torch.Size([512, 64, 15])\n",
            "reconstructed.shape  torch.Size([512, 512, 60])\n",
            "Epoch 2/20\n",
            "loss: 0.1267537623643875\n",
            "\n"
          ]
        },
        {
          "output_type": "stream",
          "name": "stderr",
          "text": [
            "\r 47%|████▋     | 16384/34935 [00:38<00:41, 444.77it/s]"
          ]
        },
        {
          "output_type": "stream",
          "name": "stdout",
          "text": [
            "x.shape  torch.Size([512, 512, 60])\n",
            "latent.shape  torch.Size([512, 64, 15])\n",
            "reconstructed.shape  torch.Size([512, 512, 60])\n",
            "Epoch 2/20\n",
            "loss: 0.12472623586654663\n",
            "\n"
          ]
        },
        {
          "output_type": "stream",
          "name": "stderr",
          "text": [
            "\r 48%|████▊     | 16896/34935 [00:39<00:41, 437.81it/s]"
          ]
        },
        {
          "output_type": "stream",
          "name": "stdout",
          "text": [
            "x.shape  torch.Size([512, 512, 60])\n",
            "latent.shape  torch.Size([512, 64, 15])\n",
            "reconstructed.shape  torch.Size([512, 512, 60])\n",
            "Epoch 2/20\n",
            "loss: 0.12585517764091492\n",
            "\n"
          ]
        },
        {
          "output_type": "stream",
          "name": "stderr",
          "text": [
            "\r 50%|████▉     | 17408/34935 [00:40<00:40, 437.19it/s]"
          ]
        },
        {
          "output_type": "stream",
          "name": "stdout",
          "text": [
            "x.shape  torch.Size([512, 512, 60])\n",
            "latent.shape  torch.Size([512, 64, 15])\n",
            "reconstructed.shape  torch.Size([512, 512, 60])\n",
            "Epoch 2/20\n",
            "loss: 0.1255730241537094\n",
            "\n"
          ]
        },
        {
          "output_type": "stream",
          "name": "stderr",
          "text": [
            "\r 51%|█████▏    | 17920/34935 [00:42<00:39, 433.96it/s]"
          ]
        },
        {
          "output_type": "stream",
          "name": "stdout",
          "text": [
            "x.shape  torch.Size([512, 512, 60])\n",
            "latent.shape  torch.Size([512, 64, 15])\n",
            "reconstructed.shape  torch.Size([512, 512, 60])\n",
            "Epoch 2/20\n",
            "loss: 0.12615010142326355\n",
            "\n"
          ]
        },
        {
          "output_type": "stream",
          "name": "stderr",
          "text": [
            "\r 53%|█████▎    | 18432/34935 [00:43<00:38, 431.31it/s]"
          ]
        },
        {
          "output_type": "stream",
          "name": "stdout",
          "text": [
            "x.shape  torch.Size([512, 512, 60])\n",
            "latent.shape  torch.Size([512, 64, 15])\n",
            "reconstructed.shape  torch.Size([512, 512, 60])\n",
            "Epoch 2/20\n",
            "loss: 0.12811505794525146\n",
            "\n"
          ]
        },
        {
          "output_type": "stream",
          "name": "stderr",
          "text": [
            "\r 54%|█████▍    | 18944/34935 [00:44<00:37, 424.84it/s]"
          ]
        },
        {
          "output_type": "stream",
          "name": "stdout",
          "text": [
            "x.shape  torch.Size([512, 512, 60])\n",
            "latent.shape  torch.Size([512, 64, 15])\n",
            "reconstructed.shape  torch.Size([512, 512, 60])\n",
            "Epoch 2/20\n",
            "loss: 0.12375207245349884\n",
            "\n"
          ]
        },
        {
          "output_type": "stream",
          "name": "stderr",
          "text": [
            "\r 56%|█████▌    | 19456/34935 [00:45<00:36, 425.13it/s]"
          ]
        },
        {
          "output_type": "stream",
          "name": "stdout",
          "text": [
            "x.shape  torch.Size([512, 512, 60])\n",
            "latent.shape  torch.Size([512, 64, 15])\n",
            "reconstructed.shape  torch.Size([512, 512, 60])\n",
            "Epoch 2/20\n",
            "loss: 0.12762033939361572\n",
            "\n"
          ]
        },
        {
          "output_type": "stream",
          "name": "stderr",
          "text": [
            "\r 57%|█████▋    | 19968/34935 [00:46<00:35, 422.51it/s]"
          ]
        },
        {
          "output_type": "stream",
          "name": "stdout",
          "text": [
            "x.shape  torch.Size([512, 512, 60])\n",
            "latent.shape  torch.Size([512, 64, 15])\n",
            "reconstructed.shape  torch.Size([512, 512, 60])\n",
            "Epoch 2/20\n",
            "loss: 0.126695916056633\n",
            "\n"
          ]
        },
        {
          "output_type": "stream",
          "name": "stderr",
          "text": [
            "\r 59%|█████▊    | 20480/34935 [00:48<00:34, 421.54it/s]"
          ]
        },
        {
          "output_type": "stream",
          "name": "stdout",
          "text": [
            "x.shape  torch.Size([512, 512, 60])\n",
            "latent.shape  torch.Size([512, 64, 15])\n",
            "reconstructed.shape  torch.Size([512, 512, 60])\n",
            "Epoch 2/20\n",
            "loss: 0.12643963098526\n",
            "\n"
          ]
        },
        {
          "output_type": "stream",
          "name": "stderr",
          "text": [
            "\r 60%|██████    | 20992/34935 [00:49<00:32, 425.09it/s]"
          ]
        },
        {
          "output_type": "stream",
          "name": "stdout",
          "text": [
            "x.shape  torch.Size([512, 512, 60])\n",
            "latent.shape  torch.Size([512, 64, 15])\n",
            "reconstructed.shape  torch.Size([512, 512, 60])\n",
            "Epoch 2/20\n",
            "loss: 0.1251007318496704\n",
            "\n"
          ]
        },
        {
          "output_type": "stream",
          "name": "stderr",
          "text": [
            "\r 62%|██████▏   | 21504/34935 [00:50<00:32, 417.66it/s]"
          ]
        },
        {
          "output_type": "stream",
          "name": "stdout",
          "text": [
            "x.shape  torch.Size([512, 512, 60])\n",
            "latent.shape  torch.Size([512, 64, 15])\n",
            "reconstructed.shape  torch.Size([512, 512, 60])\n",
            "Epoch 2/20\n",
            "loss: 0.12730517983436584\n",
            "\n"
          ]
        },
        {
          "output_type": "stream",
          "name": "stderr",
          "text": [
            "\r 63%|██████▎   | 22016/34935 [00:51<00:31, 408.72it/s]"
          ]
        },
        {
          "output_type": "stream",
          "name": "stdout",
          "text": [
            "x.shape  torch.Size([512, 512, 60])\n",
            "latent.shape  torch.Size([512, 64, 15])\n",
            "reconstructed.shape  torch.Size([512, 512, 60])\n",
            "Epoch 2/20\n",
            "loss: 0.1250024139881134\n",
            "\n"
          ]
        },
        {
          "output_type": "stream",
          "name": "stderr",
          "text": [
            "\r 64%|██████▍   | 22528/34935 [00:53<00:30, 406.92it/s]"
          ]
        },
        {
          "output_type": "stream",
          "name": "stdout",
          "text": [
            "x.shape  torch.Size([512, 512, 60])\n",
            "latent.shape  torch.Size([512, 64, 15])\n",
            "reconstructed.shape  torch.Size([512, 512, 60])\n",
            "Epoch 2/20\n",
            "loss: 0.12480179965496063\n",
            "\n"
          ]
        },
        {
          "output_type": "stream",
          "name": "stderr",
          "text": [
            "\r 66%|██████▌   | 23040/34935 [00:54<00:29, 400.36it/s]"
          ]
        },
        {
          "output_type": "stream",
          "name": "stdout",
          "text": [
            "x.shape  torch.Size([512, 512, 60])\n",
            "latent.shape  torch.Size([512, 64, 15])\n",
            "reconstructed.shape  torch.Size([512, 512, 60])\n",
            "Epoch 2/20\n",
            "loss: 0.1253935992717743\n",
            "\n"
          ]
        },
        {
          "output_type": "stream",
          "name": "stderr",
          "text": [
            "\r 67%|██████▋   | 23552/34935 [00:55<00:28, 400.01it/s]"
          ]
        },
        {
          "output_type": "stream",
          "name": "stdout",
          "text": [
            "x.shape  torch.Size([512, 512, 60])\n",
            "latent.shape  torch.Size([512, 64, 15])\n",
            "reconstructed.shape  torch.Size([512, 512, 60])\n",
            "Epoch 2/20\n",
            "loss: 0.12623164057731628\n",
            "\n"
          ]
        },
        {
          "output_type": "stream",
          "name": "stderr",
          "text": [
            "\r 69%|██████▉   | 24064/34935 [00:57<00:27, 397.60it/s]"
          ]
        },
        {
          "output_type": "stream",
          "name": "stdout",
          "text": [
            "x.shape  torch.Size([512, 512, 60])\n",
            "latent.shape  torch.Size([512, 64, 15])\n",
            "reconstructed.shape  torch.Size([512, 512, 60])\n",
            "Epoch 2/20\n",
            "loss: 0.1262172907590866\n",
            "\n"
          ]
        },
        {
          "output_type": "stream",
          "name": "stderr",
          "text": [
            "\r 70%|███████   | 24576/34935 [00:58<00:26, 394.79it/s]"
          ]
        },
        {
          "output_type": "stream",
          "name": "stdout",
          "text": [
            "x.shape  torch.Size([512, 512, 60])\n",
            "latent.shape  torch.Size([512, 64, 15])\n",
            "reconstructed.shape  torch.Size([512, 512, 60])\n",
            "Epoch 2/20\n",
            "loss: 0.12549862265586853\n",
            "\n"
          ]
        },
        {
          "output_type": "stream",
          "name": "stderr",
          "text": [
            "\r 72%|███████▏  | 25088/34935 [00:59<00:24, 396.28it/s]"
          ]
        },
        {
          "output_type": "stream",
          "name": "stdout",
          "text": [
            "x.shape  torch.Size([512, 512, 60])\n",
            "latent.shape  torch.Size([512, 64, 15])\n",
            "reconstructed.shape  torch.Size([512, 512, 60])\n",
            "Epoch 2/20\n",
            "loss: 0.12456276267766953\n",
            "\n"
          ]
        },
        {
          "output_type": "stream",
          "name": "stderr",
          "text": [
            "\r 73%|███████▎  | 25600/34935 [01:01<00:23, 395.23it/s]"
          ]
        },
        {
          "output_type": "stream",
          "name": "stdout",
          "text": [
            "x.shape  torch.Size([512, 512, 60])\n",
            "latent.shape  torch.Size([512, 64, 15])\n",
            "reconstructed.shape  torch.Size([512, 512, 60])\n",
            "Epoch 2/20\n",
            "loss: 0.12517860531806946\n",
            "\n"
          ]
        },
        {
          "output_type": "stream",
          "name": "stderr",
          "text": [
            "\r 75%|███████▍  | 26112/34935 [01:02<00:22, 397.46it/s]"
          ]
        },
        {
          "output_type": "stream",
          "name": "stdout",
          "text": [
            "x.shape  torch.Size([512, 512, 60])\n",
            "latent.shape  torch.Size([512, 64, 15])\n",
            "reconstructed.shape  torch.Size([512, 512, 60])\n",
            "Epoch 2/20\n",
            "loss: 0.12570026516914368\n",
            "\n"
          ]
        },
        {
          "output_type": "stream",
          "name": "stderr",
          "text": [
            "\r 76%|███████▌  | 26624/34935 [01:03<00:20, 400.35it/s]"
          ]
        },
        {
          "output_type": "stream",
          "name": "stdout",
          "text": [
            "x.shape  torch.Size([512, 512, 60])\n",
            "latent.shape  torch.Size([512, 64, 15])\n",
            "reconstructed.shape  torch.Size([512, 512, 60])\n",
            "Epoch 2/20\n",
            "loss: 0.12576135993003845\n",
            "\n"
          ]
        },
        {
          "output_type": "stream",
          "name": "stderr",
          "text": [
            "\r 78%|███████▊  | 27136/34935 [01:04<00:19, 397.89it/s]"
          ]
        },
        {
          "output_type": "stream",
          "name": "stdout",
          "text": [
            "x.shape  torch.Size([512, 512, 60])\n",
            "latent.shape  torch.Size([512, 64, 15])\n",
            "reconstructed.shape  torch.Size([512, 512, 60])\n",
            "Epoch 2/20\n",
            "loss: 0.12688766419887543\n",
            "\n"
          ]
        },
        {
          "output_type": "stream",
          "name": "stderr",
          "text": [
            "\r 79%|███████▉  | 27648/34935 [01:06<00:18, 402.16it/s]"
          ]
        },
        {
          "output_type": "stream",
          "name": "stdout",
          "text": [
            "x.shape  torch.Size([512, 512, 60])\n",
            "latent.shape  torch.Size([512, 64, 15])\n",
            "reconstructed.shape  torch.Size([512, 512, 60])\n",
            "Epoch 2/20\n",
            "loss: 0.12629425525665283\n",
            "\n"
          ]
        },
        {
          "output_type": "stream",
          "name": "stderr",
          "text": [
            "\r 81%|████████  | 28160/34935 [01:07<00:17, 397.60it/s]"
          ]
        },
        {
          "output_type": "stream",
          "name": "stdout",
          "text": [
            "x.shape  torch.Size([512, 512, 60])\n",
            "latent.shape  torch.Size([512, 64, 15])\n",
            "reconstructed.shape  torch.Size([512, 512, 60])\n",
            "Epoch 2/20\n",
            "loss: 0.1246161013841629\n",
            "\n"
          ]
        },
        {
          "output_type": "stream",
          "name": "stderr",
          "text": [
            "\r 82%|████████▏ | 28672/34935 [01:08<00:15, 399.11it/s]"
          ]
        },
        {
          "output_type": "stream",
          "name": "stdout",
          "text": [
            "x.shape  torch.Size([512, 512, 60])\n",
            "latent.shape  torch.Size([512, 64, 15])\n",
            "reconstructed.shape  torch.Size([512, 512, 60])\n",
            "Epoch 2/20\n",
            "loss: 0.12372146546840668\n",
            "\n"
          ]
        },
        {
          "output_type": "stream",
          "name": "stderr",
          "text": [
            "\r 84%|████████▎ | 29184/34935 [01:09<00:14, 398.27it/s]"
          ]
        },
        {
          "output_type": "stream",
          "name": "stdout",
          "text": [
            "x.shape  torch.Size([512, 512, 60])\n",
            "latent.shape  torch.Size([512, 64, 15])\n",
            "reconstructed.shape  torch.Size([512, 512, 60])\n",
            "Epoch 2/20\n",
            "loss: 0.1255292147397995\n",
            "\n"
          ]
        },
        {
          "output_type": "stream",
          "name": "stderr",
          "text": [
            "\r 85%|████████▌ | 29696/34935 [01:11<00:13, 393.10it/s]"
          ]
        },
        {
          "output_type": "stream",
          "name": "stdout",
          "text": [
            "x.shape  torch.Size([512, 512, 60])\n",
            "latent.shape  torch.Size([512, 64, 15])\n",
            "reconstructed.shape  torch.Size([512, 512, 60])\n",
            "Epoch 2/20\n",
            "loss: 0.12484896183013916\n",
            "\n"
          ]
        },
        {
          "output_type": "stream",
          "name": "stderr",
          "text": [
            "\r 86%|████████▋ | 30208/34935 [01:12<00:12, 392.10it/s]"
          ]
        },
        {
          "output_type": "stream",
          "name": "stdout",
          "text": [
            "x.shape  torch.Size([512, 512, 60])\n",
            "latent.shape  torch.Size([512, 64, 15])\n",
            "reconstructed.shape  torch.Size([512, 512, 60])\n",
            "Epoch 2/20\n",
            "loss: 0.12394370138645172\n",
            "\n"
          ]
        },
        {
          "output_type": "stream",
          "name": "stderr",
          "text": [
            "\r 88%|████████▊ | 30720/34935 [01:13<00:10, 391.56it/s]"
          ]
        },
        {
          "output_type": "stream",
          "name": "stdout",
          "text": [
            "x.shape  torch.Size([512, 512, 60])\n",
            "latent.shape  torch.Size([512, 64, 15])\n",
            "reconstructed.shape  torch.Size([512, 512, 60])\n",
            "Epoch 2/20\n",
            "loss: 0.12481848895549774\n",
            "\n"
          ]
        },
        {
          "output_type": "stream",
          "name": "stderr",
          "text": [
            "\r 89%|████████▉ | 31232/34935 [01:15<00:09, 383.01it/s]"
          ]
        },
        {
          "output_type": "stream",
          "name": "stdout",
          "text": [
            "x.shape  torch.Size([512, 512, 60])\n",
            "latent.shape  torch.Size([512, 64, 15])\n",
            "reconstructed.shape  torch.Size([512, 512, 60])\n",
            "Epoch 2/20\n",
            "loss: 0.1252710521221161\n",
            "\n"
          ]
        },
        {
          "output_type": "stream",
          "name": "stderr",
          "text": [
            "\r 91%|█████████ | 31744/34935 [01:16<00:08, 371.13it/s]"
          ]
        },
        {
          "output_type": "stream",
          "name": "stdout",
          "text": [
            "x.shape  torch.Size([512, 512, 60])\n",
            "latent.shape  torch.Size([512, 64, 15])\n",
            "reconstructed.shape  torch.Size([512, 512, 60])\n",
            "Epoch 2/20\n",
            "loss: 0.12676842510700226\n",
            "\n"
          ]
        },
        {
          "output_type": "stream",
          "name": "stderr",
          "text": [
            "\r 92%|█████████▏| 32256/34935 [01:18<00:07, 360.75it/s]"
          ]
        },
        {
          "output_type": "stream",
          "name": "stdout",
          "text": [
            "x.shape  torch.Size([512, 512, 60])\n",
            "latent.shape  torch.Size([512, 64, 15])\n",
            "reconstructed.shape  torch.Size([512, 512, 60])\n",
            "Epoch 2/20\n",
            "loss: 0.12513120472431183\n",
            "\n"
          ]
        },
        {
          "output_type": "stream",
          "name": "stderr",
          "text": [
            "\r 94%|█████████▍| 32768/34935 [01:19<00:06, 360.13it/s]"
          ]
        },
        {
          "output_type": "stream",
          "name": "stdout",
          "text": [
            "x.shape  torch.Size([512, 512, 60])\n",
            "latent.shape  torch.Size([512, 64, 15])\n",
            "reconstructed.shape  torch.Size([512, 512, 60])\n",
            "Epoch 2/20\n",
            "loss: 0.12407481670379639\n",
            "\n"
          ]
        },
        {
          "output_type": "stream",
          "name": "stderr",
          "text": [
            "\r 95%|█████████▌| 33280/34935 [01:21<00:04, 359.39it/s]"
          ]
        },
        {
          "output_type": "stream",
          "name": "stdout",
          "text": [
            "x.shape  torch.Size([512, 512, 60])\n",
            "latent.shape  torch.Size([512, 64, 15])\n",
            "reconstructed.shape  torch.Size([512, 512, 60])\n",
            "Epoch 2/20\n",
            "loss: 0.12684662640094757\n",
            "\n"
          ]
        },
        {
          "output_type": "stream",
          "name": "stderr",
          "text": [
            "\r 97%|█████████▋| 33792/34935 [01:22<00:03, 358.39it/s]"
          ]
        },
        {
          "output_type": "stream",
          "name": "stdout",
          "text": [
            "x.shape  torch.Size([512, 512, 60])\n",
            "latent.shape  torch.Size([512, 64, 15])\n",
            "reconstructed.shape  torch.Size([512, 512, 60])\n",
            "Epoch 2/20\n",
            "loss: 0.1277766078710556\n",
            "\n"
          ]
        },
        {
          "output_type": "stream",
          "name": "stderr",
          "text": [
            "\r 98%|█████████▊| 34304/34935 [01:24<00:01, 362.15it/s]"
          ]
        },
        {
          "output_type": "stream",
          "name": "stdout",
          "text": [
            "x.shape  torch.Size([512, 512, 60])\n",
            "latent.shape  torch.Size([512, 64, 15])\n",
            "reconstructed.shape  torch.Size([512, 512, 60])\n",
            "Epoch 2/20\n",
            "loss: 0.12713317573070526\n",
            "\n"
          ]
        },
        {
          "output_type": "stream",
          "name": "stderr",
          "text": [
            "100%|██████████| 34935/34935 [01:25<00:00, 408.89it/s]"
          ]
        },
        {
          "output_type": "stream",
          "name": "stdout",
          "text": [
            "x.shape  torch.Size([512, 512, 60])\n",
            "latent.shape  torch.Size([512, 64, 15])\n",
            "reconstructed.shape  torch.Size([512, 512, 60])\n",
            "Epoch 2/20\n",
            "loss: 0.12629064917564392\n",
            "\n"
          ]
        },
        {
          "output_type": "stream",
          "name": "stderr",
          "text": [
            "\n"
          ]
        },
        {
          "output_type": "stream",
          "name": "stdout",
          "text": [
            "x.shape  torch.Size([119, 512, 60])\n",
            "latent.shape  torch.Size([119, 64, 15])\n",
            "reconstructed.shape  torch.Size([119, 512, 60])\n",
            "Epoch 2/20\n",
            "loss: 0.12321382015943527\n",
            "\n"
          ]
        },
        {
          "output_type": "stream",
          "name": "stderr",
          "text": [
            "  1%|▏         | 512/34935 [00:01<01:36, 357.83it/s]"
          ]
        },
        {
          "output_type": "stream",
          "name": "stdout",
          "text": [
            "x.shape  torch.Size([512, 512, 60])\n",
            "latent.shape  torch.Size([512, 64, 15])\n",
            "reconstructed.shape  torch.Size([512, 512, 60])\n",
            "Epoch 3/20\n",
            "loss: 0.12471617758274078\n",
            "\n"
          ]
        },
        {
          "output_type": "stream",
          "name": "stderr",
          "text": [
            "\r  3%|▎         | 1024/34935 [00:02<01:36, 350.45it/s]"
          ]
        },
        {
          "output_type": "stream",
          "name": "stdout",
          "text": [
            "x.shape  torch.Size([512, 512, 60])\n",
            "latent.shape  torch.Size([512, 64, 15])\n",
            "reconstructed.shape  torch.Size([512, 512, 60])\n",
            "Epoch 3/20\n",
            "loss: 0.12610416114330292\n",
            "\n"
          ]
        },
        {
          "output_type": "stream",
          "name": "stderr",
          "text": [
            "\r  4%|▍         | 1536/34935 [00:04<01:34, 353.39it/s]"
          ]
        },
        {
          "output_type": "stream",
          "name": "stdout",
          "text": [
            "x.shape  torch.Size([512, 512, 60])\n",
            "latent.shape  torch.Size([512, 64, 15])\n",
            "reconstructed.shape  torch.Size([512, 512, 60])\n",
            "Epoch 3/20\n",
            "loss: 0.12347260117530823\n",
            "\n"
          ]
        },
        {
          "output_type": "stream",
          "name": "stderr",
          "text": [
            "\r  6%|▌         | 2048/34935 [00:05<01:36, 342.15it/s]"
          ]
        },
        {
          "output_type": "stream",
          "name": "stdout",
          "text": [
            "x.shape  torch.Size([512, 512, 60])\n",
            "latent.shape  torch.Size([512, 64, 15])\n",
            "reconstructed.shape  torch.Size([512, 512, 60])\n",
            "Epoch 3/20\n",
            "loss: 0.12556041777133942\n",
            "\n"
          ]
        },
        {
          "output_type": "stream",
          "name": "stderr",
          "text": [
            "\r  7%|▋         | 2560/34935 [00:07<01:34, 343.19it/s]"
          ]
        },
        {
          "output_type": "stream",
          "name": "stdout",
          "text": [
            "x.shape  torch.Size([512, 512, 60])\n",
            "latent.shape  torch.Size([512, 64, 15])\n",
            "reconstructed.shape  torch.Size([512, 512, 60])\n",
            "Epoch 3/20\n",
            "loss: 0.1257520169019699\n",
            "\n"
          ]
        },
        {
          "output_type": "stream",
          "name": "stderr",
          "text": [
            "\r  9%|▉         | 3072/34935 [00:08<01:31, 346.83it/s]"
          ]
        },
        {
          "output_type": "stream",
          "name": "stdout",
          "text": [
            "x.shape  torch.Size([512, 512, 60])\n",
            "latent.shape  torch.Size([512, 64, 15])\n",
            "reconstructed.shape  torch.Size([512, 512, 60])\n",
            "Epoch 3/20\n",
            "loss: 0.12634995579719543\n",
            "\n"
          ]
        },
        {
          "output_type": "stream",
          "name": "stderr",
          "text": [
            "\r 10%|█         | 3584/34935 [00:10<01:29, 351.61it/s]"
          ]
        },
        {
          "output_type": "stream",
          "name": "stdout",
          "text": [
            "x.shape  torch.Size([512, 512, 60])\n",
            "latent.shape  torch.Size([512, 64, 15])\n",
            "reconstructed.shape  torch.Size([512, 512, 60])\n",
            "Epoch 3/20\n",
            "loss: 0.12444544583559036\n",
            "\n"
          ]
        },
        {
          "output_type": "stream",
          "name": "stderr",
          "text": [
            "\r 12%|█▏        | 4096/34935 [00:11<01:27, 353.98it/s]"
          ]
        },
        {
          "output_type": "stream",
          "name": "stdout",
          "text": [
            "x.shape  torch.Size([512, 512, 60])\n",
            "latent.shape  torch.Size([512, 64, 15])\n",
            "reconstructed.shape  torch.Size([512, 512, 60])\n",
            "Epoch 3/20\n",
            "loss: 0.125258669257164\n",
            "\n"
          ]
        },
        {
          "output_type": "stream",
          "name": "stderr",
          "text": [
            "\r 13%|█▎        | 4608/34935 [00:13<01:25, 354.25it/s]"
          ]
        },
        {
          "output_type": "stream",
          "name": "stdout",
          "text": [
            "x.shape  torch.Size([512, 512, 60])\n",
            "latent.shape  torch.Size([512, 64, 15])\n",
            "reconstructed.shape  torch.Size([512, 512, 60])\n",
            "Epoch 3/20\n",
            "loss: 0.12418313324451447\n",
            "\n"
          ]
        },
        {
          "output_type": "stream",
          "name": "stderr",
          "text": [
            "\r 15%|█▍        | 5120/34935 [00:14<01:24, 352.59it/s]"
          ]
        },
        {
          "output_type": "stream",
          "name": "stdout",
          "text": [
            "x.shape  torch.Size([512, 512, 60])\n",
            "latent.shape  torch.Size([512, 64, 15])\n",
            "reconstructed.shape  torch.Size([512, 512, 60])\n",
            "Epoch 3/20\n",
            "loss: 0.126424178481102\n",
            "\n"
          ]
        },
        {
          "output_type": "stream",
          "name": "stderr",
          "text": [
            "\r 16%|█▌        | 5632/34935 [00:15<01:22, 356.48it/s]"
          ]
        },
        {
          "output_type": "stream",
          "name": "stdout",
          "text": [
            "x.shape  torch.Size([512, 512, 60])\n",
            "latent.shape  torch.Size([512, 64, 15])\n",
            "reconstructed.shape  torch.Size([512, 512, 60])\n",
            "Epoch 3/20\n",
            "loss: 0.12560588121414185\n",
            "\n"
          ]
        },
        {
          "output_type": "stream",
          "name": "stderr",
          "text": [
            "\r 18%|█▊        | 6144/34935 [00:17<01:20, 359.61it/s]"
          ]
        },
        {
          "output_type": "stream",
          "name": "stdout",
          "text": [
            "x.shape  torch.Size([512, 512, 60])\n",
            "latent.shape  torch.Size([512, 64, 15])\n",
            "reconstructed.shape  torch.Size([512, 512, 60])\n",
            "Epoch 3/20\n",
            "loss: 0.12452369928359985\n",
            "\n"
          ]
        },
        {
          "output_type": "stream",
          "name": "stderr",
          "text": [
            "\r 19%|█▉        | 6656/34935 [00:18<01:18, 361.53it/s]"
          ]
        },
        {
          "output_type": "stream",
          "name": "stdout",
          "text": [
            "x.shape  torch.Size([512, 512, 60])\n",
            "latent.shape  torch.Size([512, 64, 15])\n",
            "reconstructed.shape  torch.Size([512, 512, 60])\n",
            "Epoch 3/20\n",
            "loss: 0.12196433544158936\n",
            "\n"
          ]
        },
        {
          "output_type": "stream",
          "name": "stderr",
          "text": [
            "\r 21%|██        | 7168/34935 [00:20<01:16, 364.52it/s]"
          ]
        },
        {
          "output_type": "stream",
          "name": "stdout",
          "text": [
            "x.shape  torch.Size([512, 512, 60])\n",
            "latent.shape  torch.Size([512, 64, 15])\n",
            "reconstructed.shape  torch.Size([512, 512, 60])\n",
            "Epoch 3/20\n",
            "loss: 0.12343744188547134\n",
            "\n"
          ]
        },
        {
          "output_type": "stream",
          "name": "stderr",
          "text": [
            "\r 22%|██▏       | 7680/34935 [00:21<01:14, 364.77it/s]"
          ]
        },
        {
          "output_type": "stream",
          "name": "stdout",
          "text": [
            "x.shape  torch.Size([512, 512, 60])\n",
            "latent.shape  torch.Size([512, 64, 15])\n",
            "reconstructed.shape  torch.Size([512, 512, 60])\n",
            "Epoch 3/20\n",
            "loss: 0.12585100531578064\n",
            "\n"
          ]
        },
        {
          "output_type": "stream",
          "name": "stderr",
          "text": [
            "\r 23%|██▎       | 8192/34935 [00:22<01:13, 363.21it/s]"
          ]
        },
        {
          "output_type": "stream",
          "name": "stdout",
          "text": [
            "x.shape  torch.Size([512, 512, 60])\n",
            "latent.shape  torch.Size([512, 64, 15])\n",
            "reconstructed.shape  torch.Size([512, 512, 60])\n",
            "Epoch 3/20\n",
            "loss: 0.12359774112701416\n",
            "\n"
          ]
        },
        {
          "output_type": "stream",
          "name": "stderr",
          "text": [
            "\r 25%|██▍       | 8704/34935 [00:24<01:11, 365.26it/s]"
          ]
        },
        {
          "output_type": "stream",
          "name": "stdout",
          "text": [
            "x.shape  torch.Size([512, 512, 60])\n",
            "latent.shape  torch.Size([512, 64, 15])\n",
            "reconstructed.shape  torch.Size([512, 512, 60])\n",
            "Epoch 3/20\n",
            "loss: 0.12406475841999054\n",
            "\n"
          ]
        },
        {
          "output_type": "stream",
          "name": "stderr",
          "text": [
            "\r 26%|██▋       | 9216/34935 [00:25<01:09, 371.07it/s]"
          ]
        },
        {
          "output_type": "stream",
          "name": "stdout",
          "text": [
            "x.shape  torch.Size([512, 512, 60])\n",
            "latent.shape  torch.Size([512, 64, 15])\n",
            "reconstructed.shape  torch.Size([512, 512, 60])\n",
            "Epoch 3/20\n",
            "loss: 0.12560752034187317\n",
            "\n"
          ]
        },
        {
          "output_type": "stream",
          "name": "stderr",
          "text": [
            "\r 28%|██▊       | 9728/34935 [00:26<01:06, 378.49it/s]"
          ]
        },
        {
          "output_type": "stream",
          "name": "stdout",
          "text": [
            "x.shape  torch.Size([512, 512, 60])\n",
            "latent.shape  torch.Size([512, 64, 15])\n",
            "reconstructed.shape  torch.Size([512, 512, 60])\n",
            "Epoch 3/20\n",
            "loss: 0.12482675909996033\n",
            "\n"
          ]
        },
        {
          "output_type": "stream",
          "name": "stderr",
          "text": [
            "\r 29%|██▉       | 10240/34935 [00:28<01:04, 380.58it/s]"
          ]
        },
        {
          "output_type": "stream",
          "name": "stdout",
          "text": [
            "x.shape  torch.Size([512, 512, 60])\n",
            "latent.shape  torch.Size([512, 64, 15])\n",
            "reconstructed.shape  torch.Size([512, 512, 60])\n",
            "Epoch 3/20\n",
            "loss: 0.12672506272792816\n",
            "\n"
          ]
        },
        {
          "output_type": "stream",
          "name": "stderr",
          "text": [
            "\r 31%|███       | 10752/34935 [00:29<01:03, 378.60it/s]"
          ]
        },
        {
          "output_type": "stream",
          "name": "stdout",
          "text": [
            "x.shape  torch.Size([512, 512, 60])\n",
            "latent.shape  torch.Size([512, 64, 15])\n",
            "reconstructed.shape  torch.Size([512, 512, 60])\n",
            "Epoch 3/20\n",
            "loss: 0.1242324709892273\n",
            "\n"
          ]
        },
        {
          "output_type": "stream",
          "name": "stderr",
          "text": [
            "\r 32%|███▏      | 11264/34935 [00:31<01:02, 378.11it/s]"
          ]
        },
        {
          "output_type": "stream",
          "name": "stdout",
          "text": [
            "x.shape  torch.Size([512, 512, 60])\n",
            "latent.shape  torch.Size([512, 64, 15])\n",
            "reconstructed.shape  torch.Size([512, 512, 60])\n",
            "Epoch 3/20\n",
            "loss: 0.12405896186828613\n",
            "\n"
          ]
        },
        {
          "output_type": "stream",
          "name": "stderr",
          "text": [
            "\r 34%|███▎      | 11776/34935 [00:32<01:00, 382.79it/s]"
          ]
        },
        {
          "output_type": "stream",
          "name": "stdout",
          "text": [
            "x.shape  torch.Size([512, 512, 60])\n",
            "latent.shape  torch.Size([512, 64, 15])\n",
            "reconstructed.shape  torch.Size([512, 512, 60])\n",
            "Epoch 3/20\n",
            "loss: 0.12431448698043823\n",
            "\n"
          ]
        },
        {
          "output_type": "stream",
          "name": "stderr",
          "text": [
            "\r 35%|███▌      | 12288/34935 [00:33<00:58, 386.32it/s]"
          ]
        },
        {
          "output_type": "stream",
          "name": "stdout",
          "text": [
            "x.shape  torch.Size([512, 512, 60])\n",
            "latent.shape  torch.Size([512, 64, 15])\n",
            "reconstructed.shape  torch.Size([512, 512, 60])\n",
            "Epoch 3/20\n",
            "loss: 0.12287158519029617\n",
            "\n"
          ]
        },
        {
          "output_type": "stream",
          "name": "stderr",
          "text": [
            "\r 37%|███▋      | 12800/34935 [00:34<00:56, 388.67it/s]"
          ]
        },
        {
          "output_type": "stream",
          "name": "stdout",
          "text": [
            "x.shape  torch.Size([512, 512, 60])\n",
            "latent.shape  torch.Size([512, 64, 15])\n",
            "reconstructed.shape  torch.Size([512, 512, 60])\n",
            "Epoch 3/20\n",
            "loss: 0.12440801411867142\n",
            "\n"
          ]
        },
        {
          "output_type": "stream",
          "name": "stderr",
          "text": [
            "\r 38%|███▊      | 13312/34935 [00:36<00:55, 390.17it/s]"
          ]
        },
        {
          "output_type": "stream",
          "name": "stdout",
          "text": [
            "x.shape  torch.Size([512, 512, 60])\n",
            "latent.shape  torch.Size([512, 64, 15])\n",
            "reconstructed.shape  torch.Size([512, 512, 60])\n",
            "Epoch 3/20\n",
            "loss: 0.1246890127658844\n",
            "\n"
          ]
        },
        {
          "output_type": "stream",
          "name": "stderr",
          "text": [
            "\r 40%|███▉      | 13824/34935 [00:37<00:54, 387.05it/s]"
          ]
        },
        {
          "output_type": "stream",
          "name": "stdout",
          "text": [
            "x.shape  torch.Size([512, 512, 60])\n",
            "latent.shape  torch.Size([512, 64, 15])\n",
            "reconstructed.shape  torch.Size([512, 512, 60])\n",
            "Epoch 3/20\n",
            "loss: 0.12421334534883499\n",
            "\n"
          ]
        },
        {
          "output_type": "stream",
          "name": "stderr",
          "text": [
            "\r 41%|████      | 14336/34935 [00:38<00:52, 394.81it/s]"
          ]
        },
        {
          "output_type": "stream",
          "name": "stdout",
          "text": [
            "x.shape  torch.Size([512, 512, 60])\n",
            "latent.shape  torch.Size([512, 64, 15])\n",
            "reconstructed.shape  torch.Size([512, 512, 60])\n",
            "Epoch 3/20\n",
            "loss: 0.12387814372777939\n",
            "\n"
          ]
        },
        {
          "output_type": "stream",
          "name": "stderr",
          "text": [
            "\r 43%|████▎     | 14848/34935 [00:40<00:50, 396.23it/s]"
          ]
        },
        {
          "output_type": "stream",
          "name": "stdout",
          "text": [
            "x.shape  torch.Size([512, 512, 60])\n",
            "latent.shape  torch.Size([512, 64, 15])\n",
            "reconstructed.shape  torch.Size([512, 512, 60])\n",
            "Epoch 3/20\n",
            "loss: 0.1255435049533844\n",
            "\n"
          ]
        },
        {
          "output_type": "stream",
          "name": "stderr",
          "text": [
            "\r 44%|████▍     | 15360/34935 [00:41<00:49, 394.60it/s]"
          ]
        },
        {
          "output_type": "stream",
          "name": "stdout",
          "text": [
            "x.shape  torch.Size([512, 512, 60])\n",
            "latent.shape  torch.Size([512, 64, 15])\n",
            "reconstructed.shape  torch.Size([512, 512, 60])\n",
            "Epoch 3/20\n",
            "loss: 0.1243462935090065\n",
            "\n"
          ]
        },
        {
          "output_type": "stream",
          "name": "stderr",
          "text": [
            "\r 45%|████▌     | 15872/34935 [00:42<00:48, 395.33it/s]"
          ]
        },
        {
          "output_type": "stream",
          "name": "stdout",
          "text": [
            "x.shape  torch.Size([512, 512, 60])\n",
            "latent.shape  torch.Size([512, 64, 15])\n",
            "reconstructed.shape  torch.Size([512, 512, 60])\n",
            "Epoch 3/20\n",
            "loss: 0.12473659962415695\n",
            "\n"
          ]
        },
        {
          "output_type": "stream",
          "name": "stderr",
          "text": [
            "\r 47%|████▋     | 16384/34935 [00:44<00:47, 392.78it/s]"
          ]
        },
        {
          "output_type": "stream",
          "name": "stdout",
          "text": [
            "x.shape  torch.Size([512, 512, 60])\n",
            "latent.shape  torch.Size([512, 64, 15])\n",
            "reconstructed.shape  torch.Size([512, 512, 60])\n",
            "Epoch 3/20\n",
            "loss: 0.12273097783327103\n",
            "\n"
          ]
        },
        {
          "output_type": "stream",
          "name": "stderr",
          "text": [
            "\r 48%|████▊     | 16896/34935 [00:45<00:45, 394.56it/s]"
          ]
        },
        {
          "output_type": "stream",
          "name": "stdout",
          "text": [
            "x.shape  torch.Size([512, 512, 60])\n",
            "latent.shape  torch.Size([512, 64, 15])\n",
            "reconstructed.shape  torch.Size([512, 512, 60])\n",
            "Epoch 3/20\n",
            "loss: 0.1239561140537262\n",
            "\n"
          ]
        },
        {
          "output_type": "stream",
          "name": "stderr",
          "text": [
            "\r 50%|████▉     | 17408/34935 [00:46<00:44, 396.49it/s]"
          ]
        },
        {
          "output_type": "stream",
          "name": "stdout",
          "text": [
            "x.shape  torch.Size([512, 512, 60])\n",
            "latent.shape  torch.Size([512, 64, 15])\n",
            "reconstructed.shape  torch.Size([512, 512, 60])\n",
            "Epoch 3/20\n",
            "loss: 0.12363554537296295\n",
            "\n"
          ]
        },
        {
          "output_type": "stream",
          "name": "stderr",
          "text": [
            "\r 51%|█████▏    | 17920/34935 [00:48<00:44, 380.44it/s]"
          ]
        },
        {
          "output_type": "stream",
          "name": "stdout",
          "text": [
            "x.shape  torch.Size([512, 512, 60])\n",
            "latent.shape  torch.Size([512, 64, 15])\n",
            "reconstructed.shape  torch.Size([512, 512, 60])\n",
            "Epoch 3/20\n",
            "loss: 0.12428820133209229\n",
            "\n"
          ]
        },
        {
          "output_type": "stream",
          "name": "stderr",
          "text": [
            "\r 53%|█████▎    | 18432/34935 [00:49<00:42, 386.58it/s]"
          ]
        },
        {
          "output_type": "stream",
          "name": "stdout",
          "text": [
            "x.shape  torch.Size([512, 512, 60])\n",
            "latent.shape  torch.Size([512, 64, 15])\n",
            "reconstructed.shape  torch.Size([512, 512, 60])\n",
            "Epoch 3/20\n",
            "loss: 0.12624654173851013\n",
            "\n"
          ]
        },
        {
          "output_type": "stream",
          "name": "stderr",
          "text": [
            "\r 54%|█████▍    | 18944/34935 [00:50<00:41, 387.72it/s]"
          ]
        },
        {
          "output_type": "stream",
          "name": "stdout",
          "text": [
            "x.shape  torch.Size([512, 512, 60])\n",
            "latent.shape  torch.Size([512, 64, 15])\n",
            "reconstructed.shape  torch.Size([512, 512, 60])\n",
            "Epoch 3/20\n",
            "loss: 0.1219651848077774\n",
            "\n"
          ]
        },
        {
          "output_type": "stream",
          "name": "stderr",
          "text": [
            "\r 56%|█████▌    | 19456/34935 [00:51<00:39, 391.38it/s]"
          ]
        },
        {
          "output_type": "stream",
          "name": "stdout",
          "text": [
            "x.shape  torch.Size([512, 512, 60])\n",
            "latent.shape  torch.Size([512, 64, 15])\n",
            "reconstructed.shape  torch.Size([512, 512, 60])\n",
            "Epoch 3/20\n",
            "loss: 0.1258821338415146\n",
            "\n"
          ]
        },
        {
          "output_type": "stream",
          "name": "stderr",
          "text": [
            "\r 57%|█████▋    | 19968/34935 [00:53<00:38, 393.09it/s]"
          ]
        },
        {
          "output_type": "stream",
          "name": "stdout",
          "text": [
            "x.shape  torch.Size([512, 512, 60])\n",
            "latent.shape  torch.Size([512, 64, 15])\n",
            "reconstructed.shape  torch.Size([512, 512, 60])\n",
            "Epoch 3/20\n",
            "loss: 0.12491204589605331\n",
            "\n"
          ]
        },
        {
          "output_type": "stream",
          "name": "stderr",
          "text": [
            "\r 59%|█████▊    | 20480/34935 [00:54<00:36, 390.82it/s]"
          ]
        },
        {
          "output_type": "stream",
          "name": "stdout",
          "text": [
            "x.shape  torch.Size([512, 512, 60])\n",
            "latent.shape  torch.Size([512, 64, 15])\n",
            "reconstructed.shape  torch.Size([512, 512, 60])\n",
            "Epoch 3/20\n",
            "loss: 0.12474358081817627\n",
            "\n"
          ]
        },
        {
          "output_type": "stream",
          "name": "stderr",
          "text": [
            "\r 60%|██████    | 20992/34935 [00:55<00:35, 396.63it/s]"
          ]
        },
        {
          "output_type": "stream",
          "name": "stdout",
          "text": [
            "x.shape  torch.Size([512, 512, 60])\n",
            "latent.shape  torch.Size([512, 64, 15])\n",
            "reconstructed.shape  torch.Size([512, 512, 60])\n",
            "Epoch 3/20\n",
            "loss: 0.12345146387815475\n",
            "\n"
          ]
        },
        {
          "output_type": "stream",
          "name": "stderr",
          "text": [
            "\r 62%|██████▏   | 21504/34935 [00:57<00:33, 398.21it/s]"
          ]
        },
        {
          "output_type": "stream",
          "name": "stdout",
          "text": [
            "x.shape  torch.Size([512, 512, 60])\n",
            "latent.shape  torch.Size([512, 64, 15])\n",
            "reconstructed.shape  torch.Size([512, 512, 60])\n",
            "Epoch 3/20\n",
            "loss: 0.12571190297603607\n",
            "\n"
          ]
        },
        {
          "output_type": "stream",
          "name": "stderr",
          "text": [
            "\r 63%|██████▎   | 22016/34935 [00:58<00:33, 391.31it/s]"
          ]
        },
        {
          "output_type": "stream",
          "name": "stdout",
          "text": [
            "x.shape  torch.Size([512, 512, 60])\n",
            "latent.shape  torch.Size([512, 64, 15])\n",
            "reconstructed.shape  torch.Size([512, 512, 60])\n",
            "Epoch 3/20\n",
            "loss: 0.123345285654068\n",
            "\n"
          ]
        },
        {
          "output_type": "stream",
          "name": "stderr",
          "text": [
            "\r 64%|██████▍   | 22528/34935 [00:59<00:31, 396.01it/s]"
          ]
        },
        {
          "output_type": "stream",
          "name": "stdout",
          "text": [
            "x.shape  torch.Size([512, 512, 60])\n",
            "latent.shape  torch.Size([512, 64, 15])\n",
            "reconstructed.shape  torch.Size([512, 512, 60])\n",
            "Epoch 3/20\n",
            "loss: 0.12324217706918716\n",
            "\n"
          ]
        },
        {
          "output_type": "stream",
          "name": "stderr",
          "text": [
            "\r 66%|██████▌   | 23040/34935 [01:01<00:30, 389.59it/s]"
          ]
        },
        {
          "output_type": "stream",
          "name": "stdout",
          "text": [
            "x.shape  torch.Size([512, 512, 60])\n",
            "latent.shape  torch.Size([512, 64, 15])\n",
            "reconstructed.shape  torch.Size([512, 512, 60])\n",
            "Epoch 3/20\n",
            "loss: 0.1238560751080513\n",
            "\n"
          ]
        },
        {
          "output_type": "stream",
          "name": "stderr",
          "text": [
            "\r 67%|██████▋   | 23552/34935 [01:02<00:29, 392.48it/s]"
          ]
        },
        {
          "output_type": "stream",
          "name": "stdout",
          "text": [
            "x.shape  torch.Size([512, 512, 60])\n",
            "latent.shape  torch.Size([512, 64, 15])\n",
            "reconstructed.shape  torch.Size([512, 512, 60])\n",
            "Epoch 3/20\n",
            "loss: 0.12479080259799957\n",
            "\n"
          ]
        },
        {
          "output_type": "stream",
          "name": "stderr",
          "text": [
            "\r 69%|██████▉   | 24064/34935 [01:03<00:27, 388.53it/s]"
          ]
        },
        {
          "output_type": "stream",
          "name": "stdout",
          "text": [
            "x.shape  torch.Size([512, 512, 60])\n",
            "latent.shape  torch.Size([512, 64, 15])\n",
            "reconstructed.shape  torch.Size([512, 512, 60])\n",
            "Epoch 3/20\n",
            "loss: 0.12478217482566833\n",
            "\n"
          ]
        },
        {
          "output_type": "stream",
          "name": "stderr",
          "text": [
            "\r 70%|███████   | 24576/34935 [01:04<00:26, 393.43it/s]"
          ]
        },
        {
          "output_type": "stream",
          "name": "stdout",
          "text": [
            "x.shape  torch.Size([512, 512, 60])\n",
            "latent.shape  torch.Size([512, 64, 15])\n",
            "reconstructed.shape  torch.Size([512, 512, 60])\n",
            "Epoch 3/20\n",
            "loss: 0.12414278090000153\n",
            "\n"
          ]
        },
        {
          "output_type": "stream",
          "name": "stderr",
          "text": [
            "\r 72%|███████▏  | 25088/34935 [01:06<00:24, 397.12it/s]"
          ]
        },
        {
          "output_type": "stream",
          "name": "stdout",
          "text": [
            "x.shape  torch.Size([512, 512, 60])\n",
            "latent.shape  torch.Size([512, 64, 15])\n",
            "reconstructed.shape  torch.Size([512, 512, 60])\n",
            "Epoch 3/20\n",
            "loss: 0.12319228798151016\n",
            "\n"
          ]
        },
        {
          "output_type": "stream",
          "name": "stderr",
          "text": [
            "\r 73%|███████▎  | 25600/34935 [01:07<00:23, 394.97it/s]"
          ]
        },
        {
          "output_type": "stream",
          "name": "stdout",
          "text": [
            "x.shape  torch.Size([512, 512, 60])\n",
            "latent.shape  torch.Size([512, 64, 15])\n",
            "reconstructed.shape  torch.Size([512, 512, 60])\n",
            "Epoch 3/20\n",
            "loss: 0.1238529235124588\n",
            "\n"
          ]
        },
        {
          "output_type": "stream",
          "name": "stderr",
          "text": [
            "\r 75%|███████▍  | 26112/34935 [01:08<00:22, 395.27it/s]"
          ]
        },
        {
          "output_type": "stream",
          "name": "stdout",
          "text": [
            "x.shape  torch.Size([512, 512, 60])\n",
            "latent.shape  torch.Size([512, 64, 15])\n",
            "reconstructed.shape  torch.Size([512, 512, 60])\n",
            "Epoch 3/20\n",
            "loss: 0.12440003454685211\n",
            "\n"
          ]
        },
        {
          "output_type": "stream",
          "name": "stderr",
          "text": [
            "\r 76%|███████▌  | 26624/34935 [01:10<00:21, 394.75it/s]"
          ]
        },
        {
          "output_type": "stream",
          "name": "stdout",
          "text": [
            "x.shape  torch.Size([512, 512, 60])\n",
            "latent.shape  torch.Size([512, 64, 15])\n",
            "reconstructed.shape  torch.Size([512, 512, 60])\n",
            "Epoch 3/20\n",
            "loss: 0.12450740486383438\n",
            "\n"
          ]
        },
        {
          "output_type": "stream",
          "name": "stderr",
          "text": [
            "\r 78%|███████▊  | 27136/34935 [01:11<00:19, 394.75it/s]"
          ]
        },
        {
          "output_type": "stream",
          "name": "stdout",
          "text": [
            "x.shape  torch.Size([512, 512, 60])\n",
            "latent.shape  torch.Size([512, 64, 15])\n",
            "reconstructed.shape  torch.Size([512, 512, 60])\n",
            "Epoch 3/20\n",
            "loss: 0.12558868527412415\n",
            "\n"
          ]
        },
        {
          "output_type": "stream",
          "name": "stderr",
          "text": [
            "\r 79%|███████▉  | 27648/34935 [01:12<00:18, 398.18it/s]"
          ]
        },
        {
          "output_type": "stream",
          "name": "stdout",
          "text": [
            "x.shape  torch.Size([512, 512, 60])\n",
            "latent.shape  torch.Size([512, 64, 15])\n",
            "reconstructed.shape  torch.Size([512, 512, 60])\n",
            "Epoch 3/20\n",
            "loss: 0.12504160404205322\n",
            "\n"
          ]
        },
        {
          "output_type": "stream",
          "name": "stderr",
          "text": [
            "\r 81%|████████  | 28160/34935 [01:13<00:17, 394.88it/s]"
          ]
        },
        {
          "output_type": "stream",
          "name": "stdout",
          "text": [
            "x.shape  torch.Size([512, 512, 60])\n",
            "latent.shape  torch.Size([512, 64, 15])\n",
            "reconstructed.shape  torch.Size([512, 512, 60])\n",
            "Epoch 3/20\n",
            "loss: 0.12338671088218689\n",
            "\n"
          ]
        },
        {
          "output_type": "stream",
          "name": "stderr",
          "text": [
            "\r 82%|████████▏ | 28672/34935 [01:15<00:15, 398.80it/s]"
          ]
        },
        {
          "output_type": "stream",
          "name": "stdout",
          "text": [
            "x.shape  torch.Size([512, 512, 60])\n",
            "latent.shape  torch.Size([512, 64, 15])\n",
            "reconstructed.shape  torch.Size([512, 512, 60])\n",
            "Epoch 3/20\n",
            "loss: 0.12258414179086685\n",
            "\n"
          ]
        },
        {
          "output_type": "stream",
          "name": "stderr",
          "text": [
            "\r 84%|████████▎ | 29184/34935 [01:16<00:14, 396.38it/s]"
          ]
        },
        {
          "output_type": "stream",
          "name": "stdout",
          "text": [
            "x.shape  torch.Size([512, 512, 60])\n",
            "latent.shape  torch.Size([512, 64, 15])\n",
            "reconstructed.shape  torch.Size([512, 512, 60])\n",
            "Epoch 3/20\n",
            "loss: 0.12435107678174973\n",
            "\n"
          ]
        },
        {
          "output_type": "stream",
          "name": "stderr",
          "text": [
            "\r 85%|████████▌ | 29696/34935 [01:17<00:13, 394.37it/s]"
          ]
        },
        {
          "output_type": "stream",
          "name": "stdout",
          "text": [
            "x.shape  torch.Size([512, 512, 60])\n",
            "latent.shape  torch.Size([512, 64, 15])\n",
            "reconstructed.shape  torch.Size([512, 512, 60])\n",
            "Epoch 3/20\n",
            "loss: 0.12367058545351028\n",
            "\n"
          ]
        },
        {
          "output_type": "stream",
          "name": "stderr",
          "text": [
            "\r 86%|████████▋ | 30208/34935 [01:19<00:11, 397.83it/s]"
          ]
        },
        {
          "output_type": "stream",
          "name": "stdout",
          "text": [
            "x.shape  torch.Size([512, 512, 60])\n",
            "latent.shape  torch.Size([512, 64, 15])\n",
            "reconstructed.shape  torch.Size([512, 512, 60])\n",
            "Epoch 3/20\n",
            "loss: 0.12277483940124512\n",
            "\n"
          ]
        },
        {
          "output_type": "stream",
          "name": "stderr",
          "text": [
            "\r 88%|████████▊ | 30720/34935 [01:20<00:10, 401.91it/s]"
          ]
        },
        {
          "output_type": "stream",
          "name": "stdout",
          "text": [
            "x.shape  torch.Size([512, 512, 60])\n",
            "latent.shape  torch.Size([512, 64, 15])\n",
            "reconstructed.shape  torch.Size([512, 512, 60])\n",
            "Epoch 3/20\n",
            "loss: 0.12362754344940186\n",
            "\n"
          ]
        },
        {
          "output_type": "stream",
          "name": "stderr",
          "text": [
            "\r 89%|████████▉ | 31232/34935 [01:21<00:09, 394.65it/s]"
          ]
        },
        {
          "output_type": "stream",
          "name": "stdout",
          "text": [
            "x.shape  torch.Size([512, 512, 60])\n",
            "latent.shape  torch.Size([512, 64, 15])\n",
            "reconstructed.shape  torch.Size([512, 512, 60])\n",
            "Epoch 3/20\n",
            "loss: 0.12410824000835419\n",
            "\n"
          ]
        },
        {
          "output_type": "stream",
          "name": "stderr",
          "text": [
            "\r 91%|█████████ | 31744/34935 [01:23<00:08, 386.53it/s]"
          ]
        },
        {
          "output_type": "stream",
          "name": "stdout",
          "text": [
            "x.shape  torch.Size([512, 512, 60])\n",
            "latent.shape  torch.Size([512, 64, 15])\n",
            "reconstructed.shape  torch.Size([512, 512, 60])\n",
            "Epoch 3/20\n",
            "loss: 0.12561871111392975\n",
            "\n"
          ]
        },
        {
          "output_type": "stream",
          "name": "stderr",
          "text": [
            "\r 92%|█████████▏| 32256/34935 [01:24<00:06, 382.94it/s]"
          ]
        },
        {
          "output_type": "stream",
          "name": "stdout",
          "text": [
            "x.shape  torch.Size([512, 512, 60])\n",
            "latent.shape  torch.Size([512, 64, 15])\n",
            "reconstructed.shape  torch.Size([512, 512, 60])\n",
            "Epoch 3/20\n",
            "loss: 0.1240287721157074\n",
            "\n"
          ]
        },
        {
          "output_type": "stream",
          "name": "stderr",
          "text": [
            "\r 94%|█████████▍| 32768/34935 [01:25<00:05, 384.59it/s]"
          ]
        },
        {
          "output_type": "stream",
          "name": "stdout",
          "text": [
            "x.shape  torch.Size([512, 512, 60])\n",
            "latent.shape  torch.Size([512, 64, 15])\n",
            "reconstructed.shape  torch.Size([512, 512, 60])\n",
            "Epoch 3/20\n",
            "loss: 0.12295784056186676\n",
            "\n"
          ]
        },
        {
          "output_type": "stream",
          "name": "stderr",
          "text": [
            "\r 95%|█████████▌| 33280/34935 [01:27<00:04, 384.86it/s]"
          ]
        },
        {
          "output_type": "stream",
          "name": "stdout",
          "text": [
            "x.shape  torch.Size([512, 512, 60])\n",
            "latent.shape  torch.Size([512, 64, 15])\n",
            "reconstructed.shape  torch.Size([512, 512, 60])\n",
            "Epoch 3/20\n",
            "loss: 0.12578177452087402\n",
            "\n"
          ]
        },
        {
          "output_type": "stream",
          "name": "stderr",
          "text": [
            "\r 97%|█████████▋| 33792/34935 [01:28<00:02, 383.12it/s]"
          ]
        },
        {
          "output_type": "stream",
          "name": "stdout",
          "text": [
            "x.shape  torch.Size([512, 512, 60])\n",
            "latent.shape  torch.Size([512, 64, 15])\n",
            "reconstructed.shape  torch.Size([512, 512, 60])\n",
            "Epoch 3/20\n",
            "loss: 0.12662634253501892\n",
            "\n"
          ]
        },
        {
          "output_type": "stream",
          "name": "stderr",
          "text": [
            "\r 98%|█████████▊| 34304/34935 [01:29<00:01, 388.13it/s]"
          ]
        },
        {
          "output_type": "stream",
          "name": "stdout",
          "text": [
            "x.shape  torch.Size([512, 512, 60])\n",
            "latent.shape  torch.Size([512, 64, 15])\n",
            "reconstructed.shape  torch.Size([512, 512, 60])\n",
            "Epoch 3/20\n",
            "loss: 0.1260189712047577\n",
            "\n"
          ]
        },
        {
          "output_type": "stream",
          "name": "stderr",
          "text": [
            "100%|██████████| 34935/34935 [01:31<00:00, 383.37it/s]"
          ]
        },
        {
          "output_type": "stream",
          "name": "stdout",
          "text": [
            "x.shape  torch.Size([512, 512, 60])\n",
            "latent.shape  torch.Size([512, 64, 15])\n",
            "reconstructed.shape  torch.Size([512, 512, 60])\n",
            "Epoch 3/20\n",
            "loss: 0.12520019710063934\n",
            "\n"
          ]
        },
        {
          "output_type": "stream",
          "name": "stderr",
          "text": [
            "\n"
          ]
        },
        {
          "output_type": "stream",
          "name": "stdout",
          "text": [
            "x.shape  torch.Size([119, 512, 60])\n",
            "latent.shape  torch.Size([119, 64, 15])\n",
            "reconstructed.shape  torch.Size([119, 512, 60])\n",
            "Epoch 3/20\n",
            "loss: 0.12197323143482208\n",
            "\n"
          ]
        },
        {
          "output_type": "stream",
          "name": "stderr",
          "text": [
            "  1%|▏         | 512/34935 [00:01<01:33, 366.43it/s]"
          ]
        },
        {
          "output_type": "stream",
          "name": "stdout",
          "text": [
            "x.shape  torch.Size([512, 512, 60])\n",
            "latent.shape  torch.Size([512, 64, 15])\n",
            "reconstructed.shape  torch.Size([512, 512, 60])\n",
            "Epoch 4/20\n",
            "loss: 0.12363587319850922\n",
            "\n"
          ]
        },
        {
          "output_type": "stream",
          "name": "stderr",
          "text": [
            "\r  3%|▎         | 1024/34935 [00:02<01:33, 361.08it/s]"
          ]
        },
        {
          "output_type": "stream",
          "name": "stdout",
          "text": [
            "x.shape  torch.Size([512, 512, 60])\n",
            "latent.shape  torch.Size([512, 64, 15])\n",
            "reconstructed.shape  torch.Size([512, 512, 60])\n",
            "Epoch 4/20\n",
            "loss: 0.12510740756988525\n",
            "\n"
          ]
        },
        {
          "output_type": "stream",
          "name": "stderr",
          "text": [
            "\r  4%|▍         | 1536/34935 [00:04<01:33, 358.16it/s]"
          ]
        },
        {
          "output_type": "stream",
          "name": "stdout",
          "text": [
            "x.shape  torch.Size([512, 512, 60])\n",
            "latent.shape  torch.Size([512, 64, 15])\n",
            "reconstructed.shape  torch.Size([512, 512, 60])\n",
            "Epoch 4/20\n",
            "loss: 0.1223374605178833\n",
            "\n"
          ]
        },
        {
          "output_type": "stream",
          "name": "stderr",
          "text": [
            "\r  6%|▌         | 2048/34935 [00:05<01:32, 354.85it/s]"
          ]
        },
        {
          "output_type": "stream",
          "name": "stdout",
          "text": [
            "x.shape  torch.Size([512, 512, 60])\n",
            "latent.shape  torch.Size([512, 64, 15])\n",
            "reconstructed.shape  torch.Size([512, 512, 60])\n",
            "Epoch 4/20\n",
            "loss: 0.12452340126037598\n",
            "\n"
          ]
        },
        {
          "output_type": "stream",
          "name": "stderr",
          "text": [
            "\r  7%|▋         | 2560/34935 [00:07<01:29, 361.78it/s]"
          ]
        },
        {
          "output_type": "stream",
          "name": "stdout",
          "text": [
            "x.shape  torch.Size([512, 512, 60])\n",
            "latent.shape  torch.Size([512, 64, 15])\n",
            "reconstructed.shape  torch.Size([512, 512, 60])\n",
            "Epoch 4/20\n",
            "loss: 0.12482649087905884\n",
            "\n"
          ]
        },
        {
          "output_type": "stream",
          "name": "stderr",
          "text": [
            "\r  9%|▉         | 3072/34935 [00:08<01:27, 362.47it/s]"
          ]
        },
        {
          "output_type": "stream",
          "name": "stdout",
          "text": [
            "x.shape  torch.Size([512, 512, 60])\n",
            "latent.shape  torch.Size([512, 64, 15])\n",
            "reconstructed.shape  torch.Size([512, 512, 60])\n",
            "Epoch 4/20\n",
            "loss: 0.1253243237733841\n",
            "\n"
          ]
        },
        {
          "output_type": "stream",
          "name": "stderr",
          "text": [
            "\r 10%|█         | 3584/34935 [00:09<01:25, 368.65it/s]"
          ]
        },
        {
          "output_type": "stream",
          "name": "stdout",
          "text": [
            "x.shape  torch.Size([512, 512, 60])\n",
            "latent.shape  torch.Size([512, 64, 15])\n",
            "reconstructed.shape  torch.Size([512, 512, 60])\n",
            "Epoch 4/20\n",
            "loss: 0.1234935075044632\n",
            "\n"
          ]
        },
        {
          "output_type": "stream",
          "name": "stderr",
          "text": [
            "\r 12%|█▏        | 4096/34935 [00:11<01:24, 364.97it/s]"
          ]
        },
        {
          "output_type": "stream",
          "name": "stdout",
          "text": [
            "x.shape  torch.Size([512, 512, 60])\n",
            "latent.shape  torch.Size([512, 64, 15])\n",
            "reconstructed.shape  torch.Size([512, 512, 60])\n",
            "Epoch 4/20\n",
            "loss: 0.12423843145370483\n",
            "\n"
          ]
        },
        {
          "output_type": "stream",
          "name": "stderr",
          "text": [
            "\r 13%|█▎        | 4608/34935 [00:12<01:25, 356.31it/s]"
          ]
        },
        {
          "output_type": "stream",
          "name": "stdout",
          "text": [
            "x.shape  torch.Size([512, 512, 60])\n",
            "latent.shape  torch.Size([512, 64, 15])\n",
            "reconstructed.shape  torch.Size([512, 512, 60])\n",
            "Epoch 4/20\n",
            "loss: 0.12324649840593338\n",
            "\n"
          ]
        },
        {
          "output_type": "stream",
          "name": "stderr",
          "text": [
            "\r 15%|█▍        | 5120/34935 [00:14<01:24, 353.86it/s]"
          ]
        },
        {
          "output_type": "stream",
          "name": "stdout",
          "text": [
            "x.shape  torch.Size([512, 512, 60])\n",
            "latent.shape  torch.Size([512, 64, 15])\n",
            "reconstructed.shape  torch.Size([512, 512, 60])\n",
            "Epoch 4/20\n",
            "loss: 0.1254812479019165\n",
            "\n"
          ]
        },
        {
          "output_type": "stream",
          "name": "stderr",
          "text": [
            "\r 16%|█▌        | 5632/34935 [00:15<01:22, 355.49it/s]"
          ]
        },
        {
          "output_type": "stream",
          "name": "stdout",
          "text": [
            "x.shape  torch.Size([512, 512, 60])\n",
            "latent.shape  torch.Size([512, 64, 15])\n",
            "reconstructed.shape  torch.Size([512, 512, 60])\n",
            "Epoch 4/20\n",
            "loss: 0.12465726584196091\n",
            "\n"
          ]
        },
        {
          "output_type": "stream",
          "name": "stderr",
          "text": [
            "\r 18%|█▊        | 6144/34935 [00:17<01:19, 359.96it/s]"
          ]
        },
        {
          "output_type": "stream",
          "name": "stdout",
          "text": [
            "x.shape  torch.Size([512, 512, 60])\n",
            "latent.shape  torch.Size([512, 64, 15])\n",
            "reconstructed.shape  torch.Size([512, 512, 60])\n",
            "Epoch 4/20\n",
            "loss: 0.12350547313690186\n",
            "\n"
          ]
        },
        {
          "output_type": "stream",
          "name": "stderr",
          "text": [
            "\r 19%|█▉        | 6656/34935 [00:18<01:18, 361.70it/s]"
          ]
        },
        {
          "output_type": "stream",
          "name": "stdout",
          "text": [
            "x.shape  torch.Size([512, 512, 60])\n",
            "latent.shape  torch.Size([512, 64, 15])\n",
            "reconstructed.shape  torch.Size([512, 512, 60])\n",
            "Epoch 4/20\n",
            "loss: 0.12100349366664886\n",
            "\n"
          ]
        },
        {
          "output_type": "stream",
          "name": "stderr",
          "text": [
            "\r 21%|██        | 7168/34935 [00:19<01:16, 363.30it/s]"
          ]
        },
        {
          "output_type": "stream",
          "name": "stdout",
          "text": [
            "x.shape  torch.Size([512, 512, 60])\n",
            "latent.shape  torch.Size([512, 64, 15])\n",
            "reconstructed.shape  torch.Size([512, 512, 60])\n",
            "Epoch 4/20\n",
            "loss: 0.12249083071947098\n",
            "\n"
          ]
        },
        {
          "output_type": "stream",
          "name": "stderr",
          "text": [
            "\r 22%|██▏       | 7680/34935 [00:21<01:15, 363.13it/s]"
          ]
        },
        {
          "output_type": "stream",
          "name": "stdout",
          "text": [
            "x.shape  torch.Size([512, 512, 60])\n",
            "latent.shape  torch.Size([512, 64, 15])\n",
            "reconstructed.shape  torch.Size([512, 512, 60])\n",
            "Epoch 4/20\n",
            "loss: 0.12488056719303131\n",
            "\n"
          ]
        },
        {
          "output_type": "stream",
          "name": "stderr",
          "text": [
            "\r 23%|██▎       | 8192/34935 [00:22<01:14, 359.24it/s]"
          ]
        },
        {
          "output_type": "stream",
          "name": "stdout",
          "text": [
            "x.shape  torch.Size([512, 512, 60])\n",
            "latent.shape  torch.Size([512, 64, 15])\n",
            "reconstructed.shape  torch.Size([512, 512, 60])\n",
            "Epoch 4/20\n",
            "loss: 0.12263855338096619\n",
            "\n"
          ]
        },
        {
          "output_type": "stream",
          "name": "stderr",
          "text": [
            "\r 25%|██▍       | 8704/34935 [00:24<01:12, 360.57it/s]"
          ]
        },
        {
          "output_type": "stream",
          "name": "stdout",
          "text": [
            "x.shape  torch.Size([512, 512, 60])\n",
            "latent.shape  torch.Size([512, 64, 15])\n",
            "reconstructed.shape  torch.Size([512, 512, 60])\n",
            "Epoch 4/20\n",
            "loss: 0.1231333464384079\n",
            "\n"
          ]
        },
        {
          "output_type": "stream",
          "name": "stderr",
          "text": [
            "\r 26%|██▋       | 9216/34935 [00:25<01:11, 360.74it/s]"
          ]
        },
        {
          "output_type": "stream",
          "name": "stdout",
          "text": [
            "x.shape  torch.Size([512, 512, 60])\n",
            "latent.shape  torch.Size([512, 64, 15])\n",
            "reconstructed.shape  torch.Size([512, 512, 60])\n",
            "Epoch 4/20\n",
            "loss: 0.12467405945062637\n",
            "\n"
          ]
        },
        {
          "output_type": "stream",
          "name": "stderr",
          "text": [
            "\r 28%|██▊       | 9728/34935 [00:26<01:09, 364.31it/s]"
          ]
        },
        {
          "output_type": "stream",
          "name": "stdout",
          "text": [
            "x.shape  torch.Size([512, 512, 60])\n",
            "latent.shape  torch.Size([512, 64, 15])\n",
            "reconstructed.shape  torch.Size([512, 512, 60])\n",
            "Epoch 4/20\n",
            "loss: 0.12390291690826416\n",
            "\n"
          ]
        },
        {
          "output_type": "stream",
          "name": "stderr",
          "text": [
            "\r 29%|██▉       | 10240/34935 [00:28<01:06, 369.41it/s]"
          ]
        },
        {
          "output_type": "stream",
          "name": "stdout",
          "text": [
            "x.shape  torch.Size([512, 512, 60])\n",
            "latent.shape  torch.Size([512, 64, 15])\n",
            "reconstructed.shape  torch.Size([512, 512, 60])\n",
            "Epoch 4/20\n",
            "loss: 0.1258576214313507\n",
            "\n"
          ]
        },
        {
          "output_type": "stream",
          "name": "stderr",
          "text": [
            "\r 31%|███       | 10752/34935 [00:29<01:04, 374.32it/s]"
          ]
        },
        {
          "output_type": "stream",
          "name": "stdout",
          "text": [
            "x.shape  torch.Size([512, 512, 60])\n",
            "latent.shape  torch.Size([512, 64, 15])\n",
            "reconstructed.shape  torch.Size([512, 512, 60])\n",
            "Epoch 4/20\n",
            "loss: 0.12334715574979782\n",
            "\n"
          ]
        },
        {
          "output_type": "stream",
          "name": "stderr",
          "text": [
            "\r 32%|███▏      | 11264/34935 [00:30<01:02, 377.84it/s]"
          ]
        },
        {
          "output_type": "stream",
          "name": "stdout",
          "text": [
            "x.shape  torch.Size([512, 512, 60])\n",
            "latent.shape  torch.Size([512, 64, 15])\n",
            "reconstructed.shape  torch.Size([512, 512, 60])\n",
            "Epoch 4/20\n",
            "loss: 0.12318342924118042\n",
            "\n"
          ]
        },
        {
          "output_type": "stream",
          "name": "stderr",
          "text": [
            "\r 34%|███▎      | 11776/34935 [00:32<01:00, 383.51it/s]"
          ]
        },
        {
          "output_type": "stream",
          "name": "stdout",
          "text": [
            "x.shape  torch.Size([512, 512, 60])\n",
            "latent.shape  torch.Size([512, 64, 15])\n",
            "reconstructed.shape  torch.Size([512, 512, 60])\n",
            "Epoch 4/20\n",
            "loss: 0.1234087198972702\n",
            "\n"
          ]
        },
        {
          "output_type": "stream",
          "name": "stderr",
          "text": [
            "\r 35%|███▌      | 12288/34935 [00:33<00:59, 380.57it/s]"
          ]
        },
        {
          "output_type": "stream",
          "name": "stdout",
          "text": [
            "x.shape  torch.Size([512, 512, 60])\n",
            "latent.shape  torch.Size([512, 64, 15])\n",
            "reconstructed.shape  torch.Size([512, 512, 60])\n",
            "Epoch 4/20\n",
            "loss: 0.12194731831550598\n",
            "\n"
          ]
        },
        {
          "output_type": "stream",
          "name": "stderr",
          "text": [
            "\r 37%|███▋      | 12800/34935 [00:34<00:57, 383.44it/s]"
          ]
        },
        {
          "output_type": "stream",
          "name": "stdout",
          "text": [
            "x.shape  torch.Size([512, 512, 60])\n",
            "latent.shape  torch.Size([512, 64, 15])\n",
            "reconstructed.shape  torch.Size([512, 512, 60])\n",
            "Epoch 4/20\n",
            "loss: 0.12347570061683655\n",
            "\n"
          ]
        },
        {
          "output_type": "stream",
          "name": "stderr",
          "text": [
            "\r 38%|███▊      | 13312/34935 [00:36<00:56, 382.80it/s]"
          ]
        },
        {
          "output_type": "stream",
          "name": "stdout",
          "text": [
            "x.shape  torch.Size([512, 512, 60])\n",
            "latent.shape  torch.Size([512, 64, 15])\n",
            "reconstructed.shape  torch.Size([512, 512, 60])\n",
            "Epoch 4/20\n",
            "loss: 0.12381858378648758\n",
            "\n"
          ]
        },
        {
          "output_type": "stream",
          "name": "stderr",
          "text": [
            "\r 40%|███▉      | 13824/34935 [00:37<00:55, 377.44it/s]"
          ]
        },
        {
          "output_type": "stream",
          "name": "stdout",
          "text": [
            "x.shape  torch.Size([512, 512, 60])\n",
            "latent.shape  torch.Size([512, 64, 15])\n",
            "reconstructed.shape  torch.Size([512, 512, 60])\n",
            "Epoch 4/20\n",
            "loss: 0.1232704371213913\n",
            "\n"
          ]
        },
        {
          "output_type": "stream",
          "name": "stderr",
          "text": [
            "\r 41%|████      | 14336/34935 [00:38<00:54, 380.58it/s]"
          ]
        },
        {
          "output_type": "stream",
          "name": "stdout",
          "text": [
            "x.shape  torch.Size([512, 512, 60])\n",
            "latent.shape  torch.Size([512, 64, 15])\n",
            "reconstructed.shape  torch.Size([512, 512, 60])\n",
            "Epoch 4/20\n",
            "loss: 0.12291167676448822\n",
            "\n"
          ]
        },
        {
          "output_type": "stream",
          "name": "stderr",
          "text": [
            "\r 43%|████▎     | 14848/34935 [00:40<00:52, 384.78it/s]"
          ]
        },
        {
          "output_type": "stream",
          "name": "stdout",
          "text": [
            "x.shape  torch.Size([512, 512, 60])\n",
            "latent.shape  torch.Size([512, 64, 15])\n",
            "reconstructed.shape  torch.Size([512, 512, 60])\n",
            "Epoch 4/20\n",
            "loss: 0.12461339682340622\n",
            "\n"
          ]
        },
        {
          "output_type": "stream",
          "name": "stderr",
          "text": [
            "\r 44%|████▍     | 15360/34935 [00:41<00:51, 379.67it/s]"
          ]
        },
        {
          "output_type": "stream",
          "name": "stdout",
          "text": [
            "x.shape  torch.Size([512, 512, 60])\n",
            "latent.shape  torch.Size([512, 64, 15])\n",
            "reconstructed.shape  torch.Size([512, 512, 60])\n",
            "Epoch 4/20\n",
            "loss: 0.123360276222229\n",
            "\n"
          ]
        },
        {
          "output_type": "stream",
          "name": "stderr",
          "text": [
            "\r 45%|████▌     | 15872/34935 [00:43<00:50, 377.34it/s]"
          ]
        },
        {
          "output_type": "stream",
          "name": "stdout",
          "text": [
            "x.shape  torch.Size([512, 512, 60])\n",
            "latent.shape  torch.Size([512, 64, 15])\n",
            "reconstructed.shape  torch.Size([512, 512, 60])\n",
            "Epoch 4/20\n",
            "loss: 0.12383474409580231\n",
            "\n"
          ]
        },
        {
          "output_type": "stream",
          "name": "stderr",
          "text": [
            "\r 47%|████▋     | 16384/34935 [00:44<00:49, 377.74it/s]"
          ]
        },
        {
          "output_type": "stream",
          "name": "stdout",
          "text": [
            "x.shape  torch.Size([512, 512, 60])\n",
            "latent.shape  torch.Size([512, 64, 15])\n",
            "reconstructed.shape  torch.Size([512, 512, 60])\n",
            "Epoch 4/20\n",
            "loss: 0.12180763483047485\n",
            "\n"
          ]
        },
        {
          "output_type": "stream",
          "name": "stderr",
          "text": [
            "\r 48%|████▊     | 16896/34935 [00:45<00:47, 378.58it/s]"
          ]
        },
        {
          "output_type": "stream",
          "name": "stdout",
          "text": [
            "x.shape  torch.Size([512, 512, 60])\n",
            "latent.shape  torch.Size([512, 64, 15])\n",
            "reconstructed.shape  torch.Size([512, 512, 60])\n",
            "Epoch 4/20\n",
            "loss: 0.12302777916193008\n",
            "\n"
          ]
        },
        {
          "output_type": "stream",
          "name": "stderr",
          "text": [
            "\r 50%|████▉     | 17408/34935 [00:47<00:46, 378.49it/s]"
          ]
        },
        {
          "output_type": "stream",
          "name": "stdout",
          "text": [
            "x.shape  torch.Size([512, 512, 60])\n",
            "latent.shape  torch.Size([512, 64, 15])\n",
            "reconstructed.shape  torch.Size([512, 512, 60])\n",
            "Epoch 4/20\n",
            "loss: 0.1227092295885086\n",
            "\n"
          ]
        },
        {
          "output_type": "stream",
          "name": "stderr",
          "text": [
            "\r 51%|█████▏    | 17920/34935 [00:48<00:45, 377.25it/s]"
          ]
        },
        {
          "output_type": "stream",
          "name": "stdout",
          "text": [
            "x.shape  torch.Size([512, 512, 60])\n",
            "latent.shape  torch.Size([512, 64, 15])\n",
            "reconstructed.shape  torch.Size([512, 512, 60])\n",
            "Epoch 4/20\n",
            "loss: 0.12339197099208832\n",
            "\n"
          ]
        },
        {
          "output_type": "stream",
          "name": "stderr",
          "text": [
            "\r 53%|█████▎    | 18432/34935 [00:49<00:43, 382.56it/s]"
          ]
        },
        {
          "output_type": "stream",
          "name": "stdout",
          "text": [
            "x.shape  torch.Size([512, 512, 60])\n",
            "latent.shape  torch.Size([512, 64, 15])\n",
            "reconstructed.shape  torch.Size([512, 512, 60])\n",
            "Epoch 4/20\n",
            "loss: 0.1253231316804886\n",
            "\n"
          ]
        },
        {
          "output_type": "stream",
          "name": "stderr",
          "text": [
            "\r 54%|█████▍    | 18944/34935 [00:51<00:42, 378.19it/s]"
          ]
        },
        {
          "output_type": "stream",
          "name": "stdout",
          "text": [
            "x.shape  torch.Size([512, 512, 60])\n",
            "latent.shape  torch.Size([512, 64, 15])\n",
            "reconstructed.shape  torch.Size([512, 512, 60])\n",
            "Epoch 4/20\n",
            "loss: 0.12108361721038818\n",
            "\n"
          ]
        },
        {
          "output_type": "stream",
          "name": "stderr",
          "text": [
            "\r 56%|█████▌    | 19456/34935 [00:52<00:40, 380.25it/s]"
          ]
        },
        {
          "output_type": "stream",
          "name": "stdout",
          "text": [
            "x.shape  torch.Size([512, 512, 60])\n",
            "latent.shape  torch.Size([512, 64, 15])\n",
            "reconstructed.shape  torch.Size([512, 512, 60])\n",
            "Epoch 4/20\n",
            "loss: 0.12493299692869186\n",
            "\n"
          ]
        },
        {
          "output_type": "stream",
          "name": "stderr",
          "text": [
            "\r 57%|█████▋    | 19968/34935 [00:53<00:39, 378.86it/s]"
          ]
        },
        {
          "output_type": "stream",
          "name": "stdout",
          "text": [
            "x.shape  torch.Size([512, 512, 60])\n",
            "latent.shape  torch.Size([512, 64, 15])\n",
            "reconstructed.shape  torch.Size([512, 512, 60])\n",
            "Epoch 4/20\n",
            "loss: 0.123966284096241\n",
            "\n"
          ]
        },
        {
          "output_type": "stream",
          "name": "stderr",
          "text": [
            "\r 59%|█████▊    | 20480/34935 [00:55<00:38, 378.36it/s]"
          ]
        },
        {
          "output_type": "stream",
          "name": "stdout",
          "text": [
            "x.shape  torch.Size([512, 512, 60])\n",
            "latent.shape  torch.Size([512, 64, 15])\n",
            "reconstructed.shape  torch.Size([512, 512, 60])\n",
            "Epoch 4/20\n",
            "loss: 0.12381748110055923\n",
            "\n"
          ]
        },
        {
          "output_type": "stream",
          "name": "stderr",
          "text": [
            "\r 60%|██████    | 20992/34935 [00:56<00:36, 377.26it/s]"
          ]
        },
        {
          "output_type": "stream",
          "name": "stdout",
          "text": [
            "x.shape  torch.Size([512, 512, 60])\n",
            "latent.shape  torch.Size([512, 64, 15])\n",
            "reconstructed.shape  torch.Size([512, 512, 60])\n",
            "Epoch 4/20\n",
            "loss: 0.12249886989593506\n",
            "\n"
          ]
        },
        {
          "output_type": "stream",
          "name": "stderr",
          "text": [
            "\r 62%|██████▏   | 21504/34935 [00:57<00:35, 378.33it/s]"
          ]
        },
        {
          "output_type": "stream",
          "name": "stdout",
          "text": [
            "x.shape  torch.Size([512, 512, 60])\n",
            "latent.shape  torch.Size([512, 64, 15])\n",
            "reconstructed.shape  torch.Size([512, 512, 60])\n",
            "Epoch 4/20\n",
            "loss: 0.12472207099199295\n",
            "\n"
          ]
        },
        {
          "output_type": "stream",
          "name": "stderr",
          "text": [
            "\r 63%|██████▎   | 22016/34935 [00:59<00:33, 380.01it/s]"
          ]
        },
        {
          "output_type": "stream",
          "name": "stdout",
          "text": [
            "x.shape  torch.Size([512, 512, 60])\n",
            "latent.shape  torch.Size([512, 64, 15])\n",
            "reconstructed.shape  torch.Size([512, 512, 60])\n",
            "Epoch 4/20\n",
            "loss: 0.12227272242307663\n",
            "\n"
          ]
        },
        {
          "output_type": "stream",
          "name": "stderr",
          "text": [
            "\r 64%|██████▍   | 22528/34935 [01:00<00:32, 384.33it/s]"
          ]
        },
        {
          "output_type": "stream",
          "name": "stdout",
          "text": [
            "x.shape  torch.Size([512, 512, 60])\n",
            "latent.shape  torch.Size([512, 64, 15])\n",
            "reconstructed.shape  torch.Size([512, 512, 60])\n",
            "Epoch 4/20\n",
            "loss: 0.12219893932342529\n",
            "\n"
          ]
        },
        {
          "output_type": "stream",
          "name": "stderr",
          "text": [
            "\r 66%|██████▌   | 23040/34935 [01:01<00:30, 384.50it/s]"
          ]
        },
        {
          "output_type": "stream",
          "name": "stdout",
          "text": [
            "x.shape  torch.Size([512, 512, 60])\n",
            "latent.shape  torch.Size([512, 64, 15])\n",
            "reconstructed.shape  torch.Size([512, 512, 60])\n",
            "Epoch 4/20\n",
            "loss: 0.12278024852275848\n",
            "\n"
          ]
        },
        {
          "output_type": "stream",
          "name": "stderr",
          "text": [
            "\r 67%|██████▋   | 23552/34935 [01:03<00:29, 379.73it/s]"
          ]
        },
        {
          "output_type": "stream",
          "name": "stdout",
          "text": [
            "x.shape  torch.Size([512, 512, 60])\n",
            "latent.shape  torch.Size([512, 64, 15])\n",
            "reconstructed.shape  torch.Size([512, 512, 60])\n",
            "Epoch 4/20\n",
            "loss: 0.1238776296377182\n",
            "\n"
          ]
        },
        {
          "output_type": "stream",
          "name": "stderr",
          "text": [
            "\r 69%|██████▉   | 24064/34935 [01:04<00:29, 374.48it/s]"
          ]
        },
        {
          "output_type": "stream",
          "name": "stdout",
          "text": [
            "x.shape  torch.Size([512, 512, 60])\n",
            "latent.shape  torch.Size([512, 64, 15])\n",
            "reconstructed.shape  torch.Size([512, 512, 60])\n",
            "Epoch 4/20\n",
            "loss: 0.12372063845396042\n",
            "\n"
          ]
        },
        {
          "output_type": "stream",
          "name": "stderr",
          "text": [
            "\r 70%|███████   | 24576/34935 [01:05<00:27, 379.01it/s]"
          ]
        },
        {
          "output_type": "stream",
          "name": "stdout",
          "text": [
            "x.shape  torch.Size([512, 512, 60])\n",
            "latent.shape  torch.Size([512, 64, 15])\n",
            "reconstructed.shape  torch.Size([512, 512, 60])\n",
            "Epoch 4/20\n",
            "loss: 0.12312130630016327\n",
            "\n"
          ]
        },
        {
          "output_type": "stream",
          "name": "stderr",
          "text": [
            "\r 72%|███████▏  | 25088/34935 [01:07<00:25, 380.21it/s]"
          ]
        },
        {
          "output_type": "stream",
          "name": "stdout",
          "text": [
            "x.shape  torch.Size([512, 512, 60])\n",
            "latent.shape  torch.Size([512, 64, 15])\n",
            "reconstructed.shape  torch.Size([512, 512, 60])\n",
            "Epoch 4/20\n",
            "loss: 0.12215328216552734\n",
            "\n"
          ]
        },
        {
          "output_type": "stream",
          "name": "stderr",
          "text": [
            "\r 73%|███████▎  | 25600/34935 [01:08<00:24, 374.25it/s]"
          ]
        },
        {
          "output_type": "stream",
          "name": "stdout",
          "text": [
            "x.shape  torch.Size([512, 512, 60])\n",
            "latent.shape  torch.Size([512, 64, 15])\n",
            "reconstructed.shape  torch.Size([512, 512, 60])\n",
            "Epoch 4/20\n",
            "loss: 0.12286160886287689\n",
            "\n"
          ]
        },
        {
          "output_type": "stream",
          "name": "stderr",
          "text": [
            "\r 75%|███████▍  | 26112/34935 [01:10<00:23, 374.96it/s]"
          ]
        },
        {
          "output_type": "stream",
          "name": "stdout",
          "text": [
            "x.shape  torch.Size([512, 512, 60])\n",
            "latent.shape  torch.Size([512, 64, 15])\n",
            "reconstructed.shape  torch.Size([512, 512, 60])\n",
            "Epoch 4/20\n",
            "loss: 0.12332296371459961\n",
            "\n"
          ]
        },
        {
          "output_type": "stream",
          "name": "stderr",
          "text": [
            "\r 76%|███████▌  | 26624/34935 [01:11<00:22, 364.35it/s]"
          ]
        },
        {
          "output_type": "stream",
          "name": "stdout",
          "text": [
            "x.shape  torch.Size([512, 512, 60])\n",
            "latent.shape  torch.Size([512, 64, 15])\n",
            "reconstructed.shape  torch.Size([512, 512, 60])\n",
            "Epoch 4/20\n",
            "loss: 0.1234007403254509\n",
            "\n"
          ]
        },
        {
          "output_type": "stream",
          "name": "stderr",
          "text": [
            "\r 78%|███████▊  | 27136/34935 [01:12<00:21, 368.91it/s]"
          ]
        },
        {
          "output_type": "stream",
          "name": "stdout",
          "text": [
            "x.shape  torch.Size([512, 512, 60])\n",
            "latent.shape  torch.Size([512, 64, 15])\n",
            "reconstructed.shape  torch.Size([512, 512, 60])\n",
            "Epoch 4/20\n",
            "loss: 0.12439882755279541\n",
            "\n"
          ]
        },
        {
          "output_type": "stream",
          "name": "stderr",
          "text": [
            "\r 79%|███████▉  | 27648/34935 [01:14<00:19, 371.32it/s]"
          ]
        },
        {
          "output_type": "stream",
          "name": "stdout",
          "text": [
            "x.shape  torch.Size([512, 512, 60])\n",
            "latent.shape  torch.Size([512, 64, 15])\n",
            "reconstructed.shape  torch.Size([512, 512, 60])\n",
            "Epoch 4/20\n",
            "loss: 0.12387324869632721\n",
            "\n"
          ]
        },
        {
          "output_type": "stream",
          "name": "stderr",
          "text": [
            "\r 81%|████████  | 28160/34935 [01:15<00:18, 366.05it/s]"
          ]
        },
        {
          "output_type": "stream",
          "name": "stdout",
          "text": [
            "x.shape  torch.Size([512, 512, 60])\n",
            "latent.shape  torch.Size([512, 64, 15])\n",
            "reconstructed.shape  torch.Size([512, 512, 60])\n",
            "Epoch 4/20\n",
            "loss: 0.12224754691123962\n",
            "\n"
          ]
        },
        {
          "output_type": "stream",
          "name": "stderr",
          "text": [
            "\r 82%|████████▏ | 28672/34935 [01:17<00:16, 369.72it/s]"
          ]
        },
        {
          "output_type": "stream",
          "name": "stdout",
          "text": [
            "x.shape  torch.Size([512, 512, 60])\n",
            "latent.shape  torch.Size([512, 64, 15])\n",
            "reconstructed.shape  torch.Size([512, 512, 60])\n",
            "Epoch 4/20\n",
            "loss: 0.1213870421051979\n",
            "\n"
          ]
        },
        {
          "output_type": "stream",
          "name": "stderr",
          "text": [
            "\r 84%|████████▎ | 29184/34935 [01:18<00:15, 367.16it/s]"
          ]
        },
        {
          "output_type": "stream",
          "name": "stdout",
          "text": [
            "x.shape  torch.Size([512, 512, 60])\n",
            "latent.shape  torch.Size([512, 64, 15])\n",
            "reconstructed.shape  torch.Size([512, 512, 60])\n",
            "Epoch 4/20\n",
            "loss: 0.12305149435997009\n",
            "\n"
          ]
        },
        {
          "output_type": "stream",
          "name": "stderr",
          "text": [
            "\r 85%|████████▌ | 29696/34935 [01:19<00:14, 370.26it/s]"
          ]
        },
        {
          "output_type": "stream",
          "name": "stdout",
          "text": [
            "x.shape  torch.Size([512, 512, 60])\n",
            "latent.shape  torch.Size([512, 64, 15])\n",
            "reconstructed.shape  torch.Size([512, 512, 60])\n",
            "Epoch 4/20\n",
            "loss: 0.12239117175340652\n",
            "\n"
          ]
        },
        {
          "output_type": "stream",
          "name": "stderr",
          "text": [
            "\r 86%|████████▋ | 30208/34935 [01:21<00:12, 375.95it/s]"
          ]
        },
        {
          "output_type": "stream",
          "name": "stdout",
          "text": [
            "x.shape  torch.Size([512, 512, 60])\n",
            "latent.shape  torch.Size([512, 64, 15])\n",
            "reconstructed.shape  torch.Size([512, 512, 60])\n",
            "Epoch 4/20\n",
            "loss: 0.12151752412319183\n",
            "\n"
          ]
        },
        {
          "output_type": "stream",
          "name": "stderr",
          "text": [
            "\r 88%|████████▊ | 30720/34935 [01:22<00:10, 383.90it/s]"
          ]
        },
        {
          "output_type": "stream",
          "name": "stdout",
          "text": [
            "x.shape  torch.Size([512, 512, 60])\n",
            "latent.shape  torch.Size([512, 64, 15])\n",
            "reconstructed.shape  torch.Size([512, 512, 60])\n",
            "Epoch 4/20\n",
            "loss: 0.12224960327148438\n",
            "\n"
          ]
        },
        {
          "output_type": "stream",
          "name": "stderr",
          "text": [
            "\r 89%|████████▉ | 31232/34935 [01:23<00:09, 382.08it/s]"
          ]
        },
        {
          "output_type": "stream",
          "name": "stdout",
          "text": [
            "x.shape  torch.Size([512, 512, 60])\n",
            "latent.shape  torch.Size([512, 64, 15])\n",
            "reconstructed.shape  torch.Size([512, 512, 60])\n",
            "Epoch 4/20\n",
            "loss: 0.12268493324518204\n",
            "\n"
          ]
        },
        {
          "output_type": "stream",
          "name": "stderr",
          "text": [
            "\r 91%|█████████ | 31744/34935 [01:25<00:08, 375.60it/s]"
          ]
        },
        {
          "output_type": "stream",
          "name": "stdout",
          "text": [
            "x.shape  torch.Size([512, 512, 60])\n",
            "latent.shape  torch.Size([512, 64, 15])\n",
            "reconstructed.shape  torch.Size([512, 512, 60])\n",
            "Epoch 4/20\n",
            "loss: 0.12415744364261627\n",
            "\n"
          ]
        },
        {
          "output_type": "stream",
          "name": "stderr",
          "text": [
            "\r 92%|█████████▏| 32256/34935 [01:26<00:07, 375.70it/s]"
          ]
        },
        {
          "output_type": "stream",
          "name": "stdout",
          "text": [
            "x.shape  torch.Size([512, 512, 60])\n",
            "latent.shape  torch.Size([512, 64, 15])\n",
            "reconstructed.shape  torch.Size([512, 512, 60])\n",
            "Epoch 4/20\n",
            "loss: 0.12251488864421844\n",
            "\n"
          ]
        },
        {
          "output_type": "stream",
          "name": "stderr",
          "text": [
            "\r 94%|█████████▍| 32768/34935 [01:27<00:05, 373.80it/s]"
          ]
        },
        {
          "output_type": "stream",
          "name": "stdout",
          "text": [
            "x.shape  torch.Size([512, 512, 60])\n",
            "latent.shape  torch.Size([512, 64, 15])\n",
            "reconstructed.shape  torch.Size([512, 512, 60])\n",
            "Epoch 4/20\n",
            "loss: 0.12145589292049408\n",
            "\n"
          ]
        },
        {
          "output_type": "stream",
          "name": "stderr",
          "text": [
            "\r 95%|█████████▌| 33280/34935 [01:29<00:04, 369.58it/s]"
          ]
        },
        {
          "output_type": "stream",
          "name": "stdout",
          "text": [
            "x.shape  torch.Size([512, 512, 60])\n",
            "latent.shape  torch.Size([512, 64, 15])\n",
            "reconstructed.shape  torch.Size([512, 512, 60])\n",
            "Epoch 4/20\n",
            "loss: 0.1243286058306694\n",
            "\n"
          ]
        },
        {
          "output_type": "stream",
          "name": "stderr",
          "text": [
            "\r 97%|█████████▋| 33792/34935 [01:30<00:03, 360.79it/s]"
          ]
        },
        {
          "output_type": "stream",
          "name": "stdout",
          "text": [
            "x.shape  torch.Size([512, 512, 60])\n",
            "latent.shape  torch.Size([512, 64, 15])\n",
            "reconstructed.shape  torch.Size([512, 512, 60])\n",
            "Epoch 4/20\n",
            "loss: 0.12490898370742798\n",
            "\n"
          ]
        },
        {
          "output_type": "stream",
          "name": "stderr",
          "text": [
            "\r 98%|█████████▊| 34304/34935 [01:32<00:01, 365.64it/s]"
          ]
        },
        {
          "output_type": "stream",
          "name": "stdout",
          "text": [
            "x.shape  torch.Size([512, 512, 60])\n",
            "latent.shape  torch.Size([512, 64, 15])\n",
            "reconstructed.shape  torch.Size([512, 512, 60])\n",
            "Epoch 4/20\n",
            "loss: 0.12433023005723953\n",
            "\n"
          ]
        },
        {
          "output_type": "stream",
          "name": "stderr",
          "text": [
            "100%|██████████| 34935/34935 [01:33<00:00, 373.24it/s]"
          ]
        },
        {
          "output_type": "stream",
          "name": "stdout",
          "text": [
            "x.shape  torch.Size([512, 512, 60])\n",
            "latent.shape  torch.Size([512, 64, 15])\n",
            "reconstructed.shape  torch.Size([512, 512, 60])\n",
            "Epoch 4/20\n",
            "loss: 0.12348365038633347\n",
            "\n"
          ]
        },
        {
          "output_type": "stream",
          "name": "stderr",
          "text": [
            "\n"
          ]
        },
        {
          "output_type": "stream",
          "name": "stdout",
          "text": [
            "x.shape  torch.Size([119, 512, 60])\n",
            "latent.shape  torch.Size([119, 64, 15])\n",
            "reconstructed.shape  torch.Size([119, 512, 60])\n",
            "Epoch 4/20\n",
            "loss: 0.11963863670825958\n",
            "\n"
          ]
        },
        {
          "output_type": "stream",
          "name": "stderr",
          "text": [
            "  1%|▏         | 512/34935 [00:01<01:39, 347.04it/s]"
          ]
        },
        {
          "output_type": "stream",
          "name": "stdout",
          "text": [
            "x.shape  torch.Size([512, 512, 60])\n",
            "latent.shape  torch.Size([512, 64, 15])\n",
            "reconstructed.shape  torch.Size([512, 512, 60])\n",
            "Epoch 5/20\n",
            "loss: 0.12179634720087051\n",
            "\n"
          ]
        },
        {
          "output_type": "stream",
          "name": "stderr",
          "text": [
            "\r  3%|▎         | 1024/34935 [00:02<01:37, 347.64it/s]"
          ]
        },
        {
          "output_type": "stream",
          "name": "stdout",
          "text": [
            "x.shape  torch.Size([512, 512, 60])\n",
            "latent.shape  torch.Size([512, 64, 15])\n",
            "reconstructed.shape  torch.Size([512, 512, 60])\n",
            "Epoch 5/20\n",
            "loss: 0.12325095385313034\n",
            "\n"
          ]
        },
        {
          "output_type": "stream",
          "name": "stderr",
          "text": [
            "\r  4%|▍         | 1536/34935 [00:04<01:35, 348.35it/s]"
          ]
        },
        {
          "output_type": "stream",
          "name": "stdout",
          "text": [
            "x.shape  torch.Size([512, 512, 60])\n",
            "latent.shape  torch.Size([512, 64, 15])\n",
            "reconstructed.shape  torch.Size([512, 512, 60])\n",
            "Epoch 5/20\n",
            "loss: 0.12031184136867523\n",
            "\n"
          ]
        },
        {
          "output_type": "stream",
          "name": "stderr",
          "text": [
            "\r  6%|▌         | 2048/34935 [00:05<01:34, 346.53it/s]"
          ]
        },
        {
          "output_type": "stream",
          "name": "stdout",
          "text": [
            "x.shape  torch.Size([512, 512, 60])\n",
            "latent.shape  torch.Size([512, 64, 15])\n",
            "reconstructed.shape  torch.Size([512, 512, 60])\n",
            "Epoch 5/20\n",
            "loss: 0.12248233705759048\n",
            "\n"
          ]
        },
        {
          "output_type": "stream",
          "name": "stderr",
          "text": [
            "\r  7%|▋         | 2560/34935 [00:07<01:34, 344.15it/s]"
          ]
        },
        {
          "output_type": "stream",
          "name": "stdout",
          "text": [
            "x.shape  torch.Size([512, 512, 60])\n",
            "latent.shape  torch.Size([512, 64, 15])\n",
            "reconstructed.shape  torch.Size([512, 512, 60])\n",
            "Epoch 5/20\n",
            "loss: 0.1227235272526741\n",
            "\n"
          ]
        },
        {
          "output_type": "stream",
          "name": "stderr",
          "text": [
            "\r  9%|▉         | 3072/34935 [00:08<01:31, 346.89it/s]"
          ]
        },
        {
          "output_type": "stream",
          "name": "stdout",
          "text": [
            "x.shape  torch.Size([512, 512, 60])\n",
            "latent.shape  torch.Size([512, 64, 15])\n",
            "reconstructed.shape  torch.Size([512, 512, 60])\n",
            "Epoch 5/20\n",
            "loss: 0.1230941042304039\n",
            "\n"
          ]
        },
        {
          "output_type": "stream",
          "name": "stderr",
          "text": [
            "\r 10%|█         | 3584/34935 [00:10<01:30, 347.99it/s]"
          ]
        },
        {
          "output_type": "stream",
          "name": "stdout",
          "text": [
            "x.shape  torch.Size([512, 512, 60])\n",
            "latent.shape  torch.Size([512, 64, 15])\n",
            "reconstructed.shape  torch.Size([512, 512, 60])\n",
            "Epoch 5/20\n",
            "loss: 0.12094781547784805\n",
            "\n"
          ]
        },
        {
          "output_type": "stream",
          "name": "stderr",
          "text": [
            "\r 12%|█▏        | 4096/34935 [00:11<01:29, 343.83it/s]"
          ]
        },
        {
          "output_type": "stream",
          "name": "stdout",
          "text": [
            "x.shape  torch.Size([512, 512, 60])\n",
            "latent.shape  torch.Size([512, 64, 15])\n",
            "reconstructed.shape  torch.Size([512, 512, 60])\n",
            "Epoch 5/20\n",
            "loss: 0.12156762182712555\n",
            "\n"
          ]
        },
        {
          "output_type": "stream",
          "name": "stderr",
          "text": [
            "\r 13%|█▎        | 4608/34935 [00:13<01:27, 344.66it/s]"
          ]
        },
        {
          "output_type": "stream",
          "name": "stdout",
          "text": [
            "x.shape  torch.Size([512, 512, 60])\n",
            "latent.shape  torch.Size([512, 64, 15])\n",
            "reconstructed.shape  torch.Size([512, 512, 60])\n",
            "Epoch 5/20\n",
            "loss: 0.12056221067905426\n",
            "\n"
          ]
        },
        {
          "output_type": "stream",
          "name": "stderr",
          "text": [
            "\r 15%|█▍        | 5120/34935 [00:14<01:26, 344.33it/s]"
          ]
        },
        {
          "output_type": "stream",
          "name": "stdout",
          "text": [
            "x.shape  torch.Size([512, 512, 60])\n",
            "latent.shape  torch.Size([512, 64, 15])\n",
            "reconstructed.shape  torch.Size([512, 512, 60])\n",
            "Epoch 5/20\n",
            "loss: 0.12273824959993362\n",
            "\n"
          ]
        },
        {
          "output_type": "stream",
          "name": "stderr",
          "text": [
            "\r 16%|█▌        | 5632/34935 [00:16<01:24, 347.78it/s]"
          ]
        },
        {
          "output_type": "stream",
          "name": "stdout",
          "text": [
            "x.shape  torch.Size([512, 512, 60])\n",
            "latent.shape  torch.Size([512, 64, 15])\n",
            "reconstructed.shape  torch.Size([512, 512, 60])\n",
            "Epoch 5/20\n",
            "loss: 0.1219436377286911\n",
            "\n"
          ]
        },
        {
          "output_type": "stream",
          "name": "stderr",
          "text": [
            "\r 18%|█▊        | 6144/34935 [00:17<01:21, 353.41it/s]"
          ]
        },
        {
          "output_type": "stream",
          "name": "stdout",
          "text": [
            "x.shape  torch.Size([512, 512, 60])\n",
            "latent.shape  torch.Size([512, 64, 15])\n",
            "reconstructed.shape  torch.Size([512, 512, 60])\n",
            "Epoch 5/20\n",
            "loss: 0.1201958879828453\n",
            "\n"
          ]
        },
        {
          "output_type": "stream",
          "name": "stderr",
          "text": [
            "\r 19%|█▉        | 6656/34935 [00:19<01:18, 359.11it/s]"
          ]
        },
        {
          "output_type": "stream",
          "name": "stdout",
          "text": [
            "x.shape  torch.Size([512, 512, 60])\n",
            "latent.shape  torch.Size([512, 64, 15])\n",
            "reconstructed.shape  torch.Size([512, 512, 60])\n",
            "Epoch 5/20\n",
            "loss: 0.11793064326047897\n",
            "\n"
          ]
        },
        {
          "output_type": "stream",
          "name": "stderr",
          "text": [
            "\r 21%|██        | 7168/34935 [00:20<01:16, 364.74it/s]"
          ]
        },
        {
          "output_type": "stream",
          "name": "stdout",
          "text": [
            "x.shape  torch.Size([512, 512, 60])\n",
            "latent.shape  torch.Size([512, 64, 15])\n",
            "reconstructed.shape  torch.Size([512, 512, 60])\n",
            "Epoch 5/20\n",
            "loss: 0.1194792166352272\n",
            "\n"
          ]
        },
        {
          "output_type": "stream",
          "name": "stderr",
          "text": [
            "\r 22%|██▏       | 7680/34935 [00:21<01:15, 362.01it/s]"
          ]
        },
        {
          "output_type": "stream",
          "name": "stdout",
          "text": [
            "x.shape  torch.Size([512, 512, 60])\n",
            "latent.shape  torch.Size([512, 64, 15])\n",
            "reconstructed.shape  torch.Size([512, 512, 60])\n",
            "Epoch 5/20\n",
            "loss: 0.12130450457334518\n",
            "\n"
          ]
        },
        {
          "output_type": "stream",
          "name": "stderr",
          "text": [
            "\r 23%|██▎       | 8192/34935 [00:23<01:14, 358.95it/s]"
          ]
        },
        {
          "output_type": "stream",
          "name": "stdout",
          "text": [
            "x.shape  torch.Size([512, 512, 60])\n",
            "latent.shape  torch.Size([512, 64, 15])\n",
            "reconstructed.shape  torch.Size([512, 512, 60])\n",
            "Epoch 5/20\n",
            "loss: 0.1191634088754654\n",
            "\n"
          ]
        },
        {
          "output_type": "stream",
          "name": "stderr",
          "text": [
            "\r 25%|██▍       | 8704/34935 [00:24<01:12, 360.69it/s]"
          ]
        },
        {
          "output_type": "stream",
          "name": "stdout",
          "text": [
            "x.shape  torch.Size([512, 512, 60])\n",
            "latent.shape  torch.Size([512, 64, 15])\n",
            "reconstructed.shape  torch.Size([512, 512, 60])\n",
            "Epoch 5/20\n",
            "loss: 0.11926059424877167\n",
            "\n"
          ]
        },
        {
          "output_type": "stream",
          "name": "stderr",
          "text": [
            "\r 26%|██▋       | 9216/34935 [00:26<01:10, 363.01it/s]"
          ]
        },
        {
          "output_type": "stream",
          "name": "stdout",
          "text": [
            "x.shape  torch.Size([512, 512, 60])\n",
            "latent.shape  torch.Size([512, 64, 15])\n",
            "reconstructed.shape  torch.Size([512, 512, 60])\n",
            "Epoch 5/20\n",
            "loss: 0.1208256259560585\n",
            "\n"
          ]
        },
        {
          "output_type": "stream",
          "name": "stderr",
          "text": [
            "\r 28%|██▊       | 9728/34935 [00:27<01:08, 368.79it/s]"
          ]
        },
        {
          "output_type": "stream",
          "name": "stdout",
          "text": [
            "x.shape  torch.Size([512, 512, 60])\n",
            "latent.shape  torch.Size([512, 64, 15])\n",
            "reconstructed.shape  torch.Size([512, 512, 60])\n",
            "Epoch 5/20\n",
            "loss: 0.12002871185541153\n",
            "\n"
          ]
        },
        {
          "output_type": "stream",
          "name": "stderr",
          "text": [
            "\r 29%|██▉       | 10240/34935 [00:28<01:06, 371.88it/s]"
          ]
        },
        {
          "output_type": "stream",
          "name": "stdout",
          "text": [
            "x.shape  torch.Size([512, 512, 60])\n",
            "latent.shape  torch.Size([512, 64, 15])\n",
            "reconstructed.shape  torch.Size([512, 512, 60])\n",
            "Epoch 5/20\n",
            "loss: 0.12179284542798996\n",
            "\n"
          ]
        },
        {
          "output_type": "stream",
          "name": "stderr",
          "text": [
            "\r 31%|███       | 10752/34935 [00:30<01:04, 373.10it/s]"
          ]
        },
        {
          "output_type": "stream",
          "name": "stdout",
          "text": [
            "x.shape  torch.Size([512, 512, 60])\n",
            "latent.shape  torch.Size([512, 64, 15])\n",
            "reconstructed.shape  torch.Size([512, 512, 60])\n",
            "Epoch 5/20\n",
            "loss: 0.11943118274211884\n",
            "\n"
          ]
        },
        {
          "output_type": "stream",
          "name": "stderr",
          "text": [
            "\r 32%|███▏      | 11264/34935 [00:31<01:02, 376.69it/s]"
          ]
        },
        {
          "output_type": "stream",
          "name": "stdout",
          "text": [
            "x.shape  torch.Size([512, 512, 60])\n",
            "latent.shape  torch.Size([512, 64, 15])\n",
            "reconstructed.shape  torch.Size([512, 512, 60])\n",
            "Epoch 5/20\n",
            "loss: 0.11921431869268417\n",
            "\n"
          ]
        },
        {
          "output_type": "stream",
          "name": "stderr",
          "text": [
            "\r 34%|███▎      | 11776/34935 [00:32<01:01, 375.49it/s]"
          ]
        },
        {
          "output_type": "stream",
          "name": "stdout",
          "text": [
            "x.shape  torch.Size([512, 512, 60])\n",
            "latent.shape  torch.Size([512, 64, 15])\n",
            "reconstructed.shape  torch.Size([512, 512, 60])\n",
            "Epoch 5/20\n",
            "loss: 0.1191738024353981\n",
            "\n"
          ]
        },
        {
          "output_type": "stream",
          "name": "stderr",
          "text": [
            "\r 35%|███▌      | 12288/34935 [00:34<00:59, 380.22it/s]"
          ]
        },
        {
          "output_type": "stream",
          "name": "stdout",
          "text": [
            "x.shape  torch.Size([512, 512, 60])\n",
            "latent.shape  torch.Size([512, 64, 15])\n",
            "reconstructed.shape  torch.Size([512, 512, 60])\n",
            "Epoch 5/20\n",
            "loss: 0.11750467866659164\n",
            "\n"
          ]
        },
        {
          "output_type": "stream",
          "name": "stderr",
          "text": [
            "\r 37%|███▋      | 12800/34935 [00:35<00:57, 382.50it/s]"
          ]
        },
        {
          "output_type": "stream",
          "name": "stdout",
          "text": [
            "x.shape  torch.Size([512, 512, 60])\n",
            "latent.shape  torch.Size([512, 64, 15])\n",
            "reconstructed.shape  torch.Size([512, 512, 60])\n",
            "Epoch 5/20\n",
            "loss: 0.11922213435173035\n",
            "\n"
          ]
        },
        {
          "output_type": "stream",
          "name": "stderr",
          "text": [
            "\r 38%|███▊      | 13312/34935 [00:36<00:56, 380.58it/s]"
          ]
        },
        {
          "output_type": "stream",
          "name": "stdout",
          "text": [
            "x.shape  torch.Size([512, 512, 60])\n",
            "latent.shape  torch.Size([512, 64, 15])\n",
            "reconstructed.shape  torch.Size([512, 512, 60])\n",
            "Epoch 5/20\n",
            "loss: 0.11951844394207001\n",
            "\n"
          ]
        },
        {
          "output_type": "stream",
          "name": "stderr",
          "text": [
            "\r 40%|███▉      | 13824/34935 [00:38<00:55, 380.67it/s]"
          ]
        },
        {
          "output_type": "stream",
          "name": "stdout",
          "text": [
            "x.shape  torch.Size([512, 512, 60])\n",
            "latent.shape  torch.Size([512, 64, 15])\n",
            "reconstructed.shape  torch.Size([512, 512, 60])\n",
            "Epoch 5/20\n",
            "loss: 0.11861725151538849\n",
            "\n"
          ]
        },
        {
          "output_type": "stream",
          "name": "stderr",
          "text": [
            "\r 41%|████      | 14336/34935 [00:39<00:53, 386.50it/s]"
          ]
        },
        {
          "output_type": "stream",
          "name": "stdout",
          "text": [
            "x.shape  torch.Size([512, 512, 60])\n",
            "latent.shape  torch.Size([512, 64, 15])\n",
            "reconstructed.shape  torch.Size([512, 512, 60])\n",
            "Epoch 5/20\n",
            "loss: 0.118045873939991\n",
            "\n"
          ]
        },
        {
          "output_type": "stream",
          "name": "stderr",
          "text": [
            "\r 43%|████▎     | 14848/34935 [00:40<00:51, 388.65it/s]"
          ]
        },
        {
          "output_type": "stream",
          "name": "stdout",
          "text": [
            "x.shape  torch.Size([512, 512, 60])\n",
            "latent.shape  torch.Size([512, 64, 15])\n",
            "reconstructed.shape  torch.Size([512, 512, 60])\n",
            "Epoch 5/20\n",
            "loss: 0.11990097910165787\n",
            "\n"
          ]
        },
        {
          "output_type": "stream",
          "name": "stderr",
          "text": [
            "\r 44%|████▍     | 15360/34935 [00:42<00:50, 387.39it/s]"
          ]
        },
        {
          "output_type": "stream",
          "name": "stdout",
          "text": [
            "x.shape  torch.Size([512, 512, 60])\n",
            "latent.shape  torch.Size([512, 64, 15])\n",
            "reconstructed.shape  torch.Size([512, 512, 60])\n",
            "Epoch 5/20\n",
            "loss: 0.11841326206922531\n",
            "\n"
          ]
        },
        {
          "output_type": "stream",
          "name": "stderr",
          "text": [
            "\r 45%|████▌     | 15872/34935 [00:43<00:49, 386.49it/s]"
          ]
        },
        {
          "output_type": "stream",
          "name": "stdout",
          "text": [
            "x.shape  torch.Size([512, 512, 60])\n",
            "latent.shape  torch.Size([512, 64, 15])\n",
            "reconstructed.shape  torch.Size([512, 512, 60])\n",
            "Epoch 5/20\n",
            "loss: 0.1191970705986023\n",
            "\n"
          ]
        },
        {
          "output_type": "stream",
          "name": "stderr",
          "text": [
            "\r 47%|████▋     | 16384/34935 [00:44<00:47, 386.72it/s]"
          ]
        },
        {
          "output_type": "stream",
          "name": "stdout",
          "text": [
            "x.shape  torch.Size([512, 512, 60])\n",
            "latent.shape  torch.Size([512, 64, 15])\n",
            "reconstructed.shape  torch.Size([512, 512, 60])\n",
            "Epoch 5/20\n",
            "loss: 0.11691512912511826\n",
            "\n"
          ]
        },
        {
          "output_type": "stream",
          "name": "stderr",
          "text": [
            "\r 48%|████▊     | 16896/34935 [00:46<00:46, 383.92it/s]"
          ]
        },
        {
          "output_type": "stream",
          "name": "stdout",
          "text": [
            "x.shape  torch.Size([512, 512, 60])\n",
            "latent.shape  torch.Size([512, 64, 15])\n",
            "reconstructed.shape  torch.Size([512, 512, 60])\n",
            "Epoch 5/20\n",
            "loss: 0.11841332912445068\n",
            "\n"
          ]
        },
        {
          "output_type": "stream",
          "name": "stderr",
          "text": [
            "\r 50%|████▉     | 17408/34935 [00:47<00:45, 385.23it/s]"
          ]
        },
        {
          "output_type": "stream",
          "name": "stdout",
          "text": [
            "x.shape  torch.Size([512, 512, 60])\n",
            "latent.shape  torch.Size([512, 64, 15])\n",
            "reconstructed.shape  torch.Size([512, 512, 60])\n",
            "Epoch 5/20\n",
            "loss: 0.11806804686784744\n",
            "\n"
          ]
        },
        {
          "output_type": "stream",
          "name": "stderr",
          "text": [
            "\r 51%|█████▏    | 17920/34935 [00:48<00:43, 387.74it/s]"
          ]
        },
        {
          "output_type": "stream",
          "name": "stdout",
          "text": [
            "x.shape  torch.Size([512, 512, 60])\n",
            "latent.shape  torch.Size([512, 64, 15])\n",
            "reconstructed.shape  torch.Size([512, 512, 60])\n",
            "Epoch 5/20\n",
            "loss: 0.11897265911102295\n",
            "\n"
          ]
        },
        {
          "output_type": "stream",
          "name": "stderr",
          "text": [
            "\r 53%|█████▎    | 18432/34935 [00:49<00:42, 390.91it/s]"
          ]
        },
        {
          "output_type": "stream",
          "name": "stdout",
          "text": [
            "x.shape  torch.Size([512, 512, 60])\n",
            "latent.shape  torch.Size([512, 64, 15])\n",
            "reconstructed.shape  torch.Size([512, 512, 60])\n",
            "Epoch 5/20\n",
            "loss: 0.12054512649774551\n",
            "\n"
          ]
        },
        {
          "output_type": "stream",
          "name": "stderr",
          "text": [
            "\r 54%|█████▍    | 18944/34935 [00:51<00:41, 386.41it/s]"
          ]
        },
        {
          "output_type": "stream",
          "name": "stdout",
          "text": [
            "x.shape  torch.Size([512, 512, 60])\n",
            "latent.shape  torch.Size([512, 64, 15])\n",
            "reconstructed.shape  torch.Size([512, 512, 60])\n",
            "Epoch 5/20\n",
            "loss: 0.11636959761381149\n",
            "\n"
          ]
        },
        {
          "output_type": "stream",
          "name": "stderr",
          "text": [
            "\r 56%|█████▌    | 19456/34935 [00:52<00:39, 390.78it/s]"
          ]
        },
        {
          "output_type": "stream",
          "name": "stdout",
          "text": [
            "x.shape  torch.Size([512, 512, 60])\n",
            "latent.shape  torch.Size([512, 64, 15])\n",
            "reconstructed.shape  torch.Size([512, 512, 60])\n",
            "Epoch 5/20\n",
            "loss: 0.12005183100700378\n",
            "\n"
          ]
        },
        {
          "output_type": "stream",
          "name": "stderr",
          "text": [
            "\r 57%|█████▋    | 19968/34935 [00:53<00:38, 389.66it/s]"
          ]
        },
        {
          "output_type": "stream",
          "name": "stdout",
          "text": [
            "x.shape  torch.Size([512, 512, 60])\n",
            "latent.shape  torch.Size([512, 64, 15])\n",
            "reconstructed.shape  torch.Size([512, 512, 60])\n",
            "Epoch 5/20\n",
            "loss: 0.11915687471628189\n",
            "\n"
          ]
        },
        {
          "output_type": "stream",
          "name": "stderr",
          "text": [
            "\r 59%|█████▊    | 20480/34935 [00:55<00:37, 388.60it/s]"
          ]
        },
        {
          "output_type": "stream",
          "name": "stdout",
          "text": [
            "x.shape  torch.Size([512, 512, 60])\n",
            "latent.shape  torch.Size([512, 64, 15])\n",
            "reconstructed.shape  torch.Size([512, 512, 60])\n",
            "Epoch 5/20\n",
            "loss: 0.11930225789546967\n",
            "\n"
          ]
        },
        {
          "output_type": "stream",
          "name": "stderr",
          "text": [
            "\r 60%|██████    | 20992/34935 [00:56<00:35, 388.44it/s]"
          ]
        },
        {
          "output_type": "stream",
          "name": "stdout",
          "text": [
            "x.shape  torch.Size([512, 512, 60])\n",
            "latent.shape  torch.Size([512, 64, 15])\n",
            "reconstructed.shape  torch.Size([512, 512, 60])\n",
            "Epoch 5/20\n",
            "loss: 0.11742498725652695\n",
            "\n"
          ]
        },
        {
          "output_type": "stream",
          "name": "stderr",
          "text": [
            "\r 62%|██████▏   | 21504/34935 [00:57<00:34, 388.79it/s]"
          ]
        },
        {
          "output_type": "stream",
          "name": "stdout",
          "text": [
            "x.shape  torch.Size([512, 512, 60])\n",
            "latent.shape  torch.Size([512, 64, 15])\n",
            "reconstructed.shape  torch.Size([512, 512, 60])\n",
            "Epoch 5/20\n",
            "loss: 0.11967499554157257\n",
            "\n"
          ]
        },
        {
          "output_type": "stream",
          "name": "stderr",
          "text": [
            "\r 63%|██████▎   | 22016/34935 [00:59<00:33, 390.30it/s]"
          ]
        },
        {
          "output_type": "stream",
          "name": "stdout",
          "text": [
            "x.shape  torch.Size([512, 512, 60])\n",
            "latent.shape  torch.Size([512, 64, 15])\n",
            "reconstructed.shape  torch.Size([512, 512, 60])\n",
            "Epoch 5/20\n",
            "loss: 0.1170196682214737\n",
            "\n"
          ]
        },
        {
          "output_type": "stream",
          "name": "stderr",
          "text": [
            "\r 64%|██████▍   | 22528/34935 [01:00<00:31, 393.90it/s]"
          ]
        },
        {
          "output_type": "stream",
          "name": "stdout",
          "text": [
            "x.shape  torch.Size([512, 512, 60])\n",
            "latent.shape  torch.Size([512, 64, 15])\n",
            "reconstructed.shape  torch.Size([512, 512, 60])\n",
            "Epoch 5/20\n",
            "loss: 0.1173275038599968\n",
            "\n"
          ]
        },
        {
          "output_type": "stream",
          "name": "stderr",
          "text": [
            "\r 66%|██████▌   | 23040/34935 [01:01<00:30, 395.93it/s]"
          ]
        },
        {
          "output_type": "stream",
          "name": "stdout",
          "text": [
            "x.shape  torch.Size([512, 512, 60])\n",
            "latent.shape  torch.Size([512, 64, 15])\n",
            "reconstructed.shape  torch.Size([512, 512, 60])\n",
            "Epoch 5/20\n",
            "loss: 0.11793636530637741\n",
            "\n"
          ]
        },
        {
          "output_type": "stream",
          "name": "stderr",
          "text": [
            "\r 67%|██████▋   | 23552/34935 [01:03<00:28, 395.65it/s]"
          ]
        },
        {
          "output_type": "stream",
          "name": "stdout",
          "text": [
            "x.shape  torch.Size([512, 512, 60])\n",
            "latent.shape  torch.Size([512, 64, 15])\n",
            "reconstructed.shape  torch.Size([512, 512, 60])\n",
            "Epoch 5/20\n",
            "loss: 0.11899161338806152\n",
            "\n"
          ]
        },
        {
          "output_type": "stream",
          "name": "stderr",
          "text": [
            "\r 69%|██████▉   | 24064/34935 [01:04<00:28, 387.71it/s]"
          ]
        },
        {
          "output_type": "stream",
          "name": "stdout",
          "text": [
            "x.shape  torch.Size([512, 512, 60])\n",
            "latent.shape  torch.Size([512, 64, 15])\n",
            "reconstructed.shape  torch.Size([512, 512, 60])\n",
            "Epoch 5/20\n",
            "loss: 0.11882226914167404\n",
            "\n"
          ]
        },
        {
          "output_type": "stream",
          "name": "stderr",
          "text": [
            "\r 70%|███████   | 24576/34935 [01:05<00:26, 390.77it/s]"
          ]
        },
        {
          "output_type": "stream",
          "name": "stdout",
          "text": [
            "x.shape  torch.Size([512, 512, 60])\n",
            "latent.shape  torch.Size([512, 64, 15])\n",
            "reconstructed.shape  torch.Size([512, 512, 60])\n",
            "Epoch 5/20\n",
            "loss: 0.1184268593788147\n",
            "\n"
          ]
        },
        {
          "output_type": "stream",
          "name": "stderr",
          "text": [
            "\r 72%|███████▏  | 25088/34935 [01:06<00:25, 393.55it/s]"
          ]
        },
        {
          "output_type": "stream",
          "name": "stdout",
          "text": [
            "x.shape  torch.Size([512, 512, 60])\n",
            "latent.shape  torch.Size([512, 64, 15])\n",
            "reconstructed.shape  torch.Size([512, 512, 60])\n",
            "Epoch 5/20\n",
            "loss: 0.11731337755918503\n",
            "\n"
          ]
        },
        {
          "output_type": "stream",
          "name": "stderr",
          "text": [
            "\r 73%|███████▎  | 25600/34935 [01:08<00:23, 392.22it/s]"
          ]
        },
        {
          "output_type": "stream",
          "name": "stdout",
          "text": [
            "x.shape  torch.Size([512, 512, 60])\n",
            "latent.shape  torch.Size([512, 64, 15])\n",
            "reconstructed.shape  torch.Size([512, 512, 60])\n",
            "Epoch 5/20\n",
            "loss: 0.1182786375284195\n",
            "\n"
          ]
        },
        {
          "output_type": "stream",
          "name": "stderr",
          "text": [
            "\r 75%|███████▍  | 26112/34935 [01:09<00:22, 397.37it/s]"
          ]
        },
        {
          "output_type": "stream",
          "name": "stdout",
          "text": [
            "x.shape  torch.Size([512, 512, 60])\n",
            "latent.shape  torch.Size([512, 64, 15])\n",
            "reconstructed.shape  torch.Size([512, 512, 60])\n",
            "Epoch 5/20\n",
            "loss: 0.1185263842344284\n",
            "\n"
          ]
        },
        {
          "output_type": "stream",
          "name": "stderr",
          "text": [
            "\r 76%|███████▌  | 26624/34935 [01:10<00:20, 397.16it/s]"
          ]
        },
        {
          "output_type": "stream",
          "name": "stdout",
          "text": [
            "x.shape  torch.Size([512, 512, 60])\n",
            "latent.shape  torch.Size([512, 64, 15])\n",
            "reconstructed.shape  torch.Size([512, 512, 60])\n",
            "Epoch 5/20\n",
            "loss: 0.11854159832000732\n",
            "\n"
          ]
        },
        {
          "output_type": "stream",
          "name": "stderr",
          "text": [
            "\r 78%|███████▊  | 27136/34935 [01:12<00:19, 396.40it/s]"
          ]
        },
        {
          "output_type": "stream",
          "name": "stdout",
          "text": [
            "x.shape  torch.Size([512, 512, 60])\n",
            "latent.shape  torch.Size([512, 64, 15])\n",
            "reconstructed.shape  torch.Size([512, 512, 60])\n",
            "Epoch 5/20\n",
            "loss: 0.11949983239173889\n",
            "\n"
          ]
        },
        {
          "output_type": "stream",
          "name": "stderr",
          "text": [
            "\r 79%|███████▉  | 27648/34935 [01:13<00:18, 399.94it/s]"
          ]
        },
        {
          "output_type": "stream",
          "name": "stdout",
          "text": [
            "x.shape  torch.Size([512, 512, 60])\n",
            "latent.shape  torch.Size([512, 64, 15])\n",
            "reconstructed.shape  torch.Size([512, 512, 60])\n",
            "Epoch 5/20\n",
            "loss: 0.11906078457832336\n",
            "\n"
          ]
        },
        {
          "output_type": "stream",
          "name": "stderr",
          "text": [
            "\r 81%|████████  | 28160/34935 [01:14<00:16, 399.44it/s]"
          ]
        },
        {
          "output_type": "stream",
          "name": "stdout",
          "text": [
            "x.shape  torch.Size([512, 512, 60])\n",
            "latent.shape  torch.Size([512, 64, 15])\n",
            "reconstructed.shape  torch.Size([512, 512, 60])\n",
            "Epoch 5/20\n",
            "loss: 0.11783348023891449\n",
            "\n"
          ]
        },
        {
          "output_type": "stream",
          "name": "stderr",
          "text": [
            "\r 82%|████████▏ | 28672/34935 [01:15<00:15, 400.55it/s]"
          ]
        },
        {
          "output_type": "stream",
          "name": "stdout",
          "text": [
            "x.shape  torch.Size([512, 512, 60])\n",
            "latent.shape  torch.Size([512, 64, 15])\n",
            "reconstructed.shape  torch.Size([512, 512, 60])\n",
            "Epoch 5/20\n",
            "loss: 0.11654822528362274\n",
            "\n"
          ]
        },
        {
          "output_type": "stream",
          "name": "stderr",
          "text": [
            "\r 84%|████████▎ | 29184/34935 [01:17<00:14, 393.50it/s]"
          ]
        },
        {
          "output_type": "stream",
          "name": "stdout",
          "text": [
            "x.shape  torch.Size([512, 512, 60])\n",
            "latent.shape  torch.Size([512, 64, 15])\n",
            "reconstructed.shape  torch.Size([512, 512, 60])\n",
            "Epoch 5/20\n",
            "loss: 0.11805262416601181\n",
            "\n"
          ]
        },
        {
          "output_type": "stream",
          "name": "stderr",
          "text": [
            "\r 85%|████████▌ | 29696/34935 [01:18<00:13, 394.48it/s]"
          ]
        },
        {
          "output_type": "stream",
          "name": "stdout",
          "text": [
            "x.shape  torch.Size([512, 512, 60])\n",
            "latent.shape  torch.Size([512, 64, 15])\n",
            "reconstructed.shape  torch.Size([512, 512, 60])\n",
            "Epoch 5/20\n",
            "loss: 0.11772190034389496\n",
            "\n"
          ]
        },
        {
          "output_type": "stream",
          "name": "stderr",
          "text": [
            "\r 86%|████████▋ | 30208/34935 [01:19<00:12, 392.23it/s]"
          ]
        },
        {
          "output_type": "stream",
          "name": "stdout",
          "text": [
            "x.shape  torch.Size([512, 512, 60])\n",
            "latent.shape  torch.Size([512, 64, 15])\n",
            "reconstructed.shape  torch.Size([512, 512, 60])\n",
            "Epoch 5/20\n",
            "loss: 0.11708252131938934\n",
            "\n"
          ]
        },
        {
          "output_type": "stream",
          "name": "stderr",
          "text": [
            "\r 88%|████████▊ | 30720/34935 [01:21<00:10, 388.76it/s]"
          ]
        },
        {
          "output_type": "stream",
          "name": "stdout",
          "text": [
            "x.shape  torch.Size([512, 512, 60])\n",
            "latent.shape  torch.Size([512, 64, 15])\n",
            "reconstructed.shape  torch.Size([512, 512, 60])\n",
            "Epoch 5/20\n",
            "loss: 0.11769860237836838\n",
            "\n"
          ]
        },
        {
          "output_type": "stream",
          "name": "stderr",
          "text": [
            "\r 89%|████████▉ | 31232/34935 [01:22<00:09, 385.87it/s]"
          ]
        },
        {
          "output_type": "stream",
          "name": "stdout",
          "text": [
            "x.shape  torch.Size([512, 512, 60])\n",
            "latent.shape  torch.Size([512, 64, 15])\n",
            "reconstructed.shape  torch.Size([512, 512, 60])\n",
            "Epoch 5/20\n",
            "loss: 0.1180470660328865\n",
            "\n"
          ]
        },
        {
          "output_type": "stream",
          "name": "stderr",
          "text": [
            "\r 91%|█████████ | 31744/34935 [01:23<00:08, 383.68it/s]"
          ]
        },
        {
          "output_type": "stream",
          "name": "stdout",
          "text": [
            "x.shape  torch.Size([512, 512, 60])\n",
            "latent.shape  torch.Size([512, 64, 15])\n",
            "reconstructed.shape  torch.Size([512, 512, 60])\n",
            "Epoch 5/20\n",
            "loss: 0.11953020840883255\n",
            "\n"
          ]
        },
        {
          "output_type": "stream",
          "name": "stderr",
          "text": [
            "\r 92%|█████████▏| 32256/34935 [01:25<00:07, 379.38it/s]"
          ]
        },
        {
          "output_type": "stream",
          "name": "stdout",
          "text": [
            "x.shape  torch.Size([512, 512, 60])\n",
            "latent.shape  torch.Size([512, 64, 15])\n",
            "reconstructed.shape  torch.Size([512, 512, 60])\n",
            "Epoch 5/20\n",
            "loss: 0.11788034439086914\n",
            "\n"
          ]
        },
        {
          "output_type": "stream",
          "name": "stderr",
          "text": [
            "\r 94%|█████████▍| 32768/34935 [01:26<00:05, 381.66it/s]"
          ]
        },
        {
          "output_type": "stream",
          "name": "stdout",
          "text": [
            "x.shape  torch.Size([512, 512, 60])\n",
            "latent.shape  torch.Size([512, 64, 15])\n",
            "reconstructed.shape  torch.Size([512, 512, 60])\n",
            "Epoch 5/20\n",
            "loss: 0.1169760599732399\n",
            "\n"
          ]
        },
        {
          "output_type": "stream",
          "name": "stderr",
          "text": [
            "\r 95%|█████████▌| 33280/34935 [01:28<00:04, 381.34it/s]"
          ]
        },
        {
          "output_type": "stream",
          "name": "stdout",
          "text": [
            "x.shape  torch.Size([512, 512, 60])\n",
            "latent.shape  torch.Size([512, 64, 15])\n",
            "reconstructed.shape  torch.Size([512, 512, 60])\n",
            "Epoch 5/20\n",
            "loss: 0.12003745138645172\n",
            "\n"
          ]
        },
        {
          "output_type": "stream",
          "name": "stderr",
          "text": [
            "\r 97%|█████████▋| 33792/34935 [01:29<00:03, 375.86it/s]"
          ]
        },
        {
          "output_type": "stream",
          "name": "stdout",
          "text": [
            "x.shape  torch.Size([512, 512, 60])\n",
            "latent.shape  torch.Size([512, 64, 15])\n",
            "reconstructed.shape  torch.Size([512, 512, 60])\n",
            "Epoch 5/20\n",
            "loss: 0.12029799818992615\n",
            "\n"
          ]
        },
        {
          "output_type": "stream",
          "name": "stderr",
          "text": [
            "\r 98%|█████████▊| 34304/34935 [01:30<00:01, 377.31it/s]"
          ]
        },
        {
          "output_type": "stream",
          "name": "stdout",
          "text": [
            "x.shape  torch.Size([512, 512, 60])\n",
            "latent.shape  torch.Size([512, 64, 15])\n",
            "reconstructed.shape  torch.Size([512, 512, 60])\n",
            "Epoch 5/20\n",
            "loss: 0.11985132098197937\n",
            "\n"
          ]
        },
        {
          "output_type": "stream",
          "name": "stderr",
          "text": [
            "100%|██████████| 34935/34935 [01:32<00:00, 379.38it/s]"
          ]
        },
        {
          "output_type": "stream",
          "name": "stdout",
          "text": [
            "x.shape  torch.Size([512, 512, 60])\n",
            "latent.shape  torch.Size([512, 64, 15])\n",
            "reconstructed.shape  torch.Size([512, 512, 60])\n",
            "Epoch 5/20\n",
            "loss: 0.119122713804245\n",
            "\n"
          ]
        },
        {
          "output_type": "stream",
          "name": "stderr",
          "text": [
            "\n"
          ]
        },
        {
          "output_type": "stream",
          "name": "stdout",
          "text": [
            "x.shape  torch.Size([119, 512, 60])\n",
            "latent.shape  torch.Size([119, 64, 15])\n",
            "reconstructed.shape  torch.Size([119, 512, 60])\n",
            "Epoch 5/20\n",
            "loss: 0.11523420363664627\n",
            "\n"
          ]
        },
        {
          "output_type": "stream",
          "name": "stderr",
          "text": [
            "  1%|▏         | 512/34935 [00:01<01:33, 369.77it/s]"
          ]
        },
        {
          "output_type": "stream",
          "name": "stdout",
          "text": [
            "x.shape  torch.Size([512, 512, 60])\n",
            "latent.shape  torch.Size([512, 64, 15])\n",
            "reconstructed.shape  torch.Size([512, 512, 60])\n",
            "Epoch 6/20\n",
            "loss: 0.11758159101009369\n",
            "\n"
          ]
        },
        {
          "output_type": "stream",
          "name": "stderr",
          "text": [
            "\r  3%|▎         | 1024/34935 [00:02<01:33, 364.56it/s]"
          ]
        },
        {
          "output_type": "stream",
          "name": "stdout",
          "text": [
            "x.shape  torch.Size([512, 512, 60])\n",
            "latent.shape  torch.Size([512, 64, 15])\n",
            "reconstructed.shape  torch.Size([512, 512, 60])\n",
            "Epoch 6/20\n",
            "loss: 0.11931527405977249\n",
            "\n"
          ]
        },
        {
          "output_type": "stream",
          "name": "stderr",
          "text": [
            "\r  4%|▍         | 1536/34935 [00:04<01:32, 360.33it/s]"
          ]
        },
        {
          "output_type": "stream",
          "name": "stdout",
          "text": [
            "x.shape  torch.Size([512, 512, 60])\n",
            "latent.shape  torch.Size([512, 64, 15])\n",
            "reconstructed.shape  torch.Size([512, 512, 60])\n",
            "Epoch 6/20\n",
            "loss: 0.11622224748134613\n",
            "\n"
          ]
        },
        {
          "output_type": "stream",
          "name": "stderr",
          "text": [
            "\r  6%|▌         | 2048/34935 [00:05<01:32, 356.98it/s]"
          ]
        },
        {
          "output_type": "stream",
          "name": "stdout",
          "text": [
            "x.shape  torch.Size([512, 512, 60])\n",
            "latent.shape  torch.Size([512, 64, 15])\n",
            "reconstructed.shape  torch.Size([512, 512, 60])\n",
            "Epoch 6/20\n",
            "loss: 0.11840298026800156\n",
            "\n"
          ]
        },
        {
          "output_type": "stream",
          "name": "stderr",
          "text": [
            "\r  7%|▋         | 2560/34935 [00:07<01:28, 364.10it/s]"
          ]
        },
        {
          "output_type": "stream",
          "name": "stdout",
          "text": [
            "x.shape  torch.Size([512, 512, 60])\n",
            "latent.shape  torch.Size([512, 64, 15])\n",
            "reconstructed.shape  torch.Size([512, 512, 60])\n",
            "Epoch 6/20\n",
            "loss: 0.11879413574934006\n",
            "\n"
          ]
        },
        {
          "output_type": "stream",
          "name": "stderr",
          "text": [
            "\r  9%|▉         | 3072/34935 [00:08<01:28, 361.82it/s]"
          ]
        },
        {
          "output_type": "stream",
          "name": "stdout",
          "text": [
            "x.shape  torch.Size([512, 512, 60])\n",
            "latent.shape  torch.Size([512, 64, 15])\n",
            "reconstructed.shape  torch.Size([512, 512, 60])\n",
            "Epoch 6/20\n",
            "loss: 0.11934655159711838\n",
            "\n"
          ]
        },
        {
          "output_type": "stream",
          "name": "stderr",
          "text": [
            "\r 10%|█         | 3584/34935 [00:09<01:25, 366.38it/s]"
          ]
        },
        {
          "output_type": "stream",
          "name": "stdout",
          "text": [
            "x.shape  torch.Size([512, 512, 60])\n",
            "latent.shape  torch.Size([512, 64, 15])\n",
            "reconstructed.shape  torch.Size([512, 512, 60])\n",
            "Epoch 6/20\n",
            "loss: 0.1170806810259819\n",
            "\n"
          ]
        },
        {
          "output_type": "stream",
          "name": "stderr",
          "text": [
            "\r 12%|█▏        | 4096/34935 [00:11<01:25, 362.46it/s]"
          ]
        },
        {
          "output_type": "stream",
          "name": "stdout",
          "text": [
            "x.shape  torch.Size([512, 512, 60])\n",
            "latent.shape  torch.Size([512, 64, 15])\n",
            "reconstructed.shape  torch.Size([512, 512, 60])\n",
            "Epoch 6/20\n",
            "loss: 0.1177268847823143\n",
            "\n"
          ]
        },
        {
          "output_type": "stream",
          "name": "stderr",
          "text": [
            "\r 13%|█▎        | 4608/34935 [00:12<01:24, 360.85it/s]"
          ]
        },
        {
          "output_type": "stream",
          "name": "stdout",
          "text": [
            "x.shape  torch.Size([512, 512, 60])\n",
            "latent.shape  torch.Size([512, 64, 15])\n",
            "reconstructed.shape  torch.Size([512, 512, 60])\n",
            "Epoch 6/20\n",
            "loss: 0.11700022220611572\n",
            "\n"
          ]
        },
        {
          "output_type": "stream",
          "name": "stderr",
          "text": [
            "\r 15%|█▍        | 5120/34935 [00:14<01:22, 363.05it/s]"
          ]
        },
        {
          "output_type": "stream",
          "name": "stdout",
          "text": [
            "x.shape  torch.Size([512, 512, 60])\n",
            "latent.shape  torch.Size([512, 64, 15])\n",
            "reconstructed.shape  torch.Size([512, 512, 60])\n",
            "Epoch 6/20\n",
            "loss: 0.11931335926055908\n",
            "\n"
          ]
        },
        {
          "output_type": "stream",
          "name": "stderr",
          "text": [
            "\r 16%|█▌        | 5632/34935 [00:15<01:18, 373.41it/s]"
          ]
        },
        {
          "output_type": "stream",
          "name": "stdout",
          "text": [
            "x.shape  torch.Size([512, 512, 60])\n",
            "latent.shape  torch.Size([512, 64, 15])\n",
            "reconstructed.shape  torch.Size([512, 512, 60])\n",
            "Epoch 6/20\n",
            "loss: 0.11866813153028488\n",
            "\n"
          ]
        },
        {
          "output_type": "stream",
          "name": "stderr",
          "text": [
            "\r 18%|█▊        | 6144/34935 [00:16<01:15, 378.83it/s]"
          ]
        },
        {
          "output_type": "stream",
          "name": "stdout",
          "text": [
            "x.shape  torch.Size([512, 512, 60])\n",
            "latent.shape  torch.Size([512, 64, 15])\n",
            "reconstructed.shape  torch.Size([512, 512, 60])\n",
            "Epoch 6/20\n",
            "loss: 0.116949662566185\n",
            "\n"
          ]
        },
        {
          "output_type": "stream",
          "name": "stderr",
          "text": [
            "\r 19%|█▉        | 6656/34935 [00:18<01:15, 376.16it/s]"
          ]
        },
        {
          "output_type": "stream",
          "name": "stdout",
          "text": [
            "x.shape  torch.Size([512, 512, 60])\n",
            "latent.shape  torch.Size([512, 64, 15])\n",
            "reconstructed.shape  torch.Size([512, 512, 60])\n",
            "Epoch 6/20\n",
            "loss: 0.11496757715940475\n",
            "\n"
          ]
        },
        {
          "output_type": "stream",
          "name": "stderr",
          "text": [
            "\r 21%|██        | 7168/34935 [00:19<01:13, 376.99it/s]"
          ]
        },
        {
          "output_type": "stream",
          "name": "stdout",
          "text": [
            "x.shape  torch.Size([512, 512, 60])\n",
            "latent.shape  torch.Size([512, 64, 15])\n",
            "reconstructed.shape  torch.Size([512, 512, 60])\n",
            "Epoch 6/20\n",
            "loss: 0.11668506264686584\n",
            "\n"
          ]
        },
        {
          "output_type": "stream",
          "name": "stderr",
          "text": [
            "\r 22%|██▏       | 7680/34935 [00:20<01:12, 376.65it/s]"
          ]
        },
        {
          "output_type": "stream",
          "name": "stdout",
          "text": [
            "x.shape  torch.Size([512, 512, 60])\n",
            "latent.shape  torch.Size([512, 64, 15])\n",
            "reconstructed.shape  torch.Size([512, 512, 60])\n",
            "Epoch 6/20\n",
            "loss: 0.11857777088880539\n",
            "\n"
          ]
        },
        {
          "output_type": "stream",
          "name": "stderr",
          "text": [
            "\r 23%|██▎       | 8192/34935 [00:22<01:11, 373.69it/s]"
          ]
        },
        {
          "output_type": "stream",
          "name": "stdout",
          "text": [
            "x.shape  torch.Size([512, 512, 60])\n",
            "latent.shape  torch.Size([512, 64, 15])\n",
            "reconstructed.shape  torch.Size([512, 512, 60])\n",
            "Epoch 6/20\n",
            "loss: 0.1165575236082077\n",
            "\n"
          ]
        },
        {
          "output_type": "stream",
          "name": "stderr",
          "text": [
            "\r 25%|██▍       | 8704/34935 [00:23<01:09, 377.74it/s]"
          ]
        },
        {
          "output_type": "stream",
          "name": "stdout",
          "text": [
            "x.shape  torch.Size([512, 512, 60])\n",
            "latent.shape  torch.Size([512, 64, 15])\n",
            "reconstructed.shape  torch.Size([512, 512, 60])\n",
            "Epoch 6/20\n",
            "loss: 0.11679983884096146\n",
            "\n"
          ]
        },
        {
          "output_type": "stream",
          "name": "stderr",
          "text": [
            "\r 26%|██▋       | 9216/34935 [00:24<01:08, 374.54it/s]"
          ]
        },
        {
          "output_type": "stream",
          "name": "stdout",
          "text": [
            "x.shape  torch.Size([512, 512, 60])\n",
            "latent.shape  torch.Size([512, 64, 15])\n",
            "reconstructed.shape  torch.Size([512, 512, 60])\n",
            "Epoch 6/20\n",
            "loss: 0.11845726519823074\n",
            "\n"
          ]
        },
        {
          "output_type": "stream",
          "name": "stderr",
          "text": [
            "\r 28%|██▊       | 9728/34935 [00:26<01:06, 376.63it/s]"
          ]
        },
        {
          "output_type": "stream",
          "name": "stdout",
          "text": [
            "x.shape  torch.Size([512, 512, 60])\n",
            "latent.shape  torch.Size([512, 64, 15])\n",
            "reconstructed.shape  torch.Size([512, 512, 60])\n",
            "Epoch 6/20\n",
            "loss: 0.11788207292556763\n",
            "\n"
          ]
        },
        {
          "output_type": "stream",
          "name": "stderr",
          "text": [
            "\r 29%|██▉       | 10240/34935 [00:27<01:05, 376.51it/s]"
          ]
        },
        {
          "output_type": "stream",
          "name": "stdout",
          "text": [
            "x.shape  torch.Size([512, 512, 60])\n",
            "latent.shape  torch.Size([512, 64, 15])\n",
            "reconstructed.shape  torch.Size([512, 512, 60])\n",
            "Epoch 6/20\n",
            "loss: 0.11970352381467819\n",
            "\n"
          ]
        },
        {
          "output_type": "stream",
          "name": "stderr",
          "text": [
            "\r 31%|███       | 10752/34935 [00:29<01:04, 374.16it/s]"
          ]
        },
        {
          "output_type": "stream",
          "name": "stdout",
          "text": [
            "x.shape  torch.Size([512, 512, 60])\n",
            "latent.shape  torch.Size([512, 64, 15])\n",
            "reconstructed.shape  torch.Size([512, 512, 60])\n",
            "Epoch 6/20\n",
            "loss: 0.11754115670919418\n",
            "\n"
          ]
        },
        {
          "output_type": "stream",
          "name": "stderr",
          "text": [
            "\r 32%|███▏      | 11264/34935 [00:30<01:02, 375.86it/s]"
          ]
        },
        {
          "output_type": "stream",
          "name": "stdout",
          "text": [
            "x.shape  torch.Size([512, 512, 60])\n",
            "latent.shape  torch.Size([512, 64, 15])\n",
            "reconstructed.shape  torch.Size([512, 512, 60])\n",
            "Epoch 6/20\n",
            "loss: 0.11749333143234253\n",
            "\n"
          ]
        },
        {
          "output_type": "stream",
          "name": "stderr",
          "text": [
            "\r 34%|███▎      | 11776/34935 [00:31<01:01, 377.89it/s]"
          ]
        },
        {
          "output_type": "stream",
          "name": "stdout",
          "text": [
            "x.shape  torch.Size([512, 512, 60])\n",
            "latent.shape  torch.Size([512, 64, 15])\n",
            "reconstructed.shape  torch.Size([512, 512, 60])\n",
            "Epoch 6/20\n",
            "loss: 0.11738944798707962\n",
            "\n"
          ]
        },
        {
          "output_type": "stream",
          "name": "stderr",
          "text": [
            "\r 35%|███▌      | 12288/34935 [00:33<01:00, 376.28it/s]"
          ]
        },
        {
          "output_type": "stream",
          "name": "stdout",
          "text": [
            "x.shape  torch.Size([512, 512, 60])\n",
            "latent.shape  torch.Size([512, 64, 15])\n",
            "reconstructed.shape  torch.Size([512, 512, 60])\n",
            "Epoch 6/20\n",
            "loss: 0.11590098589658737\n",
            "\n"
          ]
        },
        {
          "output_type": "stream",
          "name": "stderr",
          "text": [
            "\r 37%|███▋      | 12800/34935 [00:34<00:58, 376.93it/s]"
          ]
        },
        {
          "output_type": "stream",
          "name": "stdout",
          "text": [
            "x.shape  torch.Size([512, 512, 60])\n",
            "latent.shape  torch.Size([512, 64, 15])\n",
            "reconstructed.shape  torch.Size([512, 512, 60])\n",
            "Epoch 6/20\n",
            "loss: 0.11764472723007202\n",
            "\n"
          ]
        },
        {
          "output_type": "stream",
          "name": "stderr",
          "text": [
            "\r 38%|███▊      | 13312/34935 [00:35<00:58, 372.75it/s]"
          ]
        },
        {
          "output_type": "stream",
          "name": "stdout",
          "text": [
            "x.shape  torch.Size([512, 512, 60])\n",
            "latent.shape  torch.Size([512, 64, 15])\n",
            "reconstructed.shape  torch.Size([512, 512, 60])\n",
            "Epoch 6/20\n",
            "loss: 0.11782614886760712\n",
            "\n"
          ]
        },
        {
          "output_type": "stream",
          "name": "stderr",
          "text": [
            "\r 40%|███▉      | 13824/34935 [00:37<00:57, 368.40it/s]"
          ]
        },
        {
          "output_type": "stream",
          "name": "stdout",
          "text": [
            "x.shape  torch.Size([512, 512, 60])\n",
            "latent.shape  torch.Size([512, 64, 15])\n",
            "reconstructed.shape  torch.Size([512, 512, 60])\n",
            "Epoch 6/20\n",
            "loss: 0.11705110222101212\n",
            "\n"
          ]
        },
        {
          "output_type": "stream",
          "name": "stderr",
          "text": [
            "\r 41%|████      | 14336/34935 [00:38<00:55, 372.95it/s]"
          ]
        },
        {
          "output_type": "stream",
          "name": "stdout",
          "text": [
            "x.shape  torch.Size([512, 512, 60])\n",
            "latent.shape  torch.Size([512, 64, 15])\n",
            "reconstructed.shape  torch.Size([512, 512, 60])\n",
            "Epoch 6/20\n",
            "loss: 0.11661913245916367\n",
            "\n"
          ]
        },
        {
          "output_type": "stream",
          "name": "stderr",
          "text": [
            "\r 43%|████▎     | 14848/34935 [00:39<00:53, 372.99it/s]"
          ]
        },
        {
          "output_type": "stream",
          "name": "stdout",
          "text": [
            "x.shape  torch.Size([512, 512, 60])\n",
            "latent.shape  torch.Size([512, 64, 15])\n",
            "reconstructed.shape  torch.Size([512, 512, 60])\n",
            "Epoch 6/20\n",
            "loss: 0.11841480433940887\n",
            "\n"
          ]
        },
        {
          "output_type": "stream",
          "name": "stderr",
          "text": [
            "\r 44%|████▍     | 15360/34935 [00:41<00:52, 375.17it/s]"
          ]
        },
        {
          "output_type": "stream",
          "name": "stdout",
          "text": [
            "x.shape  torch.Size([512, 512, 60])\n",
            "latent.shape  torch.Size([512, 64, 15])\n",
            "reconstructed.shape  torch.Size([512, 512, 60])\n",
            "Epoch 6/20\n",
            "loss: 0.11699459701776505\n",
            "\n"
          ]
        },
        {
          "output_type": "stream",
          "name": "stderr",
          "text": [
            "\r 45%|████▌     | 15872/34935 [00:42<00:50, 374.00it/s]"
          ]
        },
        {
          "output_type": "stream",
          "name": "stdout",
          "text": [
            "x.shape  torch.Size([512, 512, 60])\n",
            "latent.shape  torch.Size([512, 64, 15])\n",
            "reconstructed.shape  torch.Size([512, 512, 60])\n",
            "Epoch 6/20\n",
            "loss: 0.11782734841108322\n",
            "\n"
          ]
        },
        {
          "output_type": "stream",
          "name": "stderr",
          "text": [
            "\r 47%|████▋     | 16384/34935 [00:44<00:49, 372.69it/s]"
          ]
        },
        {
          "output_type": "stream",
          "name": "stdout",
          "text": [
            "x.shape  torch.Size([512, 512, 60])\n",
            "latent.shape  torch.Size([512, 64, 15])\n",
            "reconstructed.shape  torch.Size([512, 512, 60])\n",
            "Epoch 6/20\n",
            "loss: 0.11558906733989716\n",
            "\n"
          ]
        },
        {
          "output_type": "stream",
          "name": "stderr",
          "text": [
            "\r 48%|████▊     | 16896/34935 [00:45<00:48, 370.81it/s]"
          ]
        },
        {
          "output_type": "stream",
          "name": "stdout",
          "text": [
            "x.shape  torch.Size([512, 512, 60])\n",
            "latent.shape  torch.Size([512, 64, 15])\n",
            "reconstructed.shape  torch.Size([512, 512, 60])\n",
            "Epoch 6/20\n",
            "loss: 0.11717727035284042\n",
            "\n"
          ]
        },
        {
          "output_type": "stream",
          "name": "stderr",
          "text": [
            "\r 50%|████▉     | 17408/34935 [00:46<00:47, 366.83it/s]"
          ]
        },
        {
          "output_type": "stream",
          "name": "stdout",
          "text": [
            "x.shape  torch.Size([512, 512, 60])\n",
            "latent.shape  torch.Size([512, 64, 15])\n",
            "reconstructed.shape  torch.Size([512, 512, 60])\n",
            "Epoch 6/20\n",
            "loss: 0.1168452799320221\n",
            "\n"
          ]
        },
        {
          "output_type": "stream",
          "name": "stderr",
          "text": [
            "\r 51%|█████▏    | 17920/34935 [00:48<00:46, 367.62it/s]"
          ]
        },
        {
          "output_type": "stream",
          "name": "stdout",
          "text": [
            "x.shape  torch.Size([512, 512, 60])\n",
            "latent.shape  torch.Size([512, 64, 15])\n",
            "reconstructed.shape  torch.Size([512, 512, 60])\n",
            "Epoch 6/20\n",
            "loss: 0.11790498346090317\n",
            "\n"
          ]
        },
        {
          "output_type": "stream",
          "name": "stderr",
          "text": [
            "\r 53%|█████▎    | 18432/34935 [00:49<00:44, 369.56it/s]"
          ]
        },
        {
          "output_type": "stream",
          "name": "stdout",
          "text": [
            "x.shape  torch.Size([512, 512, 60])\n",
            "latent.shape  torch.Size([512, 64, 15])\n",
            "reconstructed.shape  torch.Size([512, 512, 60])\n",
            "Epoch 6/20\n",
            "loss: 0.11938755214214325\n",
            "\n"
          ]
        },
        {
          "output_type": "stream",
          "name": "stderr",
          "text": [
            "\r 54%|█████▍    | 18944/34935 [00:50<00:42, 374.01it/s]"
          ]
        },
        {
          "output_type": "stream",
          "name": "stdout",
          "text": [
            "x.shape  torch.Size([512, 512, 60])\n",
            "latent.shape  torch.Size([512, 64, 15])\n",
            "reconstructed.shape  torch.Size([512, 512, 60])\n",
            "Epoch 6/20\n",
            "loss: 0.1151464655995369\n",
            "\n"
          ]
        },
        {
          "output_type": "stream",
          "name": "stderr",
          "text": [
            "\r 56%|█████▌    | 19456/34935 [00:52<00:40, 380.12it/s]"
          ]
        },
        {
          "output_type": "stream",
          "name": "stdout",
          "text": [
            "x.shape  torch.Size([512, 512, 60])\n",
            "latent.shape  torch.Size([512, 64, 15])\n",
            "reconstructed.shape  torch.Size([512, 512, 60])\n",
            "Epoch 6/20\n",
            "loss: 0.11886417865753174\n",
            "\n"
          ]
        },
        {
          "output_type": "stream",
          "name": "stderr",
          "text": [
            "\r 57%|█████▋    | 19968/34935 [00:53<00:39, 377.61it/s]"
          ]
        },
        {
          "output_type": "stream",
          "name": "stdout",
          "text": [
            "x.shape  torch.Size([512, 512, 60])\n",
            "latent.shape  torch.Size([512, 64, 15])\n",
            "reconstructed.shape  torch.Size([512, 512, 60])\n",
            "Epoch 6/20\n",
            "loss: 0.11797468364238739\n",
            "\n"
          ]
        },
        {
          "output_type": "stream",
          "name": "stderr",
          "text": [
            "\r 59%|█████▊    | 20480/34935 [00:54<00:38, 379.28it/s]"
          ]
        },
        {
          "output_type": "stream",
          "name": "stdout",
          "text": [
            "x.shape  torch.Size([512, 512, 60])\n",
            "latent.shape  torch.Size([512, 64, 15])\n",
            "reconstructed.shape  torch.Size([512, 512, 60])\n",
            "Epoch 6/20\n",
            "loss: 0.11810338497161865\n",
            "\n"
          ]
        },
        {
          "output_type": "stream",
          "name": "stderr",
          "text": [
            "\r 60%|██████    | 20992/34935 [00:56<00:36, 379.70it/s]"
          ]
        },
        {
          "output_type": "stream",
          "name": "stdout",
          "text": [
            "x.shape  torch.Size([512, 512, 60])\n",
            "latent.shape  torch.Size([512, 64, 15])\n",
            "reconstructed.shape  torch.Size([512, 512, 60])\n",
            "Epoch 6/20\n",
            "loss: 0.11630838364362717\n",
            "\n"
          ]
        },
        {
          "output_type": "stream",
          "name": "stderr",
          "text": [
            "\r 62%|██████▏   | 21504/34935 [00:57<00:35, 378.10it/s]"
          ]
        },
        {
          "output_type": "stream",
          "name": "stdout",
          "text": [
            "x.shape  torch.Size([512, 512, 60])\n",
            "latent.shape  torch.Size([512, 64, 15])\n",
            "reconstructed.shape  torch.Size([512, 512, 60])\n",
            "Epoch 6/20\n",
            "loss: 0.11848806589841843\n",
            "\n"
          ]
        },
        {
          "output_type": "stream",
          "name": "stderr",
          "text": [
            "\r 63%|██████▎   | 22016/34935 [00:59<00:34, 377.91it/s]"
          ]
        },
        {
          "output_type": "stream",
          "name": "stdout",
          "text": [
            "x.shape  torch.Size([512, 512, 60])\n",
            "latent.shape  torch.Size([512, 64, 15])\n",
            "reconstructed.shape  torch.Size([512, 512, 60])\n",
            "Epoch 6/20\n",
            "loss: 0.11591541767120361\n",
            "\n"
          ]
        },
        {
          "output_type": "stream",
          "name": "stderr",
          "text": [
            "\r 64%|██████▍   | 22528/34935 [01:00<00:32, 382.55it/s]"
          ]
        },
        {
          "output_type": "stream",
          "name": "stdout",
          "text": [
            "x.shape  torch.Size([512, 512, 60])\n",
            "latent.shape  torch.Size([512, 64, 15])\n",
            "reconstructed.shape  torch.Size([512, 512, 60])\n",
            "Epoch 6/20\n",
            "loss: 0.11634211242198944\n",
            "\n"
          ]
        },
        {
          "output_type": "stream",
          "name": "stderr",
          "text": [
            "\r 66%|██████▌   | 23040/34935 [01:01<00:31, 379.17it/s]"
          ]
        },
        {
          "output_type": "stream",
          "name": "stdout",
          "text": [
            "x.shape  torch.Size([512, 512, 60])\n",
            "latent.shape  torch.Size([512, 64, 15])\n",
            "reconstructed.shape  torch.Size([512, 512, 60])\n",
            "Epoch 6/20\n",
            "loss: 0.11688817292451859\n",
            "\n"
          ]
        },
        {
          "output_type": "stream",
          "name": "stderr",
          "text": [
            "\r 67%|██████▋   | 23552/34935 [01:03<00:29, 380.33it/s]"
          ]
        },
        {
          "output_type": "stream",
          "name": "stdout",
          "text": [
            "x.shape  torch.Size([512, 512, 60])\n",
            "latent.shape  torch.Size([512, 64, 15])\n",
            "reconstructed.shape  torch.Size([512, 512, 60])\n",
            "Epoch 6/20\n",
            "loss: 0.11799491196870804\n",
            "\n"
          ]
        },
        {
          "output_type": "stream",
          "name": "stderr",
          "text": [
            "\r 69%|██████▉   | 24064/34935 [01:04<00:28, 378.37it/s]"
          ]
        },
        {
          "output_type": "stream",
          "name": "stdout",
          "text": [
            "x.shape  torch.Size([512, 512, 60])\n",
            "latent.shape  torch.Size([512, 64, 15])\n",
            "reconstructed.shape  torch.Size([512, 512, 60])\n",
            "Epoch 6/20\n",
            "loss: 0.11785665154457092\n",
            "\n"
          ]
        },
        {
          "output_type": "stream",
          "name": "stderr",
          "text": [
            "\r 70%|███████   | 24576/34935 [01:05<00:27, 382.53it/s]"
          ]
        },
        {
          "output_type": "stream",
          "name": "stdout",
          "text": [
            "x.shape  torch.Size([512, 512, 60])\n",
            "latent.shape  torch.Size([512, 64, 15])\n",
            "reconstructed.shape  torch.Size([512, 512, 60])\n",
            "Epoch 6/20\n",
            "loss: 0.11746196448802948\n",
            "\n"
          ]
        },
        {
          "output_type": "stream",
          "name": "stderr",
          "text": [
            "\r 72%|███████▏  | 25088/34935 [01:07<00:25, 384.70it/s]"
          ]
        },
        {
          "output_type": "stream",
          "name": "stdout",
          "text": [
            "x.shape  torch.Size([512, 512, 60])\n",
            "latent.shape  torch.Size([512, 64, 15])\n",
            "reconstructed.shape  torch.Size([512, 512, 60])\n",
            "Epoch 6/20\n",
            "loss: 0.11639339476823807\n",
            "\n"
          ]
        },
        {
          "output_type": "stream",
          "name": "stderr",
          "text": [
            "\r 73%|███████▎  | 25600/34935 [01:08<00:24, 384.55it/s]"
          ]
        },
        {
          "output_type": "stream",
          "name": "stdout",
          "text": [
            "x.shape  torch.Size([512, 512, 60])\n",
            "latent.shape  torch.Size([512, 64, 15])\n",
            "reconstructed.shape  torch.Size([512, 512, 60])\n",
            "Epoch 6/20\n",
            "loss: 0.11724761128425598\n",
            "\n"
          ]
        },
        {
          "output_type": "stream",
          "name": "stderr",
          "text": [
            "\r 75%|███████▍  | 26112/34935 [01:09<00:23, 382.58it/s]"
          ]
        },
        {
          "output_type": "stream",
          "name": "stdout",
          "text": [
            "x.shape  torch.Size([512, 512, 60])\n",
            "latent.shape  torch.Size([512, 64, 15])\n",
            "reconstructed.shape  torch.Size([512, 512, 60])\n",
            "Epoch 6/20\n",
            "loss: 0.11758115142583847\n",
            "\n"
          ]
        },
        {
          "output_type": "stream",
          "name": "stderr",
          "text": [
            "\r 76%|███████▌  | 26624/34935 [01:11<00:21, 379.43it/s]"
          ]
        },
        {
          "output_type": "stream",
          "name": "stdout",
          "text": [
            "x.shape  torch.Size([512, 512, 60])\n",
            "latent.shape  torch.Size([512, 64, 15])\n",
            "reconstructed.shape  torch.Size([512, 512, 60])\n",
            "Epoch 6/20\n",
            "loss: 0.11752136051654816\n",
            "\n"
          ]
        },
        {
          "output_type": "stream",
          "name": "stderr",
          "text": [
            "\r 78%|███████▊  | 27136/34935 [01:12<00:20, 381.72it/s]"
          ]
        },
        {
          "output_type": "stream",
          "name": "stdout",
          "text": [
            "x.shape  torch.Size([512, 512, 60])\n",
            "latent.shape  torch.Size([512, 64, 15])\n",
            "reconstructed.shape  torch.Size([512, 512, 60])\n",
            "Epoch 6/20\n",
            "loss: 0.11848416179418564\n",
            "\n"
          ]
        },
        {
          "output_type": "stream",
          "name": "stderr",
          "text": [
            "\r 79%|███████▉  | 27648/34935 [01:13<00:18, 384.31it/s]"
          ]
        },
        {
          "output_type": "stream",
          "name": "stdout",
          "text": [
            "x.shape  torch.Size([512, 512, 60])\n",
            "latent.shape  torch.Size([512, 64, 15])\n",
            "reconstructed.shape  torch.Size([512, 512, 60])\n",
            "Epoch 6/20\n",
            "loss: 0.11810843646526337\n",
            "\n"
          ]
        },
        {
          "output_type": "stream",
          "name": "stderr",
          "text": [
            "\r 81%|████████  | 28160/34935 [01:15<00:17, 383.37it/s]"
          ]
        },
        {
          "output_type": "stream",
          "name": "stdout",
          "text": [
            "x.shape  torch.Size([512, 512, 60])\n",
            "latent.shape  torch.Size([512, 64, 15])\n",
            "reconstructed.shape  torch.Size([512, 512, 60])\n",
            "Epoch 6/20\n",
            "loss: 0.11691876500844955\n",
            "\n"
          ]
        },
        {
          "output_type": "stream",
          "name": "stderr",
          "text": [
            "\r 82%|████████▏ | 28672/34935 [01:16<00:16, 385.09it/s]"
          ]
        },
        {
          "output_type": "stream",
          "name": "stdout",
          "text": [
            "x.shape  torch.Size([512, 512, 60])\n",
            "latent.shape  torch.Size([512, 64, 15])\n",
            "reconstructed.shape  torch.Size([512, 512, 60])\n",
            "Epoch 6/20\n",
            "loss: 0.11564332991838455\n",
            "\n"
          ]
        },
        {
          "output_type": "stream",
          "name": "stderr",
          "text": [
            "\r 84%|████████▎ | 29184/34935 [01:17<00:14, 384.27it/s]"
          ]
        },
        {
          "output_type": "stream",
          "name": "stdout",
          "text": [
            "x.shape  torch.Size([512, 512, 60])\n",
            "latent.shape  torch.Size([512, 64, 15])\n",
            "reconstructed.shape  torch.Size([512, 512, 60])\n",
            "Epoch 6/20\n",
            "loss: 0.11711008846759796\n",
            "\n"
          ]
        },
        {
          "output_type": "stream",
          "name": "stderr",
          "text": [
            "\r 85%|████████▌ | 29696/34935 [01:19<00:13, 382.79it/s]"
          ]
        },
        {
          "output_type": "stream",
          "name": "stdout",
          "text": [
            "x.shape  torch.Size([512, 512, 60])\n",
            "latent.shape  torch.Size([512, 64, 15])\n",
            "reconstructed.shape  torch.Size([512, 512, 60])\n",
            "Epoch 6/20\n",
            "loss: 0.11682026088237762\n",
            "\n"
          ]
        },
        {
          "output_type": "stream",
          "name": "stderr",
          "text": [
            "\r 86%|████████▋ | 30208/34935 [01:20<00:12, 383.51it/s]"
          ]
        },
        {
          "output_type": "stream",
          "name": "stdout",
          "text": [
            "x.shape  torch.Size([512, 512, 60])\n",
            "latent.shape  torch.Size([512, 64, 15])\n",
            "reconstructed.shape  torch.Size([512, 512, 60])\n",
            "Epoch 6/20\n",
            "loss: 0.11618393659591675\n",
            "\n"
          ]
        },
        {
          "output_type": "stream",
          "name": "stderr",
          "text": [
            "\r 88%|████████▊ | 30720/34935 [01:21<00:11, 382.33it/s]"
          ]
        },
        {
          "output_type": "stream",
          "name": "stdout",
          "text": [
            "x.shape  torch.Size([512, 512, 60])\n",
            "latent.shape  torch.Size([512, 64, 15])\n",
            "reconstructed.shape  torch.Size([512, 512, 60])\n",
            "Epoch 6/20\n",
            "loss: 0.11685025691986084\n",
            "\n"
          ]
        },
        {
          "output_type": "stream",
          "name": "stderr",
          "text": [
            "\r 89%|████████▉ | 31232/34935 [01:23<00:09, 381.69it/s]"
          ]
        },
        {
          "output_type": "stream",
          "name": "stdout",
          "text": [
            "x.shape  torch.Size([512, 512, 60])\n",
            "latent.shape  torch.Size([512, 64, 15])\n",
            "reconstructed.shape  torch.Size([512, 512, 60])\n",
            "Epoch 6/20\n",
            "loss: 0.11720801144838333\n",
            "\n"
          ]
        },
        {
          "output_type": "stream",
          "name": "stderr",
          "text": [
            "\r 91%|█████████ | 31744/34935 [01:24<00:08, 378.15it/s]"
          ]
        },
        {
          "output_type": "stream",
          "name": "stdout",
          "text": [
            "x.shape  torch.Size([512, 512, 60])\n",
            "latent.shape  torch.Size([512, 64, 15])\n",
            "reconstructed.shape  torch.Size([512, 512, 60])\n",
            "Epoch 6/20\n",
            "loss: 0.11863017082214355\n",
            "\n"
          ]
        },
        {
          "output_type": "stream",
          "name": "stderr",
          "text": [
            "\r 92%|█████████▏| 32256/34935 [01:25<00:07, 375.63it/s]"
          ]
        },
        {
          "output_type": "stream",
          "name": "stdout",
          "text": [
            "x.shape  torch.Size([512, 512, 60])\n",
            "latent.shape  torch.Size([512, 64, 15])\n",
            "reconstructed.shape  torch.Size([512, 512, 60])\n",
            "Epoch 6/20\n",
            "loss: 0.11703382432460785\n",
            "\n"
          ]
        },
        {
          "output_type": "stream",
          "name": "stderr",
          "text": [
            "\r 94%|█████████▍| 32768/34935 [01:27<00:05, 376.45it/s]"
          ]
        },
        {
          "output_type": "stream",
          "name": "stdout",
          "text": [
            "x.shape  torch.Size([512, 512, 60])\n",
            "latent.shape  torch.Size([512, 64, 15])\n",
            "reconstructed.shape  torch.Size([512, 512, 60])\n",
            "Epoch 6/20\n",
            "loss: 0.11612023413181305\n",
            "\n"
          ]
        },
        {
          "output_type": "stream",
          "name": "stderr",
          "text": [
            "\r 95%|█████████▌| 33280/34935 [01:28<00:04, 377.19it/s]"
          ]
        },
        {
          "output_type": "stream",
          "name": "stdout",
          "text": [
            "x.shape  torch.Size([512, 512, 60])\n",
            "latent.shape  torch.Size([512, 64, 15])\n",
            "reconstructed.shape  torch.Size([512, 512, 60])\n",
            "Epoch 6/20\n",
            "loss: 0.11917583644390106\n",
            "\n"
          ]
        },
        {
          "output_type": "stream",
          "name": "stderr",
          "text": [
            "\r 97%|█████████▋| 33792/34935 [01:29<00:03, 376.17it/s]"
          ]
        },
        {
          "output_type": "stream",
          "name": "stdout",
          "text": [
            "x.shape  torch.Size([512, 512, 60])\n",
            "latent.shape  torch.Size([512, 64, 15])\n",
            "reconstructed.shape  torch.Size([512, 512, 60])\n",
            "Epoch 6/20\n",
            "loss: 0.11941054463386536\n",
            "\n"
          ]
        },
        {
          "output_type": "stream",
          "name": "stderr",
          "text": [
            "\r 98%|█████████▊| 34304/34935 [01:31<00:01, 376.55it/s]"
          ]
        },
        {
          "output_type": "stream",
          "name": "stdout",
          "text": [
            "x.shape  torch.Size([512, 512, 60])\n",
            "latent.shape  torch.Size([512, 64, 15])\n",
            "reconstructed.shape  torch.Size([512, 512, 60])\n",
            "Epoch 6/20\n",
            "loss: 0.1190238669514656\n",
            "\n"
          ]
        },
        {
          "output_type": "stream",
          "name": "stderr",
          "text": [
            "100%|██████████| 34935/34935 [01:32<00:00, 376.74it/s]"
          ]
        },
        {
          "output_type": "stream",
          "name": "stdout",
          "text": [
            "x.shape  torch.Size([512, 512, 60])\n",
            "latent.shape  torch.Size([512, 64, 15])\n",
            "reconstructed.shape  torch.Size([512, 512, 60])\n",
            "Epoch 6/20\n",
            "loss: 0.11822046339511871\n",
            "\n"
          ]
        },
        {
          "output_type": "stream",
          "name": "stderr",
          "text": [
            "\n"
          ]
        },
        {
          "output_type": "stream",
          "name": "stdout",
          "text": [
            "x.shape  torch.Size([119, 512, 60])\n",
            "latent.shape  torch.Size([119, 64, 15])\n",
            "reconstructed.shape  torch.Size([119, 512, 60])\n",
            "Epoch 6/20\n",
            "loss: 0.11449427902698517\n",
            "\n"
          ]
        },
        {
          "output_type": "stream",
          "name": "stderr",
          "text": [
            "  1%|▏         | 512/34935 [00:01<01:32, 372.84it/s]"
          ]
        },
        {
          "output_type": "stream",
          "name": "stdout",
          "text": [
            "x.shape  torch.Size([512, 512, 60])\n",
            "latent.shape  torch.Size([512, 64, 15])\n",
            "reconstructed.shape  torch.Size([512, 512, 60])\n",
            "Epoch 7/20\n",
            "loss: 0.11675853282213211\n",
            "\n"
          ]
        },
        {
          "output_type": "stream",
          "name": "stderr",
          "text": [
            "\r  3%|▎         | 1024/34935 [00:02<01:31, 371.66it/s]"
          ]
        },
        {
          "output_type": "stream",
          "name": "stdout",
          "text": [
            "x.shape  torch.Size([512, 512, 60])\n",
            "latent.shape  torch.Size([512, 64, 15])\n",
            "reconstructed.shape  torch.Size([512, 512, 60])\n",
            "Epoch 7/20\n",
            "loss: 0.11844086647033691\n",
            "\n"
          ]
        },
        {
          "output_type": "stream",
          "name": "stderr",
          "text": [
            "\r  4%|▍         | 1536/34935 [00:04<01:30, 370.91it/s]"
          ]
        },
        {
          "output_type": "stream",
          "name": "stdout",
          "text": [
            "x.shape  torch.Size([512, 512, 60])\n",
            "latent.shape  torch.Size([512, 64, 15])\n",
            "reconstructed.shape  torch.Size([512, 512, 60])\n",
            "Epoch 7/20\n",
            "loss: 0.11533475667238235\n",
            "\n"
          ]
        },
        {
          "output_type": "stream",
          "name": "stderr",
          "text": [
            "\r  6%|▌         | 2048/34935 [00:05<01:29, 367.92it/s]"
          ]
        },
        {
          "output_type": "stream",
          "name": "stdout",
          "text": [
            "x.shape  torch.Size([512, 512, 60])\n",
            "latent.shape  torch.Size([512, 64, 15])\n",
            "reconstructed.shape  torch.Size([512, 512, 60])\n",
            "Epoch 7/20\n",
            "loss: 0.1175418272614479\n",
            "\n"
          ]
        },
        {
          "output_type": "stream",
          "name": "stderr",
          "text": [
            "\r  7%|▋         | 2560/34935 [00:06<01:26, 372.89it/s]"
          ]
        },
        {
          "output_type": "stream",
          "name": "stdout",
          "text": [
            "x.shape  torch.Size([512, 512, 60])\n",
            "latent.shape  torch.Size([512, 64, 15])\n",
            "reconstructed.shape  torch.Size([512, 512, 60])\n",
            "Epoch 7/20\n",
            "loss: 0.11796678602695465\n",
            "\n"
          ]
        },
        {
          "output_type": "stream",
          "name": "stderr",
          "text": [
            "\r  9%|▉         | 3072/34935 [00:08<01:26, 369.19it/s]"
          ]
        },
        {
          "output_type": "stream",
          "name": "stdout",
          "text": [
            "x.shape  torch.Size([512, 512, 60])\n",
            "latent.shape  torch.Size([512, 64, 15])\n",
            "reconstructed.shape  torch.Size([512, 512, 60])\n",
            "Epoch 7/20\n",
            "loss: 0.11850202083587646\n",
            "\n"
          ]
        },
        {
          "output_type": "stream",
          "name": "stderr",
          "text": [
            "\r 10%|█         | 3584/34935 [00:09<01:23, 373.32it/s]"
          ]
        },
        {
          "output_type": "stream",
          "name": "stdout",
          "text": [
            "x.shape  torch.Size([512, 512, 60])\n",
            "latent.shape  torch.Size([512, 64, 15])\n",
            "reconstructed.shape  torch.Size([512, 512, 60])\n",
            "Epoch 7/20\n",
            "loss: 0.11624931544065475\n",
            "\n"
          ]
        },
        {
          "output_type": "stream",
          "name": "stderr",
          "text": [
            "\r 12%|█▏        | 4096/34935 [00:11<01:22, 372.83it/s]"
          ]
        },
        {
          "output_type": "stream",
          "name": "stdout",
          "text": [
            "x.shape  torch.Size([512, 512, 60])\n",
            "latent.shape  torch.Size([512, 64, 15])\n",
            "reconstructed.shape  torch.Size([512, 512, 60])\n",
            "Epoch 7/20\n",
            "loss: 0.11685510724782944\n",
            "\n"
          ]
        },
        {
          "output_type": "stream",
          "name": "stderr",
          "text": [
            "\r 13%|█▎        | 4608/34935 [00:12<01:21, 372.48it/s]"
          ]
        },
        {
          "output_type": "stream",
          "name": "stdout",
          "text": [
            "x.shape  torch.Size([512, 512, 60])\n",
            "latent.shape  torch.Size([512, 64, 15])\n",
            "reconstructed.shape  torch.Size([512, 512, 60])\n",
            "Epoch 7/20\n",
            "loss: 0.11613329499959946\n",
            "\n"
          ]
        },
        {
          "output_type": "stream",
          "name": "stderr",
          "text": [
            "\r 15%|█▍        | 5120/34935 [00:13<01:20, 369.71it/s]"
          ]
        },
        {
          "output_type": "stream",
          "name": "stdout",
          "text": [
            "x.shape  torch.Size([512, 512, 60])\n",
            "latent.shape  torch.Size([512, 64, 15])\n",
            "reconstructed.shape  torch.Size([512, 512, 60])\n",
            "Epoch 7/20\n",
            "loss: 0.1184670478105545\n",
            "\n"
          ]
        },
        {
          "output_type": "stream",
          "name": "stderr",
          "text": [
            "\r 16%|█▌        | 5632/34935 [00:15<01:18, 374.12it/s]"
          ]
        },
        {
          "output_type": "stream",
          "name": "stdout",
          "text": [
            "x.shape  torch.Size([512, 512, 60])\n",
            "latent.shape  torch.Size([512, 64, 15])\n",
            "reconstructed.shape  torch.Size([512, 512, 60])\n",
            "Epoch 7/20\n",
            "loss: 0.11780380457639694\n",
            "\n"
          ]
        },
        {
          "output_type": "stream",
          "name": "stderr",
          "text": [
            "\r 18%|█▊        | 6144/34935 [00:16<01:15, 379.22it/s]"
          ]
        },
        {
          "output_type": "stream",
          "name": "stdout",
          "text": [
            "x.shape  torch.Size([512, 512, 60])\n",
            "latent.shape  torch.Size([512, 64, 15])\n",
            "reconstructed.shape  torch.Size([512, 512, 60])\n",
            "Epoch 7/20\n",
            "loss: 0.11606599390506744\n",
            "\n"
          ]
        },
        {
          "output_type": "stream",
          "name": "stderr",
          "text": [
            "\r 19%|█▉        | 6656/34935 [00:17<01:14, 379.67it/s]"
          ]
        },
        {
          "output_type": "stream",
          "name": "stdout",
          "text": [
            "x.shape  torch.Size([512, 512, 60])\n",
            "latent.shape  torch.Size([512, 64, 15])\n",
            "reconstructed.shape  torch.Size([512, 512, 60])\n",
            "Epoch 7/20\n",
            "loss: 0.11413431912660599\n",
            "\n"
          ]
        },
        {
          "output_type": "stream",
          "name": "stderr",
          "text": [
            "\r 21%|██        | 7168/34935 [00:19<01:13, 379.79it/s]"
          ]
        },
        {
          "output_type": "stream",
          "name": "stdout",
          "text": [
            "x.shape  torch.Size([512, 512, 60])\n",
            "latent.shape  torch.Size([512, 64, 15])\n",
            "reconstructed.shape  torch.Size([512, 512, 60])\n",
            "Epoch 7/20\n",
            "loss: 0.11586696654558182\n",
            "\n"
          ]
        },
        {
          "output_type": "stream",
          "name": "stderr",
          "text": [
            "\r 22%|██▏       | 7680/34935 [00:20<01:12, 377.71it/s]"
          ]
        },
        {
          "output_type": "stream",
          "name": "stdout",
          "text": [
            "x.shape  torch.Size([512, 512, 60])\n",
            "latent.shape  torch.Size([512, 64, 15])\n",
            "reconstructed.shape  torch.Size([512, 512, 60])\n",
            "Epoch 7/20\n",
            "loss: 0.11773035675287247\n",
            "\n"
          ]
        },
        {
          "output_type": "stream",
          "name": "stderr",
          "text": [
            "\r 23%|██▎       | 8192/34935 [00:21<01:11, 373.36it/s]"
          ]
        },
        {
          "output_type": "stream",
          "name": "stdout",
          "text": [
            "x.shape  torch.Size([512, 512, 60])\n",
            "latent.shape  torch.Size([512, 64, 15])\n",
            "reconstructed.shape  torch.Size([512, 512, 60])\n",
            "Epoch 7/20\n",
            "loss: 0.11567502468824387\n",
            "\n"
          ]
        },
        {
          "output_type": "stream",
          "name": "stderr",
          "text": [
            "\r 25%|██▍       | 8704/34935 [00:23<01:09, 375.41it/s]"
          ]
        },
        {
          "output_type": "stream",
          "name": "stdout",
          "text": [
            "x.shape  torch.Size([512, 512, 60])\n",
            "latent.shape  torch.Size([512, 64, 15])\n",
            "reconstructed.shape  torch.Size([512, 512, 60])\n",
            "Epoch 7/20\n",
            "loss: 0.11593615263700485\n",
            "\n"
          ]
        },
        {
          "output_type": "stream",
          "name": "stderr",
          "text": [
            "\r 26%|██▋       | 9216/34935 [00:24<01:07, 378.36it/s]"
          ]
        },
        {
          "output_type": "stream",
          "name": "stdout",
          "text": [
            "x.shape  torch.Size([512, 512, 60])\n",
            "latent.shape  torch.Size([512, 64, 15])\n",
            "reconstructed.shape  torch.Size([512, 512, 60])\n",
            "Epoch 7/20\n",
            "loss: 0.11756306886672974\n",
            "\n"
          ]
        },
        {
          "output_type": "stream",
          "name": "stderr",
          "text": [
            "\r 28%|██▊       | 9728/34935 [00:25<01:06, 381.35it/s]"
          ]
        },
        {
          "output_type": "stream",
          "name": "stdout",
          "text": [
            "x.shape  torch.Size([512, 512, 60])\n",
            "latent.shape  torch.Size([512, 64, 15])\n",
            "reconstructed.shape  torch.Size([512, 512, 60])\n",
            "Epoch 7/20\n",
            "loss: 0.11698067933320999\n",
            "\n"
          ]
        },
        {
          "output_type": "stream",
          "name": "stderr",
          "text": [
            "\r 29%|██▉       | 10240/34935 [00:27<01:05, 379.35it/s]"
          ]
        },
        {
          "output_type": "stream",
          "name": "stdout",
          "text": [
            "x.shape  torch.Size([512, 512, 60])\n",
            "latent.shape  torch.Size([512, 64, 15])\n",
            "reconstructed.shape  torch.Size([512, 512, 60])\n",
            "Epoch 7/20\n",
            "loss: 0.11876577883958817\n",
            "\n"
          ]
        },
        {
          "output_type": "stream",
          "name": "stderr",
          "text": [
            "\r 31%|███       | 10752/34935 [00:28<01:03, 379.68it/s]"
          ]
        },
        {
          "output_type": "stream",
          "name": "stdout",
          "text": [
            "x.shape  torch.Size([512, 512, 60])\n",
            "latent.shape  torch.Size([512, 64, 15])\n",
            "reconstructed.shape  torch.Size([512, 512, 60])\n",
            "Epoch 7/20\n",
            "loss: 0.11661873757839203\n",
            "\n"
          ]
        },
        {
          "output_type": "stream",
          "name": "stderr",
          "text": [
            "\r 32%|███▏      | 11264/34935 [00:29<01:01, 382.38it/s]"
          ]
        },
        {
          "output_type": "stream",
          "name": "stdout",
          "text": [
            "x.shape  torch.Size([512, 512, 60])\n",
            "latent.shape  torch.Size([512, 64, 15])\n",
            "reconstructed.shape  torch.Size([512, 512, 60])\n",
            "Epoch 7/20\n",
            "loss: 0.11660629510879517\n",
            "\n"
          ]
        },
        {
          "output_type": "stream",
          "name": "stderr",
          "text": [
            "\r 34%|███▎      | 11776/34935 [00:31<01:00, 382.23it/s]"
          ]
        },
        {
          "output_type": "stream",
          "name": "stdout",
          "text": [
            "x.shape  torch.Size([512, 512, 60])\n",
            "latent.shape  torch.Size([512, 64, 15])\n",
            "reconstructed.shape  torch.Size([512, 512, 60])\n",
            "Epoch 7/20\n",
            "loss: 0.11642933636903763\n",
            "\n"
          ]
        },
        {
          "output_type": "stream",
          "name": "stderr",
          "text": [
            "\r 35%|███▌      | 12288/34935 [00:32<00:59, 380.69it/s]"
          ]
        },
        {
          "output_type": "stream",
          "name": "stdout",
          "text": [
            "x.shape  torch.Size([512, 512, 60])\n",
            "latent.shape  torch.Size([512, 64, 15])\n",
            "reconstructed.shape  torch.Size([512, 512, 60])\n",
            "Epoch 7/20\n",
            "loss: 0.11504942178726196\n",
            "\n"
          ]
        },
        {
          "output_type": "stream",
          "name": "stderr",
          "text": [
            "\r 37%|███▋      | 12800/34935 [00:33<00:58, 381.38it/s]"
          ]
        },
        {
          "output_type": "stream",
          "name": "stdout",
          "text": [
            "x.shape  torch.Size([512, 512, 60])\n",
            "latent.shape  torch.Size([512, 64, 15])\n",
            "reconstructed.shape  torch.Size([512, 512, 60])\n",
            "Epoch 7/20\n",
            "loss: 0.11673972755670547\n",
            "\n"
          ]
        },
        {
          "output_type": "stream",
          "name": "stderr",
          "text": [
            "\r 38%|███▊      | 13312/34935 [00:35<00:56, 380.16it/s]"
          ]
        },
        {
          "output_type": "stream",
          "name": "stdout",
          "text": [
            "x.shape  torch.Size([512, 512, 60])\n",
            "latent.shape  torch.Size([512, 64, 15])\n",
            "reconstructed.shape  torch.Size([512, 512, 60])\n",
            "Epoch 7/20\n",
            "loss: 0.11692427843809128\n",
            "\n"
          ]
        },
        {
          "output_type": "stream",
          "name": "stderr",
          "text": [
            "\r 40%|███▉      | 13824/34935 [00:36<00:56, 376.20it/s]"
          ]
        },
        {
          "output_type": "stream",
          "name": "stdout",
          "text": [
            "x.shape  torch.Size([512, 512, 60])\n",
            "latent.shape  torch.Size([512, 64, 15])\n",
            "reconstructed.shape  torch.Size([512, 512, 60])\n",
            "Epoch 7/20\n",
            "loss: 0.11621661484241486\n",
            "\n"
          ]
        },
        {
          "output_type": "stream",
          "name": "stderr",
          "text": [
            "\r 41%|████      | 14336/34935 [00:38<00:54, 377.41it/s]"
          ]
        },
        {
          "output_type": "stream",
          "name": "stdout",
          "text": [
            "x.shape  torch.Size([512, 512, 60])\n",
            "latent.shape  torch.Size([512, 64, 15])\n",
            "reconstructed.shape  torch.Size([512, 512, 60])\n",
            "Epoch 7/20\n",
            "loss: 0.11579960584640503\n",
            "\n"
          ]
        },
        {
          "output_type": "stream",
          "name": "stderr",
          "text": [
            "\r 43%|████▎     | 14848/34935 [00:39<00:53, 377.16it/s]"
          ]
        },
        {
          "output_type": "stream",
          "name": "stdout",
          "text": [
            "x.shape  torch.Size([512, 512, 60])\n",
            "latent.shape  torch.Size([512, 64, 15])\n",
            "reconstructed.shape  torch.Size([512, 512, 60])\n",
            "Epoch 7/20\n",
            "loss: 0.11751331388950348\n",
            "\n"
          ]
        },
        {
          "output_type": "stream",
          "name": "stderr",
          "text": [
            "\r 44%|████▍     | 15360/34935 [00:40<00:51, 376.47it/s]"
          ]
        },
        {
          "output_type": "stream",
          "name": "stdout",
          "text": [
            "x.shape  torch.Size([512, 512, 60])\n",
            "latent.shape  torch.Size([512, 64, 15])\n",
            "reconstructed.shape  torch.Size([512, 512, 60])\n",
            "Epoch 7/20\n",
            "loss: 0.11609406769275665\n",
            "\n"
          ]
        },
        {
          "output_type": "stream",
          "name": "stderr",
          "text": [
            "\r 45%|████▌     | 15872/34935 [00:42<00:50, 374.32it/s]"
          ]
        },
        {
          "output_type": "stream",
          "name": "stdout",
          "text": [
            "x.shape  torch.Size([512, 512, 60])\n",
            "latent.shape  torch.Size([512, 64, 15])\n",
            "reconstructed.shape  torch.Size([512, 512, 60])\n",
            "Epoch 7/20\n",
            "loss: 0.11689671128988266\n",
            "\n"
          ]
        },
        {
          "output_type": "stream",
          "name": "stderr",
          "text": [
            "\r 47%|████▋     | 16384/34935 [00:43<00:50, 369.79it/s]"
          ]
        },
        {
          "output_type": "stream",
          "name": "stdout",
          "text": [
            "x.shape  torch.Size([512, 512, 60])\n",
            "latent.shape  torch.Size([512, 64, 15])\n",
            "reconstructed.shape  torch.Size([512, 512, 60])\n",
            "Epoch 7/20\n",
            "loss: 0.1146208867430687\n",
            "\n"
          ]
        },
        {
          "output_type": "stream",
          "name": "stderr",
          "text": [
            "\r 48%|████▊     | 16896/34935 [00:45<00:48, 368.43it/s]"
          ]
        },
        {
          "output_type": "stream",
          "name": "stdout",
          "text": [
            "x.shape  torch.Size([512, 512, 60])\n",
            "latent.shape  torch.Size([512, 64, 15])\n",
            "reconstructed.shape  torch.Size([512, 512, 60])\n",
            "Epoch 7/20\n",
            "loss: 0.11625349521636963\n",
            "\n"
          ]
        },
        {
          "output_type": "stream",
          "name": "stderr",
          "text": [
            "\r 50%|████▉     | 17408/34935 [00:46<00:47, 368.39it/s]"
          ]
        },
        {
          "output_type": "stream",
          "name": "stdout",
          "text": [
            "x.shape  torch.Size([512, 512, 60])\n",
            "latent.shape  torch.Size([512, 64, 15])\n",
            "reconstructed.shape  torch.Size([512, 512, 60])\n",
            "Epoch 7/20\n",
            "loss: 0.11592771857976913\n",
            "\n"
          ]
        },
        {
          "output_type": "stream",
          "name": "stderr",
          "text": [
            "\r 51%|█████▏    | 17920/34935 [00:47<00:45, 371.71it/s]"
          ]
        },
        {
          "output_type": "stream",
          "name": "stdout",
          "text": [
            "x.shape  torch.Size([512, 512, 60])\n",
            "latent.shape  torch.Size([512, 64, 15])\n",
            "reconstructed.shape  torch.Size([512, 512, 60])\n",
            "Epoch 7/20\n",
            "loss: 0.11702652275562286\n",
            "\n"
          ]
        },
        {
          "output_type": "stream",
          "name": "stderr",
          "text": [
            "\r 53%|█████▎    | 18432/34935 [00:49<00:44, 369.57it/s]"
          ]
        },
        {
          "output_type": "stream",
          "name": "stdout",
          "text": [
            "x.shape  torch.Size([512, 512, 60])\n",
            "latent.shape  torch.Size([512, 64, 15])\n",
            "reconstructed.shape  torch.Size([512, 512, 60])\n",
            "Epoch 7/20\n",
            "loss: 0.11847467720508575\n",
            "\n"
          ]
        },
        {
          "output_type": "stream",
          "name": "stderr",
          "text": [
            "\r 54%|█████▍    | 18944/34935 [00:50<00:42, 373.29it/s]"
          ]
        },
        {
          "output_type": "stream",
          "name": "stdout",
          "text": [
            "x.shape  torch.Size([512, 512, 60])\n",
            "latent.shape  torch.Size([512, 64, 15])\n",
            "reconstructed.shape  torch.Size([512, 512, 60])\n",
            "Epoch 7/20\n",
            "loss: 0.11418941617012024\n",
            "\n"
          ]
        },
        {
          "output_type": "stream",
          "name": "stderr",
          "text": [
            "\r 56%|█████▌    | 19456/34935 [00:51<00:41, 374.13it/s]"
          ]
        },
        {
          "output_type": "stream",
          "name": "stdout",
          "text": [
            "x.shape  torch.Size([512, 512, 60])\n",
            "latent.shape  torch.Size([512, 64, 15])\n",
            "reconstructed.shape  torch.Size([512, 512, 60])\n",
            "Epoch 7/20\n",
            "loss: 0.11794520169496536\n",
            "\n"
          ]
        },
        {
          "output_type": "stream",
          "name": "stderr",
          "text": [
            "\r 57%|█████▋    | 19968/34935 [00:53<00:40, 373.92it/s]"
          ]
        },
        {
          "output_type": "stream",
          "name": "stdout",
          "text": [
            "x.shape  torch.Size([512, 512, 60])\n",
            "latent.shape  torch.Size([512, 64, 15])\n",
            "reconstructed.shape  torch.Size([512, 512, 60])\n",
            "Epoch 7/20\n",
            "loss: 0.11704760044813156\n",
            "\n"
          ]
        },
        {
          "output_type": "stream",
          "name": "stderr",
          "text": [
            "\r 59%|█████▊    | 20480/34935 [00:54<00:38, 374.10it/s]"
          ]
        },
        {
          "output_type": "stream",
          "name": "stdout",
          "text": [
            "x.shape  torch.Size([512, 512, 60])\n",
            "latent.shape  torch.Size([512, 64, 15])\n",
            "reconstructed.shape  torch.Size([512, 512, 60])\n",
            "Epoch 7/20\n",
            "loss: 0.11713280528783798\n",
            "\n"
          ]
        },
        {
          "output_type": "stream",
          "name": "stderr",
          "text": [
            "\r 60%|██████    | 20992/34935 [00:55<00:37, 373.42it/s]"
          ]
        },
        {
          "output_type": "stream",
          "name": "stdout",
          "text": [
            "x.shape  torch.Size([512, 512, 60])\n",
            "latent.shape  torch.Size([512, 64, 15])\n",
            "reconstructed.shape  torch.Size([512, 512, 60])\n",
            "Epoch 7/20\n",
            "loss: 0.11536262184381485\n",
            "\n"
          ]
        },
        {
          "output_type": "stream",
          "name": "stderr",
          "text": [
            "\r 62%|██████▏   | 21504/34935 [00:57<00:36, 372.71it/s]"
          ]
        },
        {
          "output_type": "stream",
          "name": "stdout",
          "text": [
            "x.shape  torch.Size([512, 512, 60])\n",
            "latent.shape  torch.Size([512, 64, 15])\n",
            "reconstructed.shape  torch.Size([512, 512, 60])\n",
            "Epoch 7/20\n",
            "loss: 0.11752738058567047\n",
            "\n"
          ]
        },
        {
          "output_type": "stream",
          "name": "stderr",
          "text": [
            "\r 63%|██████▎   | 22016/34935 [00:58<00:34, 370.21it/s]"
          ]
        },
        {
          "output_type": "stream",
          "name": "stdout",
          "text": [
            "x.shape  torch.Size([512, 512, 60])\n",
            "latent.shape  torch.Size([512, 64, 15])\n",
            "reconstructed.shape  torch.Size([512, 512, 60])\n",
            "Epoch 7/20\n",
            "loss: 0.11493752151727676\n",
            "\n"
          ]
        },
        {
          "output_type": "stream",
          "name": "stderr",
          "text": [
            "\r 64%|██████▍   | 22528/34935 [01:00<00:32, 377.59it/s]"
          ]
        },
        {
          "output_type": "stream",
          "name": "stdout",
          "text": [
            "x.shape  torch.Size([512, 512, 60])\n",
            "latent.shape  torch.Size([512, 64, 15])\n",
            "reconstructed.shape  torch.Size([512, 512, 60])\n",
            "Epoch 7/20\n",
            "loss: 0.11542665213346481\n",
            "\n"
          ]
        },
        {
          "output_type": "stream",
          "name": "stderr",
          "text": [
            "\r 66%|██████▌   | 23040/34935 [01:01<00:31, 377.67it/s]"
          ]
        },
        {
          "output_type": "stream",
          "name": "stdout",
          "text": [
            "x.shape  torch.Size([512, 512, 60])\n",
            "latent.shape  torch.Size([512, 64, 15])\n",
            "reconstructed.shape  torch.Size([512, 512, 60])\n",
            "Epoch 7/20\n",
            "loss: 0.11591172963380814\n",
            "\n"
          ]
        },
        {
          "output_type": "stream",
          "name": "stderr",
          "text": [
            "\r 67%|██████▋   | 23552/34935 [01:02<00:30, 379.06it/s]"
          ]
        },
        {
          "output_type": "stream",
          "name": "stdout",
          "text": [
            "x.shape  torch.Size([512, 512, 60])\n",
            "latent.shape  torch.Size([512, 64, 15])\n",
            "reconstructed.shape  torch.Size([512, 512, 60])\n",
            "Epoch 7/20\n",
            "loss: 0.11710609495639801\n",
            "\n"
          ]
        },
        {
          "output_type": "stream",
          "name": "stderr",
          "text": [
            "\r 69%|██████▉   | 24064/34935 [01:04<00:28, 376.79it/s]"
          ]
        },
        {
          "output_type": "stream",
          "name": "stdout",
          "text": [
            "x.shape  torch.Size([512, 512, 60])\n",
            "latent.shape  torch.Size([512, 64, 15])\n",
            "reconstructed.shape  torch.Size([512, 512, 60])\n",
            "Epoch 7/20\n",
            "loss: 0.11694182455539703\n",
            "\n"
          ]
        },
        {
          "output_type": "stream",
          "name": "stderr",
          "text": [
            "\r 70%|███████   | 24576/34935 [01:05<00:26, 383.71it/s]"
          ]
        },
        {
          "output_type": "stream",
          "name": "stdout",
          "text": [
            "x.shape  torch.Size([512, 512, 60])\n",
            "latent.shape  torch.Size([512, 64, 15])\n",
            "reconstructed.shape  torch.Size([512, 512, 60])\n",
            "Epoch 7/20\n",
            "loss: 0.11644857376813889\n",
            "\n"
          ]
        },
        {
          "output_type": "stream",
          "name": "stderr",
          "text": [
            "\r 72%|███████▏  | 25088/34935 [01:06<00:25, 386.36it/s]"
          ]
        },
        {
          "output_type": "stream",
          "name": "stdout",
          "text": [
            "x.shape  torch.Size([512, 512, 60])\n",
            "latent.shape  torch.Size([512, 64, 15])\n",
            "reconstructed.shape  torch.Size([512, 512, 60])\n",
            "Epoch 7/20\n",
            "loss: 0.1154036894440651\n",
            "\n"
          ]
        },
        {
          "output_type": "stream",
          "name": "stderr",
          "text": [
            "\r 73%|███████▎  | 25600/34935 [01:08<00:24, 384.11it/s]"
          ]
        },
        {
          "output_type": "stream",
          "name": "stdout",
          "text": [
            "x.shape  torch.Size([512, 512, 60])\n",
            "latent.shape  torch.Size([512, 64, 15])\n",
            "reconstructed.shape  torch.Size([512, 512, 60])\n",
            "Epoch 7/20\n",
            "loss: 0.11623619496822357\n",
            "\n"
          ]
        },
        {
          "output_type": "stream",
          "name": "stderr",
          "text": [
            "\r 75%|███████▍  | 26112/34935 [01:09<00:22, 384.87it/s]"
          ]
        },
        {
          "output_type": "stream",
          "name": "stdout",
          "text": [
            "x.shape  torch.Size([512, 512, 60])\n",
            "latent.shape  torch.Size([512, 64, 15])\n",
            "reconstructed.shape  torch.Size([512, 512, 60])\n",
            "Epoch 7/20\n",
            "loss: 0.11663883924484253\n",
            "\n"
          ]
        },
        {
          "output_type": "stream",
          "name": "stderr",
          "text": [
            "\r 76%|███████▌  | 26624/34935 [01:10<00:21, 383.77it/s]"
          ]
        },
        {
          "output_type": "stream",
          "name": "stdout",
          "text": [
            "x.shape  torch.Size([512, 512, 60])\n",
            "latent.shape  torch.Size([512, 64, 15])\n",
            "reconstructed.shape  torch.Size([512, 512, 60])\n",
            "Epoch 7/20\n",
            "loss: 0.11649401485919952\n",
            "\n"
          ]
        },
        {
          "output_type": "stream",
          "name": "stderr",
          "text": [
            "\r 78%|███████▊  | 27136/34935 [01:12<00:20, 383.49it/s]"
          ]
        },
        {
          "output_type": "stream",
          "name": "stdout",
          "text": [
            "x.shape  torch.Size([512, 512, 60])\n",
            "latent.shape  torch.Size([512, 64, 15])\n",
            "reconstructed.shape  torch.Size([512, 512, 60])\n",
            "Epoch 7/20\n",
            "loss: 0.11746465414762497\n",
            "\n"
          ]
        },
        {
          "output_type": "stream",
          "name": "stderr",
          "text": [
            "\r 79%|███████▉  | 27648/34935 [01:13<00:18, 387.37it/s]"
          ]
        },
        {
          "output_type": "stream",
          "name": "stdout",
          "text": [
            "x.shape  torch.Size([512, 512, 60])\n",
            "latent.shape  torch.Size([512, 64, 15])\n",
            "reconstructed.shape  torch.Size([512, 512, 60])\n",
            "Epoch 7/20\n",
            "loss: 0.11705702543258667\n",
            "\n"
          ]
        },
        {
          "output_type": "stream",
          "name": "stderr",
          "text": [
            "\r 81%|████████  | 28160/34935 [01:14<00:17, 381.48it/s]"
          ]
        },
        {
          "output_type": "stream",
          "name": "stdout",
          "text": [
            "x.shape  torch.Size([512, 512, 60])\n",
            "latent.shape  torch.Size([512, 64, 15])\n",
            "reconstructed.shape  torch.Size([512, 512, 60])\n",
            "Epoch 7/20\n",
            "loss: 0.11584857851266861\n",
            "\n"
          ]
        },
        {
          "output_type": "stream",
          "name": "stderr",
          "text": [
            "\r 82%|████████▏ | 28672/34935 [01:16<00:16, 382.91it/s]"
          ]
        },
        {
          "output_type": "stream",
          "name": "stdout",
          "text": [
            "x.shape  torch.Size([512, 512, 60])\n",
            "latent.shape  torch.Size([512, 64, 15])\n",
            "reconstructed.shape  torch.Size([512, 512, 60])\n",
            "Epoch 7/20\n",
            "loss: 0.114640012383461\n",
            "\n"
          ]
        },
        {
          "output_type": "stream",
          "name": "stderr",
          "text": [
            "\r 84%|████████▎ | 29184/34935 [01:17<00:15, 379.92it/s]"
          ]
        },
        {
          "output_type": "stream",
          "name": "stdout",
          "text": [
            "x.shape  torch.Size([512, 512, 60])\n",
            "latent.shape  torch.Size([512, 64, 15])\n",
            "reconstructed.shape  torch.Size([512, 512, 60])\n",
            "Epoch 7/20\n",
            "loss: 0.11601606011390686\n",
            "\n"
          ]
        },
        {
          "output_type": "stream",
          "name": "stderr",
          "text": [
            "\r 85%|████████▌ | 29696/34935 [01:18<00:13, 382.52it/s]"
          ]
        },
        {
          "output_type": "stream",
          "name": "stdout",
          "text": [
            "x.shape  torch.Size([512, 512, 60])\n",
            "latent.shape  torch.Size([512, 64, 15])\n",
            "reconstructed.shape  torch.Size([512, 512, 60])\n",
            "Epoch 7/20\n",
            "loss: 0.11577136069536209\n",
            "\n"
          ]
        },
        {
          "output_type": "stream",
          "name": "stderr",
          "text": [
            "\r 86%|████████▋ | 30208/34935 [01:20<00:12, 376.65it/s]"
          ]
        },
        {
          "output_type": "stream",
          "name": "stdout",
          "text": [
            "x.shape  torch.Size([512, 512, 60])\n",
            "latent.shape  torch.Size([512, 64, 15])\n",
            "reconstructed.shape  torch.Size([512, 512, 60])\n",
            "Epoch 7/20\n",
            "loss: 0.11514465510845184\n",
            "\n"
          ]
        },
        {
          "output_type": "stream",
          "name": "stderr",
          "text": [
            "\r 88%|████████▊ | 30720/34935 [01:21<00:11, 377.45it/s]"
          ]
        },
        {
          "output_type": "stream",
          "name": "stdout",
          "text": [
            "x.shape  torch.Size([512, 512, 60])\n",
            "latent.shape  torch.Size([512, 64, 15])\n",
            "reconstructed.shape  torch.Size([512, 512, 60])\n",
            "Epoch 7/20\n",
            "loss: 0.11580388247966766\n",
            "\n"
          ]
        },
        {
          "output_type": "stream",
          "name": "stderr",
          "text": [
            "\r 89%|████████▉ | 31232/34935 [01:22<00:09, 380.33it/s]"
          ]
        },
        {
          "output_type": "stream",
          "name": "stdout",
          "text": [
            "x.shape  torch.Size([512, 512, 60])\n",
            "latent.shape  torch.Size([512, 64, 15])\n",
            "reconstructed.shape  torch.Size([512, 512, 60])\n",
            "Epoch 7/20\n",
            "loss: 0.11607383191585541\n",
            "\n"
          ]
        },
        {
          "output_type": "stream",
          "name": "stderr",
          "text": [
            "\r 91%|█████████ | 31744/34935 [01:24<00:08, 383.61it/s]"
          ]
        },
        {
          "output_type": "stream",
          "name": "stdout",
          "text": [
            "x.shape  torch.Size([512, 512, 60])\n",
            "latent.shape  torch.Size([512, 64, 15])\n",
            "reconstructed.shape  torch.Size([512, 512, 60])\n",
            "Epoch 7/20\n",
            "loss: 0.11752498894929886\n",
            "\n"
          ]
        },
        {
          "output_type": "stream",
          "name": "stderr",
          "text": [
            "\r 92%|█████████▏| 32256/34935 [01:25<00:06, 383.78it/s]"
          ]
        },
        {
          "output_type": "stream",
          "name": "stdout",
          "text": [
            "x.shape  torch.Size([512, 512, 60])\n",
            "latent.shape  torch.Size([512, 64, 15])\n",
            "reconstructed.shape  torch.Size([512, 512, 60])\n",
            "Epoch 7/20\n",
            "loss: 0.11595592647790909\n",
            "\n"
          ]
        },
        {
          "output_type": "stream",
          "name": "stderr",
          "text": [
            "\r 94%|█████████▍| 32768/34935 [01:26<00:05, 387.19it/s]"
          ]
        },
        {
          "output_type": "stream",
          "name": "stdout",
          "text": [
            "x.shape  torch.Size([512, 512, 60])\n",
            "latent.shape  torch.Size([512, 64, 15])\n",
            "reconstructed.shape  torch.Size([512, 512, 60])\n",
            "Epoch 7/20\n",
            "loss: 0.11502282321453094\n",
            "\n"
          ]
        },
        {
          "output_type": "stream",
          "name": "stderr",
          "text": [
            "\r 95%|█████████▌| 33280/34935 [01:28<00:04, 387.07it/s]"
          ]
        },
        {
          "output_type": "stream",
          "name": "stdout",
          "text": [
            "x.shape  torch.Size([512, 512, 60])\n",
            "latent.shape  torch.Size([512, 64, 15])\n",
            "reconstructed.shape  torch.Size([512, 512, 60])\n",
            "Epoch 7/20\n",
            "loss: 0.11796826124191284\n",
            "\n"
          ]
        },
        {
          "output_type": "stream",
          "name": "stderr",
          "text": [
            "\r 97%|█████████▋| 33792/34935 [01:29<00:02, 387.25it/s]"
          ]
        },
        {
          "output_type": "stream",
          "name": "stdout",
          "text": [
            "x.shape  torch.Size([512, 512, 60])\n",
            "latent.shape  torch.Size([512, 64, 15])\n",
            "reconstructed.shape  torch.Size([512, 512, 60])\n",
            "Epoch 7/20\n",
            "loss: 0.11821308732032776\n",
            "\n"
          ]
        },
        {
          "output_type": "stream",
          "name": "stderr",
          "text": [
            "\r 98%|█████████▊| 34304/34935 [01:30<00:01, 384.29it/s]"
          ]
        },
        {
          "output_type": "stream",
          "name": "stdout",
          "text": [
            "x.shape  torch.Size([512, 512, 60])\n",
            "latent.shape  torch.Size([512, 64, 15])\n",
            "reconstructed.shape  torch.Size([512, 512, 60])\n",
            "Epoch 7/20\n",
            "loss: 0.1178310438990593\n",
            "\n"
          ]
        },
        {
          "output_type": "stream",
          "name": "stderr",
          "text": [
            "100%|██████████| 34935/34935 [01:32<00:00, 379.30it/s]"
          ]
        },
        {
          "output_type": "stream",
          "name": "stdout",
          "text": [
            "x.shape  torch.Size([512, 512, 60])\n",
            "latent.shape  torch.Size([512, 64, 15])\n",
            "reconstructed.shape  torch.Size([512, 512, 60])\n",
            "Epoch 7/20\n",
            "loss: 0.11706320196390152\n",
            "\n"
          ]
        },
        {
          "output_type": "stream",
          "name": "stderr",
          "text": [
            "\n"
          ]
        },
        {
          "output_type": "stream",
          "name": "stdout",
          "text": [
            "x.shape  torch.Size([119, 512, 60])\n",
            "latent.shape  torch.Size([119, 64, 15])\n",
            "reconstructed.shape  torch.Size([119, 512, 60])\n",
            "Epoch 7/20\n",
            "loss: 0.11351775377988815\n",
            "\n"
          ]
        },
        {
          "output_type": "stream",
          "name": "stderr",
          "text": [
            "  1%|▏         | 512/34935 [00:01<01:33, 369.01it/s]"
          ]
        },
        {
          "output_type": "stream",
          "name": "stdout",
          "text": [
            "x.shape  torch.Size([512, 512, 60])\n",
            "latent.shape  torch.Size([512, 64, 15])\n",
            "reconstructed.shape  torch.Size([512, 512, 60])\n",
            "Epoch 8/20\n",
            "loss: 0.1155843511223793\n",
            "\n"
          ]
        },
        {
          "output_type": "stream",
          "name": "stderr",
          "text": [
            "\r  3%|▎         | 1024/34935 [00:02<01:33, 360.95it/s]"
          ]
        },
        {
          "output_type": "stream",
          "name": "stdout",
          "text": [
            "x.shape  torch.Size([512, 512, 60])\n",
            "latent.shape  torch.Size([512, 64, 15])\n",
            "reconstructed.shape  torch.Size([512, 512, 60])\n",
            "Epoch 8/20\n",
            "loss: 0.11730512231588364\n",
            "\n"
          ]
        },
        {
          "output_type": "stream",
          "name": "stderr",
          "text": [
            "\r  4%|▍         | 1536/34935 [00:04<01:32, 360.15it/s]"
          ]
        },
        {
          "output_type": "stream",
          "name": "stdout",
          "text": [
            "x.shape  torch.Size([512, 512, 60])\n",
            "latent.shape  torch.Size([512, 64, 15])\n",
            "reconstructed.shape  torch.Size([512, 512, 60])\n",
            "Epoch 8/20\n",
            "loss: 0.11411208659410477\n",
            "\n"
          ]
        },
        {
          "output_type": "stream",
          "name": "stderr",
          "text": [
            "\r  6%|▌         | 2048/34935 [00:05<01:31, 361.15it/s]"
          ]
        },
        {
          "output_type": "stream",
          "name": "stdout",
          "text": [
            "x.shape  torch.Size([512, 512, 60])\n",
            "latent.shape  torch.Size([512, 64, 15])\n",
            "reconstructed.shape  torch.Size([512, 512, 60])\n",
            "Epoch 8/20\n",
            "loss: 0.11634822189807892\n",
            "\n"
          ]
        },
        {
          "output_type": "stream",
          "name": "stderr",
          "text": [
            "\r  7%|▋         | 2560/34935 [00:07<01:28, 365.39it/s]"
          ]
        },
        {
          "output_type": "stream",
          "name": "stdout",
          "text": [
            "x.shape  torch.Size([512, 512, 60])\n",
            "latent.shape  torch.Size([512, 64, 15])\n",
            "reconstructed.shape  torch.Size([512, 512, 60])\n",
            "Epoch 8/20\n",
            "loss: 0.11675693839788437\n",
            "\n"
          ]
        },
        {
          "output_type": "stream",
          "name": "stderr",
          "text": [
            "\r  9%|▉         | 3072/34935 [00:08<01:27, 365.51it/s]"
          ]
        },
        {
          "output_type": "stream",
          "name": "stdout",
          "text": [
            "x.shape  torch.Size([512, 512, 60])\n",
            "latent.shape  torch.Size([512, 64, 15])\n",
            "reconstructed.shape  torch.Size([512, 512, 60])\n",
            "Epoch 8/20\n",
            "loss: 0.11719512939453125\n",
            "\n"
          ]
        },
        {
          "output_type": "stream",
          "name": "stderr",
          "text": [
            "\r 10%|█         | 3584/34935 [00:09<01:25, 368.13it/s]"
          ]
        },
        {
          "output_type": "stream",
          "name": "stdout",
          "text": [
            "x.shape  torch.Size([512, 512, 60])\n",
            "latent.shape  torch.Size([512, 64, 15])\n",
            "reconstructed.shape  torch.Size([512, 512, 60])\n",
            "Epoch 8/20\n",
            "loss: 0.11508505791425705\n",
            "\n"
          ]
        },
        {
          "output_type": "stream",
          "name": "stderr",
          "text": [
            "\r 12%|█▏        | 4096/34935 [00:11<01:24, 366.38it/s]"
          ]
        },
        {
          "output_type": "stream",
          "name": "stdout",
          "text": [
            "x.shape  torch.Size([512, 512, 60])\n",
            "latent.shape  torch.Size([512, 64, 15])\n",
            "reconstructed.shape  torch.Size([512, 512, 60])\n",
            "Epoch 8/20\n",
            "loss: 0.11570616811513901\n",
            "\n"
          ]
        },
        {
          "output_type": "stream",
          "name": "stderr",
          "text": [
            "\r 13%|█▎        | 4608/34935 [00:12<01:23, 365.09it/s]"
          ]
        },
        {
          "output_type": "stream",
          "name": "stdout",
          "text": [
            "x.shape  torch.Size([512, 512, 60])\n",
            "latent.shape  torch.Size([512, 64, 15])\n",
            "reconstructed.shape  torch.Size([512, 512, 60])\n",
            "Epoch 8/20\n",
            "loss: 0.11502598971128464\n",
            "\n"
          ]
        },
        {
          "output_type": "stream",
          "name": "stderr",
          "text": [
            "\r 15%|█▍        | 5120/34935 [00:14<01:23, 357.22it/s]"
          ]
        },
        {
          "output_type": "stream",
          "name": "stdout",
          "text": [
            "x.shape  torch.Size([512, 512, 60])\n",
            "latent.shape  torch.Size([512, 64, 15])\n",
            "reconstructed.shape  torch.Size([512, 512, 60])\n",
            "Epoch 8/20\n",
            "loss: 0.11739658564329147\n",
            "\n"
          ]
        },
        {
          "output_type": "stream",
          "name": "stderr",
          "text": [
            "\r 16%|█▌        | 5632/34935 [00:15<01:19, 367.72it/s]"
          ]
        },
        {
          "output_type": "stream",
          "name": "stdout",
          "text": [
            "x.shape  torch.Size([512, 512, 60])\n",
            "latent.shape  torch.Size([512, 64, 15])\n",
            "reconstructed.shape  torch.Size([512, 512, 60])\n",
            "Epoch 8/20\n",
            "loss: 0.11672084778547287\n",
            "\n"
          ]
        },
        {
          "output_type": "stream",
          "name": "stderr",
          "text": [
            "\r 18%|█▊        | 6144/34935 [00:16<01:16, 374.42it/s]"
          ]
        },
        {
          "output_type": "stream",
          "name": "stdout",
          "text": [
            "x.shape  torch.Size([512, 512, 60])\n",
            "latent.shape  torch.Size([512, 64, 15])\n",
            "reconstructed.shape  torch.Size([512, 512, 60])\n",
            "Epoch 8/20\n",
            "loss: 0.11506474763154984\n",
            "\n"
          ]
        },
        {
          "output_type": "stream",
          "name": "stderr",
          "text": [
            "\r 19%|█▉        | 6656/34935 [00:18<01:15, 375.74it/s]"
          ]
        },
        {
          "output_type": "stream",
          "name": "stdout",
          "text": [
            "x.shape  torch.Size([512, 512, 60])\n",
            "latent.shape  torch.Size([512, 64, 15])\n",
            "reconstructed.shape  torch.Size([512, 512, 60])\n",
            "Epoch 8/20\n",
            "loss: 0.11311608552932739\n",
            "\n"
          ]
        },
        {
          "output_type": "stream",
          "name": "stderr",
          "text": [
            "\r 21%|██        | 7168/34935 [00:19<01:13, 375.98it/s]"
          ]
        },
        {
          "output_type": "stream",
          "name": "stdout",
          "text": [
            "x.shape  torch.Size([512, 512, 60])\n",
            "latent.shape  torch.Size([512, 64, 15])\n",
            "reconstructed.shape  torch.Size([512, 512, 60])\n",
            "Epoch 8/20\n",
            "loss: 0.11468151956796646\n",
            "\n"
          ]
        },
        {
          "output_type": "stream",
          "name": "stderr",
          "text": [
            "\r 22%|██▏       | 7680/34935 [00:20<01:12, 373.97it/s]"
          ]
        },
        {
          "output_type": "stream",
          "name": "stdout",
          "text": [
            "x.shape  torch.Size([512, 512, 60])\n",
            "latent.shape  torch.Size([512, 64, 15])\n",
            "reconstructed.shape  torch.Size([512, 512, 60])\n",
            "Epoch 8/20\n",
            "loss: 0.11647220700979233\n",
            "\n"
          ]
        },
        {
          "output_type": "stream",
          "name": "stderr",
          "text": [
            "\r 23%|██▎       | 8192/34935 [00:22<01:11, 371.93it/s]"
          ]
        },
        {
          "output_type": "stream",
          "name": "stdout",
          "text": [
            "x.shape  torch.Size([512, 512, 60])\n",
            "latent.shape  torch.Size([512, 64, 15])\n",
            "reconstructed.shape  torch.Size([512, 512, 60])\n",
            "Epoch 8/20\n",
            "loss: 0.11447018384933472\n",
            "\n"
          ]
        },
        {
          "output_type": "stream",
          "name": "stderr",
          "text": [
            "\r 25%|██▍       | 8704/34935 [00:23<01:09, 376.10it/s]"
          ]
        },
        {
          "output_type": "stream",
          "name": "stdout",
          "text": [
            "x.shape  torch.Size([512, 512, 60])\n",
            "latent.shape  torch.Size([512, 64, 15])\n",
            "reconstructed.shape  torch.Size([512, 512, 60])\n",
            "Epoch 8/20\n",
            "loss: 0.11470693349838257\n",
            "\n"
          ]
        },
        {
          "output_type": "stream",
          "name": "stderr",
          "text": [
            "\r 26%|██▋       | 9216/34935 [00:24<01:07, 379.58it/s]"
          ]
        },
        {
          "output_type": "stream",
          "name": "stdout",
          "text": [
            "x.shape  torch.Size([512, 512, 60])\n",
            "latent.shape  torch.Size([512, 64, 15])\n",
            "reconstructed.shape  torch.Size([512, 512, 60])\n",
            "Epoch 8/20\n",
            "loss: 0.1162654384970665\n",
            "\n"
          ]
        },
        {
          "output_type": "stream",
          "name": "stderr",
          "text": [
            "\r 28%|██▊       | 9728/34935 [00:26<01:06, 381.07it/s]"
          ]
        },
        {
          "output_type": "stream",
          "name": "stdout",
          "text": [
            "x.shape  torch.Size([512, 512, 60])\n",
            "latent.shape  torch.Size([512, 64, 15])\n",
            "reconstructed.shape  torch.Size([512, 512, 60])\n",
            "Epoch 8/20\n",
            "loss: 0.11556123197078705\n",
            "\n"
          ]
        },
        {
          "output_type": "stream",
          "name": "stderr",
          "text": [
            "\r 29%|██▉       | 10240/34935 [00:27<01:05, 379.42it/s]"
          ]
        },
        {
          "output_type": "stream",
          "name": "stdout",
          "text": [
            "x.shape  torch.Size([512, 512, 60])\n",
            "latent.shape  torch.Size([512, 64, 15])\n",
            "reconstructed.shape  torch.Size([512, 512, 60])\n",
            "Epoch 8/20\n",
            "loss: 0.11733505874872208\n",
            "\n"
          ]
        },
        {
          "output_type": "stream",
          "name": "stderr",
          "text": [
            "\r 31%|███       | 10752/34935 [00:28<01:04, 376.88it/s]"
          ]
        },
        {
          "output_type": "stream",
          "name": "stdout",
          "text": [
            "x.shape  torch.Size([512, 512, 60])\n",
            "latent.shape  torch.Size([512, 64, 15])\n",
            "reconstructed.shape  torch.Size([512, 512, 60])\n",
            "Epoch 8/20\n",
            "loss: 0.115296371281147\n",
            "\n"
          ]
        },
        {
          "output_type": "stream",
          "name": "stderr",
          "text": [
            "\r 32%|███▏      | 11264/34935 [00:30<01:03, 371.25it/s]"
          ]
        },
        {
          "output_type": "stream",
          "name": "stdout",
          "text": [
            "x.shape  torch.Size([512, 512, 60])\n",
            "latent.shape  torch.Size([512, 64, 15])\n",
            "reconstructed.shape  torch.Size([512, 512, 60])\n",
            "Epoch 8/20\n",
            "loss: 0.11526039987802505\n",
            "\n"
          ]
        },
        {
          "output_type": "stream",
          "name": "stderr",
          "text": [
            "\r 34%|███▎      | 11776/34935 [00:31<01:02, 368.57it/s]"
          ]
        },
        {
          "output_type": "stream",
          "name": "stdout",
          "text": [
            "x.shape  torch.Size([512, 512, 60])\n",
            "latent.shape  torch.Size([512, 64, 15])\n",
            "reconstructed.shape  torch.Size([512, 512, 60])\n",
            "Epoch 8/20\n",
            "loss: 0.11488175392150879\n",
            "\n"
          ]
        },
        {
          "output_type": "stream",
          "name": "stderr",
          "text": [
            "\r 35%|███▌      | 12288/34935 [00:33<01:01, 367.20it/s]"
          ]
        },
        {
          "output_type": "stream",
          "name": "stdout",
          "text": [
            "x.shape  torch.Size([512, 512, 60])\n",
            "latent.shape  torch.Size([512, 64, 15])\n",
            "reconstructed.shape  torch.Size([512, 512, 60])\n",
            "Epoch 8/20\n",
            "loss: 0.11371789872646332\n",
            "\n"
          ]
        },
        {
          "output_type": "stream",
          "name": "stderr",
          "text": [
            "\r 37%|███▋      | 12800/34935 [00:34<00:59, 369.87it/s]"
          ]
        },
        {
          "output_type": "stream",
          "name": "stdout",
          "text": [
            "x.shape  torch.Size([512, 512, 60])\n",
            "latent.shape  torch.Size([512, 64, 15])\n",
            "reconstructed.shape  torch.Size([512, 512, 60])\n",
            "Epoch 8/20\n",
            "loss: 0.1153106614947319\n",
            "\n"
          ]
        },
        {
          "output_type": "stream",
          "name": "stderr",
          "text": [
            "\r 38%|███▊      | 13312/34935 [00:36<00:59, 360.47it/s]"
          ]
        },
        {
          "output_type": "stream",
          "name": "stdout",
          "text": [
            "x.shape  torch.Size([512, 512, 60])\n",
            "latent.shape  torch.Size([512, 64, 15])\n",
            "reconstructed.shape  torch.Size([512, 512, 60])\n",
            "Epoch 8/20\n",
            "loss: 0.11549106240272522\n",
            "\n"
          ]
        },
        {
          "output_type": "stream",
          "name": "stderr",
          "text": [
            "\r 40%|███▉      | 13824/34935 [00:37<00:58, 361.55it/s]"
          ]
        },
        {
          "output_type": "stream",
          "name": "stdout",
          "text": [
            "x.shape  torch.Size([512, 512, 60])\n",
            "latent.shape  torch.Size([512, 64, 15])\n",
            "reconstructed.shape  torch.Size([512, 512, 60])\n",
            "Epoch 8/20\n",
            "loss: 0.11476857215166092\n",
            "\n"
          ]
        },
        {
          "output_type": "stream",
          "name": "stderr",
          "text": [
            "\r 41%|████      | 14336/34935 [00:38<00:56, 367.07it/s]"
          ]
        },
        {
          "output_type": "stream",
          "name": "stdout",
          "text": [
            "x.shape  torch.Size([512, 512, 60])\n",
            "latent.shape  torch.Size([512, 64, 15])\n",
            "reconstructed.shape  torch.Size([512, 512, 60])\n",
            "Epoch 8/20\n",
            "loss: 0.11446524411439896\n",
            "\n"
          ]
        },
        {
          "output_type": "stream",
          "name": "stderr",
          "text": [
            "\r 43%|████▎     | 14848/34935 [00:40<00:54, 370.55it/s]"
          ]
        },
        {
          "output_type": "stream",
          "name": "stdout",
          "text": [
            "x.shape  torch.Size([512, 512, 60])\n",
            "latent.shape  torch.Size([512, 64, 15])\n",
            "reconstructed.shape  torch.Size([512, 512, 60])\n",
            "Epoch 8/20\n",
            "loss: 0.11609482020139694\n",
            "\n"
          ]
        },
        {
          "output_type": "stream",
          "name": "stderr",
          "text": [
            "\r 44%|████▍     | 15360/34935 [00:41<00:52, 374.27it/s]"
          ]
        },
        {
          "output_type": "stream",
          "name": "stdout",
          "text": [
            "x.shape  torch.Size([512, 512, 60])\n",
            "latent.shape  torch.Size([512, 64, 15])\n",
            "reconstructed.shape  torch.Size([512, 512, 60])\n",
            "Epoch 8/20\n",
            "loss: 0.11469059437513351\n",
            "\n"
          ]
        },
        {
          "output_type": "stream",
          "name": "stderr",
          "text": [
            "\r 45%|████▌     | 15872/34935 [00:42<00:50, 377.46it/s]"
          ]
        },
        {
          "output_type": "stream",
          "name": "stdout",
          "text": [
            "x.shape  torch.Size([512, 512, 60])\n",
            "latent.shape  torch.Size([512, 64, 15])\n",
            "reconstructed.shape  torch.Size([512, 512, 60])\n",
            "Epoch 8/20\n",
            "loss: 0.11531944572925568\n",
            "\n"
          ]
        },
        {
          "output_type": "stream",
          "name": "stderr",
          "text": [
            "\r 47%|████▋     | 16384/34935 [00:44<00:49, 373.33it/s]"
          ]
        },
        {
          "output_type": "stream",
          "name": "stdout",
          "text": [
            "x.shape  torch.Size([512, 512, 60])\n",
            "latent.shape  torch.Size([512, 64, 15])\n",
            "reconstructed.shape  torch.Size([512, 512, 60])\n",
            "Epoch 8/20\n",
            "loss: 0.11308706551790237\n",
            "\n"
          ]
        },
        {
          "output_type": "stream",
          "name": "stderr",
          "text": [
            "\r 48%|████▊     | 16896/34935 [00:45<00:48, 375.16it/s]"
          ]
        },
        {
          "output_type": "stream",
          "name": "stdout",
          "text": [
            "x.shape  torch.Size([512, 512, 60])\n",
            "latent.shape  torch.Size([512, 64, 15])\n",
            "reconstructed.shape  torch.Size([512, 512, 60])\n",
            "Epoch 8/20\n",
            "loss: 0.11477510631084442\n",
            "\n"
          ]
        },
        {
          "output_type": "stream",
          "name": "stderr",
          "text": [
            "\r 50%|████▉     | 17408/34935 [00:46<00:46, 380.45it/s]"
          ]
        },
        {
          "output_type": "stream",
          "name": "stdout",
          "text": [
            "x.shape  torch.Size([512, 512, 60])\n",
            "latent.shape  torch.Size([512, 64, 15])\n",
            "reconstructed.shape  torch.Size([512, 512, 60])\n",
            "Epoch 8/20\n",
            "loss: 0.11432764679193497\n",
            "\n"
          ]
        },
        {
          "output_type": "stream",
          "name": "stderr",
          "text": [
            "\r 51%|█████▏    | 17920/34935 [00:48<00:44, 380.62it/s]"
          ]
        },
        {
          "output_type": "stream",
          "name": "stdout",
          "text": [
            "x.shape  torch.Size([512, 512, 60])\n",
            "latent.shape  torch.Size([512, 64, 15])\n",
            "reconstructed.shape  torch.Size([512, 512, 60])\n",
            "Epoch 8/20\n",
            "loss: 0.11551608145236969\n",
            "\n"
          ]
        },
        {
          "output_type": "stream",
          "name": "stderr",
          "text": [
            "\r 53%|█████▎    | 18432/34935 [00:49<00:42, 384.59it/s]"
          ]
        },
        {
          "output_type": "stream",
          "name": "stdout",
          "text": [
            "x.shape  torch.Size([512, 512, 60])\n",
            "latent.shape  torch.Size([512, 64, 15])\n",
            "reconstructed.shape  torch.Size([512, 512, 60])\n",
            "Epoch 8/20\n",
            "loss: 0.11694206297397614\n",
            "\n"
          ]
        },
        {
          "output_type": "stream",
          "name": "stderr",
          "text": [
            "\r 54%|█████▍    | 18944/34935 [00:50<00:41, 386.79it/s]"
          ]
        },
        {
          "output_type": "stream",
          "name": "stdout",
          "text": [
            "x.shape  torch.Size([512, 512, 60])\n",
            "latent.shape  torch.Size([512, 64, 15])\n",
            "reconstructed.shape  torch.Size([512, 512, 60])\n",
            "Epoch 8/20\n",
            "loss: 0.11266446113586426\n",
            "\n"
          ]
        },
        {
          "output_type": "stream",
          "name": "stderr",
          "text": [
            "\r 56%|█████▌    | 19456/34935 [00:52<00:39, 388.54it/s]"
          ]
        },
        {
          "output_type": "stream",
          "name": "stdout",
          "text": [
            "x.shape  torch.Size([512, 512, 60])\n",
            "latent.shape  torch.Size([512, 64, 15])\n",
            "reconstructed.shape  torch.Size([512, 512, 60])\n",
            "Epoch 8/20\n",
            "loss: 0.11630348861217499\n",
            "\n"
          ]
        },
        {
          "output_type": "stream",
          "name": "stderr",
          "text": [
            "\r 57%|█████▋    | 19968/34935 [00:53<00:38, 388.73it/s]"
          ]
        },
        {
          "output_type": "stream",
          "name": "stdout",
          "text": [
            "x.shape  torch.Size([512, 512, 60])\n",
            "latent.shape  torch.Size([512, 64, 15])\n",
            "reconstructed.shape  torch.Size([512, 512, 60])\n",
            "Epoch 8/20\n",
            "loss: 0.11542267352342606\n",
            "\n"
          ]
        },
        {
          "output_type": "stream",
          "name": "stderr",
          "text": [
            "\r 59%|█████▊    | 20480/34935 [00:54<00:37, 386.63it/s]"
          ]
        },
        {
          "output_type": "stream",
          "name": "stdout",
          "text": [
            "x.shape  torch.Size([512, 512, 60])\n",
            "latent.shape  torch.Size([512, 64, 15])\n",
            "reconstructed.shape  torch.Size([512, 512, 60])\n",
            "Epoch 8/20\n",
            "loss: 0.11551172286272049\n",
            "\n"
          ]
        },
        {
          "output_type": "stream",
          "name": "stderr",
          "text": [
            "\r 60%|██████    | 20992/34935 [00:56<00:36, 385.31it/s]"
          ]
        },
        {
          "output_type": "stream",
          "name": "stdout",
          "text": [
            "x.shape  torch.Size([512, 512, 60])\n",
            "latent.shape  torch.Size([512, 64, 15])\n",
            "reconstructed.shape  torch.Size([512, 512, 60])\n",
            "Epoch 8/20\n",
            "loss: 0.11372891068458557\n",
            "\n"
          ]
        },
        {
          "output_type": "stream",
          "name": "stderr",
          "text": [
            "\r 62%|██████▏   | 21504/34935 [00:57<00:35, 380.97it/s]"
          ]
        },
        {
          "output_type": "stream",
          "name": "stdout",
          "text": [
            "x.shape  torch.Size([512, 512, 60])\n",
            "latent.shape  torch.Size([512, 64, 15])\n",
            "reconstructed.shape  torch.Size([512, 512, 60])\n",
            "Epoch 8/20\n",
            "loss: 0.11581768840551376\n",
            "\n"
          ]
        },
        {
          "output_type": "stream",
          "name": "stderr",
          "text": [
            "\r 63%|██████▎   | 22016/34935 [00:58<00:34, 375.44it/s]"
          ]
        },
        {
          "output_type": "stream",
          "name": "stdout",
          "text": [
            "x.shape  torch.Size([512, 512, 60])\n",
            "latent.shape  torch.Size([512, 64, 15])\n",
            "reconstructed.shape  torch.Size([512, 512, 60])\n",
            "Epoch 8/20\n",
            "loss: 0.11328349262475967\n",
            "\n"
          ]
        },
        {
          "output_type": "stream",
          "name": "stderr",
          "text": [
            "\r 64%|██████▍   | 22528/34935 [01:00<00:32, 376.07it/s]"
          ]
        },
        {
          "output_type": "stream",
          "name": "stdout",
          "text": [
            "x.shape  torch.Size([512, 512, 60])\n",
            "latent.shape  torch.Size([512, 64, 15])\n",
            "reconstructed.shape  torch.Size([512, 512, 60])\n",
            "Epoch 8/20\n",
            "loss: 0.11371371895074844\n",
            "\n"
          ]
        },
        {
          "output_type": "stream",
          "name": "stderr",
          "text": [
            "\r 66%|██████▌   | 23040/34935 [01:01<00:31, 376.51it/s]"
          ]
        },
        {
          "output_type": "stream",
          "name": "stdout",
          "text": [
            "x.shape  torch.Size([512, 512, 60])\n",
            "latent.shape  torch.Size([512, 64, 15])\n",
            "reconstructed.shape  torch.Size([512, 512, 60])\n",
            "Epoch 8/20\n",
            "loss: 0.1141756996512413\n",
            "\n"
          ]
        },
        {
          "output_type": "stream",
          "name": "stderr",
          "text": [
            "\r 67%|██████▋   | 23552/34935 [01:02<00:30, 377.98it/s]"
          ]
        },
        {
          "output_type": "stream",
          "name": "stdout",
          "text": [
            "x.shape  torch.Size([512, 512, 60])\n",
            "latent.shape  torch.Size([512, 64, 15])\n",
            "reconstructed.shape  torch.Size([512, 512, 60])\n",
            "Epoch 8/20\n",
            "loss: 0.1154877245426178\n",
            "\n"
          ]
        },
        {
          "output_type": "stream",
          "name": "stderr",
          "text": [
            "\r 69%|██████▉   | 24064/34935 [01:04<00:28, 377.97it/s]"
          ]
        },
        {
          "output_type": "stream",
          "name": "stdout",
          "text": [
            "x.shape  torch.Size([512, 512, 60])\n",
            "latent.shape  torch.Size([512, 64, 15])\n",
            "reconstructed.shape  torch.Size([512, 512, 60])\n",
            "Epoch 8/20\n",
            "loss: 0.1152738630771637\n",
            "\n"
          ]
        },
        {
          "output_type": "stream",
          "name": "stderr",
          "text": [
            "\r 70%|███████   | 24576/34935 [01:05<00:27, 379.21it/s]"
          ]
        },
        {
          "output_type": "stream",
          "name": "stdout",
          "text": [
            "x.shape  torch.Size([512, 512, 60])\n",
            "latent.shape  torch.Size([512, 64, 15])\n",
            "reconstructed.shape  torch.Size([512, 512, 60])\n",
            "Epoch 8/20\n",
            "loss: 0.1146712601184845\n",
            "\n"
          ]
        },
        {
          "output_type": "stream",
          "name": "stderr",
          "text": [
            "\r 72%|███████▏  | 25088/34935 [01:07<00:25, 380.74it/s]"
          ]
        },
        {
          "output_type": "stream",
          "name": "stdout",
          "text": [
            "x.shape  torch.Size([512, 512, 60])\n",
            "latent.shape  torch.Size([512, 64, 15])\n",
            "reconstructed.shape  torch.Size([512, 512, 60])\n",
            "Epoch 8/20\n",
            "loss: 0.11367429792881012\n",
            "\n"
          ]
        },
        {
          "output_type": "stream",
          "name": "stderr",
          "text": [
            "\r 73%|███████▎  | 25600/34935 [01:08<00:24, 383.18it/s]"
          ]
        },
        {
          "output_type": "stream",
          "name": "stdout",
          "text": [
            "x.shape  torch.Size([512, 512, 60])\n",
            "latent.shape  torch.Size([512, 64, 15])\n",
            "reconstructed.shape  torch.Size([512, 512, 60])\n",
            "Epoch 8/20\n",
            "loss: 0.11444572359323502\n",
            "\n"
          ]
        },
        {
          "output_type": "stream",
          "name": "stderr",
          "text": [
            "\r 75%|███████▍  | 26112/34935 [01:09<00:22, 386.31it/s]"
          ]
        },
        {
          "output_type": "stream",
          "name": "stdout",
          "text": [
            "x.shape  torch.Size([512, 512, 60])\n",
            "latent.shape  torch.Size([512, 64, 15])\n",
            "reconstructed.shape  torch.Size([512, 512, 60])\n",
            "Epoch 8/20\n",
            "loss: 0.11487796157598495\n",
            "\n"
          ]
        },
        {
          "output_type": "stream",
          "name": "stderr",
          "text": [
            "\r 76%|███████▌  | 26624/34935 [01:10<00:21, 386.74it/s]"
          ]
        },
        {
          "output_type": "stream",
          "name": "stdout",
          "text": [
            "x.shape  torch.Size([512, 512, 60])\n",
            "latent.shape  torch.Size([512, 64, 15])\n",
            "reconstructed.shape  torch.Size([512, 512, 60])\n",
            "Epoch 8/20\n",
            "loss: 0.1144842579960823\n",
            "\n"
          ]
        },
        {
          "output_type": "stream",
          "name": "stderr",
          "text": [
            "\r 78%|███████▊  | 27136/34935 [01:12<00:20, 387.44it/s]"
          ]
        },
        {
          "output_type": "stream",
          "name": "stdout",
          "text": [
            "x.shape  torch.Size([512, 512, 60])\n",
            "latent.shape  torch.Size([512, 64, 15])\n",
            "reconstructed.shape  torch.Size([512, 512, 60])\n",
            "Epoch 8/20\n",
            "loss: 0.11569119244813919\n",
            "\n"
          ]
        },
        {
          "output_type": "stream",
          "name": "stderr",
          "text": [
            "\r 79%|███████▉  | 27648/34935 [01:13<00:18, 390.09it/s]"
          ]
        },
        {
          "output_type": "stream",
          "name": "stdout",
          "text": [
            "x.shape  torch.Size([512, 512, 60])\n",
            "latent.shape  torch.Size([512, 64, 15])\n",
            "reconstructed.shape  torch.Size([512, 512, 60])\n",
            "Epoch 8/20\n",
            "loss: 0.1153014749288559\n",
            "\n"
          ]
        },
        {
          "output_type": "stream",
          "name": "stderr",
          "text": [
            "\r 81%|████████  | 28160/34935 [01:14<00:17, 386.03it/s]"
          ]
        },
        {
          "output_type": "stream",
          "name": "stdout",
          "text": [
            "x.shape  torch.Size([512, 512, 60])\n",
            "latent.shape  torch.Size([512, 64, 15])\n",
            "reconstructed.shape  torch.Size([512, 512, 60])\n",
            "Epoch 8/20\n",
            "loss: 0.114077128469944\n",
            "\n"
          ]
        },
        {
          "output_type": "stream",
          "name": "stderr",
          "text": [
            "\r 82%|████████▏ | 28672/34935 [01:16<00:16, 376.88it/s]"
          ]
        },
        {
          "output_type": "stream",
          "name": "stdout",
          "text": [
            "x.shape  torch.Size([512, 512, 60])\n",
            "latent.shape  torch.Size([512, 64, 15])\n",
            "reconstructed.shape  torch.Size([512, 512, 60])\n",
            "Epoch 8/20\n",
            "loss: 0.11286599189043045\n",
            "\n"
          ]
        },
        {
          "output_type": "stream",
          "name": "stderr",
          "text": [
            "\r 84%|████████▎ | 29184/34935 [01:17<00:15, 370.31it/s]"
          ]
        },
        {
          "output_type": "stream",
          "name": "stdout",
          "text": [
            "x.shape  torch.Size([512, 512, 60])\n",
            "latent.shape  torch.Size([512, 64, 15])\n",
            "reconstructed.shape  torch.Size([512, 512, 60])\n",
            "Epoch 8/20\n",
            "loss: 0.11412069946527481\n",
            "\n"
          ]
        },
        {
          "output_type": "stream",
          "name": "stderr",
          "text": [
            "\r 85%|████████▌ | 29696/34935 [01:19<00:13, 375.04it/s]"
          ]
        },
        {
          "output_type": "stream",
          "name": "stdout",
          "text": [
            "x.shape  torch.Size([512, 512, 60])\n",
            "latent.shape  torch.Size([512, 64, 15])\n",
            "reconstructed.shape  torch.Size([512, 512, 60])\n",
            "Epoch 8/20\n",
            "loss: 0.11396465450525284\n",
            "\n"
          ]
        },
        {
          "output_type": "stream",
          "name": "stderr",
          "text": [
            "\r 86%|████████▋ | 30208/34935 [01:20<00:12, 375.63it/s]"
          ]
        },
        {
          "output_type": "stream",
          "name": "stdout",
          "text": [
            "x.shape  torch.Size([512, 512, 60])\n",
            "latent.shape  torch.Size([512, 64, 15])\n",
            "reconstructed.shape  torch.Size([512, 512, 60])\n",
            "Epoch 8/20\n",
            "loss: 0.1133158951997757\n",
            "\n"
          ]
        },
        {
          "output_type": "stream",
          "name": "stderr",
          "text": [
            "\r 88%|████████▊ | 30720/34935 [01:21<00:11, 375.81it/s]"
          ]
        },
        {
          "output_type": "stream",
          "name": "stdout",
          "text": [
            "x.shape  torch.Size([512, 512, 60])\n",
            "latent.shape  torch.Size([512, 64, 15])\n",
            "reconstructed.shape  torch.Size([512, 512, 60])\n",
            "Epoch 8/20\n",
            "loss: 0.11393073946237564\n",
            "\n"
          ]
        },
        {
          "output_type": "stream",
          "name": "stderr",
          "text": [
            "\r 89%|████████▉ | 31232/34935 [01:23<00:09, 379.76it/s]"
          ]
        },
        {
          "output_type": "stream",
          "name": "stdout",
          "text": [
            "x.shape  torch.Size([512, 512, 60])\n",
            "latent.shape  torch.Size([512, 64, 15])\n",
            "reconstructed.shape  torch.Size([512, 512, 60])\n",
            "Epoch 8/20\n",
            "loss: 0.1141851469874382\n",
            "\n"
          ]
        },
        {
          "output_type": "stream",
          "name": "stderr",
          "text": [
            "\r 91%|█████████ | 31744/34935 [01:24<00:08, 378.94it/s]"
          ]
        },
        {
          "output_type": "stream",
          "name": "stdout",
          "text": [
            "x.shape  torch.Size([512, 512, 60])\n",
            "latent.shape  torch.Size([512, 64, 15])\n",
            "reconstructed.shape  torch.Size([512, 512, 60])\n",
            "Epoch 8/20\n",
            "loss: 0.11559498310089111\n",
            "\n"
          ]
        },
        {
          "output_type": "stream",
          "name": "stderr",
          "text": [
            "\r 92%|█████████▏| 32256/34935 [01:25<00:07, 380.94it/s]"
          ]
        },
        {
          "output_type": "stream",
          "name": "stdout",
          "text": [
            "x.shape  torch.Size([512, 512, 60])\n",
            "latent.shape  torch.Size([512, 64, 15])\n",
            "reconstructed.shape  torch.Size([512, 512, 60])\n",
            "Epoch 8/20\n",
            "loss: 0.11408725380897522\n",
            "\n"
          ]
        },
        {
          "output_type": "stream",
          "name": "stderr",
          "text": [
            "\r 94%|█████████▍| 32768/34935 [01:27<00:05, 384.15it/s]"
          ]
        },
        {
          "output_type": "stream",
          "name": "stdout",
          "text": [
            "x.shape  torch.Size([512, 512, 60])\n",
            "latent.shape  torch.Size([512, 64, 15])\n",
            "reconstructed.shape  torch.Size([512, 512, 60])\n",
            "Epoch 8/20\n",
            "loss: 0.11307795345783234\n",
            "\n"
          ]
        },
        {
          "output_type": "stream",
          "name": "stderr",
          "text": [
            "\r 95%|█████████▌| 33280/34935 [01:28<00:04, 387.27it/s]"
          ]
        },
        {
          "output_type": "stream",
          "name": "stdout",
          "text": [
            "x.shape  torch.Size([512, 512, 60])\n",
            "latent.shape  torch.Size([512, 64, 15])\n",
            "reconstructed.shape  torch.Size([512, 512, 60])\n",
            "Epoch 8/20\n",
            "loss: 0.1157369613647461\n",
            "\n"
          ]
        },
        {
          "output_type": "stream",
          "name": "stderr",
          "text": [
            "\r 97%|█████████▋| 33792/34935 [01:29<00:02, 386.27it/s]"
          ]
        },
        {
          "output_type": "stream",
          "name": "stdout",
          "text": [
            "x.shape  torch.Size([512, 512, 60])\n",
            "latent.shape  torch.Size([512, 64, 15])\n",
            "reconstructed.shape  torch.Size([512, 512, 60])\n",
            "Epoch 8/20\n",
            "loss: 0.11607436090707779\n",
            "\n"
          ]
        },
        {
          "output_type": "stream",
          "name": "stderr",
          "text": [
            "\r 98%|█████████▊| 34304/34935 [01:31<00:01, 389.13it/s]"
          ]
        },
        {
          "output_type": "stream",
          "name": "stdout",
          "text": [
            "x.shape  torch.Size([512, 512, 60])\n",
            "latent.shape  torch.Size([512, 64, 15])\n",
            "reconstructed.shape  torch.Size([512, 512, 60])\n",
            "Epoch 8/20\n",
            "loss: 0.11575872451066971\n",
            "\n"
          ]
        },
        {
          "output_type": "stream",
          "name": "stderr",
          "text": [
            "100%|██████████| 34935/34935 [01:32<00:00, 378.25it/s]"
          ]
        },
        {
          "output_type": "stream",
          "name": "stdout",
          "text": [
            "x.shape  torch.Size([512, 512, 60])\n",
            "latent.shape  torch.Size([512, 64, 15])\n",
            "reconstructed.shape  torch.Size([512, 512, 60])\n",
            "Epoch 8/20\n",
            "loss: 0.11485248059034348\n",
            "\n"
          ]
        },
        {
          "output_type": "stream",
          "name": "stderr",
          "text": [
            "\n"
          ]
        },
        {
          "output_type": "stream",
          "name": "stdout",
          "text": [
            "x.shape  torch.Size([119, 512, 60])\n",
            "latent.shape  torch.Size([119, 64, 15])\n",
            "reconstructed.shape  torch.Size([119, 512, 60])\n",
            "Epoch 8/20\n",
            "loss: 0.11151596158742905\n",
            "\n"
          ]
        },
        {
          "output_type": "stream",
          "name": "stderr",
          "text": [
            "  1%|▏         | 512/34935 [00:01<01:30, 379.09it/s]"
          ]
        },
        {
          "output_type": "stream",
          "name": "stdout",
          "text": [
            "x.shape  torch.Size([512, 512, 60])\n",
            "latent.shape  torch.Size([512, 64, 15])\n",
            "reconstructed.shape  torch.Size([512, 512, 60])\n",
            "Epoch 9/20\n",
            "loss: 0.1135580912232399\n",
            "\n"
          ]
        },
        {
          "output_type": "stream",
          "name": "stderr",
          "text": [
            "\r  3%|▎         | 1024/34935 [00:02<01:29, 379.41it/s]"
          ]
        },
        {
          "output_type": "stream",
          "name": "stdout",
          "text": [
            "x.shape  torch.Size([512, 512, 60])\n",
            "latent.shape  torch.Size([512, 64, 15])\n",
            "reconstructed.shape  torch.Size([512, 512, 60])\n",
            "Epoch 9/20\n",
            "loss: 0.11511172354221344\n",
            "\n"
          ]
        },
        {
          "output_type": "stream",
          "name": "stderr",
          "text": [
            "\r  4%|▍         | 1536/34935 [00:04<01:28, 377.18it/s]"
          ]
        },
        {
          "output_type": "stream",
          "name": "stdout",
          "text": [
            "x.shape  torch.Size([512, 512, 60])\n",
            "latent.shape  torch.Size([512, 64, 15])\n",
            "reconstructed.shape  torch.Size([512, 512, 60])\n",
            "Epoch 9/20\n",
            "loss: 0.11181893199682236\n",
            "\n"
          ]
        },
        {
          "output_type": "stream",
          "name": "stderr",
          "text": [
            "\r  6%|▌         | 2048/34935 [00:05<01:29, 366.85it/s]"
          ]
        },
        {
          "output_type": "stream",
          "name": "stdout",
          "text": [
            "x.shape  torch.Size([512, 512, 60])\n",
            "latent.shape  torch.Size([512, 64, 15])\n",
            "reconstructed.shape  torch.Size([512, 512, 60])\n",
            "Epoch 9/20\n",
            "loss: 0.114128977060318\n",
            "\n"
          ]
        },
        {
          "output_type": "stream",
          "name": "stderr",
          "text": [
            "\r  7%|▋         | 2560/34935 [00:06<01:26, 372.99it/s]"
          ]
        },
        {
          "output_type": "stream",
          "name": "stdout",
          "text": [
            "x.shape  torch.Size([512, 512, 60])\n",
            "latent.shape  torch.Size([512, 64, 15])\n",
            "reconstructed.shape  torch.Size([512, 512, 60])\n",
            "Epoch 9/20\n",
            "loss: 0.11440218240022659\n",
            "\n"
          ]
        },
        {
          "output_type": "stream",
          "name": "stderr",
          "text": [
            "\r  9%|▉         | 3072/34935 [00:08<01:25, 374.60it/s]"
          ]
        },
        {
          "output_type": "stream",
          "name": "stdout",
          "text": [
            "x.shape  torch.Size([512, 512, 60])\n",
            "latent.shape  torch.Size([512, 64, 15])\n",
            "reconstructed.shape  torch.Size([512, 512, 60])\n",
            "Epoch 9/20\n",
            "loss: 0.1146862655878067\n",
            "\n"
          ]
        },
        {
          "output_type": "stream",
          "name": "stderr",
          "text": [
            "\r 10%|█         | 3584/34935 [00:09<01:22, 381.26it/s]"
          ]
        },
        {
          "output_type": "stream",
          "name": "stdout",
          "text": [
            "x.shape  torch.Size([512, 512, 60])\n",
            "latent.shape  torch.Size([512, 64, 15])\n",
            "reconstructed.shape  torch.Size([512, 512, 60])\n",
            "Epoch 9/20\n",
            "loss: 0.11261355131864548\n",
            "\n"
          ]
        },
        {
          "output_type": "stream",
          "name": "stderr",
          "text": [
            "\r 12%|█▏        | 4096/34935 [00:10<01:21, 379.08it/s]"
          ]
        },
        {
          "output_type": "stream",
          "name": "stdout",
          "text": [
            "x.shape  torch.Size([512, 512, 60])\n",
            "latent.shape  torch.Size([512, 64, 15])\n",
            "reconstructed.shape  torch.Size([512, 512, 60])\n",
            "Epoch 9/20\n",
            "loss: 0.11326602846384048\n",
            "\n"
          ]
        },
        {
          "output_type": "stream",
          "name": "stderr",
          "text": [
            "\r 13%|█▎        | 4608/34935 [00:12<01:20, 376.86it/s]"
          ]
        },
        {
          "output_type": "stream",
          "name": "stdout",
          "text": [
            "x.shape  torch.Size([512, 512, 60])\n",
            "latent.shape  torch.Size([512, 64, 15])\n",
            "reconstructed.shape  torch.Size([512, 512, 60])\n",
            "Epoch 9/20\n",
            "loss: 0.11255382746458054\n",
            "\n"
          ]
        },
        {
          "output_type": "stream",
          "name": "stderr",
          "text": [
            "\r 15%|█▍        | 5120/34935 [00:13<01:19, 374.58it/s]"
          ]
        },
        {
          "output_type": "stream",
          "name": "stdout",
          "text": [
            "x.shape  torch.Size([512, 512, 60])\n",
            "latent.shape  torch.Size([512, 64, 15])\n",
            "reconstructed.shape  torch.Size([512, 512, 60])\n",
            "Epoch 9/20\n",
            "loss: 0.11455857008695602\n",
            "\n"
          ]
        },
        {
          "output_type": "stream",
          "name": "stderr",
          "text": [
            "\r 16%|█▌        | 5632/34935 [00:14<01:16, 382.01it/s]"
          ]
        },
        {
          "output_type": "stream",
          "name": "stdout",
          "text": [
            "x.shape  torch.Size([512, 512, 60])\n",
            "latent.shape  torch.Size([512, 64, 15])\n",
            "reconstructed.shape  torch.Size([512, 512, 60])\n",
            "Epoch 9/20\n",
            "loss: 0.1138959750533104\n",
            "\n"
          ]
        },
        {
          "output_type": "stream",
          "name": "stderr",
          "text": [
            "\r 18%|█▊        | 6144/34935 [00:16<01:16, 377.99it/s]"
          ]
        },
        {
          "output_type": "stream",
          "name": "stdout",
          "text": [
            "x.shape  torch.Size([512, 512, 60])\n",
            "latent.shape  torch.Size([512, 64, 15])\n",
            "reconstructed.shape  torch.Size([512, 512, 60])\n",
            "Epoch 9/20\n",
            "loss: 0.1121363565325737\n",
            "\n"
          ]
        },
        {
          "output_type": "stream",
          "name": "stderr",
          "text": [
            "\r 19%|█▉        | 6656/34935 [00:17<01:15, 373.19it/s]"
          ]
        },
        {
          "output_type": "stream",
          "name": "stdout",
          "text": [
            "x.shape  torch.Size([512, 512, 60])\n",
            "latent.shape  torch.Size([512, 64, 15])\n",
            "reconstructed.shape  torch.Size([512, 512, 60])\n",
            "Epoch 9/20\n",
            "loss: 0.11030576378107071\n",
            "\n"
          ]
        },
        {
          "output_type": "stream",
          "name": "stderr",
          "text": [
            "\r 21%|██        | 7168/34935 [00:19<01:14, 374.72it/s]"
          ]
        },
        {
          "output_type": "stream",
          "name": "stdout",
          "text": [
            "x.shape  torch.Size([512, 512, 60])\n",
            "latent.shape  torch.Size([512, 64, 15])\n",
            "reconstructed.shape  torch.Size([512, 512, 60])\n",
            "Epoch 9/20\n",
            "loss: 0.11198928952217102\n",
            "\n"
          ]
        },
        {
          "output_type": "stream",
          "name": "stderr",
          "text": [
            "\r 22%|██▏       | 7680/34935 [00:20<01:12, 374.83it/s]"
          ]
        },
        {
          "output_type": "stream",
          "name": "stdout",
          "text": [
            "x.shape  torch.Size([512, 512, 60])\n",
            "latent.shape  torch.Size([512, 64, 15])\n",
            "reconstructed.shape  torch.Size([512, 512, 60])\n",
            "Epoch 9/20\n",
            "loss: 0.11337292939424515\n",
            "\n"
          ]
        },
        {
          "output_type": "stream",
          "name": "stderr",
          "text": [
            "\r 23%|██▎       | 8192/34935 [00:21<01:11, 373.32it/s]"
          ]
        },
        {
          "output_type": "stream",
          "name": "stdout",
          "text": [
            "x.shape  torch.Size([512, 512, 60])\n",
            "latent.shape  torch.Size([512, 64, 15])\n",
            "reconstructed.shape  torch.Size([512, 512, 60])\n",
            "Epoch 9/20\n",
            "loss: 0.11124157905578613\n",
            "\n"
          ]
        },
        {
          "output_type": "stream",
          "name": "stderr",
          "text": [
            "\r 25%|██▍       | 8704/34935 [00:23<01:10, 374.52it/s]"
          ]
        },
        {
          "output_type": "stream",
          "name": "stdout",
          "text": [
            "x.shape  torch.Size([512, 512, 60])\n",
            "latent.shape  torch.Size([512, 64, 15])\n",
            "reconstructed.shape  torch.Size([512, 512, 60])\n",
            "Epoch 9/20\n",
            "loss: 0.11146125942468643\n",
            "\n"
          ]
        },
        {
          "output_type": "stream",
          "name": "stderr",
          "text": [
            "\r 26%|██▋       | 9216/34935 [00:24<01:09, 371.33it/s]"
          ]
        },
        {
          "output_type": "stream",
          "name": "stdout",
          "text": [
            "x.shape  torch.Size([512, 512, 60])\n",
            "latent.shape  torch.Size([512, 64, 15])\n",
            "reconstructed.shape  torch.Size([512, 512, 60])\n",
            "Epoch 9/20\n",
            "loss: 0.11279003322124481\n",
            "\n"
          ]
        },
        {
          "output_type": "stream",
          "name": "stderr",
          "text": [
            "\r 28%|██▊       | 9728/34935 [00:25<01:07, 373.95it/s]"
          ]
        },
        {
          "output_type": "stream",
          "name": "stdout",
          "text": [
            "x.shape  torch.Size([512, 512, 60])\n",
            "latent.shape  torch.Size([512, 64, 15])\n",
            "reconstructed.shape  torch.Size([512, 512, 60])\n",
            "Epoch 9/20\n",
            "loss: 0.11182600259780884\n",
            "\n"
          ]
        },
        {
          "output_type": "stream",
          "name": "stderr",
          "text": [
            "\r 29%|██▉       | 10240/34935 [00:27<01:06, 373.55it/s]"
          ]
        },
        {
          "output_type": "stream",
          "name": "stdout",
          "text": [
            "x.shape  torch.Size([512, 512, 60])\n",
            "latent.shape  torch.Size([512, 64, 15])\n",
            "reconstructed.shape  torch.Size([512, 512, 60])\n",
            "Epoch 9/20\n",
            "loss: 0.11378854513168335\n",
            "\n"
          ]
        },
        {
          "output_type": "stream",
          "name": "stderr",
          "text": [
            "\r 31%|███       | 10752/34935 [00:28<01:05, 370.94it/s]"
          ]
        },
        {
          "output_type": "stream",
          "name": "stdout",
          "text": [
            "x.shape  torch.Size([512, 512, 60])\n",
            "latent.shape  torch.Size([512, 64, 15])\n",
            "reconstructed.shape  torch.Size([512, 512, 60])\n",
            "Epoch 9/20\n",
            "loss: 0.11159425973892212\n",
            "\n"
          ]
        },
        {
          "output_type": "stream",
          "name": "stderr",
          "text": [
            "\r 32%|███▏      | 11264/34935 [00:30<01:03, 371.68it/s]"
          ]
        },
        {
          "output_type": "stream",
          "name": "stdout",
          "text": [
            "x.shape  torch.Size([512, 512, 60])\n",
            "latent.shape  torch.Size([512, 64, 15])\n",
            "reconstructed.shape  torch.Size([512, 512, 60])\n",
            "Epoch 9/20\n",
            "loss: 0.11134642362594604\n",
            "\n"
          ]
        },
        {
          "output_type": "stream",
          "name": "stderr",
          "text": [
            "\r 34%|███▎      | 11776/34935 [00:31<01:02, 373.18it/s]"
          ]
        },
        {
          "output_type": "stream",
          "name": "stdout",
          "text": [
            "x.shape  torch.Size([512, 512, 60])\n",
            "latent.shape  torch.Size([512, 64, 15])\n",
            "reconstructed.shape  torch.Size([512, 512, 60])\n",
            "Epoch 9/20\n",
            "loss: 0.11098726838827133\n",
            "\n"
          ]
        },
        {
          "output_type": "stream",
          "name": "stderr",
          "text": [
            "\r 35%|███▌      | 12288/34935 [00:32<01:01, 367.83it/s]"
          ]
        },
        {
          "output_type": "stream",
          "name": "stdout",
          "text": [
            "x.shape  torch.Size([512, 512, 60])\n",
            "latent.shape  torch.Size([512, 64, 15])\n",
            "reconstructed.shape  torch.Size([512, 512, 60])\n",
            "Epoch 9/20\n",
            "loss: 0.11016097664833069\n",
            "\n"
          ]
        },
        {
          "output_type": "stream",
          "name": "stderr",
          "text": [
            "\r 37%|███▋      | 12800/34935 [00:34<01:00, 364.41it/s]"
          ]
        },
        {
          "output_type": "stream",
          "name": "stdout",
          "text": [
            "x.shape  torch.Size([512, 512, 60])\n",
            "latent.shape  torch.Size([512, 64, 15])\n",
            "reconstructed.shape  torch.Size([512, 512, 60])\n",
            "Epoch 9/20\n",
            "loss: 0.11131690442562103\n",
            "\n"
          ]
        },
        {
          "output_type": "stream",
          "name": "stderr",
          "text": [
            "\r 38%|███▊      | 13312/34935 [00:35<00:59, 365.66it/s]"
          ]
        },
        {
          "output_type": "stream",
          "name": "stdout",
          "text": [
            "x.shape  torch.Size([512, 512, 60])\n",
            "latent.shape  torch.Size([512, 64, 15])\n",
            "reconstructed.shape  torch.Size([512, 512, 60])\n",
            "Epoch 9/20\n",
            "loss: 0.11168017238378525\n",
            "\n"
          ]
        },
        {
          "output_type": "stream",
          "name": "stderr",
          "text": [
            "\r 40%|███▉      | 13824/34935 [00:37<00:58, 363.18it/s]"
          ]
        },
        {
          "output_type": "stream",
          "name": "stdout",
          "text": [
            "x.shape  torch.Size([512, 512, 60])\n",
            "latent.shape  torch.Size([512, 64, 15])\n",
            "reconstructed.shape  torch.Size([512, 512, 60])\n",
            "Epoch 9/20\n",
            "loss: 0.11075954884290695\n",
            "\n"
          ]
        },
        {
          "output_type": "stream",
          "name": "stderr",
          "text": [
            "\r 41%|████      | 14336/34935 [00:38<00:56, 366.99it/s]"
          ]
        },
        {
          "output_type": "stream",
          "name": "stdout",
          "text": [
            "x.shape  torch.Size([512, 512, 60])\n",
            "latent.shape  torch.Size([512, 64, 15])\n",
            "reconstructed.shape  torch.Size([512, 512, 60])\n",
            "Epoch 9/20\n",
            "loss: 0.11068564653396606\n",
            "\n"
          ]
        },
        {
          "output_type": "stream",
          "name": "stderr",
          "text": [
            "\r 43%|████▎     | 14848/34935 [00:39<00:54, 367.59it/s]"
          ]
        },
        {
          "output_type": "stream",
          "name": "stdout",
          "text": [
            "x.shape  torch.Size([512, 512, 60])\n",
            "latent.shape  torch.Size([512, 64, 15])\n",
            "reconstructed.shape  torch.Size([512, 512, 60])\n",
            "Epoch 9/20\n",
            "loss: 0.11185682564973831\n",
            "\n"
          ]
        },
        {
          "output_type": "stream",
          "name": "stderr",
          "text": [
            "\r 44%|████▍     | 15360/34935 [00:41<00:51, 378.06it/s]"
          ]
        },
        {
          "output_type": "stream",
          "name": "stdout",
          "text": [
            "x.shape  torch.Size([512, 512, 60])\n",
            "latent.shape  torch.Size([512, 64, 15])\n",
            "reconstructed.shape  torch.Size([512, 512, 60])\n",
            "Epoch 9/20\n",
            "loss: 0.11032158136367798\n",
            "\n"
          ]
        },
        {
          "output_type": "stream",
          "name": "stderr",
          "text": [
            "\r 45%|████▌     | 15872/34935 [00:42<00:46, 407.86it/s]"
          ]
        },
        {
          "output_type": "stream",
          "name": "stdout",
          "text": [
            "x.shape  torch.Size([512, 512, 60])\n",
            "latent.shape  torch.Size([512, 64, 15])\n",
            "reconstructed.shape  torch.Size([512, 512, 60])\n",
            "Epoch 9/20\n",
            "loss: 0.11116400361061096\n",
            "\n"
          ]
        },
        {
          "output_type": "stream",
          "name": "stderr",
          "text": [
            "\r 47%|████▋     | 16384/34935 [00:43<00:46, 394.78it/s]"
          ]
        },
        {
          "output_type": "stream",
          "name": "stdout",
          "text": [
            "x.shape  torch.Size([512, 512, 60])\n",
            "latent.shape  torch.Size([512, 64, 15])\n",
            "reconstructed.shape  torch.Size([512, 512, 60])\n",
            "Epoch 9/20\n",
            "loss: 0.1091560646891594\n",
            "\n"
          ]
        },
        {
          "output_type": "stream",
          "name": "stderr",
          "text": [
            "\r 48%|████▊     | 16896/34935 [00:44<00:46, 384.62it/s]"
          ]
        },
        {
          "output_type": "stream",
          "name": "stdout",
          "text": [
            "x.shape  torch.Size([512, 512, 60])\n",
            "latent.shape  torch.Size([512, 64, 15])\n",
            "reconstructed.shape  torch.Size([512, 512, 60])\n",
            "Epoch 9/20\n",
            "loss: 0.11043992638587952\n",
            "\n"
          ]
        },
        {
          "output_type": "stream",
          "name": "stderr",
          "text": [
            "\r 50%|████▉     | 17408/34935 [00:46<00:45, 384.55it/s]"
          ]
        },
        {
          "output_type": "stream",
          "name": "stdout",
          "text": [
            "x.shape  torch.Size([512, 512, 60])\n",
            "latent.shape  torch.Size([512, 64, 15])\n",
            "reconstructed.shape  torch.Size([512, 512, 60])\n",
            "Epoch 9/20\n",
            "loss: 0.11029756814241409\n",
            "\n"
          ]
        },
        {
          "output_type": "stream",
          "name": "stderr",
          "text": [
            "\r 51%|█████▏    | 17920/34935 [00:47<00:44, 380.17it/s]"
          ]
        },
        {
          "output_type": "stream",
          "name": "stdout",
          "text": [
            "x.shape  torch.Size([512, 512, 60])\n",
            "latent.shape  torch.Size([512, 64, 15])\n",
            "reconstructed.shape  torch.Size([512, 512, 60])\n",
            "Epoch 9/20\n",
            "loss: 0.11131905764341354\n",
            "\n"
          ]
        },
        {
          "output_type": "stream",
          "name": "stderr",
          "text": [
            "\r 53%|█████▎    | 18432/34935 [00:48<00:42, 386.12it/s]"
          ]
        },
        {
          "output_type": "stream",
          "name": "stdout",
          "text": [
            "x.shape  torch.Size([512, 512, 60])\n",
            "latent.shape  torch.Size([512, 64, 15])\n",
            "reconstructed.shape  torch.Size([512, 512, 60])\n",
            "Epoch 9/20\n",
            "loss: 0.11245524138212204\n",
            "\n"
          ]
        },
        {
          "output_type": "stream",
          "name": "stderr",
          "text": [
            "\r 54%|█████▍    | 18944/34935 [00:50<00:41, 387.85it/s]"
          ]
        },
        {
          "output_type": "stream",
          "name": "stdout",
          "text": [
            "x.shape  torch.Size([512, 512, 60])\n",
            "latent.shape  torch.Size([512, 64, 15])\n",
            "reconstructed.shape  torch.Size([512, 512, 60])\n",
            "Epoch 9/20\n",
            "loss: 0.10849388688802719\n",
            "\n"
          ]
        },
        {
          "output_type": "stream",
          "name": "stderr",
          "text": [
            "\r 56%|█████▌    | 19456/34935 [00:51<00:39, 389.04it/s]"
          ]
        },
        {
          "output_type": "stream",
          "name": "stdout",
          "text": [
            "x.shape  torch.Size([512, 512, 60])\n",
            "latent.shape  torch.Size([512, 64, 15])\n",
            "reconstructed.shape  torch.Size([512, 512, 60])\n",
            "Epoch 9/20\n",
            "loss: 0.11188578605651855\n",
            "\n"
          ]
        },
        {
          "output_type": "stream",
          "name": "stderr",
          "text": [
            "\r 57%|█████▋    | 19968/34935 [00:52<00:38, 384.69it/s]"
          ]
        },
        {
          "output_type": "stream",
          "name": "stdout",
          "text": [
            "x.shape  torch.Size([512, 512, 60])\n",
            "latent.shape  torch.Size([512, 64, 15])\n",
            "reconstructed.shape  torch.Size([512, 512, 60])\n",
            "Epoch 9/20\n",
            "loss: 0.11110877990722656\n",
            "\n"
          ]
        },
        {
          "output_type": "stream",
          "name": "stderr",
          "text": [
            "\r 59%|█████▊    | 20480/34935 [00:54<00:38, 378.91it/s]"
          ]
        },
        {
          "output_type": "stream",
          "name": "stdout",
          "text": [
            "x.shape  torch.Size([512, 512, 60])\n",
            "latent.shape  torch.Size([512, 64, 15])\n",
            "reconstructed.shape  torch.Size([512, 512, 60])\n",
            "Epoch 9/20\n",
            "loss: 0.1111736074090004\n",
            "\n"
          ]
        },
        {
          "output_type": "stream",
          "name": "stderr",
          "text": [
            "\r 60%|██████    | 20992/34935 [00:55<00:36, 380.74it/s]"
          ]
        },
        {
          "output_type": "stream",
          "name": "stdout",
          "text": [
            "x.shape  torch.Size([512, 512, 60])\n",
            "latent.shape  torch.Size([512, 64, 15])\n",
            "reconstructed.shape  torch.Size([512, 512, 60])\n",
            "Epoch 9/20\n",
            "loss: 0.10943016409873962\n",
            "\n"
          ]
        },
        {
          "output_type": "stream",
          "name": "stderr",
          "text": [
            "\r 62%|██████▏   | 21504/34935 [00:57<00:35, 379.76it/s]"
          ]
        },
        {
          "output_type": "stream",
          "name": "stdout",
          "text": [
            "x.shape  torch.Size([512, 512, 60])\n",
            "latent.shape  torch.Size([512, 64, 15])\n",
            "reconstructed.shape  torch.Size([512, 512, 60])\n",
            "Epoch 9/20\n",
            "loss: 0.11136514693498611\n",
            "\n"
          ]
        },
        {
          "output_type": "stream",
          "name": "stderr",
          "text": [
            "\r 63%|██████▎   | 22016/34935 [00:58<00:34, 379.10it/s]"
          ]
        },
        {
          "output_type": "stream",
          "name": "stdout",
          "text": [
            "x.shape  torch.Size([512, 512, 60])\n",
            "latent.shape  torch.Size([512, 64, 15])\n",
            "reconstructed.shape  torch.Size([512, 512, 60])\n",
            "Epoch 9/20\n",
            "loss: 0.10915116965770721\n",
            "\n"
          ]
        },
        {
          "output_type": "stream",
          "name": "stderr",
          "text": [
            "\r 64%|██████▍   | 22528/34935 [00:59<00:32, 377.64it/s]"
          ]
        },
        {
          "output_type": "stream",
          "name": "stdout",
          "text": [
            "x.shape  torch.Size([512, 512, 60])\n",
            "latent.shape  torch.Size([512, 64, 15])\n",
            "reconstructed.shape  torch.Size([512, 512, 60])\n",
            "Epoch 9/20\n",
            "loss: 0.10936611145734787\n",
            "\n"
          ]
        },
        {
          "output_type": "stream",
          "name": "stderr",
          "text": [
            "\r 66%|██████▌   | 23040/34935 [01:01<00:31, 380.03it/s]"
          ]
        },
        {
          "output_type": "stream",
          "name": "stdout",
          "text": [
            "x.shape  torch.Size([512, 512, 60])\n",
            "latent.shape  torch.Size([512, 64, 15])\n",
            "reconstructed.shape  torch.Size([512, 512, 60])\n",
            "Epoch 9/20\n",
            "loss: 0.11009564995765686\n",
            "\n"
          ]
        },
        {
          "output_type": "stream",
          "name": "stderr",
          "text": [
            "\r 67%|██████▋   | 23552/34935 [01:02<00:29, 379.51it/s]"
          ]
        },
        {
          "output_type": "stream",
          "name": "stdout",
          "text": [
            "x.shape  torch.Size([512, 512, 60])\n",
            "latent.shape  torch.Size([512, 64, 15])\n",
            "reconstructed.shape  torch.Size([512, 512, 60])\n",
            "Epoch 9/20\n",
            "loss: 0.11096189171075821\n",
            "\n"
          ]
        },
        {
          "output_type": "stream",
          "name": "stderr",
          "text": [
            "\r 69%|██████▉   | 24064/34935 [01:03<00:28, 377.43it/s]"
          ]
        },
        {
          "output_type": "stream",
          "name": "stdout",
          "text": [
            "x.shape  torch.Size([512, 512, 60])\n",
            "latent.shape  torch.Size([512, 64, 15])\n",
            "reconstructed.shape  torch.Size([512, 512, 60])\n",
            "Epoch 9/20\n",
            "loss: 0.1106133982539177\n",
            "\n"
          ]
        },
        {
          "output_type": "stream",
          "name": "stderr",
          "text": [
            "\r 70%|███████   | 24576/34935 [01:05<00:27, 375.49it/s]"
          ]
        },
        {
          "output_type": "stream",
          "name": "stdout",
          "text": [
            "x.shape  torch.Size([512, 512, 60])\n",
            "latent.shape  torch.Size([512, 64, 15])\n",
            "reconstructed.shape  torch.Size([512, 512, 60])\n",
            "Epoch 9/20\n",
            "loss: 0.11016812175512314\n",
            "\n"
          ]
        },
        {
          "output_type": "stream",
          "name": "stderr",
          "text": [
            "\r 72%|███████▏  | 25088/34935 [01:06<00:26, 378.32it/s]"
          ]
        },
        {
          "output_type": "stream",
          "name": "stdout",
          "text": [
            "x.shape  torch.Size([512, 512, 60])\n",
            "latent.shape  torch.Size([512, 64, 15])\n",
            "reconstructed.shape  torch.Size([512, 512, 60])\n",
            "Epoch 9/20\n",
            "loss: 0.10934530943632126\n",
            "\n"
          ]
        },
        {
          "output_type": "stream",
          "name": "stderr",
          "text": [
            "\r 73%|███████▎  | 25600/34935 [01:07<00:24, 377.34it/s]"
          ]
        },
        {
          "output_type": "stream",
          "name": "stdout",
          "text": [
            "x.shape  torch.Size([512, 512, 60])\n",
            "latent.shape  torch.Size([512, 64, 15])\n",
            "reconstructed.shape  torch.Size([512, 512, 60])\n",
            "Epoch 9/20\n",
            "loss: 0.11024223268032074\n",
            "\n"
          ]
        },
        {
          "output_type": "stream",
          "name": "stderr",
          "text": [
            "\r 75%|███████▍  | 26112/34935 [01:09<00:23, 379.69it/s]"
          ]
        },
        {
          "output_type": "stream",
          "name": "stdout",
          "text": [
            "x.shape  torch.Size([512, 512, 60])\n",
            "latent.shape  torch.Size([512, 64, 15])\n",
            "reconstructed.shape  torch.Size([512, 512, 60])\n",
            "Epoch 9/20\n",
            "loss: 0.11051617562770844\n",
            "\n"
          ]
        },
        {
          "output_type": "stream",
          "name": "stderr",
          "text": [
            "\r 76%|███████▌  | 26624/34935 [01:10<00:21, 379.40it/s]"
          ]
        },
        {
          "output_type": "stream",
          "name": "stdout",
          "text": [
            "x.shape  torch.Size([512, 512, 60])\n",
            "latent.shape  torch.Size([512, 64, 15])\n",
            "reconstructed.shape  torch.Size([512, 512, 60])\n",
            "Epoch 9/20\n",
            "loss: 0.11021250486373901\n",
            "\n"
          ]
        },
        {
          "output_type": "stream",
          "name": "stderr",
          "text": [
            "\r 78%|███████▊  | 27136/34935 [01:11<00:20, 380.53it/s]"
          ]
        },
        {
          "output_type": "stream",
          "name": "stdout",
          "text": [
            "x.shape  torch.Size([512, 512, 60])\n",
            "latent.shape  torch.Size([512, 64, 15])\n",
            "reconstructed.shape  torch.Size([512, 512, 60])\n",
            "Epoch 9/20\n",
            "loss: 0.11154121160507202\n",
            "\n"
          ]
        },
        {
          "output_type": "stream",
          "name": "stderr",
          "text": [
            "\r 79%|███████▉  | 27648/34935 [01:13<00:19, 380.16it/s]"
          ]
        },
        {
          "output_type": "stream",
          "name": "stdout",
          "text": [
            "x.shape  torch.Size([512, 512, 60])\n",
            "latent.shape  torch.Size([512, 64, 15])\n",
            "reconstructed.shape  torch.Size([512, 512, 60])\n",
            "Epoch 9/20\n",
            "loss: 0.1111442893743515\n",
            "\n"
          ]
        },
        {
          "output_type": "stream",
          "name": "stderr",
          "text": [
            "\r 81%|████████  | 28160/34935 [01:14<00:18, 369.12it/s]"
          ]
        },
        {
          "output_type": "stream",
          "name": "stdout",
          "text": [
            "x.shape  torch.Size([512, 512, 60])\n",
            "latent.shape  torch.Size([512, 64, 15])\n",
            "reconstructed.shape  torch.Size([512, 512, 60])\n",
            "Epoch 9/20\n",
            "loss: 0.1098199114203453\n",
            "\n"
          ]
        },
        {
          "output_type": "stream",
          "name": "stderr",
          "text": [
            "\r 82%|████████▏ | 28672/34935 [01:16<00:16, 375.78it/s]"
          ]
        },
        {
          "output_type": "stream",
          "name": "stdout",
          "text": [
            "x.shape  torch.Size([512, 512, 60])\n",
            "latent.shape  torch.Size([512, 64, 15])\n",
            "reconstructed.shape  torch.Size([512, 512, 60])\n",
            "Epoch 9/20\n",
            "loss: 0.1085706576704979\n",
            "\n"
          ]
        },
        {
          "output_type": "stream",
          "name": "stderr",
          "text": [
            "\r 84%|████████▎ | 29184/34935 [01:17<00:15, 373.28it/s]"
          ]
        },
        {
          "output_type": "stream",
          "name": "stdout",
          "text": [
            "x.shape  torch.Size([512, 512, 60])\n",
            "latent.shape  torch.Size([512, 64, 15])\n",
            "reconstructed.shape  torch.Size([512, 512, 60])\n",
            "Epoch 9/20\n",
            "loss: 0.10991742461919785\n",
            "\n"
          ]
        },
        {
          "output_type": "stream",
          "name": "stderr",
          "text": [
            "\r 85%|████████▌ | 29696/34935 [01:18<00:13, 375.33it/s]"
          ]
        },
        {
          "output_type": "stream",
          "name": "stdout",
          "text": [
            "x.shape  torch.Size([512, 512, 60])\n",
            "latent.shape  torch.Size([512, 64, 15])\n",
            "reconstructed.shape  torch.Size([512, 512, 60])\n",
            "Epoch 9/20\n",
            "loss: 0.1097833439707756\n",
            "\n"
          ]
        },
        {
          "output_type": "stream",
          "name": "stderr",
          "text": [
            "\r 86%|████████▋ | 30208/34935 [01:20<00:12, 375.87it/s]"
          ]
        },
        {
          "output_type": "stream",
          "name": "stdout",
          "text": [
            "x.shape  torch.Size([512, 512, 60])\n",
            "latent.shape  torch.Size([512, 64, 15])\n",
            "reconstructed.shape  torch.Size([512, 512, 60])\n",
            "Epoch 9/20\n",
            "loss: 0.10941889882087708\n",
            "\n"
          ]
        },
        {
          "output_type": "stream",
          "name": "stderr",
          "text": [
            "\r 88%|████████▊ | 30720/34935 [01:21<00:11, 370.90it/s]"
          ]
        },
        {
          "output_type": "stream",
          "name": "stdout",
          "text": [
            "x.shape  torch.Size([512, 512, 60])\n",
            "latent.shape  torch.Size([512, 64, 15])\n",
            "reconstructed.shape  torch.Size([512, 512, 60])\n",
            "Epoch 9/20\n",
            "loss: 0.10935521870851517\n",
            "\n"
          ]
        },
        {
          "output_type": "stream",
          "name": "stderr",
          "text": [
            "\r 89%|████████▉ | 31232/34935 [01:22<00:09, 371.92it/s]"
          ]
        },
        {
          "output_type": "stream",
          "name": "stdout",
          "text": [
            "x.shape  torch.Size([512, 512, 60])\n",
            "latent.shape  torch.Size([512, 64, 15])\n",
            "reconstructed.shape  torch.Size([512, 512, 60])\n",
            "Epoch 9/20\n",
            "loss: 0.10985391587018967\n",
            "\n"
          ]
        },
        {
          "output_type": "stream",
          "name": "stderr",
          "text": [
            "\r 91%|█████████ | 31744/34935 [01:24<00:08, 371.05it/s]"
          ]
        },
        {
          "output_type": "stream",
          "name": "stdout",
          "text": [
            "x.shape  torch.Size([512, 512, 60])\n",
            "latent.shape  torch.Size([512, 64, 15])\n",
            "reconstructed.shape  torch.Size([512, 512, 60])\n",
            "Epoch 9/20\n",
            "loss: 0.11103948205709457\n",
            "\n"
          ]
        },
        {
          "output_type": "stream",
          "name": "stderr",
          "text": [
            "\r 92%|█████████▏| 32256/34935 [01:25<00:07, 373.38it/s]"
          ]
        },
        {
          "output_type": "stream",
          "name": "stdout",
          "text": [
            "x.shape  torch.Size([512, 512, 60])\n",
            "latent.shape  torch.Size([512, 64, 15])\n",
            "reconstructed.shape  torch.Size([512, 512, 60])\n",
            "Epoch 9/20\n",
            "loss: 0.11022237688302994\n",
            "\n"
          ]
        },
        {
          "output_type": "stream",
          "name": "stderr",
          "text": [
            "\r 94%|█████████▍| 32768/34935 [01:26<00:05, 375.61it/s]"
          ]
        },
        {
          "output_type": "stream",
          "name": "stdout",
          "text": [
            "x.shape  torch.Size([512, 512, 60])\n",
            "latent.shape  torch.Size([512, 64, 15])\n",
            "reconstructed.shape  torch.Size([512, 512, 60])\n",
            "Epoch 9/20\n",
            "loss: 0.10844232887029648\n",
            "\n"
          ]
        },
        {
          "output_type": "stream",
          "name": "stderr",
          "text": [
            "\r 95%|█████████▌| 33280/34935 [01:28<00:04, 375.25it/s]"
          ]
        },
        {
          "output_type": "stream",
          "name": "stdout",
          "text": [
            "x.shape  torch.Size([512, 512, 60])\n",
            "latent.shape  torch.Size([512, 64, 15])\n",
            "reconstructed.shape  torch.Size([512, 512, 60])\n",
            "Epoch 9/20\n",
            "loss: 0.11102519929409027\n",
            "\n"
          ]
        },
        {
          "output_type": "stream",
          "name": "stderr",
          "text": [
            "\r 97%|█████████▋| 33792/34935 [01:29<00:03, 375.52it/s]"
          ]
        },
        {
          "output_type": "stream",
          "name": "stdout",
          "text": [
            "x.shape  torch.Size([512, 512, 60])\n",
            "latent.shape  torch.Size([512, 64, 15])\n",
            "reconstructed.shape  torch.Size([512, 512, 60])\n",
            "Epoch 9/20\n",
            "loss: 0.11174900084733963\n",
            "\n"
          ]
        },
        {
          "output_type": "stream",
          "name": "stderr",
          "text": [
            "\r 98%|█████████▊| 34304/34935 [01:31<00:01, 381.18it/s]"
          ]
        },
        {
          "output_type": "stream",
          "name": "stdout",
          "text": [
            "x.shape  torch.Size([512, 512, 60])\n",
            "latent.shape  torch.Size([512, 64, 15])\n",
            "reconstructed.shape  torch.Size([512, 512, 60])\n",
            "Epoch 9/20\n",
            "loss: 0.11177539825439453\n",
            "\n"
          ]
        },
        {
          "output_type": "stream",
          "name": "stderr",
          "text": [
            "100%|██████████| 34935/34935 [01:32<00:00, 378.29it/s]"
          ]
        },
        {
          "output_type": "stream",
          "name": "stdout",
          "text": [
            "x.shape  torch.Size([512, 512, 60])\n",
            "latent.shape  torch.Size([512, 64, 15])\n",
            "reconstructed.shape  torch.Size([512, 512, 60])\n",
            "Epoch 9/20\n",
            "loss: 0.1106601431965828\n",
            "\n"
          ]
        },
        {
          "output_type": "stream",
          "name": "stderr",
          "text": [
            "\n"
          ]
        },
        {
          "output_type": "stream",
          "name": "stdout",
          "text": [
            "x.shape  torch.Size([119, 512, 60])\n",
            "latent.shape  torch.Size([119, 64, 15])\n",
            "reconstructed.shape  torch.Size([119, 512, 60])\n",
            "Epoch 9/20\n",
            "loss: 0.10699618607759476\n",
            "\n"
          ]
        },
        {
          "output_type": "stream",
          "name": "stderr",
          "text": [
            "  1%|▏         | 512/34935 [00:01<01:33, 366.40it/s]"
          ]
        },
        {
          "output_type": "stream",
          "name": "stdout",
          "text": [
            "x.shape  torch.Size([512, 512, 60])\n",
            "latent.shape  torch.Size([512, 64, 15])\n",
            "reconstructed.shape  torch.Size([512, 512, 60])\n",
            "Epoch 10/20\n",
            "loss: 0.10953307896852493\n",
            "\n"
          ]
        },
        {
          "output_type": "stream",
          "name": "stderr",
          "text": [
            "\r  3%|▎         | 1024/34935 [00:02<01:33, 363.37it/s]"
          ]
        },
        {
          "output_type": "stream",
          "name": "stdout",
          "text": [
            "x.shape  torch.Size([512, 512, 60])\n",
            "latent.shape  torch.Size([512, 64, 15])\n",
            "reconstructed.shape  torch.Size([512, 512, 60])\n",
            "Epoch 10/20\n",
            "loss: 0.11103664338588715\n",
            "\n"
          ]
        },
        {
          "output_type": "stream",
          "name": "stderr",
          "text": [
            "\r  4%|▍         | 1536/34935 [00:04<01:31, 366.58it/s]"
          ]
        },
        {
          "output_type": "stream",
          "name": "stdout",
          "text": [
            "x.shape  torch.Size([512, 512, 60])\n",
            "latent.shape  torch.Size([512, 64, 15])\n",
            "reconstructed.shape  torch.Size([512, 512, 60])\n",
            "Epoch 10/20\n",
            "loss: 0.10827556252479553\n",
            "\n"
          ]
        },
        {
          "output_type": "stream",
          "name": "stderr",
          "text": [
            "\r  6%|▌         | 2048/34935 [00:05<01:30, 361.48it/s]"
          ]
        },
        {
          "output_type": "stream",
          "name": "stdout",
          "text": [
            "x.shape  torch.Size([512, 512, 60])\n",
            "latent.shape  torch.Size([512, 64, 15])\n",
            "reconstructed.shape  torch.Size([512, 512, 60])\n",
            "Epoch 10/20\n",
            "loss: 0.11023907363414764\n",
            "\n"
          ]
        },
        {
          "output_type": "stream",
          "name": "stderr",
          "text": [
            "\r  7%|▋         | 2560/34935 [00:07<01:29, 363.17it/s]"
          ]
        },
        {
          "output_type": "stream",
          "name": "stdout",
          "text": [
            "x.shape  torch.Size([512, 512, 60])\n",
            "latent.shape  torch.Size([512, 64, 15])\n",
            "reconstructed.shape  torch.Size([512, 512, 60])\n",
            "Epoch 10/20\n",
            "loss: 0.11044003814458847\n",
            "\n"
          ]
        },
        {
          "output_type": "stream",
          "name": "stderr",
          "text": [
            "\r  9%|▉         | 3072/34935 [00:08<01:27, 364.97it/s]"
          ]
        },
        {
          "output_type": "stream",
          "name": "stdout",
          "text": [
            "x.shape  torch.Size([512, 512, 60])\n",
            "latent.shape  torch.Size([512, 64, 15])\n",
            "reconstructed.shape  torch.Size([512, 512, 60])\n",
            "Epoch 10/20\n",
            "loss: 0.11090219020843506\n",
            "\n"
          ]
        },
        {
          "output_type": "stream",
          "name": "stderr",
          "text": [
            "\r 10%|█         | 3584/34935 [00:09<01:25, 368.12it/s]"
          ]
        },
        {
          "output_type": "stream",
          "name": "stdout",
          "text": [
            "x.shape  torch.Size([512, 512, 60])\n",
            "latent.shape  torch.Size([512, 64, 15])\n",
            "reconstructed.shape  torch.Size([512, 512, 60])\n",
            "Epoch 10/20\n",
            "loss: 0.10887378454208374\n",
            "\n"
          ]
        },
        {
          "output_type": "stream",
          "name": "stderr",
          "text": [
            "\r 12%|█▏        | 4096/34935 [00:11<01:23, 370.53it/s]"
          ]
        },
        {
          "output_type": "stream",
          "name": "stdout",
          "text": [
            "x.shape  torch.Size([512, 512, 60])\n",
            "latent.shape  torch.Size([512, 64, 15])\n",
            "reconstructed.shape  torch.Size([512, 512, 60])\n",
            "Epoch 10/20\n",
            "loss: 0.10993734747171402\n",
            "\n"
          ]
        },
        {
          "output_type": "stream",
          "name": "stderr",
          "text": [
            "\r 13%|█▎        | 4608/34935 [00:12<01:22, 367.09it/s]"
          ]
        },
        {
          "output_type": "stream",
          "name": "stdout",
          "text": [
            "x.shape  torch.Size([512, 512, 60])\n",
            "latent.shape  torch.Size([512, 64, 15])\n",
            "reconstructed.shape  torch.Size([512, 512, 60])\n",
            "Epoch 10/20\n",
            "loss: 0.10900397598743439\n",
            "\n"
          ]
        },
        {
          "output_type": "stream",
          "name": "stderr",
          "text": [
            "\r 15%|█▍        | 5120/34935 [00:14<01:21, 364.95it/s]"
          ]
        },
        {
          "output_type": "stream",
          "name": "stdout",
          "text": [
            "x.shape  torch.Size([512, 512, 60])\n",
            "latent.shape  torch.Size([512, 64, 15])\n",
            "reconstructed.shape  torch.Size([512, 512, 60])\n",
            "Epoch 10/20\n",
            "loss: 0.11069190502166748\n",
            "\n"
          ]
        },
        {
          "output_type": "stream",
          "name": "stderr",
          "text": [
            "\r 16%|█▌        | 5632/34935 [00:15<01:19, 368.03it/s]"
          ]
        },
        {
          "output_type": "stream",
          "name": "stdout",
          "text": [
            "x.shape  torch.Size([512, 512, 60])\n",
            "latent.shape  torch.Size([512, 64, 15])\n",
            "reconstructed.shape  torch.Size([512, 512, 60])\n",
            "Epoch 10/20\n",
            "loss: 0.11072923988103867\n",
            "\n"
          ]
        },
        {
          "output_type": "stream",
          "name": "stderr",
          "text": [
            "\r 18%|█▊        | 6144/34935 [00:16<01:16, 373.96it/s]"
          ]
        },
        {
          "output_type": "stream",
          "name": "stdout",
          "text": [
            "x.shape  torch.Size([512, 512, 60])\n",
            "latent.shape  torch.Size([512, 64, 15])\n",
            "reconstructed.shape  torch.Size([512, 512, 60])\n",
            "Epoch 10/20\n",
            "loss: 0.10888463258743286\n",
            "\n"
          ]
        },
        {
          "output_type": "stream",
          "name": "stderr",
          "text": [
            "\r 19%|█▉        | 6656/34935 [00:18<01:16, 369.45it/s]"
          ]
        },
        {
          "output_type": "stream",
          "name": "stdout",
          "text": [
            "x.shape  torch.Size([512, 512, 60])\n",
            "latent.shape  torch.Size([512, 64, 15])\n",
            "reconstructed.shape  torch.Size([512, 512, 60])\n",
            "Epoch 10/20\n",
            "loss: 0.10706225782632828\n",
            "\n"
          ]
        },
        {
          "output_type": "stream",
          "name": "stderr",
          "text": [
            "\r 21%|██        | 7168/34935 [00:19<01:14, 374.75it/s]"
          ]
        },
        {
          "output_type": "stream",
          "name": "stdout",
          "text": [
            "x.shape  torch.Size([512, 512, 60])\n",
            "latent.shape  torch.Size([512, 64, 15])\n",
            "reconstructed.shape  torch.Size([512, 512, 60])\n",
            "Epoch 10/20\n",
            "loss: 0.1091223955154419\n",
            "\n"
          ]
        },
        {
          "output_type": "stream",
          "name": "stderr",
          "text": [
            "\r 22%|██▏       | 7680/34935 [00:20<01:13, 372.87it/s]"
          ]
        },
        {
          "output_type": "stream",
          "name": "stdout",
          "text": [
            "x.shape  torch.Size([512, 512, 60])\n",
            "latent.shape  torch.Size([512, 64, 15])\n",
            "reconstructed.shape  torch.Size([512, 512, 60])\n",
            "Epoch 10/20\n",
            "loss: 0.11050261557102203\n",
            "\n"
          ]
        },
        {
          "output_type": "stream",
          "name": "stderr",
          "text": [
            "\r 23%|██▎       | 8192/34935 [00:22<01:12, 366.88it/s]"
          ]
        },
        {
          "output_type": "stream",
          "name": "stdout",
          "text": [
            "x.shape  torch.Size([512, 512, 60])\n",
            "latent.shape  torch.Size([512, 64, 15])\n",
            "reconstructed.shape  torch.Size([512, 512, 60])\n",
            "Epoch 10/20\n",
            "loss: 0.10837867856025696\n",
            "\n"
          ]
        },
        {
          "output_type": "stream",
          "name": "stderr",
          "text": [
            "\r 25%|██▍       | 8704/34935 [00:23<01:10, 370.96it/s]"
          ]
        },
        {
          "output_type": "stream",
          "name": "stdout",
          "text": [
            "x.shape  torch.Size([512, 512, 60])\n",
            "latent.shape  torch.Size([512, 64, 15])\n",
            "reconstructed.shape  torch.Size([512, 512, 60])\n",
            "Epoch 10/20\n",
            "loss: 0.10866636782884598\n",
            "\n"
          ]
        },
        {
          "output_type": "stream",
          "name": "stderr",
          "text": [
            "\r 26%|██▋       | 9216/34935 [00:24<01:08, 374.75it/s]"
          ]
        },
        {
          "output_type": "stream",
          "name": "stdout",
          "text": [
            "x.shape  torch.Size([512, 512, 60])\n",
            "latent.shape  torch.Size([512, 64, 15])\n",
            "reconstructed.shape  torch.Size([512, 512, 60])\n",
            "Epoch 10/20\n",
            "loss: 0.11013368517160416\n",
            "\n"
          ]
        },
        {
          "output_type": "stream",
          "name": "stderr",
          "text": [
            "\r 28%|██▊       | 9728/34935 [00:26<01:06, 380.62it/s]"
          ]
        },
        {
          "output_type": "stream",
          "name": "stdout",
          "text": [
            "x.shape  torch.Size([512, 512, 60])\n",
            "latent.shape  torch.Size([512, 64, 15])\n",
            "reconstructed.shape  torch.Size([512, 512, 60])\n",
            "Epoch 10/20\n",
            "loss: 0.10923096537590027\n",
            "\n"
          ]
        },
        {
          "output_type": "stream",
          "name": "stderr",
          "text": [
            "\r 29%|██▉       | 10240/34935 [00:27<01:05, 376.21it/s]"
          ]
        },
        {
          "output_type": "stream",
          "name": "stdout",
          "text": [
            "x.shape  torch.Size([512, 512, 60])\n",
            "latent.shape  torch.Size([512, 64, 15])\n",
            "reconstructed.shape  torch.Size([512, 512, 60])\n",
            "Epoch 10/20\n",
            "loss: 0.11106725037097931\n",
            "\n"
          ]
        },
        {
          "output_type": "stream",
          "name": "stderr",
          "text": [
            "\r 31%|███       | 10752/34935 [00:28<01:04, 377.22it/s]"
          ]
        },
        {
          "output_type": "stream",
          "name": "stdout",
          "text": [
            "x.shape  torch.Size([512, 512, 60])\n",
            "latent.shape  torch.Size([512, 64, 15])\n",
            "reconstructed.shape  torch.Size([512, 512, 60])\n",
            "Epoch 10/20\n",
            "loss: 0.1093054711818695\n",
            "\n"
          ]
        },
        {
          "output_type": "stream",
          "name": "stderr",
          "text": [
            "\r 32%|███▏      | 11264/34935 [00:30<01:01, 382.72it/s]"
          ]
        },
        {
          "output_type": "stream",
          "name": "stdout",
          "text": [
            "x.shape  torch.Size([512, 512, 60])\n",
            "latent.shape  torch.Size([512, 64, 15])\n",
            "reconstructed.shape  torch.Size([512, 512, 60])\n",
            "Epoch 10/20\n",
            "loss: 0.10898135602474213\n",
            "\n"
          ]
        },
        {
          "output_type": "stream",
          "name": "stderr",
          "text": [
            "\r 34%|███▎      | 11776/34935 [00:31<01:00, 380.26it/s]"
          ]
        },
        {
          "output_type": "stream",
          "name": "stdout",
          "text": [
            "x.shape  torch.Size([512, 512, 60])\n",
            "latent.shape  torch.Size([512, 64, 15])\n",
            "reconstructed.shape  torch.Size([512, 512, 60])\n",
            "Epoch 10/20\n",
            "loss: 0.10880904644727707\n",
            "\n"
          ]
        },
        {
          "output_type": "stream",
          "name": "stderr",
          "text": [
            "\r 35%|███▌      | 12288/34935 [00:32<00:59, 382.40it/s]"
          ]
        },
        {
          "output_type": "stream",
          "name": "stdout",
          "text": [
            "x.shape  torch.Size([512, 512, 60])\n",
            "latent.shape  torch.Size([512, 64, 15])\n",
            "reconstructed.shape  torch.Size([512, 512, 60])\n",
            "Epoch 10/20\n",
            "loss: 0.10803662240505219\n",
            "\n"
          ]
        },
        {
          "output_type": "stream",
          "name": "stderr",
          "text": [
            "\r 37%|███▋      | 12800/34935 [00:34<00:57, 384.97it/s]"
          ]
        },
        {
          "output_type": "stream",
          "name": "stdout",
          "text": [
            "x.shape  torch.Size([512, 512, 60])\n",
            "latent.shape  torch.Size([512, 64, 15])\n",
            "reconstructed.shape  torch.Size([512, 512, 60])\n",
            "Epoch 10/20\n",
            "loss: 0.10907890647649765\n",
            "\n"
          ]
        },
        {
          "output_type": "stream",
          "name": "stderr",
          "text": [
            "\r 38%|███▊      | 13312/34935 [00:35<00:56, 382.49it/s]"
          ]
        },
        {
          "output_type": "stream",
          "name": "stdout",
          "text": [
            "x.shape  torch.Size([512, 512, 60])\n",
            "latent.shape  torch.Size([512, 64, 15])\n",
            "reconstructed.shape  torch.Size([512, 512, 60])\n",
            "Epoch 10/20\n",
            "loss: 0.10961111634969711\n",
            "\n"
          ]
        },
        {
          "output_type": "stream",
          "name": "stderr",
          "text": [
            "\r 40%|███▉      | 13824/34935 [00:37<00:55, 379.64it/s]"
          ]
        },
        {
          "output_type": "stream",
          "name": "stdout",
          "text": [
            "x.shape  torch.Size([512, 512, 60])\n",
            "latent.shape  torch.Size([512, 64, 15])\n",
            "reconstructed.shape  torch.Size([512, 512, 60])\n",
            "Epoch 10/20\n",
            "loss: 0.10847250372171402\n",
            "\n"
          ]
        },
        {
          "output_type": "stream",
          "name": "stderr",
          "text": [
            "\r 41%|████      | 14336/34935 [00:38<00:54, 381.01it/s]"
          ]
        },
        {
          "output_type": "stream",
          "name": "stdout",
          "text": [
            "x.shape  torch.Size([512, 512, 60])\n",
            "latent.shape  torch.Size([512, 64, 15])\n",
            "reconstructed.shape  torch.Size([512, 512, 60])\n",
            "Epoch 10/20\n",
            "loss: 0.1084926649928093\n",
            "\n"
          ]
        },
        {
          "output_type": "stream",
          "name": "stderr",
          "text": [
            "\r 43%|████▎     | 14848/34935 [00:39<00:53, 378.02it/s]"
          ]
        },
        {
          "output_type": "stream",
          "name": "stdout",
          "text": [
            "x.shape  torch.Size([512, 512, 60])\n",
            "latent.shape  torch.Size([512, 64, 15])\n",
            "reconstructed.shape  torch.Size([512, 512, 60])\n",
            "Epoch 10/20\n",
            "loss: 0.10980355739593506\n",
            "\n"
          ]
        },
        {
          "output_type": "stream",
          "name": "stderr",
          "text": [
            "\r 44%|████▍     | 15360/34935 [00:40<00:50, 391.19it/s]"
          ]
        },
        {
          "output_type": "stream",
          "name": "stdout",
          "text": [
            "x.shape  torch.Size([512, 512, 60])\n",
            "latent.shape  torch.Size([512, 64, 15])\n",
            "reconstructed.shape  torch.Size([512, 512, 60])\n",
            "Epoch 10/20\n",
            "loss: 0.10825356096029282\n",
            "\n"
          ]
        },
        {
          "output_type": "stream",
          "name": "stderr",
          "text": [
            "\r 45%|████▌     | 15872/34935 [00:41<00:45, 419.23it/s]"
          ]
        },
        {
          "output_type": "stream",
          "name": "stdout",
          "text": [
            "x.shape  torch.Size([512, 512, 60])\n",
            "latent.shape  torch.Size([512, 64, 15])\n",
            "reconstructed.shape  torch.Size([512, 512, 60])\n",
            "Epoch 10/20\n",
            "loss: 0.1092560812830925\n",
            "\n"
          ]
        },
        {
          "output_type": "stream",
          "name": "stderr",
          "text": [
            "\r 47%|████▋     | 16384/34935 [00:43<00:46, 397.75it/s]"
          ]
        },
        {
          "output_type": "stream",
          "name": "stdout",
          "text": [
            "x.shape  torch.Size([512, 512, 60])\n",
            "latent.shape  torch.Size([512, 64, 15])\n",
            "reconstructed.shape  torch.Size([512, 512, 60])\n",
            "Epoch 10/20\n",
            "loss: 0.1074301153421402\n",
            "\n"
          ]
        },
        {
          "output_type": "stream",
          "name": "stderr",
          "text": [
            "\r 48%|████▊     | 16896/34935 [00:44<00:46, 389.50it/s]"
          ]
        },
        {
          "output_type": "stream",
          "name": "stdout",
          "text": [
            "x.shape  torch.Size([512, 512, 60])\n",
            "latent.shape  torch.Size([512, 64, 15])\n",
            "reconstructed.shape  torch.Size([512, 512, 60])\n",
            "Epoch 10/20\n",
            "loss: 0.10866362601518631\n",
            "\n"
          ]
        },
        {
          "output_type": "stream",
          "name": "stderr",
          "text": [
            "\r 50%|████▉     | 17408/34935 [00:46<00:45, 384.11it/s]"
          ]
        },
        {
          "output_type": "stream",
          "name": "stdout",
          "text": [
            "x.shape  torch.Size([512, 512, 60])\n",
            "latent.shape  torch.Size([512, 64, 15])\n",
            "reconstructed.shape  torch.Size([512, 512, 60])\n",
            "Epoch 10/20\n",
            "loss: 0.10852672159671783\n",
            "\n"
          ]
        },
        {
          "output_type": "stream",
          "name": "stderr",
          "text": [
            "\r 51%|█████▏    | 17920/34935 [00:47<00:44, 382.37it/s]"
          ]
        },
        {
          "output_type": "stream",
          "name": "stdout",
          "text": [
            "x.shape  torch.Size([512, 512, 60])\n",
            "latent.shape  torch.Size([512, 64, 15])\n",
            "reconstructed.shape  torch.Size([512, 512, 60])\n",
            "Epoch 10/20\n",
            "loss: 0.1094852164387703\n",
            "\n"
          ]
        },
        {
          "output_type": "stream",
          "name": "stderr",
          "text": [
            "\r 53%|█████▎    | 18432/34935 [00:48<00:43, 382.56it/s]"
          ]
        },
        {
          "output_type": "stream",
          "name": "stdout",
          "text": [
            "x.shape  torch.Size([512, 512, 60])\n",
            "latent.shape  torch.Size([512, 64, 15])\n",
            "reconstructed.shape  torch.Size([512, 512, 60])\n",
            "Epoch 10/20\n",
            "loss: 0.11082535982131958\n",
            "\n"
          ]
        },
        {
          "output_type": "stream",
          "name": "stderr",
          "text": [
            "\r 54%|█████▍    | 18944/34935 [00:50<00:41, 383.35it/s]"
          ]
        },
        {
          "output_type": "stream",
          "name": "stdout",
          "text": [
            "x.shape  torch.Size([512, 512, 60])\n",
            "latent.shape  torch.Size([512, 64, 15])\n",
            "reconstructed.shape  torch.Size([512, 512, 60])\n",
            "Epoch 10/20\n",
            "loss: 0.10688506811857224\n",
            "\n"
          ]
        },
        {
          "output_type": "stream",
          "name": "stderr",
          "text": [
            "\r 56%|█████▌    | 19456/34935 [00:51<00:39, 387.67it/s]"
          ]
        },
        {
          "output_type": "stream",
          "name": "stdout",
          "text": [
            "x.shape  torch.Size([512, 512, 60])\n",
            "latent.shape  torch.Size([512, 64, 15])\n",
            "reconstructed.shape  torch.Size([512, 512, 60])\n",
            "Epoch 10/20\n",
            "loss: 0.11018148064613342\n",
            "\n"
          ]
        },
        {
          "output_type": "stream",
          "name": "stderr",
          "text": [
            "\r 57%|█████▋    | 19968/34935 [00:52<00:38, 389.83it/s]"
          ]
        },
        {
          "output_type": "stream",
          "name": "stdout",
          "text": [
            "x.shape  torch.Size([512, 512, 60])\n",
            "latent.shape  torch.Size([512, 64, 15])\n",
            "reconstructed.shape  torch.Size([512, 512, 60])\n",
            "Epoch 10/20\n",
            "loss: 0.10946410149335861\n",
            "\n"
          ]
        },
        {
          "output_type": "stream",
          "name": "stderr",
          "text": [
            "\r 59%|█████▊    | 20480/34935 [00:54<00:37, 389.65it/s]"
          ]
        },
        {
          "output_type": "stream",
          "name": "stdout",
          "text": [
            "x.shape  torch.Size([512, 512, 60])\n",
            "latent.shape  torch.Size([512, 64, 15])\n",
            "reconstructed.shape  torch.Size([512, 512, 60])\n",
            "Epoch 10/20\n",
            "loss: 0.10953978449106216\n",
            "\n"
          ]
        },
        {
          "output_type": "stream",
          "name": "stderr",
          "text": [
            "\r 60%|██████    | 20992/34935 [00:55<00:35, 389.89it/s]"
          ]
        },
        {
          "output_type": "stream",
          "name": "stdout",
          "text": [
            "x.shape  torch.Size([512, 512, 60])\n",
            "latent.shape  torch.Size([512, 64, 15])\n",
            "reconstructed.shape  torch.Size([512, 512, 60])\n",
            "Epoch 10/20\n",
            "loss: 0.10775583237409592\n",
            "\n"
          ]
        },
        {
          "output_type": "stream",
          "name": "stderr",
          "text": [
            "\r 62%|██████▏   | 21504/34935 [00:56<00:34, 391.47it/s]"
          ]
        },
        {
          "output_type": "stream",
          "name": "stdout",
          "text": [
            "x.shape  torch.Size([512, 512, 60])\n",
            "latent.shape  torch.Size([512, 64, 15])\n",
            "reconstructed.shape  torch.Size([512, 512, 60])\n",
            "Epoch 10/20\n",
            "loss: 0.10980816185474396\n",
            "\n"
          ]
        },
        {
          "output_type": "stream",
          "name": "stderr",
          "text": [
            "\r 63%|██████▎   | 22016/34935 [00:57<00:33, 389.75it/s]"
          ]
        },
        {
          "output_type": "stream",
          "name": "stdout",
          "text": [
            "x.shape  torch.Size([512, 512, 60])\n",
            "latent.shape  torch.Size([512, 64, 15])\n",
            "reconstructed.shape  torch.Size([512, 512, 60])\n",
            "Epoch 10/20\n",
            "loss: 0.10784824937582016\n",
            "\n"
          ]
        },
        {
          "output_type": "stream",
          "name": "stderr",
          "text": [
            "\r 64%|██████▍   | 22528/34935 [00:59<00:31, 392.23it/s]"
          ]
        },
        {
          "output_type": "stream",
          "name": "stdout",
          "text": [
            "x.shape  torch.Size([512, 512, 60])\n",
            "latent.shape  torch.Size([512, 64, 15])\n",
            "reconstructed.shape  torch.Size([512, 512, 60])\n",
            "Epoch 10/20\n",
            "loss: 0.10790211707353592\n",
            "\n"
          ]
        },
        {
          "output_type": "stream",
          "name": "stderr",
          "text": [
            "\r 66%|██████▌   | 23040/34935 [01:00<00:30, 387.71it/s]"
          ]
        },
        {
          "output_type": "stream",
          "name": "stdout",
          "text": [
            "x.shape  torch.Size([512, 512, 60])\n",
            "latent.shape  torch.Size([512, 64, 15])\n",
            "reconstructed.shape  torch.Size([512, 512, 60])\n",
            "Epoch 10/20\n",
            "loss: 0.10859596729278564\n",
            "\n"
          ]
        },
        {
          "output_type": "stream",
          "name": "stderr",
          "text": [
            "\r 67%|██████▋   | 23552/34935 [01:01<00:29, 386.08it/s]"
          ]
        },
        {
          "output_type": "stream",
          "name": "stdout",
          "text": [
            "x.shape  torch.Size([512, 512, 60])\n",
            "latent.shape  torch.Size([512, 64, 15])\n",
            "reconstructed.shape  torch.Size([512, 512, 60])\n",
            "Epoch 10/20\n",
            "loss: 0.10960028320550919\n",
            "\n"
          ]
        },
        {
          "output_type": "stream",
          "name": "stderr",
          "text": [
            "\r 69%|██████▉   | 24064/34935 [01:03<00:28, 381.24it/s]"
          ]
        },
        {
          "output_type": "stream",
          "name": "stdout",
          "text": [
            "x.shape  torch.Size([512, 512, 60])\n",
            "latent.shape  torch.Size([512, 64, 15])\n",
            "reconstructed.shape  torch.Size([512, 512, 60])\n",
            "Epoch 10/20\n",
            "loss: 0.10904880613088608\n",
            "\n"
          ]
        },
        {
          "output_type": "stream",
          "name": "stderr",
          "text": [
            "\r 70%|███████   | 24576/34935 [01:04<00:26, 386.34it/s]"
          ]
        },
        {
          "output_type": "stream",
          "name": "stdout",
          "text": [
            "x.shape  torch.Size([512, 512, 60])\n",
            "latent.shape  torch.Size([512, 64, 15])\n",
            "reconstructed.shape  torch.Size([512, 512, 60])\n",
            "Epoch 10/20\n",
            "loss: 0.10874564200639725\n",
            "\n"
          ]
        },
        {
          "output_type": "stream",
          "name": "stderr",
          "text": [
            "\r 72%|███████▏  | 25088/34935 [01:05<00:25, 388.44it/s]"
          ]
        },
        {
          "output_type": "stream",
          "name": "stdout",
          "text": [
            "x.shape  torch.Size([512, 512, 60])\n",
            "latent.shape  torch.Size([512, 64, 15])\n",
            "reconstructed.shape  torch.Size([512, 512, 60])\n",
            "Epoch 10/20\n",
            "loss: 0.1079939603805542\n",
            "\n"
          ]
        },
        {
          "output_type": "stream",
          "name": "stderr",
          "text": [
            "\r 73%|███████▎  | 25600/34935 [01:07<00:24, 386.93it/s]"
          ]
        },
        {
          "output_type": "stream",
          "name": "stdout",
          "text": [
            "x.shape  torch.Size([512, 512, 60])\n",
            "latent.shape  torch.Size([512, 64, 15])\n",
            "reconstructed.shape  torch.Size([512, 512, 60])\n",
            "Epoch 10/20\n",
            "loss: 0.10885674506425858\n",
            "\n"
          ]
        },
        {
          "output_type": "stream",
          "name": "stderr",
          "text": [
            "\r 75%|███████▍  | 26112/34935 [01:08<00:22, 386.41it/s]"
          ]
        },
        {
          "output_type": "stream",
          "name": "stdout",
          "text": [
            "x.shape  torch.Size([512, 512, 60])\n",
            "latent.shape  torch.Size([512, 64, 15])\n",
            "reconstructed.shape  torch.Size([512, 512, 60])\n",
            "Epoch 10/20\n",
            "loss: 0.10917378216981888\n",
            "\n"
          ]
        },
        {
          "output_type": "stream",
          "name": "stderr",
          "text": [
            "\r 76%|███████▌  | 26624/34935 [01:09<00:21, 382.73it/s]"
          ]
        },
        {
          "output_type": "stream",
          "name": "stdout",
          "text": [
            "x.shape  torch.Size([512, 512, 60])\n",
            "latent.shape  torch.Size([512, 64, 15])\n",
            "reconstructed.shape  torch.Size([512, 512, 60])\n",
            "Epoch 10/20\n",
            "loss: 0.10892010480165482\n",
            "\n"
          ]
        },
        {
          "output_type": "stream",
          "name": "stderr",
          "text": [
            "\r 78%|███████▊  | 27136/34935 [01:11<00:20, 383.43it/s]"
          ]
        },
        {
          "output_type": "stream",
          "name": "stdout",
          "text": [
            "x.shape  torch.Size([512, 512, 60])\n",
            "latent.shape  torch.Size([512, 64, 15])\n",
            "reconstructed.shape  torch.Size([512, 512, 60])\n",
            "Epoch 10/20\n",
            "loss: 0.11030807346105576\n",
            "\n"
          ]
        },
        {
          "output_type": "stream",
          "name": "stderr",
          "text": [
            "\r 79%|███████▉  | 27648/34935 [01:12<00:18, 385.86it/s]"
          ]
        },
        {
          "output_type": "stream",
          "name": "stdout",
          "text": [
            "x.shape  torch.Size([512, 512, 60])\n",
            "latent.shape  torch.Size([512, 64, 15])\n",
            "reconstructed.shape  torch.Size([512, 512, 60])\n",
            "Epoch 10/20\n",
            "loss: 0.10990490764379501\n",
            "\n"
          ]
        },
        {
          "output_type": "stream",
          "name": "stderr",
          "text": [
            "\r 81%|████████  | 28160/34935 [01:13<00:17, 386.19it/s]"
          ]
        },
        {
          "output_type": "stream",
          "name": "stdout",
          "text": [
            "x.shape  torch.Size([512, 512, 60])\n",
            "latent.shape  torch.Size([512, 64, 15])\n",
            "reconstructed.shape  torch.Size([512, 512, 60])\n",
            "Epoch 10/20\n",
            "loss: 0.10852137207984924\n",
            "\n"
          ]
        },
        {
          "output_type": "stream",
          "name": "stderr",
          "text": [
            "\r 82%|████████▏ | 28672/34935 [01:15<00:16, 384.10it/s]"
          ]
        },
        {
          "output_type": "stream",
          "name": "stdout",
          "text": [
            "x.shape  torch.Size([512, 512, 60])\n",
            "latent.shape  torch.Size([512, 64, 15])\n",
            "reconstructed.shape  torch.Size([512, 512, 60])\n",
            "Epoch 10/20\n",
            "loss: 0.1073254719376564\n",
            "\n"
          ]
        },
        {
          "output_type": "stream",
          "name": "stderr",
          "text": [
            "\r 84%|████████▎ | 29184/34935 [01:16<00:15, 377.13it/s]"
          ]
        },
        {
          "output_type": "stream",
          "name": "stdout",
          "text": [
            "x.shape  torch.Size([512, 512, 60])\n",
            "latent.shape  torch.Size([512, 64, 15])\n",
            "reconstructed.shape  torch.Size([512, 512, 60])\n",
            "Epoch 10/20\n",
            "loss: 0.10869452357292175\n",
            "\n"
          ]
        },
        {
          "output_type": "stream",
          "name": "stderr",
          "text": [
            "\r 85%|████████▌ | 29696/34935 [01:18<00:13, 375.15it/s]"
          ]
        },
        {
          "output_type": "stream",
          "name": "stdout",
          "text": [
            "x.shape  torch.Size([512, 512, 60])\n",
            "latent.shape  torch.Size([512, 64, 15])\n",
            "reconstructed.shape  torch.Size([512, 512, 60])\n",
            "Epoch 10/20\n",
            "loss: 0.10856570303440094\n",
            "\n"
          ]
        },
        {
          "output_type": "stream",
          "name": "stderr",
          "text": [
            "\r 86%|████████▋ | 30208/34935 [01:19<00:12, 374.84it/s]"
          ]
        },
        {
          "output_type": "stream",
          "name": "stdout",
          "text": [
            "x.shape  torch.Size([512, 512, 60])\n",
            "latent.shape  torch.Size([512, 64, 15])\n",
            "reconstructed.shape  torch.Size([512, 512, 60])\n",
            "Epoch 10/20\n",
            "loss: 0.1082509458065033\n",
            "\n"
          ]
        },
        {
          "output_type": "stream",
          "name": "stderr",
          "text": [
            "\r 88%|████████▊ | 30720/34935 [01:20<00:11, 376.59it/s]"
          ]
        },
        {
          "output_type": "stream",
          "name": "stdout",
          "text": [
            "x.shape  torch.Size([512, 512, 60])\n",
            "latent.shape  torch.Size([512, 64, 15])\n",
            "reconstructed.shape  torch.Size([512, 512, 60])\n",
            "Epoch 10/20\n",
            "loss: 0.10816890746355057\n",
            "\n"
          ]
        },
        {
          "output_type": "stream",
          "name": "stderr",
          "text": [
            "\r 89%|████████▉ | 31232/34935 [01:22<00:09, 375.13it/s]"
          ]
        },
        {
          "output_type": "stream",
          "name": "stdout",
          "text": [
            "x.shape  torch.Size([512, 512, 60])\n",
            "latent.shape  torch.Size([512, 64, 15])\n",
            "reconstructed.shape  torch.Size([512, 512, 60])\n",
            "Epoch 10/20\n",
            "loss: 0.1086808443069458\n",
            "\n"
          ]
        },
        {
          "output_type": "stream",
          "name": "stderr",
          "text": [
            "\r 91%|█████████ | 31744/34935 [01:23<00:08, 373.55it/s]"
          ]
        },
        {
          "output_type": "stream",
          "name": "stdout",
          "text": [
            "x.shape  torch.Size([512, 512, 60])\n",
            "latent.shape  torch.Size([512, 64, 15])\n",
            "reconstructed.shape  torch.Size([512, 512, 60])\n",
            "Epoch 10/20\n",
            "loss: 0.10983747243881226\n",
            "\n"
          ]
        },
        {
          "output_type": "stream",
          "name": "stderr",
          "text": [
            "\r 92%|█████████▏| 32256/34935 [01:24<00:07, 373.05it/s]"
          ]
        },
        {
          "output_type": "stream",
          "name": "stdout",
          "text": [
            "x.shape  torch.Size([512, 512, 60])\n",
            "latent.shape  torch.Size([512, 64, 15])\n",
            "reconstructed.shape  torch.Size([512, 512, 60])\n",
            "Epoch 10/20\n",
            "loss: 0.10908481478691101\n",
            "\n"
          ]
        },
        {
          "output_type": "stream",
          "name": "stderr",
          "text": [
            "\r 94%|█████████▍| 32768/34935 [01:26<00:05, 373.36it/s]"
          ]
        },
        {
          "output_type": "stream",
          "name": "stdout",
          "text": [
            "x.shape  torch.Size([512, 512, 60])\n",
            "latent.shape  torch.Size([512, 64, 15])\n",
            "reconstructed.shape  torch.Size([512, 512, 60])\n",
            "Epoch 10/20\n",
            "loss: 0.10724180936813354\n",
            "\n"
          ]
        },
        {
          "output_type": "stream",
          "name": "stderr",
          "text": [
            "\r 95%|█████████▌| 33280/34935 [01:27<00:04, 376.52it/s]"
          ]
        },
        {
          "output_type": "stream",
          "name": "stdout",
          "text": [
            "x.shape  torch.Size([512, 512, 60])\n",
            "latent.shape  torch.Size([512, 64, 15])\n",
            "reconstructed.shape  torch.Size([512, 512, 60])\n",
            "Epoch 10/20\n",
            "loss: 0.10979525744915009\n",
            "\n"
          ]
        },
        {
          "output_type": "stream",
          "name": "stderr",
          "text": [
            "\r 97%|█████████▋| 33792/34935 [01:29<00:03, 369.00it/s]"
          ]
        },
        {
          "output_type": "stream",
          "name": "stdout",
          "text": [
            "x.shape  torch.Size([512, 512, 60])\n",
            "latent.shape  torch.Size([512, 64, 15])\n",
            "reconstructed.shape  torch.Size([512, 512, 60])\n",
            "Epoch 10/20\n",
            "loss: 0.11068254709243774\n",
            "\n"
          ]
        },
        {
          "output_type": "stream",
          "name": "stderr",
          "text": [
            "\r 98%|█████████▊| 34304/34935 [01:30<00:01, 370.72it/s]"
          ]
        },
        {
          "output_type": "stream",
          "name": "stdout",
          "text": [
            "x.shape  torch.Size([512, 512, 60])\n",
            "latent.shape  torch.Size([512, 64, 15])\n",
            "reconstructed.shape  torch.Size([512, 512, 60])\n",
            "Epoch 10/20\n",
            "loss: 0.11067893356084824\n",
            "\n"
          ]
        },
        {
          "output_type": "stream",
          "name": "stderr",
          "text": [
            "100%|██████████| 34935/34935 [01:31<00:00, 380.56it/s]"
          ]
        },
        {
          "output_type": "stream",
          "name": "stdout",
          "text": [
            "x.shape  torch.Size([512, 512, 60])\n",
            "latent.shape  torch.Size([512, 64, 15])\n",
            "reconstructed.shape  torch.Size([512, 512, 60])\n",
            "Epoch 10/20\n",
            "loss: 0.10957085341215134\n",
            "\n"
          ]
        },
        {
          "output_type": "stream",
          "name": "stderr",
          "text": [
            "\n"
          ]
        },
        {
          "output_type": "stream",
          "name": "stdout",
          "text": [
            "x.shape  torch.Size([119, 512, 60])\n",
            "latent.shape  torch.Size([119, 64, 15])\n",
            "reconstructed.shape  torch.Size([119, 512, 60])\n",
            "Epoch 10/20\n",
            "loss: 0.10603076219558716\n",
            "\n"
          ]
        },
        {
          "output_type": "stream",
          "name": "stderr",
          "text": [
            "  1%|▏         | 512/34935 [00:01<01:32, 371.32it/s]"
          ]
        },
        {
          "output_type": "stream",
          "name": "stdout",
          "text": [
            "x.shape  torch.Size([512, 512, 60])\n",
            "latent.shape  torch.Size([512, 64, 15])\n",
            "reconstructed.shape  torch.Size([512, 512, 60])\n",
            "Epoch 11/20\n",
            "loss: 0.10843642801046371\n",
            "\n"
          ]
        },
        {
          "output_type": "stream",
          "name": "stderr",
          "text": [
            "\r  3%|▎         | 1024/34935 [00:02<01:31, 369.58it/s]"
          ]
        },
        {
          "output_type": "stream",
          "name": "stdout",
          "text": [
            "x.shape  torch.Size([512, 512, 60])\n",
            "latent.shape  torch.Size([512, 64, 15])\n",
            "reconstructed.shape  torch.Size([512, 512, 60])\n",
            "Epoch 11/20\n",
            "loss: 0.10991824418306351\n",
            "\n"
          ]
        },
        {
          "output_type": "stream",
          "name": "stderr",
          "text": [
            "\r  4%|▍         | 1536/34935 [00:04<01:29, 373.39it/s]"
          ]
        },
        {
          "output_type": "stream",
          "name": "stdout",
          "text": [
            "x.shape  torch.Size([512, 512, 60])\n",
            "latent.shape  torch.Size([512, 64, 15])\n",
            "reconstructed.shape  torch.Size([512, 512, 60])\n",
            "Epoch 11/20\n",
            "loss: 0.10729226469993591\n",
            "\n"
          ]
        },
        {
          "output_type": "stream",
          "name": "stderr",
          "text": [
            "\r  6%|▌         | 2048/34935 [00:05<01:30, 363.75it/s]"
          ]
        },
        {
          "output_type": "stream",
          "name": "stdout",
          "text": [
            "x.shape  torch.Size([512, 512, 60])\n",
            "latent.shape  torch.Size([512, 64, 15])\n",
            "reconstructed.shape  torch.Size([512, 512, 60])\n",
            "Epoch 11/20\n",
            "loss: 0.10912497341632843\n",
            "\n"
          ]
        },
        {
          "output_type": "stream",
          "name": "stderr",
          "text": [
            "\r  7%|▋         | 2560/34935 [00:06<01:27, 369.31it/s]"
          ]
        },
        {
          "output_type": "stream",
          "name": "stdout",
          "text": [
            "x.shape  torch.Size([512, 512, 60])\n",
            "latent.shape  torch.Size([512, 64, 15])\n",
            "reconstructed.shape  torch.Size([512, 512, 60])\n",
            "Epoch 11/20\n",
            "loss: 0.10944607853889465\n",
            "\n"
          ]
        },
        {
          "output_type": "stream",
          "name": "stderr",
          "text": [
            "\r  9%|▉         | 3072/34935 [00:08<01:25, 370.66it/s]"
          ]
        },
        {
          "output_type": "stream",
          "name": "stdout",
          "text": [
            "x.shape  torch.Size([512, 512, 60])\n",
            "latent.shape  torch.Size([512, 64, 15])\n",
            "reconstructed.shape  torch.Size([512, 512, 60])\n",
            "Epoch 11/20\n",
            "loss: 0.10980362445116043\n",
            "\n"
          ]
        },
        {
          "output_type": "stream",
          "name": "stderr",
          "text": [
            "\r 10%|█         | 3584/34935 [00:09<01:23, 375.58it/s]"
          ]
        },
        {
          "output_type": "stream",
          "name": "stdout",
          "text": [
            "x.shape  torch.Size([512, 512, 60])\n",
            "latent.shape  torch.Size([512, 64, 15])\n",
            "reconstructed.shape  torch.Size([512, 512, 60])\n",
            "Epoch 11/20\n",
            "loss: 0.10790712386369705\n",
            "\n"
          ]
        },
        {
          "output_type": "stream",
          "name": "stderr",
          "text": [
            "\r 12%|█▏        | 4096/34935 [00:10<01:22, 376.01it/s]"
          ]
        },
        {
          "output_type": "stream",
          "name": "stdout",
          "text": [
            "x.shape  torch.Size([512, 512, 60])\n",
            "latent.shape  torch.Size([512, 64, 15])\n",
            "reconstructed.shape  torch.Size([512, 512, 60])\n",
            "Epoch 11/20\n",
            "loss: 0.10900921374559402\n",
            "\n"
          ]
        },
        {
          "output_type": "stream",
          "name": "stderr",
          "text": [
            "\r 13%|█▎        | 4608/34935 [00:12<01:21, 371.52it/s]"
          ]
        },
        {
          "output_type": "stream",
          "name": "stdout",
          "text": [
            "x.shape  torch.Size([512, 512, 60])\n",
            "latent.shape  torch.Size([512, 64, 15])\n",
            "reconstructed.shape  torch.Size([512, 512, 60])\n",
            "Epoch 11/20\n",
            "loss: 0.10799570381641388\n",
            "\n"
          ]
        },
        {
          "output_type": "stream",
          "name": "stderr",
          "text": [
            "\r 15%|█▍        | 5120/34935 [00:13<01:20, 368.76it/s]"
          ]
        },
        {
          "output_type": "stream",
          "name": "stdout",
          "text": [
            "x.shape  torch.Size([512, 512, 60])\n",
            "latent.shape  torch.Size([512, 64, 15])\n",
            "reconstructed.shape  torch.Size([512, 512, 60])\n",
            "Epoch 11/20\n",
            "loss: 0.10967374593019485\n",
            "\n"
          ]
        },
        {
          "output_type": "stream",
          "name": "stderr",
          "text": [
            "\r 16%|█▌        | 5632/34935 [00:15<01:18, 375.19it/s]"
          ]
        },
        {
          "output_type": "stream",
          "name": "stdout",
          "text": [
            "x.shape  torch.Size([512, 512, 60])\n",
            "latent.shape  torch.Size([512, 64, 15])\n",
            "reconstructed.shape  torch.Size([512, 512, 60])\n",
            "Epoch 11/20\n",
            "loss: 0.10971392691135406\n",
            "\n"
          ]
        },
        {
          "output_type": "stream",
          "name": "stderr",
          "text": [
            "\r 18%|█▊        | 6144/34935 [00:16<01:16, 377.27it/s]"
          ]
        },
        {
          "output_type": "stream",
          "name": "stdout",
          "text": [
            "x.shape  torch.Size([512, 512, 60])\n",
            "latent.shape  torch.Size([512, 64, 15])\n",
            "reconstructed.shape  torch.Size([512, 512, 60])\n",
            "Epoch 11/20\n",
            "loss: 0.1078861802816391\n",
            "\n"
          ]
        },
        {
          "output_type": "stream",
          "name": "stderr",
          "text": [
            "\r 19%|█▉        | 6656/34935 [00:17<01:15, 375.67it/s]"
          ]
        },
        {
          "output_type": "stream",
          "name": "stdout",
          "text": [
            "x.shape  torch.Size([512, 512, 60])\n",
            "latent.shape  torch.Size([512, 64, 15])\n",
            "reconstructed.shape  torch.Size([512, 512, 60])\n",
            "Epoch 11/20\n",
            "loss: 0.10610480606555939\n",
            "\n"
          ]
        },
        {
          "output_type": "stream",
          "name": "stderr",
          "text": [
            "\r 21%|██        | 7168/34935 [00:19<01:13, 376.25it/s]"
          ]
        },
        {
          "output_type": "stream",
          "name": "stdout",
          "text": [
            "x.shape  torch.Size([512, 512, 60])\n",
            "latent.shape  torch.Size([512, 64, 15])\n",
            "reconstructed.shape  torch.Size([512, 512, 60])\n",
            "Epoch 11/20\n",
            "loss: 0.10818709433078766\n",
            "\n"
          ]
        },
        {
          "output_type": "stream",
          "name": "stderr",
          "text": [
            "\r 22%|██▏       | 7680/34935 [00:20<01:12, 377.03it/s]"
          ]
        },
        {
          "output_type": "stream",
          "name": "stdout",
          "text": [
            "x.shape  torch.Size([512, 512, 60])\n",
            "latent.shape  torch.Size([512, 64, 15])\n",
            "reconstructed.shape  torch.Size([512, 512, 60])\n",
            "Epoch 11/20\n",
            "loss: 0.10961327701807022\n",
            "\n"
          ]
        },
        {
          "output_type": "stream",
          "name": "stderr",
          "text": [
            "\r 23%|██▎       | 8192/34935 [00:21<01:11, 371.95it/s]"
          ]
        },
        {
          "output_type": "stream",
          "name": "stdout",
          "text": [
            "x.shape  torch.Size([512, 512, 60])\n",
            "latent.shape  torch.Size([512, 64, 15])\n",
            "reconstructed.shape  torch.Size([512, 512, 60])\n",
            "Epoch 11/20\n",
            "loss: 0.10743158310651779\n",
            "\n"
          ]
        },
        {
          "output_type": "stream",
          "name": "stderr",
          "text": [
            "\r 25%|██▍       | 8704/34935 [00:23<01:09, 376.72it/s]"
          ]
        },
        {
          "output_type": "stream",
          "name": "stdout",
          "text": [
            "x.shape  torch.Size([512, 512, 60])\n",
            "latent.shape  torch.Size([512, 64, 15])\n",
            "reconstructed.shape  torch.Size([512, 512, 60])\n",
            "Epoch 11/20\n",
            "loss: 0.10773693025112152\n",
            "\n"
          ]
        },
        {
          "output_type": "stream",
          "name": "stderr",
          "text": [
            "\r 26%|██▋       | 9216/34935 [00:24<01:08, 376.68it/s]"
          ]
        },
        {
          "output_type": "stream",
          "name": "stdout",
          "text": [
            "x.shape  torch.Size([512, 512, 60])\n",
            "latent.shape  torch.Size([512, 64, 15])\n",
            "reconstructed.shape  torch.Size([512, 512, 60])\n",
            "Epoch 11/20\n",
            "loss: 0.10918916761875153\n",
            "\n"
          ]
        },
        {
          "output_type": "stream",
          "name": "stderr",
          "text": [
            "\r 28%|██▊       | 9728/34935 [00:25<01:06, 377.61it/s]"
          ]
        },
        {
          "output_type": "stream",
          "name": "stdout",
          "text": [
            "x.shape  torch.Size([512, 512, 60])\n",
            "latent.shape  torch.Size([512, 64, 15])\n",
            "reconstructed.shape  torch.Size([512, 512, 60])\n",
            "Epoch 11/20\n",
            "loss: 0.10835134983062744\n",
            "\n"
          ]
        },
        {
          "output_type": "stream",
          "name": "stderr",
          "text": [
            "\r 29%|██▉       | 10240/34935 [00:27<01:05, 376.94it/s]"
          ]
        },
        {
          "output_type": "stream",
          "name": "stdout",
          "text": [
            "x.shape  torch.Size([512, 512, 60])\n",
            "latent.shape  torch.Size([512, 64, 15])\n",
            "reconstructed.shape  torch.Size([512, 512, 60])\n",
            "Epoch 11/20\n",
            "loss: 0.11002308875322342\n",
            "\n"
          ]
        },
        {
          "output_type": "stream",
          "name": "stderr",
          "text": [
            "\r 31%|███       | 10752/34935 [00:28<01:04, 376.46it/s]"
          ]
        },
        {
          "output_type": "stream",
          "name": "stdout",
          "text": [
            "x.shape  torch.Size([512, 512, 60])\n",
            "latent.shape  torch.Size([512, 64, 15])\n",
            "reconstructed.shape  torch.Size([512, 512, 60])\n",
            "Epoch 11/20\n",
            "loss: 0.10834802687168121\n",
            "\n"
          ]
        },
        {
          "output_type": "stream",
          "name": "stderr",
          "text": [
            "\r 32%|███▏      | 11264/34935 [00:30<01:02, 380.03it/s]"
          ]
        },
        {
          "output_type": "stream",
          "name": "stdout",
          "text": [
            "x.shape  torch.Size([512, 512, 60])\n",
            "latent.shape  torch.Size([512, 64, 15])\n",
            "reconstructed.shape  torch.Size([512, 512, 60])\n",
            "Epoch 11/20\n",
            "loss: 0.1081063449382782\n",
            "\n"
          ]
        },
        {
          "output_type": "stream",
          "name": "stderr",
          "text": [
            "\r 34%|███▎      | 11776/34935 [00:31<01:01, 378.21it/s]"
          ]
        },
        {
          "output_type": "stream",
          "name": "stdout",
          "text": [
            "x.shape  torch.Size([512, 512, 60])\n",
            "latent.shape  torch.Size([512, 64, 15])\n",
            "reconstructed.shape  torch.Size([512, 512, 60])\n",
            "Epoch 11/20\n",
            "loss: 0.10788821429014206\n",
            "\n"
          ]
        },
        {
          "output_type": "stream",
          "name": "stderr",
          "text": [
            "\r 35%|███▌      | 12288/34935 [00:32<00:59, 379.22it/s]"
          ]
        },
        {
          "output_type": "stream",
          "name": "stdout",
          "text": [
            "x.shape  torch.Size([512, 512, 60])\n",
            "latent.shape  torch.Size([512, 64, 15])\n",
            "reconstructed.shape  torch.Size([512, 512, 60])\n",
            "Epoch 11/20\n",
            "loss: 0.10717770457267761\n",
            "\n"
          ]
        },
        {
          "output_type": "stream",
          "name": "stderr",
          "text": [
            "\r 37%|███▋      | 12800/34935 [00:34<00:58, 379.99it/s]"
          ]
        },
        {
          "output_type": "stream",
          "name": "stdout",
          "text": [
            "x.shape  torch.Size([512, 512, 60])\n",
            "latent.shape  torch.Size([512, 64, 15])\n",
            "reconstructed.shape  torch.Size([512, 512, 60])\n",
            "Epoch 11/20\n",
            "loss: 0.10818207263946533\n",
            "\n"
          ]
        },
        {
          "output_type": "stream",
          "name": "stderr",
          "text": [
            "\r 38%|███▊      | 13312/34935 [00:35<00:57, 377.45it/s]"
          ]
        },
        {
          "output_type": "stream",
          "name": "stdout",
          "text": [
            "x.shape  torch.Size([512, 512, 60])\n",
            "latent.shape  torch.Size([512, 64, 15])\n",
            "reconstructed.shape  torch.Size([512, 512, 60])\n",
            "Epoch 11/20\n",
            "loss: 0.10867448151111603\n",
            "\n"
          ]
        },
        {
          "output_type": "stream",
          "name": "stderr",
          "text": [
            "\r 40%|███▉      | 13824/34935 [00:36<00:57, 367.95it/s]"
          ]
        },
        {
          "output_type": "stream",
          "name": "stdout",
          "text": [
            "x.shape  torch.Size([512, 512, 60])\n",
            "latent.shape  torch.Size([512, 64, 15])\n",
            "reconstructed.shape  torch.Size([512, 512, 60])\n",
            "Epoch 11/20\n",
            "loss: 0.10755043476819992\n",
            "\n"
          ]
        },
        {
          "output_type": "stream",
          "name": "stderr",
          "text": [
            "\r 41%|████      | 14336/34935 [00:38<00:55, 367.93it/s]"
          ]
        },
        {
          "output_type": "stream",
          "name": "stdout",
          "text": [
            "x.shape  torch.Size([512, 512, 60])\n",
            "latent.shape  torch.Size([512, 64, 15])\n",
            "reconstructed.shape  torch.Size([512, 512, 60])\n",
            "Epoch 11/20\n",
            "loss: 0.10760503262281418\n",
            "\n"
          ]
        },
        {
          "output_type": "stream",
          "name": "stderr",
          "text": [
            "\r 43%|████▎     | 14848/34935 [00:39<00:54, 369.33it/s]"
          ]
        },
        {
          "output_type": "stream",
          "name": "stdout",
          "text": [
            "x.shape  torch.Size([512, 512, 60])\n",
            "latent.shape  torch.Size([512, 64, 15])\n",
            "reconstructed.shape  torch.Size([512, 512, 60])\n",
            "Epoch 11/20\n",
            "loss: 0.10889661312103271\n",
            "\n"
          ]
        },
        {
          "output_type": "stream",
          "name": "stderr",
          "text": [
            "\r 44%|████▍     | 15360/34935 [00:40<00:50, 385.87it/s]"
          ]
        },
        {
          "output_type": "stream",
          "name": "stdout",
          "text": [
            "x.shape  torch.Size([512, 512, 60])\n",
            "latent.shape  torch.Size([512, 64, 15])\n",
            "reconstructed.shape  torch.Size([512, 512, 60])\n",
            "Epoch 11/20\n",
            "loss: 0.1073438823223114\n",
            "\n"
          ]
        },
        {
          "output_type": "stream",
          "name": "stderr",
          "text": [
            "\r 45%|████▌     | 15872/34935 [00:41<00:45, 417.81it/s]"
          ]
        },
        {
          "output_type": "stream",
          "name": "stdout",
          "text": [
            "x.shape  torch.Size([512, 512, 60])\n",
            "latent.shape  torch.Size([512, 64, 15])\n",
            "reconstructed.shape  torch.Size([512, 512, 60])\n",
            "Epoch 11/20\n",
            "loss: 0.10840737819671631\n",
            "\n"
          ]
        },
        {
          "output_type": "stream",
          "name": "stderr",
          "text": [
            "\r 47%|████▋     | 16384/34935 [00:43<00:46, 402.26it/s]"
          ]
        },
        {
          "output_type": "stream",
          "name": "stdout",
          "text": [
            "x.shape  torch.Size([512, 512, 60])\n",
            "latent.shape  torch.Size([512, 64, 15])\n",
            "reconstructed.shape  torch.Size([512, 512, 60])\n",
            "Epoch 11/20\n",
            "loss: 0.1065886840224266\n",
            "\n"
          ]
        },
        {
          "output_type": "stream",
          "name": "stderr",
          "text": [
            "\r 48%|████▊     | 16896/34935 [00:44<00:45, 392.86it/s]"
          ]
        },
        {
          "output_type": "stream",
          "name": "stdout",
          "text": [
            "x.shape  torch.Size([512, 512, 60])\n",
            "latent.shape  torch.Size([512, 64, 15])\n",
            "reconstructed.shape  torch.Size([512, 512, 60])\n",
            "Epoch 11/20\n",
            "loss: 0.10777901858091354\n",
            "\n"
          ]
        },
        {
          "output_type": "stream",
          "name": "stderr",
          "text": [
            "\r 50%|████▉     | 17408/34935 [00:45<00:45, 388.63it/s]"
          ]
        },
        {
          "output_type": "stream",
          "name": "stdout",
          "text": [
            "x.shape  torch.Size([512, 512, 60])\n",
            "latent.shape  torch.Size([512, 64, 15])\n",
            "reconstructed.shape  torch.Size([512, 512, 60])\n",
            "Epoch 11/20\n",
            "loss: 0.10771499574184418\n",
            "\n"
          ]
        },
        {
          "output_type": "stream",
          "name": "stderr",
          "text": [
            "\r 51%|█████▏    | 17920/34935 [00:47<00:44, 381.58it/s]"
          ]
        },
        {
          "output_type": "stream",
          "name": "stdout",
          "text": [
            "x.shape  torch.Size([512, 512, 60])\n",
            "latent.shape  torch.Size([512, 64, 15])\n",
            "reconstructed.shape  torch.Size([512, 512, 60])\n",
            "Epoch 11/20\n",
            "loss: 0.10867054760456085\n",
            "\n"
          ]
        },
        {
          "output_type": "stream",
          "name": "stderr",
          "text": [
            "\r 53%|█████▎    | 18432/34935 [00:48<00:42, 384.33it/s]"
          ]
        },
        {
          "output_type": "stream",
          "name": "stdout",
          "text": [
            "x.shape  torch.Size([512, 512, 60])\n",
            "latent.shape  torch.Size([512, 64, 15])\n",
            "reconstructed.shape  torch.Size([512, 512, 60])\n",
            "Epoch 11/20\n",
            "loss: 0.11000403016805649\n",
            "\n"
          ]
        },
        {
          "output_type": "stream",
          "name": "stderr",
          "text": [
            "\r 54%|█████▍    | 18944/34935 [00:50<00:41, 383.53it/s]"
          ]
        },
        {
          "output_type": "stream",
          "name": "stdout",
          "text": [
            "x.shape  torch.Size([512, 512, 60])\n",
            "latent.shape  torch.Size([512, 64, 15])\n",
            "reconstructed.shape  torch.Size([512, 512, 60])\n",
            "Epoch 11/20\n",
            "loss: 0.10605810582637787\n",
            "\n"
          ]
        },
        {
          "output_type": "stream",
          "name": "stderr",
          "text": [
            "\r 56%|█████▌    | 19456/34935 [00:51<00:40, 378.60it/s]"
          ]
        },
        {
          "output_type": "stream",
          "name": "stdout",
          "text": [
            "x.shape  torch.Size([512, 512, 60])\n",
            "latent.shape  torch.Size([512, 64, 15])\n",
            "reconstructed.shape  torch.Size([512, 512, 60])\n",
            "Epoch 11/20\n",
            "loss: 0.10933121293783188\n",
            "\n"
          ]
        },
        {
          "output_type": "stream",
          "name": "stderr",
          "text": [
            "\r 57%|█████▋    | 19968/34935 [00:52<00:39, 375.73it/s]"
          ]
        },
        {
          "output_type": "stream",
          "name": "stdout",
          "text": [
            "x.shape  torch.Size([512, 512, 60])\n",
            "latent.shape  torch.Size([512, 64, 15])\n",
            "reconstructed.shape  torch.Size([512, 512, 60])\n",
            "Epoch 11/20\n",
            "loss: 0.10858512669801712\n",
            "\n"
          ]
        },
        {
          "output_type": "stream",
          "name": "stderr",
          "text": [
            "\r 59%|█████▊    | 20480/34935 [00:54<00:38, 377.38it/s]"
          ]
        },
        {
          "output_type": "stream",
          "name": "stdout",
          "text": [
            "x.shape  torch.Size([512, 512, 60])\n",
            "latent.shape  torch.Size([512, 64, 15])\n",
            "reconstructed.shape  torch.Size([512, 512, 60])\n",
            "Epoch 11/20\n",
            "loss: 0.10871659219264984\n",
            "\n"
          ]
        },
        {
          "output_type": "stream",
          "name": "stderr",
          "text": [
            "\r 60%|██████    | 20992/34935 [00:55<00:36, 379.45it/s]"
          ]
        },
        {
          "output_type": "stream",
          "name": "stdout",
          "text": [
            "x.shape  torch.Size([512, 512, 60])\n",
            "latent.shape  torch.Size([512, 64, 15])\n",
            "reconstructed.shape  torch.Size([512, 512, 60])\n",
            "Epoch 11/20\n",
            "loss: 0.10685595124959946\n",
            "\n"
          ]
        },
        {
          "output_type": "stream",
          "name": "stderr",
          "text": [
            "\r 62%|██████▏   | 21504/34935 [00:56<00:35, 376.15it/s]"
          ]
        },
        {
          "output_type": "stream",
          "name": "stdout",
          "text": [
            "x.shape  torch.Size([512, 512, 60])\n",
            "latent.shape  torch.Size([512, 64, 15])\n",
            "reconstructed.shape  torch.Size([512, 512, 60])\n",
            "Epoch 11/20\n",
            "loss: 0.10896379500627518\n",
            "\n"
          ]
        },
        {
          "output_type": "stream",
          "name": "stderr",
          "text": [
            "\r 63%|██████▎   | 22016/34935 [00:58<00:34, 372.93it/s]"
          ]
        },
        {
          "output_type": "stream",
          "name": "stdout",
          "text": [
            "x.shape  torch.Size([512, 512, 60])\n",
            "latent.shape  torch.Size([512, 64, 15])\n",
            "reconstructed.shape  torch.Size([512, 512, 60])\n",
            "Epoch 11/20\n",
            "loss: 0.10709874331951141\n",
            "\n"
          ]
        },
        {
          "output_type": "stream",
          "name": "stderr",
          "text": [
            "\r 64%|██████▍   | 22528/34935 [00:59<00:33, 373.62it/s]"
          ]
        },
        {
          "output_type": "stream",
          "name": "stdout",
          "text": [
            "x.shape  torch.Size([512, 512, 60])\n",
            "latent.shape  torch.Size([512, 64, 15])\n",
            "reconstructed.shape  torch.Size([512, 512, 60])\n",
            "Epoch 11/20\n",
            "loss: 0.10708384960889816\n",
            "\n"
          ]
        },
        {
          "output_type": "stream",
          "name": "stderr",
          "text": [
            "\r 66%|██████▌   | 23040/34935 [01:01<00:31, 372.90it/s]"
          ]
        },
        {
          "output_type": "stream",
          "name": "stdout",
          "text": [
            "x.shape  torch.Size([512, 512, 60])\n",
            "latent.shape  torch.Size([512, 64, 15])\n",
            "reconstructed.shape  torch.Size([512, 512, 60])\n",
            "Epoch 11/20\n",
            "loss: 0.10780885070562363\n",
            "\n"
          ]
        },
        {
          "output_type": "stream",
          "name": "stderr",
          "text": [
            "\r 67%|██████▋   | 23552/34935 [01:02<00:30, 372.34it/s]"
          ]
        },
        {
          "output_type": "stream",
          "name": "stdout",
          "text": [
            "x.shape  torch.Size([512, 512, 60])\n",
            "latent.shape  torch.Size([512, 64, 15])\n",
            "reconstructed.shape  torch.Size([512, 512, 60])\n",
            "Epoch 11/20\n",
            "loss: 0.1087474375963211\n",
            "\n"
          ]
        },
        {
          "output_type": "stream",
          "name": "stderr",
          "text": [
            "\r 69%|██████▉   | 24064/34935 [01:03<00:29, 369.92it/s]"
          ]
        },
        {
          "output_type": "stream",
          "name": "stdout",
          "text": [
            "x.shape  torch.Size([512, 512, 60])\n",
            "latent.shape  torch.Size([512, 64, 15])\n",
            "reconstructed.shape  torch.Size([512, 512, 60])\n",
            "Epoch 11/20\n",
            "loss: 0.10819701850414276\n",
            "\n"
          ]
        },
        {
          "output_type": "stream",
          "name": "stderr",
          "text": [
            "\r 70%|███████   | 24576/34935 [01:05<00:27, 372.24it/s]"
          ]
        },
        {
          "output_type": "stream",
          "name": "stdout",
          "text": [
            "x.shape  torch.Size([512, 512, 60])\n",
            "latent.shape  torch.Size([512, 64, 15])\n",
            "reconstructed.shape  torch.Size([512, 512, 60])\n",
            "Epoch 11/20\n",
            "loss: 0.10794155299663544\n",
            "\n"
          ]
        },
        {
          "output_type": "stream",
          "name": "stderr",
          "text": [
            "\r 72%|███████▏  | 25088/34935 [01:06<00:26, 375.36it/s]"
          ]
        },
        {
          "output_type": "stream",
          "name": "stdout",
          "text": [
            "x.shape  torch.Size([512, 512, 60])\n",
            "latent.shape  torch.Size([512, 64, 15])\n",
            "reconstructed.shape  torch.Size([512, 512, 60])\n",
            "Epoch 11/20\n",
            "loss: 0.1071987971663475\n",
            "\n"
          ]
        },
        {
          "output_type": "stream",
          "name": "stderr",
          "text": [
            "\r 73%|███████▎  | 25600/34935 [01:07<00:24, 375.71it/s]"
          ]
        },
        {
          "output_type": "stream",
          "name": "stdout",
          "text": [
            "x.shape  torch.Size([512, 512, 60])\n",
            "latent.shape  torch.Size([512, 64, 15])\n",
            "reconstructed.shape  torch.Size([512, 512, 60])\n",
            "Epoch 11/20\n",
            "loss: 0.10806302726268768\n",
            "\n"
          ]
        },
        {
          "output_type": "stream",
          "name": "stderr",
          "text": [
            "\r 75%|███████▍  | 26112/34935 [01:09<00:23, 379.69it/s]"
          ]
        },
        {
          "output_type": "stream",
          "name": "stdout",
          "text": [
            "x.shape  torch.Size([512, 512, 60])\n",
            "latent.shape  torch.Size([512, 64, 15])\n",
            "reconstructed.shape  torch.Size([512, 512, 60])\n",
            "Epoch 11/20\n",
            "loss: 0.10835234820842743\n",
            "\n"
          ]
        },
        {
          "output_type": "stream",
          "name": "stderr",
          "text": [
            "\r 76%|███████▌  | 26624/34935 [01:10<00:22, 377.40it/s]"
          ]
        },
        {
          "output_type": "stream",
          "name": "stdout",
          "text": [
            "x.shape  torch.Size([512, 512, 60])\n",
            "latent.shape  torch.Size([512, 64, 15])\n",
            "reconstructed.shape  torch.Size([512, 512, 60])\n",
            "Epoch 11/20\n",
            "loss: 0.10816213488578796\n",
            "\n"
          ]
        },
        {
          "output_type": "stream",
          "name": "stderr",
          "text": [
            "\r 78%|███████▊  | 27136/34935 [01:11<00:20, 371.82it/s]"
          ]
        },
        {
          "output_type": "stream",
          "name": "stdout",
          "text": [
            "x.shape  torch.Size([512, 512, 60])\n",
            "latent.shape  torch.Size([512, 64, 15])\n",
            "reconstructed.shape  torch.Size([512, 512, 60])\n",
            "Epoch 11/20\n",
            "loss: 0.10952947288751602\n",
            "\n"
          ]
        },
        {
          "output_type": "stream",
          "name": "stderr",
          "text": [
            "\r 79%|███████▉  | 27648/34935 [01:13<00:19, 367.22it/s]"
          ]
        },
        {
          "output_type": "stream",
          "name": "stdout",
          "text": [
            "x.shape  torch.Size([512, 512, 60])\n",
            "latent.shape  torch.Size([512, 64, 15])\n",
            "reconstructed.shape  torch.Size([512, 512, 60])\n",
            "Epoch 11/20\n",
            "loss: 0.10912545770406723\n",
            "\n"
          ]
        },
        {
          "output_type": "stream",
          "name": "stderr",
          "text": [
            "\r 81%|████████  | 28160/34935 [01:14<00:18, 365.71it/s]"
          ]
        },
        {
          "output_type": "stream",
          "name": "stdout",
          "text": [
            "x.shape  torch.Size([512, 512, 60])\n",
            "latent.shape  torch.Size([512, 64, 15])\n",
            "reconstructed.shape  torch.Size([512, 512, 60])\n",
            "Epoch 11/20\n",
            "loss: 0.10771004110574722\n",
            "\n"
          ]
        },
        {
          "output_type": "stream",
          "name": "stderr",
          "text": [
            "\r 82%|████████▏ | 28672/34935 [01:16<00:16, 370.73it/s]"
          ]
        },
        {
          "output_type": "stream",
          "name": "stdout",
          "text": [
            "x.shape  torch.Size([512, 512, 60])\n",
            "latent.shape  torch.Size([512, 64, 15])\n",
            "reconstructed.shape  torch.Size([512, 512, 60])\n",
            "Epoch 11/20\n",
            "loss: 0.10659914463758469\n",
            "\n"
          ]
        },
        {
          "output_type": "stream",
          "name": "stderr",
          "text": [
            "\r 84%|████████▎ | 29184/34935 [01:17<00:15, 367.19it/s]"
          ]
        },
        {
          "output_type": "stream",
          "name": "stdout",
          "text": [
            "x.shape  torch.Size([512, 512, 60])\n",
            "latent.shape  torch.Size([512, 64, 15])\n",
            "reconstructed.shape  torch.Size([512, 512, 60])\n",
            "Epoch 11/20\n",
            "loss: 0.10789385437965393\n",
            "\n"
          ]
        },
        {
          "output_type": "stream",
          "name": "stderr",
          "text": [
            "\r 85%|████████▌ | 29696/34935 [01:18<00:14, 367.11it/s]"
          ]
        },
        {
          "output_type": "stream",
          "name": "stdout",
          "text": [
            "x.shape  torch.Size([512, 512, 60])\n",
            "latent.shape  torch.Size([512, 64, 15])\n",
            "reconstructed.shape  torch.Size([512, 512, 60])\n",
            "Epoch 11/20\n",
            "loss: 0.10783548653125763\n",
            "\n"
          ]
        },
        {
          "output_type": "stream",
          "name": "stderr",
          "text": [
            "\r 86%|████████▋ | 30208/34935 [01:20<00:12, 368.66it/s]"
          ]
        },
        {
          "output_type": "stream",
          "name": "stdout",
          "text": [
            "x.shape  torch.Size([512, 512, 60])\n",
            "latent.shape  torch.Size([512, 64, 15])\n",
            "reconstructed.shape  torch.Size([512, 512, 60])\n",
            "Epoch 11/20\n",
            "loss: 0.10755932331085205\n",
            "\n"
          ]
        },
        {
          "output_type": "stream",
          "name": "stderr",
          "text": [
            "\r 88%|████████▊ | 30720/34935 [01:21<00:11, 370.13it/s]"
          ]
        },
        {
          "output_type": "stream",
          "name": "stdout",
          "text": [
            "x.shape  torch.Size([512, 512, 60])\n",
            "latent.shape  torch.Size([512, 64, 15])\n",
            "reconstructed.shape  torch.Size([512, 512, 60])\n",
            "Epoch 11/20\n",
            "loss: 0.10743555426597595\n",
            "\n"
          ]
        },
        {
          "output_type": "stream",
          "name": "stderr",
          "text": [
            "\r 89%|████████▉ | 31232/34935 [01:23<00:09, 370.91it/s]"
          ]
        },
        {
          "output_type": "stream",
          "name": "stdout",
          "text": [
            "x.shape  torch.Size([512, 512, 60])\n",
            "latent.shape  torch.Size([512, 64, 15])\n",
            "reconstructed.shape  torch.Size([512, 512, 60])\n",
            "Epoch 11/20\n",
            "loss: 0.10796526074409485\n",
            "\n"
          ]
        },
        {
          "output_type": "stream",
          "name": "stderr",
          "text": [
            "\r 91%|█████████ | 31744/34935 [01:24<00:08, 367.65it/s]"
          ]
        },
        {
          "output_type": "stream",
          "name": "stdout",
          "text": [
            "x.shape  torch.Size([512, 512, 60])\n",
            "latent.shape  torch.Size([512, 64, 15])\n",
            "reconstructed.shape  torch.Size([512, 512, 60])\n",
            "Epoch 11/20\n",
            "loss: 0.1091625988483429\n",
            "\n"
          ]
        },
        {
          "output_type": "stream",
          "name": "stderr",
          "text": [
            "\r 92%|█████████▏| 32256/34935 [01:25<00:07, 368.40it/s]"
          ]
        },
        {
          "output_type": "stream",
          "name": "stdout",
          "text": [
            "x.shape  torch.Size([512, 512, 60])\n",
            "latent.shape  torch.Size([512, 64, 15])\n",
            "reconstructed.shape  torch.Size([512, 512, 60])\n",
            "Epoch 11/20\n",
            "loss: 0.10835719108581543\n",
            "\n"
          ]
        },
        {
          "output_type": "stream",
          "name": "stderr",
          "text": [
            "\r 94%|█████████▍| 32768/34935 [01:27<00:05, 371.75it/s]"
          ]
        },
        {
          "output_type": "stream",
          "name": "stdout",
          "text": [
            "x.shape  torch.Size([512, 512, 60])\n",
            "latent.shape  torch.Size([512, 64, 15])\n",
            "reconstructed.shape  torch.Size([512, 512, 60])\n",
            "Epoch 11/20\n",
            "loss: 0.10649322718381882\n",
            "\n"
          ]
        },
        {
          "output_type": "stream",
          "name": "stderr",
          "text": [
            "\r 95%|█████████▌| 33280/34935 [01:28<00:04, 369.16it/s]"
          ]
        },
        {
          "output_type": "stream",
          "name": "stdout",
          "text": [
            "x.shape  torch.Size([512, 512, 60])\n",
            "latent.shape  torch.Size([512, 64, 15])\n",
            "reconstructed.shape  torch.Size([512, 512, 60])\n",
            "Epoch 11/20\n",
            "loss: 0.1091197207570076\n",
            "\n"
          ]
        },
        {
          "output_type": "stream",
          "name": "stderr",
          "text": [
            "\r 97%|█████████▋| 33792/34935 [01:30<00:03, 367.14it/s]"
          ]
        },
        {
          "output_type": "stream",
          "name": "stdout",
          "text": [
            "x.shape  torch.Size([512, 512, 60])\n",
            "latent.shape  torch.Size([512, 64, 15])\n",
            "reconstructed.shape  torch.Size([512, 512, 60])\n",
            "Epoch 11/20\n",
            "loss: 0.10999927669763565\n",
            "\n"
          ]
        },
        {
          "output_type": "stream",
          "name": "stderr",
          "text": [
            "\r 98%|█████████▊| 34304/34935 [01:31<00:01, 367.68it/s]"
          ]
        },
        {
          "output_type": "stream",
          "name": "stdout",
          "text": [
            "x.shape  torch.Size([512, 512, 60])\n",
            "latent.shape  torch.Size([512, 64, 15])\n",
            "reconstructed.shape  torch.Size([512, 512, 60])\n",
            "Epoch 11/20\n",
            "loss: 0.10997502505779266\n",
            "\n"
          ]
        },
        {
          "output_type": "stream",
          "name": "stderr",
          "text": [
            "100%|██████████| 34935/34935 [01:32<00:00, 376.29it/s]"
          ]
        },
        {
          "output_type": "stream",
          "name": "stdout",
          "text": [
            "x.shape  torch.Size([512, 512, 60])\n",
            "latent.shape  torch.Size([512, 64, 15])\n",
            "reconstructed.shape  torch.Size([512, 512, 60])\n",
            "Epoch 11/20\n",
            "loss: 0.10885974764823914\n",
            "\n"
          ]
        },
        {
          "output_type": "stream",
          "name": "stderr",
          "text": [
            "\n"
          ]
        },
        {
          "output_type": "stream",
          "name": "stdout",
          "text": [
            "x.shape  torch.Size([119, 512, 60])\n",
            "latent.shape  torch.Size([119, 64, 15])\n",
            "reconstructed.shape  torch.Size([119, 512, 60])\n",
            "Epoch 11/20\n",
            "loss: 0.10541272908449173\n",
            "\n"
          ]
        },
        {
          "output_type": "stream",
          "name": "stderr",
          "text": [
            "  1%|▏         | 512/34935 [00:01<01:32, 371.72it/s]"
          ]
        },
        {
          "output_type": "stream",
          "name": "stdout",
          "text": [
            "x.shape  torch.Size([512, 512, 60])\n",
            "latent.shape  torch.Size([512, 64, 15])\n",
            "reconstructed.shape  torch.Size([512, 512, 60])\n",
            "Epoch 12/20\n",
            "loss: 0.10777993500232697\n",
            "\n"
          ]
        },
        {
          "output_type": "stream",
          "name": "stderr",
          "text": [
            "\r  3%|▎         | 1024/34935 [00:02<01:32, 366.55it/s]"
          ]
        },
        {
          "output_type": "stream",
          "name": "stdout",
          "text": [
            "x.shape  torch.Size([512, 512, 60])\n",
            "latent.shape  torch.Size([512, 64, 15])\n",
            "reconstructed.shape  torch.Size([512, 512, 60])\n",
            "Epoch 12/20\n",
            "loss: 0.10916402190923691\n",
            "\n"
          ]
        },
        {
          "output_type": "stream",
          "name": "stderr",
          "text": [
            "\r  4%|▍         | 1536/34935 [00:04<01:31, 364.92it/s]"
          ]
        },
        {
          "output_type": "stream",
          "name": "stdout",
          "text": [
            "x.shape  torch.Size([512, 512, 60])\n",
            "latent.shape  torch.Size([512, 64, 15])\n",
            "reconstructed.shape  torch.Size([512, 512, 60])\n",
            "Epoch 12/20\n",
            "loss: 0.106655552983284\n",
            "\n"
          ]
        },
        {
          "output_type": "stream",
          "name": "stderr",
          "text": [
            "\r  6%|▌         | 2048/34935 [00:05<01:31, 358.90it/s]"
          ]
        },
        {
          "output_type": "stream",
          "name": "stdout",
          "text": [
            "x.shape  torch.Size([512, 512, 60])\n",
            "latent.shape  torch.Size([512, 64, 15])\n",
            "reconstructed.shape  torch.Size([512, 512, 60])\n",
            "Epoch 12/20\n",
            "loss: 0.10846687108278275\n",
            "\n"
          ]
        },
        {
          "output_type": "stream",
          "name": "stderr",
          "text": [
            "\r  7%|▋         | 2560/34935 [00:07<01:28, 365.60it/s]"
          ]
        },
        {
          "output_type": "stream",
          "name": "stdout",
          "text": [
            "x.shape  torch.Size([512, 512, 60])\n",
            "latent.shape  torch.Size([512, 64, 15])\n",
            "reconstructed.shape  torch.Size([512, 512, 60])\n",
            "Epoch 12/20\n",
            "loss: 0.10866265743970871\n",
            "\n"
          ]
        },
        {
          "output_type": "stream",
          "name": "stderr",
          "text": [
            "\r  9%|▉         | 3072/34935 [00:08<01:26, 366.62it/s]"
          ]
        },
        {
          "output_type": "stream",
          "name": "stdout",
          "text": [
            "x.shape  torch.Size([512, 512, 60])\n",
            "latent.shape  torch.Size([512, 64, 15])\n",
            "reconstructed.shape  torch.Size([512, 512, 60])\n",
            "Epoch 12/20\n",
            "loss: 0.10913824290037155\n",
            "\n"
          ]
        },
        {
          "output_type": "stream",
          "name": "stderr",
          "text": [
            "\r 10%|█         | 3584/34935 [00:09<01:24, 369.87it/s]"
          ]
        },
        {
          "output_type": "stream",
          "name": "stdout",
          "text": [
            "x.shape  torch.Size([512, 512, 60])\n",
            "latent.shape  torch.Size([512, 64, 15])\n",
            "reconstructed.shape  torch.Size([512, 512, 60])\n",
            "Epoch 12/20\n",
            "loss: 0.10729315131902695\n",
            "\n"
          ]
        },
        {
          "output_type": "stream",
          "name": "stderr",
          "text": [
            "\r 12%|█▏        | 4096/34935 [00:11<01:23, 367.51it/s]"
          ]
        },
        {
          "output_type": "stream",
          "name": "stdout",
          "text": [
            "x.shape  torch.Size([512, 512, 60])\n",
            "latent.shape  torch.Size([512, 64, 15])\n",
            "reconstructed.shape  torch.Size([512, 512, 60])\n",
            "Epoch 12/20\n",
            "loss: 0.10837604850530624\n",
            "\n"
          ]
        },
        {
          "output_type": "stream",
          "name": "stderr",
          "text": [
            "\r 13%|█▎        | 4608/34935 [00:12<01:23, 363.27it/s]"
          ]
        },
        {
          "output_type": "stream",
          "name": "stdout",
          "text": [
            "x.shape  torch.Size([512, 512, 60])\n",
            "latent.shape  torch.Size([512, 64, 15])\n",
            "reconstructed.shape  torch.Size([512, 512, 60])\n",
            "Epoch 12/20\n",
            "loss: 0.10732448101043701\n",
            "\n"
          ]
        },
        {
          "output_type": "stream",
          "name": "stderr",
          "text": [
            "\r 15%|█▍        | 5120/34935 [00:14<01:22, 361.13it/s]"
          ]
        },
        {
          "output_type": "stream",
          "name": "stdout",
          "text": [
            "x.shape  torch.Size([512, 512, 60])\n",
            "latent.shape  torch.Size([512, 64, 15])\n",
            "reconstructed.shape  torch.Size([512, 512, 60])\n",
            "Epoch 12/20\n",
            "loss: 0.10897642374038696\n",
            "\n"
          ]
        },
        {
          "output_type": "stream",
          "name": "stderr",
          "text": [
            "\r 16%|█▌        | 5632/34935 [00:15<01:20, 365.26it/s]"
          ]
        },
        {
          "output_type": "stream",
          "name": "stdout",
          "text": [
            "x.shape  torch.Size([512, 512, 60])\n",
            "latent.shape  torch.Size([512, 64, 15])\n",
            "reconstructed.shape  torch.Size([512, 512, 60])\n",
            "Epoch 12/20\n",
            "loss: 0.10902682691812515\n",
            "\n"
          ]
        },
        {
          "output_type": "stream",
          "name": "stderr",
          "text": [
            "\r 18%|█▊        | 6144/34935 [00:16<01:18, 364.54it/s]"
          ]
        },
        {
          "output_type": "stream",
          "name": "stdout",
          "text": [
            "x.shape  torch.Size([512, 512, 60])\n",
            "latent.shape  torch.Size([512, 64, 15])\n",
            "reconstructed.shape  torch.Size([512, 512, 60])\n",
            "Epoch 12/20\n",
            "loss: 0.10721268504858017\n",
            "\n"
          ]
        },
        {
          "output_type": "stream",
          "name": "stderr",
          "text": [
            "\r 19%|█▉        | 6656/34935 [00:18<01:17, 365.28it/s]"
          ]
        },
        {
          "output_type": "stream",
          "name": "stdout",
          "text": [
            "x.shape  torch.Size([512, 512, 60])\n",
            "latent.shape  torch.Size([512, 64, 15])\n",
            "reconstructed.shape  torch.Size([512, 512, 60])\n",
            "Epoch 12/20\n",
            "loss: 0.10538200289011002\n",
            "\n"
          ]
        },
        {
          "output_type": "stream",
          "name": "stderr",
          "text": [
            "\r 21%|██        | 7168/34935 [00:19<01:15, 366.42it/s]"
          ]
        },
        {
          "output_type": "stream",
          "name": "stdout",
          "text": [
            "x.shape  torch.Size([512, 512, 60])\n",
            "latent.shape  torch.Size([512, 64, 15])\n",
            "reconstructed.shape  torch.Size([512, 512, 60])\n",
            "Epoch 12/20\n",
            "loss: 0.10756607353687286\n",
            "\n"
          ]
        },
        {
          "output_type": "stream",
          "name": "stderr",
          "text": [
            "\r 22%|██▏       | 7680/34935 [00:21<01:15, 358.92it/s]"
          ]
        },
        {
          "output_type": "stream",
          "name": "stdout",
          "text": [
            "x.shape  torch.Size([512, 512, 60])\n",
            "latent.shape  torch.Size([512, 64, 15])\n",
            "reconstructed.shape  torch.Size([512, 512, 60])\n",
            "Epoch 12/20\n",
            "loss: 0.1089998334646225\n",
            "\n"
          ]
        },
        {
          "output_type": "stream",
          "name": "stderr",
          "text": [
            "\r 23%|██▎       | 8192/34935 [00:22<01:14, 358.82it/s]"
          ]
        },
        {
          "output_type": "stream",
          "name": "stdout",
          "text": [
            "x.shape  torch.Size([512, 512, 60])\n",
            "latent.shape  torch.Size([512, 64, 15])\n",
            "reconstructed.shape  torch.Size([512, 512, 60])\n",
            "Epoch 12/20\n",
            "loss: 0.10680284351110458\n",
            "\n"
          ]
        },
        {
          "output_type": "stream",
          "name": "stderr",
          "text": [
            "\r 25%|██▍       | 8704/34935 [00:23<01:12, 363.14it/s]"
          ]
        },
        {
          "output_type": "stream",
          "name": "stdout",
          "text": [
            "x.shape  torch.Size([512, 512, 60])\n",
            "latent.shape  torch.Size([512, 64, 15])\n",
            "reconstructed.shape  torch.Size([512, 512, 60])\n",
            "Epoch 12/20\n",
            "loss: 0.10711832344532013\n",
            "\n"
          ]
        },
        {
          "output_type": "stream",
          "name": "stderr",
          "text": [
            "\r 26%|██▋       | 9216/34935 [00:25<01:10, 366.74it/s]"
          ]
        },
        {
          "output_type": "stream",
          "name": "stdout",
          "text": [
            "x.shape  torch.Size([512, 512, 60])\n",
            "latent.shape  torch.Size([512, 64, 15])\n",
            "reconstructed.shape  torch.Size([512, 512, 60])\n",
            "Epoch 12/20\n",
            "loss: 0.10849854350090027\n",
            "\n"
          ]
        },
        {
          "output_type": "stream",
          "name": "stderr",
          "text": [
            "\r 28%|██▊       | 9728/34935 [00:26<01:08, 367.67it/s]"
          ]
        },
        {
          "output_type": "stream",
          "name": "stdout",
          "text": [
            "x.shape  torch.Size([512, 512, 60])\n",
            "latent.shape  torch.Size([512, 64, 15])\n",
            "reconstructed.shape  torch.Size([512, 512, 60])\n",
            "Epoch 12/20\n",
            "loss: 0.1076764315366745\n",
            "\n"
          ]
        },
        {
          "output_type": "stream",
          "name": "stderr",
          "text": [
            "\r 29%|██▉       | 10240/34935 [00:28<01:07, 366.81it/s]"
          ]
        },
        {
          "output_type": "stream",
          "name": "stdout",
          "text": [
            "x.shape  torch.Size([512, 512, 60])\n",
            "latent.shape  torch.Size([512, 64, 15])\n",
            "reconstructed.shape  torch.Size([512, 512, 60])\n",
            "Epoch 12/20\n",
            "loss: 0.10934492945671082\n",
            "\n"
          ]
        },
        {
          "output_type": "stream",
          "name": "stderr",
          "text": [
            "\r 31%|███       | 10752/34935 [00:29<01:05, 367.12it/s]"
          ]
        },
        {
          "output_type": "stream",
          "name": "stdout",
          "text": [
            "x.shape  torch.Size([512, 512, 60])\n",
            "latent.shape  torch.Size([512, 64, 15])\n",
            "reconstructed.shape  torch.Size([512, 512, 60])\n",
            "Epoch 12/20\n",
            "loss: 0.10771937668323517\n",
            "\n"
          ]
        },
        {
          "output_type": "stream",
          "name": "stderr",
          "text": [
            "\r 32%|███▏      | 11264/34935 [00:30<01:03, 371.43it/s]"
          ]
        },
        {
          "output_type": "stream",
          "name": "stdout",
          "text": [
            "x.shape  torch.Size([512, 512, 60])\n",
            "latent.shape  torch.Size([512, 64, 15])\n",
            "reconstructed.shape  torch.Size([512, 512, 60])\n",
            "Epoch 12/20\n",
            "loss: 0.10748898983001709\n",
            "\n"
          ]
        },
        {
          "output_type": "stream",
          "name": "stderr",
          "text": [
            "\r 34%|███▎      | 11776/34935 [00:32<01:02, 370.56it/s]"
          ]
        },
        {
          "output_type": "stream",
          "name": "stdout",
          "text": [
            "x.shape  torch.Size([512, 512, 60])\n",
            "latent.shape  torch.Size([512, 64, 15])\n",
            "reconstructed.shape  torch.Size([512, 512, 60])\n",
            "Epoch 12/20\n",
            "loss: 0.10725587606430054\n",
            "\n"
          ]
        },
        {
          "output_type": "stream",
          "name": "stderr",
          "text": [
            "\r 35%|███▌      | 12288/34935 [00:33<01:00, 372.97it/s]"
          ]
        },
        {
          "output_type": "stream",
          "name": "stdout",
          "text": [
            "x.shape  torch.Size([512, 512, 60])\n",
            "latent.shape  torch.Size([512, 64, 15])\n",
            "reconstructed.shape  torch.Size([512, 512, 60])\n",
            "Epoch 12/20\n",
            "loss: 0.10655982792377472\n",
            "\n"
          ]
        },
        {
          "output_type": "stream",
          "name": "stderr",
          "text": [
            "\r 37%|███▋      | 12800/34935 [00:34<00:58, 376.38it/s]"
          ]
        },
        {
          "output_type": "stream",
          "name": "stdout",
          "text": [
            "x.shape  torch.Size([512, 512, 60])\n",
            "latent.shape  torch.Size([512, 64, 15])\n",
            "reconstructed.shape  torch.Size([512, 512, 60])\n",
            "Epoch 12/20\n",
            "loss: 0.10756152868270874\n",
            "\n"
          ]
        },
        {
          "output_type": "stream",
          "name": "stderr",
          "text": [
            "\r 38%|███▊      | 13312/34935 [00:36<00:57, 374.15it/s]"
          ]
        },
        {
          "output_type": "stream",
          "name": "stdout",
          "text": [
            "x.shape  torch.Size([512, 512, 60])\n",
            "latent.shape  torch.Size([512, 64, 15])\n",
            "reconstructed.shape  torch.Size([512, 512, 60])\n",
            "Epoch 12/20\n",
            "loss: 0.10806054621934891\n",
            "\n"
          ]
        },
        {
          "output_type": "stream",
          "name": "stderr",
          "text": [
            "\r 40%|███▉      | 13824/34935 [00:37<00:56, 370.72it/s]"
          ]
        },
        {
          "output_type": "stream",
          "name": "stdout",
          "text": [
            "x.shape  torch.Size([512, 512, 60])\n",
            "latent.shape  torch.Size([512, 64, 15])\n",
            "reconstructed.shape  torch.Size([512, 512, 60])\n",
            "Epoch 12/20\n",
            "loss: 0.10695000737905502\n",
            "\n"
          ]
        },
        {
          "output_type": "stream",
          "name": "stderr",
          "text": [
            "\r 41%|████      | 14336/34935 [00:38<00:54, 375.99it/s]"
          ]
        },
        {
          "output_type": "stream",
          "name": "stdout",
          "text": [
            "x.shape  torch.Size([512, 512, 60])\n",
            "latent.shape  torch.Size([512, 64, 15])\n",
            "reconstructed.shape  torch.Size([512, 512, 60])\n",
            "Epoch 12/20\n",
            "loss: 0.10694264620542526\n",
            "\n"
          ]
        },
        {
          "output_type": "stream",
          "name": "stderr",
          "text": [
            "\r 43%|████▎     | 14848/34935 [00:40<00:53, 377.80it/s]"
          ]
        },
        {
          "output_type": "stream",
          "name": "stdout",
          "text": [
            "x.shape  torch.Size([512, 512, 60])\n",
            "latent.shape  torch.Size([512, 64, 15])\n",
            "reconstructed.shape  torch.Size([512, 512, 60])\n",
            "Epoch 12/20\n",
            "loss: 0.10826902091503143\n",
            "\n"
          ]
        },
        {
          "output_type": "stream",
          "name": "stderr",
          "text": [
            "\r 44%|████▍     | 15360/34935 [00:41<00:49, 392.42it/s]"
          ]
        },
        {
          "output_type": "stream",
          "name": "stdout",
          "text": [
            "x.shape  torch.Size([512, 512, 60])\n",
            "latent.shape  torch.Size([512, 64, 15])\n",
            "reconstructed.shape  torch.Size([512, 512, 60])\n",
            "Epoch 12/20\n",
            "loss: 0.10677239298820496\n",
            "\n"
          ]
        },
        {
          "output_type": "stream",
          "name": "stderr",
          "text": [
            "\r 45%|████▌     | 15872/34935 [00:42<00:45, 422.78it/s]"
          ]
        },
        {
          "output_type": "stream",
          "name": "stdout",
          "text": [
            "x.shape  torch.Size([512, 512, 60])\n",
            "latent.shape  torch.Size([512, 64, 15])\n",
            "reconstructed.shape  torch.Size([512, 512, 60])\n",
            "Epoch 12/20\n",
            "loss: 0.10774260014295578\n",
            "\n"
          ]
        },
        {
          "output_type": "stream",
          "name": "stderr",
          "text": [
            "\r 47%|████▋     | 16384/34935 [00:43<00:45, 405.89it/s]"
          ]
        },
        {
          "output_type": "stream",
          "name": "stdout",
          "text": [
            "x.shape  torch.Size([512, 512, 60])\n",
            "latent.shape  torch.Size([512, 64, 15])\n",
            "reconstructed.shape  torch.Size([512, 512, 60])\n",
            "Epoch 12/20\n",
            "loss: 0.10599671304225922\n",
            "\n"
          ]
        },
        {
          "output_type": "stream",
          "name": "stderr",
          "text": [
            "\r 48%|████▊     | 16896/34935 [00:45<00:45, 397.04it/s]"
          ]
        },
        {
          "output_type": "stream",
          "name": "stdout",
          "text": [
            "x.shape  torch.Size([512, 512, 60])\n",
            "latent.shape  torch.Size([512, 64, 15])\n",
            "reconstructed.shape  torch.Size([512, 512, 60])\n",
            "Epoch 12/20\n",
            "loss: 0.10711756348609924\n",
            "\n"
          ]
        },
        {
          "output_type": "stream",
          "name": "stderr",
          "text": [
            "\r 50%|████▉     | 17408/34935 [00:46<00:44, 394.82it/s]"
          ]
        },
        {
          "output_type": "stream",
          "name": "stdout",
          "text": [
            "x.shape  torch.Size([512, 512, 60])\n",
            "latent.shape  torch.Size([512, 64, 15])\n",
            "reconstructed.shape  torch.Size([512, 512, 60])\n",
            "Epoch 12/20\n",
            "loss: 0.10705015063285828\n",
            "\n"
          ]
        },
        {
          "output_type": "stream",
          "name": "stderr",
          "text": [
            "\r 51%|█████▏    | 17920/34935 [00:47<00:43, 388.85it/s]"
          ]
        },
        {
          "output_type": "stream",
          "name": "stdout",
          "text": [
            "x.shape  torch.Size([512, 512, 60])\n",
            "latent.shape  torch.Size([512, 64, 15])\n",
            "reconstructed.shape  torch.Size([512, 512, 60])\n",
            "Epoch 12/20\n",
            "loss: 0.1080842837691307\n",
            "\n"
          ]
        },
        {
          "output_type": "stream",
          "name": "stderr",
          "text": [
            "\r 53%|█████▎    | 18432/34935 [00:49<00:42, 390.27it/s]"
          ]
        },
        {
          "output_type": "stream",
          "name": "stdout",
          "text": [
            "x.shape  torch.Size([512, 512, 60])\n",
            "latent.shape  torch.Size([512, 64, 15])\n",
            "reconstructed.shape  torch.Size([512, 512, 60])\n",
            "Epoch 12/20\n",
            "loss: 0.1094253659248352\n",
            "\n"
          ]
        },
        {
          "output_type": "stream",
          "name": "stderr",
          "text": [
            "\r 54%|█████▍    | 18944/34935 [00:50<00:41, 385.85it/s]"
          ]
        },
        {
          "output_type": "stream",
          "name": "stdout",
          "text": [
            "x.shape  torch.Size([512, 512, 60])\n",
            "latent.shape  torch.Size([512, 64, 15])\n",
            "reconstructed.shape  torch.Size([512, 512, 60])\n",
            "Epoch 12/20\n",
            "loss: 0.10556519031524658\n",
            "\n"
          ]
        },
        {
          "output_type": "stream",
          "name": "stderr",
          "text": [
            "\r 56%|█████▌    | 19456/34935 [00:51<00:40, 386.83it/s]"
          ]
        },
        {
          "output_type": "stream",
          "name": "stdout",
          "text": [
            "x.shape  torch.Size([512, 512, 60])\n",
            "latent.shape  torch.Size([512, 64, 15])\n",
            "reconstructed.shape  torch.Size([512, 512, 60])\n",
            "Epoch 12/20\n",
            "loss: 0.10876615345478058\n",
            "\n"
          ]
        },
        {
          "output_type": "stream",
          "name": "stderr",
          "text": [
            "\r 57%|█████▋    | 19968/34935 [00:53<00:38, 384.76it/s]"
          ]
        },
        {
          "output_type": "stream",
          "name": "stdout",
          "text": [
            "x.shape  torch.Size([512, 512, 60])\n",
            "latent.shape  torch.Size([512, 64, 15])\n",
            "reconstructed.shape  torch.Size([512, 512, 60])\n",
            "Epoch 12/20\n",
            "loss: 0.10801377892494202\n",
            "\n"
          ]
        },
        {
          "output_type": "stream",
          "name": "stderr",
          "text": [
            "\r 59%|█████▊    | 20480/34935 [00:54<00:37, 380.90it/s]"
          ]
        },
        {
          "output_type": "stream",
          "name": "stdout",
          "text": [
            "x.shape  torch.Size([512, 512, 60])\n",
            "latent.shape  torch.Size([512, 64, 15])\n",
            "reconstructed.shape  torch.Size([512, 512, 60])\n",
            "Epoch 12/20\n",
            "loss: 0.1080779880285263\n",
            "\n"
          ]
        },
        {
          "output_type": "stream",
          "name": "stderr",
          "text": [
            "\r 60%|██████    | 20992/34935 [00:55<00:36, 381.41it/s]"
          ]
        },
        {
          "output_type": "stream",
          "name": "stdout",
          "text": [
            "x.shape  torch.Size([512, 512, 60])\n",
            "latent.shape  torch.Size([512, 64, 15])\n",
            "reconstructed.shape  torch.Size([512, 512, 60])\n",
            "Epoch 12/20\n",
            "loss: 0.10624095797538757\n",
            "\n"
          ]
        },
        {
          "output_type": "stream",
          "name": "stderr",
          "text": [
            "\r 62%|██████▏   | 21504/34935 [00:57<00:35, 382.67it/s]"
          ]
        },
        {
          "output_type": "stream",
          "name": "stdout",
          "text": [
            "x.shape  torch.Size([512, 512, 60])\n",
            "latent.shape  torch.Size([512, 64, 15])\n",
            "reconstructed.shape  torch.Size([512, 512, 60])\n",
            "Epoch 12/20\n",
            "loss: 0.10838133841753006\n",
            "\n"
          ]
        },
        {
          "output_type": "stream",
          "name": "stderr",
          "text": [
            "\r 63%|██████▎   | 22016/34935 [00:58<00:33, 382.49it/s]"
          ]
        },
        {
          "output_type": "stream",
          "name": "stdout",
          "text": [
            "x.shape  torch.Size([512, 512, 60])\n",
            "latent.shape  torch.Size([512, 64, 15])\n",
            "reconstructed.shape  torch.Size([512, 512, 60])\n",
            "Epoch 12/20\n",
            "loss: 0.10650228708982468\n",
            "\n"
          ]
        },
        {
          "output_type": "stream",
          "name": "stderr",
          "text": [
            "\r 64%|██████▍   | 22528/34935 [00:59<00:32, 385.12it/s]"
          ]
        },
        {
          "output_type": "stream",
          "name": "stdout",
          "text": [
            "x.shape  torch.Size([512, 512, 60])\n",
            "latent.shape  torch.Size([512, 64, 15])\n",
            "reconstructed.shape  torch.Size([512, 512, 60])\n",
            "Epoch 12/20\n",
            "loss: 0.10649275034666061\n",
            "\n"
          ]
        },
        {
          "output_type": "stream",
          "name": "stderr",
          "text": [
            "\r 66%|██████▌   | 23040/34935 [01:01<00:30, 386.05it/s]"
          ]
        },
        {
          "output_type": "stream",
          "name": "stdout",
          "text": [
            "x.shape  torch.Size([512, 512, 60])\n",
            "latent.shape  torch.Size([512, 64, 15])\n",
            "reconstructed.shape  torch.Size([512, 512, 60])\n",
            "Epoch 12/20\n",
            "loss: 0.10718322545289993\n",
            "\n"
          ]
        },
        {
          "output_type": "stream",
          "name": "stderr",
          "text": [
            "\r 67%|██████▋   | 23552/34935 [01:02<00:29, 386.46it/s]"
          ]
        },
        {
          "output_type": "stream",
          "name": "stdout",
          "text": [
            "x.shape  torch.Size([512, 512, 60])\n",
            "latent.shape  torch.Size([512, 64, 15])\n",
            "reconstructed.shape  torch.Size([512, 512, 60])\n",
            "Epoch 12/20\n",
            "loss: 0.10819201916456223\n",
            "\n"
          ]
        },
        {
          "output_type": "stream",
          "name": "stderr",
          "text": [
            "\r 69%|██████▉   | 24064/34935 [01:03<00:28, 382.75it/s]"
          ]
        },
        {
          "output_type": "stream",
          "name": "stdout",
          "text": [
            "x.shape  torch.Size([512, 512, 60])\n",
            "latent.shape  torch.Size([512, 64, 15])\n",
            "reconstructed.shape  torch.Size([512, 512, 60])\n",
            "Epoch 12/20\n",
            "loss: 0.10763312131166458\n",
            "\n"
          ]
        },
        {
          "output_type": "stream",
          "name": "stderr",
          "text": [
            "\r 70%|███████   | 24576/34935 [01:05<00:27, 383.31it/s]"
          ]
        },
        {
          "output_type": "stream",
          "name": "stdout",
          "text": [
            "x.shape  torch.Size([512, 512, 60])\n",
            "latent.shape  torch.Size([512, 64, 15])\n",
            "reconstructed.shape  torch.Size([512, 512, 60])\n",
            "Epoch 12/20\n",
            "loss: 0.10742806643247604\n",
            "\n"
          ]
        },
        {
          "output_type": "stream",
          "name": "stderr",
          "text": [
            "\r 72%|███████▏  | 25088/34935 [01:06<00:25, 384.24it/s]"
          ]
        },
        {
          "output_type": "stream",
          "name": "stdout",
          "text": [
            "x.shape  torch.Size([512, 512, 60])\n",
            "latent.shape  torch.Size([512, 64, 15])\n",
            "reconstructed.shape  torch.Size([512, 512, 60])\n",
            "Epoch 12/20\n",
            "loss: 0.10668937861919403\n",
            "\n"
          ]
        },
        {
          "output_type": "stream",
          "name": "stderr",
          "text": [
            "\r 73%|███████▎  | 25600/34935 [01:07<00:24, 381.81it/s]"
          ]
        },
        {
          "output_type": "stream",
          "name": "stdout",
          "text": [
            "x.shape  torch.Size([512, 512, 60])\n",
            "latent.shape  torch.Size([512, 64, 15])\n",
            "reconstructed.shape  torch.Size([512, 512, 60])\n",
            "Epoch 12/20\n",
            "loss: 0.10746078938245773\n",
            "\n"
          ]
        },
        {
          "output_type": "stream",
          "name": "stderr",
          "text": [
            "\r 75%|███████▍  | 26112/34935 [01:09<00:22, 384.75it/s]"
          ]
        },
        {
          "output_type": "stream",
          "name": "stdout",
          "text": [
            "x.shape  torch.Size([512, 512, 60])\n",
            "latent.shape  torch.Size([512, 64, 15])\n",
            "reconstructed.shape  torch.Size([512, 512, 60])\n",
            "Epoch 12/20\n",
            "loss: 0.10775356739759445\n",
            "\n"
          ]
        },
        {
          "output_type": "stream",
          "name": "stderr",
          "text": [
            "\r 76%|███████▌  | 26624/34935 [01:10<00:21, 382.03it/s]"
          ]
        },
        {
          "output_type": "stream",
          "name": "stdout",
          "text": [
            "x.shape  torch.Size([512, 512, 60])\n",
            "latent.shape  torch.Size([512, 64, 15])\n",
            "reconstructed.shape  torch.Size([512, 512, 60])\n",
            "Epoch 12/20\n",
            "loss: 0.10752967745065689\n",
            "\n"
          ]
        },
        {
          "output_type": "stream",
          "name": "stderr",
          "text": [
            "\r 78%|███████▊  | 27136/34935 [01:11<00:20, 380.81it/s]"
          ]
        },
        {
          "output_type": "stream",
          "name": "stdout",
          "text": [
            "x.shape  torch.Size([512, 512, 60])\n",
            "latent.shape  torch.Size([512, 64, 15])\n",
            "reconstructed.shape  torch.Size([512, 512, 60])\n",
            "Epoch 12/20\n",
            "loss: 0.10895828157663345\n",
            "\n"
          ]
        },
        {
          "output_type": "stream",
          "name": "stderr",
          "text": [
            "\r 79%|███████▉  | 27648/34935 [01:13<00:19, 382.68it/s]"
          ]
        },
        {
          "output_type": "stream",
          "name": "stdout",
          "text": [
            "x.shape  torch.Size([512, 512, 60])\n",
            "latent.shape  torch.Size([512, 64, 15])\n",
            "reconstructed.shape  torch.Size([512, 512, 60])\n",
            "Epoch 12/20\n",
            "loss: 0.10850109905004501\n",
            "\n"
          ]
        },
        {
          "output_type": "stream",
          "name": "stderr",
          "text": [
            "\r 81%|████████  | 28160/34935 [01:14<00:17, 379.59it/s]"
          ]
        },
        {
          "output_type": "stream",
          "name": "stdout",
          "text": [
            "x.shape  torch.Size([512, 512, 60])\n",
            "latent.shape  torch.Size([512, 64, 15])\n",
            "reconstructed.shape  torch.Size([512, 512, 60])\n",
            "Epoch 12/20\n",
            "loss: 0.10709314793348312\n",
            "\n"
          ]
        },
        {
          "output_type": "stream",
          "name": "stderr",
          "text": [
            "\r 82%|████████▏ | 28672/34935 [01:16<00:16, 378.85it/s]"
          ]
        },
        {
          "output_type": "stream",
          "name": "stdout",
          "text": [
            "x.shape  torch.Size([512, 512, 60])\n",
            "latent.shape  torch.Size([512, 64, 15])\n",
            "reconstructed.shape  torch.Size([512, 512, 60])\n",
            "Epoch 12/20\n",
            "loss: 0.10602220147848129\n",
            "\n"
          ]
        },
        {
          "output_type": "stream",
          "name": "stderr",
          "text": [
            "\r 84%|████████▎ | 29184/34935 [01:17<00:15, 379.76it/s]"
          ]
        },
        {
          "output_type": "stream",
          "name": "stdout",
          "text": [
            "x.shape  torch.Size([512, 512, 60])\n",
            "latent.shape  torch.Size([512, 64, 15])\n",
            "reconstructed.shape  torch.Size([512, 512, 60])\n",
            "Epoch 12/20\n",
            "loss: 0.10734868794679642\n",
            "\n"
          ]
        },
        {
          "output_type": "stream",
          "name": "stderr",
          "text": [
            "\r 85%|████████▌ | 29696/34935 [01:18<00:13, 376.97it/s]"
          ]
        },
        {
          "output_type": "stream",
          "name": "stdout",
          "text": [
            "x.shape  torch.Size([512, 512, 60])\n",
            "latent.shape  torch.Size([512, 64, 15])\n",
            "reconstructed.shape  torch.Size([512, 512, 60])\n",
            "Epoch 12/20\n",
            "loss: 0.10722722113132477\n",
            "\n"
          ]
        },
        {
          "output_type": "stream",
          "name": "stderr",
          "text": [
            "\r 86%|████████▋ | 30208/34935 [01:20<00:12, 378.87it/s]"
          ]
        },
        {
          "output_type": "stream",
          "name": "stdout",
          "text": [
            "x.shape  torch.Size([512, 512, 60])\n",
            "latent.shape  torch.Size([512, 64, 15])\n",
            "reconstructed.shape  torch.Size([512, 512, 60])\n",
            "Epoch 12/20\n",
            "loss: 0.10689551383256912\n",
            "\n"
          ]
        },
        {
          "output_type": "stream",
          "name": "stderr",
          "text": [
            "\r 88%|████████▊ | 30720/34935 [01:21<00:11, 376.72it/s]"
          ]
        },
        {
          "output_type": "stream",
          "name": "stdout",
          "text": [
            "x.shape  torch.Size([512, 512, 60])\n",
            "latent.shape  torch.Size([512, 64, 15])\n",
            "reconstructed.shape  torch.Size([512, 512, 60])\n",
            "Epoch 12/20\n",
            "loss: 0.10686759650707245\n",
            "\n"
          ]
        },
        {
          "output_type": "stream",
          "name": "stderr",
          "text": [
            "\r 89%|████████▉ | 31232/34935 [01:22<00:09, 375.98it/s]"
          ]
        },
        {
          "output_type": "stream",
          "name": "stdout",
          "text": [
            "x.shape  torch.Size([512, 512, 60])\n",
            "latent.shape  torch.Size([512, 64, 15])\n",
            "reconstructed.shape  torch.Size([512, 512, 60])\n",
            "Epoch 12/20\n",
            "loss: 0.1073547750711441\n",
            "\n"
          ]
        },
        {
          "output_type": "stream",
          "name": "stderr",
          "text": [
            "\r 91%|█████████ | 31744/34935 [01:24<00:08, 374.44it/s]"
          ]
        },
        {
          "output_type": "stream",
          "name": "stdout",
          "text": [
            "x.shape  torch.Size([512, 512, 60])\n",
            "latent.shape  torch.Size([512, 64, 15])\n",
            "reconstructed.shape  torch.Size([512, 512, 60])\n",
            "Epoch 12/20\n",
            "loss: 0.10848381370306015\n",
            "\n"
          ]
        },
        {
          "output_type": "stream",
          "name": "stderr",
          "text": [
            "\r 92%|█████████▏| 32256/34935 [01:25<00:07, 373.39it/s]"
          ]
        },
        {
          "output_type": "stream",
          "name": "stdout",
          "text": [
            "x.shape  torch.Size([512, 512, 60])\n",
            "latent.shape  torch.Size([512, 64, 15])\n",
            "reconstructed.shape  torch.Size([512, 512, 60])\n",
            "Epoch 12/20\n",
            "loss: 0.10774125158786774\n",
            "\n"
          ]
        },
        {
          "output_type": "stream",
          "name": "stderr",
          "text": [
            "\r 94%|█████████▍| 32768/34935 [01:26<00:05, 375.42it/s]"
          ]
        },
        {
          "output_type": "stream",
          "name": "stdout",
          "text": [
            "x.shape  torch.Size([512, 512, 60])\n",
            "latent.shape  torch.Size([512, 64, 15])\n",
            "reconstructed.shape  torch.Size([512, 512, 60])\n",
            "Epoch 12/20\n",
            "loss: 0.10595642775297165\n",
            "\n"
          ]
        },
        {
          "output_type": "stream",
          "name": "stderr",
          "text": [
            "\r 95%|█████████▌| 33280/34935 [01:28<00:04, 376.01it/s]"
          ]
        },
        {
          "output_type": "stream",
          "name": "stdout",
          "text": [
            "x.shape  torch.Size([512, 512, 60])\n",
            "latent.shape  torch.Size([512, 64, 15])\n",
            "reconstructed.shape  torch.Size([512, 512, 60])\n",
            "Epoch 12/20\n",
            "loss: 0.1085275337100029\n",
            "\n"
          ]
        },
        {
          "output_type": "stream",
          "name": "stderr",
          "text": [
            "\r 97%|█████████▋| 33792/34935 [01:29<00:03, 375.42it/s]"
          ]
        },
        {
          "output_type": "stream",
          "name": "stdout",
          "text": [
            "x.shape  torch.Size([512, 512, 60])\n",
            "latent.shape  torch.Size([512, 64, 15])\n",
            "reconstructed.shape  torch.Size([512, 512, 60])\n",
            "Epoch 12/20\n",
            "loss: 0.1093754991889\n",
            "\n"
          ]
        },
        {
          "output_type": "stream",
          "name": "stderr",
          "text": [
            "\r 98%|█████████▊| 34304/34935 [01:31<00:01, 375.66it/s]"
          ]
        },
        {
          "output_type": "stream",
          "name": "stdout",
          "text": [
            "x.shape  torch.Size([512, 512, 60])\n",
            "latent.shape  torch.Size([512, 64, 15])\n",
            "reconstructed.shape  torch.Size([512, 512, 60])\n",
            "Epoch 12/20\n",
            "loss: 0.10936052352190018\n",
            "\n"
          ]
        },
        {
          "output_type": "stream",
          "name": "stderr",
          "text": [
            "100%|██████████| 34935/34935 [01:32<00:00, 378.21it/s]"
          ]
        },
        {
          "output_type": "stream",
          "name": "stdout",
          "text": [
            "x.shape  torch.Size([512, 512, 60])\n",
            "latent.shape  torch.Size([512, 64, 15])\n",
            "reconstructed.shape  torch.Size([512, 512, 60])\n",
            "Epoch 12/20\n",
            "loss: 0.10833462327718735\n",
            "\n"
          ]
        },
        {
          "output_type": "stream",
          "name": "stderr",
          "text": [
            "\n"
          ]
        },
        {
          "output_type": "stream",
          "name": "stdout",
          "text": [
            "x.shape  torch.Size([119, 512, 60])\n",
            "latent.shape  torch.Size([119, 64, 15])\n",
            "reconstructed.shape  torch.Size([119, 512, 60])\n",
            "Epoch 12/20\n",
            "loss: 0.10478068888187408\n",
            "\n"
          ]
        },
        {
          "output_type": "stream",
          "name": "stderr",
          "text": [
            "  1%|▏         | 512/34935 [00:01<01:33, 368.79it/s]"
          ]
        },
        {
          "output_type": "stream",
          "name": "stdout",
          "text": [
            "x.shape  torch.Size([512, 512, 60])\n",
            "latent.shape  torch.Size([512, 64, 15])\n",
            "reconstructed.shape  torch.Size([512, 512, 60])\n",
            "Epoch 13/20\n",
            "loss: 0.10722329467535019\n",
            "\n"
          ]
        },
        {
          "output_type": "stream",
          "name": "stderr",
          "text": [
            "\r  3%|▎         | 1024/34935 [00:02<01:31, 370.61it/s]"
          ]
        },
        {
          "output_type": "stream",
          "name": "stdout",
          "text": [
            "x.shape  torch.Size([512, 512, 60])\n",
            "latent.shape  torch.Size([512, 64, 15])\n",
            "reconstructed.shape  torch.Size([512, 512, 60])\n",
            "Epoch 13/20\n",
            "loss: 0.10866125673055649\n",
            "\n"
          ]
        },
        {
          "output_type": "stream",
          "name": "stderr",
          "text": [
            "\r  4%|▍         | 1536/34935 [00:04<01:32, 360.06it/s]"
          ]
        },
        {
          "output_type": "stream",
          "name": "stdout",
          "text": [
            "x.shape  torch.Size([512, 512, 60])\n",
            "latent.shape  torch.Size([512, 64, 15])\n",
            "reconstructed.shape  torch.Size([512, 512, 60])\n",
            "Epoch 13/20\n",
            "loss: 0.106287881731987\n",
            "\n"
          ]
        },
        {
          "output_type": "stream",
          "name": "stderr",
          "text": [
            "\r  6%|▌         | 2048/34935 [00:05<01:30, 361.54it/s]"
          ]
        },
        {
          "output_type": "stream",
          "name": "stdout",
          "text": [
            "x.shape  torch.Size([512, 512, 60])\n",
            "latent.shape  torch.Size([512, 64, 15])\n",
            "reconstructed.shape  torch.Size([512, 512, 60])\n",
            "Epoch 13/20\n",
            "loss: 0.10821202397346497\n",
            "\n"
          ]
        },
        {
          "output_type": "stream",
          "name": "stderr",
          "text": [
            "\r  7%|▋         | 2560/34935 [00:06<01:28, 367.46it/s]"
          ]
        },
        {
          "output_type": "stream",
          "name": "stdout",
          "text": [
            "x.shape  torch.Size([512, 512, 60])\n",
            "latent.shape  torch.Size([512, 64, 15])\n",
            "reconstructed.shape  torch.Size([512, 512, 60])\n",
            "Epoch 13/20\n",
            "loss: 0.10828045010566711\n",
            "\n"
          ]
        },
        {
          "output_type": "stream",
          "name": "stderr",
          "text": [
            "\r  9%|▉         | 3072/34935 [00:08<01:26, 370.40it/s]"
          ]
        },
        {
          "output_type": "stream",
          "name": "stdout",
          "text": [
            "x.shape  torch.Size([512, 512, 60])\n",
            "latent.shape  torch.Size([512, 64, 15])\n",
            "reconstructed.shape  torch.Size([512, 512, 60])\n",
            "Epoch 13/20\n",
            "loss: 0.10848157107830048\n",
            "\n"
          ]
        },
        {
          "output_type": "stream",
          "name": "stderr",
          "text": [
            "\r 10%|█         | 3584/34935 [00:09<01:24, 369.37it/s]"
          ]
        },
        {
          "output_type": "stream",
          "name": "stdout",
          "text": [
            "x.shape  torch.Size([512, 512, 60])\n",
            "latent.shape  torch.Size([512, 64, 15])\n",
            "reconstructed.shape  torch.Size([512, 512, 60])\n",
            "Epoch 13/20\n",
            "loss: 0.10684221237897873\n",
            "\n"
          ]
        },
        {
          "output_type": "stream",
          "name": "stderr",
          "text": [
            "\r 12%|█▏        | 4096/34935 [00:11<01:23, 369.52it/s]"
          ]
        },
        {
          "output_type": "stream",
          "name": "stdout",
          "text": [
            "x.shape  torch.Size([512, 512, 60])\n",
            "latent.shape  torch.Size([512, 64, 15])\n",
            "reconstructed.shape  torch.Size([512, 512, 60])\n",
            "Epoch 13/20\n",
            "loss: 0.10809023678302765\n",
            "\n"
          ]
        },
        {
          "output_type": "stream",
          "name": "stderr",
          "text": [
            "\r 13%|█▎        | 4608/34935 [00:12<01:22, 367.34it/s]"
          ]
        },
        {
          "output_type": "stream",
          "name": "stdout",
          "text": [
            "x.shape  torch.Size([512, 512, 60])\n",
            "latent.shape  torch.Size([512, 64, 15])\n",
            "reconstructed.shape  torch.Size([512, 512, 60])\n",
            "Epoch 13/20\n",
            "loss: 0.10692362487316132\n",
            "\n"
          ]
        },
        {
          "output_type": "stream",
          "name": "stderr",
          "text": [
            "\r 15%|█▍        | 5120/34935 [00:13<01:21, 367.32it/s]"
          ]
        },
        {
          "output_type": "stream",
          "name": "stdout",
          "text": [
            "x.shape  torch.Size([512, 512, 60])\n",
            "latent.shape  torch.Size([512, 64, 15])\n",
            "reconstructed.shape  torch.Size([512, 512, 60])\n",
            "Epoch 13/20\n",
            "loss: 0.10833969712257385\n",
            "\n"
          ]
        },
        {
          "output_type": "stream",
          "name": "stderr",
          "text": [
            "\r 16%|█▌        | 5632/34935 [00:15<01:18, 372.05it/s]"
          ]
        },
        {
          "output_type": "stream",
          "name": "stdout",
          "text": [
            "x.shape  torch.Size([512, 512, 60])\n",
            "latent.shape  torch.Size([512, 64, 15])\n",
            "reconstructed.shape  torch.Size([512, 512, 60])\n",
            "Epoch 13/20\n",
            "loss: 0.10856488347053528\n",
            "\n"
          ]
        },
        {
          "output_type": "stream",
          "name": "stderr",
          "text": [
            "\r 18%|█▊        | 6144/34935 [00:16<01:16, 374.76it/s]"
          ]
        },
        {
          "output_type": "stream",
          "name": "stdout",
          "text": [
            "x.shape  torch.Size([512, 512, 60])\n",
            "latent.shape  torch.Size([512, 64, 15])\n",
            "reconstructed.shape  torch.Size([512, 512, 60])\n",
            "Epoch 13/20\n",
            "loss: 0.10671146214008331\n",
            "\n"
          ]
        },
        {
          "output_type": "stream",
          "name": "stderr",
          "text": [
            "\r 19%|█▉        | 6656/34935 [00:18<01:16, 367.96it/s]"
          ]
        },
        {
          "output_type": "stream",
          "name": "stdout",
          "text": [
            "x.shape  torch.Size([512, 512, 60])\n",
            "latent.shape  torch.Size([512, 64, 15])\n",
            "reconstructed.shape  torch.Size([512, 512, 60])\n",
            "Epoch 13/20\n",
            "loss: 0.10479658842086792\n",
            "\n"
          ]
        },
        {
          "output_type": "stream",
          "name": "stderr",
          "text": [
            "\r 21%|██        | 7168/34935 [00:19<01:15, 367.16it/s]"
          ]
        },
        {
          "output_type": "stream",
          "name": "stdout",
          "text": [
            "x.shape  torch.Size([512, 512, 60])\n",
            "latent.shape  torch.Size([512, 64, 15])\n",
            "reconstructed.shape  torch.Size([512, 512, 60])\n",
            "Epoch 13/20\n",
            "loss: 0.10707966983318329\n",
            "\n",
            "x.shape  torch.Size([512, 512, 60])\n",
            "latent.shape  torch.Size([512, 64, 15])\n",
            "reconstructed.shape  torch.Size([512, 512, 60])\n",
            "Epoch 13/20\n"
          ]
        },
        {
          "output_type": "stream",
          "name": "stderr",
          "text": [
            "\r 22%|██▏       | 7680/34935 [00:20<01:15, 360.54it/s]"
          ]
        },
        {
          "output_type": "stream",
          "name": "stdout",
          "text": [
            "loss: 0.10849560797214508\n",
            "\n"
          ]
        },
        {
          "output_type": "stream",
          "name": "stderr",
          "text": [
            "\r 23%|██▎       | 8192/34935 [00:22<01:14, 360.80it/s]"
          ]
        },
        {
          "output_type": "stream",
          "name": "stdout",
          "text": [
            "x.shape  torch.Size([512, 512, 60])\n",
            "latent.shape  torch.Size([512, 64, 15])\n",
            "reconstructed.shape  torch.Size([512, 512, 60])\n",
            "Epoch 13/20\n",
            "loss: 0.1061679795384407\n",
            "\n"
          ]
        },
        {
          "output_type": "stream",
          "name": "stderr",
          "text": [
            "\r 25%|██▍       | 8704/34935 [00:23<01:11, 364.77it/s]"
          ]
        },
        {
          "output_type": "stream",
          "name": "stdout",
          "text": [
            "x.shape  torch.Size([512, 512, 60])\n",
            "latent.shape  torch.Size([512, 64, 15])\n",
            "reconstructed.shape  torch.Size([512, 512, 60])\n",
            "Epoch 13/20\n",
            "loss: 0.10654186457395554\n",
            "\n"
          ]
        },
        {
          "output_type": "stream",
          "name": "stderr",
          "text": [
            "\r 26%|██▋       | 9216/34935 [00:25<01:09, 369.56it/s]"
          ]
        },
        {
          "output_type": "stream",
          "name": "stdout",
          "text": [
            "x.shape  torch.Size([512, 512, 60])\n",
            "latent.shape  torch.Size([512, 64, 15])\n",
            "reconstructed.shape  torch.Size([512, 512, 60])\n",
            "Epoch 13/20\n",
            "loss: 0.10784323513507843\n",
            "\n"
          ]
        },
        {
          "output_type": "stream",
          "name": "stderr",
          "text": [
            "\r 28%|██▊       | 9728/34935 [00:26<01:08, 370.18it/s]"
          ]
        },
        {
          "output_type": "stream",
          "name": "stdout",
          "text": [
            "x.shape  torch.Size([512, 512, 60])\n",
            "latent.shape  torch.Size([512, 64, 15])\n",
            "reconstructed.shape  torch.Size([512, 512, 60])\n",
            "Epoch 13/20\n",
            "loss: 0.10706008970737457\n",
            "\n"
          ]
        },
        {
          "output_type": "stream",
          "name": "stderr",
          "text": [
            "\r 29%|██▉       | 10240/34935 [00:27<01:06, 370.58it/s]"
          ]
        },
        {
          "output_type": "stream",
          "name": "stdout",
          "text": [
            "x.shape  torch.Size([512, 512, 60])\n",
            "latent.shape  torch.Size([512, 64, 15])\n",
            "reconstructed.shape  torch.Size([512, 512, 60])\n",
            "Epoch 13/20\n",
            "loss: 0.10872035473585129\n",
            "\n"
          ]
        },
        {
          "output_type": "stream",
          "name": "stderr",
          "text": [
            "\r 31%|███       | 10752/34935 [00:29<01:05, 368.86it/s]"
          ]
        },
        {
          "output_type": "stream",
          "name": "stdout",
          "text": [
            "x.shape  torch.Size([512, 512, 60])\n",
            "latent.shape  torch.Size([512, 64, 15])\n",
            "reconstructed.shape  torch.Size([512, 512, 60])\n",
            "Epoch 13/20\n",
            "loss: 0.10707926005125046\n",
            "\n"
          ]
        },
        {
          "output_type": "stream",
          "name": "stderr",
          "text": [
            "\r 32%|███▏      | 11264/34935 [00:30<01:03, 371.59it/s]"
          ]
        },
        {
          "output_type": "stream",
          "name": "stdout",
          "text": [
            "x.shape  torch.Size([512, 512, 60])\n",
            "latent.shape  torch.Size([512, 64, 15])\n",
            "reconstructed.shape  torch.Size([512, 512, 60])\n",
            "Epoch 13/20\n",
            "loss: 0.1068347692489624\n",
            "\n"
          ]
        },
        {
          "output_type": "stream",
          "name": "stderr",
          "text": [
            "\r 34%|███▎      | 11776/34935 [00:32<01:02, 369.05it/s]"
          ]
        },
        {
          "output_type": "stream",
          "name": "stdout",
          "text": [
            "x.shape  torch.Size([512, 512, 60])\n",
            "latent.shape  torch.Size([512, 64, 15])\n",
            "reconstructed.shape  torch.Size([512, 512, 60])\n",
            "Epoch 13/20\n",
            "loss: 0.10661341995000839\n",
            "\n"
          ]
        },
        {
          "output_type": "stream",
          "name": "stderr",
          "text": [
            "\r 35%|███▌      | 12288/34935 [00:33<01:01, 369.84it/s]"
          ]
        },
        {
          "output_type": "stream",
          "name": "stdout",
          "text": [
            "x.shape  torch.Size([512, 512, 60])\n",
            "latent.shape  torch.Size([512, 64, 15])\n",
            "reconstructed.shape  torch.Size([512, 512, 60])\n",
            "Epoch 13/20\n",
            "loss: 0.10593726485967636\n",
            "\n"
          ]
        },
        {
          "output_type": "stream",
          "name": "stderr",
          "text": [
            "\r 37%|███▋      | 12800/34935 [00:34<00:59, 369.70it/s]"
          ]
        },
        {
          "output_type": "stream",
          "name": "stdout",
          "text": [
            "x.shape  torch.Size([512, 512, 60])\n",
            "latent.shape  torch.Size([512, 64, 15])\n",
            "reconstructed.shape  torch.Size([512, 512, 60])\n",
            "Epoch 13/20\n",
            "loss: 0.10683497041463852\n",
            "\n"
          ]
        },
        {
          "output_type": "stream",
          "name": "stderr",
          "text": [
            "\r 38%|███▊      | 13312/34935 [00:36<00:59, 366.07it/s]"
          ]
        },
        {
          "output_type": "stream",
          "name": "stdout",
          "text": [
            "x.shape  torch.Size([512, 512, 60])\n",
            "latent.shape  torch.Size([512, 64, 15])\n",
            "reconstructed.shape  torch.Size([512, 512, 60])\n",
            "Epoch 13/20\n",
            "loss: 0.10739044100046158\n",
            "\n"
          ]
        },
        {
          "output_type": "stream",
          "name": "stderr",
          "text": [
            "\r 40%|███▉      | 13824/34935 [00:37<00:58, 360.07it/s]"
          ]
        },
        {
          "output_type": "stream",
          "name": "stdout",
          "text": [
            "x.shape  torch.Size([512, 512, 60])\n",
            "latent.shape  torch.Size([512, 64, 15])\n",
            "reconstructed.shape  torch.Size([512, 512, 60])\n",
            "Epoch 13/20\n",
            "loss: 0.10629459470510483\n",
            "\n"
          ]
        },
        {
          "output_type": "stream",
          "name": "stderr",
          "text": [
            "\r 41%|████      | 14336/34935 [00:39<00:56, 364.36it/s]"
          ]
        },
        {
          "output_type": "stream",
          "name": "stdout",
          "text": [
            "x.shape  torch.Size([512, 512, 60])\n",
            "latent.shape  torch.Size([512, 64, 15])\n",
            "reconstructed.shape  torch.Size([512, 512, 60])\n",
            "Epoch 13/20\n",
            "loss: 0.10628453642129898\n",
            "\n"
          ]
        },
        {
          "output_type": "stream",
          "name": "stderr",
          "text": [
            "\r 43%|████▎     | 14848/34935 [00:40<00:55, 363.86it/s]"
          ]
        },
        {
          "output_type": "stream",
          "name": "stdout",
          "text": [
            "x.shape  torch.Size([512, 512, 60])\n",
            "latent.shape  torch.Size([512, 64, 15])\n",
            "reconstructed.shape  torch.Size([512, 512, 60])\n",
            "Epoch 13/20\n",
            "loss: 0.1075686663389206\n",
            "\n"
          ]
        },
        {
          "output_type": "stream",
          "name": "stderr",
          "text": [
            "\r 44%|████▍     | 15360/34935 [00:41<00:51, 377.56it/s]"
          ]
        },
        {
          "output_type": "stream",
          "name": "stdout",
          "text": [
            "x.shape  torch.Size([512, 512, 60])\n",
            "latent.shape  torch.Size([512, 64, 15])\n",
            "reconstructed.shape  torch.Size([512, 512, 60])\n",
            "Epoch 13/20\n",
            "loss: 0.10602709650993347\n",
            "\n"
          ]
        },
        {
          "output_type": "stream",
          "name": "stderr",
          "text": [
            "\r 45%|████▌     | 15872/34935 [00:42<00:46, 406.43it/s]"
          ]
        },
        {
          "output_type": "stream",
          "name": "stdout",
          "text": [
            "x.shape  torch.Size([512, 512, 60])\n",
            "latent.shape  torch.Size([512, 64, 15])\n",
            "reconstructed.shape  torch.Size([512, 512, 60])\n",
            "Epoch 13/20\n",
            "loss: 0.10707801580429077\n",
            "\n"
          ]
        },
        {
          "output_type": "stream",
          "name": "stderr",
          "text": [
            "\r 47%|████▋     | 16384/34935 [00:44<00:47, 391.50it/s]"
          ]
        },
        {
          "output_type": "stream",
          "name": "stdout",
          "text": [
            "x.shape  torch.Size([512, 512, 60])\n",
            "latent.shape  torch.Size([512, 64, 15])\n",
            "reconstructed.shape  torch.Size([512, 512, 60])\n",
            "Epoch 13/20\n",
            "loss: 0.10521357506513596\n",
            "\n"
          ]
        },
        {
          "output_type": "stream",
          "name": "stderr",
          "text": [
            "\r 48%|████▊     | 16896/34935 [00:45<00:47, 382.47it/s]"
          ]
        },
        {
          "output_type": "stream",
          "name": "stdout",
          "text": [
            "x.shape  torch.Size([512, 512, 60])\n",
            "latent.shape  torch.Size([512, 64, 15])\n",
            "reconstructed.shape  torch.Size([512, 512, 60])\n",
            "Epoch 13/20\n",
            "loss: 0.10645972192287445\n",
            "\n"
          ]
        },
        {
          "output_type": "stream",
          "name": "stderr",
          "text": [
            "\r 50%|████▉     | 17408/34935 [00:46<00:46, 378.38it/s]"
          ]
        },
        {
          "output_type": "stream",
          "name": "stdout",
          "text": [
            "x.shape  torch.Size([512, 512, 60])\n",
            "latent.shape  torch.Size([512, 64, 15])\n",
            "reconstructed.shape  torch.Size([512, 512, 60])\n",
            "Epoch 13/20\n",
            "loss: 0.10643140226602554\n",
            "\n"
          ]
        },
        {
          "output_type": "stream",
          "name": "stderr",
          "text": [
            "\r 51%|█████▏    | 17920/34935 [00:48<00:45, 376.09it/s]"
          ]
        },
        {
          "output_type": "stream",
          "name": "stdout",
          "text": [
            "x.shape  torch.Size([512, 512, 60])\n",
            "latent.shape  torch.Size([512, 64, 15])\n",
            "reconstructed.shape  torch.Size([512, 512, 60])\n",
            "Epoch 13/20\n",
            "loss: 0.1073622778058052\n",
            "\n"
          ]
        },
        {
          "output_type": "stream",
          "name": "stderr",
          "text": [
            "\r 53%|█████▎    | 18432/34935 [00:49<00:43, 376.66it/s]"
          ]
        },
        {
          "output_type": "stream",
          "name": "stdout",
          "text": [
            "x.shape  torch.Size([512, 512, 60])\n",
            "latent.shape  torch.Size([512, 64, 15])\n",
            "reconstructed.shape  torch.Size([512, 512, 60])\n",
            "Epoch 13/20\n",
            "loss: 0.1086326315999031\n",
            "\n"
          ]
        },
        {
          "output_type": "stream",
          "name": "stderr",
          "text": [
            "\r 54%|█████▍    | 18944/34935 [00:51<00:42, 379.14it/s]"
          ]
        },
        {
          "output_type": "stream",
          "name": "stdout",
          "text": [
            "x.shape  torch.Size([512, 512, 60])\n",
            "latent.shape  torch.Size([512, 64, 15])\n",
            "reconstructed.shape  torch.Size([512, 512, 60])\n",
            "Epoch 13/20\n",
            "loss: 0.10477420687675476\n",
            "\n"
          ]
        },
        {
          "output_type": "stream",
          "name": "stderr",
          "text": [
            "\r 56%|█████▌    | 19456/34935 [00:52<00:40, 382.85it/s]"
          ]
        },
        {
          "output_type": "stream",
          "name": "stdout",
          "text": [
            "x.shape  torch.Size([512, 512, 60])\n",
            "latent.shape  torch.Size([512, 64, 15])\n",
            "reconstructed.shape  torch.Size([512, 512, 60])\n",
            "Epoch 13/20\n",
            "loss: 0.10789965838193893\n",
            "\n"
          ]
        },
        {
          "output_type": "stream",
          "name": "stderr",
          "text": [
            "\r 57%|█████▋    | 19968/34935 [00:53<00:39, 378.90it/s]"
          ]
        },
        {
          "output_type": "stream",
          "name": "stdout",
          "text": [
            "x.shape  torch.Size([512, 512, 60])\n",
            "latent.shape  torch.Size([512, 64, 15])\n",
            "reconstructed.shape  torch.Size([512, 512, 60])\n",
            "Epoch 13/20\n",
            "loss: 0.1071847602725029\n",
            "\n"
          ]
        },
        {
          "output_type": "stream",
          "name": "stderr",
          "text": [
            "\r 59%|█████▊    | 20480/34935 [00:55<00:38, 377.04it/s]"
          ]
        },
        {
          "output_type": "stream",
          "name": "stdout",
          "text": [
            "x.shape  torch.Size([512, 512, 60])\n",
            "latent.shape  torch.Size([512, 64, 15])\n",
            "reconstructed.shape  torch.Size([512, 512, 60])\n",
            "Epoch 13/20\n",
            "loss: 0.10730823129415512\n",
            "\n"
          ]
        },
        {
          "output_type": "stream",
          "name": "stderr",
          "text": [
            "\r 60%|██████    | 20992/34935 [00:56<00:37, 372.52it/s]"
          ]
        },
        {
          "output_type": "stream",
          "name": "stdout",
          "text": [
            "x.shape  torch.Size([512, 512, 60])\n",
            "latent.shape  torch.Size([512, 64, 15])\n",
            "reconstructed.shape  torch.Size([512, 512, 60])\n",
            "Epoch 13/20\n",
            "loss: 0.10547815263271332\n",
            "\n"
          ]
        },
        {
          "output_type": "stream",
          "name": "stderr",
          "text": [
            "\r 62%|██████▏   | 21504/34935 [00:57<00:36, 372.30it/s]"
          ]
        },
        {
          "output_type": "stream",
          "name": "stdout",
          "text": [
            "x.shape  torch.Size([512, 512, 60])\n",
            "latent.shape  torch.Size([512, 64, 15])\n",
            "reconstructed.shape  torch.Size([512, 512, 60])\n",
            "Epoch 13/20\n",
            "loss: 0.1075422465801239\n",
            "\n"
          ]
        },
        {
          "output_type": "stream",
          "name": "stderr",
          "text": [
            "\r 63%|██████▎   | 22016/34935 [00:59<00:34, 372.44it/s]"
          ]
        },
        {
          "output_type": "stream",
          "name": "stdout",
          "text": [
            "x.shape  torch.Size([512, 512, 60])\n",
            "latent.shape  torch.Size([512, 64, 15])\n",
            "reconstructed.shape  torch.Size([512, 512, 60])\n",
            "Epoch 13/20\n",
            "loss: 0.10568832606077194\n",
            "\n"
          ]
        },
        {
          "output_type": "stream",
          "name": "stderr",
          "text": [
            "\r 64%|██████▍   | 22528/34935 [01:00<00:33, 374.05it/s]"
          ]
        },
        {
          "output_type": "stream",
          "name": "stdout",
          "text": [
            "x.shape  torch.Size([512, 512, 60])\n",
            "latent.shape  torch.Size([512, 64, 15])\n",
            "reconstructed.shape  torch.Size([512, 512, 60])\n",
            "Epoch 13/20\n",
            "loss: 0.10573633015155792\n",
            "\n"
          ]
        },
        {
          "output_type": "stream",
          "name": "stderr",
          "text": [
            "\r 66%|██████▌   | 23040/34935 [01:01<00:31, 374.48it/s]"
          ]
        },
        {
          "output_type": "stream",
          "name": "stdout",
          "text": [
            "x.shape  torch.Size([512, 512, 60])\n",
            "latent.shape  torch.Size([512, 64, 15])\n",
            "reconstructed.shape  torch.Size([512, 512, 60])\n",
            "Epoch 13/20\n",
            "loss: 0.10637783259153366\n",
            "\n"
          ]
        },
        {
          "output_type": "stream",
          "name": "stderr",
          "text": [
            "\r 67%|██████▋   | 23552/34935 [01:03<00:30, 374.41it/s]"
          ]
        },
        {
          "output_type": "stream",
          "name": "stdout",
          "text": [
            "x.shape  torch.Size([512, 512, 60])\n",
            "latent.shape  torch.Size([512, 64, 15])\n",
            "reconstructed.shape  torch.Size([512, 512, 60])\n",
            "Epoch 13/20\n",
            "loss: 0.10724743455648422\n",
            "\n"
          ]
        },
        {
          "output_type": "stream",
          "name": "stderr",
          "text": [
            "\r 69%|██████▉   | 24064/34935 [01:04<00:29, 368.21it/s]"
          ]
        },
        {
          "output_type": "stream",
          "name": "stdout",
          "text": [
            "x.shape  torch.Size([512, 512, 60])\n",
            "latent.shape  torch.Size([512, 64, 15])\n",
            "reconstructed.shape  torch.Size([512, 512, 60])\n",
            "Epoch 13/20\n",
            "loss: 0.10684742778539658\n",
            "\n"
          ]
        },
        {
          "output_type": "stream",
          "name": "stderr",
          "text": [
            "\r 70%|███████   | 24576/34935 [01:06<00:27, 373.68it/s]"
          ]
        },
        {
          "output_type": "stream",
          "name": "stdout",
          "text": [
            "x.shape  torch.Size([512, 512, 60])\n",
            "latent.shape  torch.Size([512, 64, 15])\n",
            "reconstructed.shape  torch.Size([512, 512, 60])\n",
            "Epoch 13/20\n",
            "loss: 0.10653623938560486\n",
            "\n"
          ]
        },
        {
          "output_type": "stream",
          "name": "stderr",
          "text": [
            "\r 72%|███████▏  | 25088/34935 [01:07<00:26, 375.02it/s]"
          ]
        },
        {
          "output_type": "stream",
          "name": "stdout",
          "text": [
            "x.shape  torch.Size([512, 512, 60])\n",
            "latent.shape  torch.Size([512, 64, 15])\n",
            "reconstructed.shape  torch.Size([512, 512, 60])\n",
            "Epoch 13/20\n",
            "loss: 0.10584366321563721\n",
            "\n"
          ]
        },
        {
          "output_type": "stream",
          "name": "stderr",
          "text": [
            "\r 73%|███████▎  | 25600/34935 [01:08<00:24, 378.71it/s]"
          ]
        },
        {
          "output_type": "stream",
          "name": "stdout",
          "text": [
            "x.shape  torch.Size([512, 512, 60])\n",
            "latent.shape  torch.Size([512, 64, 15])\n",
            "reconstructed.shape  torch.Size([512, 512, 60])\n",
            "Epoch 13/20\n",
            "loss: 0.10681761801242828\n",
            "\n"
          ]
        },
        {
          "output_type": "stream",
          "name": "stderr",
          "text": [
            "\r 75%|███████▍  | 26112/34935 [01:10<00:23, 374.51it/s]"
          ]
        },
        {
          "output_type": "stream",
          "name": "stdout",
          "text": [
            "x.shape  torch.Size([512, 512, 60])\n",
            "latent.shape  torch.Size([512, 64, 15])\n",
            "reconstructed.shape  torch.Size([512, 512, 60])\n",
            "Epoch 13/20\n",
            "loss: 0.10686496645212173\n",
            "\n"
          ]
        },
        {
          "output_type": "stream",
          "name": "stderr",
          "text": [
            "\r 76%|███████▌  | 26624/34935 [01:11<00:22, 374.56it/s]"
          ]
        },
        {
          "output_type": "stream",
          "name": "stdout",
          "text": [
            "x.shape  torch.Size([512, 512, 60])\n",
            "latent.shape  torch.Size([512, 64, 15])\n",
            "reconstructed.shape  torch.Size([512, 512, 60])\n",
            "Epoch 13/20\n",
            "loss: 0.10669005662202835\n",
            "\n"
          ]
        },
        {
          "output_type": "stream",
          "name": "stderr",
          "text": [
            "\r 78%|███████▊  | 27136/34935 [01:12<00:20, 374.52it/s]"
          ]
        },
        {
          "output_type": "stream",
          "name": "stdout",
          "text": [
            "x.shape  torch.Size([512, 512, 60])\n",
            "latent.shape  torch.Size([512, 64, 15])\n",
            "reconstructed.shape  torch.Size([512, 512, 60])\n",
            "Epoch 13/20\n",
            "loss: 0.10802678018808365\n",
            "\n"
          ]
        },
        {
          "output_type": "stream",
          "name": "stderr",
          "text": [
            "\r 79%|███████▉  | 27648/34935 [01:14<00:19, 378.67it/s]"
          ]
        },
        {
          "output_type": "stream",
          "name": "stdout",
          "text": [
            "x.shape  torch.Size([512, 512, 60])\n",
            "latent.shape  torch.Size([512, 64, 15])\n",
            "reconstructed.shape  torch.Size([512, 512, 60])\n",
            "Epoch 13/20\n",
            "loss: 0.10743509232997894\n",
            "\n"
          ]
        },
        {
          "output_type": "stream",
          "name": "stderr",
          "text": [
            "\r 81%|████████  | 28160/34935 [01:15<00:18, 373.92it/s]"
          ]
        },
        {
          "output_type": "stream",
          "name": "stdout",
          "text": [
            "x.shape  torch.Size([512, 512, 60])\n",
            "latent.shape  torch.Size([512, 64, 15])\n",
            "reconstructed.shape  torch.Size([512, 512, 60])\n",
            "Epoch 13/20\n",
            "loss: 0.10613296926021576\n",
            "\n"
          ]
        },
        {
          "output_type": "stream",
          "name": "stderr",
          "text": [
            "\r 82%|████████▏ | 28672/34935 [01:16<00:16, 375.90it/s]"
          ]
        },
        {
          "output_type": "stream",
          "name": "stdout",
          "text": [
            "x.shape  torch.Size([512, 512, 60])\n",
            "latent.shape  torch.Size([512, 64, 15])\n",
            "reconstructed.shape  torch.Size([512, 512, 60])\n",
            "Epoch 13/20\n",
            "loss: 0.1049165427684784\n",
            "\n"
          ]
        },
        {
          "output_type": "stream",
          "name": "stderr",
          "text": [
            "\r 84%|████████▎ | 29184/34935 [01:18<00:15, 375.03it/s]"
          ]
        },
        {
          "output_type": "stream",
          "name": "stdout",
          "text": [
            "x.shape  torch.Size([512, 512, 60])\n",
            "latent.shape  torch.Size([512, 64, 15])\n",
            "reconstructed.shape  torch.Size([512, 512, 60])\n",
            "Epoch 13/20\n",
            "loss: 0.10627373307943344\n",
            "\n"
          ]
        },
        {
          "output_type": "stream",
          "name": "stderr",
          "text": [
            "\r 85%|████████▌ | 29696/34935 [01:19<00:13, 374.92it/s]"
          ]
        },
        {
          "output_type": "stream",
          "name": "stdout",
          "text": [
            "x.shape  torch.Size([512, 512, 60])\n",
            "latent.shape  torch.Size([512, 64, 15])\n",
            "reconstructed.shape  torch.Size([512, 512, 60])\n",
            "Epoch 13/20\n",
            "loss: 0.1061973124742508\n",
            "\n"
          ]
        },
        {
          "output_type": "stream",
          "name": "stderr",
          "text": [
            "\r 86%|████████▋ | 30208/34935 [01:21<00:12, 375.57it/s]"
          ]
        },
        {
          "output_type": "stream",
          "name": "stdout",
          "text": [
            "x.shape  torch.Size([512, 512, 60])\n",
            "latent.shape  torch.Size([512, 64, 15])\n",
            "reconstructed.shape  torch.Size([512, 512, 60])\n",
            "Epoch 13/20\n",
            "loss: 0.10574617236852646\n",
            "\n"
          ]
        },
        {
          "output_type": "stream",
          "name": "stderr",
          "text": [
            "\r 88%|████████▊ | 30720/34935 [01:22<00:11, 372.74it/s]"
          ]
        },
        {
          "output_type": "stream",
          "name": "stdout",
          "text": [
            "x.shape  torch.Size([512, 512, 60])\n",
            "latent.shape  torch.Size([512, 64, 15])\n",
            "reconstructed.shape  torch.Size([512, 512, 60])\n",
            "Epoch 13/20\n",
            "loss: 0.10587731003761292\n",
            "\n"
          ]
        },
        {
          "output_type": "stream",
          "name": "stderr",
          "text": [
            "\r 89%|████████▉ | 31232/34935 [01:23<00:09, 373.01it/s]"
          ]
        },
        {
          "output_type": "stream",
          "name": "stdout",
          "text": [
            "x.shape  torch.Size([512, 512, 60])\n",
            "latent.shape  torch.Size([512, 64, 15])\n",
            "reconstructed.shape  torch.Size([512, 512, 60])\n",
            "Epoch 13/20\n",
            "loss: 0.1061590164899826\n",
            "\n"
          ]
        },
        {
          "output_type": "stream",
          "name": "stderr",
          "text": [
            "\r 91%|█████████ | 31744/34935 [01:25<00:08, 366.34it/s]"
          ]
        },
        {
          "output_type": "stream",
          "name": "stdout",
          "text": [
            "x.shape  torch.Size([512, 512, 60])\n",
            "latent.shape  torch.Size([512, 64, 15])\n",
            "reconstructed.shape  torch.Size([512, 512, 60])\n",
            "Epoch 13/20\n",
            "loss: 0.10739631205797195\n",
            "\n"
          ]
        },
        {
          "output_type": "stream",
          "name": "stderr",
          "text": [
            "\r 92%|█████████▏| 32256/34935 [01:26<00:07, 367.58it/s]"
          ]
        },
        {
          "output_type": "stream",
          "name": "stdout",
          "text": [
            "x.shape  torch.Size([512, 512, 60])\n",
            "latent.shape  torch.Size([512, 64, 15])\n",
            "reconstructed.shape  torch.Size([512, 512, 60])\n",
            "Epoch 13/20\n",
            "loss: 0.106458380818367\n",
            "\n"
          ]
        },
        {
          "output_type": "stream",
          "name": "stderr",
          "text": [
            "\r 94%|█████████▍| 32768/34935 [01:28<00:05, 366.56it/s]"
          ]
        },
        {
          "output_type": "stream",
          "name": "stdout",
          "text": [
            "x.shape  torch.Size([512, 512, 60])\n",
            "latent.shape  torch.Size([512, 64, 15])\n",
            "reconstructed.shape  torch.Size([512, 512, 60])\n",
            "Epoch 13/20\n",
            "loss: 0.10472089797258377\n",
            "\n"
          ]
        },
        {
          "output_type": "stream",
          "name": "stderr",
          "text": [
            "\r 95%|█████████▌| 33280/34935 [01:29<00:04, 367.30it/s]"
          ]
        },
        {
          "output_type": "stream",
          "name": "stdout",
          "text": [
            "x.shape  torch.Size([512, 512, 60])\n",
            "latent.shape  torch.Size([512, 64, 15])\n",
            "reconstructed.shape  torch.Size([512, 512, 60])\n",
            "Epoch 13/20\n",
            "loss: 0.10726230591535568\n",
            "\n"
          ]
        },
        {
          "output_type": "stream",
          "name": "stderr",
          "text": [
            "\r 97%|█████████▋| 33792/34935 [01:30<00:03, 367.75it/s]"
          ]
        },
        {
          "output_type": "stream",
          "name": "stdout",
          "text": [
            "x.shape  torch.Size([512, 512, 60])\n",
            "latent.shape  torch.Size([512, 64, 15])\n",
            "reconstructed.shape  torch.Size([512, 512, 60])\n",
            "Epoch 13/20\n",
            "loss: 0.10796178132295609\n",
            "\n"
          ]
        },
        {
          "output_type": "stream",
          "name": "stderr",
          "text": [
            "\r 98%|█████████▊| 34304/34935 [01:32<00:01, 371.15it/s]"
          ]
        },
        {
          "output_type": "stream",
          "name": "stdout",
          "text": [
            "x.shape  torch.Size([512, 512, 60])\n",
            "latent.shape  torch.Size([512, 64, 15])\n",
            "reconstructed.shape  torch.Size([512, 512, 60])\n",
            "Epoch 13/20\n",
            "loss: 0.10807854682207108\n",
            "\n"
          ]
        },
        {
          "output_type": "stream",
          "name": "stderr",
          "text": [
            "100%|██████████| 34935/34935 [01:33<00:00, 373.42it/s]"
          ]
        },
        {
          "output_type": "stream",
          "name": "stdout",
          "text": [
            "x.shape  torch.Size([512, 512, 60])\n",
            "latent.shape  torch.Size([512, 64, 15])\n",
            "reconstructed.shape  torch.Size([512, 512, 60])\n",
            "Epoch 13/20\n",
            "loss: 0.10682988911867142\n",
            "\n"
          ]
        },
        {
          "output_type": "stream",
          "name": "stderr",
          "text": [
            "\n"
          ]
        },
        {
          "output_type": "stream",
          "name": "stdout",
          "text": [
            "x.shape  torch.Size([119, 512, 60])\n",
            "latent.shape  torch.Size([119, 64, 15])\n",
            "reconstructed.shape  torch.Size([119, 512, 60])\n",
            "Epoch 13/20\n",
            "loss: 0.1031363233923912\n",
            "\n"
          ]
        },
        {
          "output_type": "stream",
          "name": "stderr",
          "text": [
            "  1%|▏         | 512/34935 [00:01<01:32, 373.19it/s]"
          ]
        },
        {
          "output_type": "stream",
          "name": "stdout",
          "text": [
            "x.shape  torch.Size([512, 512, 60])\n",
            "latent.shape  torch.Size([512, 64, 15])\n",
            "reconstructed.shape  torch.Size([512, 512, 60])\n",
            "Epoch 14/20\n",
            "loss: 0.1057388037443161\n",
            "\n"
          ]
        },
        {
          "output_type": "stream",
          "name": "stderr",
          "text": [
            "\r  3%|▎         | 1024/34935 [00:02<01:31, 372.57it/s]"
          ]
        },
        {
          "output_type": "stream",
          "name": "stdout",
          "text": [
            "x.shape  torch.Size([512, 512, 60])\n",
            "latent.shape  torch.Size([512, 64, 15])\n",
            "reconstructed.shape  torch.Size([512, 512, 60])\n",
            "Epoch 14/20\n",
            "loss: 0.10693386942148209\n",
            "\n"
          ]
        },
        {
          "output_type": "stream",
          "name": "stderr",
          "text": [
            "\r  4%|▍         | 1536/34935 [00:04<01:30, 368.25it/s]"
          ]
        },
        {
          "output_type": "stream",
          "name": "stdout",
          "text": [
            "x.shape  torch.Size([512, 512, 60])\n",
            "latent.shape  torch.Size([512, 64, 15])\n",
            "reconstructed.shape  torch.Size([512, 512, 60])\n",
            "Epoch 14/20\n",
            "loss: 0.10441461205482483\n",
            "\n"
          ]
        },
        {
          "output_type": "stream",
          "name": "stderr",
          "text": [
            "\r  6%|▌         | 2048/34935 [00:05<01:30, 363.41it/s]"
          ]
        },
        {
          "output_type": "stream",
          "name": "stdout",
          "text": [
            "x.shape  torch.Size([512, 512, 60])\n",
            "latent.shape  torch.Size([512, 64, 15])\n",
            "reconstructed.shape  torch.Size([512, 512, 60])\n",
            "Epoch 14/20\n",
            "loss: 0.10618358105421066\n",
            "\n"
          ]
        },
        {
          "output_type": "stream",
          "name": "stderr",
          "text": [
            "\r  7%|▋         | 2560/34935 [00:07<01:29, 361.78it/s]"
          ]
        },
        {
          "output_type": "stream",
          "name": "stdout",
          "text": [
            "x.shape  torch.Size([512, 512, 60])\n",
            "latent.shape  torch.Size([512, 64, 15])\n",
            "reconstructed.shape  torch.Size([512, 512, 60])\n",
            "Epoch 14/20\n",
            "loss: 0.10633420199155807\n",
            "\n"
          ]
        },
        {
          "output_type": "stream",
          "name": "stderr",
          "text": [
            "\r  9%|▉         | 3072/34935 [00:08<01:26, 366.83it/s]"
          ]
        },
        {
          "output_type": "stream",
          "name": "stdout",
          "text": [
            "x.shape  torch.Size([512, 512, 60])\n",
            "latent.shape  torch.Size([512, 64, 15])\n",
            "reconstructed.shape  torch.Size([512, 512, 60])\n",
            "Epoch 14/20\n",
            "loss: 0.10670343041419983\n",
            "\n"
          ]
        },
        {
          "output_type": "stream",
          "name": "stderr",
          "text": [
            "\r 10%|█         | 3584/34935 [00:09<01:25, 368.83it/s]"
          ]
        },
        {
          "output_type": "stream",
          "name": "stdout",
          "text": [
            "x.shape  torch.Size([512, 512, 60])\n",
            "latent.shape  torch.Size([512, 64, 15])\n",
            "reconstructed.shape  torch.Size([512, 512, 60])\n",
            "Epoch 14/20\n",
            "loss: 0.10500636696815491\n",
            "\n"
          ]
        },
        {
          "output_type": "stream",
          "name": "stderr",
          "text": [
            "\r 12%|█▏        | 4096/34935 [00:11<01:24, 365.91it/s]"
          ]
        },
        {
          "output_type": "stream",
          "name": "stdout",
          "text": [
            "x.shape  torch.Size([512, 512, 60])\n",
            "latent.shape  torch.Size([512, 64, 15])\n",
            "reconstructed.shape  torch.Size([512, 512, 60])\n",
            "Epoch 14/20\n",
            "loss: 0.10594810545444489\n",
            "\n"
          ]
        },
        {
          "output_type": "stream",
          "name": "stderr",
          "text": [
            "\r 13%|█▎        | 4608/34935 [00:12<01:23, 362.90it/s]"
          ]
        },
        {
          "output_type": "stream",
          "name": "stdout",
          "text": [
            "x.shape  torch.Size([512, 512, 60])\n",
            "latent.shape  torch.Size([512, 64, 15])\n",
            "reconstructed.shape  torch.Size([512, 512, 60])\n",
            "Epoch 14/20\n",
            "loss: 0.10500409454107285\n",
            "\n"
          ]
        },
        {
          "output_type": "stream",
          "name": "stderr",
          "text": [
            "\r 15%|█▍        | 5120/34935 [00:14<01:23, 358.62it/s]"
          ]
        },
        {
          "output_type": "stream",
          "name": "stdout",
          "text": [
            "x.shape  torch.Size([512, 512, 60])\n",
            "latent.shape  torch.Size([512, 64, 15])\n",
            "reconstructed.shape  torch.Size([512, 512, 60])\n",
            "Epoch 14/20\n",
            "loss: 0.10633494704961777\n",
            "\n"
          ]
        },
        {
          "output_type": "stream",
          "name": "stderr",
          "text": [
            "\r 16%|█▌        | 5632/34935 [00:15<01:21, 358.97it/s]"
          ]
        },
        {
          "output_type": "stream",
          "name": "stdout",
          "text": [
            "x.shape  torch.Size([512, 512, 60])\n",
            "latent.shape  torch.Size([512, 64, 15])\n",
            "reconstructed.shape  torch.Size([512, 512, 60])\n",
            "Epoch 14/20\n",
            "loss: 0.10637610405683517\n",
            "\n"
          ]
        },
        {
          "output_type": "stream",
          "name": "stderr",
          "text": [
            "\r 18%|█▊        | 6144/34935 [00:17<01:25, 335.20it/s]"
          ]
        },
        {
          "output_type": "stream",
          "name": "stdout",
          "text": [
            "x.shape  torch.Size([512, 512, 60])\n",
            "latent.shape  torch.Size([512, 64, 15])\n",
            "reconstructed.shape  torch.Size([512, 512, 60])\n",
            "Epoch 14/20\n",
            "loss: 0.10464490950107574\n",
            "\n"
          ]
        },
        {
          "output_type": "stream",
          "name": "stderr",
          "text": [
            "\r 19%|█▉        | 6656/34935 [00:18<01:23, 340.42it/s]"
          ]
        },
        {
          "output_type": "stream",
          "name": "stdout",
          "text": [
            "x.shape  torch.Size([512, 512, 60])\n",
            "latent.shape  torch.Size([512, 64, 15])\n",
            "reconstructed.shape  torch.Size([512, 512, 60])\n",
            "Epoch 14/20\n",
            "loss: 0.10276621580123901\n",
            "\n"
          ]
        },
        {
          "output_type": "stream",
          "name": "stderr",
          "text": [
            "\r 21%|██        | 7168/34935 [00:20<01:20, 346.92it/s]"
          ]
        },
        {
          "output_type": "stream",
          "name": "stdout",
          "text": [
            "x.shape  torch.Size([512, 512, 60])\n",
            "latent.shape  torch.Size([512, 64, 15])\n",
            "reconstructed.shape  torch.Size([512, 512, 60])\n",
            "Epoch 14/20\n",
            "loss: 0.1049136221408844\n",
            "\n"
          ]
        },
        {
          "output_type": "stream",
          "name": "stderr",
          "text": [
            "\r 22%|██▏       | 7680/34935 [00:21<01:18, 348.17it/s]"
          ]
        },
        {
          "output_type": "stream",
          "name": "stdout",
          "text": [
            "x.shape  torch.Size([512, 512, 60])\n",
            "latent.shape  torch.Size([512, 64, 15])\n",
            "reconstructed.shape  torch.Size([512, 512, 60])\n",
            "Epoch 14/20\n",
            "loss: 0.10628635436296463\n",
            "\n"
          ]
        },
        {
          "output_type": "stream",
          "name": "stderr",
          "text": [
            "\r 23%|██▎       | 8192/34935 [00:23<01:17, 346.13it/s]"
          ]
        },
        {
          "output_type": "stream",
          "name": "stdout",
          "text": [
            "x.shape  torch.Size([512, 512, 60])\n",
            "latent.shape  torch.Size([512, 64, 15])\n",
            "reconstructed.shape  torch.Size([512, 512, 60])\n",
            "Epoch 14/20\n",
            "loss: 0.10398606210947037\n",
            "\n"
          ]
        },
        {
          "output_type": "stream",
          "name": "stderr",
          "text": [
            "\r 25%|██▍       | 8704/34935 [00:24<01:15, 349.72it/s]"
          ]
        },
        {
          "output_type": "stream",
          "name": "stdout",
          "text": [
            "x.shape  torch.Size([512, 512, 60])\n",
            "latent.shape  torch.Size([512, 64, 15])\n",
            "reconstructed.shape  torch.Size([512, 512, 60])\n",
            "Epoch 14/20\n",
            "loss: 0.10450470447540283\n",
            "\n"
          ]
        },
        {
          "output_type": "stream",
          "name": "stderr",
          "text": [
            "\r 26%|██▋       | 9216/34935 [00:25<01:12, 352.87it/s]"
          ]
        },
        {
          "output_type": "stream",
          "name": "stdout",
          "text": [
            "x.shape  torch.Size([512, 512, 60])\n",
            "latent.shape  torch.Size([512, 64, 15])\n",
            "reconstructed.shape  torch.Size([512, 512, 60])\n",
            "Epoch 14/20\n",
            "loss: 0.10595420747995377\n",
            "\n"
          ]
        },
        {
          "output_type": "stream",
          "name": "stderr",
          "text": [
            "\r 28%|██▊       | 9728/34935 [00:27<01:10, 357.56it/s]"
          ]
        },
        {
          "output_type": "stream",
          "name": "stdout",
          "text": [
            "x.shape  torch.Size([512, 512, 60])\n",
            "latent.shape  torch.Size([512, 64, 15])\n",
            "reconstructed.shape  torch.Size([512, 512, 60])\n",
            "Epoch 14/20\n",
            "loss: 0.10498207807540894\n",
            "\n"
          ]
        },
        {
          "output_type": "stream",
          "name": "stderr",
          "text": [
            "\r 29%|██▉       | 10240/34935 [00:28<01:09, 354.30it/s]"
          ]
        },
        {
          "output_type": "stream",
          "name": "stdout",
          "text": [
            "x.shape  torch.Size([512, 512, 60])\n",
            "latent.shape  torch.Size([512, 64, 15])\n",
            "reconstructed.shape  torch.Size([512, 512, 60])\n",
            "Epoch 14/20\n",
            "loss: 0.10629775375127792\n",
            "\n"
          ]
        },
        {
          "output_type": "stream",
          "name": "stderr",
          "text": [
            "\r 31%|███       | 10752/34935 [00:30<01:09, 347.33it/s]"
          ]
        },
        {
          "output_type": "stream",
          "name": "stdout",
          "text": [
            "x.shape  torch.Size([512, 512, 60])\n",
            "latent.shape  torch.Size([512, 64, 15])\n",
            "reconstructed.shape  torch.Size([512, 512, 60])\n",
            "Epoch 14/20\n",
            "loss: 0.10470424592494965\n",
            "\n"
          ]
        },
        {
          "output_type": "stream",
          "name": "stderr",
          "text": [
            "\r 32%|███▏      | 11264/34935 [00:31<01:07, 351.03it/s]"
          ]
        },
        {
          "output_type": "stream",
          "name": "stdout",
          "text": [
            "x.shape  torch.Size([512, 512, 60])\n",
            "latent.shape  torch.Size([512, 64, 15])\n",
            "reconstructed.shape  torch.Size([512, 512, 60])\n",
            "Epoch 14/20\n",
            "loss: 0.10458673536777496\n",
            "\n"
          ]
        },
        {
          "output_type": "stream",
          "name": "stderr",
          "text": [
            "\r 34%|███▎      | 11776/34935 [00:33<01:05, 354.92it/s]"
          ]
        },
        {
          "output_type": "stream",
          "name": "stdout",
          "text": [
            "x.shape  torch.Size([512, 512, 60])\n",
            "latent.shape  torch.Size([512, 64, 15])\n",
            "reconstructed.shape  torch.Size([512, 512, 60])\n",
            "Epoch 14/20\n",
            "loss: 0.10432982444763184\n",
            "\n"
          ]
        },
        {
          "output_type": "stream",
          "name": "stderr",
          "text": [
            "\r 35%|███▌      | 12288/34935 [00:34<01:03, 358.73it/s]"
          ]
        },
        {
          "output_type": "stream",
          "name": "stdout",
          "text": [
            "x.shape  torch.Size([512, 512, 60])\n",
            "latent.shape  torch.Size([512, 64, 15])\n",
            "reconstructed.shape  torch.Size([512, 512, 60])\n",
            "Epoch 14/20\n",
            "loss: 0.1035933718085289\n",
            "\n"
          ]
        },
        {
          "output_type": "stream",
          "name": "stderr",
          "text": [
            "\r 37%|███▋      | 12800/34935 [00:35<01:00, 365.45it/s]"
          ]
        },
        {
          "output_type": "stream",
          "name": "stdout",
          "text": [
            "x.shape  torch.Size([512, 512, 60])\n",
            "latent.shape  torch.Size([512, 64, 15])\n",
            "reconstructed.shape  torch.Size([512, 512, 60])\n",
            "Epoch 14/20\n",
            "loss: 0.10431161522865295\n",
            "\n"
          ]
        },
        {
          "output_type": "stream",
          "name": "stderr",
          "text": [
            "\r 38%|███▊      | 13312/34935 [00:37<00:59, 365.10it/s]"
          ]
        },
        {
          "output_type": "stream",
          "name": "stdout",
          "text": [
            "x.shape  torch.Size([512, 512, 60])\n",
            "latent.shape  torch.Size([512, 64, 15])\n",
            "reconstructed.shape  torch.Size([512, 512, 60])\n",
            "Epoch 14/20\n",
            "loss: 0.10498490184545517\n",
            "\n"
          ]
        },
        {
          "output_type": "stream",
          "name": "stderr",
          "text": [
            "\r 40%|███▉      | 13824/34935 [00:38<00:57, 364.16it/s]"
          ]
        },
        {
          "output_type": "stream",
          "name": "stdout",
          "text": [
            "x.shape  torch.Size([512, 512, 60])\n",
            "latent.shape  torch.Size([512, 64, 15])\n",
            "reconstructed.shape  torch.Size([512, 512, 60])\n",
            "Epoch 14/20\n",
            "loss: 0.1039602980017662\n",
            "\n"
          ]
        },
        {
          "output_type": "stream",
          "name": "stderr",
          "text": [
            "\r 41%|████      | 14336/34935 [00:40<00:56, 366.46it/s]"
          ]
        },
        {
          "output_type": "stream",
          "name": "stdout",
          "text": [
            "x.shape  torch.Size([512, 512, 60])\n",
            "latent.shape  torch.Size([512, 64, 15])\n",
            "reconstructed.shape  torch.Size([512, 512, 60])\n",
            "Epoch 14/20\n",
            "loss: 0.10389843583106995\n",
            "\n"
          ]
        },
        {
          "output_type": "stream",
          "name": "stderr",
          "text": [
            "\r 43%|████▎     | 14848/34935 [00:41<00:54, 370.22it/s]"
          ]
        },
        {
          "output_type": "stream",
          "name": "stdout",
          "text": [
            "x.shape  torch.Size([512, 512, 60])\n",
            "latent.shape  torch.Size([512, 64, 15])\n",
            "reconstructed.shape  torch.Size([512, 512, 60])\n",
            "Epoch 14/20\n",
            "loss: 0.10499867051839828\n",
            "\n"
          ]
        },
        {
          "output_type": "stream",
          "name": "stderr",
          "text": [
            "\r 44%|████▍     | 15360/34935 [00:42<00:52, 371.53it/s]"
          ]
        },
        {
          "output_type": "stream",
          "name": "stdout",
          "text": [
            "x.shape  torch.Size([512, 512, 60])\n",
            "latent.shape  torch.Size([512, 64, 15])\n",
            "reconstructed.shape  torch.Size([512, 512, 60])\n",
            "Epoch 14/20\n",
            "loss: 0.1035284548997879\n",
            "\n"
          ]
        },
        {
          "output_type": "stream",
          "name": "stderr",
          "text": [
            "\r 45%|████▌     | 15872/34935 [00:43<00:47, 400.56it/s]"
          ]
        },
        {
          "output_type": "stream",
          "name": "stdout",
          "text": [
            "x.shape  torch.Size([512, 512, 60])\n",
            "latent.shape  torch.Size([512, 64, 15])\n",
            "reconstructed.shape  torch.Size([512, 512, 60])\n",
            "Epoch 14/20\n",
            "loss: 0.1045006737112999\n",
            "\n"
          ]
        },
        {
          "output_type": "stream",
          "name": "stderr",
          "text": [
            "\r 47%|████▋     | 16384/34935 [00:45<00:47, 388.18it/s]"
          ]
        },
        {
          "output_type": "stream",
          "name": "stdout",
          "text": [
            "x.shape  torch.Size([512, 512, 60])\n",
            "latent.shape  torch.Size([512, 64, 15])\n",
            "reconstructed.shape  torch.Size([512, 512, 60])\n",
            "Epoch 14/20\n",
            "loss: 0.102717325091362\n",
            "\n"
          ]
        },
        {
          "output_type": "stream",
          "name": "stderr",
          "text": [
            "\r 48%|████▊     | 16896/34935 [00:46<00:47, 380.41it/s]"
          ]
        },
        {
          "output_type": "stream",
          "name": "stdout",
          "text": [
            "x.shape  torch.Size([512, 512, 60])\n",
            "latent.shape  torch.Size([512, 64, 15])\n",
            "reconstructed.shape  torch.Size([512, 512, 60])\n",
            "Epoch 14/20\n",
            "loss: 0.10388758033514023\n",
            "\n"
          ]
        },
        {
          "output_type": "stream",
          "name": "stderr",
          "text": [
            "\r 50%|████▉     | 17408/34935 [00:48<00:46, 377.70it/s]"
          ]
        },
        {
          "output_type": "stream",
          "name": "stdout",
          "text": [
            "x.shape  torch.Size([512, 512, 60])\n",
            "latent.shape  torch.Size([512, 64, 15])\n",
            "reconstructed.shape  torch.Size([512, 512, 60])\n",
            "Epoch 14/20\n",
            "loss: 0.10355990380048752\n",
            "\n"
          ]
        },
        {
          "output_type": "stream",
          "name": "stderr",
          "text": [
            "\r 51%|█████▏    | 17920/34935 [00:49<00:45, 375.09it/s]"
          ]
        },
        {
          "output_type": "stream",
          "name": "stdout",
          "text": [
            "x.shape  torch.Size([512, 512, 60])\n",
            "latent.shape  torch.Size([512, 64, 15])\n",
            "reconstructed.shape  torch.Size([512, 512, 60])\n",
            "Epoch 14/20\n",
            "loss: 0.10477155447006226\n",
            "\n"
          ]
        },
        {
          "output_type": "stream",
          "name": "stderr",
          "text": [
            "\r 53%|█████▎    | 18432/34935 [00:50<00:43, 376.06it/s]"
          ]
        },
        {
          "output_type": "stream",
          "name": "stdout",
          "text": [
            "x.shape  torch.Size([512, 512, 60])\n",
            "latent.shape  torch.Size([512, 64, 15])\n",
            "reconstructed.shape  torch.Size([512, 512, 60])\n",
            "Epoch 14/20\n",
            "loss: 0.10575766116380692\n",
            "\n"
          ]
        },
        {
          "output_type": "stream",
          "name": "stderr",
          "text": [
            "\r 54%|█████▍    | 18944/34935 [00:52<00:41, 380.78it/s]"
          ]
        },
        {
          "output_type": "stream",
          "name": "stdout",
          "text": [
            "x.shape  torch.Size([512, 512, 60])\n",
            "latent.shape  torch.Size([512, 64, 15])\n",
            "reconstructed.shape  torch.Size([512, 512, 60])\n",
            "Epoch 14/20\n",
            "loss: 0.10211748629808426\n",
            "\n"
          ]
        },
        {
          "output_type": "stream",
          "name": "stderr",
          "text": [
            "\r 56%|█████▌    | 19456/34935 [00:53<00:40, 381.46it/s]"
          ]
        },
        {
          "output_type": "stream",
          "name": "stdout",
          "text": [
            "x.shape  torch.Size([512, 512, 60])\n",
            "latent.shape  torch.Size([512, 64, 15])\n",
            "reconstructed.shape  torch.Size([512, 512, 60])\n",
            "Epoch 14/20\n",
            "loss: 0.10534881800413132\n",
            "\n"
          ]
        },
        {
          "output_type": "stream",
          "name": "stderr",
          "text": [
            "\r 57%|█████▋    | 19968/34935 [00:54<00:39, 379.61it/s]"
          ]
        },
        {
          "output_type": "stream",
          "name": "stdout",
          "text": [
            "x.shape  torch.Size([512, 512, 60])\n",
            "latent.shape  torch.Size([512, 64, 15])\n",
            "reconstructed.shape  torch.Size([512, 512, 60])\n",
            "Epoch 14/20\n",
            "loss: 0.10459341108798981\n",
            "\n"
          ]
        },
        {
          "output_type": "stream",
          "name": "stderr",
          "text": [
            "\r 59%|█████▊    | 20480/34935 [00:56<00:38, 376.05it/s]"
          ]
        },
        {
          "output_type": "stream",
          "name": "stdout",
          "text": [
            "x.shape  torch.Size([512, 512, 60])\n",
            "latent.shape  torch.Size([512, 64, 15])\n",
            "reconstructed.shape  torch.Size([512, 512, 60])\n",
            "Epoch 14/20\n",
            "loss: 0.10464411228895187\n",
            "\n"
          ]
        },
        {
          "output_type": "stream",
          "name": "stderr",
          "text": [
            "\r 60%|██████    | 20992/34935 [00:57<00:36, 378.54it/s]"
          ]
        },
        {
          "output_type": "stream",
          "name": "stdout",
          "text": [
            "x.shape  torch.Size([512, 512, 60])\n",
            "latent.shape  torch.Size([512, 64, 15])\n",
            "reconstructed.shape  torch.Size([512, 512, 60])\n",
            "Epoch 14/20\n",
            "loss: 0.10269851982593536\n",
            "\n"
          ]
        },
        {
          "output_type": "stream",
          "name": "stderr",
          "text": [
            "\r 62%|██████▏   | 21504/34935 [00:58<00:35, 378.48it/s]"
          ]
        },
        {
          "output_type": "stream",
          "name": "stdout",
          "text": [
            "x.shape  torch.Size([512, 512, 60])\n",
            "latent.shape  torch.Size([512, 64, 15])\n",
            "reconstructed.shape  torch.Size([512, 512, 60])\n",
            "Epoch 14/20\n",
            "loss: 0.1047348603606224\n",
            "\n"
          ]
        },
        {
          "output_type": "stream",
          "name": "stderr",
          "text": [
            "\r 63%|██████▎   | 22016/34935 [01:00<00:34, 376.95it/s]"
          ]
        },
        {
          "output_type": "stream",
          "name": "stdout",
          "text": [
            "x.shape  torch.Size([512, 512, 60])\n",
            "latent.shape  torch.Size([512, 64, 15])\n",
            "reconstructed.shape  torch.Size([512, 512, 60])\n",
            "Epoch 14/20\n",
            "loss: 0.10283148288726807\n",
            "\n"
          ]
        },
        {
          "output_type": "stream",
          "name": "stderr",
          "text": [
            "\r 64%|██████▍   | 22528/34935 [01:01<00:32, 379.08it/s]"
          ]
        },
        {
          "output_type": "stream",
          "name": "stdout",
          "text": [
            "x.shape  torch.Size([512, 512, 60])\n",
            "latent.shape  torch.Size([512, 64, 15])\n",
            "reconstructed.shape  torch.Size([512, 512, 60])\n",
            "Epoch 14/20\n",
            "loss: 0.10275372862815857\n",
            "\n"
          ]
        },
        {
          "output_type": "stream",
          "name": "stderr",
          "text": [
            "\r 66%|██████▌   | 23040/34935 [01:02<00:31, 377.31it/s]"
          ]
        },
        {
          "output_type": "stream",
          "name": "stdout",
          "text": [
            "x.shape  torch.Size([512, 512, 60])\n",
            "latent.shape  torch.Size([512, 64, 15])\n",
            "reconstructed.shape  torch.Size([512, 512, 60])\n",
            "Epoch 14/20\n",
            "loss: 0.10354602336883545\n",
            "\n"
          ]
        },
        {
          "output_type": "stream",
          "name": "stderr",
          "text": [
            "\r 67%|██████▋   | 23552/34935 [01:04<00:30, 376.71it/s]"
          ]
        },
        {
          "output_type": "stream",
          "name": "stdout",
          "text": [
            "x.shape  torch.Size([512, 512, 60])\n",
            "latent.shape  torch.Size([512, 64, 15])\n",
            "reconstructed.shape  torch.Size([512, 512, 60])\n",
            "Epoch 14/20\n",
            "loss: 0.10444753617048264\n",
            "\n"
          ]
        },
        {
          "output_type": "stream",
          "name": "stderr",
          "text": [
            "\r 69%|██████▉   | 24064/34935 [01:05<00:28, 376.44it/s]"
          ]
        },
        {
          "output_type": "stream",
          "name": "stdout",
          "text": [
            "x.shape  torch.Size([512, 512, 60])\n",
            "latent.shape  torch.Size([512, 64, 15])\n",
            "reconstructed.shape  torch.Size([512, 512, 60])\n",
            "Epoch 14/20\n",
            "loss: 0.10431568324565887\n",
            "\n"
          ]
        },
        {
          "output_type": "stream",
          "name": "stderr",
          "text": [
            "\r 70%|███████   | 24576/34935 [01:06<00:27, 380.70it/s]"
          ]
        },
        {
          "output_type": "stream",
          "name": "stdout",
          "text": [
            "x.shape  torch.Size([512, 512, 60])\n",
            "latent.shape  torch.Size([512, 64, 15])\n",
            "reconstructed.shape  torch.Size([512, 512, 60])\n",
            "Epoch 14/20\n",
            "loss: 0.10357703268527985\n",
            "\n"
          ]
        },
        {
          "output_type": "stream",
          "name": "stderr",
          "text": [
            "\r 72%|███████▏  | 25088/34935 [01:08<00:25, 379.90it/s]"
          ]
        },
        {
          "output_type": "stream",
          "name": "stdout",
          "text": [
            "x.shape  torch.Size([512, 512, 60])\n",
            "latent.shape  torch.Size([512, 64, 15])\n",
            "reconstructed.shape  torch.Size([512, 512, 60])\n",
            "Epoch 14/20\n",
            "loss: 0.10285688191652298\n",
            "\n"
          ]
        },
        {
          "output_type": "stream",
          "name": "stderr",
          "text": [
            "\r 73%|███████▎  | 25600/34935 [01:09<00:24, 377.20it/s]"
          ]
        },
        {
          "output_type": "stream",
          "name": "stdout",
          "text": [
            "x.shape  torch.Size([512, 512, 60])\n",
            "latent.shape  torch.Size([512, 64, 15])\n",
            "reconstructed.shape  torch.Size([512, 512, 60])\n",
            "Epoch 14/20\n",
            "loss: 0.103944331407547\n",
            "\n"
          ]
        },
        {
          "output_type": "stream",
          "name": "stderr",
          "text": [
            "\r 75%|███████▍  | 26112/34935 [01:11<00:23, 378.12it/s]"
          ]
        },
        {
          "output_type": "stream",
          "name": "stdout",
          "text": [
            "x.shape  torch.Size([512, 512, 60])\n",
            "latent.shape  torch.Size([512, 64, 15])\n",
            "reconstructed.shape  torch.Size([512, 512, 60])\n",
            "Epoch 14/20\n",
            "loss: 0.10405036807060242\n",
            "\n"
          ]
        },
        {
          "output_type": "stream",
          "name": "stderr",
          "text": [
            "\r 76%|███████▌  | 26624/34935 [01:12<00:22, 376.00it/s]"
          ]
        },
        {
          "output_type": "stream",
          "name": "stdout",
          "text": [
            "x.shape  torch.Size([512, 512, 60])\n",
            "latent.shape  torch.Size([512, 64, 15])\n",
            "reconstructed.shape  torch.Size([512, 512, 60])\n",
            "Epoch 14/20\n",
            "loss: 0.10372184962034225\n",
            "\n"
          ]
        },
        {
          "output_type": "stream",
          "name": "stderr",
          "text": [
            "\r 78%|███████▊  | 27136/34935 [01:13<00:21, 369.34it/s]"
          ]
        },
        {
          "output_type": "stream",
          "name": "stdout",
          "text": [
            "x.shape  torch.Size([512, 512, 60])\n",
            "latent.shape  torch.Size([512, 64, 15])\n",
            "reconstructed.shape  torch.Size([512, 512, 60])\n",
            "Epoch 14/20\n",
            "loss: 0.10511583089828491\n",
            "\n"
          ]
        },
        {
          "output_type": "stream",
          "name": "stderr",
          "text": [
            "\r 79%|███████▉  | 27648/34935 [01:15<00:19, 372.57it/s]"
          ]
        },
        {
          "output_type": "stream",
          "name": "stdout",
          "text": [
            "x.shape  torch.Size([512, 512, 60])\n",
            "latent.shape  torch.Size([512, 64, 15])\n",
            "reconstructed.shape  torch.Size([512, 512, 60])\n",
            "Epoch 14/20\n",
            "loss: 0.10448075085878372\n",
            "\n"
          ]
        },
        {
          "output_type": "stream",
          "name": "stderr",
          "text": [
            "\r 81%|████████  | 28160/34935 [01:16<00:18, 368.73it/s]"
          ]
        },
        {
          "output_type": "stream",
          "name": "stdout",
          "text": [
            "x.shape  torch.Size([512, 512, 60])\n",
            "latent.shape  torch.Size([512, 64, 15])\n",
            "reconstructed.shape  torch.Size([512, 512, 60])\n",
            "Epoch 14/20\n",
            "loss: 0.10315830260515213\n",
            "\n"
          ]
        },
        {
          "output_type": "stream",
          "name": "stderr",
          "text": [
            "\r 82%|████████▏ | 28672/34935 [01:18<00:16, 369.75it/s]"
          ]
        },
        {
          "output_type": "stream",
          "name": "stdout",
          "text": [
            "x.shape  torch.Size([512, 512, 60])\n",
            "latent.shape  torch.Size([512, 64, 15])\n",
            "reconstructed.shape  torch.Size([512, 512, 60])\n",
            "Epoch 14/20\n",
            "loss: 0.10214192420244217\n",
            "\n"
          ]
        },
        {
          "output_type": "stream",
          "name": "stderr",
          "text": [
            "\r 84%|████████▎ | 29184/34935 [01:19<00:15, 367.51it/s]"
          ]
        },
        {
          "output_type": "stream",
          "name": "stdout",
          "text": [
            "x.shape  torch.Size([512, 512, 60])\n",
            "latent.shape  torch.Size([512, 64, 15])\n",
            "reconstructed.shape  torch.Size([512, 512, 60])\n",
            "Epoch 14/20\n",
            "loss: 0.10321956127882004\n",
            "\n"
          ]
        },
        {
          "output_type": "stream",
          "name": "stderr",
          "text": [
            "\r 85%|████████▌ | 29696/34935 [01:20<00:14, 368.69it/s]"
          ]
        },
        {
          "output_type": "stream",
          "name": "stdout",
          "text": [
            "x.shape  torch.Size([512, 512, 60])\n",
            "latent.shape  torch.Size([512, 64, 15])\n",
            "reconstructed.shape  torch.Size([512, 512, 60])\n",
            "Epoch 14/20\n",
            "loss: 0.10316687822341919\n",
            "\n"
          ]
        },
        {
          "output_type": "stream",
          "name": "stderr",
          "text": [
            "\r 86%|████████▋ | 30208/34935 [01:22<00:12, 367.67it/s]"
          ]
        },
        {
          "output_type": "stream",
          "name": "stdout",
          "text": [
            "x.shape  torch.Size([512, 512, 60])\n",
            "latent.shape  torch.Size([512, 64, 15])\n",
            "reconstructed.shape  torch.Size([512, 512, 60])\n",
            "Epoch 14/20\n",
            "loss: 0.10299897938966751\n",
            "\n"
          ]
        },
        {
          "output_type": "stream",
          "name": "stderr",
          "text": [
            "\r 88%|████████▊ | 30720/34935 [01:23<00:11, 367.40it/s]"
          ]
        },
        {
          "output_type": "stream",
          "name": "stdout",
          "text": [
            "x.shape  torch.Size([512, 512, 60])\n",
            "latent.shape  torch.Size([512, 64, 15])\n",
            "reconstructed.shape  torch.Size([512, 512, 60])\n",
            "Epoch 14/20\n",
            "loss: 0.10297704488039017\n",
            "\n"
          ]
        },
        {
          "output_type": "stream",
          "name": "stderr",
          "text": [
            "\r 89%|████████▉ | 31232/34935 [01:25<00:10, 368.10it/s]"
          ]
        },
        {
          "output_type": "stream",
          "name": "stdout",
          "text": [
            "x.shape  torch.Size([512, 512, 60])\n",
            "latent.shape  torch.Size([512, 64, 15])\n",
            "reconstructed.shape  torch.Size([512, 512, 60])\n",
            "Epoch 14/20\n",
            "loss: 0.10339109599590302\n",
            "\n"
          ]
        },
        {
          "output_type": "stream",
          "name": "stderr",
          "text": [
            "\r 91%|█████████ | 31744/34935 [01:26<00:08, 367.50it/s]"
          ]
        },
        {
          "output_type": "stream",
          "name": "stdout",
          "text": [
            "x.shape  torch.Size([512, 512, 60])\n",
            "latent.shape  torch.Size([512, 64, 15])\n",
            "reconstructed.shape  torch.Size([512, 512, 60])\n",
            "Epoch 14/20\n",
            "loss: 0.10444314777851105\n",
            "\n"
          ]
        },
        {
          "output_type": "stream",
          "name": "stderr",
          "text": [
            "\r 92%|█████████▏| 32256/34935 [01:27<00:07, 369.81it/s]"
          ]
        },
        {
          "output_type": "stream",
          "name": "stdout",
          "text": [
            "x.shape  torch.Size([512, 512, 60])\n",
            "latent.shape  torch.Size([512, 64, 15])\n",
            "reconstructed.shape  torch.Size([512, 512, 60])\n",
            "Epoch 14/20\n",
            "loss: 0.10385526716709137\n",
            "\n"
          ]
        },
        {
          "output_type": "stream",
          "name": "stderr",
          "text": [
            "\r 94%|█████████▍| 32768/34935 [01:29<00:05, 374.95it/s]"
          ]
        },
        {
          "output_type": "stream",
          "name": "stdout",
          "text": [
            "x.shape  torch.Size([512, 512, 60])\n",
            "latent.shape  torch.Size([512, 64, 15])\n",
            "reconstructed.shape  torch.Size([512, 512, 60])\n",
            "Epoch 14/20\n",
            "loss: 0.10210899263620377\n",
            "\n"
          ]
        },
        {
          "output_type": "stream",
          "name": "stderr",
          "text": [
            "\r 95%|█████████▌| 33280/34935 [01:30<00:04, 378.99it/s]"
          ]
        },
        {
          "output_type": "stream",
          "name": "stdout",
          "text": [
            "x.shape  torch.Size([512, 512, 60])\n",
            "latent.shape  torch.Size([512, 64, 15])\n",
            "reconstructed.shape  torch.Size([512, 512, 60])\n",
            "Epoch 14/20\n",
            "loss: 0.10469132661819458\n",
            "\n"
          ]
        },
        {
          "output_type": "stream",
          "name": "stderr",
          "text": [
            "\r 97%|█████████▋| 33792/34935 [01:31<00:02, 381.33it/s]"
          ]
        },
        {
          "output_type": "stream",
          "name": "stdout",
          "text": [
            "x.shape  torch.Size([512, 512, 60])\n",
            "latent.shape  torch.Size([512, 64, 15])\n",
            "reconstructed.shape  torch.Size([512, 512, 60])\n",
            "Epoch 14/20\n",
            "loss: 0.10504475235939026\n",
            "\n"
          ]
        },
        {
          "output_type": "stream",
          "name": "stderr",
          "text": [
            "\r 98%|█████████▊| 34304/34935 [01:33<00:01, 383.68it/s]"
          ]
        },
        {
          "output_type": "stream",
          "name": "stdout",
          "text": [
            "x.shape  torch.Size([512, 512, 60])\n",
            "latent.shape  torch.Size([512, 64, 15])\n",
            "reconstructed.shape  torch.Size([512, 512, 60])\n",
            "Epoch 14/20\n",
            "loss: 0.10495404154062271\n",
            "\n"
          ]
        },
        {
          "output_type": "stream",
          "name": "stderr",
          "text": [
            "100%|██████████| 34935/34935 [01:34<00:00, 370.25it/s]"
          ]
        },
        {
          "output_type": "stream",
          "name": "stdout",
          "text": [
            "x.shape  torch.Size([512, 512, 60])\n",
            "latent.shape  torch.Size([512, 64, 15])\n",
            "reconstructed.shape  torch.Size([512, 512, 60])\n",
            "Epoch 14/20\n",
            "loss: 0.10391689836978912\n",
            "\n"
          ]
        },
        {
          "output_type": "stream",
          "name": "stderr",
          "text": [
            "\n"
          ]
        },
        {
          "output_type": "stream",
          "name": "stdout",
          "text": [
            "x.shape  torch.Size([119, 512, 60])\n",
            "latent.shape  torch.Size([119, 64, 15])\n",
            "reconstructed.shape  torch.Size([119, 512, 60])\n",
            "Epoch 14/20\n",
            "loss: 0.10035945475101471\n",
            "\n"
          ]
        },
        {
          "output_type": "stream",
          "name": "stderr",
          "text": [
            "  1%|▏         | 512/34935 [00:01<01:35, 360.05it/s]"
          ]
        },
        {
          "output_type": "stream",
          "name": "stdout",
          "text": [
            "x.shape  torch.Size([512, 512, 60])\n",
            "latent.shape  torch.Size([512, 64, 15])\n",
            "reconstructed.shape  torch.Size([512, 512, 60])\n",
            "Epoch 15/20\n",
            "loss: 0.10318101942539215\n",
            "\n"
          ]
        },
        {
          "output_type": "stream",
          "name": "stderr",
          "text": [
            "\r  3%|▎         | 1024/34935 [00:02<01:31, 371.04it/s]"
          ]
        },
        {
          "output_type": "stream",
          "name": "stdout",
          "text": [
            "x.shape  torch.Size([512, 512, 60])\n",
            "latent.shape  torch.Size([512, 64, 15])\n",
            "reconstructed.shape  torch.Size([512, 512, 60])\n",
            "Epoch 15/20\n",
            "loss: 0.10421540588140488\n",
            "\n"
          ]
        },
        {
          "output_type": "stream",
          "name": "stderr",
          "text": [
            "\r  4%|▍         | 1536/34935 [00:04<01:29, 373.85it/s]"
          ]
        },
        {
          "output_type": "stream",
          "name": "stdout",
          "text": [
            "x.shape  torch.Size([512, 512, 60])\n",
            "latent.shape  torch.Size([512, 64, 15])\n",
            "reconstructed.shape  torch.Size([512, 512, 60])\n",
            "Epoch 15/20\n",
            "loss: 0.10170669853687286\n",
            "\n"
          ]
        },
        {
          "output_type": "stream",
          "name": "stderr",
          "text": [
            "\r  6%|▌         | 2048/34935 [00:05<01:30, 364.21it/s]"
          ]
        },
        {
          "output_type": "stream",
          "name": "stdout",
          "text": [
            "x.shape  torch.Size([512, 512, 60])\n",
            "latent.shape  torch.Size([512, 64, 15])\n",
            "reconstructed.shape  torch.Size([512, 512, 60])\n",
            "Epoch 15/20\n",
            "loss: 0.10355409234762192\n",
            "\n"
          ]
        },
        {
          "output_type": "stream",
          "name": "stderr",
          "text": [
            "\r  7%|▋         | 2560/34935 [00:06<01:26, 373.45it/s]"
          ]
        },
        {
          "output_type": "stream",
          "name": "stdout",
          "text": [
            "x.shape  torch.Size([512, 512, 60])\n",
            "latent.shape  torch.Size([512, 64, 15])\n",
            "reconstructed.shape  torch.Size([512, 512, 60])\n",
            "Epoch 15/20\n",
            "loss: 0.10360895097255707\n",
            "\n"
          ]
        },
        {
          "output_type": "stream",
          "name": "stderr",
          "text": [
            "\r  9%|▉         | 3072/34935 [00:08<01:24, 376.77it/s]"
          ]
        },
        {
          "output_type": "stream",
          "name": "stdout",
          "text": [
            "x.shape  torch.Size([512, 512, 60])\n",
            "latent.shape  torch.Size([512, 64, 15])\n",
            "reconstructed.shape  torch.Size([512, 512, 60])\n",
            "Epoch 15/20\n",
            "loss: 0.10417070239782333\n",
            "\n"
          ]
        },
        {
          "output_type": "stream",
          "name": "stderr",
          "text": [
            "\r 10%|█         | 3584/34935 [00:09<01:22, 378.15it/s]"
          ]
        },
        {
          "output_type": "stream",
          "name": "stdout",
          "text": [
            "x.shape  torch.Size([512, 512, 60])\n",
            "latent.shape  torch.Size([512, 64, 15])\n",
            "reconstructed.shape  torch.Size([512, 512, 60])\n",
            "Epoch 15/20\n",
            "loss: 0.10195231437683105\n",
            "\n"
          ]
        },
        {
          "output_type": "stream",
          "name": "stderr",
          "text": [
            "\r 12%|█▏        | 4096/34935 [00:10<01:21, 377.58it/s]"
          ]
        },
        {
          "output_type": "stream",
          "name": "stdout",
          "text": [
            "x.shape  torch.Size([512, 512, 60])\n",
            "latent.shape  torch.Size([512, 64, 15])\n",
            "reconstructed.shape  torch.Size([512, 512, 60])\n",
            "Epoch 15/20\n",
            "loss: 0.10304220020771027\n",
            "\n"
          ]
        },
        {
          "output_type": "stream",
          "name": "stderr",
          "text": [
            "\r 13%|█▎        | 4608/34935 [00:12<01:20, 376.57it/s]"
          ]
        },
        {
          "output_type": "stream",
          "name": "stdout",
          "text": [
            "x.shape  torch.Size([512, 512, 60])\n",
            "latent.shape  torch.Size([512, 64, 15])\n",
            "reconstructed.shape  torch.Size([512, 512, 60])\n",
            "Epoch 15/20\n",
            "loss: 0.10208500921726227\n",
            "\n"
          ]
        },
        {
          "output_type": "stream",
          "name": "stderr",
          "text": [
            "\r 15%|█▍        | 5120/34935 [00:13<01:18, 377.55it/s]"
          ]
        },
        {
          "output_type": "stream",
          "name": "stdout",
          "text": [
            "x.shape  torch.Size([512, 512, 60])\n",
            "latent.shape  torch.Size([512, 64, 15])\n",
            "reconstructed.shape  torch.Size([512, 512, 60])\n",
            "Epoch 15/20\n",
            "loss: 0.10345263034105301\n",
            "\n"
          ]
        },
        {
          "output_type": "stream",
          "name": "stderr",
          "text": [
            "\r 16%|█▌        | 5632/34935 [00:14<01:16, 384.26it/s]"
          ]
        },
        {
          "output_type": "stream",
          "name": "stdout",
          "text": [
            "x.shape  torch.Size([512, 512, 60])\n",
            "latent.shape  torch.Size([512, 64, 15])\n",
            "reconstructed.shape  torch.Size([512, 512, 60])\n",
            "Epoch 15/20\n",
            "loss: 0.1036931574344635\n",
            "\n"
          ]
        },
        {
          "output_type": "stream",
          "name": "stderr",
          "text": [
            "\r 18%|█▊        | 6144/34935 [00:16<01:14, 384.07it/s]"
          ]
        },
        {
          "output_type": "stream",
          "name": "stdout",
          "text": [
            "x.shape  torch.Size([512, 512, 60])\n",
            "latent.shape  torch.Size([512, 64, 15])\n",
            "reconstructed.shape  torch.Size([512, 512, 60])\n",
            "Epoch 15/20\n",
            "loss: 0.10183589160442352\n",
            "\n"
          ]
        },
        {
          "output_type": "stream",
          "name": "stderr",
          "text": [
            "\r 19%|█▉        | 6656/34935 [00:17<01:13, 384.44it/s]"
          ]
        },
        {
          "output_type": "stream",
          "name": "stdout",
          "text": [
            "x.shape  torch.Size([512, 512, 60])\n",
            "latent.shape  torch.Size([512, 64, 15])\n",
            "reconstructed.shape  torch.Size([512, 512, 60])\n",
            "Epoch 15/20\n",
            "loss: 0.09995437413454056\n",
            "\n"
          ]
        },
        {
          "output_type": "stream",
          "name": "stderr",
          "text": [
            "\r 21%|██        | 7168/34935 [00:18<01:12, 381.32it/s]"
          ]
        },
        {
          "output_type": "stream",
          "name": "stdout",
          "text": [
            "x.shape  torch.Size([512, 512, 60])\n",
            "latent.shape  torch.Size([512, 64, 15])\n",
            "reconstructed.shape  torch.Size([512, 512, 60])\n",
            "Epoch 15/20\n",
            "loss: 0.10224506258964539\n",
            "\n"
          ]
        },
        {
          "output_type": "stream",
          "name": "stderr",
          "text": [
            "\r 22%|██▏       | 7680/34935 [00:20<01:11, 381.54it/s]"
          ]
        },
        {
          "output_type": "stream",
          "name": "stdout",
          "text": [
            "x.shape  torch.Size([512, 512, 60])\n",
            "latent.shape  torch.Size([512, 64, 15])\n",
            "reconstructed.shape  torch.Size([512, 512, 60])\n",
            "Epoch 15/20\n",
            "loss: 0.10336615890264511\n",
            "\n"
          ]
        },
        {
          "output_type": "stream",
          "name": "stderr",
          "text": [
            "\r 23%|██▎       | 8192/34935 [00:21<01:10, 381.70it/s]"
          ]
        },
        {
          "output_type": "stream",
          "name": "stdout",
          "text": [
            "x.shape  torch.Size([512, 512, 60])\n",
            "latent.shape  torch.Size([512, 64, 15])\n",
            "reconstructed.shape  torch.Size([512, 512, 60])\n",
            "Epoch 15/20\n",
            "loss: 0.10136117041110992\n",
            "\n"
          ]
        },
        {
          "output_type": "stream",
          "name": "stderr",
          "text": [
            "\r 25%|██▍       | 8704/34935 [00:23<01:08, 380.39it/s]"
          ]
        },
        {
          "output_type": "stream",
          "name": "stdout",
          "text": [
            "x.shape  torch.Size([512, 512, 60])\n",
            "latent.shape  torch.Size([512, 64, 15])\n",
            "reconstructed.shape  torch.Size([512, 512, 60])\n",
            "Epoch 15/20\n",
            "loss: 0.10149484127759933\n",
            "\n"
          ]
        },
        {
          "output_type": "stream",
          "name": "stderr",
          "text": [
            "\r 26%|██▋       | 9216/34935 [00:24<01:07, 382.33it/s]"
          ]
        },
        {
          "output_type": "stream",
          "name": "stdout",
          "text": [
            "x.shape  torch.Size([512, 512, 60])\n",
            "latent.shape  torch.Size([512, 64, 15])\n",
            "reconstructed.shape  torch.Size([512, 512, 60])\n",
            "Epoch 15/20\n",
            "loss: 0.10319867730140686\n",
            "\n"
          ]
        },
        {
          "output_type": "stream",
          "name": "stderr",
          "text": [
            "\r 28%|██▊       | 9728/34935 [00:25<01:05, 383.71it/s]"
          ]
        },
        {
          "output_type": "stream",
          "name": "stdout",
          "text": [
            "x.shape  torch.Size([512, 512, 60])\n",
            "latent.shape  torch.Size([512, 64, 15])\n",
            "reconstructed.shape  torch.Size([512, 512, 60])\n",
            "Epoch 15/20\n",
            "loss: 0.10222092270851135\n",
            "\n"
          ]
        },
        {
          "output_type": "stream",
          "name": "stderr",
          "text": [
            "\r 29%|██▉       | 10240/34935 [00:27<01:04, 380.85it/s]"
          ]
        },
        {
          "output_type": "stream",
          "name": "stdout",
          "text": [
            "x.shape  torch.Size([512, 512, 60])\n",
            "latent.shape  torch.Size([512, 64, 15])\n",
            "reconstructed.shape  torch.Size([512, 512, 60])\n",
            "Epoch 15/20\n",
            "loss: 0.10367704182863235\n",
            "\n"
          ]
        },
        {
          "output_type": "stream",
          "name": "stderr",
          "text": [
            "\r 31%|███       | 10752/34935 [00:28<01:04, 377.18it/s]"
          ]
        },
        {
          "output_type": "stream",
          "name": "stdout",
          "text": [
            "x.shape  torch.Size([512, 512, 60])\n",
            "latent.shape  torch.Size([512, 64, 15])\n",
            "reconstructed.shape  torch.Size([512, 512, 60])\n",
            "Epoch 15/20\n",
            "loss: 0.10180585831403732\n",
            "\n"
          ]
        },
        {
          "output_type": "stream",
          "name": "stderr",
          "text": [
            "\r 32%|███▏      | 11264/34935 [00:29<01:02, 376.14it/s]"
          ]
        },
        {
          "output_type": "stream",
          "name": "stdout",
          "text": [
            "x.shape  torch.Size([512, 512, 60])\n",
            "latent.shape  torch.Size([512, 64, 15])\n",
            "reconstructed.shape  torch.Size([512, 512, 60])\n",
            "Epoch 15/20\n",
            "loss: 0.10196450352668762\n",
            "\n"
          ]
        },
        {
          "output_type": "stream",
          "name": "stderr",
          "text": [
            "\r 34%|███▎      | 11776/34935 [00:31<01:02, 372.42it/s]"
          ]
        },
        {
          "output_type": "stream",
          "name": "stdout",
          "text": [
            "x.shape  torch.Size([512, 512, 60])\n",
            "latent.shape  torch.Size([512, 64, 15])\n",
            "reconstructed.shape  torch.Size([512, 512, 60])\n",
            "Epoch 15/20\n",
            "loss: 0.10175790637731552\n",
            "\n"
          ]
        },
        {
          "output_type": "stream",
          "name": "stderr",
          "text": [
            "\r 35%|███▌      | 12288/34935 [00:32<01:00, 372.88it/s]"
          ]
        },
        {
          "output_type": "stream",
          "name": "stdout",
          "text": [
            "x.shape  torch.Size([512, 512, 60])\n",
            "latent.shape  torch.Size([512, 64, 15])\n",
            "reconstructed.shape  torch.Size([512, 512, 60])\n",
            "Epoch 15/20\n",
            "loss: 0.10079443454742432\n",
            "\n"
          ]
        },
        {
          "output_type": "stream",
          "name": "stderr",
          "text": [
            "\r 37%|███▋      | 12800/34935 [00:33<00:58, 377.45it/s]"
          ]
        },
        {
          "output_type": "stream",
          "name": "stdout",
          "text": [
            "x.shape  torch.Size([512, 512, 60])\n",
            "latent.shape  torch.Size([512, 64, 15])\n",
            "reconstructed.shape  torch.Size([512, 512, 60])\n",
            "Epoch 15/20\n",
            "loss: 0.10156433284282684\n",
            "\n"
          ]
        },
        {
          "output_type": "stream",
          "name": "stderr",
          "text": [
            "\r 38%|███▊      | 13312/34935 [00:35<00:57, 374.49it/s]"
          ]
        },
        {
          "output_type": "stream",
          "name": "stdout",
          "text": [
            "x.shape  torch.Size([512, 512, 60])\n",
            "latent.shape  torch.Size([512, 64, 15])\n",
            "reconstructed.shape  torch.Size([512, 512, 60])\n",
            "Epoch 15/20\n",
            "loss: 0.10258463770151138\n",
            "\n"
          ]
        },
        {
          "output_type": "stream",
          "name": "stderr",
          "text": [
            "\r 40%|███▉      | 13824/34935 [00:36<00:56, 375.21it/s]"
          ]
        },
        {
          "output_type": "stream",
          "name": "stdout",
          "text": [
            "x.shape  torch.Size([512, 512, 60])\n",
            "latent.shape  torch.Size([512, 64, 15])\n",
            "reconstructed.shape  torch.Size([512, 512, 60])\n",
            "Epoch 15/20\n",
            "loss: 0.10141421109437943\n",
            "\n"
          ]
        },
        {
          "output_type": "stream",
          "name": "stderr",
          "text": [
            "\r 41%|████      | 14336/34935 [00:37<00:54, 376.45it/s]"
          ]
        },
        {
          "output_type": "stream",
          "name": "stdout",
          "text": [
            "x.shape  torch.Size([512, 512, 60])\n",
            "latent.shape  torch.Size([512, 64, 15])\n",
            "reconstructed.shape  torch.Size([512, 512, 60])\n",
            "Epoch 15/20\n",
            "loss: 0.1010207086801529\n",
            "\n"
          ]
        },
        {
          "output_type": "stream",
          "name": "stderr",
          "text": [
            "\r 43%|████▎     | 14848/34935 [00:39<00:53, 378.26it/s]"
          ]
        },
        {
          "output_type": "stream",
          "name": "stdout",
          "text": [
            "x.shape  torch.Size([512, 512, 60])\n",
            "latent.shape  torch.Size([512, 64, 15])\n",
            "reconstructed.shape  torch.Size([512, 512, 60])\n",
            "Epoch 15/20\n",
            "loss: 0.10226888954639435\n",
            "\n"
          ]
        },
        {
          "output_type": "stream",
          "name": "stderr",
          "text": [
            "\r 44%|████▍     | 15360/34935 [00:40<00:51, 378.21it/s]"
          ]
        },
        {
          "output_type": "stream",
          "name": "stdout",
          "text": [
            "x.shape  torch.Size([512, 512, 60])\n",
            "latent.shape  torch.Size([512, 64, 15])\n",
            "reconstructed.shape  torch.Size([512, 512, 60])\n",
            "Epoch 15/20\n",
            "loss: 0.1010105311870575\n",
            "\n"
          ]
        },
        {
          "output_type": "stream",
          "name": "stderr",
          "text": [
            "\r 45%|████▌     | 15872/34935 [00:41<00:46, 410.07it/s]"
          ]
        },
        {
          "output_type": "stream",
          "name": "stdout",
          "text": [
            "x.shape  torch.Size([512, 512, 60])\n",
            "latent.shape  torch.Size([512, 64, 15])\n",
            "reconstructed.shape  torch.Size([512, 512, 60])\n",
            "Epoch 15/20\n",
            "loss: 0.10189050436019897\n",
            "\n"
          ]
        },
        {
          "output_type": "stream",
          "name": "stderr",
          "text": [
            "\r 47%|████▋     | 16384/34935 [00:43<00:46, 395.08it/s]"
          ]
        },
        {
          "output_type": "stream",
          "name": "stdout",
          "text": [
            "x.shape  torch.Size([512, 512, 60])\n",
            "latent.shape  torch.Size([512, 64, 15])\n",
            "reconstructed.shape  torch.Size([512, 512, 60])\n",
            "Epoch 15/20\n",
            "loss: 0.09982797503471375\n",
            "\n"
          ]
        },
        {
          "output_type": "stream",
          "name": "stderr",
          "text": [
            "\r 48%|████▊     | 16896/34935 [00:44<00:46, 391.35it/s]"
          ]
        },
        {
          "output_type": "stream",
          "name": "stdout",
          "text": [
            "x.shape  torch.Size([512, 512, 60])\n",
            "latent.shape  torch.Size([512, 64, 15])\n",
            "reconstructed.shape  torch.Size([512, 512, 60])\n",
            "Epoch 15/20\n",
            "loss: 0.10107412189245224\n",
            "\n"
          ]
        },
        {
          "output_type": "stream",
          "name": "stderr",
          "text": [
            "\r 50%|████▉     | 17408/34935 [00:45<00:45, 389.45it/s]"
          ]
        },
        {
          "output_type": "stream",
          "name": "stdout",
          "text": [
            "x.shape  torch.Size([512, 512, 60])\n",
            "latent.shape  torch.Size([512, 64, 15])\n",
            "reconstructed.shape  torch.Size([512, 512, 60])\n",
            "Epoch 15/20\n",
            "loss: 0.10110783576965332\n",
            "\n"
          ]
        },
        {
          "output_type": "stream",
          "name": "stderr",
          "text": [
            "\r 51%|█████▏    | 17920/34935 [00:47<00:44, 382.93it/s]"
          ]
        },
        {
          "output_type": "stream",
          "name": "stdout",
          "text": [
            "x.shape  torch.Size([512, 512, 60])\n",
            "latent.shape  torch.Size([512, 64, 15])\n",
            "reconstructed.shape  torch.Size([512, 512, 60])\n",
            "Epoch 15/20\n",
            "loss: 0.10236252844333649\n",
            "\n"
          ]
        },
        {
          "output_type": "stream",
          "name": "stderr",
          "text": [
            "\r 53%|█████▎    | 18432/34935 [00:48<00:43, 382.56it/s]"
          ]
        },
        {
          "output_type": "stream",
          "name": "stdout",
          "text": [
            "x.shape  torch.Size([512, 512, 60])\n",
            "latent.shape  torch.Size([512, 64, 15])\n",
            "reconstructed.shape  torch.Size([512, 512, 60])\n",
            "Epoch 15/20\n",
            "loss: 0.10321575403213501\n",
            "\n"
          ]
        },
        {
          "output_type": "stream",
          "name": "stderr",
          "text": [
            "\r 54%|█████▍    | 18944/34935 [00:49<00:41, 387.93it/s]"
          ]
        },
        {
          "output_type": "stream",
          "name": "stdout",
          "text": [
            "x.shape  torch.Size([512, 512, 60])\n",
            "latent.shape  torch.Size([512, 64, 15])\n",
            "reconstructed.shape  torch.Size([512, 512, 60])\n",
            "Epoch 15/20\n",
            "loss: 0.10029912739992142\n",
            "\n"
          ]
        },
        {
          "output_type": "stream",
          "name": "stderr",
          "text": [
            "\r 56%|█████▌    | 19456/34935 [00:50<00:39, 394.98it/s]"
          ]
        },
        {
          "output_type": "stream",
          "name": "stdout",
          "text": [
            "x.shape  torch.Size([512, 512, 60])\n",
            "latent.shape  torch.Size([512, 64, 15])\n",
            "reconstructed.shape  torch.Size([512, 512, 60])\n",
            "Epoch 15/20\n",
            "loss: 0.10380619019269943\n",
            "\n"
          ]
        },
        {
          "output_type": "stream",
          "name": "stderr",
          "text": [
            "\r 57%|█████▋    | 19968/34935 [00:52<00:37, 394.14it/s]"
          ]
        },
        {
          "output_type": "stream",
          "name": "stdout",
          "text": [
            "x.shape  torch.Size([512, 512, 60])\n",
            "latent.shape  torch.Size([512, 64, 15])\n",
            "reconstructed.shape  torch.Size([512, 512, 60])\n",
            "Epoch 15/20\n",
            "loss: 0.10273171216249466\n",
            "\n"
          ]
        },
        {
          "output_type": "stream",
          "name": "stderr",
          "text": [
            "\r 59%|█████▊    | 20480/34935 [00:53<00:36, 394.32it/s]"
          ]
        },
        {
          "output_type": "stream",
          "name": "stdout",
          "text": [
            "x.shape  torch.Size([512, 512, 60])\n",
            "latent.shape  torch.Size([512, 64, 15])\n",
            "reconstructed.shape  torch.Size([512, 512, 60])\n",
            "Epoch 15/20\n",
            "loss: 0.10225703567266464\n",
            "\n"
          ]
        },
        {
          "output_type": "stream",
          "name": "stderr",
          "text": [
            "\r 60%|██████    | 20992/34935 [00:54<00:35, 394.62it/s]"
          ]
        },
        {
          "output_type": "stream",
          "name": "stdout",
          "text": [
            "x.shape  torch.Size([512, 512, 60])\n",
            "latent.shape  torch.Size([512, 64, 15])\n",
            "reconstructed.shape  torch.Size([512, 512, 60])\n",
            "Epoch 15/20\n",
            "loss: 0.10012681037187576\n",
            "\n"
          ]
        },
        {
          "output_type": "stream",
          "name": "stderr",
          "text": [
            "\r 62%|██████▏   | 21504/34935 [00:56<00:33, 395.68it/s]"
          ]
        },
        {
          "output_type": "stream",
          "name": "stdout",
          "text": [
            "x.shape  torch.Size([512, 512, 60])\n",
            "latent.shape  torch.Size([512, 64, 15])\n",
            "reconstructed.shape  torch.Size([512, 512, 60])\n",
            "Epoch 15/20\n",
            "loss: 0.10236506164073944\n",
            "\n"
          ]
        },
        {
          "output_type": "stream",
          "name": "stderr",
          "text": [
            "\r 63%|██████▎   | 22016/34935 [00:57<00:32, 394.77it/s]"
          ]
        },
        {
          "output_type": "stream",
          "name": "stdout",
          "text": [
            "x.shape  torch.Size([512, 512, 60])\n",
            "latent.shape  torch.Size([512, 64, 15])\n",
            "reconstructed.shape  torch.Size([512, 512, 60])\n",
            "Epoch 15/20\n",
            "loss: 0.10018357634544373\n",
            "\n"
          ]
        },
        {
          "output_type": "stream",
          "name": "stderr",
          "text": [
            "\r 64%|██████▍   | 22528/34935 [00:58<00:31, 396.54it/s]"
          ]
        },
        {
          "output_type": "stream",
          "name": "stdout",
          "text": [
            "x.shape  torch.Size([512, 512, 60])\n",
            "latent.shape  torch.Size([512, 64, 15])\n",
            "reconstructed.shape  torch.Size([512, 512, 60])\n",
            "Epoch 15/20\n",
            "loss: 0.10011690855026245\n",
            "\n"
          ]
        },
        {
          "output_type": "stream",
          "name": "stderr",
          "text": [
            "\r 66%|██████▌   | 23040/34935 [01:00<00:30, 393.83it/s]"
          ]
        },
        {
          "output_type": "stream",
          "name": "stdout",
          "text": [
            "x.shape  torch.Size([512, 512, 60])\n",
            "latent.shape  torch.Size([512, 64, 15])\n",
            "reconstructed.shape  torch.Size([512, 512, 60])\n",
            "Epoch 15/20\n",
            "loss: 0.10107538104057312\n",
            "\n"
          ]
        },
        {
          "output_type": "stream",
          "name": "stderr",
          "text": [
            "\r 67%|██████▋   | 23552/34935 [01:01<00:29, 387.60it/s]"
          ]
        },
        {
          "output_type": "stream",
          "name": "stdout",
          "text": [
            "x.shape  torch.Size([512, 512, 60])\n",
            "latent.shape  torch.Size([512, 64, 15])\n",
            "reconstructed.shape  torch.Size([512, 512, 60])\n",
            "Epoch 15/20\n",
            "loss: 0.10203547030687332\n",
            "\n"
          ]
        },
        {
          "output_type": "stream",
          "name": "stderr",
          "text": [
            "\r 69%|██████▉   | 24064/34935 [01:02<00:28, 383.01it/s]"
          ]
        },
        {
          "output_type": "stream",
          "name": "stdout",
          "text": [
            "x.shape  torch.Size([512, 512, 60])\n",
            "latent.shape  torch.Size([512, 64, 15])\n",
            "reconstructed.shape  torch.Size([512, 512, 60])\n",
            "Epoch 15/20\n",
            "loss: 0.10141697525978088\n",
            "\n"
          ]
        },
        {
          "output_type": "stream",
          "name": "stderr",
          "text": [
            "\r 70%|███████   | 24576/34935 [01:04<00:26, 390.33it/s]"
          ]
        },
        {
          "output_type": "stream",
          "name": "stdout",
          "text": [
            "x.shape  torch.Size([512, 512, 60])\n",
            "latent.shape  torch.Size([512, 64, 15])\n",
            "reconstructed.shape  torch.Size([512, 512, 60])\n",
            "Epoch 15/20\n",
            "loss: 0.1007508933544159\n",
            "\n"
          ]
        },
        {
          "output_type": "stream",
          "name": "stderr",
          "text": [
            "\r 72%|███████▏  | 25088/34935 [01:05<00:25, 391.08it/s]"
          ]
        },
        {
          "output_type": "stream",
          "name": "stdout",
          "text": [
            "x.shape  torch.Size([512, 512, 60])\n",
            "latent.shape  torch.Size([512, 64, 15])\n",
            "reconstructed.shape  torch.Size([512, 512, 60])\n",
            "Epoch 15/20\n",
            "loss: 0.10063023865222931\n",
            "\n"
          ]
        },
        {
          "output_type": "stream",
          "name": "stderr",
          "text": [
            "\r 73%|███████▎  | 25600/34935 [01:06<00:23, 393.93it/s]"
          ]
        },
        {
          "output_type": "stream",
          "name": "stdout",
          "text": [
            "x.shape  torch.Size([512, 512, 60])\n",
            "latent.shape  torch.Size([512, 64, 15])\n",
            "reconstructed.shape  torch.Size([512, 512, 60])\n",
            "Epoch 15/20\n",
            "loss: 0.10122092813253403\n",
            "\n"
          ]
        },
        {
          "output_type": "stream",
          "name": "stderr",
          "text": [
            "\r 75%|███████▍  | 26112/34935 [01:07<00:22, 393.73it/s]"
          ]
        },
        {
          "output_type": "stream",
          "name": "stdout",
          "text": [
            "x.shape  torch.Size([512, 512, 60])\n",
            "latent.shape  torch.Size([512, 64, 15])\n",
            "reconstructed.shape  torch.Size([512, 512, 60])\n",
            "Epoch 15/20\n",
            "loss: 0.10141796618700027\n",
            "\n"
          ]
        },
        {
          "output_type": "stream",
          "name": "stderr",
          "text": [
            "\r 76%|███████▌  | 26624/34935 [01:09<00:21, 393.62it/s]"
          ]
        },
        {
          "output_type": "stream",
          "name": "stdout",
          "text": [
            "x.shape  torch.Size([512, 512, 60])\n",
            "latent.shape  torch.Size([512, 64, 15])\n",
            "reconstructed.shape  torch.Size([512, 512, 60])\n",
            "Epoch 15/20\n",
            "loss: 0.10135780274868011\n",
            "\n"
          ]
        },
        {
          "output_type": "stream",
          "name": "stderr",
          "text": [
            "\r 78%|███████▊  | 27136/34935 [01:10<00:20, 389.51it/s]"
          ]
        },
        {
          "output_type": "stream",
          "name": "stdout",
          "text": [
            "x.shape  torch.Size([512, 512, 60])\n",
            "latent.shape  torch.Size([512, 64, 15])\n",
            "reconstructed.shape  torch.Size([512, 512, 60])\n",
            "Epoch 15/20\n",
            "loss: 0.10222236812114716\n",
            "\n"
          ]
        },
        {
          "output_type": "stream",
          "name": "stderr",
          "text": [
            "\r 79%|███████▉  | 27648/34935 [01:11<00:18, 393.65it/s]"
          ]
        },
        {
          "output_type": "stream",
          "name": "stdout",
          "text": [
            "x.shape  torch.Size([512, 512, 60])\n",
            "latent.shape  torch.Size([512, 64, 15])\n",
            "reconstructed.shape  torch.Size([512, 512, 60])\n",
            "Epoch 15/20\n",
            "loss: 0.10162011533975601\n",
            "\n"
          ]
        },
        {
          "output_type": "stream",
          "name": "stderr",
          "text": [
            "\r 81%|████████  | 28160/34935 [01:13<00:17, 391.14it/s]"
          ]
        },
        {
          "output_type": "stream",
          "name": "stdout",
          "text": [
            "x.shape  torch.Size([512, 512, 60])\n",
            "latent.shape  torch.Size([512, 64, 15])\n",
            "reconstructed.shape  torch.Size([512, 512, 60])\n",
            "Epoch 15/20\n",
            "loss: 0.10083373636007309\n",
            "\n"
          ]
        },
        {
          "output_type": "stream",
          "name": "stderr",
          "text": [
            "\r 82%|████████▏ | 28672/34935 [01:14<00:15, 394.78it/s]"
          ]
        },
        {
          "output_type": "stream",
          "name": "stdout",
          "text": [
            "x.shape  torch.Size([512, 512, 60])\n",
            "latent.shape  torch.Size([512, 64, 15])\n",
            "reconstructed.shape  torch.Size([512, 512, 60])\n",
            "Epoch 15/20\n",
            "loss: 0.09965062141418457\n",
            "\n"
          ]
        },
        {
          "output_type": "stream",
          "name": "stderr",
          "text": [
            "\r 84%|████████▎ | 29184/34935 [01:15<00:14, 393.69it/s]"
          ]
        },
        {
          "output_type": "stream",
          "name": "stdout",
          "text": [
            "x.shape  torch.Size([512, 512, 60])\n",
            "latent.shape  torch.Size([512, 64, 15])\n",
            "reconstructed.shape  torch.Size([512, 512, 60])\n",
            "Epoch 15/20\n",
            "loss: 0.10071390867233276\n",
            "\n"
          ]
        },
        {
          "output_type": "stream",
          "name": "stderr",
          "text": [
            "\r 85%|████████▌ | 29696/34935 [01:17<00:13, 389.55it/s]"
          ]
        },
        {
          "output_type": "stream",
          "name": "stdout",
          "text": [
            "x.shape  torch.Size([512, 512, 60])\n",
            "latent.shape  torch.Size([512, 64, 15])\n",
            "reconstructed.shape  torch.Size([512, 512, 60])\n",
            "Epoch 15/20\n",
            "loss: 0.10054733604192734\n",
            "\n"
          ]
        },
        {
          "output_type": "stream",
          "name": "stderr",
          "text": [
            "\r 86%|████████▋ | 30208/34935 [01:18<00:12, 389.28it/s]"
          ]
        },
        {
          "output_type": "stream",
          "name": "stdout",
          "text": [
            "x.shape  torch.Size([512, 512, 60])\n",
            "latent.shape  torch.Size([512, 64, 15])\n",
            "reconstructed.shape  torch.Size([512, 512, 60])\n",
            "Epoch 15/20\n",
            "loss: 0.1004033088684082\n",
            "\n"
          ]
        },
        {
          "output_type": "stream",
          "name": "stderr",
          "text": [
            "\r 88%|████████▊ | 30720/34935 [01:19<00:10, 388.91it/s]"
          ]
        },
        {
          "output_type": "stream",
          "name": "stdout",
          "text": [
            "x.shape  torch.Size([512, 512, 60])\n",
            "latent.shape  torch.Size([512, 64, 15])\n",
            "reconstructed.shape  torch.Size([512, 512, 60])\n",
            "Epoch 15/20\n",
            "loss: 0.10081680119037628\n",
            "\n"
          ]
        },
        {
          "output_type": "stream",
          "name": "stderr",
          "text": [
            "\r 89%|████████▉ | 31232/34935 [01:21<00:09, 391.43it/s]"
          ]
        },
        {
          "output_type": "stream",
          "name": "stdout",
          "text": [
            "x.shape  torch.Size([512, 512, 60])\n",
            "latent.shape  torch.Size([512, 64, 15])\n",
            "reconstructed.shape  torch.Size([512, 512, 60])\n",
            "Epoch 15/20\n",
            "loss: 0.1010717824101448\n",
            "\n"
          ]
        },
        {
          "output_type": "stream",
          "name": "stderr",
          "text": [
            "\r 91%|█████████ | 31744/34935 [01:22<00:08, 389.47it/s]"
          ]
        },
        {
          "output_type": "stream",
          "name": "stdout",
          "text": [
            "x.shape  torch.Size([512, 512, 60])\n",
            "latent.shape  torch.Size([512, 64, 15])\n",
            "reconstructed.shape  torch.Size([512, 512, 60])\n",
            "Epoch 15/20\n",
            "loss: 0.10181157290935516\n",
            "\n"
          ]
        },
        {
          "output_type": "stream",
          "name": "stderr",
          "text": [
            "\r 92%|█████████▏| 32256/34935 [01:23<00:06, 394.61it/s]"
          ]
        },
        {
          "output_type": "stream",
          "name": "stdout",
          "text": [
            "x.shape  torch.Size([512, 512, 60])\n",
            "latent.shape  torch.Size([512, 64, 15])\n",
            "reconstructed.shape  torch.Size([512, 512, 60])\n",
            "Epoch 15/20\n",
            "loss: 0.10107453912496567\n",
            "\n"
          ]
        },
        {
          "output_type": "stream",
          "name": "stderr",
          "text": [
            "\r 94%|█████████▍| 32768/34935 [01:24<00:05, 394.02it/s]"
          ]
        },
        {
          "output_type": "stream",
          "name": "stdout",
          "text": [
            "x.shape  torch.Size([512, 512, 60])\n",
            "latent.shape  torch.Size([512, 64, 15])\n",
            "reconstructed.shape  torch.Size([512, 512, 60])\n",
            "Epoch 15/20\n",
            "loss: 0.09946582466363907\n",
            "\n"
          ]
        },
        {
          "output_type": "stream",
          "name": "stderr",
          "text": [
            "\r 95%|█████████▌| 33280/34935 [01:26<00:04, 396.12it/s]"
          ]
        },
        {
          "output_type": "stream",
          "name": "stdout",
          "text": [
            "x.shape  torch.Size([512, 512, 60])\n",
            "latent.shape  torch.Size([512, 64, 15])\n",
            "reconstructed.shape  torch.Size([512, 512, 60])\n",
            "Epoch 15/20\n",
            "loss: 0.1019013375043869\n",
            "\n"
          ]
        },
        {
          "output_type": "stream",
          "name": "stderr",
          "text": [
            "\r 97%|█████████▋| 33792/34935 [01:27<00:02, 389.09it/s]"
          ]
        },
        {
          "output_type": "stream",
          "name": "stdout",
          "text": [
            "x.shape  torch.Size([512, 512, 60])\n",
            "latent.shape  torch.Size([512, 64, 15])\n",
            "reconstructed.shape  torch.Size([512, 512, 60])\n",
            "Epoch 15/20\n",
            "loss: 0.10233555734157562\n",
            "\n"
          ]
        },
        {
          "output_type": "stream",
          "name": "stderr",
          "text": [
            "\r 98%|█████████▊| 34304/34935 [01:28<00:01, 392.66it/s]"
          ]
        },
        {
          "output_type": "stream",
          "name": "stdout",
          "text": [
            "x.shape  torch.Size([512, 512, 60])\n",
            "latent.shape  torch.Size([512, 64, 15])\n",
            "reconstructed.shape  torch.Size([512, 512, 60])\n",
            "Epoch 15/20\n",
            "loss: 0.10246099531650543\n",
            "\n"
          ]
        },
        {
          "output_type": "stream",
          "name": "stderr",
          "text": [
            "100%|██████████| 34935/34935 [01:30<00:00, 387.28it/s]"
          ]
        },
        {
          "output_type": "stream",
          "name": "stdout",
          "text": [
            "x.shape  torch.Size([512, 512, 60])\n",
            "latent.shape  torch.Size([512, 64, 15])\n",
            "reconstructed.shape  torch.Size([512, 512, 60])\n",
            "Epoch 15/20\n",
            "loss: 0.10145580023527145\n",
            "\n"
          ]
        },
        {
          "output_type": "stream",
          "name": "stderr",
          "text": [
            "\n"
          ]
        },
        {
          "output_type": "stream",
          "name": "stdout",
          "text": [
            "x.shape  torch.Size([119, 512, 60])\n",
            "latent.shape  torch.Size([119, 64, 15])\n",
            "reconstructed.shape  torch.Size([119, 512, 60])\n",
            "Epoch 15/20\n",
            "loss: 0.09725929796695709\n",
            "\n"
          ]
        },
        {
          "output_type": "stream",
          "name": "stderr",
          "text": [
            "  1%|▏         | 512/34935 [00:01<01:29, 382.83it/s]"
          ]
        },
        {
          "output_type": "stream",
          "name": "stdout",
          "text": [
            "x.shape  torch.Size([512, 512, 60])\n",
            "latent.shape  torch.Size([512, 64, 15])\n",
            "reconstructed.shape  torch.Size([512, 512, 60])\n",
            "Epoch 16/20\n",
            "loss: 0.10086072981357574\n",
            "\n"
          ]
        },
        {
          "output_type": "stream",
          "name": "stderr",
          "text": [
            "\r  3%|▎         | 1024/34935 [00:02<01:30, 374.35it/s]"
          ]
        },
        {
          "output_type": "stream",
          "name": "stdout",
          "text": [
            "x.shape  torch.Size([512, 512, 60])\n",
            "latent.shape  torch.Size([512, 64, 15])\n",
            "reconstructed.shape  torch.Size([512, 512, 60])\n",
            "Epoch 16/20\n",
            "loss: 0.10149449855089188\n",
            "\n"
          ]
        },
        {
          "output_type": "stream",
          "name": "stderr",
          "text": [
            "\r  4%|▍         | 1536/34935 [00:04<01:29, 373.22it/s]"
          ]
        },
        {
          "output_type": "stream",
          "name": "stdout",
          "text": [
            "x.shape  torch.Size([512, 512, 60])\n",
            "latent.shape  torch.Size([512, 64, 15])\n",
            "reconstructed.shape  torch.Size([512, 512, 60])\n",
            "Epoch 16/20\n",
            "loss: 0.09913573414087296\n",
            "\n"
          ]
        },
        {
          "output_type": "stream",
          "name": "stderr",
          "text": [
            "\r  6%|▌         | 2048/34935 [00:05<01:28, 370.46it/s]"
          ]
        },
        {
          "output_type": "stream",
          "name": "stdout",
          "text": [
            "x.shape  torch.Size([512, 512, 60])\n",
            "latent.shape  torch.Size([512, 64, 15])\n",
            "reconstructed.shape  torch.Size([512, 512, 60])\n",
            "Epoch 16/20\n",
            "loss: 0.10135643929243088\n",
            "\n"
          ]
        },
        {
          "output_type": "stream",
          "name": "stderr",
          "text": [
            "\r  7%|▋         | 2560/34935 [00:06<01:25, 377.95it/s]"
          ]
        },
        {
          "output_type": "stream",
          "name": "stdout",
          "text": [
            "x.shape  torch.Size([512, 512, 60])\n",
            "latent.shape  torch.Size([512, 64, 15])\n",
            "reconstructed.shape  torch.Size([512, 512, 60])\n",
            "Epoch 16/20\n",
            "loss: 0.10115080326795578\n",
            "\n"
          ]
        },
        {
          "output_type": "stream",
          "name": "stderr",
          "text": [
            "\r  9%|▉         | 3072/34935 [00:08<01:24, 379.25it/s]"
          ]
        },
        {
          "output_type": "stream",
          "name": "stdout",
          "text": [
            "x.shape  torch.Size([512, 512, 60])\n",
            "latent.shape  torch.Size([512, 64, 15])\n",
            "reconstructed.shape  torch.Size([512, 512, 60])\n",
            "Epoch 16/20\n",
            "loss: 0.10186440497636795\n",
            "\n"
          ]
        },
        {
          "output_type": "stream",
          "name": "stderr",
          "text": [
            "\r 10%|█         | 3584/34935 [00:09<01:22, 378.17it/s]"
          ]
        },
        {
          "output_type": "stream",
          "name": "stdout",
          "text": [
            "x.shape  torch.Size([512, 512, 60])\n",
            "latent.shape  torch.Size([512, 64, 15])\n",
            "reconstructed.shape  torch.Size([512, 512, 60])\n",
            "Epoch 16/20\n",
            "loss: 0.09941510111093521\n",
            "\n"
          ]
        },
        {
          "output_type": "stream",
          "name": "stderr",
          "text": [
            "\r 12%|█▏        | 4096/34935 [00:10<01:21, 377.86it/s]"
          ]
        },
        {
          "output_type": "stream",
          "name": "stdout",
          "text": [
            "x.shape  torch.Size([512, 512, 60])\n",
            "latent.shape  torch.Size([512, 64, 15])\n",
            "reconstructed.shape  torch.Size([512, 512, 60])\n",
            "Epoch 16/20\n",
            "loss: 0.1006399542093277\n",
            "\n"
          ]
        },
        {
          "output_type": "stream",
          "name": "stderr",
          "text": [
            "\r 13%|█▎        | 4608/34935 [00:12<01:20, 378.68it/s]"
          ]
        },
        {
          "output_type": "stream",
          "name": "stdout",
          "text": [
            "x.shape  torch.Size([512, 512, 60])\n",
            "latent.shape  torch.Size([512, 64, 15])\n",
            "reconstructed.shape  torch.Size([512, 512, 60])\n",
            "Epoch 16/20\n",
            "loss: 0.09990376234054565\n",
            "\n"
          ]
        },
        {
          "output_type": "stream",
          "name": "stderr",
          "text": [
            "\r 15%|█▍        | 5120/34935 [00:13<01:19, 377.36it/s]"
          ]
        },
        {
          "output_type": "stream",
          "name": "stdout",
          "text": [
            "x.shape  torch.Size([512, 512, 60])\n",
            "latent.shape  torch.Size([512, 64, 15])\n",
            "reconstructed.shape  torch.Size([512, 512, 60])\n",
            "Epoch 16/20\n",
            "loss: 0.10114013403654099\n",
            "\n"
          ]
        },
        {
          "output_type": "stream",
          "name": "stderr",
          "text": [
            "\r 16%|█▌        | 5632/34935 [00:14<01:17, 377.95it/s]"
          ]
        },
        {
          "output_type": "stream",
          "name": "stdout",
          "text": [
            "x.shape  torch.Size([512, 512, 60])\n",
            "latent.shape  torch.Size([512, 64, 15])\n",
            "reconstructed.shape  torch.Size([512, 512, 60])\n",
            "Epoch 16/20\n",
            "loss: 0.10137811303138733\n",
            "\n"
          ]
        },
        {
          "output_type": "stream",
          "name": "stderr",
          "text": [
            "\r 18%|█▊        | 6144/34935 [00:16<01:15, 381.52it/s]"
          ]
        },
        {
          "output_type": "stream",
          "name": "stdout",
          "text": [
            "x.shape  torch.Size([512, 512, 60])\n",
            "latent.shape  torch.Size([512, 64, 15])\n",
            "reconstructed.shape  torch.Size([512, 512, 60])\n",
            "Epoch 16/20\n",
            "loss: 0.099502794444561\n",
            "\n"
          ]
        },
        {
          "output_type": "stream",
          "name": "stderr",
          "text": [
            "\r 19%|█▉        | 6656/34935 [00:17<01:14, 378.15it/s]"
          ]
        },
        {
          "output_type": "stream",
          "name": "stdout",
          "text": [
            "x.shape  torch.Size([512, 512, 60])\n",
            "latent.shape  torch.Size([512, 64, 15])\n",
            "reconstructed.shape  torch.Size([512, 512, 60])\n",
            "Epoch 16/20\n",
            "loss: 0.09781637787818909\n",
            "\n"
          ]
        },
        {
          "output_type": "stream",
          "name": "stderr",
          "text": [
            "\r 21%|██        | 7168/34935 [00:18<01:13, 380.06it/s]"
          ]
        },
        {
          "output_type": "stream",
          "name": "stdout",
          "text": [
            "x.shape  torch.Size([512, 512, 60])\n",
            "latent.shape  torch.Size([512, 64, 15])\n",
            "reconstructed.shape  torch.Size([512, 512, 60])\n",
            "Epoch 16/20\n",
            "loss: 0.10011395066976547\n",
            "\n"
          ]
        },
        {
          "output_type": "stream",
          "name": "stderr",
          "text": [
            "\r 22%|██▏       | 7680/34935 [00:20<01:12, 377.98it/s]"
          ]
        },
        {
          "output_type": "stream",
          "name": "stdout",
          "text": [
            "x.shape  torch.Size([512, 512, 60])\n",
            "latent.shape  torch.Size([512, 64, 15])\n",
            "reconstructed.shape  torch.Size([512, 512, 60])\n",
            "Epoch 16/20\n",
            "loss: 0.10107498615980148\n",
            "\n"
          ]
        },
        {
          "output_type": "stream",
          "name": "stderr",
          "text": [
            "\r 23%|██▎       | 8192/34935 [00:21<01:10, 376.88it/s]"
          ]
        },
        {
          "output_type": "stream",
          "name": "stdout",
          "text": [
            "x.shape  torch.Size([512, 512, 60])\n",
            "latent.shape  torch.Size([512, 64, 15])\n",
            "reconstructed.shape  torch.Size([512, 512, 60])\n",
            "Epoch 16/20\n",
            "loss: 0.09930361807346344\n",
            "\n"
          ]
        },
        {
          "output_type": "stream",
          "name": "stderr",
          "text": [
            "\r 25%|██▍       | 8704/34935 [00:23<01:08, 381.23it/s]"
          ]
        },
        {
          "output_type": "stream",
          "name": "stdout",
          "text": [
            "x.shape  torch.Size([512, 512, 60])\n",
            "latent.shape  torch.Size([512, 64, 15])\n",
            "reconstructed.shape  torch.Size([512, 512, 60])\n",
            "Epoch 16/20\n",
            "loss: 0.09953499585390091\n",
            "\n"
          ]
        },
        {
          "output_type": "stream",
          "name": "stderr",
          "text": [
            "\r 26%|██▋       | 9216/34935 [00:24<01:06, 385.96it/s]"
          ]
        },
        {
          "output_type": "stream",
          "name": "stdout",
          "text": [
            "x.shape  torch.Size([512, 512, 60])\n",
            "latent.shape  torch.Size([512, 64, 15])\n",
            "reconstructed.shape  torch.Size([512, 512, 60])\n",
            "Epoch 16/20\n",
            "loss: 0.10115129500627518\n",
            "\n"
          ]
        },
        {
          "output_type": "stream",
          "name": "stderr",
          "text": [
            "\r 28%|██▊       | 9728/34935 [00:25<01:05, 387.48it/s]"
          ]
        },
        {
          "output_type": "stream",
          "name": "stdout",
          "text": [
            "x.shape  torch.Size([512, 512, 60])\n",
            "latent.shape  torch.Size([512, 64, 15])\n",
            "reconstructed.shape  torch.Size([512, 512, 60])\n",
            "Epoch 16/20\n",
            "loss: 0.09969163686037064\n",
            "\n"
          ]
        },
        {
          "output_type": "stream",
          "name": "stderr",
          "text": [
            "\r 29%|██▉       | 10240/34935 [00:26<01:04, 384.03it/s]"
          ]
        },
        {
          "output_type": "stream",
          "name": "stdout",
          "text": [
            "x.shape  torch.Size([512, 512, 60])\n",
            "latent.shape  torch.Size([512, 64, 15])\n",
            "reconstructed.shape  torch.Size([512, 512, 60])\n",
            "Epoch 16/20\n",
            "loss: 0.10147293657064438\n",
            "\n"
          ]
        },
        {
          "output_type": "stream",
          "name": "stderr",
          "text": [
            "\r 31%|███       | 10752/34935 [00:28<01:03, 379.44it/s]"
          ]
        },
        {
          "output_type": "stream",
          "name": "stdout",
          "text": [
            "x.shape  torch.Size([512, 512, 60])\n",
            "latent.shape  torch.Size([512, 64, 15])\n",
            "reconstructed.shape  torch.Size([512, 512, 60])\n",
            "Epoch 16/20\n",
            "loss: 0.09995424747467041\n",
            "\n"
          ]
        },
        {
          "output_type": "stream",
          "name": "stderr",
          "text": [
            "\r 32%|███▏      | 11264/34935 [00:29<01:02, 377.64it/s]"
          ]
        },
        {
          "output_type": "stream",
          "name": "stdout",
          "text": [
            "x.shape  torch.Size([512, 512, 60])\n",
            "latent.shape  torch.Size([512, 64, 15])\n",
            "reconstructed.shape  torch.Size([512, 512, 60])\n",
            "Epoch 16/20\n",
            "loss: 0.09991245716810226\n",
            "\n"
          ]
        },
        {
          "output_type": "stream",
          "name": "stderr",
          "text": [
            "\r 34%|███▎      | 11776/34935 [00:31<01:01, 377.77it/s]"
          ]
        },
        {
          "output_type": "stream",
          "name": "stdout",
          "text": [
            "x.shape  torch.Size([512, 512, 60])\n",
            "latent.shape  torch.Size([512, 64, 15])\n",
            "reconstructed.shape  torch.Size([512, 512, 60])\n",
            "Epoch 16/20\n",
            "loss: 0.09966173022985458\n",
            "\n"
          ]
        },
        {
          "output_type": "stream",
          "name": "stderr",
          "text": [
            "\r 35%|███▌      | 12288/34935 [00:32<01:00, 375.96it/s]"
          ]
        },
        {
          "output_type": "stream",
          "name": "stdout",
          "text": [
            "x.shape  torch.Size([512, 512, 60])\n",
            "latent.shape  torch.Size([512, 64, 15])\n",
            "reconstructed.shape  torch.Size([512, 512, 60])\n",
            "Epoch 16/20\n",
            "loss: 0.09875961393117905\n",
            "\n"
          ]
        },
        {
          "output_type": "stream",
          "name": "stderr",
          "text": [
            "\r 37%|███▋      | 12800/34935 [00:33<00:58, 380.84it/s]"
          ]
        },
        {
          "output_type": "stream",
          "name": "stdout",
          "text": [
            "x.shape  torch.Size([512, 512, 60])\n",
            "latent.shape  torch.Size([512, 64, 15])\n",
            "reconstructed.shape  torch.Size([512, 512, 60])\n",
            "Epoch 16/20\n",
            "loss: 0.0994904413819313\n",
            "\n"
          ]
        },
        {
          "output_type": "stream",
          "name": "stderr",
          "text": [
            "\r 38%|███▊      | 13312/34935 [00:35<00:56, 382.46it/s]"
          ]
        },
        {
          "output_type": "stream",
          "name": "stdout",
          "text": [
            "x.shape  torch.Size([512, 512, 60])\n",
            "latent.shape  torch.Size([512, 64, 15])\n",
            "reconstructed.shape  torch.Size([512, 512, 60])\n",
            "Epoch 16/20\n",
            "loss: 0.10051584243774414\n",
            "\n"
          ]
        },
        {
          "output_type": "stream",
          "name": "stderr",
          "text": [
            "\r 40%|███▉      | 13824/34935 [00:36<00:55, 380.06it/s]"
          ]
        },
        {
          "output_type": "stream",
          "name": "stdout",
          "text": [
            "x.shape  torch.Size([512, 512, 60])\n",
            "latent.shape  torch.Size([512, 64, 15])\n",
            "reconstructed.shape  torch.Size([512, 512, 60])\n",
            "Epoch 16/20\n",
            "loss: 0.09926063567399979\n",
            "\n"
          ]
        },
        {
          "output_type": "stream",
          "name": "stderr",
          "text": [
            "\r 41%|████      | 14336/34935 [00:37<00:53, 384.92it/s]"
          ]
        },
        {
          "output_type": "stream",
          "name": "stdout",
          "text": [
            "x.shape  torch.Size([512, 512, 60])\n",
            "latent.shape  torch.Size([512, 64, 15])\n",
            "reconstructed.shape  torch.Size([512, 512, 60])\n",
            "Epoch 16/20\n",
            "loss: 0.09904669970273972\n",
            "\n"
          ]
        },
        {
          "output_type": "stream",
          "name": "stderr",
          "text": [
            "\r 43%|████▎     | 14848/34935 [00:39<00:52, 382.86it/s]"
          ]
        },
        {
          "output_type": "stream",
          "name": "stdout",
          "text": [
            "x.shape  torch.Size([512, 512, 60])\n",
            "latent.shape  torch.Size([512, 64, 15])\n",
            "reconstructed.shape  torch.Size([512, 512, 60])\n",
            "Epoch 16/20\n",
            "loss: 0.10009433329105377\n",
            "\n"
          ]
        },
        {
          "output_type": "stream",
          "name": "stderr",
          "text": [
            "\r 44%|████▍     | 15360/34935 [00:40<00:51, 381.16it/s]"
          ]
        },
        {
          "output_type": "stream",
          "name": "stdout",
          "text": [
            "x.shape  torch.Size([512, 512, 60])\n",
            "latent.shape  torch.Size([512, 64, 15])\n",
            "reconstructed.shape  torch.Size([512, 512, 60])\n",
            "Epoch 16/20\n",
            "loss: 0.09909196943044662\n",
            "\n"
          ]
        },
        {
          "output_type": "stream",
          "name": "stderr",
          "text": [
            "\r 45%|████▌     | 15872/34935 [00:41<00:46, 413.72it/s]"
          ]
        },
        {
          "output_type": "stream",
          "name": "stdout",
          "text": [
            "x.shape  torch.Size([512, 512, 60])\n",
            "latent.shape  torch.Size([512, 64, 15])\n",
            "reconstructed.shape  torch.Size([512, 512, 60])\n",
            "Epoch 16/20\n",
            "loss: 0.09998496621847153\n",
            "\n"
          ]
        },
        {
          "output_type": "stream",
          "name": "stderr",
          "text": [
            "\r 47%|████▋     | 16384/34935 [00:42<00:46, 403.11it/s]"
          ]
        },
        {
          "output_type": "stream",
          "name": "stdout",
          "text": [
            "x.shape  torch.Size([512, 512, 60])\n",
            "latent.shape  torch.Size([512, 64, 15])\n",
            "reconstructed.shape  torch.Size([512, 512, 60])\n",
            "Epoch 16/20\n",
            "loss: 0.09806393831968307\n",
            "\n"
          ]
        },
        {
          "output_type": "stream",
          "name": "stderr",
          "text": [
            "\r 48%|████▊     | 16896/34935 [00:44<00:45, 395.58it/s]"
          ]
        },
        {
          "output_type": "stream",
          "name": "stdout",
          "text": [
            "x.shape  torch.Size([512, 512, 60])\n",
            "latent.shape  torch.Size([512, 64, 15])\n",
            "reconstructed.shape  torch.Size([512, 512, 60])\n",
            "Epoch 16/20\n",
            "loss: 0.0991702526807785\n",
            "\n"
          ]
        },
        {
          "output_type": "stream",
          "name": "stderr",
          "text": [
            "\r 50%|████▉     | 17408/34935 [00:45<00:44, 394.44it/s]"
          ]
        },
        {
          "output_type": "stream",
          "name": "stdout",
          "text": [
            "x.shape  torch.Size([512, 512, 60])\n",
            "latent.shape  torch.Size([512, 64, 15])\n",
            "reconstructed.shape  torch.Size([512, 512, 60])\n",
            "Epoch 16/20\n",
            "loss: 0.09914059937000275\n",
            "\n"
          ]
        },
        {
          "output_type": "stream",
          "name": "stderr",
          "text": [
            "\r 51%|█████▏    | 17920/34935 [00:46<00:43, 392.44it/s]"
          ]
        },
        {
          "output_type": "stream",
          "name": "stdout",
          "text": [
            "x.shape  torch.Size([512, 512, 60])\n",
            "latent.shape  torch.Size([512, 64, 15])\n",
            "reconstructed.shape  torch.Size([512, 512, 60])\n",
            "Epoch 16/20\n",
            "loss: 0.10032147169113159\n",
            "\n"
          ]
        },
        {
          "output_type": "stream",
          "name": "stderr",
          "text": [
            "\r 53%|█████▎    | 18432/34935 [00:48<00:42, 391.34it/s]"
          ]
        },
        {
          "output_type": "stream",
          "name": "stdout",
          "text": [
            "x.shape  torch.Size([512, 512, 60])\n",
            "latent.shape  torch.Size([512, 64, 15])\n",
            "reconstructed.shape  torch.Size([512, 512, 60])\n",
            "Epoch 16/20\n",
            "loss: 0.10079781711101532\n",
            "\n"
          ]
        },
        {
          "output_type": "stream",
          "name": "stderr",
          "text": [
            "\r 54%|█████▍    | 18944/34935 [00:49<00:40, 395.34it/s]"
          ]
        },
        {
          "output_type": "stream",
          "name": "stdout",
          "text": [
            "x.shape  torch.Size([512, 512, 60])\n",
            "latent.shape  torch.Size([512, 64, 15])\n",
            "reconstructed.shape  torch.Size([512, 512, 60])\n",
            "Epoch 16/20\n",
            "loss: 0.09772411733865738\n",
            "\n"
          ]
        },
        {
          "output_type": "stream",
          "name": "stderr",
          "text": [
            "\r 56%|█████▌    | 19456/34935 [00:50<00:38, 398.06it/s]"
          ]
        },
        {
          "output_type": "stream",
          "name": "stdout",
          "text": [
            "x.shape  torch.Size([512, 512, 60])\n",
            "latent.shape  torch.Size([512, 64, 15])\n",
            "reconstructed.shape  torch.Size([512, 512, 60])\n",
            "Epoch 16/20\n",
            "loss: 0.10093794763088226\n",
            "\n"
          ]
        },
        {
          "output_type": "stream",
          "name": "stderr",
          "text": [
            "\r 57%|█████▋    | 19968/34935 [00:51<00:38, 391.72it/s]"
          ]
        },
        {
          "output_type": "stream",
          "name": "stdout",
          "text": [
            "x.shape  torch.Size([512, 512, 60])\n",
            "latent.shape  torch.Size([512, 64, 15])\n",
            "reconstructed.shape  torch.Size([512, 512, 60])\n",
            "Epoch 16/20\n",
            "loss: 0.10031909495592117\n",
            "\n"
          ]
        },
        {
          "output_type": "stream",
          "name": "stderr",
          "text": [
            "\r 59%|█████▊    | 20480/34935 [00:53<00:36, 391.15it/s]"
          ]
        },
        {
          "output_type": "stream",
          "name": "stdout",
          "text": [
            "x.shape  torch.Size([512, 512, 60])\n",
            "latent.shape  torch.Size([512, 64, 15])\n",
            "reconstructed.shape  torch.Size([512, 512, 60])\n",
            "Epoch 16/20\n",
            "loss: 0.1004319116473198\n",
            "\n"
          ]
        },
        {
          "output_type": "stream",
          "name": "stderr",
          "text": [
            "\r 60%|██████    | 20992/34935 [00:54<00:35, 393.77it/s]"
          ]
        },
        {
          "output_type": "stream",
          "name": "stdout",
          "text": [
            "x.shape  torch.Size([512, 512, 60])\n",
            "latent.shape  torch.Size([512, 64, 15])\n",
            "reconstructed.shape  torch.Size([512, 512, 60])\n",
            "Epoch 16/20\n",
            "loss: 0.09831082820892334\n",
            "\n"
          ]
        },
        {
          "output_type": "stream",
          "name": "stderr",
          "text": [
            "\r 62%|██████▏   | 21504/34935 [00:55<00:33, 395.77it/s]"
          ]
        },
        {
          "output_type": "stream",
          "name": "stdout",
          "text": [
            "x.shape  torch.Size([512, 512, 60])\n",
            "latent.shape  torch.Size([512, 64, 15])\n",
            "reconstructed.shape  torch.Size([512, 512, 60])\n",
            "Epoch 16/20\n",
            "loss: 0.10028911381959915\n",
            "\n"
          ]
        },
        {
          "output_type": "stream",
          "name": "stderr",
          "text": [
            "\r 63%|██████▎   | 22016/34935 [00:57<00:33, 389.87it/s]"
          ]
        },
        {
          "output_type": "stream",
          "name": "stdout",
          "text": [
            "x.shape  torch.Size([512, 512, 60])\n",
            "latent.shape  torch.Size([512, 64, 15])\n",
            "reconstructed.shape  torch.Size([512, 512, 60])\n",
            "Epoch 16/20\n",
            "loss: 0.0984613373875618\n",
            "\n"
          ]
        },
        {
          "output_type": "stream",
          "name": "stderr",
          "text": [
            "\r 64%|██████▍   | 22528/34935 [00:58<00:31, 393.23it/s]"
          ]
        },
        {
          "output_type": "stream",
          "name": "stdout",
          "text": [
            "x.shape  torch.Size([512, 512, 60])\n",
            "latent.shape  torch.Size([512, 64, 15])\n",
            "reconstructed.shape  torch.Size([512, 512, 60])\n",
            "Epoch 16/20\n",
            "loss: 0.09814350306987762\n",
            "\n"
          ]
        },
        {
          "output_type": "stream",
          "name": "stderr",
          "text": [
            "\r 66%|██████▌   | 23040/34935 [00:59<00:30, 395.12it/s]"
          ]
        },
        {
          "output_type": "stream",
          "name": "stdout",
          "text": [
            "x.shape  torch.Size([512, 512, 60])\n",
            "latent.shape  torch.Size([512, 64, 15])\n",
            "reconstructed.shape  torch.Size([512, 512, 60])\n",
            "Epoch 16/20\n",
            "loss: 0.09920927882194519\n",
            "\n"
          ]
        },
        {
          "output_type": "stream",
          "name": "stderr",
          "text": [
            "\r 67%|██████▋   | 23552/34935 [01:01<00:28, 395.55it/s]"
          ]
        },
        {
          "output_type": "stream",
          "name": "stdout",
          "text": [
            "x.shape  torch.Size([512, 512, 60])\n",
            "latent.shape  torch.Size([512, 64, 15])\n",
            "reconstructed.shape  torch.Size([512, 512, 60])\n",
            "Epoch 16/20\n",
            "loss: 0.10029183328151703\n",
            "\n"
          ]
        },
        {
          "output_type": "stream",
          "name": "stderr",
          "text": [
            "\r 69%|██████▉   | 24064/34935 [01:02<00:27, 390.71it/s]"
          ]
        },
        {
          "output_type": "stream",
          "name": "stdout",
          "text": [
            "x.shape  torch.Size([512, 512, 60])\n",
            "latent.shape  torch.Size([512, 64, 15])\n",
            "reconstructed.shape  torch.Size([512, 512, 60])\n",
            "Epoch 16/20\n",
            "loss: 0.09977466613054276\n",
            "\n"
          ]
        },
        {
          "output_type": "stream",
          "name": "stderr",
          "text": [
            "\r 70%|███████   | 24576/34935 [01:03<00:26, 395.30it/s]"
          ]
        },
        {
          "output_type": "stream",
          "name": "stdout",
          "text": [
            "x.shape  torch.Size([512, 512, 60])\n",
            "latent.shape  torch.Size([512, 64, 15])\n",
            "reconstructed.shape  torch.Size([512, 512, 60])\n",
            "Epoch 16/20\n",
            "loss: 0.09903623908758163\n",
            "\n"
          ]
        },
        {
          "output_type": "stream",
          "name": "stderr",
          "text": [
            "\r 72%|███████▏  | 25088/34935 [01:04<00:24, 398.28it/s]"
          ]
        },
        {
          "output_type": "stream",
          "name": "stdout",
          "text": [
            "x.shape  torch.Size([512, 512, 60])\n",
            "latent.shape  torch.Size([512, 64, 15])\n",
            "reconstructed.shape  torch.Size([512, 512, 60])\n",
            "Epoch 16/20\n",
            "loss: 0.09885121136903763\n",
            "\n"
          ]
        },
        {
          "output_type": "stream",
          "name": "stderr",
          "text": [
            "\r 73%|███████▎  | 25600/34935 [01:06<00:23, 397.02it/s]"
          ]
        },
        {
          "output_type": "stream",
          "name": "stdout",
          "text": [
            "x.shape  torch.Size([512, 512, 60])\n",
            "latent.shape  torch.Size([512, 64, 15])\n",
            "reconstructed.shape  torch.Size([512, 512, 60])\n",
            "Epoch 16/20\n",
            "loss: 0.0995357409119606\n",
            "\n"
          ]
        },
        {
          "output_type": "stream",
          "name": "stderr",
          "text": [
            "\r 75%|███████▍  | 26112/34935 [01:07<00:22, 399.59it/s]"
          ]
        },
        {
          "output_type": "stream",
          "name": "stdout",
          "text": [
            "x.shape  torch.Size([512, 512, 60])\n",
            "latent.shape  torch.Size([512, 64, 15])\n",
            "reconstructed.shape  torch.Size([512, 512, 60])\n",
            "Epoch 16/20\n",
            "loss: 0.09956042468547821\n",
            "\n"
          ]
        },
        {
          "output_type": "stream",
          "name": "stderr",
          "text": [
            "\r 76%|███████▌  | 26624/34935 [01:08<00:20, 396.99it/s]"
          ]
        },
        {
          "output_type": "stream",
          "name": "stdout",
          "text": [
            "x.shape  torch.Size([512, 512, 60])\n",
            "latent.shape  torch.Size([512, 64, 15])\n",
            "reconstructed.shape  torch.Size([512, 512, 60])\n",
            "Epoch 16/20\n",
            "loss: 0.0996299609541893\n",
            "\n"
          ]
        },
        {
          "output_type": "stream",
          "name": "stderr",
          "text": [
            "\r 78%|███████▊  | 27136/34935 [01:10<00:19, 397.00it/s]"
          ]
        },
        {
          "output_type": "stream",
          "name": "stdout",
          "text": [
            "x.shape  torch.Size([512, 512, 60])\n",
            "latent.shape  torch.Size([512, 64, 15])\n",
            "reconstructed.shape  torch.Size([512, 512, 60])\n",
            "Epoch 16/20\n",
            "loss: 0.10068515688180923\n",
            "\n"
          ]
        },
        {
          "output_type": "stream",
          "name": "stderr",
          "text": [
            "\r 79%|███████▉  | 27648/34935 [01:11<00:18, 397.12it/s]"
          ]
        },
        {
          "output_type": "stream",
          "name": "stdout",
          "text": [
            "x.shape  torch.Size([512, 512, 60])\n",
            "latent.shape  torch.Size([512, 64, 15])\n",
            "reconstructed.shape  torch.Size([512, 512, 60])\n",
            "Epoch 16/20\n",
            "loss: 0.09998676925897598\n",
            "\n"
          ]
        },
        {
          "output_type": "stream",
          "name": "stderr",
          "text": [
            "\r 81%|████████  | 28160/34935 [01:12<00:17, 391.61it/s]"
          ]
        },
        {
          "output_type": "stream",
          "name": "stdout",
          "text": [
            "x.shape  torch.Size([512, 512, 60])\n",
            "latent.shape  torch.Size([512, 64, 15])\n",
            "reconstructed.shape  torch.Size([512, 512, 60])\n",
            "Epoch 16/20\n",
            "loss: 0.09913365542888641\n",
            "\n"
          ]
        },
        {
          "output_type": "stream",
          "name": "stderr",
          "text": [
            "\r 82%|████████▏ | 28672/34935 [01:14<00:16, 391.22it/s]"
          ]
        },
        {
          "output_type": "stream",
          "name": "stdout",
          "text": [
            "x.shape  torch.Size([512, 512, 60])\n",
            "latent.shape  torch.Size([512, 64, 15])\n",
            "reconstructed.shape  torch.Size([512, 512, 60])\n",
            "Epoch 16/20\n",
            "loss: 0.09810035675764084\n",
            "\n"
          ]
        },
        {
          "output_type": "stream",
          "name": "stderr",
          "text": [
            "\r 84%|████████▎ | 29184/34935 [01:15<00:14, 388.51it/s]"
          ]
        },
        {
          "output_type": "stream",
          "name": "stdout",
          "text": [
            "x.shape  torch.Size([512, 512, 60])\n",
            "latent.shape  torch.Size([512, 64, 15])\n",
            "reconstructed.shape  torch.Size([512, 512, 60])\n",
            "Epoch 16/20\n",
            "loss: 0.09909407794475555\n",
            "\n"
          ]
        },
        {
          "output_type": "stream",
          "name": "stderr",
          "text": [
            "\r 85%|████████▌ | 29696/34935 [01:16<00:13, 382.15it/s]"
          ]
        },
        {
          "output_type": "stream",
          "name": "stdout",
          "text": [
            "x.shape  torch.Size([512, 512, 60])\n",
            "latent.shape  torch.Size([512, 64, 15])\n",
            "reconstructed.shape  torch.Size([512, 512, 60])\n",
            "Epoch 16/20\n",
            "loss: 0.09912793338298798\n",
            "\n"
          ]
        },
        {
          "output_type": "stream",
          "name": "stderr",
          "text": [
            "\r 86%|████████▋ | 30208/34935 [01:18<00:12, 380.52it/s]"
          ]
        },
        {
          "output_type": "stream",
          "name": "stdout",
          "text": [
            "x.shape  torch.Size([512, 512, 60])\n",
            "latent.shape  torch.Size([512, 64, 15])\n",
            "reconstructed.shape  torch.Size([512, 512, 60])\n",
            "Epoch 16/20\n",
            "loss: 0.09875859320163727\n",
            "\n"
          ]
        },
        {
          "output_type": "stream",
          "name": "stderr",
          "text": [
            "\r 88%|████████▊ | 30720/34935 [01:19<00:11, 382.10it/s]"
          ]
        },
        {
          "output_type": "stream",
          "name": "stdout",
          "text": [
            "x.shape  torch.Size([512, 512, 60])\n",
            "latent.shape  torch.Size([512, 64, 15])\n",
            "reconstructed.shape  torch.Size([512, 512, 60])\n",
            "Epoch 16/20\n",
            "loss: 0.0991746336221695\n",
            "\n"
          ]
        },
        {
          "output_type": "stream",
          "name": "stderr",
          "text": [
            "\r 89%|████████▉ | 31232/34935 [01:20<00:09, 381.23it/s]"
          ]
        },
        {
          "output_type": "stream",
          "name": "stdout",
          "text": [
            "x.shape  torch.Size([512, 512, 60])\n",
            "latent.shape  torch.Size([512, 64, 15])\n",
            "reconstructed.shape  torch.Size([512, 512, 60])\n",
            "Epoch 16/20\n",
            "loss: 0.09951258450746536\n",
            "\n"
          ]
        },
        {
          "output_type": "stream",
          "name": "stderr",
          "text": [
            "\r 91%|█████████ | 31744/34935 [01:22<00:08, 377.97it/s]"
          ]
        },
        {
          "output_type": "stream",
          "name": "stdout",
          "text": [
            "x.shape  torch.Size([512, 512, 60])\n",
            "latent.shape  torch.Size([512, 64, 15])\n",
            "reconstructed.shape  torch.Size([512, 512, 60])\n",
            "Epoch 16/20\n",
            "loss: 0.10045479983091354\n",
            "\n"
          ]
        },
        {
          "output_type": "stream",
          "name": "stderr",
          "text": [
            "\r 92%|█████████▏| 32256/34935 [01:23<00:07, 381.15it/s]"
          ]
        },
        {
          "output_type": "stream",
          "name": "stdout",
          "text": [
            "x.shape  torch.Size([512, 512, 60])\n",
            "latent.shape  torch.Size([512, 64, 15])\n",
            "reconstructed.shape  torch.Size([512, 512, 60])\n",
            "Epoch 16/20\n",
            "loss: 0.09973778575658798\n",
            "\n"
          ]
        },
        {
          "output_type": "stream",
          "name": "stderr",
          "text": [
            "\r 94%|█████████▍| 32768/34935 [01:24<00:05, 385.58it/s]"
          ]
        },
        {
          "output_type": "stream",
          "name": "stdout",
          "text": [
            "x.shape  torch.Size([512, 512, 60])\n",
            "latent.shape  torch.Size([512, 64, 15])\n",
            "reconstructed.shape  torch.Size([512, 512, 60])\n",
            "Epoch 16/20\n",
            "loss: 0.09816735982894897\n",
            "\n"
          ]
        },
        {
          "output_type": "stream",
          "name": "stderr",
          "text": [
            "\r 95%|█████████▌| 33280/34935 [01:26<00:04, 389.09it/s]"
          ]
        },
        {
          "output_type": "stream",
          "name": "stdout",
          "text": [
            "x.shape  torch.Size([512, 512, 60])\n",
            "latent.shape  torch.Size([512, 64, 15])\n",
            "reconstructed.shape  torch.Size([512, 512, 60])\n",
            "Epoch 16/20\n",
            "loss: 0.10052936524152756\n",
            "\n"
          ]
        },
        {
          "output_type": "stream",
          "name": "stderr",
          "text": [
            "\r 97%|█████████▋| 33792/34935 [01:27<00:02, 390.80it/s]"
          ]
        },
        {
          "output_type": "stream",
          "name": "stdout",
          "text": [
            "x.shape  torch.Size([512, 512, 60])\n",
            "latent.shape  torch.Size([512, 64, 15])\n",
            "reconstructed.shape  torch.Size([512, 512, 60])\n",
            "Epoch 16/20\n",
            "loss: 0.1009272038936615\n",
            "\n"
          ]
        },
        {
          "output_type": "stream",
          "name": "stderr",
          "text": [
            "\r 98%|█████████▊| 34304/34935 [01:28<00:01, 391.81it/s]"
          ]
        },
        {
          "output_type": "stream",
          "name": "stdout",
          "text": [
            "x.shape  torch.Size([512, 512, 60])\n",
            "latent.shape  torch.Size([512, 64, 15])\n",
            "reconstructed.shape  torch.Size([512, 512, 60])\n",
            "Epoch 16/20\n",
            "loss: 0.10107006132602692\n",
            "\n"
          ]
        },
        {
          "output_type": "stream",
          "name": "stderr",
          "text": [
            "100%|██████████| 34935/34935 [01:30<00:00, 388.15it/s]"
          ]
        },
        {
          "output_type": "stream",
          "name": "stdout",
          "text": [
            "x.shape  torch.Size([512, 512, 60])\n",
            "latent.shape  torch.Size([512, 64, 15])\n",
            "reconstructed.shape  torch.Size([512, 512, 60])\n",
            "Epoch 16/20\n",
            "loss: 0.10021413862705231\n",
            "\n"
          ]
        },
        {
          "output_type": "stream",
          "name": "stderr",
          "text": [
            "\n"
          ]
        },
        {
          "output_type": "stream",
          "name": "stdout",
          "text": [
            "x.shape  torch.Size([119, 512, 60])\n",
            "latent.shape  torch.Size([119, 64, 15])\n",
            "reconstructed.shape  torch.Size([119, 512, 60])\n",
            "Epoch 16/20\n",
            "loss: 0.09606795012950897\n",
            "\n"
          ]
        },
        {
          "output_type": "stream",
          "name": "stderr",
          "text": [
            "  1%|▏         | 512/34935 [00:01<01:32, 372.90it/s]"
          ]
        },
        {
          "output_type": "stream",
          "name": "stdout",
          "text": [
            "x.shape  torch.Size([512, 512, 60])\n",
            "latent.shape  torch.Size([512, 64, 15])\n",
            "reconstructed.shape  torch.Size([512, 512, 60])\n",
            "Epoch 17/20\n",
            "loss: 0.09961823374032974\n",
            "\n"
          ]
        },
        {
          "output_type": "stream",
          "name": "stderr",
          "text": [
            "\r  3%|▎         | 1024/34935 [00:02<01:29, 380.59it/s]"
          ]
        },
        {
          "output_type": "stream",
          "name": "stdout",
          "text": [
            "x.shape  torch.Size([512, 512, 60])\n",
            "latent.shape  torch.Size([512, 64, 15])\n",
            "reconstructed.shape  torch.Size([512, 512, 60])\n",
            "Epoch 17/20\n",
            "loss: 0.10018082708120346\n",
            "\n"
          ]
        },
        {
          "output_type": "stream",
          "name": "stderr",
          "text": [
            "\r  4%|▍         | 1536/34935 [00:04<01:29, 373.91it/s]"
          ]
        },
        {
          "output_type": "stream",
          "name": "stdout",
          "text": [
            "x.shape  torch.Size([512, 512, 60])\n",
            "latent.shape  torch.Size([512, 64, 15])\n",
            "reconstructed.shape  torch.Size([512, 512, 60])\n",
            "Epoch 17/20\n",
            "loss: 0.0979958176612854\n",
            "\n"
          ]
        },
        {
          "output_type": "stream",
          "name": "stderr",
          "text": [
            "\r  6%|▌         | 2048/34935 [00:05<01:28, 370.29it/s]"
          ]
        },
        {
          "output_type": "stream",
          "name": "stdout",
          "text": [
            "x.shape  torch.Size([512, 512, 60])\n",
            "latent.shape  torch.Size([512, 64, 15])\n",
            "reconstructed.shape  torch.Size([512, 512, 60])\n",
            "Epoch 17/20\n",
            "loss: 0.10007806122303009\n",
            "\n"
          ]
        },
        {
          "output_type": "stream",
          "name": "stderr",
          "text": [
            "\r  7%|▋         | 2560/34935 [00:06<01:26, 374.91it/s]"
          ]
        },
        {
          "output_type": "stream",
          "name": "stdout",
          "text": [
            "x.shape  torch.Size([512, 512, 60])\n",
            "latent.shape  torch.Size([512, 64, 15])\n",
            "reconstructed.shape  torch.Size([512, 512, 60])\n",
            "Epoch 17/20\n",
            "loss: 0.09969671815633774\n",
            "\n"
          ]
        },
        {
          "output_type": "stream",
          "name": "stderr",
          "text": [
            "\r  9%|▉         | 3072/34935 [00:08<01:25, 374.39it/s]"
          ]
        },
        {
          "output_type": "stream",
          "name": "stdout",
          "text": [
            "x.shape  torch.Size([512, 512, 60])\n",
            "latent.shape  torch.Size([512, 64, 15])\n",
            "reconstructed.shape  torch.Size([512, 512, 60])\n",
            "Epoch 17/20\n",
            "loss: 0.10058970004320145\n",
            "\n"
          ]
        },
        {
          "output_type": "stream",
          "name": "stderr",
          "text": [
            "\r 10%|█         | 3584/34935 [00:09<01:22, 380.83it/s]"
          ]
        },
        {
          "output_type": "stream",
          "name": "stdout",
          "text": [
            "x.shape  torch.Size([512, 512, 60])\n",
            "latent.shape  torch.Size([512, 64, 15])\n",
            "reconstructed.shape  torch.Size([512, 512, 60])\n",
            "Epoch 17/20\n",
            "loss: 0.09825217723846436\n",
            "\n"
          ]
        },
        {
          "output_type": "stream",
          "name": "stderr",
          "text": [
            "\r 12%|█▏        | 4096/34935 [00:10<01:21, 378.97it/s]"
          ]
        },
        {
          "output_type": "stream",
          "name": "stdout",
          "text": [
            "x.shape  torch.Size([512, 512, 60])\n",
            "latent.shape  torch.Size([512, 64, 15])\n",
            "reconstructed.shape  torch.Size([512, 512, 60])\n",
            "Epoch 17/20\n",
            "loss: 0.09945905953645706\n",
            "\n"
          ]
        },
        {
          "output_type": "stream",
          "name": "stderr",
          "text": [
            "\r 13%|█▎        | 4608/34935 [00:12<01:20, 378.05it/s]"
          ]
        },
        {
          "output_type": "stream",
          "name": "stdout",
          "text": [
            "x.shape  torch.Size([512, 512, 60])\n",
            "latent.shape  torch.Size([512, 64, 15])\n",
            "reconstructed.shape  torch.Size([512, 512, 60])\n",
            "Epoch 17/20\n",
            "loss: 0.09875940531492233\n",
            "\n"
          ]
        },
        {
          "output_type": "stream",
          "name": "stderr",
          "text": [
            "\r 15%|█▍        | 5120/34935 [00:13<01:19, 376.95it/s]"
          ]
        },
        {
          "output_type": "stream",
          "name": "stdout",
          "text": [
            "x.shape  torch.Size([512, 512, 60])\n",
            "latent.shape  torch.Size([512, 64, 15])\n",
            "reconstructed.shape  torch.Size([512, 512, 60])\n",
            "Epoch 17/20\n",
            "loss: 0.09993977844715118\n",
            "\n"
          ]
        },
        {
          "output_type": "stream",
          "name": "stderr",
          "text": [
            "\r 16%|█▌        | 5632/34935 [00:14<01:16, 383.89it/s]"
          ]
        },
        {
          "output_type": "stream",
          "name": "stdout",
          "text": [
            "x.shape  torch.Size([512, 512, 60])\n",
            "latent.shape  torch.Size([512, 64, 15])\n",
            "reconstructed.shape  torch.Size([512, 512, 60])\n",
            "Epoch 17/20\n",
            "loss: 0.10013237595558167\n",
            "\n"
          ]
        },
        {
          "output_type": "stream",
          "name": "stderr",
          "text": [
            "\r 18%|█▊        | 6144/34935 [00:16<01:14, 384.14it/s]"
          ]
        },
        {
          "output_type": "stream",
          "name": "stdout",
          "text": [
            "x.shape  torch.Size([512, 512, 60])\n",
            "latent.shape  torch.Size([512, 64, 15])\n",
            "reconstructed.shape  torch.Size([512, 512, 60])\n",
            "Epoch 17/20\n",
            "loss: 0.09837386012077332\n",
            "\n"
          ]
        },
        {
          "output_type": "stream",
          "name": "stderr",
          "text": [
            "\r 19%|█▉        | 6656/34935 [00:17<01:14, 381.12it/s]"
          ]
        },
        {
          "output_type": "stream",
          "name": "stdout",
          "text": [
            "x.shape  torch.Size([512, 512, 60])\n",
            "latent.shape  torch.Size([512, 64, 15])\n",
            "reconstructed.shape  torch.Size([512, 512, 60])\n",
            "Epoch 17/20\n",
            "loss: 0.09686508029699326\n",
            "\n"
          ]
        },
        {
          "output_type": "stream",
          "name": "stderr",
          "text": [
            "\r 21%|██        | 7168/34935 [00:18<01:12, 383.20it/s]"
          ]
        },
        {
          "output_type": "stream",
          "name": "stdout",
          "text": [
            "x.shape  torch.Size([512, 512, 60])\n",
            "latent.shape  torch.Size([512, 64, 15])\n",
            "reconstructed.shape  torch.Size([512, 512, 60])\n",
            "Epoch 17/20\n",
            "loss: 0.09901747107505798\n",
            "\n"
          ]
        },
        {
          "output_type": "stream",
          "name": "stderr",
          "text": [
            "\r 22%|██▏       | 7680/34935 [00:20<01:11, 383.50it/s]"
          ]
        },
        {
          "output_type": "stream",
          "name": "stdout",
          "text": [
            "x.shape  torch.Size([512, 512, 60])\n",
            "latent.shape  torch.Size([512, 64, 15])\n",
            "reconstructed.shape  torch.Size([512, 512, 60])\n",
            "Epoch 17/20\n",
            "loss: 0.0999453142285347\n",
            "\n"
          ]
        },
        {
          "output_type": "stream",
          "name": "stderr",
          "text": [
            "\r 23%|██▎       | 8192/34935 [00:21<01:11, 375.18it/s]"
          ]
        },
        {
          "output_type": "stream",
          "name": "stdout",
          "text": [
            "x.shape  torch.Size([512, 512, 60])\n",
            "latent.shape  torch.Size([512, 64, 15])\n",
            "reconstructed.shape  torch.Size([512, 512, 60])\n",
            "Epoch 17/20\n",
            "loss: 0.09834957122802734\n",
            "\n"
          ]
        },
        {
          "output_type": "stream",
          "name": "stderr",
          "text": [
            "\r 25%|██▍       | 8704/34935 [00:22<01:09, 377.86it/s]"
          ]
        },
        {
          "output_type": "stream",
          "name": "stdout",
          "text": [
            "x.shape  torch.Size([512, 512, 60])\n",
            "latent.shape  torch.Size([512, 64, 15])\n",
            "reconstructed.shape  torch.Size([512, 512, 60])\n",
            "Epoch 17/20\n",
            "loss: 0.09848674386739731\n",
            "\n"
          ]
        },
        {
          "output_type": "stream",
          "name": "stderr",
          "text": [
            "\r 26%|██▋       | 9216/34935 [00:24<01:07, 381.12it/s]"
          ]
        },
        {
          "output_type": "stream",
          "name": "stdout",
          "text": [
            "x.shape  torch.Size([512, 512, 60])\n",
            "latent.shape  torch.Size([512, 64, 15])\n",
            "reconstructed.shape  torch.Size([512, 512, 60])\n",
            "Epoch 17/20\n",
            "loss: 0.10003659129142761\n",
            "\n"
          ]
        },
        {
          "output_type": "stream",
          "name": "stderr",
          "text": [
            "\r 28%|██▊       | 9728/34935 [00:25<01:05, 386.79it/s]"
          ]
        },
        {
          "output_type": "stream",
          "name": "stdout",
          "text": [
            "x.shape  torch.Size([512, 512, 60])\n",
            "latent.shape  torch.Size([512, 64, 15])\n",
            "reconstructed.shape  torch.Size([512, 512, 60])\n",
            "Epoch 17/20\n",
            "loss: 0.09875547140836716\n",
            "\n"
          ]
        },
        {
          "output_type": "stream",
          "name": "stderr",
          "text": [
            "\r 29%|██▉       | 10240/34935 [00:26<01:03, 386.83it/s]"
          ]
        },
        {
          "output_type": "stream",
          "name": "stdout",
          "text": [
            "x.shape  torch.Size([512, 512, 60])\n",
            "latent.shape  torch.Size([512, 64, 15])\n",
            "reconstructed.shape  torch.Size([512, 512, 60])\n",
            "Epoch 17/20\n",
            "loss: 0.10035295784473419\n",
            "\n"
          ]
        },
        {
          "output_type": "stream",
          "name": "stderr",
          "text": [
            "\r 31%|███       | 10752/34935 [00:28<01:02, 384.94it/s]"
          ]
        },
        {
          "output_type": "stream",
          "name": "stdout",
          "text": [
            "x.shape  torch.Size([512, 512, 60])\n",
            "latent.shape  torch.Size([512, 64, 15])\n",
            "reconstructed.shape  torch.Size([512, 512, 60])\n",
            "Epoch 17/20\n",
            "loss: 0.09892834722995758\n",
            "\n"
          ]
        },
        {
          "output_type": "stream",
          "name": "stderr",
          "text": [
            "\r 32%|███▏      | 11264/34935 [00:29<01:02, 381.09it/s]"
          ]
        },
        {
          "output_type": "stream",
          "name": "stdout",
          "text": [
            "x.shape  torch.Size([512, 512, 60])\n",
            "latent.shape  torch.Size([512, 64, 15])\n",
            "reconstructed.shape  torch.Size([512, 512, 60])\n",
            "Epoch 17/20\n",
            "loss: 0.09904714673757553\n",
            "\n"
          ]
        },
        {
          "output_type": "stream",
          "name": "stderr",
          "text": [
            "\r 34%|███▎      | 11776/34935 [00:30<01:00, 382.65it/s]"
          ]
        },
        {
          "output_type": "stream",
          "name": "stdout",
          "text": [
            "x.shape  torch.Size([512, 512, 60])\n",
            "latent.shape  torch.Size([512, 64, 15])\n",
            "reconstructed.shape  torch.Size([512, 512, 60])\n",
            "Epoch 17/20\n",
            "loss: 0.09855685383081436\n",
            "\n"
          ]
        },
        {
          "output_type": "stream",
          "name": "stderr",
          "text": [
            "\r 35%|███▌      | 12288/34935 [00:32<00:59, 380.13it/s]"
          ]
        },
        {
          "output_type": "stream",
          "name": "stdout",
          "text": [
            "x.shape  torch.Size([512, 512, 60])\n",
            "latent.shape  torch.Size([512, 64, 15])\n",
            "reconstructed.shape  torch.Size([512, 512, 60])\n",
            "Epoch 17/20\n",
            "loss: 0.0977499783039093\n",
            "\n"
          ]
        },
        {
          "output_type": "stream",
          "name": "stderr",
          "text": [
            "\r 37%|███▋      | 12800/34935 [00:33<00:57, 384.07it/s]"
          ]
        },
        {
          "output_type": "stream",
          "name": "stdout",
          "text": [
            "x.shape  torch.Size([512, 512, 60])\n",
            "latent.shape  torch.Size([512, 64, 15])\n",
            "reconstructed.shape  torch.Size([512, 512, 60])\n",
            "Epoch 17/20\n",
            "loss: 0.09859306365251541\n",
            "\n"
          ]
        },
        {
          "output_type": "stream",
          "name": "stderr",
          "text": [
            "\r 38%|███▊      | 13312/34935 [00:35<00:56, 380.23it/s]"
          ]
        },
        {
          "output_type": "stream",
          "name": "stdout",
          "text": [
            "x.shape  torch.Size([512, 512, 60])\n",
            "latent.shape  torch.Size([512, 64, 15])\n",
            "reconstructed.shape  torch.Size([512, 512, 60])\n",
            "Epoch 17/20\n",
            "loss: 0.0994013100862503\n",
            "\n"
          ]
        },
        {
          "output_type": "stream",
          "name": "stderr",
          "text": [
            "\r 40%|███▉      | 13824/34935 [00:36<00:55, 378.43it/s]"
          ]
        },
        {
          "output_type": "stream",
          "name": "stdout",
          "text": [
            "x.shape  torch.Size([512, 512, 60])\n",
            "latent.shape  torch.Size([512, 64, 15])\n",
            "reconstructed.shape  torch.Size([512, 512, 60])\n",
            "Epoch 17/20\n",
            "loss: 0.09828934818506241\n",
            "\n"
          ]
        },
        {
          "output_type": "stream",
          "name": "stderr",
          "text": [
            "\r 41%|████      | 14336/34935 [00:37<00:53, 383.86it/s]"
          ]
        },
        {
          "output_type": "stream",
          "name": "stdout",
          "text": [
            "x.shape  torch.Size([512, 512, 60])\n",
            "latent.shape  torch.Size([512, 64, 15])\n",
            "reconstructed.shape  torch.Size([512, 512, 60])\n",
            "Epoch 17/20\n",
            "loss: 0.09804870188236237\n",
            "\n"
          ]
        },
        {
          "output_type": "stream",
          "name": "stderr",
          "text": [
            "\r 43%|████▎     | 14848/34935 [00:38<00:52, 384.46it/s]"
          ]
        },
        {
          "output_type": "stream",
          "name": "stdout",
          "text": [
            "x.shape  torch.Size([512, 512, 60])\n",
            "latent.shape  torch.Size([512, 64, 15])\n",
            "reconstructed.shape  torch.Size([512, 512, 60])\n",
            "Epoch 17/20\n",
            "loss: 0.09910257905721664\n",
            "\n"
          ]
        },
        {
          "output_type": "stream",
          "name": "stderr",
          "text": [
            "\r 44%|████▍     | 15360/34935 [00:40<00:50, 385.67it/s]"
          ]
        },
        {
          "output_type": "stream",
          "name": "stdout",
          "text": [
            "x.shape  torch.Size([512, 512, 60])\n",
            "latent.shape  torch.Size([512, 64, 15])\n",
            "reconstructed.shape  torch.Size([512, 512, 60])\n",
            "Epoch 17/20\n",
            "loss: 0.09823328256607056\n",
            "\n"
          ]
        },
        {
          "output_type": "stream",
          "name": "stderr",
          "text": [
            "\r 45%|████▌     | 15872/34935 [00:41<00:45, 415.10it/s]"
          ]
        },
        {
          "output_type": "stream",
          "name": "stdout",
          "text": [
            "x.shape  torch.Size([512, 512, 60])\n",
            "latent.shape  torch.Size([512, 64, 15])\n",
            "reconstructed.shape  torch.Size([512, 512, 60])\n",
            "Epoch 17/20\n",
            "loss: 0.09900365024805069\n",
            "\n"
          ]
        },
        {
          "output_type": "stream",
          "name": "stderr",
          "text": [
            "\r 47%|████▋     | 16384/34935 [00:42<00:45, 403.73it/s]"
          ]
        },
        {
          "output_type": "stream",
          "name": "stdout",
          "text": [
            "x.shape  torch.Size([512, 512, 60])\n",
            "latent.shape  torch.Size([512, 64, 15])\n",
            "reconstructed.shape  torch.Size([512, 512, 60])\n",
            "Epoch 17/20\n",
            "loss: 0.09727518260478973\n",
            "\n"
          ]
        },
        {
          "output_type": "stream",
          "name": "stderr",
          "text": [
            "\r 48%|████▊     | 16896/34935 [00:43<00:45, 398.72it/s]"
          ]
        },
        {
          "output_type": "stream",
          "name": "stdout",
          "text": [
            "x.shape  torch.Size([512, 512, 60])\n",
            "latent.shape  torch.Size([512, 64, 15])\n",
            "reconstructed.shape  torch.Size([512, 512, 60])\n",
            "Epoch 17/20\n",
            "loss: 0.09830943495035172\n",
            "\n"
          ]
        },
        {
          "output_type": "stream",
          "name": "stderr",
          "text": [
            "\r 50%|████▉     | 17408/34935 [00:45<00:44, 394.96it/s]"
          ]
        },
        {
          "output_type": "stream",
          "name": "stdout",
          "text": [
            "x.shape  torch.Size([512, 512, 60])\n",
            "latent.shape  torch.Size([512, 64, 15])\n",
            "reconstructed.shape  torch.Size([512, 512, 60])\n",
            "Epoch 17/20\n",
            "loss: 0.09831014275550842\n",
            "\n"
          ]
        },
        {
          "output_type": "stream",
          "name": "stderr",
          "text": [
            "\r 51%|█████▏    | 17920/34935 [00:46<00:43, 392.43it/s]"
          ]
        },
        {
          "output_type": "stream",
          "name": "stdout",
          "text": [
            "x.shape  torch.Size([512, 512, 60])\n",
            "latent.shape  torch.Size([512, 64, 15])\n",
            "reconstructed.shape  torch.Size([512, 512, 60])\n",
            "Epoch 17/20\n",
            "loss: 0.09949105232954025\n",
            "\n"
          ]
        },
        {
          "output_type": "stream",
          "name": "stderr",
          "text": [
            "\r 53%|█████▎    | 18432/34935 [00:47<00:42, 392.54it/s]"
          ]
        },
        {
          "output_type": "stream",
          "name": "stdout",
          "text": [
            "x.shape  torch.Size([512, 512, 60])\n",
            "latent.shape  torch.Size([512, 64, 15])\n",
            "reconstructed.shape  torch.Size([512, 512, 60])\n",
            "Epoch 17/20\n",
            "loss: 0.0999472513794899\n",
            "\n"
          ]
        },
        {
          "output_type": "stream",
          "name": "stderr",
          "text": [
            "\r 54%|█████▍    | 18944/34935 [00:49<00:40, 390.08it/s]"
          ]
        },
        {
          "output_type": "stream",
          "name": "stdout",
          "text": [
            "x.shape  torch.Size([512, 512, 60])\n",
            "latent.shape  torch.Size([512, 64, 15])\n",
            "reconstructed.shape  torch.Size([512, 512, 60])\n",
            "Epoch 17/20\n",
            "loss: 0.09690393507480621\n",
            "\n"
          ]
        },
        {
          "output_type": "stream",
          "name": "stderr",
          "text": [
            "\r 56%|█████▌    | 19456/34935 [00:50<00:39, 389.06it/s]"
          ]
        },
        {
          "output_type": "stream",
          "name": "stdout",
          "text": [
            "x.shape  torch.Size([512, 512, 60])\n",
            "latent.shape  torch.Size([512, 64, 15])\n",
            "reconstructed.shape  torch.Size([512, 512, 60])\n",
            "Epoch 17/20\n",
            "loss: 0.10009653866291046\n",
            "\n"
          ]
        },
        {
          "output_type": "stream",
          "name": "stderr",
          "text": [
            "\r 57%|█████▋    | 19968/34935 [00:52<00:39, 378.07it/s]"
          ]
        },
        {
          "output_type": "stream",
          "name": "stdout",
          "text": [
            "x.shape  torch.Size([512, 512, 60])\n",
            "latent.shape  torch.Size([512, 64, 15])\n",
            "reconstructed.shape  torch.Size([512, 512, 60])\n",
            "Epoch 17/20\n",
            "loss: 0.0995197668671608\n",
            "\n"
          ]
        },
        {
          "output_type": "stream",
          "name": "stderr",
          "text": [
            "\r 59%|█████▊    | 20480/34935 [00:53<00:38, 373.62it/s]"
          ]
        },
        {
          "output_type": "stream",
          "name": "stdout",
          "text": [
            "x.shape  torch.Size([512, 512, 60])\n",
            "latent.shape  torch.Size([512, 64, 15])\n",
            "reconstructed.shape  torch.Size([512, 512, 60])\n",
            "Epoch 17/20\n",
            "loss: 0.09956714510917664\n",
            "\n"
          ]
        },
        {
          "output_type": "stream",
          "name": "stderr",
          "text": [
            "\r 60%|██████    | 20992/34935 [00:54<00:37, 375.12it/s]"
          ]
        },
        {
          "output_type": "stream",
          "name": "stdout",
          "text": [
            "x.shape  torch.Size([512, 512, 60])\n",
            "latent.shape  torch.Size([512, 64, 15])\n",
            "reconstructed.shape  torch.Size([512, 512, 60])\n",
            "Epoch 17/20\n",
            "loss: 0.0975535586476326\n",
            "\n"
          ]
        },
        {
          "output_type": "stream",
          "name": "stderr",
          "text": [
            "\r 62%|██████▏   | 21504/34935 [00:56<00:36, 371.67it/s]"
          ]
        },
        {
          "output_type": "stream",
          "name": "stdout",
          "text": [
            "x.shape  torch.Size([512, 512, 60])\n",
            "latent.shape  torch.Size([512, 64, 15])\n",
            "reconstructed.shape  torch.Size([512, 512, 60])\n",
            "Epoch 17/20\n",
            "loss: 0.09942752867937088\n",
            "\n"
          ]
        },
        {
          "output_type": "stream",
          "name": "stderr",
          "text": [
            "\r 63%|██████▎   | 22016/34935 [00:57<00:34, 373.60it/s]"
          ]
        },
        {
          "output_type": "stream",
          "name": "stdout",
          "text": [
            "x.shape  torch.Size([512, 512, 60])\n",
            "latent.shape  torch.Size([512, 64, 15])\n",
            "reconstructed.shape  torch.Size([512, 512, 60])\n",
            "Epoch 17/20\n",
            "loss: 0.09771747887134552\n",
            "\n"
          ]
        },
        {
          "output_type": "stream",
          "name": "stderr",
          "text": [
            "\r 64%|██████▍   | 22528/34935 [00:58<00:32, 379.42it/s]"
          ]
        },
        {
          "output_type": "stream",
          "name": "stdout",
          "text": [
            "x.shape  torch.Size([512, 512, 60])\n",
            "latent.shape  torch.Size([512, 64, 15])\n",
            "reconstructed.shape  torch.Size([512, 512, 60])\n",
            "Epoch 17/20\n",
            "loss: 0.09735097736120224\n",
            "\n"
          ]
        },
        {
          "output_type": "stream",
          "name": "stderr",
          "text": [
            "\r 66%|██████▌   | 23040/34935 [01:00<00:31, 378.95it/s]"
          ]
        },
        {
          "output_type": "stream",
          "name": "stdout",
          "text": [
            "x.shape  torch.Size([512, 512, 60])\n",
            "latent.shape  torch.Size([512, 64, 15])\n",
            "reconstructed.shape  torch.Size([512, 512, 60])\n",
            "Epoch 17/20\n",
            "loss: 0.09839681535959244\n",
            "\n"
          ]
        },
        {
          "output_type": "stream",
          "name": "stderr",
          "text": [
            "\r 67%|██████▋   | 23552/34935 [01:01<00:29, 385.41it/s]"
          ]
        },
        {
          "output_type": "stream",
          "name": "stdout",
          "text": [
            "x.shape  torch.Size([512, 512, 60])\n",
            "latent.shape  torch.Size([512, 64, 15])\n",
            "reconstructed.shape  torch.Size([512, 512, 60])\n",
            "Epoch 17/20\n",
            "loss: 0.09946683794260025\n",
            "\n"
          ]
        },
        {
          "output_type": "stream",
          "name": "stderr",
          "text": [
            "\r 69%|██████▉   | 24064/34935 [01:02<00:28, 381.35it/s]"
          ]
        },
        {
          "output_type": "stream",
          "name": "stdout",
          "text": [
            "x.shape  torch.Size([512, 512, 60])\n",
            "latent.shape  torch.Size([512, 64, 15])\n",
            "reconstructed.shape  torch.Size([512, 512, 60])\n",
            "Epoch 17/20\n",
            "loss: 0.09909094870090485\n",
            "\n"
          ]
        },
        {
          "output_type": "stream",
          "name": "stderr",
          "text": [
            "\r 70%|███████   | 24576/34935 [01:04<00:27, 382.80it/s]"
          ]
        },
        {
          "output_type": "stream",
          "name": "stdout",
          "text": [
            "x.shape  torch.Size([512, 512, 60])\n",
            "latent.shape  torch.Size([512, 64, 15])\n",
            "reconstructed.shape  torch.Size([512, 512, 60])\n",
            "Epoch 17/20\n",
            "loss: 0.09825704246759415\n",
            "\n"
          ]
        },
        {
          "output_type": "stream",
          "name": "stderr",
          "text": [
            "\r 72%|███████▏  | 25088/34935 [01:05<00:25, 386.05it/s]"
          ]
        },
        {
          "output_type": "stream",
          "name": "stdout",
          "text": [
            "x.shape  torch.Size([512, 512, 60])\n",
            "latent.shape  torch.Size([512, 64, 15])\n",
            "reconstructed.shape  torch.Size([512, 512, 60])\n",
            "Epoch 17/20\n",
            "loss: 0.09810956567525864\n",
            "\n"
          ]
        },
        {
          "output_type": "stream",
          "name": "stderr",
          "text": [
            "\r 73%|███████▎  | 25600/34935 [01:06<00:24, 383.38it/s]"
          ]
        },
        {
          "output_type": "stream",
          "name": "stdout",
          "text": [
            "x.shape  torch.Size([512, 512, 60])\n",
            "latent.shape  torch.Size([512, 64, 15])\n",
            "reconstructed.shape  torch.Size([512, 512, 60])\n",
            "Epoch 17/20\n",
            "loss: 0.09880897402763367\n",
            "\n"
          ]
        },
        {
          "output_type": "stream",
          "name": "stderr",
          "text": [
            "\r 75%|███████▍  | 26112/34935 [01:08<00:22, 387.57it/s]"
          ]
        },
        {
          "output_type": "stream",
          "name": "stdout",
          "text": [
            "x.shape  torch.Size([512, 512, 60])\n",
            "latent.shape  torch.Size([512, 64, 15])\n",
            "reconstructed.shape  torch.Size([512, 512, 60])\n",
            "Epoch 17/20\n",
            "loss: 0.09864941984415054\n",
            "\n"
          ]
        },
        {
          "output_type": "stream",
          "name": "stderr",
          "text": [
            "\r 76%|███████▌  | 26624/34935 [01:09<00:21, 386.04it/s]"
          ]
        },
        {
          "output_type": "stream",
          "name": "stdout",
          "text": [
            "x.shape  torch.Size([512, 512, 60])\n",
            "latent.shape  torch.Size([512, 64, 15])\n",
            "reconstructed.shape  torch.Size([512, 512, 60])\n",
            "Epoch 17/20\n",
            "loss: 0.09887015074491501\n",
            "\n"
          ]
        },
        {
          "output_type": "stream",
          "name": "stderr",
          "text": [
            "\r 78%|███████▊  | 27136/34935 [01:10<00:20, 388.16it/s]"
          ]
        },
        {
          "output_type": "stream",
          "name": "stdout",
          "text": [
            "x.shape  torch.Size([512, 512, 60])\n",
            "latent.shape  torch.Size([512, 64, 15])\n",
            "reconstructed.shape  torch.Size([512, 512, 60])\n",
            "Epoch 17/20\n",
            "loss: 0.09998179227113724\n",
            "\n"
          ]
        },
        {
          "output_type": "stream",
          "name": "stderr",
          "text": [
            "\r 79%|███████▉  | 27648/34935 [01:12<00:18, 390.04it/s]"
          ]
        },
        {
          "output_type": "stream",
          "name": "stdout",
          "text": [
            "x.shape  torch.Size([512, 512, 60])\n",
            "latent.shape  torch.Size([512, 64, 15])\n",
            "reconstructed.shape  torch.Size([512, 512, 60])\n",
            "Epoch 17/20\n",
            "loss: 0.09916746616363525\n",
            "\n"
          ]
        },
        {
          "output_type": "stream",
          "name": "stderr",
          "text": [
            "\r 81%|████████  | 28160/34935 [01:13<00:17, 385.89it/s]"
          ]
        },
        {
          "output_type": "stream",
          "name": "stdout",
          "text": [
            "x.shape  torch.Size([512, 512, 60])\n",
            "latent.shape  torch.Size([512, 64, 15])\n",
            "reconstructed.shape  torch.Size([512, 512, 60])\n",
            "Epoch 17/20\n",
            "loss: 0.09835293143987656\n",
            "\n"
          ]
        },
        {
          "output_type": "stream",
          "name": "stderr",
          "text": [
            "\r 82%|████████▏ | 28672/34935 [01:14<00:16, 387.67it/s]"
          ]
        },
        {
          "output_type": "stream",
          "name": "stdout",
          "text": [
            "x.shape  torch.Size([512, 512, 60])\n",
            "latent.shape  torch.Size([512, 64, 15])\n",
            "reconstructed.shape  torch.Size([512, 512, 60])\n",
            "Epoch 17/20\n",
            "loss: 0.0973832979798317\n",
            "\n"
          ]
        },
        {
          "output_type": "stream",
          "name": "stderr",
          "text": [
            "\r 84%|████████▎ | 29184/34935 [01:16<00:14, 383.84it/s]"
          ]
        },
        {
          "output_type": "stream",
          "name": "stdout",
          "text": [
            "x.shape  torch.Size([512, 512, 60])\n",
            "latent.shape  torch.Size([512, 64, 15])\n",
            "reconstructed.shape  torch.Size([512, 512, 60])\n",
            "Epoch 17/20\n",
            "loss: 0.09834215044975281\n",
            "\n"
          ]
        },
        {
          "output_type": "stream",
          "name": "stderr",
          "text": [
            "\r 85%|████████▌ | 29696/34935 [01:17<00:13, 386.89it/s]"
          ]
        },
        {
          "output_type": "stream",
          "name": "stdout",
          "text": [
            "x.shape  torch.Size([512, 512, 60])\n",
            "latent.shape  torch.Size([512, 64, 15])\n",
            "reconstructed.shape  torch.Size([512, 512, 60])\n",
            "Epoch 17/20\n",
            "loss: 0.09841439127922058\n",
            "\n"
          ]
        },
        {
          "output_type": "stream",
          "name": "stderr",
          "text": [
            "\r 86%|████████▋ | 30208/34935 [01:18<00:12, 389.57it/s]"
          ]
        },
        {
          "output_type": "stream",
          "name": "stdout",
          "text": [
            "x.shape  torch.Size([512, 512, 60])\n",
            "latent.shape  torch.Size([512, 64, 15])\n",
            "reconstructed.shape  torch.Size([512, 512, 60])\n",
            "Epoch 17/20\n",
            "loss: 0.09797485172748566\n",
            "\n"
          ]
        },
        {
          "output_type": "stream",
          "name": "stderr",
          "text": [
            "\r 88%|████████▊ | 30720/34935 [01:19<00:10, 391.23it/s]"
          ]
        },
        {
          "output_type": "stream",
          "name": "stdout",
          "text": [
            "x.shape  torch.Size([512, 512, 60])\n",
            "latent.shape  torch.Size([512, 64, 15])\n",
            "reconstructed.shape  torch.Size([512, 512, 60])\n",
            "Epoch 17/20\n",
            "loss: 0.09847668558359146\n",
            "\n"
          ]
        },
        {
          "output_type": "stream",
          "name": "stderr",
          "text": [
            "\r 89%|████████▉ | 31232/34935 [01:21<00:09, 387.44it/s]"
          ]
        },
        {
          "output_type": "stream",
          "name": "stdout",
          "text": [
            "x.shape  torch.Size([512, 512, 60])\n",
            "latent.shape  torch.Size([512, 64, 15])\n",
            "reconstructed.shape  torch.Size([512, 512, 60])\n",
            "Epoch 17/20\n",
            "loss: 0.09885119646787643\n",
            "\n"
          ]
        },
        {
          "output_type": "stream",
          "name": "stderr",
          "text": [
            "\r 91%|█████████ | 31744/34935 [01:22<00:08, 388.55it/s]"
          ]
        },
        {
          "output_type": "stream",
          "name": "stdout",
          "text": [
            "x.shape  torch.Size([512, 512, 60])\n",
            "latent.shape  torch.Size([512, 64, 15])\n",
            "reconstructed.shape  torch.Size([512, 512, 60])\n",
            "Epoch 17/20\n",
            "loss: 0.09972897917032242\n",
            "\n"
          ]
        },
        {
          "output_type": "stream",
          "name": "stderr",
          "text": [
            "\r 92%|█████████▏| 32256/34935 [01:23<00:06, 390.67it/s]"
          ]
        },
        {
          "output_type": "stream",
          "name": "stdout",
          "text": [
            "x.shape  torch.Size([512, 512, 60])\n",
            "latent.shape  torch.Size([512, 64, 15])\n",
            "reconstructed.shape  torch.Size([512, 512, 60])\n",
            "Epoch 17/20\n",
            "loss: 0.09901318699121475\n",
            "\n"
          ]
        },
        {
          "output_type": "stream",
          "name": "stderr",
          "text": [
            "\r 94%|█████████▍| 32768/34935 [01:25<00:05, 391.63it/s]"
          ]
        },
        {
          "output_type": "stream",
          "name": "stdout",
          "text": [
            "x.shape  torch.Size([512, 512, 60])\n",
            "latent.shape  torch.Size([512, 64, 15])\n",
            "reconstructed.shape  torch.Size([512, 512, 60])\n",
            "Epoch 17/20\n",
            "loss: 0.09744808822870255\n",
            "\n"
          ]
        },
        {
          "output_type": "stream",
          "name": "stderr",
          "text": [
            "\r 95%|█████████▌| 33280/34935 [01:26<00:04, 392.53it/s]"
          ]
        },
        {
          "output_type": "stream",
          "name": "stdout",
          "text": [
            "x.shape  torch.Size([512, 512, 60])\n",
            "latent.shape  torch.Size([512, 64, 15])\n",
            "reconstructed.shape  torch.Size([512, 512, 60])\n",
            "Epoch 17/20\n",
            "loss: 0.09975115209817886\n",
            "\n"
          ]
        },
        {
          "output_type": "stream",
          "name": "stderr",
          "text": [
            "\r 97%|█████████▋| 33792/34935 [01:27<00:02, 390.89it/s]"
          ]
        },
        {
          "output_type": "stream",
          "name": "stdout",
          "text": [
            "x.shape  torch.Size([512, 512, 60])\n",
            "latent.shape  torch.Size([512, 64, 15])\n",
            "reconstructed.shape  torch.Size([512, 512, 60])\n",
            "Epoch 17/20\n",
            "loss: 0.10023012012243271\n",
            "\n"
          ]
        },
        {
          "output_type": "stream",
          "name": "stderr",
          "text": [
            "\r 98%|█████████▊| 34304/34935 [01:29<00:01, 394.76it/s]"
          ]
        },
        {
          "output_type": "stream",
          "name": "stdout",
          "text": [
            "x.shape  torch.Size([512, 512, 60])\n",
            "latent.shape  torch.Size([512, 64, 15])\n",
            "reconstructed.shape  torch.Size([512, 512, 60])\n",
            "Epoch 17/20\n",
            "loss: 0.1002722978591919\n",
            "\n"
          ]
        },
        {
          "output_type": "stream",
          "name": "stderr",
          "text": [
            "100%|██████████| 34935/34935 [01:30<00:00, 386.21it/s]"
          ]
        },
        {
          "output_type": "stream",
          "name": "stdout",
          "text": [
            "x.shape  torch.Size([512, 512, 60])\n",
            "latent.shape  torch.Size([512, 64, 15])\n",
            "reconstructed.shape  torch.Size([512, 512, 60])\n",
            "Epoch 17/20\n",
            "loss: 0.09946644306182861\n",
            "\n"
          ]
        },
        {
          "output_type": "stream",
          "name": "stderr",
          "text": [
            "\n"
          ]
        },
        {
          "output_type": "stream",
          "name": "stdout",
          "text": [
            "x.shape  torch.Size([119, 512, 60])\n",
            "latent.shape  torch.Size([119, 64, 15])\n",
            "reconstructed.shape  torch.Size([119, 512, 60])\n",
            "Epoch 17/20\n",
            "loss: 0.09542524069547653\n",
            "\n"
          ]
        },
        {
          "output_type": "stream",
          "name": "stderr",
          "text": [
            "  1%|▏         | 512/34935 [00:01<01:33, 366.60it/s]"
          ]
        },
        {
          "output_type": "stream",
          "name": "stdout",
          "text": [
            "x.shape  torch.Size([512, 512, 60])\n",
            "latent.shape  torch.Size([512, 64, 15])\n",
            "reconstructed.shape  torch.Size([512, 512, 60])\n",
            "Epoch 18/20\n",
            "loss: 0.09882397204637527\n",
            "\n"
          ]
        },
        {
          "output_type": "stream",
          "name": "stderr",
          "text": [
            "\r  3%|▎         | 1024/34935 [00:02<01:29, 378.77it/s]"
          ]
        },
        {
          "output_type": "stream",
          "name": "stdout",
          "text": [
            "x.shape  torch.Size([512, 512, 60])\n",
            "latent.shape  torch.Size([512, 64, 15])\n",
            "reconstructed.shape  torch.Size([512, 512, 60])\n",
            "Epoch 18/20\n",
            "loss: 0.09944351762533188\n",
            "\n"
          ]
        },
        {
          "output_type": "stream",
          "name": "stderr",
          "text": [
            "\r  4%|▍         | 1536/34935 [00:04<01:27, 383.77it/s]"
          ]
        },
        {
          "output_type": "stream",
          "name": "stdout",
          "text": [
            "x.shape  torch.Size([512, 512, 60])\n",
            "latent.shape  torch.Size([512, 64, 15])\n",
            "reconstructed.shape  torch.Size([512, 512, 60])\n",
            "Epoch 18/20\n",
            "loss: 0.0972662940621376\n",
            "\n"
          ]
        },
        {
          "output_type": "stream",
          "name": "stderr",
          "text": [
            "\r  6%|▌         | 2048/34935 [00:05<01:26, 378.39it/s]"
          ]
        },
        {
          "output_type": "stream",
          "name": "stdout",
          "text": [
            "x.shape  torch.Size([512, 512, 60])\n",
            "latent.shape  torch.Size([512, 64, 15])\n",
            "reconstructed.shape  torch.Size([512, 512, 60])\n",
            "Epoch 18/20\n",
            "loss: 0.09925717115402222\n",
            "\n"
          ]
        },
        {
          "output_type": "stream",
          "name": "stderr",
          "text": [
            "\r  7%|▋         | 2560/34935 [00:06<01:24, 382.29it/s]"
          ]
        },
        {
          "output_type": "stream",
          "name": "stdout",
          "text": [
            "x.shape  torch.Size([512, 512, 60])\n",
            "latent.shape  torch.Size([512, 64, 15])\n",
            "reconstructed.shape  torch.Size([512, 512, 60])\n",
            "Epoch 18/20\n",
            "loss: 0.09895022958517075\n",
            "\n"
          ]
        },
        {
          "output_type": "stream",
          "name": "stderr",
          "text": [
            "\r  9%|▉         | 3072/34935 [00:08<01:23, 382.64it/s]"
          ]
        },
        {
          "output_type": "stream",
          "name": "stdout",
          "text": [
            "x.shape  torch.Size([512, 512, 60])\n",
            "latent.shape  torch.Size([512, 64, 15])\n",
            "reconstructed.shape  torch.Size([512, 512, 60])\n",
            "Epoch 18/20\n",
            "loss: 0.09982212632894516\n",
            "\n"
          ]
        },
        {
          "output_type": "stream",
          "name": "stderr",
          "text": [
            "\r 10%|█         | 3584/34935 [00:09<01:21, 383.90it/s]"
          ]
        },
        {
          "output_type": "stream",
          "name": "stdout",
          "text": [
            "x.shape  torch.Size([512, 512, 60])\n",
            "latent.shape  torch.Size([512, 64, 15])\n",
            "reconstructed.shape  torch.Size([512, 512, 60])\n",
            "Epoch 18/20\n",
            "loss: 0.09751757979393005\n",
            "\n"
          ]
        },
        {
          "output_type": "stream",
          "name": "stderr",
          "text": [
            "\r 12%|█▏        | 4096/34935 [00:10<01:21, 380.67it/s]"
          ]
        },
        {
          "output_type": "stream",
          "name": "stdout",
          "text": [
            "x.shape  torch.Size([512, 512, 60])\n",
            "latent.shape  torch.Size([512, 64, 15])\n",
            "reconstructed.shape  torch.Size([512, 512, 60])\n",
            "Epoch 18/20\n",
            "loss: 0.09865894913673401\n",
            "\n"
          ]
        },
        {
          "output_type": "stream",
          "name": "stderr",
          "text": [
            "\r 13%|█▎        | 4608/34935 [00:12<01:20, 378.55it/s]"
          ]
        },
        {
          "output_type": "stream",
          "name": "stdout",
          "text": [
            "x.shape  torch.Size([512, 512, 60])\n",
            "latent.shape  torch.Size([512, 64, 15])\n",
            "reconstructed.shape  torch.Size([512, 512, 60])\n",
            "Epoch 18/20\n",
            "loss: 0.09804200381040573\n",
            "\n"
          ]
        },
        {
          "output_type": "stream",
          "name": "stderr",
          "text": [
            "\r 15%|█▍        | 5120/34935 [00:13<01:19, 375.10it/s]"
          ]
        },
        {
          "output_type": "stream",
          "name": "stdout",
          "text": [
            "x.shape  torch.Size([512, 512, 60])\n",
            "latent.shape  torch.Size([512, 64, 15])\n",
            "reconstructed.shape  torch.Size([512, 512, 60])\n",
            "Epoch 18/20\n",
            "loss: 0.09918899834156036\n",
            "\n"
          ]
        },
        {
          "output_type": "stream",
          "name": "stderr",
          "text": [
            "\r 16%|█▌        | 5632/34935 [00:14<01:16, 384.65it/s]"
          ]
        },
        {
          "output_type": "stream",
          "name": "stdout",
          "text": [
            "x.shape  torch.Size([512, 512, 60])\n",
            "latent.shape  torch.Size([512, 64, 15])\n",
            "reconstructed.shape  torch.Size([512, 512, 60])\n",
            "Epoch 18/20\n",
            "loss: 0.09933095425367355\n",
            "\n"
          ]
        },
        {
          "output_type": "stream",
          "name": "stderr",
          "text": [
            "\r 18%|█▊        | 6144/34935 [00:16<01:15, 382.33it/s]"
          ]
        },
        {
          "output_type": "stream",
          "name": "stdout",
          "text": [
            "x.shape  torch.Size([512, 512, 60])\n",
            "latent.shape  torch.Size([512, 64, 15])\n",
            "reconstructed.shape  torch.Size([512, 512, 60])\n",
            "Epoch 18/20\n",
            "loss: 0.09763124585151672\n",
            "\n"
          ]
        },
        {
          "output_type": "stream",
          "name": "stderr",
          "text": [
            "\r 19%|█▉        | 6656/34935 [00:17<01:14, 378.69it/s]"
          ]
        },
        {
          "output_type": "stream",
          "name": "stdout",
          "text": [
            "x.shape  torch.Size([512, 512, 60])\n",
            "latent.shape  torch.Size([512, 64, 15])\n",
            "reconstructed.shape  torch.Size([512, 512, 60])\n",
            "Epoch 18/20\n",
            "loss: 0.0960957407951355\n",
            "\n"
          ]
        },
        {
          "output_type": "stream",
          "name": "stderr",
          "text": [
            "\r 21%|██        | 7168/34935 [00:18<01:12, 382.48it/s]"
          ]
        },
        {
          "output_type": "stream",
          "name": "stdout",
          "text": [
            "x.shape  torch.Size([512, 512, 60])\n",
            "latent.shape  torch.Size([512, 64, 15])\n",
            "reconstructed.shape  torch.Size([512, 512, 60])\n",
            "Epoch 18/20\n",
            "loss: 0.09828372299671173\n",
            "\n"
          ]
        },
        {
          "output_type": "stream",
          "name": "stderr",
          "text": [
            "\r 22%|██▏       | 7680/34935 [00:20<01:10, 384.55it/s]"
          ]
        },
        {
          "output_type": "stream",
          "name": "stdout",
          "text": [
            "x.shape  torch.Size([512, 512, 60])\n",
            "latent.shape  torch.Size([512, 64, 15])\n",
            "reconstructed.shape  torch.Size([512, 512, 60])\n",
            "Epoch 18/20\n",
            "loss: 0.09917625039815903\n",
            "\n"
          ]
        },
        {
          "output_type": "stream",
          "name": "stderr",
          "text": [
            "\r 23%|██▎       | 8192/34935 [00:21<01:09, 383.58it/s]"
          ]
        },
        {
          "output_type": "stream",
          "name": "stdout",
          "text": [
            "x.shape  torch.Size([512, 512, 60])\n",
            "latent.shape  torch.Size([512, 64, 15])\n",
            "reconstructed.shape  torch.Size([512, 512, 60])\n",
            "Epoch 18/20\n",
            "loss: 0.09762111306190491\n",
            "\n"
          ]
        },
        {
          "output_type": "stream",
          "name": "stderr",
          "text": [
            "\r 25%|██▍       | 8704/34935 [00:22<01:07, 387.58it/s]"
          ]
        },
        {
          "output_type": "stream",
          "name": "stdout",
          "text": [
            "x.shape  torch.Size([512, 512, 60])\n",
            "latent.shape  torch.Size([512, 64, 15])\n",
            "reconstructed.shape  torch.Size([512, 512, 60])\n",
            "Epoch 18/20\n",
            "loss: 0.09770908951759338\n",
            "\n"
          ]
        },
        {
          "output_type": "stream",
          "name": "stderr",
          "text": [
            "\r 26%|██▋       | 9216/34935 [00:24<01:06, 387.79it/s]"
          ]
        },
        {
          "output_type": "stream",
          "name": "stdout",
          "text": [
            "x.shape  torch.Size([512, 512, 60])\n",
            "latent.shape  torch.Size([512, 64, 15])\n",
            "reconstructed.shape  torch.Size([512, 512, 60])\n",
            "Epoch 18/20\n",
            "loss: 0.09926299750804901\n",
            "\n"
          ]
        },
        {
          "output_type": "stream",
          "name": "stderr",
          "text": [
            "\r 28%|██▊       | 9728/34935 [00:25<01:04, 392.89it/s]"
          ]
        },
        {
          "output_type": "stream",
          "name": "stdout",
          "text": [
            "x.shape  torch.Size([512, 512, 60])\n",
            "latent.shape  torch.Size([512, 64, 15])\n",
            "reconstructed.shape  torch.Size([512, 512, 60])\n",
            "Epoch 18/20\n",
            "loss: 0.09804686903953552\n",
            "\n"
          ]
        },
        {
          "output_type": "stream",
          "name": "stderr",
          "text": [
            "\r 29%|██▉       | 10240/34935 [00:26<01:03, 391.44it/s]"
          ]
        },
        {
          "output_type": "stream",
          "name": "stdout",
          "text": [
            "x.shape  torch.Size([512, 512, 60])\n",
            "latent.shape  torch.Size([512, 64, 15])\n",
            "reconstructed.shape  torch.Size([512, 512, 60])\n",
            "Epoch 18/20\n",
            "loss: 0.09949055314064026\n",
            "\n"
          ]
        },
        {
          "output_type": "stream",
          "name": "stderr",
          "text": [
            "\r 31%|███       | 10752/34935 [00:28<01:02, 388.03it/s]"
          ]
        },
        {
          "output_type": "stream",
          "name": "stdout",
          "text": [
            "x.shape  torch.Size([512, 512, 60])\n",
            "latent.shape  torch.Size([512, 64, 15])\n",
            "reconstructed.shape  torch.Size([512, 512, 60])\n",
            "Epoch 18/20\n",
            "loss: 0.09816458076238632\n",
            "\n"
          ]
        },
        {
          "output_type": "stream",
          "name": "stderr",
          "text": [
            "\r 32%|███▏      | 11264/34935 [00:29<01:01, 385.62it/s]"
          ]
        },
        {
          "output_type": "stream",
          "name": "stdout",
          "text": [
            "x.shape  torch.Size([512, 512, 60])\n",
            "latent.shape  torch.Size([512, 64, 15])\n",
            "reconstructed.shape  torch.Size([512, 512, 60])\n",
            "Epoch 18/20\n",
            "loss: 0.0983223021030426\n",
            "\n"
          ]
        },
        {
          "output_type": "stream",
          "name": "stderr",
          "text": [
            "\r 34%|███▎      | 11776/34935 [00:30<01:00, 382.21it/s]"
          ]
        },
        {
          "output_type": "stream",
          "name": "stdout",
          "text": [
            "x.shape  torch.Size([512, 512, 60])\n",
            "latent.shape  torch.Size([512, 64, 15])\n",
            "reconstructed.shape  torch.Size([512, 512, 60])\n",
            "Epoch 18/20\n",
            "loss: 0.09781328588724136\n",
            "\n"
          ]
        },
        {
          "output_type": "stream",
          "name": "stderr",
          "text": [
            "\r 35%|███▌      | 12288/34935 [00:32<00:59, 383.10it/s]"
          ]
        },
        {
          "output_type": "stream",
          "name": "stdout",
          "text": [
            "x.shape  torch.Size([512, 512, 60])\n",
            "latent.shape  torch.Size([512, 64, 15])\n",
            "reconstructed.shape  torch.Size([512, 512, 60])\n",
            "Epoch 18/20\n",
            "loss: 0.09704452753067017\n",
            "\n"
          ]
        },
        {
          "output_type": "stream",
          "name": "stderr",
          "text": [
            "\r 37%|███▋      | 12800/34935 [00:33<00:58, 379.96it/s]"
          ]
        },
        {
          "output_type": "stream",
          "name": "stdout",
          "text": [
            "x.shape  torch.Size([512, 512, 60])\n",
            "latent.shape  torch.Size([512, 64, 15])\n",
            "reconstructed.shape  torch.Size([512, 512, 60])\n",
            "Epoch 18/20\n",
            "loss: 0.09785942733287811\n",
            "\n"
          ]
        },
        {
          "output_type": "stream",
          "name": "stderr",
          "text": [
            "\r 38%|███▊      | 13312/34935 [00:34<00:56, 380.08it/s]"
          ]
        },
        {
          "output_type": "stream",
          "name": "stdout",
          "text": [
            "x.shape  torch.Size([512, 512, 60])\n",
            "latent.shape  torch.Size([512, 64, 15])\n",
            "reconstructed.shape  torch.Size([512, 512, 60])\n",
            "Epoch 18/20\n",
            "loss: 0.09865923970937729\n",
            "\n"
          ]
        },
        {
          "output_type": "stream",
          "name": "stderr",
          "text": [
            "\r 40%|███▉      | 13824/34935 [00:36<00:55, 378.82it/s]"
          ]
        },
        {
          "output_type": "stream",
          "name": "stdout",
          "text": [
            "x.shape  torch.Size([512, 512, 60])\n",
            "latent.shape  torch.Size([512, 64, 15])\n",
            "reconstructed.shape  torch.Size([512, 512, 60])\n",
            "Epoch 18/20\n",
            "loss: 0.09754296392202377\n",
            "\n"
          ]
        },
        {
          "output_type": "stream",
          "name": "stderr",
          "text": [
            "\r 41%|████      | 14336/34935 [00:37<00:53, 383.84it/s]"
          ]
        },
        {
          "output_type": "stream",
          "name": "stdout",
          "text": [
            "x.shape  torch.Size([512, 512, 60])\n",
            "latent.shape  torch.Size([512, 64, 15])\n",
            "reconstructed.shape  torch.Size([512, 512, 60])\n",
            "Epoch 18/20\n",
            "loss: 0.09730049967765808\n",
            "\n"
          ]
        },
        {
          "output_type": "stream",
          "name": "stderr",
          "text": [
            "\r 43%|████▎     | 14848/34935 [00:38<00:52, 384.98it/s]"
          ]
        },
        {
          "output_type": "stream",
          "name": "stdout",
          "text": [
            "x.shape  torch.Size([512, 512, 60])\n",
            "latent.shape  torch.Size([512, 64, 15])\n",
            "reconstructed.shape  torch.Size([512, 512, 60])\n",
            "Epoch 18/20\n",
            "loss: 0.09835388511419296\n",
            "\n"
          ]
        },
        {
          "output_type": "stream",
          "name": "stderr",
          "text": [
            "\r 44%|████▍     | 15360/34935 [00:40<00:50, 389.66it/s]"
          ]
        },
        {
          "output_type": "stream",
          "name": "stdout",
          "text": [
            "x.shape  torch.Size([512, 512, 60])\n",
            "latent.shape  torch.Size([512, 64, 15])\n",
            "reconstructed.shape  torch.Size([512, 512, 60])\n",
            "Epoch 18/20\n",
            "loss: 0.09752082824707031\n",
            "\n"
          ]
        },
        {
          "output_type": "stream",
          "name": "stderr",
          "text": [
            "\r 45%|████▌     | 15872/34935 [00:41<00:45, 421.74it/s]"
          ]
        },
        {
          "output_type": "stream",
          "name": "stdout",
          "text": [
            "x.shape  torch.Size([512, 512, 60])\n",
            "latent.shape  torch.Size([512, 64, 15])\n",
            "reconstructed.shape  torch.Size([512, 512, 60])\n",
            "Epoch 18/20\n",
            "loss: 0.09826512634754181\n",
            "\n"
          ]
        },
        {
          "output_type": "stream",
          "name": "stderr",
          "text": [
            "\r 47%|████▋     | 16384/34935 [00:42<00:45, 408.18it/s]"
          ]
        },
        {
          "output_type": "stream",
          "name": "stdout",
          "text": [
            "x.shape  torch.Size([512, 512, 60])\n",
            "latent.shape  torch.Size([512, 64, 15])\n",
            "reconstructed.shape  torch.Size([512, 512, 60])\n",
            "Epoch 18/20\n",
            "loss: 0.09658826142549515\n",
            "\n"
          ]
        },
        {
          "output_type": "stream",
          "name": "stderr",
          "text": [
            "\r 48%|████▊     | 16896/34935 [00:43<00:44, 402.91it/s]"
          ]
        },
        {
          "output_type": "stream",
          "name": "stdout",
          "text": [
            "x.shape  torch.Size([512, 512, 60])\n",
            "latent.shape  torch.Size([512, 64, 15])\n",
            "reconstructed.shape  torch.Size([512, 512, 60])\n",
            "Epoch 18/20\n",
            "loss: 0.09762236475944519\n",
            "\n"
          ]
        },
        {
          "output_type": "stream",
          "name": "stderr",
          "text": [
            "\r 50%|████▉     | 17408/34935 [00:44<00:43, 401.41it/s]"
          ]
        },
        {
          "output_type": "stream",
          "name": "stdout",
          "text": [
            "x.shape  torch.Size([512, 512, 60])\n",
            "latent.shape  torch.Size([512, 64, 15])\n",
            "reconstructed.shape  torch.Size([512, 512, 60])\n",
            "Epoch 18/20\n",
            "loss: 0.0976172685623169\n",
            "\n"
          ]
        },
        {
          "output_type": "stream",
          "name": "stderr",
          "text": [
            "\r 51%|█████▏    | 17920/34935 [00:46<00:43, 395.31it/s]"
          ]
        },
        {
          "output_type": "stream",
          "name": "stdout",
          "text": [
            "x.shape  torch.Size([512, 512, 60])\n",
            "latent.shape  torch.Size([512, 64, 15])\n",
            "reconstructed.shape  torch.Size([512, 512, 60])\n",
            "Epoch 18/20\n",
            "loss: 0.09878330677747726\n",
            "\n"
          ]
        },
        {
          "output_type": "stream",
          "name": "stderr",
          "text": [
            "\r 53%|█████▎    | 18432/34935 [00:47<00:41, 398.10it/s]"
          ]
        },
        {
          "output_type": "stream",
          "name": "stdout",
          "text": [
            "x.shape  torch.Size([512, 512, 60])\n",
            "latent.shape  torch.Size([512, 64, 15])\n",
            "reconstructed.shape  torch.Size([512, 512, 60])\n",
            "Epoch 18/20\n",
            "loss: 0.09920445829629898\n",
            "\n"
          ]
        },
        {
          "output_type": "stream",
          "name": "stderr",
          "text": [
            "\r 54%|█████▍    | 18944/34935 [00:48<00:40, 395.80it/s]"
          ]
        },
        {
          "output_type": "stream",
          "name": "stdout",
          "text": [
            "x.shape  torch.Size([512, 512, 60])\n",
            "latent.shape  torch.Size([512, 64, 15])\n",
            "reconstructed.shape  torch.Size([512, 512, 60])\n",
            "Epoch 18/20\n",
            "loss: 0.09620195627212524\n",
            "\n"
          ]
        },
        {
          "output_type": "stream",
          "name": "stderr",
          "text": [
            "\r 56%|█████▌    | 19456/34935 [00:50<00:38, 397.54it/s]"
          ]
        },
        {
          "output_type": "stream",
          "name": "stdout",
          "text": [
            "x.shape  torch.Size([512, 512, 60])\n",
            "latent.shape  torch.Size([512, 64, 15])\n",
            "reconstructed.shape  torch.Size([512, 512, 60])\n",
            "Epoch 18/20\n",
            "loss: 0.09932395815849304\n",
            "\n"
          ]
        },
        {
          "output_type": "stream",
          "name": "stderr",
          "text": [
            "\r 57%|█████▋    | 19968/34935 [00:51<00:37, 395.90it/s]"
          ]
        },
        {
          "output_type": "stream",
          "name": "stdout",
          "text": [
            "x.shape  torch.Size([512, 512, 60])\n",
            "latent.shape  torch.Size([512, 64, 15])\n",
            "reconstructed.shape  torch.Size([512, 512, 60])\n",
            "Epoch 18/20\n",
            "loss: 0.0987977609038353\n",
            "\n"
          ]
        },
        {
          "output_type": "stream",
          "name": "stderr",
          "text": [
            "\r 59%|█████▊    | 20480/34935 [00:52<00:37, 382.22it/s]"
          ]
        },
        {
          "output_type": "stream",
          "name": "stdout",
          "text": [
            "x.shape  torch.Size([512, 512, 60])\n",
            "latent.shape  torch.Size([512, 64, 15])\n",
            "reconstructed.shape  torch.Size([512, 512, 60])\n",
            "Epoch 18/20\n",
            "loss: 0.09884275496006012\n",
            "\n"
          ]
        },
        {
          "output_type": "stream",
          "name": "stderr",
          "text": [
            "\r 60%|██████    | 20992/34935 [00:54<00:36, 385.67it/s]"
          ]
        },
        {
          "output_type": "stream",
          "name": "stdout",
          "text": [
            "x.shape  torch.Size([512, 512, 60])\n",
            "latent.shape  torch.Size([512, 64, 15])\n",
            "reconstructed.shape  torch.Size([512, 512, 60])\n",
            "Epoch 18/20\n",
            "loss: 0.09682218730449677\n",
            "\n"
          ]
        },
        {
          "output_type": "stream",
          "name": "stderr",
          "text": [
            "\r 62%|██████▏   | 21504/34935 [00:55<00:34, 385.90it/s]"
          ]
        },
        {
          "output_type": "stream",
          "name": "stdout",
          "text": [
            "x.shape  torch.Size([512, 512, 60])\n",
            "latent.shape  torch.Size([512, 64, 15])\n",
            "reconstructed.shape  torch.Size([512, 512, 60])\n",
            "Epoch 18/20\n",
            "loss: 0.0986848697066307\n",
            "\n"
          ]
        },
        {
          "output_type": "stream",
          "name": "stderr",
          "text": [
            "\r 63%|██████▎   | 22016/34935 [00:56<00:33, 388.44it/s]"
          ]
        },
        {
          "output_type": "stream",
          "name": "stdout",
          "text": [
            "x.shape  torch.Size([512, 512, 60])\n",
            "latent.shape  torch.Size([512, 64, 15])\n",
            "reconstructed.shape  torch.Size([512, 512, 60])\n",
            "Epoch 18/20\n",
            "loss: 0.09703925251960754\n",
            "\n"
          ]
        },
        {
          "output_type": "stream",
          "name": "stderr",
          "text": [
            "\r 64%|██████▍   | 22528/34935 [00:58<00:31, 388.17it/s]"
          ]
        },
        {
          "output_type": "stream",
          "name": "stdout",
          "text": [
            "x.shape  torch.Size([512, 512, 60])\n",
            "latent.shape  torch.Size([512, 64, 15])\n",
            "reconstructed.shape  torch.Size([512, 512, 60])\n",
            "Epoch 18/20\n",
            "loss: 0.09657315909862518\n",
            "\n"
          ]
        },
        {
          "output_type": "stream",
          "name": "stderr",
          "text": [
            "\r 66%|██████▌   | 23040/34935 [00:59<00:30, 390.97it/s]"
          ]
        },
        {
          "output_type": "stream",
          "name": "stdout",
          "text": [
            "x.shape  torch.Size([512, 512, 60])\n",
            "latent.shape  torch.Size([512, 64, 15])\n",
            "reconstructed.shape  torch.Size([512, 512, 60])\n",
            "Epoch 18/20\n",
            "loss: 0.09765342622995377\n",
            "\n"
          ]
        },
        {
          "output_type": "stream",
          "name": "stderr",
          "text": [
            "\r 67%|██████▋   | 23552/34935 [01:00<00:29, 392.41it/s]"
          ]
        },
        {
          "output_type": "stream",
          "name": "stdout",
          "text": [
            "x.shape  torch.Size([512, 512, 60])\n",
            "latent.shape  torch.Size([512, 64, 15])\n",
            "reconstructed.shape  torch.Size([512, 512, 60])\n",
            "Epoch 18/20\n",
            "loss: 0.09872684627771378\n",
            "\n"
          ]
        },
        {
          "output_type": "stream",
          "name": "stderr",
          "text": [
            "\r 69%|██████▉   | 24064/34935 [01:02<00:27, 390.75it/s]"
          ]
        },
        {
          "output_type": "stream",
          "name": "stdout",
          "text": [
            "x.shape  torch.Size([512, 512, 60])\n",
            "latent.shape  torch.Size([512, 64, 15])\n",
            "reconstructed.shape  torch.Size([512, 512, 60])\n",
            "Epoch 18/20\n",
            "loss: 0.0983595922589302\n",
            "\n"
          ]
        },
        {
          "output_type": "stream",
          "name": "stderr",
          "text": [
            "\r 70%|███████   | 24576/34935 [01:03<00:26, 388.80it/s]"
          ]
        },
        {
          "output_type": "stream",
          "name": "stdout",
          "text": [
            "x.shape  torch.Size([512, 512, 60])\n",
            "latent.shape  torch.Size([512, 64, 15])\n",
            "reconstructed.shape  torch.Size([512, 512, 60])\n",
            "Epoch 18/20\n",
            "loss: 0.0975886732339859\n",
            "\n"
          ]
        },
        {
          "output_type": "stream",
          "name": "stderr",
          "text": [
            "\r 72%|███████▏  | 25088/34935 [01:04<00:25, 393.40it/s]"
          ]
        },
        {
          "output_type": "stream",
          "name": "stdout",
          "text": [
            "x.shape  torch.Size([512, 512, 60])\n",
            "latent.shape  torch.Size([512, 64, 15])\n",
            "reconstructed.shape  torch.Size([512, 512, 60])\n",
            "Epoch 18/20\n",
            "loss: 0.09737031161785126\n",
            "\n"
          ]
        },
        {
          "output_type": "stream",
          "name": "stderr",
          "text": [
            "\r 73%|███████▎  | 25600/34935 [01:05<00:23, 392.18it/s]"
          ]
        },
        {
          "output_type": "stream",
          "name": "stdout",
          "text": [
            "x.shape  torch.Size([512, 512, 60])\n",
            "latent.shape  torch.Size([512, 64, 15])\n",
            "reconstructed.shape  torch.Size([512, 512, 60])\n",
            "Epoch 18/20\n",
            "loss: 0.0980033427476883\n",
            "\n"
          ]
        },
        {
          "output_type": "stream",
          "name": "stderr",
          "text": [
            "\r 75%|███████▍  | 26112/34935 [01:07<00:22, 392.58it/s]"
          ]
        },
        {
          "output_type": "stream",
          "name": "stdout",
          "text": [
            "x.shape  torch.Size([512, 512, 60])\n",
            "latent.shape  torch.Size([512, 64, 15])\n",
            "reconstructed.shape  torch.Size([512, 512, 60])\n",
            "Epoch 18/20\n",
            "loss: 0.0979672446846962\n",
            "\n"
          ]
        },
        {
          "output_type": "stream",
          "name": "stderr",
          "text": [
            "\r 76%|███████▌  | 26624/34935 [01:08<00:21, 389.60it/s]"
          ]
        },
        {
          "output_type": "stream",
          "name": "stdout",
          "text": [
            "x.shape  torch.Size([512, 512, 60])\n",
            "latent.shape  torch.Size([512, 64, 15])\n",
            "reconstructed.shape  torch.Size([512, 512, 60])\n",
            "Epoch 18/20\n",
            "loss: 0.09810581058263779\n",
            "\n"
          ]
        },
        {
          "output_type": "stream",
          "name": "stderr",
          "text": [
            "\r 78%|███████▊  | 27136/34935 [01:09<00:20, 388.04it/s]"
          ]
        },
        {
          "output_type": "stream",
          "name": "stdout",
          "text": [
            "x.shape  torch.Size([512, 512, 60])\n",
            "latent.shape  torch.Size([512, 64, 15])\n",
            "reconstructed.shape  torch.Size([512, 512, 60])\n",
            "Epoch 18/20\n",
            "loss: 0.0992712453007698\n",
            "\n"
          ]
        },
        {
          "output_type": "stream",
          "name": "stderr",
          "text": [
            "\r 79%|███████▉  | 27648/34935 [01:11<00:18, 392.09it/s]"
          ]
        },
        {
          "output_type": "stream",
          "name": "stdout",
          "text": [
            "x.shape  torch.Size([512, 512, 60])\n",
            "latent.shape  torch.Size([512, 64, 15])\n",
            "reconstructed.shape  torch.Size([512, 512, 60])\n",
            "Epoch 18/20\n",
            "loss: 0.09850245714187622\n",
            "\n"
          ]
        },
        {
          "output_type": "stream",
          "name": "stderr",
          "text": [
            "\r 81%|████████  | 28160/34935 [01:12<00:17, 383.21it/s]"
          ]
        },
        {
          "output_type": "stream",
          "name": "stdout",
          "text": [
            "x.shape  torch.Size([512, 512, 60])\n",
            "latent.shape  torch.Size([512, 64, 15])\n",
            "reconstructed.shape  torch.Size([512, 512, 60])\n",
            "Epoch 18/20\n",
            "loss: 0.09757478535175323\n",
            "\n"
          ]
        },
        {
          "output_type": "stream",
          "name": "stderr",
          "text": [
            "\r 82%|████████▏ | 28672/34935 [01:13<00:16, 386.96it/s]"
          ]
        },
        {
          "output_type": "stream",
          "name": "stdout",
          "text": [
            "x.shape  torch.Size([512, 512, 60])\n",
            "latent.shape  torch.Size([512, 64, 15])\n",
            "reconstructed.shape  torch.Size([512, 512, 60])\n",
            "Epoch 18/20\n",
            "loss: 0.09667295217514038\n",
            "\n"
          ]
        },
        {
          "output_type": "stream",
          "name": "stderr",
          "text": [
            "\r 84%|████████▎ | 29184/34935 [01:15<00:14, 385.08it/s]"
          ]
        },
        {
          "output_type": "stream",
          "name": "stdout",
          "text": [
            "x.shape  torch.Size([512, 512, 60])\n",
            "latent.shape  torch.Size([512, 64, 15])\n",
            "reconstructed.shape  torch.Size([512, 512, 60])\n",
            "Epoch 18/20\n",
            "loss: 0.09767691791057587\n",
            "\n"
          ]
        },
        {
          "output_type": "stream",
          "name": "stderr",
          "text": [
            "\r 85%|████████▌ | 29696/34935 [01:16<00:13, 387.77it/s]"
          ]
        },
        {
          "output_type": "stream",
          "name": "stdout",
          "text": [
            "x.shape  torch.Size([512, 512, 60])\n",
            "latent.shape  torch.Size([512, 64, 15])\n",
            "reconstructed.shape  torch.Size([512, 512, 60])\n",
            "Epoch 18/20\n",
            "loss: 0.09775242954492569\n",
            "\n"
          ]
        },
        {
          "output_type": "stream",
          "name": "stderr",
          "text": [
            "\r 86%|████████▋ | 30208/34935 [01:17<00:12, 383.72it/s]"
          ]
        },
        {
          "output_type": "stream",
          "name": "stdout",
          "text": [
            "x.shape  torch.Size([512, 512, 60])\n",
            "latent.shape  torch.Size([512, 64, 15])\n",
            "reconstructed.shape  torch.Size([512, 512, 60])\n",
            "Epoch 18/20\n",
            "loss: 0.09724774956703186\n",
            "\n"
          ]
        },
        {
          "output_type": "stream",
          "name": "stderr",
          "text": [
            "\r 88%|████████▊ | 30720/34935 [01:19<00:10, 385.08it/s]"
          ]
        },
        {
          "output_type": "stream",
          "name": "stdout",
          "text": [
            "x.shape  torch.Size([512, 512, 60])\n",
            "latent.shape  torch.Size([512, 64, 15])\n",
            "reconstructed.shape  torch.Size([512, 512, 60])\n",
            "Epoch 18/20\n",
            "loss: 0.0977526381611824\n",
            "\n"
          ]
        },
        {
          "output_type": "stream",
          "name": "stderr",
          "text": [
            "\r 89%|████████▉ | 31232/34935 [01:20<00:09, 386.03it/s]"
          ]
        },
        {
          "output_type": "stream",
          "name": "stdout",
          "text": [
            "x.shape  torch.Size([512, 512, 60])\n",
            "latent.shape  torch.Size([512, 64, 15])\n",
            "reconstructed.shape  torch.Size([512, 512, 60])\n",
            "Epoch 18/20\n",
            "loss: 0.0980709120631218\n",
            "\n"
          ]
        },
        {
          "output_type": "stream",
          "name": "stderr",
          "text": [
            "\r 91%|█████████ | 31744/34935 [01:21<00:08, 386.41it/s]"
          ]
        },
        {
          "output_type": "stream",
          "name": "stdout",
          "text": [
            "x.shape  torch.Size([512, 512, 60])\n",
            "latent.shape  torch.Size([512, 64, 15])\n",
            "reconstructed.shape  torch.Size([512, 512, 60])\n",
            "Epoch 18/20\n",
            "loss: 0.09904444217681885\n",
            "\n"
          ]
        },
        {
          "output_type": "stream",
          "name": "stderr",
          "text": [
            "\r 92%|█████████▏| 32256/34935 [01:23<00:06, 387.06it/s]"
          ]
        },
        {
          "output_type": "stream",
          "name": "stdout",
          "text": [
            "x.shape  torch.Size([512, 512, 60])\n",
            "latent.shape  torch.Size([512, 64, 15])\n",
            "reconstructed.shape  torch.Size([512, 512, 60])\n",
            "Epoch 18/20\n",
            "loss: 0.09829893708229065\n",
            "\n"
          ]
        },
        {
          "output_type": "stream",
          "name": "stderr",
          "text": [
            "\r 94%|█████████▍| 32768/34935 [01:24<00:05, 384.64it/s]"
          ]
        },
        {
          "output_type": "stream",
          "name": "stdout",
          "text": [
            "x.shape  torch.Size([512, 512, 60])\n",
            "latent.shape  torch.Size([512, 64, 15])\n",
            "reconstructed.shape  torch.Size([512, 512, 60])\n",
            "Epoch 18/20\n",
            "loss: 0.09670833498239517\n",
            "\n"
          ]
        },
        {
          "output_type": "stream",
          "name": "stderr",
          "text": [
            "\r 95%|█████████▌| 33280/34935 [01:25<00:04, 386.80it/s]"
          ]
        },
        {
          "output_type": "stream",
          "name": "stdout",
          "text": [
            "x.shape  torch.Size([512, 512, 60])\n",
            "latent.shape  torch.Size([512, 64, 15])\n",
            "reconstructed.shape  torch.Size([512, 512, 60])\n",
            "Epoch 18/20\n",
            "loss: 0.0990695208311081\n",
            "\n"
          ]
        },
        {
          "output_type": "stream",
          "name": "stderr",
          "text": [
            "\r 97%|█████████▋| 33792/34935 [01:27<00:02, 388.46it/s]"
          ]
        },
        {
          "output_type": "stream",
          "name": "stdout",
          "text": [
            "x.shape  torch.Size([512, 512, 60])\n",
            "latent.shape  torch.Size([512, 64, 15])\n",
            "reconstructed.shape  torch.Size([512, 512, 60])\n",
            "Epoch 18/20\n",
            "loss: 0.09950444847345352\n",
            "\n"
          ]
        },
        {
          "output_type": "stream",
          "name": "stderr",
          "text": [
            "\r 98%|█████████▊| 34304/34935 [01:28<00:01, 389.83it/s]"
          ]
        },
        {
          "output_type": "stream",
          "name": "stdout",
          "text": [
            "x.shape  torch.Size([512, 512, 60])\n",
            "latent.shape  torch.Size([512, 64, 15])\n",
            "reconstructed.shape  torch.Size([512, 512, 60])\n",
            "Epoch 18/20\n",
            "loss: 0.09955760836601257\n",
            "\n"
          ]
        },
        {
          "output_type": "stream",
          "name": "stderr",
          "text": [
            "100%|██████████| 34935/34935 [01:29<00:00, 389.19it/s]"
          ]
        },
        {
          "output_type": "stream",
          "name": "stdout",
          "text": [
            "x.shape  torch.Size([512, 512, 60])\n",
            "latent.shape  torch.Size([512, 64, 15])\n",
            "reconstructed.shape  torch.Size([512, 512, 60])\n",
            "Epoch 18/20\n",
            "loss: 0.09878648072481155\n",
            "\n"
          ]
        },
        {
          "output_type": "stream",
          "name": "stderr",
          "text": [
            "\n"
          ]
        },
        {
          "output_type": "stream",
          "name": "stdout",
          "text": [
            "x.shape  torch.Size([119, 512, 60])\n",
            "latent.shape  torch.Size([119, 64, 15])\n",
            "reconstructed.shape  torch.Size([119, 512, 60])\n",
            "Epoch 18/20\n",
            "loss: 0.09475977718830109\n",
            "\n"
          ]
        },
        {
          "output_type": "stream",
          "name": "stderr",
          "text": [
            "  1%|▏         | 512/34935 [00:01<01:30, 378.82it/s]"
          ]
        },
        {
          "output_type": "stream",
          "name": "stdout",
          "text": [
            "x.shape  torch.Size([512, 512, 60])\n",
            "latent.shape  torch.Size([512, 64, 15])\n",
            "reconstructed.shape  torch.Size([512, 512, 60])\n",
            "Epoch 19/20\n",
            "loss: 0.09820223599672318\n",
            "\n"
          ]
        },
        {
          "output_type": "stream",
          "name": "stderr",
          "text": [
            "\r  3%|▎         | 1024/34935 [00:02<01:29, 378.60it/s]"
          ]
        },
        {
          "output_type": "stream",
          "name": "stdout",
          "text": [
            "x.shape  torch.Size([512, 512, 60])\n",
            "latent.shape  torch.Size([512, 64, 15])\n",
            "reconstructed.shape  torch.Size([512, 512, 60])\n",
            "Epoch 19/20\n",
            "loss: 0.09874242544174194\n",
            "\n"
          ]
        },
        {
          "output_type": "stream",
          "name": "stderr",
          "text": [
            "\r  4%|▍         | 1536/34935 [00:04<01:28, 375.44it/s]"
          ]
        },
        {
          "output_type": "stream",
          "name": "stdout",
          "text": [
            "x.shape  torch.Size([512, 512, 60])\n",
            "latent.shape  torch.Size([512, 64, 15])\n",
            "reconstructed.shape  torch.Size([512, 512, 60])\n",
            "Epoch 19/20\n",
            "loss: 0.09657970815896988\n",
            "\n"
          ]
        },
        {
          "output_type": "stream",
          "name": "stderr",
          "text": [
            "\r  6%|▌         | 2048/34935 [00:05<01:27, 375.75it/s]"
          ]
        },
        {
          "output_type": "stream",
          "name": "stdout",
          "text": [
            "x.shape  torch.Size([512, 512, 60])\n",
            "latent.shape  torch.Size([512, 64, 15])\n",
            "reconstructed.shape  torch.Size([512, 512, 60])\n",
            "Epoch 19/20\n",
            "loss: 0.09865718334913254\n",
            "\n"
          ]
        },
        {
          "output_type": "stream",
          "name": "stderr",
          "text": [
            "\r  7%|▋         | 2560/34935 [00:06<01:24, 382.50it/s]"
          ]
        },
        {
          "output_type": "stream",
          "name": "stdout",
          "text": [
            "x.shape  torch.Size([512, 512, 60])\n",
            "latent.shape  torch.Size([512, 64, 15])\n",
            "reconstructed.shape  torch.Size([512, 512, 60])\n",
            "Epoch 19/20\n",
            "loss: 0.09831739962100983\n",
            "\n"
          ]
        },
        {
          "output_type": "stream",
          "name": "stderr",
          "text": [
            "\r  9%|▉         | 3072/34935 [00:08<01:22, 384.53it/s]"
          ]
        },
        {
          "output_type": "stream",
          "name": "stdout",
          "text": [
            "x.shape  torch.Size([512, 512, 60])\n",
            "latent.shape  torch.Size([512, 64, 15])\n",
            "reconstructed.shape  torch.Size([512, 512, 60])\n",
            "Epoch 19/20\n",
            "loss: 0.09912887215614319\n",
            "\n"
          ]
        },
        {
          "output_type": "stream",
          "name": "stderr",
          "text": [
            "\r 10%|█         | 3584/34935 [00:09<01:21, 386.03it/s]"
          ]
        },
        {
          "output_type": "stream",
          "name": "stdout",
          "text": [
            "x.shape  torch.Size([512, 512, 60])\n",
            "latent.shape  torch.Size([512, 64, 15])\n",
            "reconstructed.shape  torch.Size([512, 512, 60])\n",
            "Epoch 19/20\n",
            "loss: 0.09687799215316772\n",
            "\n"
          ]
        },
        {
          "output_type": "stream",
          "name": "stderr",
          "text": [
            "\r 12%|█▏        | 4096/34935 [00:10<01:21, 380.70it/s]"
          ]
        },
        {
          "output_type": "stream",
          "name": "stdout",
          "text": [
            "x.shape  torch.Size([512, 512, 60])\n",
            "latent.shape  torch.Size([512, 64, 15])\n",
            "reconstructed.shape  torch.Size([512, 512, 60])\n",
            "Epoch 19/20\n",
            "loss: 0.09807028621435165\n",
            "\n"
          ]
        },
        {
          "output_type": "stream",
          "name": "stderr",
          "text": [
            "\r 13%|█▎        | 4608/34935 [00:12<01:19, 379.72it/s]"
          ]
        },
        {
          "output_type": "stream",
          "name": "stdout",
          "text": [
            "x.shape  torch.Size([512, 512, 60])\n",
            "latent.shape  torch.Size([512, 64, 15])\n",
            "reconstructed.shape  torch.Size([512, 512, 60])\n",
            "Epoch 19/20\n",
            "loss: 0.09740868955850601\n",
            "\n"
          ]
        },
        {
          "output_type": "stream",
          "name": "stderr",
          "text": [
            "\r 15%|█▍        | 5120/34935 [00:13<01:18, 379.15it/s]"
          ]
        },
        {
          "output_type": "stream",
          "name": "stdout",
          "text": [
            "x.shape  torch.Size([512, 512, 60])\n",
            "latent.shape  torch.Size([512, 64, 15])\n",
            "reconstructed.shape  torch.Size([512, 512, 60])\n",
            "Epoch 19/20\n",
            "loss: 0.0985327735543251\n",
            "\n"
          ]
        },
        {
          "output_type": "stream",
          "name": "stderr",
          "text": [
            "\r 16%|█▌        | 5632/34935 [00:14<01:15, 385.71it/s]"
          ]
        },
        {
          "output_type": "stream",
          "name": "stdout",
          "text": [
            "x.shape  torch.Size([512, 512, 60])\n",
            "latent.shape  torch.Size([512, 64, 15])\n",
            "reconstructed.shape  torch.Size([512, 512, 60])\n",
            "Epoch 19/20\n",
            "loss: 0.09876943379640579\n",
            "\n"
          ]
        },
        {
          "output_type": "stream",
          "name": "stderr",
          "text": [
            "\r 18%|█▊        | 6144/34935 [00:16<01:14, 388.10it/s]"
          ]
        },
        {
          "output_type": "stream",
          "name": "stdout",
          "text": [
            "x.shape  torch.Size([512, 512, 60])\n",
            "latent.shape  torch.Size([512, 64, 15])\n",
            "reconstructed.shape  torch.Size([512, 512, 60])\n",
            "Epoch 19/20\n",
            "loss: 0.09696951508522034\n",
            "\n"
          ]
        },
        {
          "output_type": "stream",
          "name": "stderr",
          "text": [
            "\r 19%|█▉        | 6656/34935 [00:17<01:13, 384.92it/s]"
          ]
        },
        {
          "output_type": "stream",
          "name": "stdout",
          "text": [
            "x.shape  torch.Size([512, 512, 60])\n",
            "latent.shape  torch.Size([512, 64, 15])\n",
            "reconstructed.shape  torch.Size([512, 512, 60])\n",
            "Epoch 19/20\n",
            "loss: 0.09542766213417053\n",
            "\n"
          ]
        },
        {
          "output_type": "stream",
          "name": "stderr",
          "text": [
            "\r 21%|██        | 7168/34935 [00:18<01:11, 385.88it/s]"
          ]
        },
        {
          "output_type": "stream",
          "name": "stdout",
          "text": [
            "x.shape  torch.Size([512, 512, 60])\n",
            "latent.shape  torch.Size([512, 64, 15])\n",
            "reconstructed.shape  torch.Size([512, 512, 60])\n",
            "Epoch 19/20\n",
            "loss: 0.09772314131259918\n",
            "\n"
          ]
        },
        {
          "output_type": "stream",
          "name": "stderr",
          "text": [
            "\r 22%|██▏       | 7680/34935 [00:20<01:10, 385.40it/s]"
          ]
        },
        {
          "output_type": "stream",
          "name": "stdout",
          "text": [
            "x.shape  torch.Size([512, 512, 60])\n",
            "latent.shape  torch.Size([512, 64, 15])\n",
            "reconstructed.shape  torch.Size([512, 512, 60])\n",
            "Epoch 19/20\n",
            "loss: 0.09849657863378525\n",
            "\n"
          ]
        },
        {
          "output_type": "stream",
          "name": "stderr",
          "text": [
            "\r 23%|██▎       | 8192/34935 [00:21<01:10, 380.55it/s]"
          ]
        },
        {
          "output_type": "stream",
          "name": "stdout",
          "text": [
            "x.shape  torch.Size([512, 512, 60])\n",
            "latent.shape  torch.Size([512, 64, 15])\n",
            "reconstructed.shape  torch.Size([512, 512, 60])\n",
            "Epoch 19/20\n",
            "loss: 0.09693567454814911\n",
            "\n"
          ]
        },
        {
          "output_type": "stream",
          "name": "stderr",
          "text": [
            "\r 25%|██▍       | 8704/34935 [00:22<01:08, 384.11it/s]"
          ]
        },
        {
          "output_type": "stream",
          "name": "stdout",
          "text": [
            "x.shape  torch.Size([512, 512, 60])\n",
            "latent.shape  torch.Size([512, 64, 15])\n",
            "reconstructed.shape  torch.Size([512, 512, 60])\n",
            "Epoch 19/20\n",
            "loss: 0.09708516299724579\n",
            "\n"
          ]
        },
        {
          "output_type": "stream",
          "name": "stderr",
          "text": [
            "\r 26%|██▋       | 9216/34935 [00:24<01:06, 387.64it/s]"
          ]
        },
        {
          "output_type": "stream",
          "name": "stdout",
          "text": [
            "x.shape  torch.Size([512, 512, 60])\n",
            "latent.shape  torch.Size([512, 64, 15])\n",
            "reconstructed.shape  torch.Size([512, 512, 60])\n",
            "Epoch 19/20\n",
            "loss: 0.09868426620960236\n",
            "\n"
          ]
        },
        {
          "output_type": "stream",
          "name": "stderr",
          "text": [
            "\r 28%|██▊       | 9728/34935 [00:25<01:04, 392.01it/s]"
          ]
        },
        {
          "output_type": "stream",
          "name": "stdout",
          "text": [
            "x.shape  torch.Size([512, 512, 60])\n",
            "latent.shape  torch.Size([512, 64, 15])\n",
            "reconstructed.shape  torch.Size([512, 512, 60])\n",
            "Epoch 19/20\n",
            "loss: 0.09737052023410797\n",
            "\n"
          ]
        },
        {
          "output_type": "stream",
          "name": "stderr",
          "text": [
            "\r 29%|██▉       | 10240/34935 [00:26<01:03, 386.51it/s]"
          ]
        },
        {
          "output_type": "stream",
          "name": "stdout",
          "text": [
            "x.shape  torch.Size([512, 512, 60])\n",
            "latent.shape  torch.Size([512, 64, 15])\n",
            "reconstructed.shape  torch.Size([512, 512, 60])\n",
            "Epoch 19/20\n",
            "loss: 0.09876298904418945\n",
            "\n"
          ]
        },
        {
          "output_type": "stream",
          "name": "stderr",
          "text": [
            "\r 31%|███       | 10752/34935 [00:28<01:02, 384.20it/s]"
          ]
        },
        {
          "output_type": "stream",
          "name": "stdout",
          "text": [
            "x.shape  torch.Size([512, 512, 60])\n",
            "latent.shape  torch.Size([512, 64, 15])\n",
            "reconstructed.shape  torch.Size([512, 512, 60])\n",
            "Epoch 19/20\n",
            "loss: 0.09757430106401443\n",
            "\n"
          ]
        },
        {
          "output_type": "stream",
          "name": "stderr",
          "text": [
            "\r 32%|███▏      | 11264/34935 [00:29<01:02, 381.55it/s]"
          ]
        },
        {
          "output_type": "stream",
          "name": "stdout",
          "text": [
            "x.shape  torch.Size([512, 512, 60])\n",
            "latent.shape  torch.Size([512, 64, 15])\n",
            "reconstructed.shape  torch.Size([512, 512, 60])\n",
            "Epoch 19/20\n",
            "loss: 0.09766008704900742\n",
            "\n"
          ]
        },
        {
          "output_type": "stream",
          "name": "stderr",
          "text": [
            "\r 34%|███▎      | 11776/34935 [00:30<01:00, 382.16it/s]"
          ]
        },
        {
          "output_type": "stream",
          "name": "stdout",
          "text": [
            "x.shape  torch.Size([512, 512, 60])\n",
            "latent.shape  torch.Size([512, 64, 15])\n",
            "reconstructed.shape  torch.Size([512, 512, 60])\n",
            "Epoch 19/20\n",
            "loss: 0.09719029068946838\n",
            "\n"
          ]
        },
        {
          "output_type": "stream",
          "name": "stderr",
          "text": [
            "\r 35%|███▌      | 12288/34935 [00:32<00:59, 380.46it/s]"
          ]
        },
        {
          "output_type": "stream",
          "name": "stdout",
          "text": [
            "x.shape  torch.Size([512, 512, 60])\n",
            "latent.shape  torch.Size([512, 64, 15])\n",
            "reconstructed.shape  torch.Size([512, 512, 60])\n",
            "Epoch 19/20\n",
            "loss: 0.09647238254547119\n",
            "\n"
          ]
        },
        {
          "output_type": "stream",
          "name": "stderr",
          "text": [
            "\r 37%|███▋      | 12800/34935 [00:33<00:57, 385.00it/s]"
          ]
        },
        {
          "output_type": "stream",
          "name": "stdout",
          "text": [
            "x.shape  torch.Size([512, 512, 60])\n",
            "latent.shape  torch.Size([512, 64, 15])\n",
            "reconstructed.shape  torch.Size([512, 512, 60])\n",
            "Epoch 19/20\n",
            "loss: 0.09722532331943512\n",
            "\n"
          ]
        },
        {
          "output_type": "stream",
          "name": "stderr",
          "text": [
            "\r 38%|███▊      | 13312/34935 [00:34<00:56, 383.67it/s]"
          ]
        },
        {
          "output_type": "stream",
          "name": "stdout",
          "text": [
            "x.shape  torch.Size([512, 512, 60])\n",
            "latent.shape  torch.Size([512, 64, 15])\n",
            "reconstructed.shape  torch.Size([512, 512, 60])\n",
            "Epoch 19/20\n",
            "loss: 0.09800401329994202\n",
            "\n"
          ]
        },
        {
          "output_type": "stream",
          "name": "stderr",
          "text": [
            "\r 40%|███▉      | 13824/34935 [00:36<00:55, 382.39it/s]"
          ]
        },
        {
          "output_type": "stream",
          "name": "stdout",
          "text": [
            "x.shape  torch.Size([512, 512, 60])\n",
            "latent.shape  torch.Size([512, 64, 15])\n",
            "reconstructed.shape  torch.Size([512, 512, 60])\n",
            "Epoch 19/20\n",
            "loss: 0.09690288454294205\n",
            "\n"
          ]
        },
        {
          "output_type": "stream",
          "name": "stderr",
          "text": [
            "\r 41%|████      | 14336/34935 [00:37<00:53, 385.37it/s]"
          ]
        },
        {
          "output_type": "stream",
          "name": "stdout",
          "text": [
            "x.shape  torch.Size([512, 512, 60])\n",
            "latent.shape  torch.Size([512, 64, 15])\n",
            "reconstructed.shape  torch.Size([512, 512, 60])\n",
            "Epoch 19/20\n",
            "loss: 0.09662163257598877\n",
            "\n"
          ]
        },
        {
          "output_type": "stream",
          "name": "stderr",
          "text": [
            "\r 43%|████▎     | 14848/34935 [00:38<00:52, 383.09it/s]"
          ]
        },
        {
          "output_type": "stream",
          "name": "stdout",
          "text": [
            "x.shape  torch.Size([512, 512, 60])\n",
            "latent.shape  torch.Size([512, 64, 15])\n",
            "reconstructed.shape  torch.Size([512, 512, 60])\n",
            "Epoch 19/20\n",
            "loss: 0.09768553078174591\n",
            "\n"
          ]
        },
        {
          "output_type": "stream",
          "name": "stderr",
          "text": [
            "\r 44%|████▍     | 15360/34935 [00:40<00:51, 383.23it/s]"
          ]
        },
        {
          "output_type": "stream",
          "name": "stdout",
          "text": [
            "x.shape  torch.Size([512, 512, 60])\n",
            "latent.shape  torch.Size([512, 64, 15])\n",
            "reconstructed.shape  torch.Size([512, 512, 60])\n",
            "Epoch 19/20\n",
            "loss: 0.09688978642225266\n",
            "\n"
          ]
        },
        {
          "output_type": "stream",
          "name": "stderr",
          "text": [
            "\r 45%|████▌     | 15872/34935 [00:41<00:46, 413.81it/s]"
          ]
        },
        {
          "output_type": "stream",
          "name": "stdout",
          "text": [
            "x.shape  torch.Size([512, 512, 60])\n",
            "latent.shape  torch.Size([512, 64, 15])\n",
            "reconstructed.shape  torch.Size([512, 512, 60])\n",
            "Epoch 19/20\n",
            "loss: 0.0975756049156189\n",
            "\n"
          ]
        },
        {
          "output_type": "stream",
          "name": "stderr",
          "text": [
            "\r 47%|████▋     | 16384/34935 [00:42<00:46, 399.15it/s]"
          ]
        },
        {
          "output_type": "stream",
          "name": "stdout",
          "text": [
            "x.shape  torch.Size([512, 512, 60])\n",
            "latent.shape  torch.Size([512, 64, 15])\n",
            "reconstructed.shape  torch.Size([512, 512, 60])\n",
            "Epoch 19/20\n",
            "loss: 0.09596177935600281\n",
            "\n"
          ]
        },
        {
          "output_type": "stream",
          "name": "stderr",
          "text": [
            "\r 48%|████▊     | 16896/34935 [00:43<00:46, 388.75it/s]"
          ]
        },
        {
          "output_type": "stream",
          "name": "stdout",
          "text": [
            "x.shape  torch.Size([512, 512, 60])\n",
            "latent.shape  torch.Size([512, 64, 15])\n",
            "reconstructed.shape  torch.Size([512, 512, 60])\n",
            "Epoch 19/20\n",
            "loss: 0.09703035652637482\n",
            "\n"
          ]
        },
        {
          "output_type": "stream",
          "name": "stderr",
          "text": [
            "\r 50%|████▉     | 17408/34935 [00:45<00:45, 384.81it/s]"
          ]
        },
        {
          "output_type": "stream",
          "name": "stdout",
          "text": [
            "x.shape  torch.Size([512, 512, 60])\n",
            "latent.shape  torch.Size([512, 64, 15])\n",
            "reconstructed.shape  torch.Size([512, 512, 60])\n",
            "Epoch 19/20\n",
            "loss: 0.09694080799818039\n",
            "\n"
          ]
        },
        {
          "output_type": "stream",
          "name": "stderr",
          "text": [
            "\r 51%|█████▏    | 17920/34935 [00:46<00:44, 379.97it/s]"
          ]
        },
        {
          "output_type": "stream",
          "name": "stdout",
          "text": [
            "x.shape  torch.Size([512, 512, 60])\n",
            "latent.shape  torch.Size([512, 64, 15])\n",
            "reconstructed.shape  torch.Size([512, 512, 60])\n",
            "Epoch 19/20\n",
            "loss: 0.09812555462121964\n",
            "\n"
          ]
        },
        {
          "output_type": "stream",
          "name": "stderr",
          "text": [
            "\r 53%|█████▎    | 18432/34935 [00:47<00:43, 380.42it/s]"
          ]
        },
        {
          "output_type": "stream",
          "name": "stdout",
          "text": [
            "x.shape  torch.Size([512, 512, 60])\n",
            "latent.shape  torch.Size([512, 64, 15])\n",
            "reconstructed.shape  torch.Size([512, 512, 60])\n",
            "Epoch 19/20\n",
            "loss: 0.09852220863103867\n",
            "\n"
          ]
        },
        {
          "output_type": "stream",
          "name": "stderr",
          "text": [
            "\r 54%|█████▍    | 18944/34935 [00:49<00:41, 385.66it/s]"
          ]
        },
        {
          "output_type": "stream",
          "name": "stdout",
          "text": [
            "x.shape  torch.Size([512, 512, 60])\n",
            "latent.shape  torch.Size([512, 64, 15])\n",
            "reconstructed.shape  torch.Size([512, 512, 60])\n",
            "Epoch 19/20\n",
            "loss: 0.09552554786205292\n",
            "\n"
          ]
        },
        {
          "output_type": "stream",
          "name": "stderr",
          "text": [
            "\r 56%|█████▌    | 19456/34935 [00:50<00:40, 381.24it/s]"
          ]
        },
        {
          "output_type": "stream",
          "name": "stdout",
          "text": [
            "x.shape  torch.Size([512, 512, 60])\n",
            "latent.shape  torch.Size([512, 64, 15])\n",
            "reconstructed.shape  torch.Size([512, 512, 60])\n",
            "Epoch 19/20\n",
            "loss: 0.09861881285905838\n",
            "\n"
          ]
        },
        {
          "output_type": "stream",
          "name": "stderr",
          "text": [
            "\r 57%|█████▋    | 19968/34935 [00:51<00:39, 379.70it/s]"
          ]
        },
        {
          "output_type": "stream",
          "name": "stdout",
          "text": [
            "x.shape  torch.Size([512, 512, 60])\n",
            "latent.shape  torch.Size([512, 64, 15])\n",
            "reconstructed.shape  torch.Size([512, 512, 60])\n",
            "Epoch 19/20\n",
            "loss: 0.09811282902956009\n",
            "\n"
          ]
        },
        {
          "output_type": "stream",
          "name": "stderr",
          "text": [
            "\r 59%|█████▊    | 20480/34935 [00:53<00:38, 378.55it/s]"
          ]
        },
        {
          "output_type": "stream",
          "name": "stdout",
          "text": [
            "x.shape  torch.Size([512, 512, 60])\n",
            "latent.shape  torch.Size([512, 64, 15])\n",
            "reconstructed.shape  torch.Size([512, 512, 60])\n",
            "Epoch 19/20\n",
            "loss: 0.09812749177217484\n",
            "\n"
          ]
        },
        {
          "output_type": "stream",
          "name": "stderr",
          "text": [
            "\r 60%|██████    | 20992/34935 [00:54<00:36, 378.24it/s]"
          ]
        },
        {
          "output_type": "stream",
          "name": "stdout",
          "text": [
            "x.shape  torch.Size([512, 512, 60])\n",
            "latent.shape  torch.Size([512, 64, 15])\n",
            "reconstructed.shape  torch.Size([512, 512, 60])\n",
            "Epoch 19/20\n",
            "loss: 0.09614145755767822\n",
            "\n"
          ]
        },
        {
          "output_type": "stream",
          "name": "stderr",
          "text": [
            "\r 62%|██████▏   | 21504/34935 [00:56<00:35, 376.98it/s]"
          ]
        },
        {
          "output_type": "stream",
          "name": "stdout",
          "text": [
            "x.shape  torch.Size([512, 512, 60])\n",
            "latent.shape  torch.Size([512, 64, 15])\n",
            "reconstructed.shape  torch.Size([512, 512, 60])\n",
            "Epoch 19/20\n",
            "loss: 0.0979430079460144\n",
            "\n"
          ]
        },
        {
          "output_type": "stream",
          "name": "stderr",
          "text": [
            "\r 63%|██████▎   | 22016/34935 [00:57<00:34, 379.04it/s]"
          ]
        },
        {
          "output_type": "stream",
          "name": "stdout",
          "text": [
            "x.shape  torch.Size([512, 512, 60])\n",
            "latent.shape  torch.Size([512, 64, 15])\n",
            "reconstructed.shape  torch.Size([512, 512, 60])\n",
            "Epoch 19/20\n",
            "loss: 0.09637022763490677\n",
            "\n"
          ]
        },
        {
          "output_type": "stream",
          "name": "stderr",
          "text": [
            "\r 64%|██████▍   | 22528/34935 [00:58<00:32, 380.28it/s]"
          ]
        },
        {
          "output_type": "stream",
          "name": "stdout",
          "text": [
            "x.shape  torch.Size([512, 512, 60])\n",
            "latent.shape  torch.Size([512, 64, 15])\n",
            "reconstructed.shape  torch.Size([512, 512, 60])\n",
            "Epoch 19/20\n",
            "loss: 0.0958654060959816\n",
            "\n"
          ]
        },
        {
          "output_type": "stream",
          "name": "stderr",
          "text": [
            "\r 66%|██████▌   | 23040/34935 [01:00<00:31, 382.37it/s]"
          ]
        },
        {
          "output_type": "stream",
          "name": "stdout",
          "text": [
            "x.shape  torch.Size([512, 512, 60])\n",
            "latent.shape  torch.Size([512, 64, 15])\n",
            "reconstructed.shape  torch.Size([512, 512, 60])\n",
            "Epoch 19/20\n",
            "loss: 0.0968673899769783\n",
            "\n"
          ]
        },
        {
          "output_type": "stream",
          "name": "stderr",
          "text": [
            "\r 67%|██████▋   | 23552/34935 [01:01<00:29, 385.85it/s]"
          ]
        },
        {
          "output_type": "stream",
          "name": "stdout",
          "text": [
            "x.shape  torch.Size([512, 512, 60])\n",
            "latent.shape  torch.Size([512, 64, 15])\n",
            "reconstructed.shape  torch.Size([512, 512, 60])\n",
            "Epoch 19/20\n",
            "loss: 0.09800449013710022\n",
            "\n"
          ]
        },
        {
          "output_type": "stream",
          "name": "stderr",
          "text": [
            "\r 69%|██████▉   | 24064/34935 [01:02<00:28, 380.24it/s]"
          ]
        },
        {
          "output_type": "stream",
          "name": "stdout",
          "text": [
            "x.shape  torch.Size([512, 512, 60])\n",
            "latent.shape  torch.Size([512, 64, 15])\n",
            "reconstructed.shape  torch.Size([512, 512, 60])\n",
            "Epoch 19/20\n",
            "loss: 0.09771294891834259\n",
            "\n"
          ]
        },
        {
          "output_type": "stream",
          "name": "stderr",
          "text": [
            "\r 70%|███████   | 24576/34935 [01:04<00:27, 379.56it/s]"
          ]
        },
        {
          "output_type": "stream",
          "name": "stdout",
          "text": [
            "x.shape  torch.Size([512, 512, 60])\n",
            "latent.shape  torch.Size([512, 64, 15])\n",
            "reconstructed.shape  torch.Size([512, 512, 60])\n",
            "Epoch 19/20\n",
            "loss: 0.09684242308139801\n",
            "\n"
          ]
        },
        {
          "output_type": "stream",
          "name": "stderr",
          "text": [
            "\r 72%|███████▏  | 25088/34935 [01:05<00:25, 381.86it/s]"
          ]
        },
        {
          "output_type": "stream",
          "name": "stdout",
          "text": [
            "x.shape  torch.Size([512, 512, 60])\n",
            "latent.shape  torch.Size([512, 64, 15])\n",
            "reconstructed.shape  torch.Size([512, 512, 60])\n",
            "Epoch 19/20\n",
            "loss: 0.09667573124170303\n",
            "\n"
          ]
        },
        {
          "output_type": "stream",
          "name": "stderr",
          "text": [
            "\r 73%|███████▎  | 25600/34935 [01:06<00:24, 382.75it/s]"
          ]
        },
        {
          "output_type": "stream",
          "name": "stdout",
          "text": [
            "x.shape  torch.Size([512, 512, 60])\n",
            "latent.shape  torch.Size([512, 64, 15])\n",
            "reconstructed.shape  torch.Size([512, 512, 60])\n",
            "Epoch 19/20\n",
            "loss: 0.09724396467208862\n",
            "\n"
          ]
        },
        {
          "output_type": "stream",
          "name": "stderr",
          "text": [
            "\r 75%|███████▍  | 26112/34935 [01:08<00:23, 379.74it/s]"
          ]
        },
        {
          "output_type": "stream",
          "name": "stdout",
          "text": [
            "x.shape  torch.Size([512, 512, 60])\n",
            "latent.shape  torch.Size([512, 64, 15])\n",
            "reconstructed.shape  torch.Size([512, 512, 60])\n",
            "Epoch 19/20\n",
            "loss: 0.09717269241809845\n",
            "\n"
          ]
        },
        {
          "output_type": "stream",
          "name": "stderr",
          "text": [
            "\r 76%|███████▌  | 26624/34935 [01:09<00:22, 376.81it/s]"
          ]
        },
        {
          "output_type": "stream",
          "name": "stdout",
          "text": [
            "x.shape  torch.Size([512, 512, 60])\n",
            "latent.shape  torch.Size([512, 64, 15])\n",
            "reconstructed.shape  torch.Size([512, 512, 60])\n",
            "Epoch 19/20\n",
            "loss: 0.09735503047704697\n",
            "\n"
          ]
        },
        {
          "output_type": "stream",
          "name": "stderr",
          "text": [
            "\r 78%|███████▊  | 27136/34935 [01:10<00:20, 376.89it/s]"
          ]
        },
        {
          "output_type": "stream",
          "name": "stdout",
          "text": [
            "x.shape  torch.Size([512, 512, 60])\n",
            "latent.shape  torch.Size([512, 64, 15])\n",
            "reconstructed.shape  torch.Size([512, 512, 60])\n",
            "Epoch 19/20\n",
            "loss: 0.09851843863725662\n",
            "\n"
          ]
        },
        {
          "output_type": "stream",
          "name": "stderr",
          "text": [
            "\r 79%|███████▉  | 27648/34935 [01:12<00:19, 378.35it/s]"
          ]
        },
        {
          "output_type": "stream",
          "name": "stdout",
          "text": [
            "x.shape  torch.Size([512, 512, 60])\n",
            "latent.shape  torch.Size([512, 64, 15])\n",
            "reconstructed.shape  torch.Size([512, 512, 60])\n",
            "Epoch 19/20\n",
            "loss: 0.09771968424320221\n",
            "\n"
          ]
        },
        {
          "output_type": "stream",
          "name": "stderr",
          "text": [
            "\r 81%|████████  | 28160/34935 [01:13<00:18, 371.12it/s]"
          ]
        },
        {
          "output_type": "stream",
          "name": "stdout",
          "text": [
            "x.shape  torch.Size([512, 512, 60])\n",
            "latent.shape  torch.Size([512, 64, 15])\n",
            "reconstructed.shape  torch.Size([512, 512, 60])\n",
            "Epoch 19/20\n",
            "loss: 0.09677129238843918\n",
            "\n"
          ]
        },
        {
          "output_type": "stream",
          "name": "stderr",
          "text": [
            "\r 82%|████████▏ | 28672/34935 [01:14<00:16, 374.51it/s]"
          ]
        },
        {
          "output_type": "stream",
          "name": "stdout",
          "text": [
            "x.shape  torch.Size([512, 512, 60])\n",
            "latent.shape  torch.Size([512, 64, 15])\n",
            "reconstructed.shape  torch.Size([512, 512, 60])\n",
            "Epoch 19/20\n",
            "loss: 0.09594487398862839\n",
            "\n"
          ]
        },
        {
          "output_type": "stream",
          "name": "stderr",
          "text": [
            "\r 84%|████████▎ | 29184/34935 [01:16<00:15, 372.74it/s]"
          ]
        },
        {
          "output_type": "stream",
          "name": "stdout",
          "text": [
            "x.shape  torch.Size([512, 512, 60])\n",
            "latent.shape  torch.Size([512, 64, 15])\n",
            "reconstructed.shape  torch.Size([512, 512, 60])\n",
            "Epoch 19/20\n",
            "loss: 0.0969119444489479\n",
            "\n"
          ]
        },
        {
          "output_type": "stream",
          "name": "stderr",
          "text": [
            "\r 85%|████████▌ | 29696/34935 [01:17<00:13, 378.60it/s]"
          ]
        },
        {
          "output_type": "stream",
          "name": "stdout",
          "text": [
            "x.shape  torch.Size([512, 512, 60])\n",
            "latent.shape  torch.Size([512, 64, 15])\n",
            "reconstructed.shape  torch.Size([512, 512, 60])\n",
            "Epoch 19/20\n",
            "loss: 0.09700677543878555\n",
            "\n"
          ]
        },
        {
          "output_type": "stream",
          "name": "stderr",
          "text": [
            "\r 86%|████████▋ | 30208/34935 [01:19<00:12, 378.53it/s]"
          ]
        },
        {
          "output_type": "stream",
          "name": "stdout",
          "text": [
            "x.shape  torch.Size([512, 512, 60])\n",
            "latent.shape  torch.Size([512, 64, 15])\n",
            "reconstructed.shape  torch.Size([512, 512, 60])\n",
            "Epoch 19/20\n",
            "loss: 0.09647458791732788\n",
            "\n"
          ]
        },
        {
          "output_type": "stream",
          "name": "stderr",
          "text": [
            "\r 88%|████████▊ | 30720/34935 [01:20<00:11, 372.96it/s]"
          ]
        },
        {
          "output_type": "stream",
          "name": "stdout",
          "text": [
            "x.shape  torch.Size([512, 512, 60])\n",
            "latent.shape  torch.Size([512, 64, 15])\n",
            "reconstructed.shape  torch.Size([512, 512, 60])\n",
            "Epoch 19/20\n",
            "loss: 0.09698379039764404\n",
            "\n"
          ]
        },
        {
          "output_type": "stream",
          "name": "stderr",
          "text": [
            "\r 89%|████████▉ | 31232/34935 [01:21<00:09, 375.09it/s]"
          ]
        },
        {
          "output_type": "stream",
          "name": "stdout",
          "text": [
            "x.shape  torch.Size([512, 512, 60])\n",
            "latent.shape  torch.Size([512, 64, 15])\n",
            "reconstructed.shape  torch.Size([512, 512, 60])\n",
            "Epoch 19/20\n",
            "loss: 0.09733691811561584\n",
            "\n"
          ]
        },
        {
          "output_type": "stream",
          "name": "stderr",
          "text": [
            "\r 91%|█████████ | 31744/34935 [01:23<00:08, 374.72it/s]"
          ]
        },
        {
          "output_type": "stream",
          "name": "stdout",
          "text": [
            "x.shape  torch.Size([512, 512, 60])\n",
            "latent.shape  torch.Size([512, 64, 15])\n",
            "reconstructed.shape  torch.Size([512, 512, 60])\n",
            "Epoch 19/20\n",
            "loss: 0.09827977418899536\n",
            "\n"
          ]
        },
        {
          "output_type": "stream",
          "name": "stderr",
          "text": [
            "\r 92%|█████████▏| 32256/34935 [01:24<00:07, 377.40it/s]"
          ]
        },
        {
          "output_type": "stream",
          "name": "stdout",
          "text": [
            "x.shape  torch.Size([512, 512, 60])\n",
            "latent.shape  torch.Size([512, 64, 15])\n",
            "reconstructed.shape  torch.Size([512, 512, 60])\n",
            "Epoch 19/20\n",
            "loss: 0.09752735495567322\n",
            "\n"
          ]
        },
        {
          "output_type": "stream",
          "name": "stderr",
          "text": [
            "\r 94%|█████████▍| 32768/34935 [01:25<00:05, 380.78it/s]"
          ]
        },
        {
          "output_type": "stream",
          "name": "stdout",
          "text": [
            "x.shape  torch.Size([512, 512, 60])\n",
            "latent.shape  torch.Size([512, 64, 15])\n",
            "reconstructed.shape  torch.Size([512, 512, 60])\n",
            "Epoch 19/20\n",
            "loss: 0.09590810537338257\n",
            "\n"
          ]
        },
        {
          "output_type": "stream",
          "name": "stderr",
          "text": [
            "\r 95%|█████████▌| 33280/34935 [01:27<00:04, 381.45it/s]"
          ]
        },
        {
          "output_type": "stream",
          "name": "stdout",
          "text": [
            "x.shape  torch.Size([512, 512, 60])\n",
            "latent.shape  torch.Size([512, 64, 15])\n",
            "reconstructed.shape  torch.Size([512, 512, 60])\n",
            "Epoch 19/20\n",
            "loss: 0.0982518270611763\n",
            "\n"
          ]
        },
        {
          "output_type": "stream",
          "name": "stderr",
          "text": [
            "\r 97%|█████████▋| 33792/34935 [01:28<00:03, 380.17it/s]"
          ]
        },
        {
          "output_type": "stream",
          "name": "stdout",
          "text": [
            "x.shape  torch.Size([512, 512, 60])\n",
            "latent.shape  torch.Size([512, 64, 15])\n",
            "reconstructed.shape  torch.Size([512, 512, 60])\n",
            "Epoch 19/20\n",
            "loss: 0.09873666614294052\n",
            "\n"
          ]
        },
        {
          "output_type": "stream",
          "name": "stderr",
          "text": [
            "\r 98%|█████████▊| 34304/34935 [01:29<00:01, 381.18it/s]"
          ]
        },
        {
          "output_type": "stream",
          "name": "stdout",
          "text": [
            "x.shape  torch.Size([512, 512, 60])\n",
            "latent.shape  torch.Size([512, 64, 15])\n",
            "reconstructed.shape  torch.Size([512, 512, 60])\n",
            "Epoch 19/20\n",
            "loss: 0.0987572893500328\n",
            "\n"
          ]
        },
        {
          "output_type": "stream",
          "name": "stderr",
          "text": [
            "100%|██████████| 34935/34935 [01:31<00:00, 383.12it/s]"
          ]
        },
        {
          "output_type": "stream",
          "name": "stdout",
          "text": [
            "x.shape  torch.Size([512, 512, 60])\n",
            "latent.shape  torch.Size([512, 64, 15])\n",
            "reconstructed.shape  torch.Size([512, 512, 60])\n",
            "Epoch 19/20\n",
            "loss: 0.0979510247707367\n",
            "\n"
          ]
        },
        {
          "output_type": "stream",
          "name": "stderr",
          "text": [
            "\n"
          ]
        },
        {
          "output_type": "stream",
          "name": "stdout",
          "text": [
            "x.shape  torch.Size([119, 512, 60])\n",
            "latent.shape  torch.Size([119, 64, 15])\n",
            "reconstructed.shape  torch.Size([119, 512, 60])\n",
            "Epoch 19/20\n",
            "loss: 0.09403108805418015\n",
            "\n"
          ]
        },
        {
          "output_type": "stream",
          "name": "stderr",
          "text": [
            "  1%|▏         | 512/34935 [00:01<01:34, 364.90it/s]"
          ]
        },
        {
          "output_type": "stream",
          "name": "stdout",
          "text": [
            "x.shape  torch.Size([512, 512, 60])\n",
            "latent.shape  torch.Size([512, 64, 15])\n",
            "reconstructed.shape  torch.Size([512, 512, 60])\n",
            "Epoch 20/20\n",
            "loss: 0.09741246700286865\n",
            "\n"
          ]
        },
        {
          "output_type": "stream",
          "name": "stderr",
          "text": [
            "\r  3%|▎         | 1024/34935 [00:02<01:31, 370.93it/s]"
          ]
        },
        {
          "output_type": "stream",
          "name": "stdout",
          "text": [
            "x.shape  torch.Size([512, 512, 60])\n",
            "latent.shape  torch.Size([512, 64, 15])\n",
            "reconstructed.shape  torch.Size([512, 512, 60])\n",
            "Epoch 20/20\n",
            "loss: 0.09787864983081818\n",
            "\n"
          ]
        },
        {
          "output_type": "stream",
          "name": "stderr",
          "text": [
            "\r  4%|▍         | 1536/34935 [00:04<01:30, 369.57it/s]"
          ]
        },
        {
          "output_type": "stream",
          "name": "stdout",
          "text": [
            "x.shape  torch.Size([512, 512, 60])\n",
            "latent.shape  torch.Size([512, 64, 15])\n",
            "reconstructed.shape  torch.Size([512, 512, 60])\n",
            "Epoch 20/20\n",
            "loss: 0.09580590575933456\n",
            "\n"
          ]
        },
        {
          "output_type": "stream",
          "name": "stderr",
          "text": [
            "\r  6%|▌         | 2048/34935 [00:05<01:30, 365.20it/s]"
          ]
        },
        {
          "output_type": "stream",
          "name": "stdout",
          "text": [
            "x.shape  torch.Size([512, 512, 60])\n",
            "latent.shape  torch.Size([512, 64, 15])\n",
            "reconstructed.shape  torch.Size([512, 512, 60])\n",
            "Epoch 20/20\n",
            "loss: 0.09779655188322067\n",
            "\n"
          ]
        },
        {
          "output_type": "stream",
          "name": "stderr",
          "text": [
            "\r  7%|▋         | 2560/34935 [00:06<01:27, 368.35it/s]"
          ]
        },
        {
          "output_type": "stream",
          "name": "stdout",
          "text": [
            "x.shape  torch.Size([512, 512, 60])\n",
            "latent.shape  torch.Size([512, 64, 15])\n",
            "reconstructed.shape  torch.Size([512, 512, 60])\n",
            "Epoch 20/20\n",
            "loss: 0.0974959209561348\n",
            "\n"
          ]
        },
        {
          "output_type": "stream",
          "name": "stderr",
          "text": [
            "\r  9%|▉         | 3072/34935 [00:08<01:26, 368.17it/s]"
          ]
        },
        {
          "output_type": "stream",
          "name": "stdout",
          "text": [
            "x.shape  torch.Size([512, 512, 60])\n",
            "latent.shape  torch.Size([512, 64, 15])\n",
            "reconstructed.shape  torch.Size([512, 512, 60])\n",
            "Epoch 20/20\n",
            "loss: 0.09825784713029861\n",
            "\n"
          ]
        },
        {
          "output_type": "stream",
          "name": "stderr",
          "text": [
            "\r 10%|█         | 3584/34935 [00:09<01:24, 372.18it/s]"
          ]
        },
        {
          "output_type": "stream",
          "name": "stdout",
          "text": [
            "x.shape  torch.Size([512, 512, 60])\n",
            "latent.shape  torch.Size([512, 64, 15])\n",
            "reconstructed.shape  torch.Size([512, 512, 60])\n",
            "Epoch 20/20\n",
            "loss: 0.09608913213014603\n",
            "\n"
          ]
        },
        {
          "output_type": "stream",
          "name": "stderr",
          "text": [
            "\r 12%|█▏        | 4096/34935 [00:11<01:22, 374.16it/s]"
          ]
        },
        {
          "output_type": "stream",
          "name": "stdout",
          "text": [
            "x.shape  torch.Size([512, 512, 60])\n",
            "latent.shape  torch.Size([512, 64, 15])\n",
            "reconstructed.shape  torch.Size([512, 512, 60])\n",
            "Epoch 20/20\n",
            "loss: 0.09720474481582642\n",
            "\n"
          ]
        },
        {
          "output_type": "stream",
          "name": "stderr",
          "text": [
            "\r 13%|█▎        | 4608/34935 [00:12<01:23, 364.31it/s]"
          ]
        },
        {
          "output_type": "stream",
          "name": "stdout",
          "text": [
            "x.shape  torch.Size([512, 512, 60])\n",
            "latent.shape  torch.Size([512, 64, 15])\n",
            "reconstructed.shape  torch.Size([512, 512, 60])\n",
            "Epoch 20/20\n",
            "loss: 0.09651989489793777\n",
            "\n"
          ]
        },
        {
          "output_type": "stream",
          "name": "stderr",
          "text": [
            "\r 15%|█▍        | 5120/34935 [00:13<01:22, 363.10it/s]"
          ]
        },
        {
          "output_type": "stream",
          "name": "stdout",
          "text": [
            "x.shape  torch.Size([512, 512, 60])\n",
            "latent.shape  torch.Size([512, 64, 15])\n",
            "reconstructed.shape  torch.Size([512, 512, 60])\n",
            "Epoch 20/20\n",
            "loss: 0.09770496934652328\n",
            "\n"
          ]
        },
        {
          "output_type": "stream",
          "name": "stderr",
          "text": [
            "\r 16%|█▌        | 5632/34935 [00:15<01:20, 365.47it/s]"
          ]
        },
        {
          "output_type": "stream",
          "name": "stdout",
          "text": [
            "x.shape  torch.Size([512, 512, 60])\n",
            "latent.shape  torch.Size([512, 64, 15])\n",
            "reconstructed.shape  torch.Size([512, 512, 60])\n",
            "Epoch 20/20\n",
            "loss: 0.09789352864027023\n",
            "\n"
          ]
        },
        {
          "output_type": "stream",
          "name": "stderr",
          "text": [
            "\r 18%|█▊        | 6144/34935 [00:16<01:17, 369.46it/s]"
          ]
        },
        {
          "output_type": "stream",
          "name": "stdout",
          "text": [
            "x.shape  torch.Size([512, 512, 60])\n",
            "latent.shape  torch.Size([512, 64, 15])\n",
            "reconstructed.shape  torch.Size([512, 512, 60])\n",
            "Epoch 20/20\n",
            "loss: 0.09599616378545761\n",
            "\n"
          ]
        },
        {
          "output_type": "stream",
          "name": "stderr",
          "text": [
            "\r 19%|█▉        | 6656/34935 [00:18<01:17, 366.75it/s]"
          ]
        },
        {
          "output_type": "stream",
          "name": "stdout",
          "text": [
            "x.shape  torch.Size([512, 512, 60])\n",
            "latent.shape  torch.Size([512, 64, 15])\n",
            "reconstructed.shape  torch.Size([512, 512, 60])\n",
            "Epoch 20/20\n",
            "loss: 0.09452926367521286\n",
            "\n"
          ]
        },
        {
          "output_type": "stream",
          "name": "stderr",
          "text": [
            "\r 21%|██        | 7168/34935 [00:19<01:15, 368.34it/s]"
          ]
        },
        {
          "output_type": "stream",
          "name": "stdout",
          "text": [
            "x.shape  torch.Size([512, 512, 60])\n",
            "latent.shape  torch.Size([512, 64, 15])\n",
            "reconstructed.shape  torch.Size([512, 512, 60])\n",
            "Epoch 20/20\n",
            "loss: 0.09684312343597412\n",
            "\n"
          ]
        },
        {
          "output_type": "stream",
          "name": "stderr",
          "text": [
            "\r 22%|██▏       | 7680/34935 [00:20<01:13, 370.26it/s]"
          ]
        },
        {
          "output_type": "stream",
          "name": "stdout",
          "text": [
            "x.shape  torch.Size([512, 512, 60])\n",
            "latent.shape  torch.Size([512, 64, 15])\n",
            "reconstructed.shape  torch.Size([512, 512, 60])\n",
            "Epoch 20/20\n",
            "loss: 0.09754068404436111\n",
            "\n"
          ]
        },
        {
          "output_type": "stream",
          "name": "stderr",
          "text": [
            "\r 23%|██▎       | 8192/34935 [00:22<01:12, 371.36it/s]"
          ]
        },
        {
          "output_type": "stream",
          "name": "stdout",
          "text": [
            "x.shape  torch.Size([512, 512, 60])\n",
            "latent.shape  torch.Size([512, 64, 15])\n",
            "reconstructed.shape  torch.Size([512, 512, 60])\n",
            "Epoch 20/20\n",
            "loss: 0.09607540816068649\n",
            "\n"
          ]
        },
        {
          "output_type": "stream",
          "name": "stderr",
          "text": [
            "\r 25%|██▍       | 8704/34935 [00:23<01:10, 374.02it/s]"
          ]
        },
        {
          "output_type": "stream",
          "name": "stdout",
          "text": [
            "x.shape  torch.Size([512, 512, 60])\n",
            "latent.shape  torch.Size([512, 64, 15])\n",
            "reconstructed.shape  torch.Size([512, 512, 60])\n",
            "Epoch 20/20\n",
            "loss: 0.09613876789808273\n",
            "\n"
          ]
        },
        {
          "output_type": "stream",
          "name": "stderr",
          "text": [
            "\r 26%|██▋       | 9216/34935 [00:24<01:08, 372.89it/s]"
          ]
        },
        {
          "output_type": "stream",
          "name": "stdout",
          "text": [
            "x.shape  torch.Size([512, 512, 60])\n",
            "latent.shape  torch.Size([512, 64, 15])\n",
            "reconstructed.shape  torch.Size([512, 512, 60])\n",
            "Epoch 20/20\n",
            "loss: 0.09758754819631577\n",
            "\n"
          ]
        },
        {
          "output_type": "stream",
          "name": "stderr",
          "text": [
            "\r 28%|██▊       | 9728/34935 [00:26<01:07, 375.87it/s]"
          ]
        },
        {
          "output_type": "stream",
          "name": "stdout",
          "text": [
            "x.shape  torch.Size([512, 512, 60])\n",
            "latent.shape  torch.Size([512, 64, 15])\n",
            "reconstructed.shape  torch.Size([512, 512, 60])\n",
            "Epoch 20/20\n",
            "loss: 0.0964103415608406\n",
            "\n"
          ]
        },
        {
          "output_type": "stream",
          "name": "stderr",
          "text": [
            "\r 29%|██▉       | 10240/34935 [00:27<01:05, 376.56it/s]"
          ]
        },
        {
          "output_type": "stream",
          "name": "stdout",
          "text": [
            "x.shape  torch.Size([512, 512, 60])\n",
            "latent.shape  torch.Size([512, 64, 15])\n",
            "reconstructed.shape  torch.Size([512, 512, 60])\n",
            "Epoch 20/20\n",
            "loss: 0.09781068563461304\n",
            "\n"
          ]
        },
        {
          "output_type": "stream",
          "name": "stderr",
          "text": [
            "\r 31%|███       | 10752/34935 [00:29<01:05, 371.19it/s]"
          ]
        },
        {
          "output_type": "stream",
          "name": "stdout",
          "text": [
            "x.shape  torch.Size([512, 512, 60])\n",
            "latent.shape  torch.Size([512, 64, 15])\n",
            "reconstructed.shape  torch.Size([512, 512, 60])\n",
            "Epoch 20/20\n",
            "loss: 0.0964689627289772\n",
            "\n"
          ]
        },
        {
          "output_type": "stream",
          "name": "stderr",
          "text": [
            "\r 32%|███▏      | 11264/34935 [00:30<01:04, 369.69it/s]"
          ]
        },
        {
          "output_type": "stream",
          "name": "stdout",
          "text": [
            "x.shape  torch.Size([512, 512, 60])\n",
            "latent.shape  torch.Size([512, 64, 15])\n",
            "reconstructed.shape  torch.Size([512, 512, 60])\n",
            "Epoch 20/20\n",
            "loss: 0.09662755578756332\n",
            "\n"
          ]
        },
        {
          "output_type": "stream",
          "name": "stderr",
          "text": [
            "\r 34%|███▎      | 11776/34935 [00:31<01:03, 366.90it/s]"
          ]
        },
        {
          "output_type": "stream",
          "name": "stdout",
          "text": [
            "x.shape  torch.Size([512, 512, 60])\n",
            "latent.shape  torch.Size([512, 64, 15])\n",
            "reconstructed.shape  torch.Size([512, 512, 60])\n",
            "Epoch 20/20\n",
            "loss: 0.09623780846595764\n",
            "\n"
          ]
        },
        {
          "output_type": "stream",
          "name": "stderr",
          "text": [
            "\r 35%|███▌      | 12288/34935 [00:33<01:01, 366.59it/s]"
          ]
        },
        {
          "output_type": "stream",
          "name": "stdout",
          "text": [
            "x.shape  torch.Size([512, 512, 60])\n",
            "latent.shape  torch.Size([512, 64, 15])\n",
            "reconstructed.shape  torch.Size([512, 512, 60])\n",
            "Epoch 20/20\n",
            "loss: 0.09546517580747604\n",
            "\n"
          ]
        },
        {
          "output_type": "stream",
          "name": "stderr",
          "text": [
            "\r 37%|███▋      | 12800/34935 [00:34<01:00, 368.32it/s]"
          ]
        },
        {
          "output_type": "stream",
          "name": "stdout",
          "text": [
            "x.shape  torch.Size([512, 512, 60])\n",
            "latent.shape  torch.Size([512, 64, 15])\n",
            "reconstructed.shape  torch.Size([512, 512, 60])\n",
            "Epoch 20/20\n",
            "loss: 0.0962291732430458\n",
            "\n"
          ]
        },
        {
          "output_type": "stream",
          "name": "stderr",
          "text": [
            "\r 38%|███▊      | 13312/34935 [00:36<00:59, 364.09it/s]"
          ]
        },
        {
          "output_type": "stream",
          "name": "stdout",
          "text": [
            "x.shape  torch.Size([512, 512, 60])\n",
            "latent.shape  torch.Size([512, 64, 15])\n",
            "reconstructed.shape  torch.Size([512, 512, 60])\n",
            "Epoch 20/20\n",
            "loss: 0.09699216485023499\n",
            "\n"
          ]
        },
        {
          "output_type": "stream",
          "name": "stderr",
          "text": [
            "\r 40%|███▉      | 13824/34935 [00:37<00:58, 363.16it/s]"
          ]
        },
        {
          "output_type": "stream",
          "name": "stdout",
          "text": [
            "x.shape  torch.Size([512, 512, 60])\n",
            "latent.shape  torch.Size([512, 64, 15])\n",
            "reconstructed.shape  torch.Size([512, 512, 60])\n",
            "Epoch 20/20\n",
            "loss: 0.09588664025068283\n",
            "\n"
          ]
        },
        {
          "output_type": "stream",
          "name": "stderr",
          "text": [
            "\r 41%|████      | 14336/34935 [00:38<00:56, 367.41it/s]"
          ]
        },
        {
          "output_type": "stream",
          "name": "stdout",
          "text": [
            "x.shape  torch.Size([512, 512, 60])\n",
            "latent.shape  torch.Size([512, 64, 15])\n",
            "reconstructed.shape  torch.Size([512, 512, 60])\n",
            "Epoch 20/20\n",
            "loss: 0.09555573761463165\n",
            "\n"
          ]
        },
        {
          "output_type": "stream",
          "name": "stderr",
          "text": [
            "\r 43%|████▎     | 14848/34935 [00:40<00:54, 370.16it/s]"
          ]
        },
        {
          "output_type": "stream",
          "name": "stdout",
          "text": [
            "x.shape  torch.Size([512, 512, 60])\n",
            "latent.shape  torch.Size([512, 64, 15])\n",
            "reconstructed.shape  torch.Size([512, 512, 60])\n",
            "Epoch 20/20\n",
            "loss: 0.09662646055221558\n",
            "\n"
          ]
        },
        {
          "output_type": "stream",
          "name": "stderr",
          "text": [
            "\r 44%|████▍     | 15360/34935 [00:41<00:53, 367.87it/s]"
          ]
        },
        {
          "output_type": "stream",
          "name": "stdout",
          "text": [
            "x.shape  torch.Size([512, 512, 60])\n",
            "latent.shape  torch.Size([512, 64, 15])\n",
            "reconstructed.shape  torch.Size([512, 512, 60])\n",
            "Epoch 20/20\n",
            "loss: 0.09583230316638947\n",
            "\n"
          ]
        },
        {
          "output_type": "stream",
          "name": "stderr",
          "text": [
            "\r 45%|████▌     | 15872/34935 [00:42<00:48, 394.42it/s]"
          ]
        },
        {
          "output_type": "stream",
          "name": "stdout",
          "text": [
            "x.shape  torch.Size([512, 512, 60])\n",
            "latent.shape  torch.Size([512, 64, 15])\n",
            "reconstructed.shape  torch.Size([512, 512, 60])\n",
            "Epoch 20/20\n",
            "loss: 0.09653180837631226\n",
            "\n"
          ]
        },
        {
          "output_type": "stream",
          "name": "stderr",
          "text": [
            "\r 47%|████▋     | 16384/34935 [00:44<00:48, 384.19it/s]"
          ]
        },
        {
          "output_type": "stream",
          "name": "stdout",
          "text": [
            "x.shape  torch.Size([512, 512, 60])\n",
            "latent.shape  torch.Size([512, 64, 15])\n",
            "reconstructed.shape  torch.Size([512, 512, 60])\n",
            "Epoch 20/20\n",
            "loss: 0.09489374607801437\n",
            "\n"
          ]
        },
        {
          "output_type": "stream",
          "name": "stderr",
          "text": [
            "\r 48%|████▊     | 16896/34935 [00:45<00:47, 379.65it/s]"
          ]
        },
        {
          "output_type": "stream",
          "name": "stdout",
          "text": [
            "x.shape  torch.Size([512, 512, 60])\n",
            "latent.shape  torch.Size([512, 64, 15])\n",
            "reconstructed.shape  torch.Size([512, 512, 60])\n",
            "Epoch 20/20\n",
            "loss: 0.09600741416215897\n",
            "\n"
          ]
        },
        {
          "output_type": "stream",
          "name": "stderr",
          "text": [
            "\r 50%|████▉     | 17408/34935 [00:46<00:46, 375.78it/s]"
          ]
        },
        {
          "output_type": "stream",
          "name": "stdout",
          "text": [
            "x.shape  torch.Size([512, 512, 60])\n",
            "latent.shape  torch.Size([512, 64, 15])\n",
            "reconstructed.shape  torch.Size([512, 512, 60])\n",
            "Epoch 20/20\n",
            "loss: 0.09588928520679474\n",
            "\n"
          ]
        },
        {
          "output_type": "stream",
          "name": "stderr",
          "text": [
            "\r 51%|█████▏    | 17920/34935 [00:48<00:45, 377.33it/s]"
          ]
        },
        {
          "output_type": "stream",
          "name": "stdout",
          "text": [
            "x.shape  torch.Size([512, 512, 60])\n",
            "latent.shape  torch.Size([512, 64, 15])\n",
            "reconstructed.shape  torch.Size([512, 512, 60])\n",
            "Epoch 20/20\n",
            "loss: 0.0969882383942604\n",
            "\n"
          ]
        },
        {
          "output_type": "stream",
          "name": "stderr",
          "text": [
            "\r 53%|█████▎    | 18432/34935 [00:49<00:43, 375.75it/s]"
          ]
        },
        {
          "output_type": "stream",
          "name": "stdout",
          "text": [
            "x.shape  torch.Size([512, 512, 60])\n",
            "latent.shape  torch.Size([512, 64, 15])\n",
            "reconstructed.shape  torch.Size([512, 512, 60])\n",
            "Epoch 20/20\n",
            "loss: 0.09740737080574036\n",
            "\n"
          ]
        },
        {
          "output_type": "stream",
          "name": "stderr",
          "text": [
            "\r 54%|█████▍    | 18944/34935 [00:50<00:41, 380.85it/s]"
          ]
        },
        {
          "output_type": "stream",
          "name": "stdout",
          "text": [
            "x.shape  torch.Size([512, 512, 60])\n",
            "latent.shape  torch.Size([512, 64, 15])\n",
            "reconstructed.shape  torch.Size([512, 512, 60])\n",
            "Epoch 20/20\n",
            "loss: 0.09437347948551178\n",
            "\n"
          ]
        },
        {
          "output_type": "stream",
          "name": "stderr",
          "text": [
            "\r 56%|█████▌    | 19456/34935 [00:52<00:40, 380.35it/s]"
          ]
        },
        {
          "output_type": "stream",
          "name": "stdout",
          "text": [
            "x.shape  torch.Size([512, 512, 60])\n",
            "latent.shape  torch.Size([512, 64, 15])\n",
            "reconstructed.shape  torch.Size([512, 512, 60])\n",
            "Epoch 20/20\n",
            "loss: 0.09749243408441544\n",
            "\n"
          ]
        },
        {
          "output_type": "stream",
          "name": "stderr",
          "text": [
            "\r 57%|█████▋    | 19968/34935 [00:53<00:39, 375.96it/s]"
          ]
        },
        {
          "output_type": "stream",
          "name": "stdout",
          "text": [
            "x.shape  torch.Size([512, 512, 60])\n",
            "latent.shape  torch.Size([512, 64, 15])\n",
            "reconstructed.shape  torch.Size([512, 512, 60])\n",
            "Epoch 20/20\n",
            "loss: 0.09689740091562271\n",
            "\n"
          ]
        },
        {
          "output_type": "stream",
          "name": "stderr",
          "text": [
            "\r 59%|█████▊    | 20480/34935 [00:55<00:38, 376.50it/s]"
          ]
        },
        {
          "output_type": "stream",
          "name": "stdout",
          "text": [
            "x.shape  torch.Size([512, 512, 60])\n",
            "latent.shape  torch.Size([512, 64, 15])\n",
            "reconstructed.shape  torch.Size([512, 512, 60])\n",
            "Epoch 20/20\n",
            "loss: 0.09693257510662079\n",
            "\n"
          ]
        },
        {
          "output_type": "stream",
          "name": "stderr",
          "text": [
            "\r 60%|██████    | 20992/34935 [00:56<00:36, 377.77it/s]"
          ]
        },
        {
          "output_type": "stream",
          "name": "stdout",
          "text": [
            "x.shape  torch.Size([512, 512, 60])\n",
            "latent.shape  torch.Size([512, 64, 15])\n",
            "reconstructed.shape  torch.Size([512, 512, 60])\n",
            "Epoch 20/20\n",
            "loss: 0.09498438239097595\n",
            "\n"
          ]
        },
        {
          "output_type": "stream",
          "name": "stderr",
          "text": [
            "\r 62%|██████▏   | 21504/34935 [00:57<00:35, 376.93it/s]"
          ]
        },
        {
          "output_type": "stream",
          "name": "stdout",
          "text": [
            "x.shape  torch.Size([512, 512, 60])\n",
            "latent.shape  torch.Size([512, 64, 15])\n",
            "reconstructed.shape  torch.Size([512, 512, 60])\n",
            "Epoch 20/20\n",
            "loss: 0.09666042774915695\n",
            "\n"
          ]
        },
        {
          "output_type": "stream",
          "name": "stderr",
          "text": [
            "\r 63%|██████▎   | 22016/34935 [00:59<00:34, 377.87it/s]"
          ]
        },
        {
          "output_type": "stream",
          "name": "stdout",
          "text": [
            "x.shape  torch.Size([512, 512, 60])\n",
            "latent.shape  torch.Size([512, 64, 15])\n",
            "reconstructed.shape  torch.Size([512, 512, 60])\n",
            "Epoch 20/20\n",
            "loss: 0.09518162906169891\n",
            "\n"
          ]
        },
        {
          "output_type": "stream",
          "name": "stderr",
          "text": [
            "\r 64%|██████▍   | 22528/34935 [01:00<00:32, 379.10it/s]"
          ]
        },
        {
          "output_type": "stream",
          "name": "stdout",
          "text": [
            "x.shape  torch.Size([512, 512, 60])\n",
            "latent.shape  torch.Size([512, 64, 15])\n",
            "reconstructed.shape  torch.Size([512, 512, 60])\n",
            "Epoch 20/20\n",
            "loss: 0.09464485198259354\n",
            "\n"
          ]
        },
        {
          "output_type": "stream",
          "name": "stderr",
          "text": [
            "\r 66%|██████▌   | 23040/34935 [01:01<00:31, 377.56it/s]"
          ]
        },
        {
          "output_type": "stream",
          "name": "stdout",
          "text": [
            "x.shape  torch.Size([512, 512, 60])\n",
            "latent.shape  torch.Size([512, 64, 15])\n",
            "reconstructed.shape  torch.Size([512, 512, 60])\n",
            "Epoch 20/20\n",
            "loss: 0.09554891288280487\n",
            "\n"
          ]
        },
        {
          "output_type": "stream",
          "name": "stderr",
          "text": [
            "\r 67%|██████▋   | 23552/34935 [01:03<00:29, 381.32it/s]"
          ]
        },
        {
          "output_type": "stream",
          "name": "stdout",
          "text": [
            "x.shape  torch.Size([512, 512, 60])\n",
            "latent.shape  torch.Size([512, 64, 15])\n",
            "reconstructed.shape  torch.Size([512, 512, 60])\n",
            "Epoch 20/20\n",
            "loss: 0.0967712327837944\n",
            "\n"
          ]
        },
        {
          "output_type": "stream",
          "name": "stderr",
          "text": [
            "\r 69%|██████▉   | 24064/34935 [01:04<00:29, 374.58it/s]"
          ]
        },
        {
          "output_type": "stream",
          "name": "stdout",
          "text": [
            "x.shape  torch.Size([512, 512, 60])\n",
            "latent.shape  torch.Size([512, 64, 15])\n",
            "reconstructed.shape  torch.Size([512, 512, 60])\n",
            "Epoch 20/20\n",
            "loss: 0.09651677310466766\n",
            "\n"
          ]
        },
        {
          "output_type": "stream",
          "name": "stderr",
          "text": [
            "\r 70%|███████   | 24576/34935 [01:05<00:27, 380.03it/s]"
          ]
        },
        {
          "output_type": "stream",
          "name": "stdout",
          "text": [
            "x.shape  torch.Size([512, 512, 60])\n",
            "latent.shape  torch.Size([512, 64, 15])\n",
            "reconstructed.shape  torch.Size([512, 512, 60])\n",
            "Epoch 20/20\n",
            "loss: 0.09557465463876724\n",
            "\n"
          ]
        },
        {
          "output_type": "stream",
          "name": "stderr",
          "text": [
            "\r 72%|███████▏  | 25088/34935 [01:07<00:25, 378.79it/s]"
          ]
        },
        {
          "output_type": "stream",
          "name": "stdout",
          "text": [
            "x.shape  torch.Size([512, 512, 60])\n",
            "latent.shape  torch.Size([512, 64, 15])\n",
            "reconstructed.shape  torch.Size([512, 512, 60])\n",
            "Epoch 20/20\n",
            "loss: 0.0954013541340828\n",
            "\n"
          ]
        },
        {
          "output_type": "stream",
          "name": "stderr",
          "text": [
            "\r 73%|███████▎  | 25600/34935 [01:08<00:24, 375.93it/s]"
          ]
        },
        {
          "output_type": "stream",
          "name": "stdout",
          "text": [
            "x.shape  torch.Size([512, 512, 60])\n",
            "latent.shape  torch.Size([512, 64, 15])\n",
            "reconstructed.shape  torch.Size([512, 512, 60])\n",
            "Epoch 20/20\n",
            "loss: 0.09594777226448059\n",
            "\n"
          ]
        },
        {
          "output_type": "stream",
          "name": "stderr",
          "text": [
            "\r 75%|███████▍  | 26112/34935 [01:09<00:23, 373.05it/s]"
          ]
        },
        {
          "output_type": "stream",
          "name": "stdout",
          "text": [
            "x.shape  torch.Size([512, 512, 60])\n",
            "latent.shape  torch.Size([512, 64, 15])\n",
            "reconstructed.shape  torch.Size([512, 512, 60])\n",
            "Epoch 20/20\n",
            "loss: 0.0959128886461258\n",
            "\n"
          ]
        },
        {
          "output_type": "stream",
          "name": "stderr",
          "text": [
            "\r 76%|███████▌  | 26624/34935 [01:11<00:22, 371.02it/s]"
          ]
        },
        {
          "output_type": "stream",
          "name": "stdout",
          "text": [
            "x.shape  torch.Size([512, 512, 60])\n",
            "latent.shape  torch.Size([512, 64, 15])\n",
            "reconstructed.shape  torch.Size([512, 512, 60])\n",
            "Epoch 20/20\n",
            "loss: 0.09600770473480225\n",
            "\n"
          ]
        },
        {
          "output_type": "stream",
          "name": "stderr",
          "text": [
            "\r 78%|███████▊  | 27136/34935 [01:12<00:20, 371.41it/s]"
          ]
        },
        {
          "output_type": "stream",
          "name": "stdout",
          "text": [
            "x.shape  torch.Size([512, 512, 60])\n",
            "latent.shape  torch.Size([512, 64, 15])\n",
            "reconstructed.shape  torch.Size([512, 512, 60])\n",
            "Epoch 20/20\n",
            "loss: 0.09710603207349777\n",
            "\n"
          ]
        },
        {
          "output_type": "stream",
          "name": "stderr",
          "text": [
            "\r 79%|███████▉  | 27648/34935 [01:14<00:19, 373.70it/s]"
          ]
        },
        {
          "output_type": "stream",
          "name": "stdout",
          "text": [
            "x.shape  torch.Size([512, 512, 60])\n",
            "latent.shape  torch.Size([512, 64, 15])\n",
            "reconstructed.shape  torch.Size([512, 512, 60])\n",
            "Epoch 20/20\n",
            "loss: 0.09637265652418137\n",
            "\n"
          ]
        },
        {
          "output_type": "stream",
          "name": "stderr",
          "text": [
            "\r 81%|████████  | 28160/34935 [01:15<00:18, 372.30it/s]"
          ]
        },
        {
          "output_type": "stream",
          "name": "stdout",
          "text": [
            "x.shape  torch.Size([512, 512, 60])\n",
            "latent.shape  torch.Size([512, 64, 15])\n",
            "reconstructed.shape  torch.Size([512, 512, 60])\n",
            "Epoch 20/20\n",
            "loss: 0.0954010859131813\n",
            "\n"
          ]
        },
        {
          "output_type": "stream",
          "name": "stderr",
          "text": [
            "\r 82%|████████▏ | 28672/34935 [01:16<00:16, 373.81it/s]"
          ]
        },
        {
          "output_type": "stream",
          "name": "stdout",
          "text": [
            "x.shape  torch.Size([512, 512, 60])\n",
            "latent.shape  torch.Size([512, 64, 15])\n",
            "reconstructed.shape  torch.Size([512, 512, 60])\n",
            "Epoch 20/20\n",
            "loss: 0.09459006786346436\n",
            "\n"
          ]
        },
        {
          "output_type": "stream",
          "name": "stderr",
          "text": [
            "\r 84%|████████▎ | 29184/34935 [01:18<00:15, 370.70it/s]"
          ]
        },
        {
          "output_type": "stream",
          "name": "stdout",
          "text": [
            "x.shape  torch.Size([512, 512, 60])\n",
            "latent.shape  torch.Size([512, 64, 15])\n",
            "reconstructed.shape  torch.Size([512, 512, 60])\n",
            "Epoch 20/20\n",
            "loss: 0.09556010365486145\n",
            "\n"
          ]
        },
        {
          "output_type": "stream",
          "name": "stderr",
          "text": [
            "\r 85%|████████▌ | 29696/34935 [01:19<00:14, 372.66it/s]"
          ]
        },
        {
          "output_type": "stream",
          "name": "stdout",
          "text": [
            "x.shape  torch.Size([512, 512, 60])\n",
            "latent.shape  torch.Size([512, 64, 15])\n",
            "reconstructed.shape  torch.Size([512, 512, 60])\n",
            "Epoch 20/20\n",
            "loss: 0.0956759974360466\n",
            "\n"
          ]
        },
        {
          "output_type": "stream",
          "name": "stderr",
          "text": [
            "\r 86%|████████▋ | 30208/34935 [01:21<00:12, 372.02it/s]"
          ]
        },
        {
          "output_type": "stream",
          "name": "stdout",
          "text": [
            "x.shape  torch.Size([512, 512, 60])\n",
            "latent.shape  torch.Size([512, 64, 15])\n",
            "reconstructed.shape  torch.Size([512, 512, 60])\n",
            "Epoch 20/20\n",
            "loss: 0.09513206034898758\n",
            "\n"
          ]
        },
        {
          "output_type": "stream",
          "name": "stderr",
          "text": [
            "\r 88%|████████▊ | 30720/34935 [01:22<00:11, 368.33it/s]"
          ]
        },
        {
          "output_type": "stream",
          "name": "stdout",
          "text": [
            "x.shape  torch.Size([512, 512, 60])\n",
            "latent.shape  torch.Size([512, 64, 15])\n",
            "reconstructed.shape  torch.Size([512, 512, 60])\n",
            "Epoch 20/20\n",
            "loss: 0.09553851187229156\n",
            "\n"
          ]
        },
        {
          "output_type": "stream",
          "name": "stderr",
          "text": [
            "\r 89%|████████▉ | 31232/34935 [01:23<00:10, 367.07it/s]"
          ]
        },
        {
          "output_type": "stream",
          "name": "stdout",
          "text": [
            "x.shape  torch.Size([512, 512, 60])\n",
            "latent.shape  torch.Size([512, 64, 15])\n",
            "reconstructed.shape  torch.Size([512, 512, 60])\n",
            "Epoch 20/20\n",
            "loss: 0.09595798701047897\n",
            "\n"
          ]
        },
        {
          "output_type": "stream",
          "name": "stderr",
          "text": [
            "\r 91%|█████████ | 31744/34935 [01:25<00:08, 367.98it/s]"
          ]
        },
        {
          "output_type": "stream",
          "name": "stdout",
          "text": [
            "x.shape  torch.Size([512, 512, 60])\n",
            "latent.shape  torch.Size([512, 64, 15])\n",
            "reconstructed.shape  torch.Size([512, 512, 60])\n",
            "Epoch 20/20\n",
            "loss: 0.09682032465934753\n",
            "\n"
          ]
        },
        {
          "output_type": "stream",
          "name": "stderr",
          "text": [
            "\r 92%|█████████▏| 32256/34935 [01:26<00:07, 369.60it/s]"
          ]
        },
        {
          "output_type": "stream",
          "name": "stdout",
          "text": [
            "x.shape  torch.Size([512, 512, 60])\n",
            "latent.shape  torch.Size([512, 64, 15])\n",
            "reconstructed.shape  torch.Size([512, 512, 60])\n",
            "Epoch 20/20\n",
            "loss: 0.0961066260933876\n",
            "\n"
          ]
        },
        {
          "output_type": "stream",
          "name": "stderr",
          "text": [
            "\r 94%|█████████▍| 32768/34935 [01:27<00:05, 369.31it/s]"
          ]
        },
        {
          "output_type": "stream",
          "name": "stdout",
          "text": [
            "x.shape  torch.Size([512, 512, 60])\n",
            "latent.shape  torch.Size([512, 64, 15])\n",
            "reconstructed.shape  torch.Size([512, 512, 60])\n",
            "Epoch 20/20\n",
            "loss: 0.09441959112882614\n",
            "\n"
          ]
        },
        {
          "output_type": "stream",
          "name": "stderr",
          "text": [
            "\r 95%|█████████▌| 33280/34935 [01:29<00:04, 369.17it/s]"
          ]
        },
        {
          "output_type": "stream",
          "name": "stdout",
          "text": [
            "x.shape  torch.Size([512, 512, 60])\n",
            "latent.shape  torch.Size([512, 64, 15])\n",
            "reconstructed.shape  torch.Size([512, 512, 60])\n",
            "Epoch 20/20\n",
            "loss: 0.09683872014284134\n",
            "\n"
          ]
        },
        {
          "output_type": "stream",
          "name": "stderr",
          "text": [
            "\r 97%|█████████▋| 33792/34935 [01:30<00:03, 364.72it/s]"
          ]
        },
        {
          "output_type": "stream",
          "name": "stdout",
          "text": [
            "x.shape  torch.Size([512, 512, 60])\n",
            "latent.shape  torch.Size([512, 64, 15])\n",
            "reconstructed.shape  torch.Size([512, 512, 60])\n",
            "Epoch 20/20\n",
            "loss: 0.09735198318958282\n",
            "\n"
          ]
        },
        {
          "output_type": "stream",
          "name": "stderr",
          "text": [
            "\r 98%|█████████▊| 34304/34935 [01:32<00:01, 364.92it/s]"
          ]
        },
        {
          "output_type": "stream",
          "name": "stdout",
          "text": [
            "x.shape  torch.Size([512, 512, 60])\n",
            "latent.shape  torch.Size([512, 64, 15])\n",
            "reconstructed.shape  torch.Size([512, 512, 60])\n",
            "Epoch 20/20\n",
            "loss: 0.09731967002153397\n",
            "\n"
          ]
        },
        {
          "output_type": "stream",
          "name": "stderr",
          "text": [
            "100%|██████████| 34935/34935 [01:33<00:00, 373.10it/s]"
          ]
        },
        {
          "output_type": "stream",
          "name": "stdout",
          "text": [
            "x.shape  torch.Size([512, 512, 60])\n",
            "latent.shape  torch.Size([512, 64, 15])\n",
            "reconstructed.shape  torch.Size([512, 512, 60])\n",
            "Epoch 20/20\n",
            "loss: 0.0964706689119339\n",
            "\n"
          ]
        },
        {
          "output_type": "stream",
          "name": "stderr",
          "text": [
            "\n"
          ]
        },
        {
          "output_type": "stream",
          "name": "stdout",
          "text": [
            "x.shape  torch.Size([119, 512, 60])\n",
            "latent.shape  torch.Size([119, 64, 15])\n",
            "reconstructed.shape  torch.Size([119, 512, 60])\n",
            "Epoch 20/20\n",
            "loss: 0.09269469231367111\n",
            "\n"
          ]
        }
      ]
    },
    {
      "cell_type": "code",
      "source": [
        "plt.plot(losses)"
      ],
      "metadata": {
        "colab": {
          "base_uri": "https://localhost:8080/",
          "height": 283
        },
        "id": "KcIw-hlOThYq",
        "outputId": "846b663d-75fa-4e24-9964-237c39d6e376"
      },
      "execution_count": null,
      "outputs": [
        {
          "output_type": "execute_result",
          "data": {
            "text/plain": [
              "[<matplotlib.lines.Line2D at 0x7f7c10144910>]"
            ]
          },
          "metadata": {},
          "execution_count": 175
        },
        {
          "output_type": "display_data",
          "data": {
            "text/plain": [
              "<Figure size 432x288 with 1 Axes>"
            ],
            "image/png": "[encoded data removed]"
          },
          "metadata": {
            "needs_background": "light"
          }
        }
      ]
    },
    {
      "cell_type": "code",
      "source": [
        "\n",
        "plt.plot(losses)"
      ],
      "metadata": {
        "colab": {
          "base_uri": "https://localhost:8080/",
          "height": 283
        },
        "id": "mrAFV0HIbv7E",
        "outputId": "a844219e-a08d-461b-effe-bea4f3217744"
      },
      "execution_count": null,
      "outputs": [
        {
          "output_type": "execute_result",
          "data": {
            "text/plain": [
              "[<matplotlib.lines.Line2D at 0x7f7c135c1f50>]"
            ]
          },
          "metadata": {},
          "execution_count": 184
        },
        {
          "output_type": "display_data",
          "data": {
            "text/plain": [
              "<Figure size 432x288 with 1 Axes>"
            ],
            "image/png": "[encoded data removed]"
          },
          "metadata": {
            "needs_background": "light"
          }
        }
      ]
    },
    {
      "cell_type": "code",
      "source": [
        "import matplotlib.pyplot as plt\n",
        "\n",
        "plt.plot(losses)"
      ],
      "metadata": {
        "colab": {
          "base_uri": "https://localhost:8080/",
          "height": 283
        },
        "id": "1ay5R_LcNkE4",
        "outputId": "6b910c7f-aa34-4615-ea97-004f0fa1c4dc"
      },
      "execution_count": null,
      "outputs": [
        {
          "output_type": "execute_result",
          "data": {
            "text/plain": [
              "[<matplotlib.lines.Line2D at 0x7f7c1022a3d0>]"
            ]
          },
          "metadata": {},
          "execution_count": 171
        },
        {
          "output_type": "display_data",
          "data": {
            "text/plain": [
              "<Figure size 432x288 with 1 Axes>"
            ],
            "image/png": "[encoded data removed]"
          },
          "metadata": {
            "needs_background": "light"
          }
        }
      ]
    }
  ]
}