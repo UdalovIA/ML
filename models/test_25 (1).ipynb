{
  "nbformat": 4,
  "nbformat_minor": 0,
  "metadata": {
    "colab": {
      "provenance": [],
      "collapsed_sections": []
    },
    "kernelspec": {
      "name": "python3",
      "display_name": "Python 3"
    },
    "language_info": {
      "name": "python"
    },
    "accelerator": "GPU"
  },
  "cells": [
    {
      "cell_type": "markdown",
      "source": [
        "Импорт и загрузка данных"
      ],
      "metadata": {
        "id": "POl1eDalqTvz"
      }
    },
    {
      "cell_type": "code",
      "source": [
        "import zipfile\n",
        "import os\n",
        "from google.colab import drive\n",
        "from tqdm import tqdm\n",
        "import torch.nn.functional as F\n",
        "import torch\n",
        "import torch.nn as nn\n",
        "from torchsummary import summary\n",
        "import glob\n",
        "import cv2\n",
        "import numpy as np\n",
        "import torch\n",
        "from torch.utils.data import Dataset, DataLoader\n",
        "import random\n",
        "from torchvision import transforms\n",
        "drive.mount('/content/drive')\n",
        "import matplotlib.pyplot as plt\n",
        "zip_file = '/content/drive/MyDrive/data.zip'\n",
        "z = zipfile.ZipFile(zip_file, 'r')\n",
        "z.extractall(path='/content/Data/')"
      ],
      "metadata": {
        "colab": {
          "base_uri": "https://localhost:8080/"
        },
        "id": "D3mTzJYGsmlo",
        "outputId": "72a19d13-7f67-44aa-d7d0-ffba6083bd9e"
      },
      "execution_count": null,
      "outputs": [
        {
          "output_type": "stream",
          "name": "stdout",
          "text": [
            "Mounted at /content/drive\n"
          ]
        }
      ]
    },
    {
      "cell_type": "code",
      "source": [
        "from sklearn.metrics import f1_score\n",
        "from itertools import chain"
      ],
      "metadata": {
        "id": "vtnzWACJ0M6L"
      },
      "execution_count": null,
      "outputs": []
    },
    {
      "cell_type": "markdown",
      "source": [
        "Датасет"
      ],
      "metadata": {
        "id": "eCiiIVGuqZoW"
      }
    },
    {
      "cell_type": "code",
      "source": [
        "class CustomDataset(Dataset):\n",
        "    def __init__(self):\n",
        "        self.imgs_path = \"/content/Data/\"\n",
        "        file_list = glob.glob(self.imgs_path + \"*\")\n",
        "        self.data = []\n",
        "        for class_path in file_list:\n",
        "            class_name = class_path.split(\"/\")[-1]\n",
        "            for img_path in glob.glob(class_path + \"/*.png\"):\n",
        "                self.data.append([img_path, class_name])\n",
        "        self.class_map = {\"True\" : 1, \"False\": 0}\n",
        "\n",
        "    def __len__(self):\n",
        "        return len(self.data)\n",
        "\n",
        "    def __getitem__(self, idx):\n",
        "        transform = transforms.Compose([\n",
        "            transforms.ToTensor(), \n",
        "            transforms.Normalize([0, 0, 0], [1, 1, 1])\n",
        "        ])\n",
        "        \n",
        "        img_path, class_name = self.data[idx]\n",
        "        img = cv2.imread(img_path)\n",
        "        class_id = self.class_map[class_name]\n",
        "        img_tensor = torch.from_numpy(img)\n",
        "        img_tensor = img_tensor.permute(2, 0, 1)\n",
        "        img_tensor.float(), class_id\n",
        "        return transform(img), class_id"
      ],
      "metadata": {
        "id": "1xWlcqvIDOvS"
      },
      "execution_count": null,
      "outputs": []
    },
    {
      "cell_type": "code",
      "source": [
        "data = CustomDataset()"
      ],
      "metadata": {
        "id": "zKVuWh-dEDsh"
      },
      "execution_count": null,
      "outputs": []
    },
    {
      "cell_type": "code",
      "source": [
        "train_perc = 0.8"
      ],
      "metadata": {
        "id": "1pMFxH5QVsqh"
      },
      "execution_count": null,
      "outputs": []
    },
    {
      "cell_type": "code",
      "source": [
        "train_size = int(train_perc * len(data))\n",
        "test_size = len(data) - train_size\n",
        "train_dataset, val_dataset = torch.utils.data.random_split(data, [train_size, test_size])"
      ],
      "metadata": {
        "id": "ry5VgeFoXEq2"
      },
      "execution_count": null,
      "outputs": []
    },
    {
      "cell_type": "markdown",
      "source": [
        "Определение модели"
      ],
      "metadata": {
        "id": "5ugKpZXEtHsf"
      }
    },
    {
      "cell_type": "code",
      "source": [
        "class Vers_min_2(nn.Module):\n",
        "    def __init__(self):\n",
        "        super().__init__()\n",
        "        \n",
        "        self.cnn_layers = nn.Sequential(\n",
        "            # convolutional layer 1\n",
        "            nn.Conv2d(in_channels=3, out_channels=4, kernel_size=3, padding=0, stride=1),\n",
        "            nn.BatchNorm2d(4),\n",
        "            nn.ReLU(),\n",
        "            nn.MaxPool2d(kernel_size=2), \n",
        "            \n",
        "            # convolutional layer 2\n",
        "            nn.Conv2d(in_channels=4, out_channels=8, kernel_size=3, padding=0, stride=1),\n",
        "            nn.BatchNorm2d(8),\n",
        "            nn.ReLU(),\n",
        "            nn.MaxPool2d(kernel_size=2), \n",
        "            \n",
        "            # convolutional layer 3\n",
        "            nn.Conv2d(in_channels=8, out_channels=4, kernel_size=3, padding=0, stride=1),\n",
        "            nn.BatchNorm2d(4),\n",
        "            nn.ReLU(),\n",
        "            nn.MaxPool2d(kernel_size=2), \n",
        "\n",
        "            nn.Conv2d(in_channels=4, out_channels=4, kernel_size=3, padding=0, stride=1),\n",
        "            nn.BatchNorm2d(4),\n",
        "            nn.ReLU(),\n",
        "            nn.MaxPool2d(kernel_size=2) \n",
        "        )\n",
        "        \n",
        "        self.linear_layers = nn.Sequential(\n",
        "            nn.Linear(in_features=4* 5* 5, out_features=10),\n",
        "            nn.ReLU(),\n",
        "            nn.Dropout(0.3),\n",
        "            nn.Linear(in_features=10, out_features=2)\n",
        "        )\n",
        "    \n",
        "    def forward(self, x):\n",
        "        out = self.cnn_layers(x)\n",
        "        #print(out.shape)\n",
        "        out = out.view(-1, 4* 5* 5) # flatten the values\n",
        "        out = self.linear_layers(out)\n",
        "        return out"
      ],
      "metadata": {
        "id": "1AVXT7InAuiI"
      },
      "execution_count": null,
      "outputs": []
    },
    {
      "cell_type": "code",
      "source": [
        "class Vers_min_3(nn.Module):\n",
        "    def __init__(self):\n",
        "        super().__init__()\n",
        "        \n",
        "        self.cnn_layers = nn.Sequential(\n",
        "            # convolutional layer 1\n",
        "            nn.Conv2d(in_channels=3, out_channels=4, kernel_size=3, padding=0, stride=1),\n",
        "            nn.BatchNorm2d(4),\n",
        "            nn.ReLU(),\n",
        "            nn.MaxPool2d(kernel_size=2),\n",
        "            \n",
        "            # convolutional layer 2\n",
        "            nn.Conv2d(in_channels=4, out_channels=8, kernel_size=3, padding=0, stride=1),\n",
        "            nn.BatchNorm2d(8),\n",
        "            nn.ReLU(),\n",
        "            nn.MaxPool2d(kernel_size=2), \n",
        "            \n",
        "            # convolutional layer 3\n",
        "            nn.Conv2d(in_channels=8, out_channels=8, kernel_size=3, padding=0, stride=1),\n",
        "            nn.BatchNorm2d(8),\n",
        "            nn.ReLU(),\n",
        "            nn.MaxPool2d(kernel_size=2), \n",
        "\n",
        "            nn.Conv2d(in_channels=8, out_channels=8, kernel_size=3, padding=0, stride=1),\n",
        "            nn.BatchNorm2d(8),\n",
        "            nn.ReLU(),\n",
        "            nn.MaxPool2d(kernel_size=2) \n",
        "        )\n",
        "        \n",
        "        self.linear_layers = nn.Sequential(\n",
        "            nn.Linear(in_features=8* 5* 5, out_features=10),\n",
        "            nn.ReLU(),\n",
        "            nn.Dropout(0.3),\n",
        "            nn.Linear(in_features=10, out_features=2)\n",
        "        )\n",
        "    \n",
        "    def forward(self, x):\n",
        "        out = self.cnn_layers(x)\n",
        "        #print(out.shape)\n",
        "        out = out.view(-1, 8* 5* 5) # flatten the values\n",
        "        out = self.linear_layers(out)\n",
        "        return out"
      ],
      "metadata": {
        "id": "KUPzzif0ho-0"
      },
      "execution_count": null,
      "outputs": []
    },
    {
      "cell_type": "code",
      "source": [
        "model = Vers_min_3()\n",
        "if torch.cuda.is_available():\n",
        "    model.cuda()\n",
        "summary(model, (3, 116, 116))"
      ],
      "metadata": {
        "id": "Y0tWVTxfTvpb",
        "colab": {
          "base_uri": "https://localhost:8080/"
        },
        "outputId": "5c507620-b05f-4ad0-99c2-aa7419f1323a"
      },
      "execution_count": null,
      "outputs": [
        {
          "output_type": "stream",
          "name": "stdout",
          "text": [
            "----------------------------------------------------------------\n",
            "        Layer (type)               Output Shape         Param #\n",
            "================================================================\n",
            "            Conv2d-1          [-1, 4, 114, 114]             112\n",
            "       BatchNorm2d-2          [-1, 4, 114, 114]               8\n",
            "              ReLU-3          [-1, 4, 114, 114]               0\n",
            "         MaxPool2d-4            [-1, 4, 57, 57]               0\n",
            "            Conv2d-5            [-1, 8, 55, 55]             296\n",
            "       BatchNorm2d-6            [-1, 8, 55, 55]              16\n",
            "              ReLU-7            [-1, 8, 55, 55]               0\n",
            "         MaxPool2d-8            [-1, 8, 27, 27]               0\n",
            "            Conv2d-9            [-1, 8, 25, 25]             584\n",
            "      BatchNorm2d-10            [-1, 8, 25, 25]              16\n",
            "             ReLU-11            [-1, 8, 25, 25]               0\n",
            "        MaxPool2d-12            [-1, 8, 12, 12]               0\n",
            "           Conv2d-13            [-1, 8, 10, 10]             584\n",
            "      BatchNorm2d-14            [-1, 8, 10, 10]              16\n",
            "             ReLU-15            [-1, 8, 10, 10]               0\n",
            "        MaxPool2d-16              [-1, 8, 5, 5]               0\n",
            "           Linear-17                   [-1, 10]           2,010\n",
            "             ReLU-18                   [-1, 10]               0\n",
            "          Dropout-19                   [-1, 10]               0\n",
            "           Linear-20                    [-1, 2]              22\n",
            "================================================================\n",
            "Total params: 3,664\n",
            "Trainable params: 3,664\n",
            "Non-trainable params: 0\n",
            "----------------------------------------------------------------\n",
            "Input size (MB): 0.15\n",
            "Forward/backward pass size (MB): 2.03\n",
            "Params size (MB): 0.01\n",
            "Estimated Total Size (MB): 2.20\n",
            "----------------------------------------------------------------\n"
          ]
        }
      ]
    },
    {
      "cell_type": "code",
      "source": [
        "model = Vers_min_2()\n",
        "if torch.cuda.is_available():\n",
        "    model.cuda()\n",
        "summary(model, (3, 116, 116))"
      ],
      "metadata": {
        "colab": {
          "base_uri": "https://localhost:8080/"
        },
        "id": "sAa3aKhzBMcP",
        "outputId": "d4fa00a8-66b0-4c25-fdb9-c253db2c2477"
      },
      "execution_count": null,
      "outputs": [
        {
          "output_type": "stream",
          "name": "stdout",
          "text": [
            "----------------------------------------------------------------\n",
            "        Layer (type)               Output Shape         Param #\n",
            "================================================================\n",
            "            Conv2d-1          [-1, 4, 114, 114]             112\n",
            "       BatchNorm2d-2          [-1, 4, 114, 114]               8\n",
            "              ReLU-3          [-1, 4, 114, 114]               0\n",
            "         MaxPool2d-4            [-1, 4, 57, 57]               0\n",
            "            Conv2d-5            [-1, 8, 55, 55]             296\n",
            "       BatchNorm2d-6            [-1, 8, 55, 55]              16\n",
            "              ReLU-7            [-1, 8, 55, 55]               0\n",
            "         MaxPool2d-8            [-1, 8, 27, 27]               0\n",
            "            Conv2d-9            [-1, 4, 25, 25]             292\n",
            "      BatchNorm2d-10            [-1, 4, 25, 25]               8\n",
            "             ReLU-11            [-1, 4, 25, 25]               0\n",
            "        MaxPool2d-12            [-1, 4, 12, 12]               0\n",
            "           Conv2d-13            [-1, 4, 10, 10]             148\n",
            "      BatchNorm2d-14            [-1, 4, 10, 10]               8\n",
            "             ReLU-15            [-1, 4, 10, 10]               0\n",
            "        MaxPool2d-16              [-1, 4, 5, 5]               0\n",
            "           Linear-17                   [-1, 10]           1,010\n",
            "             ReLU-18                   [-1, 10]               0\n",
            "          Dropout-19                   [-1, 10]               0\n",
            "           Linear-20                    [-1, 2]              22\n",
            "================================================================\n",
            "Total params: 1,920\n",
            "Trainable params: 1,920\n",
            "Non-trainable params: 0\n",
            "----------------------------------------------------------------\n",
            "Input size (MB): 0.15\n",
            "Forward/backward pass size (MB): 1.96\n",
            "Params size (MB): 0.01\n",
            "Estimated Total Size (MB): 2.12\n",
            "----------------------------------------------------------------\n"
          ]
        }
      ]
    },
    {
      "cell_type": "code",
      "source": [
        "DEVICE = torch.device(\"cuda\")"
      ],
      "metadata": {
        "id": "47ZiFb2vbBML"
      },
      "execution_count": null,
      "outputs": []
    },
    {
      "cell_type": "markdown",
      "source": [
        "Функции для обучения"
      ],
      "metadata": {
        "id": "Yl-1FeMzuewQ"
      }
    },
    {
      "cell_type": "code",
      "metadata": {
        "id": "yu0nG569jyEl"
      },
      "source": [
        "def eval_epoch(model, val_loader, criterion):\n",
        "    model.eval()\n",
        "    running_loss = 0.0\n",
        "    labels_true = []\n",
        "    labels_pred = []\n",
        "    processed_size = 0\n",
        "\n",
        "    for inputs, labels in val_loader:\n",
        "        inputs = inputs.to(DEVICE).float()\n",
        "        labels = labels.to(DEVICE)\n",
        "\n",
        "        with torch.set_grad_enabled(False):\n",
        "            outputs = model(inputs)\n",
        "            loss = criterion(outputs, labels)\n",
        "            preds = torch.argmax(outputs, 1)\n",
        "            \n",
        "        running_loss += loss.item() * inputs.size(0)\n",
        "        labels_true = np.concatenate((labels_true, labels.data.cpu().numpy()))\n",
        "        labels_pred = np.concatenate((labels_pred, preds.cpu().numpy()))\n",
        "        processed_size += inputs.size(0)\n",
        "    val_loss = running_loss / processed_size\n",
        "    return val_loss, f1_score(labels_true.astype(int),labels_pred.astype(int))\n",
        "\n",
        "    "
      ],
      "execution_count": null,
      "outputs": []
    },
    {
      "cell_type": "code",
      "metadata": {
        "id": "V8nrBW3Vjtac"
      },
      "source": [
        "def fit_epoch(model, train_loader, criterion, optimizer): ###обучение\n",
        "    running_loss = 0.0\n",
        "    labels_true = []\n",
        "    labels_pred = []\n",
        "    processed_size = 0\n",
        "  \n",
        "    for inputs, labels in train_loader:\n",
        "        inputs = inputs.to(DEVICE).float()\n",
        "        labels = labels.to(DEVICE)\n",
        "        optimizer.zero_grad()\n",
        "\n",
        "        outputs = model(inputs)\n",
        "        loss = criterion(outputs, labels)\n",
        "        loss.backward()\n",
        "        optimizer.step()\n",
        "        preds = torch.argmax(outputs, 1)\n",
        "        running_loss += loss.item() * inputs.size(0)\n",
        "        processed_size += inputs.size(0)\n",
        "        labels_true = np.concatenate((labels_true, labels.data.cpu().numpy()))\n",
        "        labels_pred = np.concatenate((labels_pred, preds.cpu().numpy()))\n",
        "\n",
        "    train_loss = running_loss / processed_size\n",
        "    \n",
        "    return train_loss, f1_score(labels_true.astype(int),labels_pred.astype(int))"
      ],
      "execution_count": null,
      "outputs": []
    },
    {
      "cell_type": "code",
      "source": [
        "def train(train_dataset, val_dataset, model, opt, epochs, batch_size):#функция обучения\n",
        "    train_loader = DataLoader(train_dataset, batch_size=batch_size, shuffle=True)\n",
        "    val_loader = DataLoader(val_dataset, batch_size=batch_size, shuffle=False)\n",
        "\n",
        "    history = []\n",
        "    log_template = \"\\nEpoch {ep:03d} train_loss: {t_loss:0.4f} \\\n",
        "    val_loss {v_loss:0.4f} train_acc {t_acc:0.4f} val_acc {v_acc:0.4f}\"\n",
        "\n",
        "    with tqdm(desc=\"epoch\", total=epochs) as pbar_outer:\n",
        "        criterion = nn.CrossEntropyLoss()\n",
        "\n",
        "        for epoch in range(epochs):\n",
        "            train_loss, train_acc = fit_epoch(model, train_loader, criterion, opt)\n",
        "            print(\"loss\", train_loss)\n",
        "            \n",
        "            val_loss, val_acc = eval_epoch(model, val_loader, criterion)\n",
        "            history.append((train_loss, train_acc, val_loss, val_acc))\n",
        "            \n",
        "            pbar_outer.update(1)\n",
        "            tqdm.write(log_template.format(ep=epoch+1, t_loss=train_loss,\\\n",
        "                                           v_loss=val_loss, t_acc=train_acc, v_acc=val_acc))\n",
        "            \n",
        "    return history"
      ],
      "metadata": {
        "id": "8ZnfsrXzaP5C"
      },
      "execution_count": null,
      "outputs": []
    },
    {
      "cell_type": "code",
      "source": [
        "\n",
        "optimizer  = torch.optim.AdamW(chain(model.parameters()), lr=1e-4/2)"
      ],
      "metadata": {
        "id": "AzccI9BIcaoO"
      },
      "execution_count": null,
      "outputs": []
    },
    {
      "cell_type": "code",
      "source": [
        "history = train(train_dataset, val_dataset, model,optimizer, epochs=20, batch_size=64)"
      ],
      "metadata": {
        "id": "ZHMYvZrucR5N",
        "colab": {
          "base_uri": "https://localhost:8080/"
        },
        "outputId": "7f12e0e0-5ea7-4342-d6b9-9222db4d22c2"
      },
      "execution_count": null,
      "outputs": [
        {
          "output_type": "stream",
          "name": "stderr",
          "text": [
            "\repoch:   0%|          | 0/20 [00:00<?, ?it/s]"
          ]
        },
        {
          "output_type": "stream",
          "name": "stdout",
          "text": [
            "loss 0.2814488226687724\n"
          ]
        },
        {
          "output_type": "stream",
          "name": "stderr",
          "text": [
            "epoch:   5%|▌         | 1/20 [00:43<13:54, 43.90s/it]"
          ]
        },
        {
          "output_type": "stream",
          "name": "stdout",
          "text": [
            "\n",
            "Epoch 001 train_loss: 0.2814     val_loss 0.1095 train_acc 0.7751 val_acc 0.9486\n",
            "loss 0.055618459176229394\n"
          ]
        },
        {
          "output_type": "stream",
          "name": "stderr",
          "text": [
            "epoch:  10%|█         | 2/20 [01:29<13:23, 44.67s/it]"
          ]
        },
        {
          "output_type": "stream",
          "name": "stdout",
          "text": [
            "\n",
            "Epoch 002 train_loss: 0.0556     val_loss 0.0338 train_acc 0.9567 val_acc 0.9664\n",
            "loss 0.02670452155230658\n"
          ]
        },
        {
          "output_type": "stream",
          "name": "stderr",
          "text": [
            "epoch:  15%|█▌        | 3/20 [02:11<12:21, 43.62s/it]"
          ]
        },
        {
          "output_type": "stream",
          "name": "stdout",
          "text": [
            "\n",
            "Epoch 003 train_loss: 0.0267     val_loss 0.0168 train_acc 0.9796 val_acc 0.9903\n",
            "loss 0.015924755639539274\n"
          ]
        },
        {
          "output_type": "stream",
          "name": "stderr",
          "text": [
            "epoch:  20%|██        | 4/20 [02:51<11:16, 42.27s/it]"
          ]
        },
        {
          "output_type": "stream",
          "name": "stdout",
          "text": [
            "\n",
            "Epoch 004 train_loss: 0.0159     val_loss 0.0111 train_acc 0.9897 val_acc 0.9932\n",
            "loss 0.011739022717441523\n"
          ]
        },
        {
          "output_type": "stream",
          "name": "stderr",
          "text": [
            "epoch:  25%|██▌       | 5/20 [03:32<10:25, 41.67s/it]"
          ]
        },
        {
          "output_type": "stream",
          "name": "stdout",
          "text": [
            "\n",
            "Epoch 005 train_loss: 0.0117     val_loss 0.0089 train_acc 0.9917 val_acc 0.9953\n",
            "loss 0.009625052951333394\n"
          ]
        },
        {
          "output_type": "stream",
          "name": "stderr",
          "text": [
            "epoch:  30%|███       | 6/20 [04:13<09:40, 41.43s/it]"
          ]
        },
        {
          "output_type": "stream",
          "name": "stdout",
          "text": [
            "\n",
            "Epoch 006 train_loss: 0.0096     val_loss 0.0073 train_acc 0.9932 val_acc 0.9956\n",
            "loss 0.00824515298108242\n"
          ]
        },
        {
          "output_type": "stream",
          "name": "stderr",
          "text": [
            "epoch:  35%|███▌      | 7/20 [04:53<08:52, 40.98s/it]"
          ]
        },
        {
          "output_type": "stream",
          "name": "stdout",
          "text": [
            "\n",
            "Epoch 007 train_loss: 0.0082     val_loss 0.0059 train_acc 0.9952 val_acc 0.9973\n",
            "loss 0.006988860122510425\n"
          ]
        },
        {
          "output_type": "stream",
          "name": "stderr",
          "text": [
            "epoch:  40%|████      | 8/20 [05:35<08:17, 41.47s/it]"
          ]
        },
        {
          "output_type": "stream",
          "name": "stdout",
          "text": [
            "\n",
            "Epoch 008 train_loss: 0.0070     val_loss 0.0045 train_acc 0.9955 val_acc 0.9976\n",
            "loss 0.006167878320057233\n"
          ]
        },
        {
          "output_type": "stream",
          "name": "stderr",
          "text": [
            "epoch:  45%|████▌     | 9/20 [06:16<07:32, 41.17s/it]"
          ]
        },
        {
          "output_type": "stream",
          "name": "stdout",
          "text": [
            "\n",
            "Epoch 009 train_loss: 0.0062     val_loss 0.0040 train_acc 0.9961 val_acc 0.9985\n",
            "loss 0.005432458984011429\n"
          ]
        },
        {
          "output_type": "stream",
          "name": "stderr",
          "text": [
            "epoch:  50%|█████     | 10/20 [06:56<06:49, 40.91s/it]"
          ]
        },
        {
          "output_type": "stream",
          "name": "stdout",
          "text": [
            "\n",
            "Epoch 010 train_loss: 0.0054     val_loss 0.0038 train_acc 0.9963 val_acc 0.9985\n",
            "loss 0.004905768461708114\n"
          ]
        },
        {
          "output_type": "stream",
          "name": "stderr",
          "text": [
            "epoch:  55%|█████▌    | 11/20 [07:37<06:06, 40.75s/it]"
          ]
        },
        {
          "output_type": "stream",
          "name": "stdout",
          "text": [
            "\n",
            "Epoch 011 train_loss: 0.0049     val_loss 0.0032 train_acc 0.9971 val_acc 0.9985\n",
            "loss 0.004644029059106478\n"
          ]
        },
        {
          "output_type": "stream",
          "name": "stderr",
          "text": [
            "epoch:  60%|██████    | 12/20 [08:20<05:31, 41.45s/it]"
          ]
        },
        {
          "output_type": "stream",
          "name": "stdout",
          "text": [
            "\n",
            "Epoch 012 train_loss: 0.0046     val_loss 0.0030 train_acc 0.9968 val_acc 0.9988\n",
            "loss 0.004092483998128947\n"
          ]
        },
        {
          "output_type": "stream",
          "name": "stderr",
          "text": [
            "epoch:  65%|██████▌   | 13/20 [09:01<04:50, 41.55s/it]"
          ]
        },
        {
          "output_type": "stream",
          "name": "stdout",
          "text": [
            "\n",
            "Epoch 013 train_loss: 0.0041     val_loss 0.0036 train_acc 0.9975 val_acc 0.9976\n",
            "loss 0.003741360308488798\n"
          ]
        },
        {
          "output_type": "stream",
          "name": "stderr",
          "text": [
            "epoch:  70%|███████   | 14/20 [09:42<04:07, 41.32s/it]"
          ]
        },
        {
          "output_type": "stream",
          "name": "stdout",
          "text": [
            "\n",
            "Epoch 014 train_loss: 0.0037     val_loss 0.0028 train_acc 0.9977 val_acc 0.9988\n",
            "loss 0.0034690167349909788\n"
          ]
        },
        {
          "output_type": "stream",
          "name": "stderr",
          "text": [
            "epoch:  75%|███████▌  | 15/20 [10:25<03:29, 41.83s/it]"
          ]
        },
        {
          "output_type": "stream",
          "name": "stdout",
          "text": [
            "\n",
            "Epoch 015 train_loss: 0.0035     val_loss 0.0024 train_acc 0.9982 val_acc 0.9991\n",
            "loss 0.002984605738404311\n"
          ]
        },
        {
          "output_type": "stream",
          "name": "stderr",
          "text": [
            "epoch:  80%|████████  | 16/20 [11:06<02:45, 41.50s/it]"
          ]
        },
        {
          "output_type": "stream",
          "name": "stdout",
          "text": [
            "\n",
            "Epoch 016 train_loss: 0.0030     val_loss 0.0026 train_acc 0.9982 val_acc 0.9985\n",
            "loss 0.002927066044322838\n"
          ]
        },
        {
          "output_type": "stream",
          "name": "stderr",
          "text": [
            "epoch:  85%|████████▌ | 17/20 [11:49<02:05, 41.84s/it]"
          ]
        },
        {
          "output_type": "stream",
          "name": "stdout",
          "text": [
            "\n",
            "Epoch 017 train_loss: 0.0029     val_loss 0.0020 train_acc 0.9980 val_acc 0.9988\n",
            "loss 0.0026498009540364595\n"
          ]
        },
        {
          "output_type": "stream",
          "name": "stderr",
          "text": [
            "epoch:  90%|█████████ | 18/20 [12:35<01:26, 43.27s/it]"
          ]
        },
        {
          "output_type": "stream",
          "name": "stdout",
          "text": [
            "\n",
            "Epoch 018 train_loss: 0.0026     val_loss 0.0019 train_acc 0.9985 val_acc 0.9988\n",
            "loss 0.0023332508829352967\n"
          ]
        },
        {
          "output_type": "stream",
          "name": "stderr",
          "text": [
            "epoch:  95%|█████████▌| 19/20 [13:17<00:42, 42.83s/it]"
          ]
        },
        {
          "output_type": "stream",
          "name": "stdout",
          "text": [
            "\n",
            "Epoch 019 train_loss: 0.0023     val_loss 0.0019 train_acc 0.9985 val_acc 0.9991\n",
            "loss 0.002177075380671745\n"
          ]
        },
        {
          "output_type": "stream",
          "name": "stderr",
          "text": [
            "epoch: 100%|██████████| 20/20 [13:58<00:00, 41.91s/it]"
          ]
        },
        {
          "output_type": "stream",
          "name": "stdout",
          "text": [
            "\n",
            "Epoch 020 train_loss: 0.0022     val_loss 0.0017 train_acc 0.9985 val_acc 0.9988\n"
          ]
        },
        {
          "output_type": "stream",
          "name": "stderr",
          "text": [
            "\n"
          ]
        }
      ]
    },
    {
      "cell_type": "code",
      "source": [
        "min_m_3 = history.copy()"
      ],
      "metadata": {
        "id": "qHc0N2Nes5Y1"
      },
      "execution_count": null,
      "outputs": []
    },
    {
      "cell_type": "code",
      "source": [
        "min_m_2_t = []\n",
        "min_m_2_v = []\n",
        "for i in min_m_2:\n",
        "  min_m_2_t.append(i[1])\n",
        "  min_m_2_v.append(i[3])"
      ],
      "metadata": {
        "id": "QusoqQ_09Wnt"
      },
      "execution_count": null,
      "outputs": []
    },
    {
      "cell_type": "code",
      "source": [
        "min_m_3_t = []\n",
        "min_m_3_v = []\n",
        "for i in min_m_3:\n",
        "  min_m_3_t.append(i[1])\n",
        "  min_m_3_v.append(i[3])"
      ],
      "metadata": {
        "id": "aEhT1l3w8kl0"
      },
      "execution_count": null,
      "outputs": []
    },
    {
      "cell_type": "code",
      "source": [
        "ind = slice(5, 20)"
      ],
      "metadata": {
        "id": "mPe1YpTi-e7k"
      },
      "execution_count": null,
      "outputs": []
    },
    {
      "cell_type": "code",
      "source": [
        "plt.figure(figsize=(20,10)) \n",
        "plt.grid()\n",
        "plt.plot(min_m_3_t[ind])\n",
        "plt.plot(min_m_3_v[ind])\n",
        "plt.plot(min_m_2_t[ind])\n",
        "plt.plot(min_m_2_v[ind])\n",
        "plt.legend(['min_m_3_t','min_m_3_v','min_m_2_t','min_m_2_v'])"
      ],
      "metadata": {
        "colab": {
          "base_uri": "https://localhost:8080/",
          "height": 560
        },
        "id": "mCvepYFZwsgE",
        "outputId": "e1e04403-ecbb-4401-ebf4-9efd1c4a2f83"
      },
      "execution_count": null,
      "outputs": [
        {
          "output_type": "execute_result",
          "data": {
            "text/plain": [
              "<matplotlib.legend.Legend at 0x7f4a51167650>"
            ]
          },
          "metadata": {},
          "execution_count": 40
        },
        {
          "output_type": "display_data",
          "data": {
            "text/plain": [
              "<Figure size 1440x720 with 1 Axes>"
            ],
            "image/png": "[encoded data removed]"
          },
          "metadata": {
            "needs_background": "light"
          }
        }
      ]
    },
    {
      "cell_type": "markdown",
      "source": [
        "Как видно, модели обучаются стабильно до 7-ой эпохи"
      ],
      "metadata": {
        "id": "wqoIv7r6aSLy"
      }
    },
    {
      "cell_type": "code",
      "source": [
        "model_1 = Vers_min_3()\n",
        "if torch.cuda.is_available():\n",
        "    model_1.cuda()\n",
        "summary(model_1, (3, 116, 116))"
      ],
      "metadata": {
        "id": "spnBMlSmavGY",
        "colab": {
          "base_uri": "https://localhost:8080/"
        },
        "outputId": "ebbd33bd-4e76-4ed5-a13e-aceb468fde31"
      },
      "execution_count": null,
      "outputs": [
        {
          "output_type": "stream",
          "name": "stdout",
          "text": [
            "----------------------------------------------------------------\n",
            "        Layer (type)               Output Shape         Param #\n",
            "================================================================\n",
            "            Conv2d-1          [-1, 4, 114, 114]             112\n",
            "       BatchNorm2d-2          [-1, 4, 114, 114]               8\n",
            "              ReLU-3          [-1, 4, 114, 114]               0\n",
            "         MaxPool2d-4            [-1, 4, 57, 57]               0\n",
            "            Conv2d-5            [-1, 8, 55, 55]             296\n",
            "       BatchNorm2d-6            [-1, 8, 55, 55]              16\n",
            "              ReLU-7            [-1, 8, 55, 55]               0\n",
            "         MaxPool2d-8            [-1, 8, 27, 27]               0\n",
            "            Conv2d-9            [-1, 8, 25, 25]             584\n",
            "      BatchNorm2d-10            [-1, 8, 25, 25]              16\n",
            "             ReLU-11            [-1, 8, 25, 25]               0\n",
            "        MaxPool2d-12            [-1, 8, 12, 12]               0\n",
            "           Conv2d-13            [-1, 8, 10, 10]             584\n",
            "      BatchNorm2d-14            [-1, 8, 10, 10]              16\n",
            "             ReLU-15            [-1, 8, 10, 10]               0\n",
            "        MaxPool2d-16              [-1, 8, 5, 5]               0\n",
            "           Linear-17                   [-1, 10]           2,010\n",
            "             ReLU-18                   [-1, 10]               0\n",
            "          Dropout-19                   [-1, 10]               0\n",
            "           Linear-20                    [-1, 2]              22\n",
            "================================================================\n",
            "Total params: 3,664\n",
            "Trainable params: 3,664\n",
            "Non-trainable params: 0\n",
            "----------------------------------------------------------------\n",
            "Input size (MB): 0.15\n",
            "Forward/backward pass size (MB): 2.03\n",
            "Params size (MB): 0.01\n",
            "Estimated Total Size (MB): 2.20\n",
            "----------------------------------------------------------------\n"
          ]
        }
      ]
    },
    {
      "cell_type": "code",
      "source": [
        "model_2 = Vers_min_2()\n",
        "if torch.cuda.is_available():\n",
        "    model_2.cuda()\n",
        "summary(model_2, (3, 116, 116))"
      ],
      "metadata": {
        "id": "ScGcKOANavGZ",
        "colab": {
          "base_uri": "https://localhost:8080/"
        },
        "outputId": "607a9b56-51d4-408e-cb34-84957c4967ec"
      },
      "execution_count": null,
      "outputs": [
        {
          "output_type": "stream",
          "name": "stdout",
          "text": [
            "----------------------------------------------------------------\n",
            "        Layer (type)               Output Shape         Param #\n",
            "================================================================\n",
            "            Conv2d-1          [-1, 4, 114, 114]             112\n",
            "       BatchNorm2d-2          [-1, 4, 114, 114]               8\n",
            "              ReLU-3          [-1, 4, 114, 114]               0\n",
            "         MaxPool2d-4            [-1, 4, 57, 57]               0\n",
            "            Conv2d-5            [-1, 8, 55, 55]             296\n",
            "       BatchNorm2d-6            [-1, 8, 55, 55]              16\n",
            "              ReLU-7            [-1, 8, 55, 55]               0\n",
            "         MaxPool2d-8            [-1, 8, 27, 27]               0\n",
            "            Conv2d-9            [-1, 4, 25, 25]             292\n",
            "      BatchNorm2d-10            [-1, 4, 25, 25]               8\n",
            "             ReLU-11            [-1, 4, 25, 25]               0\n",
            "        MaxPool2d-12            [-1, 4, 12, 12]               0\n",
            "           Conv2d-13            [-1, 4, 10, 10]             148\n",
            "      BatchNorm2d-14            [-1, 4, 10, 10]               8\n",
            "             ReLU-15            [-1, 4, 10, 10]               0\n",
            "        MaxPool2d-16              [-1, 4, 5, 5]               0\n",
            "           Linear-17                   [-1, 10]           1,010\n",
            "             ReLU-18                   [-1, 10]               0\n",
            "          Dropout-19                   [-1, 10]               0\n",
            "           Linear-20                    [-1, 2]              22\n",
            "================================================================\n",
            "Total params: 1,920\n",
            "Trainable params: 1,920\n",
            "Non-trainable params: 0\n",
            "----------------------------------------------------------------\n",
            "Input size (MB): 0.15\n",
            "Forward/backward pass size (MB): 1.96\n",
            "Params size (MB): 0.01\n",
            "Estimated Total Size (MB): 2.12\n",
            "----------------------------------------------------------------\n"
          ]
        }
      ]
    },
    {
      "cell_type": "code",
      "source": [
        "optimizer_1  = torch.optim.AdamW(chain(model_1.parameters()), lr=1e-4/2)\n",
        "optimizer_2  = torch.optim.AdamW(chain(model_2.parameters()), lr=1e-4/2)"
      ],
      "metadata": {
        "id": "ucs-pUhpa5ds"
      },
      "execution_count": null,
      "outputs": []
    },
    {
      "cell_type": "code",
      "source": [
        "history_1 = train(train_dataset, val_dataset, model_1,optimizer_1, epochs=7, batch_size=64)"
      ],
      "metadata": {
        "id": "cMFPMHo8bCK1",
        "colab": {
          "base_uri": "https://localhost:8080/"
        },
        "outputId": "24ccf505-fb78-42c4-bd4f-2ca28bbfbd3b"
      },
      "execution_count": null,
      "outputs": [
        {
          "output_type": "stream",
          "name": "stderr",
          "text": [
            "\repoch:   0%|          | 0/7 [00:00<?, ?it/s]"
          ]
        },
        {
          "output_type": "stream",
          "name": "stdout",
          "text": [
            "loss 0.2887941328500346\n"
          ]
        },
        {
          "output_type": "stream",
          "name": "stderr",
          "text": [
            "epoch:  14%|█▍        | 1/7 [00:43<04:19, 43.20s/it]"
          ]
        },
        {
          "output_type": "stream",
          "name": "stdout",
          "text": [
            "\n",
            "Epoch 001 train_loss: 0.2888     val_loss 0.1051 train_acc 0.7275 val_acc 0.9577\n",
            "loss 0.04848788287200823\n"
          ]
        },
        {
          "output_type": "stream",
          "name": "stderr",
          "text": [
            "epoch:  29%|██▊       | 2/7 [01:23<03:27, 41.57s/it]"
          ]
        },
        {
          "output_type": "stream",
          "name": "stdout",
          "text": [
            "\n",
            "Epoch 002 train_loss: 0.0485     val_loss 0.0305 train_acc 0.9649 val_acc 0.9682\n",
            "loss 0.021783326685629798\n"
          ]
        },
        {
          "output_type": "stream",
          "name": "stderr",
          "text": [
            "epoch:  43%|████▎     | 3/7 [02:04<02:44, 41.10s/it]"
          ]
        },
        {
          "output_type": "stream",
          "name": "stdout",
          "text": [
            "\n",
            "Epoch 003 train_loss: 0.0218     val_loss 0.0163 train_acc 0.9843 val_acc 0.9895\n",
            "loss 0.013718712891680227\n"
          ]
        },
        {
          "output_type": "stream",
          "name": "stderr",
          "text": [
            "epoch:  57%|█████▋    | 4/7 [02:44<02:02, 40.87s/it]"
          ]
        },
        {
          "output_type": "stream",
          "name": "stdout",
          "text": [
            "\n",
            "Epoch 004 train_loss: 0.0137     val_loss 0.0113 train_acc 0.9930 val_acc 0.9944\n",
            "loss 0.010396282808148914\n"
          ]
        },
        {
          "output_type": "stream",
          "name": "stderr",
          "text": [
            "epoch:  71%|███████▏  | 5/7 [03:25<01:21, 40.78s/it]"
          ]
        },
        {
          "output_type": "stream",
          "name": "stdout",
          "text": [
            "\n",
            "Epoch 005 train_loss: 0.0104     val_loss 0.0093 train_acc 0.9953 val_acc 0.9944\n",
            "loss 0.008458359821139209\n"
          ]
        },
        {
          "output_type": "stream",
          "name": "stderr",
          "text": [
            "epoch:  86%|████████▌ | 6/7 [04:06<00:40, 40.83s/it]"
          ]
        },
        {
          "output_type": "stream",
          "name": "stdout",
          "text": [
            "\n",
            "Epoch 006 train_loss: 0.0085     val_loss 0.0075 train_acc 0.9958 val_acc 0.9953\n",
            "loss 0.007230711433426006\n"
          ]
        },
        {
          "output_type": "stream",
          "name": "stderr",
          "text": [
            "epoch: 100%|██████████| 7/7 [04:47<00:00, 41.04s/it]"
          ]
        },
        {
          "output_type": "stream",
          "name": "stdout",
          "text": [
            "\n",
            "Epoch 007 train_loss: 0.0072     val_loss 0.0072 train_acc 0.9961 val_acc 0.9956\n"
          ]
        },
        {
          "output_type": "stream",
          "name": "stderr",
          "text": [
            "\n"
          ]
        }
      ]
    },
    {
      "cell_type": "code",
      "source": [
        "torch.save(model_1, './model_1')"
      ],
      "metadata": {
        "id": "0vGCd0O9euh1"
      },
      "execution_count": null,
      "outputs": []
    },
    {
      "cell_type": "code",
      "source": [
        "history = train(train_dataset, val_dataset, model_2,optimizer_2, epochs=7, batch_size=64)"
      ],
      "metadata": {
        "id": "luikff5Ua5du",
        "colab": {
          "base_uri": "https://localhost:8080/"
        },
        "outputId": "98a7b103-de6d-47fa-f4cb-3c3412c32380"
      },
      "execution_count": null,
      "outputs": [
        {
          "output_type": "stream",
          "name": "stderr",
          "text": [
            "\repoch:   0%|          | 0/7 [00:00<?, ?it/s]"
          ]
        },
        {
          "output_type": "stream",
          "name": "stdout",
          "text": [
            "loss 0.4470221997335517\n"
          ]
        },
        {
          "output_type": "stream",
          "name": "stderr",
          "text": [
            "epoch:  14%|█▍        | 1/7 [00:41<04:09, 41.57s/it]"
          ]
        },
        {
          "output_type": "stream",
          "name": "stdout",
          "text": [
            "\n",
            "Epoch 001 train_loss: 0.4470     val_loss 0.2662 train_acc 0.4945 val_acc 0.8362\n",
            "loss 0.11081663560683776\n"
          ]
        },
        {
          "output_type": "stream",
          "name": "stderr",
          "text": [
            "epoch:  29%|██▊       | 2/7 [01:22<03:26, 41.31s/it]"
          ]
        },
        {
          "output_type": "stream",
          "name": "stdout",
          "text": [
            "\n",
            "Epoch 002 train_loss: 0.1108     val_loss 0.0554 train_acc 0.9277 val_acc 0.9529\n",
            "loss 0.04197686899878156\n"
          ]
        },
        {
          "output_type": "stream",
          "name": "stderr",
          "text": [
            "epoch:  43%|████▎     | 3/7 [02:03<02:44, 41.17s/it]"
          ]
        },
        {
          "output_type": "stream",
          "name": "stdout",
          "text": [
            "\n",
            "Epoch 003 train_loss: 0.0420     val_loss 0.0333 train_acc 0.9680 val_acc 0.9747\n",
            "loss 0.02622800146410838\n"
          ]
        },
        {
          "output_type": "stream",
          "name": "stderr",
          "text": [
            "epoch:  57%|█████▋    | 4/7 [02:44<02:02, 41.00s/it]"
          ]
        },
        {
          "output_type": "stream",
          "name": "stdout",
          "text": [
            "\n",
            "Epoch 004 train_loss: 0.0262     val_loss 0.0222 train_acc 0.9810 val_acc 0.9894\n",
            "loss 0.01844881013365794\n"
          ]
        },
        {
          "output_type": "stream",
          "name": "stderr",
          "text": [
            "epoch:  71%|███████▏  | 5/7 [03:24<01:21, 40.82s/it]"
          ]
        },
        {
          "output_type": "stream",
          "name": "stdout",
          "text": [
            "\n",
            "Epoch 005 train_loss: 0.0184     val_loss 0.0176 train_acc 0.9900 val_acc 0.9906\n",
            "loss 0.014645173248519827\n"
          ]
        },
        {
          "output_type": "stream",
          "name": "stderr",
          "text": [
            "epoch:  86%|████████▌ | 6/7 [04:05<00:40, 40.72s/it]"
          ]
        },
        {
          "output_type": "stream",
          "name": "stdout",
          "text": [
            "\n",
            "Epoch 006 train_loss: 0.0146     val_loss 0.0143 train_acc 0.9921 val_acc 0.9935\n",
            "loss 0.012552347172805229\n"
          ]
        },
        {
          "output_type": "stream",
          "name": "stderr",
          "text": [
            "epoch: 100%|██████████| 7/7 [04:46<00:00, 40.88s/it]"
          ]
        },
        {
          "output_type": "stream",
          "name": "stdout",
          "text": [
            "\n",
            "Epoch 007 train_loss: 0.0126     val_loss 0.0132 train_acc 0.9934 val_acc 0.9938\n"
          ]
        },
        {
          "output_type": "stream",
          "name": "stderr",
          "text": [
            "\n"
          ]
        }
      ]
    },
    {
      "cell_type": "code",
      "source": [
        "torch.save(model_2, './model_2')"
      ],
      "metadata": {
        "id": "me8huum0b2RO"
      },
      "execution_count": null,
      "outputs": []
    }
  ]
}