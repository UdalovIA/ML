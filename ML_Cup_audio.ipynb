{
  "nbformat": 4,
  "nbformat_minor": 0,
  "metadata": {
    "colab": {
      "provenance": [],
      "collapsed_sections": [],
      "authorship_tag": "ABX9TyPaKkr8C9RoEwyrc3NULRdr",
      "include_colab_link": true
    },
    "kernelspec": {
      "name": "python3",
      "display_name": "Python 3"
    },
    "language_info": {
      "name": "python"
    },
    "gpuClass": "standard",
    "accelerator": "GPU"
  },
  "cells": [
    {
      "cell_type": "markdown",
      "metadata": {
        "id": "view-in-github",
        "colab_type": "text"
      },
      "source": [
        "<a href=\"https://colab.research.google.com/github/UdalovIA/ML/blob/main/ML_Cup_audio.ipynb\" target=\"_parent\"><img src=\"https://colab.research.google.com/assets/colab-badge.svg\" alt=\"Open In Colab\"/></a>"
      ]
    },
    {
      "cell_type": "code",
      "source": [
        "import urllib.request\n",
        "urllib.request.urlretrieve(\"https://storage.yandexcloud.net/audioml-contest22/dataset.tar.gz\", \"dataset.tar.gz\")"
      ],
      "metadata": {
        "colab": {
          "base_uri": "https://localhost:8080/",
          "height": 328
        },
        "id": "oRjPkPUbkneB",
        "outputId": "35253548-20aa-4397-edee-c7d6e3dd3ab2"
      },
      "execution_count": 1,
      "outputs": [
        {
          "output_type": "error",
          "ename": "KeyboardInterrupt",
          "evalue": "ignored",
          "traceback": [
            "\u001b[0;31m---------------------------------------------------------------------------\u001b[0m",
            "\u001b[0;31mKeyboardInterrupt\u001b[0m                         Traceback (most recent call last)",
            "\u001b[0;32m<ipython-input-1-dc850e86a294>\u001b[0m in \u001b[0;36m<module>\u001b[0;34m\u001b[0m\n\u001b[1;32m      1\u001b[0m \u001b[0;32mimport\u001b[0m \u001b[0murllib\u001b[0m\u001b[0;34m.\u001b[0m\u001b[0mrequest\u001b[0m\u001b[0;34m\u001b[0m\u001b[0;34m\u001b[0m\u001b[0m\n\u001b[0;32m----> 2\u001b[0;31m \u001b[0murllib\u001b[0m\u001b[0;34m.\u001b[0m\u001b[0mrequest\u001b[0m\u001b[0;34m.\u001b[0m\u001b[0murlretrieve\u001b[0m\u001b[0;34m(\u001b[0m\u001b[0;34m\"https://storage.yandexcloud.net/audioml-contest22/dataset.tar.gz\"\u001b[0m\u001b[0;34m,\u001b[0m \u001b[0;34m\"dataset.tar.gz\"\u001b[0m\u001b[0;34m)\u001b[0m\u001b[0;34m\u001b[0m\u001b[0;34m\u001b[0m\u001b[0m\n\u001b[0m",
            "\u001b[0;32m/usr/lib/python3.7/urllib/request.py\u001b[0m in \u001b[0;36murlretrieve\u001b[0;34m(url, filename, reporthook, data)\u001b[0m\n\u001b[1;32m    274\u001b[0m \u001b[0;34m\u001b[0m\u001b[0m\n\u001b[1;32m    275\u001b[0m             \u001b[0;32mwhile\u001b[0m \u001b[0;32mTrue\u001b[0m\u001b[0;34m:\u001b[0m\u001b[0;34m\u001b[0m\u001b[0;34m\u001b[0m\u001b[0m\n\u001b[0;32m--> 276\u001b[0;31m                 \u001b[0mblock\u001b[0m \u001b[0;34m=\u001b[0m \u001b[0mfp\u001b[0m\u001b[0;34m.\u001b[0m\u001b[0mread\u001b[0m\u001b[0;34m(\u001b[0m\u001b[0mbs\u001b[0m\u001b[0;34m)\u001b[0m\u001b[0;34m\u001b[0m\u001b[0;34m\u001b[0m\u001b[0m\n\u001b[0m\u001b[1;32m    277\u001b[0m                 \u001b[0;32mif\u001b[0m \u001b[0;32mnot\u001b[0m \u001b[0mblock\u001b[0m\u001b[0;34m:\u001b[0m\u001b[0;34m\u001b[0m\u001b[0;34m\u001b[0m\u001b[0m\n\u001b[1;32m    278\u001b[0m                     \u001b[0;32mbreak\u001b[0m\u001b[0;34m\u001b[0m\u001b[0;34m\u001b[0m\u001b[0m\n",
            "\u001b[0;32m/usr/lib/python3.7/http/client.py\u001b[0m in \u001b[0;36mread\u001b[0;34m(self, amt)\u001b[0m\n\u001b[1;32m    463\u001b[0m             \u001b[0;31m# Amount is given, implement using readinto\u001b[0m\u001b[0;34m\u001b[0m\u001b[0;34m\u001b[0m\u001b[0;34m\u001b[0m\u001b[0m\n\u001b[1;32m    464\u001b[0m             \u001b[0mb\u001b[0m \u001b[0;34m=\u001b[0m \u001b[0mbytearray\u001b[0m\u001b[0;34m(\u001b[0m\u001b[0mamt\u001b[0m\u001b[0;34m)\u001b[0m\u001b[0;34m\u001b[0m\u001b[0;34m\u001b[0m\u001b[0m\n\u001b[0;32m--> 465\u001b[0;31m             \u001b[0mn\u001b[0m \u001b[0;34m=\u001b[0m \u001b[0mself\u001b[0m\u001b[0;34m.\u001b[0m\u001b[0mreadinto\u001b[0m\u001b[0;34m(\u001b[0m\u001b[0mb\u001b[0m\u001b[0;34m)\u001b[0m\u001b[0;34m\u001b[0m\u001b[0;34m\u001b[0m\u001b[0m\n\u001b[0m\u001b[1;32m    466\u001b[0m             \u001b[0;32mreturn\u001b[0m \u001b[0mmemoryview\u001b[0m\u001b[0;34m(\u001b[0m\u001b[0mb\u001b[0m\u001b[0;34m)\u001b[0m\u001b[0;34m[\u001b[0m\u001b[0;34m:\u001b[0m\u001b[0mn\u001b[0m\u001b[0;34m]\u001b[0m\u001b[0;34m.\u001b[0m\u001b[0mtobytes\u001b[0m\u001b[0;34m(\u001b[0m\u001b[0;34m)\u001b[0m\u001b[0;34m\u001b[0m\u001b[0;34m\u001b[0m\u001b[0m\n\u001b[1;32m    467\u001b[0m         \u001b[0;32melse\u001b[0m\u001b[0;34m:\u001b[0m\u001b[0;34m\u001b[0m\u001b[0;34m\u001b[0m\u001b[0m\n",
            "\u001b[0;32m/usr/lib/python3.7/http/client.py\u001b[0m in \u001b[0;36mreadinto\u001b[0;34m(self, b)\u001b[0m\n\u001b[1;32m    507\u001b[0m         \u001b[0;31m# connection, and the user is reading more bytes than will be provided\u001b[0m\u001b[0;34m\u001b[0m\u001b[0;34m\u001b[0m\u001b[0;34m\u001b[0m\u001b[0m\n\u001b[1;32m    508\u001b[0m         \u001b[0;31m# (for example, reading in 1k chunks)\u001b[0m\u001b[0;34m\u001b[0m\u001b[0;34m\u001b[0m\u001b[0;34m\u001b[0m\u001b[0m\n\u001b[0;32m--> 509\u001b[0;31m         \u001b[0mn\u001b[0m \u001b[0;34m=\u001b[0m \u001b[0mself\u001b[0m\u001b[0;34m.\u001b[0m\u001b[0mfp\u001b[0m\u001b[0;34m.\u001b[0m\u001b[0mreadinto\u001b[0m\u001b[0;34m(\u001b[0m\u001b[0mb\u001b[0m\u001b[0;34m)\u001b[0m\u001b[0;34m\u001b[0m\u001b[0;34m\u001b[0m\u001b[0m\n\u001b[0m\u001b[1;32m    510\u001b[0m         \u001b[0;32mif\u001b[0m \u001b[0;32mnot\u001b[0m \u001b[0mn\u001b[0m \u001b[0;32mand\u001b[0m \u001b[0mb\u001b[0m\u001b[0;34m:\u001b[0m\u001b[0;34m\u001b[0m\u001b[0;34m\u001b[0m\u001b[0m\n\u001b[1;32m    511\u001b[0m             \u001b[0;31m# Ideally, we would raise IncompleteRead if the content-length\u001b[0m\u001b[0;34m\u001b[0m\u001b[0;34m\u001b[0m\u001b[0;34m\u001b[0m\u001b[0m\n",
            "\u001b[0;32m/usr/lib/python3.7/socket.py\u001b[0m in \u001b[0;36mreadinto\u001b[0;34m(self, b)\u001b[0m\n\u001b[1;32m    587\u001b[0m         \u001b[0;32mwhile\u001b[0m \u001b[0;32mTrue\u001b[0m\u001b[0;34m:\u001b[0m\u001b[0;34m\u001b[0m\u001b[0;34m\u001b[0m\u001b[0m\n\u001b[1;32m    588\u001b[0m             \u001b[0;32mtry\u001b[0m\u001b[0;34m:\u001b[0m\u001b[0;34m\u001b[0m\u001b[0;34m\u001b[0m\u001b[0m\n\u001b[0;32m--> 589\u001b[0;31m                 \u001b[0;32mreturn\u001b[0m \u001b[0mself\u001b[0m\u001b[0;34m.\u001b[0m\u001b[0m_sock\u001b[0m\u001b[0;34m.\u001b[0m\u001b[0mrecv_into\u001b[0m\u001b[0;34m(\u001b[0m\u001b[0mb\u001b[0m\u001b[0;34m)\u001b[0m\u001b[0;34m\u001b[0m\u001b[0;34m\u001b[0m\u001b[0m\n\u001b[0m\u001b[1;32m    590\u001b[0m             \u001b[0;32mexcept\u001b[0m \u001b[0mtimeout\u001b[0m\u001b[0;34m:\u001b[0m\u001b[0;34m\u001b[0m\u001b[0;34m\u001b[0m\u001b[0m\n\u001b[1;32m    591\u001b[0m                 \u001b[0mself\u001b[0m\u001b[0;34m.\u001b[0m\u001b[0m_timeout_occurred\u001b[0m \u001b[0;34m=\u001b[0m \u001b[0;32mTrue\u001b[0m\u001b[0;34m\u001b[0m\u001b[0;34m\u001b[0m\u001b[0m\n",
            "\u001b[0;32m/usr/lib/python3.7/ssl.py\u001b[0m in \u001b[0;36mrecv_into\u001b[0;34m(self, buffer, nbytes, flags)\u001b[0m\n\u001b[1;32m   1069\u001b[0m                   \u001b[0;34m\"non-zero flags not allowed in calls to recv_into() on %s\"\u001b[0m \u001b[0;34m%\u001b[0m\u001b[0;34m\u001b[0m\u001b[0;34m\u001b[0m\u001b[0m\n\u001b[1;32m   1070\u001b[0m                   self.__class__)\n\u001b[0;32m-> 1071\u001b[0;31m             \u001b[0;32mreturn\u001b[0m \u001b[0mself\u001b[0m\u001b[0;34m.\u001b[0m\u001b[0mread\u001b[0m\u001b[0;34m(\u001b[0m\u001b[0mnbytes\u001b[0m\u001b[0;34m,\u001b[0m \u001b[0mbuffer\u001b[0m\u001b[0;34m)\u001b[0m\u001b[0;34m\u001b[0m\u001b[0;34m\u001b[0m\u001b[0m\n\u001b[0m\u001b[1;32m   1072\u001b[0m         \u001b[0;32melse\u001b[0m\u001b[0;34m:\u001b[0m\u001b[0;34m\u001b[0m\u001b[0;34m\u001b[0m\u001b[0m\n\u001b[1;32m   1073\u001b[0m             \u001b[0;32mreturn\u001b[0m \u001b[0msuper\u001b[0m\u001b[0;34m(\u001b[0m\u001b[0;34m)\u001b[0m\u001b[0;34m.\u001b[0m\u001b[0mrecv_into\u001b[0m\u001b[0;34m(\u001b[0m\u001b[0mbuffer\u001b[0m\u001b[0;34m,\u001b[0m \u001b[0mnbytes\u001b[0m\u001b[0;34m,\u001b[0m \u001b[0mflags\u001b[0m\u001b[0;34m)\u001b[0m\u001b[0;34m\u001b[0m\u001b[0;34m\u001b[0m\u001b[0m\n",
            "\u001b[0;32m/usr/lib/python3.7/ssl.py\u001b[0m in \u001b[0;36mread\u001b[0;34m(self, len, buffer)\u001b[0m\n\u001b[1;32m    927\u001b[0m         \u001b[0;32mtry\u001b[0m\u001b[0;34m:\u001b[0m\u001b[0;34m\u001b[0m\u001b[0;34m\u001b[0m\u001b[0m\n\u001b[1;32m    928\u001b[0m             \u001b[0;32mif\u001b[0m \u001b[0mbuffer\u001b[0m \u001b[0;32mis\u001b[0m \u001b[0;32mnot\u001b[0m \u001b[0;32mNone\u001b[0m\u001b[0;34m:\u001b[0m\u001b[0;34m\u001b[0m\u001b[0;34m\u001b[0m\u001b[0m\n\u001b[0;32m--> 929\u001b[0;31m                 \u001b[0;32mreturn\u001b[0m \u001b[0mself\u001b[0m\u001b[0;34m.\u001b[0m\u001b[0m_sslobj\u001b[0m\u001b[0;34m.\u001b[0m\u001b[0mread\u001b[0m\u001b[0;34m(\u001b[0m\u001b[0mlen\u001b[0m\u001b[0;34m,\u001b[0m \u001b[0mbuffer\u001b[0m\u001b[0;34m)\u001b[0m\u001b[0;34m\u001b[0m\u001b[0;34m\u001b[0m\u001b[0m\n\u001b[0m\u001b[1;32m    930\u001b[0m             \u001b[0;32melse\u001b[0m\u001b[0;34m:\u001b[0m\u001b[0;34m\u001b[0m\u001b[0;34m\u001b[0m\u001b[0m\n\u001b[1;32m    931\u001b[0m                 \u001b[0;32mreturn\u001b[0m \u001b[0mself\u001b[0m\u001b[0;34m.\u001b[0m\u001b[0m_sslobj\u001b[0m\u001b[0;34m.\u001b[0m\u001b[0mread\u001b[0m\u001b[0;34m(\u001b[0m\u001b[0mlen\u001b[0m\u001b[0;34m)\u001b[0m\u001b[0;34m\u001b[0m\u001b[0;34m\u001b[0m\u001b[0m\n",
            "\u001b[0;31mKeyboardInterrupt\u001b[0m: "
          ]
        }
      ]
    },
    {
      "cell_type": "code",
      "source": [
        "#!python naive_baseline.py --features-dir /content/train_features --tracks-meta /content/train_meta.tsv --output /content/out/text.txt"
      ],
      "metadata": {
        "id": "lCRddOJi4lXy"
      },
      "execution_count": null,
      "outputs": []
    },
    {
      "cell_type": "code",
      "source": [
        "from google.colab import drive\n",
        "drive.mount('drive')\n",
        "#!cp /content/train_meta.tsv \"drive/My Drive/\""
      ],
      "metadata": {
        "colab": {
          "base_uri": "https://localhost:8080/"
        },
        "id": "lXu_nlItQBL7",
        "outputId": "ca8aad87-1c51-4147-ba1c-0a933ae1cdce"
      },
      "execution_count": 2,
      "outputs": [
        {
          "output_type": "stream",
          "name": "stdout",
          "text": [
            "Mounted at drive\n"
          ]
        }
      ]
    },
    {
      "cell_type": "code",
      "source": [
        "import zipfile\n",
        "with zipfile.ZipFile('/content/drive/MyDrive/train_features.zip', 'r') as zip_ref:\n",
        "    zip_ref.extractall('/content/train_features')"
      ],
      "metadata": {
        "id": "0NUiJzHfpcJA"
      },
      "execution_count": 3,
      "outputs": []
    },
    {
      "cell_type": "code",
      "source": [
        "import shutil\n",
        "shutil.copy(\"/content/drive/MyDrive/train_meta.tsv\", \"/content/\")"
      ],
      "metadata": {
        "colab": {
          "base_uri": "https://localhost:8080/",
          "height": 36
        },
        "id": "HwZ1NDnIqDwO",
        "outputId": "d3eb8c0f-eac1-4d89-bbfd-6f5725fdd5c4"
      },
      "execution_count": 4,
      "outputs": [
        {
          "output_type": "execute_result",
          "data": {
            "text/plain": [
              "'/content/train_meta.tsv'"
            ],
            "application/vnd.google.colaboratory.intrinsic+json": {
              "type": "string"
            }
          },
          "metadata": {},
          "execution_count": 4
        }
      ]
    },
    {
      "cell_type": "code",
      "source": [
        "!cp /content/train_meta.tsv \"drive/My Drive/\""
      ],
      "metadata": {
        "id": "LlGdzwyZh7WY"
      },
      "execution_count": 5,
      "outputs": []
    },
    {
      "cell_type": "code",
      "source": [
        "import tarfile\n",
        "import zipfile\n",
        "zipfile = '/content/dataset.tar.gz'\n",
        "if zipfile.endswith(\"tar.gz\"):\n",
        "    tar = tarfile.open(zipfile, \"r:gz\")\n",
        "elif zipfile.endswith(\"tar\"):\n",
        "    tar = tarfile.open(zipfile, \"r:\")\n",
        "tar.extractall()\n",
        "tar.close()  "
      ],
      "metadata": {
        "id": "T68UDBeHrk2f"
      },
      "execution_count": null,
      "outputs": []
    },
    {
      "cell_type": "code",
      "source": [
        "!pip install annoy\n"
      ],
      "metadata": {
        "colab": {
          "base_uri": "https://localhost:8080/"
        },
        "id": "Bp19pd1JriHh",
        "outputId": "0e934f01-40e8-4bcc-8906-239db88e2266"
      },
      "execution_count": 6,
      "outputs": [
        {
          "output_type": "stream",
          "name": "stdout",
          "text": [
            "Looking in indexes: https://pypi.org/simple, https://us-python.pkg.dev/colab-wheels/public/simple/\n",
            "Collecting annoy\n",
            "  Downloading annoy-1.17.1.tar.gz (647 kB)\n",
            "\u001b[K     |████████████████████████████████| 647 kB 20.4 MB/s \n",
            "\u001b[?25hBuilding wheels for collected packages: annoy\n",
            "  Building wheel for annoy (setup.py) ... \u001b[?25l\u001b[?25hdone\n",
            "  Created wheel for annoy: filename=annoy-1.17.1-cp37-cp37m-linux_x86_64.whl size=397052 sha256=617e9b32715fb785d510564211974e6e0ba1e385a329c081b7769349d709ec72\n",
            "  Stored in directory: /root/.cache/pip/wheels/81/94/bf/92cb0e4fef8770fe9c6df0ba588fca30ab7c306b6048ae8a54\n",
            "Successfully built annoy\n",
            "Installing collected packages: annoy\n",
            "Successfully installed annoy-1.17.1\n"
          ]
        }
      ]
    },
    {
      "cell_type": "code",
      "source": [
        "# encoding=utf-8\n",
        "import numpy as np\n",
        "import pandas as pd\n",
        "import os\n",
        "from argparse import ArgumentParser\n",
        "from sklearn.model_selection import train_test_split\n",
        "import torch\n",
        "import torch.nn as nn\n",
        "import torch.nn.functional as F\n",
        "from scipy.spatial.distance import cdist\n",
        "from tqdm import tqdm\n",
        "import random\n",
        "import annoy"
      ],
      "metadata": {
        "id": "D7IrnlxwTZEd"
      },
      "execution_count": 7,
      "outputs": []
    },
    {
      "cell_type": "code",
      "source": [],
      "metadata": {
        "id": "hp7mJx8X3Pc1"
      },
      "execution_count": null,
      "outputs": []
    },
    {
      "cell_type": "code",
      "source": [
        "\n",
        "\n",
        "# Data Loader \n",
        "\n",
        "def train_val_split(dataset, val_size = 0.2): # Сплит по artistid\n",
        "    artist_ids = dataset['artistid'].unique()\n",
        "    train_artist_ids, val_artist_ids = train_test_split(artist_ids, test_size = val_size)\n",
        "    trainset = dataset[dataset['artistid'].isin(train_artist_ids)].copy()\n",
        "    valset = dataset[dataset['artistid'].isin(val_artist_ids)].copy()\n",
        "    return trainset, valset\n",
        "\n",
        "class FeaturesLoader: \n",
        "    def __init__(self, features_dir_path, meta_info, device='cpu', crop_size = 60):\n",
        "        self.features_dir_path = features_dir_path\n",
        "        self.meta_info = meta_info\n",
        "        self.trackid2path = meta_info.set_index('trackid')['archive_features_path'].to_dict()\n",
        "        self.crop_size = crop_size\n",
        "        self.device = device\n",
        "        \n",
        "    def _load_item(self, track_id):\n",
        "        track_features_file_path = self.trackid2path[track_id]\n",
        "        track_features = np.load(os.path.join(self.features_dir_path, track_features_file_path))\n",
        "        padding = (track_features.shape[1] - self.crop_size) // 2\n",
        "        return track_features[:, padding:padding+self.crop_size]\n",
        "    \n",
        "    def load_batch(self, tracks_ids):\n",
        "        batch = [self._load_item(track_id) for track_id in tracks_ids]\n",
        "        return torch.tensor(np.array(batch)).to(self.device)\n",
        "\n",
        "class TrainLoader:\n",
        "    def __init__(self, features_loader, batch_size = 256, features_size = (512, 60)):\n",
        "        self.features_loader = features_loader\n",
        "        self.batch_size = batch_size\n",
        "        self.features_size = features_size\n",
        "        self.artist_track_ids = self.features_loader.meta_info.groupby('artistid').agg(list)\n",
        "        \n",
        "    def _generate_pairs(self, track_ids):\n",
        "        np.random.shuffle(track_ids)\n",
        "        pairs = [track_ids[i-2:i] for i in range(2, len(track_ids)+1, 2)]\n",
        "        return pairs\n",
        "        \n",
        "    def _get_pair_ids(self):\n",
        "        artist_track_ids = self.artist_track_ids.copy()\n",
        "        artist_track_pairs = artist_track_ids['trackid'].map(self._generate_pairs)\n",
        "        for pair_ids in artist_track_pairs.explode().dropna():\n",
        "            yield pair_ids\n",
        "            \n",
        "    def _get_batch(self, batch_ids):\n",
        "        batch_ids = np.array(batch_ids).reshape(-1)\n",
        "        batch_features = self.features_loader.load_batch(batch_ids)\n",
        "        batch_features = batch_features.reshape(self.batch_size, 2, *self.features_size)\n",
        "        return batch_features\n",
        "        \n",
        "    def __iter__(self):\n",
        "        batch_ids = []\n",
        "        for pair_ids in self._get_pair_ids():\n",
        "            batch_ids.append(pair_ids)\n",
        "            if len(batch_ids) == self.batch_size:\n",
        "                batch = self._get_batch(batch_ids)\n",
        "                yield batch\n",
        "                batch_ids = []\n",
        "\n",
        "class TestLoader:\n",
        "    def __init__(self, features_loader, batch_size = 256, features_size = (512, 60)):\n",
        "        self.features_loader = features_loader\n",
        "        self.batch_size = batch_size\n",
        "        self.features_size = features_size\n",
        "        \n",
        "    def __iter__(self):\n",
        "        batch_ids = []\n",
        "        for track_id in tqdm(self.features_loader.meta_info['trackid'].values):\n",
        "            batch_ids.append(track_id)\n",
        "            if len(batch_ids) == self.batch_size:\n",
        "                yield batch_ids, self.features_loader.load_batch(batch_ids) \n",
        "                batch_ids = []\n",
        "        if len(batch_ids) > 0:\n",
        "            yield batch_ids, self.features_loader.load_batch(batch_ids) \n",
        "\n",
        "\n",
        "\n"
      ],
      "metadata": {
        "id": "xkNrd8zOhiRo"
      },
      "execution_count": 8,
      "outputs": []
    },
    {
      "cell_type": "code",
      "source": [
        "# Loss & Metrics\n",
        "\n",
        "class NT_Xent(nn.Module):\n",
        "    def __init__(self, temperature):\n",
        "        super(NT_Xent, self).__init__()\n",
        "        self.temperature = temperature\n",
        "        self.criterion = nn.CrossEntropyLoss(reduction=\"sum\")\n",
        "        self.similarity_f = nn.CosineSimilarity(dim=2)\n",
        "\n",
        "    def mask_correlated_samples(self, batch_size):\n",
        "        N = 2 * batch_size\n",
        "        mask = torch.ones((N, N), dtype=bool)\n",
        "        mask = mask.fill_diagonal_(0)\n",
        "        for i in range(batch_size):\n",
        "            mask[i, batch_size + i] = 0\n",
        "            mask[batch_size + i, i] = 0\n",
        "        return mask\n",
        "\n",
        "    def forward(self, z_i, z_j):\n",
        "        batch_size = z_i.shape[0]\n",
        "        N = 2 * batch_size\n",
        "        z = torch.cat((z_i, z_j), dim=0)\n",
        " \n",
        "        sim = self.similarity_f(z.unsqueeze(1), z.unsqueeze(0)) / self.temperature\n",
        "        sim_i_j = torch.diag(sim, batch_size)\n",
        "        sim_j_i = torch.diag(sim, -batch_size)\n",
        "\n",
        "        mask = self.mask_correlated_samples(batch_size)\n",
        "        positive_samples = torch.cat((sim_i_j, sim_j_i), dim=0).reshape(N, 1)\n",
        "        negative_samples = sim[mask].reshape(N, -1)\n",
        "\n",
        "        labels = torch.zeros(N).to(positive_samples.device).long()\n",
        "        logits = torch.cat((positive_samples, negative_samples), dim=1)\n",
        "        loss = self.criterion(logits, labels)\n",
        "        loss /= N\n",
        "        \n",
        "        with torch.no_grad():\n",
        "            top1_negative_samples, _ = negative_samples.topk(1)\n",
        "            avg_rank = logits.argsort(descending=True).argmin(dim=1).float().mean().cpu().numpy()\n",
        "\n",
        "        return loss, avg_rank\n",
        "\n",
        "def get_ranked_list(embeds, top_size, annoy_num_trees = 32):\n",
        "    annoy_index = None\n",
        "    annoy2id = []\n",
        "    id2annoy = dict()\n",
        "    for track_id, track_embed in embeds.items():\n",
        "        id2annoy[track_id] = len(annoy2id)\n",
        "        annoy2id.append(track_id)\n",
        "        if annoy_index is None:\n",
        "            annoy_index = annoy.AnnoyIndex(len(track_embed), 'angular')\n",
        "        annoy_index.add_item(id2annoy[track_id], track_embed)\n",
        "    annoy_index.build(annoy_num_trees)\n",
        "    ranked_list = dict()\n",
        "    for track_id in embeds.keys():\n",
        "        candidates = annoy_index.get_nns_by_item(id2annoy[track_id], top_size+1)[1:] # exclude trackid itself\n",
        "        candidates = list(filter(lambda x: x != id2annoy[track_id], candidates))\n",
        "        ranked_list[track_id] = [annoy2id[candidate] for candidate in candidates]\n",
        "    return ranked_list\n",
        "\n",
        "def position_discounter(position):\n",
        "    return 1.0 / np.log2(position+1)   \n",
        "\n",
        "def get_ideal_dcg(relevant_items_count, top_size):\n",
        "    dcg = 0.0\n",
        "    for result_indx in range(min(top_size, relevant_items_count)):\n",
        "        position = result_indx + 1\n",
        "        dcg += position_discounter(position)\n",
        "    return dcg\n",
        "\n",
        "def compute_dcg(query_trackid, ranked_list, track2artist_map, top_size):\n",
        "    query_artistid = track2artist_map[query_trackid]\n",
        "    dcg = 0.0\n",
        "    for result_indx, result_trackid in enumerate(ranked_list[:top_size]):\n",
        "        assert result_trackid != query_trackid\n",
        "        position = result_indx + 1\n",
        "        discounted_position = position_discounter(position)\n",
        "        result_artistid = track2artist_map[result_trackid]\n",
        "        if result_artistid == query_artistid:\n",
        "            dcg += discounted_position\n",
        "    return dcg\n",
        "\n",
        "def eval_submission(submission, gt_meta_info, top_size = 100):\n",
        "    track2artist_map = gt_meta_info.set_index('trackid')['artistid'].to_dict()\n",
        "    artist2tracks_map = gt_meta_info.groupby('artistid').agg(list)['trackid'].to_dict()\n",
        "    ndcg_list = []\n",
        "    for query_trackid in tqdm(submission.keys()):\n",
        "        ranked_list = submission[query_trackid]\n",
        "        query_artistid = track2artist_map[query_trackid]\n",
        "        query_artist_tracks_count = len(artist2tracks_map[query_artistid])\n",
        "        ideal_dcg = get_ideal_dcg(query_artist_tracks_count-1, top_size=top_size)\n",
        "        dcg = compute_dcg(query_trackid, ranked_list, track2artist_map, top_size=top_size)\n",
        "        try:\n",
        "            ndcg_list.append(dcg/ideal_dcg)\n",
        "        except ZeroDivisionError:\n",
        "            continue\n",
        "    return np.mean(ndcg_list)\n"
      ],
      "metadata": {
        "id": "YfsRBIlbTWf_"
      },
      "execution_count": 9,
      "outputs": []
    },
    {
      "cell_type": "code",
      "source": [
        "def train(module, train_loader, val_loader, valset_meta, optimizer, criterion, num_epochs, checkpoint_path, top_size = 100):\n",
        "    max_ndcg = None\n",
        "    losses = []\n",
        "    metric1 = []\n",
        "    metric2 = []\n",
        "    for epoch in range(num_epochs):\n",
        "        for batch in tqdm(train_loader):\n",
        "            optimizer.zero_grad()\n",
        "            module.train()\n",
        "            x_i, x_j = batch[:, 0, :, :], batch[:, 1, :, :]\n",
        "            h_i, h_j, z_i, z_j = module(x_i, x_j)\n",
        "            loss, avg_rank = criterion(z_i, z_j)\n",
        "            loss.backward()\n",
        "            optimizer.step()\n",
        "            print(\"Epoch {}/{}\".format(epoch+1, num_epochs))\n",
        "            print(\"loss: {}\".format(loss))\n",
        "            print(\"avg_rank: {}\".format(avg_rank))\n",
        "            print()\n",
        "            losses.append(loss.item())\n",
        "        \n",
        "        with torch.no_grad():\n",
        "            model_encoder = module.encoder\n",
        "            embeds_encoder = inference(model_encoder, val_loader)\n",
        "            ranked_list_encoder = get_ranked_list(embeds_encoder, top_size)\n",
        "            val_ndcg_encoder = eval_submission(ranked_list_encoder, valset_meta)\n",
        "            \n",
        "            model_projector = nn.Sequential(module.encoder, module.projector)\n",
        "            embeds_projector = inference(model_projector, val_loader)\n",
        "            ranked_list_projector = get_ranked_list(embeds_projector, top_size)\n",
        "            val_ndcg_projector = eval_submission(ranked_list_projector, valset_meta)\n",
        "            \n",
        "            print(\"Validation nDCG on epoch {}\".format(epoch))\n",
        "            print(\"Encoder - {}\".format(val_ndcg_encoder))\n",
        "            print(\"Projector - {}\".format(val_ndcg_projector))\n",
        "            if (max_ndcg is None) or (val_ndcg_encoder > max_ndcg):\n",
        "                max_ndcg = val_ndcg_encoder\n",
        "                torch.save(model_encoder.state_dict(), checkpoint_path)\n",
        "            metric1.append(val_ndcg_encoder)\n",
        "            metric2.append(val_ndcg_projector)\n",
        "    return losses, metric1, metric2\n",
        "def save_submission(submission, submission_path):\n",
        "    with open(submission_path, 'w') as f:\n",
        "        for query_trackid, result in submission.items():\n",
        "            f.write(\"{}\\t{}\\n\".format(query_trackid, \" \".join(map(str, result))))"
      ],
      "metadata": {
        "id": "ItXyIiD3TKJj"
      },
      "execution_count": 10,
      "outputs": []
    },
    {
      "cell_type": "code",
      "source": [
        "# Train & Inference functions\n",
        "\n",
        "class BasicNet(nn.Module):\n",
        "    def __init__(self, output_features_size):\n",
        "        super().__init__()\n",
        "        self.output_features_size = output_features_size\n",
        "        self.kernel = 3\n",
        "        self.conv_1 = nn.Conv1d(512, output_features_size, kernel_size=self.kernel, padding=1)\n",
        "        self.conv_2 = nn.Conv1d(output_features_size, output_features_size, kernel_size=self.kernel, padding=1)\n",
        "        self.mp_1 = nn.MaxPool1d(2, 2)\n",
        "        self.conv_3 = nn.Conv1d(output_features_size, output_features_size//2, kernel_size=self.kernel, padding=1)\n",
        "        self.conv_4 = nn.Conv1d(output_features_size//2, output_features_size//2, kernel_size=self.kernel, padding=1)\n",
        "        self.mp_2 = nn.MaxPool1d(2, 2)\n",
        "        self.conv_5 = nn.Conv1d(output_features_size//2, output_features_size//2, kernel_size=self.kernel, padding=1)\n",
        "        self.conv_6 = nn.Conv1d(output_features_size//2, output_features_size//2, kernel_size=self.kernel, padding=1)\n",
        "\n",
        "        self.mp_3 = nn.MaxPool1d(2, 2)\n",
        "        self.conv_7 = nn.Conv1d(output_features_size//4, output_features_size//8, kernel_size=self.kernel, padding=1)\n",
        "        self.conv_8 = nn.Conv1d(output_features_size//8, output_features_size//8, kernel_size=self.kernel, padding=1)\n",
        "\n",
        "    def forward(self, x):\n",
        "        x = F.relu(self.conv_1(x))\n",
        "        x = F.relu(self.conv_2(x))\n",
        "        x = self.mp_1(x)\n",
        "        x = F.relu(self.conv_3(x))\n",
        "        x = F.relu(self.conv_4(x))\n",
        "        x = self.mp_2(x)\n",
        "        x = F.relu(self.conv_5(x))\n",
        "        x = (self.conv_6(x)).mean(axis = 2)\n",
        "        '''  x = self.mp_3(x)\n",
        "        x = F.relu(self.conv_7(x))\n",
        "        x = F.relu(self.conv_8(x))'''\n",
        "        return x\n",
        "\n",
        "class SimCLR(nn.Module):\n",
        "    def __init__(self, encoder, projection_dim):\n",
        "        super().__init__()\n",
        "        self.encoder = encoder\n",
        "        self.n_features = encoder.output_features_size // 2\n",
        "        self.projection_dim = projection_dim\n",
        "        self.projector = nn.Sequential(\n",
        "            nn.Linear(self.n_features, self.n_features, bias=False),\n",
        "            nn.ReLU(),\n",
        "            nn.Linear(self.n_features, self.n_features, bias=False),\n",
        "            nn.ReLU(),\n",
        "            nn.Linear(self.n_features, self.projection_dim, bias=False),\n",
        "        )\n",
        "        \n",
        "    def forward(self, x_i, x_j):\n",
        "        h_i = self.encoder(x_i)#.view(-1, 64*15)\n",
        "        h_j = self.encoder(x_j)#.view(-1, 64*15)\n",
        "        #print(x_i.shape)\n",
        "\n",
        "        print('h_i.shape: ', h_i.shape)\n",
        "        #print(h_j.shape)\n",
        "        \n",
        "        z_i = self.projector(h_i)\n",
        "        z_j = self.projector(h_j)\n",
        "        #z_i = self.projector(h_i.view(-1, 64*15))\n",
        "        #z_j = self.projector(h_j.view(-1, 64*15))\n",
        "        return h_i, h_j, z_i, z_j\n",
        "#(32768x15 and 64x64)\n",
        "def inference(model, loader):\n",
        "    embeds = dict()\n",
        "    for tracks_ids, tracks_features in loader:\n",
        "        with torch.no_grad():\n",
        "            tracks_embeds = model(tracks_features)#.view(-1, 64*15)\n",
        "            for track_id, track_embed in zip(tracks_ids, tracks_embeds):\n",
        "                embeds[track_id] = track_embed.cpu().numpy()\n",
        "    return embeds\n",
        "def inference1(model, loader):\n",
        "    embeds = dict()\n",
        "    for tracks_ids, tracks_features in loader:\n",
        "        with torch.no_grad():\n",
        "            tracks_embeds = model[1](model[0](tracks_features).view(-1, 64*15))\n",
        "            for track_id, track_embed in zip(tracks_ids, tracks_embeds):\n",
        "                embeds[track_id] = track_embed.cpu().numpy()\n",
        "    return embeds"
      ],
      "metadata": {
        "id": "9hfFqEDWTSO_"
      },
      "execution_count": 29,
      "outputs": []
    },
    {
      "cell_type": "code",
      "source": [
        "\n",
        "#parser = ArgumentParser(description='Simple naive baseline')\n",
        "#parser.add_argument('--base-dir', dest='base_dir', action='store', required=True)\n",
        "#args = parser.parse_args()\n",
        "\n",
        "base_dir = '/content'\n",
        "    # Seed\n",
        "seed = 42\n",
        "random.seed(seed)\n",
        "np.random.seed(seed)\n",
        "torch.manual_seed(seed)\n",
        "torch.cuda.manual_seed(seed)\n",
        "torch.cuda.manual_seed_all(seed)\n",
        "torch.backends.cudnn.benchmark = False\n",
        "torch.backends.cudnn.deterministic = True\n",
        "\n",
        "TRAINSET_DIRNAME = 'train_features'\n",
        "TESTSET_DIRNAME = 'test_features'\n",
        "TRAINSET_META_FILENAME = 'train_meta.tsv'\n",
        "TESTSET_META_FILENAME = 'test_meta.tsv'\n",
        "SUBMISSION_FILENAME = 'submission.txt'\n",
        "MODEL_FILENAME = 'model.pt'\n",
        "CHECKPOINT_FILENAME = 'best.pt'\n",
        "device = 'cuda' if torch.cuda.is_available() else 'cpu'\n",
        "\n",
        "BATCH_SIZE = 512\n",
        "N_CHANNELS = 512\n",
        "PROJECTION_DIM = 128\n",
        "NUM_EPOCHS = 20\n",
        "LR = 1e-4\n",
        "TEMPERATURE = 0.1\n",
        "\n",
        "TRAINSET_PATH = os.path.join(base_dir, TRAINSET_DIRNAME)\n",
        "TESTSET_PATH = os.path.join(base_dir, TESTSET_DIRNAME)\n",
        "TRAINSET_META_PATH = os.path.join(base_dir, TRAINSET_META_FILENAME)\n",
        "TESTSET_META_PATH = os.path.join(base_dir, TESTSET_META_FILENAME)\n",
        "SUBMISSION_PATH = os.path.join(base_dir, SUBMISSION_FILENAME)\n",
        "MODEL_PATH = os.path.join(base_dir, MODEL_FILENAME)\n",
        "CHECKPOINT_PATH = os.path.join(base_dir, CHECKPOINT_FILENAME)"
      ],
      "metadata": {
        "id": "GRGWGFHQS71E"
      },
      "execution_count": 30,
      "outputs": []
    },
    {
      "cell_type": "code",
      "source": [
        "\n",
        "sim_clr = SimCLR(\n",
        "    encoder = BasicNet(N_CHANNELS),\n",
        "    projection_dim = PROJECTION_DIM\n",
        ").to(device)\n",
        "'''\n",
        "sim_clr = SimCLR(\n",
        "    encoder = autoen.encoder,\n",
        "    projection_dim = PROJECTION_DIM\n",
        ").to(device)'''\n",
        "train_meta_info = pd.read_csv(TRAINSET_META_PATH, sep='\\t')\n",
        "#test_meta_info = pd.read_csv(TESTSET_META_PATH, sep='\\t')\n",
        "train_meta_info, validation_meta_info = train_val_split(train_meta_info, val_size=0.2)\n",
        "\n",
        "print(\"Loaded data\")\n",
        "print(\"Train set size: {}\".format(len(train_meta_info)))\n",
        "print(\"Validation set size: {}\".format(len(validation_meta_info)))\n",
        "#print(\"Test set size: {}\".format(len(test_meta_info)))\n",
        "print()\n",
        "\n",
        "print(\"Train\")\n",
        "l,m1,m2 = train(\n",
        "        module = sim_clr,\n",
        "        train_loader = TrainLoader(FeaturesLoader(TRAINSET_PATH, train_meta_info, device), batch_size = BATCH_SIZE),\n",
        "        val_loader = TestLoader(FeaturesLoader(TRAINSET_PATH, validation_meta_info, device), batch_size = BATCH_SIZE),\n",
        "        valset_meta = validation_meta_info,\n",
        "        optimizer = torch.optim.Adam(sim_clr.parameters(), lr = LR),\n",
        "        criterion = NT_Xent(temperature = TEMPERATURE),\n",
        "        num_epochs = NUM_EPOCHS,\n",
        "        checkpoint_path = CHECKPOINT_PATH\n",
        ")\n",
        "\n",
        "print(\"Submission\")\n",
        "#test_loader = TestLoader(FeaturesLoader(TESTSET_PATH, test_meta_info, device), batch_size = BATCH_SIZE)\n",
        "#model = sim_clr.encoder\n",
        "#embeds = inference(model, test_loader)\n",
        "#submission = get_ranked_list(embeds, 100)\n",
        "#save_submission(submission, SUBMISSION_PATH)\n",
        "#torch.save(sim_clr.state_dict(), MODEL_PATH)"
      ],
      "metadata": {
        "id": "RJnI5PRWaSqp",
        "colab": {
          "base_uri": "https://localhost:8080/",
          "height": 1000
        },
        "outputId": "d9c27eed-b2c5-44df-e249-22cd3fffa30f"
      },
      "execution_count": 31,
      "outputs": [
        {
          "output_type": "stream",
          "name": "stdout",
          "text": [
            "Loaded data\n",
            "Train set size: 39917\n",
            "Validation set size: 9949\n",
            "\n",
            "Train\n"
          ]
        },
        {
          "output_type": "stream",
          "name": "stderr",
          "text": [
            "\r0it [00:00, ?it/s]"
          ]
        },
        {
          "output_type": "stream",
          "name": "stdout",
          "text": [
            "h_i.shape:  torch.Size([512, 256])\n",
            "Epoch 1/20\n"
          ]
        },
        {
          "output_type": "stream",
          "name": "stderr",
          "text": [
            "\r1it [00:00,  1.14it/s]"
          ]
        },
        {
          "output_type": "stream",
          "name": "stdout",
          "text": [
            "loss: 6.9263458251953125\n",
            "avg_rank: 228.251953125\n",
            "\n",
            "h_i.shape:  torch.Size([512, 256])\n",
            "Epoch 1/20\n"
          ]
        },
        {
          "output_type": "stream",
          "name": "stderr",
          "text": [
            "\r2it [00:02,  1.15s/it]"
          ]
        },
        {
          "output_type": "stream",
          "name": "stdout",
          "text": [
            "loss: 6.903179168701172\n",
            "avg_rank: 211.05078125\n",
            "\n",
            "h_i.shape:  torch.Size([512, 256])\n",
            "Epoch 1/20\n"
          ]
        },
        {
          "output_type": "stream",
          "name": "stderr",
          "text": [
            "\r3it [00:03,  1.32s/it]"
          ]
        },
        {
          "output_type": "stream",
          "name": "stdout",
          "text": [
            "loss: 6.833527088165283\n",
            "avg_rank: 238.9345703125\n",
            "\n",
            "h_i.shape:  torch.Size([512, 256])\n",
            "Epoch 1/20\n"
          ]
        },
        {
          "output_type": "stream",
          "name": "stderr",
          "text": [
            "\r4it [00:05,  1.38s/it]"
          ]
        },
        {
          "output_type": "stream",
          "name": "stdout",
          "text": [
            "loss: 6.665369987487793\n",
            "avg_rank: 235.99609375\n",
            "\n",
            "h_i.shape:  torch.Size([512, 256])\n",
            "Epoch 1/20\n"
          ]
        },
        {
          "output_type": "stream",
          "name": "stderr",
          "text": [
            "\r5it [00:06,  1.46s/it]"
          ]
        },
        {
          "output_type": "stream",
          "name": "stdout",
          "text": [
            "loss: 6.490097522735596\n",
            "avg_rank: 223.974609375\n",
            "\n",
            "h_i.shape:  torch.Size([512, 256])\n",
            "Epoch 1/20\n"
          ]
        },
        {
          "output_type": "stream",
          "name": "stderr",
          "text": [
            "\r6it [00:07,  1.36s/it]"
          ]
        },
        {
          "output_type": "stream",
          "name": "stdout",
          "text": [
            "loss: 6.488837718963623\n",
            "avg_rank: 213.39453125\n",
            "\n",
            "h_i.shape:  torch.Size([512, 256])\n",
            "Epoch 1/20\n"
          ]
        },
        {
          "output_type": "stream",
          "name": "stderr",
          "text": [
            "\r7it [00:09,  1.37s/it]"
          ]
        },
        {
          "output_type": "stream",
          "name": "stdout",
          "text": [
            "loss: 6.380151271820068\n",
            "avg_rank: 194.880859375\n",
            "\n",
            "h_i.shape:  torch.Size([512, 256])\n",
            "Epoch 1/20\n"
          ]
        },
        {
          "output_type": "stream",
          "name": "stderr",
          "text": [
            "\r8it [00:10,  1.36s/it]"
          ]
        },
        {
          "output_type": "stream",
          "name": "stdout",
          "text": [
            "loss: 6.226036071777344\n",
            "avg_rank: 178.642578125\n",
            "\n",
            "h_i.shape:  torch.Size([512, 256])\n",
            "Epoch 1/20\n"
          ]
        },
        {
          "output_type": "stream",
          "name": "stderr",
          "text": [
            "\r9it [00:12,  1.36s/it]"
          ]
        },
        {
          "output_type": "stream",
          "name": "stdout",
          "text": [
            "loss: 6.26423978805542\n",
            "avg_rank: 204.1357421875\n",
            "\n",
            "h_i.shape:  torch.Size([512, 256])\n",
            "Epoch 1/20\n"
          ]
        },
        {
          "output_type": "stream",
          "name": "stderr",
          "text": [
            "\r10it [00:13,  1.34s/it]"
          ]
        },
        {
          "output_type": "stream",
          "name": "stdout",
          "text": [
            "loss: 6.2856245040893555\n",
            "avg_rank: 211.3154296875\n",
            "\n",
            "h_i.shape:  torch.Size([512, 256])\n",
            "Epoch 1/20\n"
          ]
        },
        {
          "output_type": "stream",
          "name": "stderr",
          "text": [
            "\r11it [00:14,  1.29s/it]"
          ]
        },
        {
          "output_type": "stream",
          "name": "stdout",
          "text": [
            "loss: 6.112992286682129\n",
            "avg_rank: 178.3115234375\n",
            "\n",
            "h_i.shape:  torch.Size([512, 256])\n",
            "Epoch 1/20\n"
          ]
        },
        {
          "output_type": "stream",
          "name": "stderr",
          "text": [
            "\r12it [00:15,  1.30s/it]"
          ]
        },
        {
          "output_type": "stream",
          "name": "stdout",
          "text": [
            "loss: 6.020935535430908\n",
            "avg_rank: 165.900390625\n",
            "\n",
            "h_i.shape:  torch.Size([512, 256])\n",
            "Epoch 1/20\n"
          ]
        },
        {
          "output_type": "stream",
          "name": "stderr",
          "text": [
            "\r13it [00:17,  1.28s/it]"
          ]
        },
        {
          "output_type": "stream",
          "name": "stdout",
          "text": [
            "loss: 6.067806243896484\n",
            "avg_rank: 173.166015625\n",
            "\n",
            "h_i.shape:  torch.Size([512, 256])\n",
            "Epoch 1/20\n"
          ]
        },
        {
          "output_type": "stream",
          "name": "stderr",
          "text": [
            "\r14it [00:18,  1.27s/it]"
          ]
        },
        {
          "output_type": "stream",
          "name": "stdout",
          "text": [
            "loss: 5.969217777252197\n",
            "avg_rank: 159.6611328125\n",
            "\n",
            "h_i.shape:  torch.Size([512, 256])\n",
            "Epoch 1/20\n"
          ]
        },
        {
          "output_type": "stream",
          "name": "stderr",
          "text": [
            "\r15it [00:19,  1.26s/it]"
          ]
        },
        {
          "output_type": "stream",
          "name": "stdout",
          "text": [
            "loss: 6.084236145019531\n",
            "avg_rank: 178.0126953125\n",
            "\n",
            "h_i.shape:  torch.Size([512, 256])\n",
            "Epoch 1/20\n"
          ]
        },
        {
          "output_type": "stream",
          "name": "stderr",
          "text": [
            "\r16it [00:20,  1.27s/it]"
          ]
        },
        {
          "output_type": "stream",
          "name": "stdout",
          "text": [
            "loss: 5.868274688720703\n",
            "avg_rank: 143.4609375\n",
            "\n",
            "h_i.shape:  torch.Size([512, 256])\n",
            "Epoch 1/20\n"
          ]
        },
        {
          "output_type": "stream",
          "name": "stderr",
          "text": [
            "\r17it [00:22,  1.30s/it]"
          ]
        },
        {
          "output_type": "stream",
          "name": "stdout",
          "text": [
            "loss: 5.972853660583496\n",
            "avg_rank: 160.416015625\n",
            "\n",
            "h_i.shape:  torch.Size([512, 256])\n",
            "Epoch 1/20\n"
          ]
        },
        {
          "output_type": "stream",
          "name": "stderr",
          "text": [
            "\r18it [00:23,  1.32s/it]"
          ]
        },
        {
          "output_type": "stream",
          "name": "stdout",
          "text": [
            "loss: 5.901675701141357\n",
            "avg_rank: 146.994140625\n",
            "\n",
            "h_i.shape:  torch.Size([512, 256])\n",
            "Epoch 1/20\n"
          ]
        },
        {
          "output_type": "stream",
          "name": "stderr",
          "text": [
            "\r19it [00:26,  1.83s/it]"
          ]
        },
        {
          "output_type": "stream",
          "name": "stdout",
          "text": [
            "loss: 5.744039058685303\n",
            "avg_rank: 137.19921875\n",
            "\n",
            "h_i.shape:  torch.Size([512, 256])\n",
            "Epoch 1/20\n"
          ]
        },
        {
          "output_type": "stream",
          "name": "stderr",
          "text": [
            "\r20it [00:29,  2.20s/it]"
          ]
        },
        {
          "output_type": "stream",
          "name": "stdout",
          "text": [
            "loss: 5.869012355804443\n",
            "avg_rank: 153.037109375\n",
            "\n",
            "h_i.shape:  torch.Size([512, 256])\n",
            "Epoch 1/20\n"
          ]
        },
        {
          "output_type": "stream",
          "name": "stderr",
          "text": [
            "\r21it [00:32,  2.45s/it]"
          ]
        },
        {
          "output_type": "stream",
          "name": "stdout",
          "text": [
            "loss: 5.797178745269775\n",
            "avg_rank: 140.0439453125\n",
            "\n",
            "h_i.shape:  torch.Size([512, 256])\n",
            "Epoch 1/20\n"
          ]
        },
        {
          "output_type": "stream",
          "name": "stderr",
          "text": [
            "\r22it [00:35,  2.63s/it]"
          ]
        },
        {
          "output_type": "stream",
          "name": "stdout",
          "text": [
            "loss: 5.775158882141113\n",
            "avg_rank: 145.158203125\n",
            "\n",
            "h_i.shape:  torch.Size([512, 256])\n",
            "Epoch 1/20\n"
          ]
        },
        {
          "output_type": "stream",
          "name": "stderr",
          "text": [
            "\r23it [00:38,  2.77s/it]"
          ]
        },
        {
          "output_type": "stream",
          "name": "stdout",
          "text": [
            "loss: 5.77504301071167\n",
            "avg_rank: 133.40234375\n",
            "\n",
            "h_i.shape:  torch.Size([512, 256])\n",
            "Epoch 1/20\n"
          ]
        },
        {
          "output_type": "stream",
          "name": "stderr",
          "text": [
            "\r24it [00:42,  2.90s/it]"
          ]
        },
        {
          "output_type": "stream",
          "name": "stdout",
          "text": [
            "loss: 5.821510314941406\n",
            "avg_rank: 144.5595703125\n",
            "\n",
            "h_i.shape:  torch.Size([512, 256])\n",
            "Epoch 1/20\n"
          ]
        },
        {
          "output_type": "stream",
          "name": "stderr",
          "text": [
            "\r25it [00:45,  2.92s/it]"
          ]
        },
        {
          "output_type": "stream",
          "name": "stdout",
          "text": [
            "loss: 5.6391191482543945\n",
            "avg_rank: 119.017578125\n",
            "\n",
            "h_i.shape:  torch.Size([512, 256])\n",
            "Epoch 1/20\n"
          ]
        },
        {
          "output_type": "stream",
          "name": "stderr",
          "text": [
            "\r26it [00:48,  2.99s/it]"
          ]
        },
        {
          "output_type": "stream",
          "name": "stdout",
          "text": [
            "loss: 5.7517409324646\n",
            "avg_rank: 135.65625\n",
            "\n",
            "h_i.shape:  torch.Size([512, 256])\n",
            "Epoch 1/20\n"
          ]
        },
        {
          "output_type": "stream",
          "name": "stderr",
          "text": [
            "\r27it [00:51,  3.02s/it]"
          ]
        },
        {
          "output_type": "stream",
          "name": "stdout",
          "text": [
            "loss: 5.52356481552124\n",
            "avg_rank: 109.9765625\n",
            "\n",
            "h_i.shape:  torch.Size([512, 256])\n",
            "Epoch 1/20\n"
          ]
        },
        {
          "output_type": "stream",
          "name": "stderr",
          "text": [
            "\r28it [00:54,  3.05s/it]"
          ]
        },
        {
          "output_type": "stream",
          "name": "stdout",
          "text": [
            "loss: 5.632089138031006\n",
            "avg_rank: 127.908203125\n",
            "\n",
            "h_i.shape:  torch.Size([512, 256])\n",
            "Epoch 1/20\n"
          ]
        },
        {
          "output_type": "stream",
          "name": "stderr",
          "text": [
            "\r29it [00:57,  3.05s/it]"
          ]
        },
        {
          "output_type": "stream",
          "name": "stdout",
          "text": [
            "loss: 5.564705848693848\n",
            "avg_rank: 112.8095703125\n",
            "\n",
            "h_i.shape:  torch.Size([512, 256])\n",
            "Epoch 1/20\n"
          ]
        },
        {
          "output_type": "stream",
          "name": "stderr",
          "text": [
            "\r30it [01:00,  3.06s/it]"
          ]
        },
        {
          "output_type": "stream",
          "name": "stdout",
          "text": [
            "loss: 5.686263084411621\n",
            "avg_rank: 130.2509765625\n",
            "\n",
            "h_i.shape:  torch.Size([512, 256])\n",
            "Epoch 1/20\n"
          ]
        },
        {
          "output_type": "stream",
          "name": "stderr",
          "text": [
            "\r31it [01:03,  3.06s/it]"
          ]
        },
        {
          "output_type": "stream",
          "name": "stdout",
          "text": [
            "loss: 5.694615840911865\n",
            "avg_rank: 132.9853515625\n",
            "\n",
            "h_i.shape:  torch.Size([512, 256])\n",
            "Epoch 1/20\n"
          ]
        },
        {
          "output_type": "stream",
          "name": "stderr",
          "text": [
            "\r32it [01:06,  3.03s/it]"
          ]
        },
        {
          "output_type": "stream",
          "name": "stdout",
          "text": [
            "loss: 5.536523342132568\n",
            "avg_rank: 115.4833984375\n",
            "\n",
            "h_i.shape:  torch.Size([512, 256])\n",
            "Epoch 1/20\n"
          ]
        },
        {
          "output_type": "stream",
          "name": "stderr",
          "text": [
            "\r33it [01:09,  3.01s/it]"
          ]
        },
        {
          "output_type": "stream",
          "name": "stdout",
          "text": [
            "loss: 5.45603084564209\n",
            "avg_rank: 103.7421875\n",
            "\n",
            "h_i.shape:  torch.Size([512, 256])\n",
            "Epoch 1/20\n"
          ]
        },
        {
          "output_type": "stream",
          "name": "stderr",
          "text": [
            "\r34it [01:12,  3.00s/it]"
          ]
        },
        {
          "output_type": "stream",
          "name": "stdout",
          "text": [
            "loss: 5.441108703613281\n",
            "avg_rank: 101.796875\n",
            "\n",
            "h_i.shape:  torch.Size([512, 256])\n",
            "Epoch 1/20\n"
          ]
        },
        {
          "output_type": "stream",
          "name": "stderr",
          "text": [
            "\r35it [01:15,  3.00s/it]"
          ]
        },
        {
          "output_type": "stream",
          "name": "stdout",
          "text": [
            "loss: 5.368776321411133\n",
            "avg_rank: 96.603515625\n",
            "\n",
            "h_i.shape:  torch.Size([512, 256])\n",
            "Epoch 1/20\n"
          ]
        },
        {
          "output_type": "stream",
          "name": "stderr",
          "text": [
            "\r36it [01:18,  3.07s/it]"
          ]
        },
        {
          "output_type": "stream",
          "name": "stdout",
          "text": [
            "loss: 5.574187755584717\n",
            "avg_rank: 116.66015625\n",
            "\n",
            "h_i.shape:  torch.Size([512, 256])\n",
            "Epoch 1/20\n"
          ]
        },
        {
          "output_type": "stream",
          "name": "stderr",
          "text": [
            "\r37it [01:21,  3.02s/it]"
          ]
        },
        {
          "output_type": "stream",
          "name": "stdout",
          "text": [
            "loss: 5.452696323394775\n",
            "avg_rank: 110.9736328125\n",
            "\n",
            "h_i.shape:  torch.Size([512, 256])\n",
            "Epoch 1/20\n"
          ]
        },
        {
          "output_type": "stream",
          "name": "stderr",
          "text": [
            "38it [01:24,  2.23s/it]\n"
          ]
        },
        {
          "output_type": "stream",
          "name": "stdout",
          "text": [
            "loss: 5.52393102645874\n",
            "avg_rank: 116.013671875\n",
            "\n"
          ]
        },
        {
          "output_type": "stream",
          "name": "stderr",
          "text": [
            "100%|██████████| 9949/9949 [00:24<00:00, 403.69it/s]\n",
            "100%|██████████| 9949/9949 [00:01<00:00, 5667.48it/s]\n",
            "100%|██████████| 9949/9949 [00:05<00:00, 1731.81it/s]\n",
            "100%|██████████| 9949/9949 [00:01<00:00, 5553.14it/s]\n"
          ]
        },
        {
          "output_type": "stream",
          "name": "stdout",
          "text": [
            "Validation nDCG on epoch 0\n",
            "Encoder - 0.17741076013494106\n",
            "Projector - 0.17109454068135788\n"
          ]
        },
        {
          "output_type": "stream",
          "name": "stderr",
          "text": [
            "\r0it [00:00, ?it/s]"
          ]
        },
        {
          "output_type": "stream",
          "name": "stdout",
          "text": [
            "h_i.shape:  torch.Size([512, 256])\n",
            "Epoch 2/20\n"
          ]
        },
        {
          "output_type": "stream",
          "name": "stderr",
          "text": [
            "\r1it [00:02,  2.88s/it]"
          ]
        },
        {
          "output_type": "stream",
          "name": "stdout",
          "text": [
            "loss: 5.478720664978027\n",
            "avg_rank: 113.2587890625\n",
            "\n",
            "h_i.shape:  torch.Size([512, 256])\n",
            "Epoch 2/20\n"
          ]
        },
        {
          "output_type": "stream",
          "name": "stderr",
          "text": [
            "\r2it [00:05,  2.79s/it]"
          ]
        },
        {
          "output_type": "stream",
          "name": "stdout",
          "text": [
            "loss: 5.501997947692871\n",
            "avg_rank: 118.5888671875\n",
            "\n",
            "h_i.shape:  torch.Size([512, 256])\n",
            "Epoch 2/20\n"
          ]
        },
        {
          "output_type": "stream",
          "name": "stderr",
          "text": [
            "\r3it [00:08,  2.78s/it]"
          ]
        },
        {
          "output_type": "stream",
          "name": "stdout",
          "text": [
            "loss: 5.583050727844238\n",
            "avg_rank: 116.3544921875\n",
            "\n",
            "h_i.shape:  torch.Size([512, 256])\n",
            "Epoch 2/20\n"
          ]
        },
        {
          "output_type": "stream",
          "name": "stderr",
          "text": [
            "\r4it [00:11,  2.77s/it]"
          ]
        },
        {
          "output_type": "stream",
          "name": "stdout",
          "text": [
            "loss: 5.376561164855957\n",
            "avg_rank: 99.572265625\n",
            "\n",
            "h_i.shape:  torch.Size([512, 256])\n",
            "Epoch 2/20\n"
          ]
        },
        {
          "output_type": "stream",
          "name": "stderr",
          "text": [
            "\r5it [00:13,  2.74s/it]"
          ]
        },
        {
          "output_type": "stream",
          "name": "stdout",
          "text": [
            "loss: 5.290171146392822\n",
            "avg_rank: 92.166015625\n",
            "\n",
            "h_i.shape:  torch.Size([512, 256])\n",
            "Epoch 2/20\n"
          ]
        },
        {
          "output_type": "stream",
          "name": "stderr",
          "text": [
            "\r6it [00:16,  2.75s/it]"
          ]
        },
        {
          "output_type": "stream",
          "name": "stdout",
          "text": [
            "loss: 5.329582691192627\n",
            "avg_rank: 94.0849609375\n",
            "\n",
            "h_i.shape:  torch.Size([512, 256])\n",
            "Epoch 2/20\n"
          ]
        },
        {
          "output_type": "stream",
          "name": "stderr",
          "text": [
            "\r7it [00:19,  2.72s/it]"
          ]
        },
        {
          "output_type": "stream",
          "name": "stdout",
          "text": [
            "loss: 5.211596488952637\n",
            "avg_rank: 85.095703125\n",
            "\n",
            "h_i.shape:  torch.Size([512, 256])\n",
            "Epoch 2/20\n"
          ]
        },
        {
          "output_type": "stream",
          "name": "stderr",
          "text": [
            "\r8it [00:21,  2.72s/it]"
          ]
        },
        {
          "output_type": "stream",
          "name": "stdout",
          "text": [
            "loss: 5.316194534301758\n",
            "avg_rank: 100.44140625\n",
            "\n",
            "h_i.shape:  torch.Size([512, 256])\n",
            "Epoch 2/20\n"
          ]
        },
        {
          "output_type": "stream",
          "name": "stderr",
          "text": [
            "\r9it [00:24,  2.72s/it]"
          ]
        },
        {
          "output_type": "stream",
          "name": "stdout",
          "text": [
            "loss: 5.331210136413574\n",
            "avg_rank: 101.158203125\n",
            "\n",
            "h_i.shape:  torch.Size([512, 256])\n",
            "Epoch 2/20\n"
          ]
        },
        {
          "output_type": "stream",
          "name": "stderr",
          "text": [
            "\r10it [00:27,  2.74s/it]"
          ]
        },
        {
          "output_type": "stream",
          "name": "stdout",
          "text": [
            "loss: 5.457351207733154\n",
            "avg_rank: 115.5546875\n",
            "\n",
            "h_i.shape:  torch.Size([512, 256])\n",
            "Epoch 2/20\n"
          ]
        },
        {
          "output_type": "stream",
          "name": "stderr",
          "text": [
            "\r11it [00:30,  2.78s/it]"
          ]
        },
        {
          "output_type": "stream",
          "name": "stdout",
          "text": [
            "loss: 5.270167827606201\n",
            "avg_rank: 98.3955078125\n",
            "\n",
            "h_i.shape:  torch.Size([512, 256])\n",
            "Epoch 2/20\n"
          ]
        },
        {
          "output_type": "stream",
          "name": "stderr",
          "text": [
            "\r12it [00:33,  2.78s/it]"
          ]
        },
        {
          "output_type": "stream",
          "name": "stdout",
          "text": [
            "loss: 5.366997241973877\n",
            "avg_rank: 103.263671875\n",
            "\n",
            "h_i.shape:  torch.Size([512, 256])\n",
            "Epoch 2/20\n"
          ]
        },
        {
          "output_type": "stream",
          "name": "stderr",
          "text": [
            "\r13it [00:35,  2.79s/it]"
          ]
        },
        {
          "output_type": "stream",
          "name": "stdout",
          "text": [
            "loss: 5.327271461486816\n",
            "avg_rank: 105.68359375\n",
            "\n",
            "h_i.shape:  torch.Size([512, 256])\n",
            "Epoch 2/20\n"
          ]
        },
        {
          "output_type": "stream",
          "name": "stderr",
          "text": [
            "\r14it [00:38,  2.85s/it]"
          ]
        },
        {
          "output_type": "stream",
          "name": "stdout",
          "text": [
            "loss: 5.288156986236572\n",
            "avg_rank: 96.203125\n",
            "\n",
            "h_i.shape:  torch.Size([512, 256])\n",
            "Epoch 2/20\n"
          ]
        },
        {
          "output_type": "stream",
          "name": "stderr",
          "text": [
            "\r15it [00:41,  2.84s/it]"
          ]
        },
        {
          "output_type": "stream",
          "name": "stdout",
          "text": [
            "loss: 5.399505138397217\n",
            "avg_rank: 108.6865234375\n",
            "\n",
            "h_i.shape:  torch.Size([512, 256])\n",
            "Epoch 2/20\n"
          ]
        },
        {
          "output_type": "stream",
          "name": "stderr",
          "text": [
            "\r16it [00:44,  2.82s/it]"
          ]
        },
        {
          "output_type": "stream",
          "name": "stdout",
          "text": [
            "loss: 5.32099723815918\n",
            "avg_rank: 96.447265625\n",
            "\n",
            "h_i.shape:  torch.Size([512, 256])\n",
            "Epoch 2/20\n"
          ]
        },
        {
          "output_type": "stream",
          "name": "stderr",
          "text": [
            "\r17it [00:47,  2.79s/it]"
          ]
        },
        {
          "output_type": "stream",
          "name": "stdout",
          "text": [
            "loss: 5.358978748321533\n",
            "avg_rank: 98.736328125\n",
            "\n",
            "h_i.shape:  torch.Size([512, 256])\n",
            "Epoch 2/20\n"
          ]
        },
        {
          "output_type": "stream",
          "name": "stderr",
          "text": [
            "\r18it [00:49,  2.74s/it]"
          ]
        },
        {
          "output_type": "stream",
          "name": "stdout",
          "text": [
            "loss: 5.21854305267334\n",
            "avg_rank: 85.28515625\n",
            "\n",
            "h_i.shape:  torch.Size([512, 256])\n",
            "Epoch 2/20\n"
          ]
        },
        {
          "output_type": "stream",
          "name": "stderr",
          "text": [
            "\r19it [00:52,  2.71s/it]"
          ]
        },
        {
          "output_type": "stream",
          "name": "stdout",
          "text": [
            "loss: 5.2668633460998535\n",
            "avg_rank: 97.69140625\n",
            "\n",
            "h_i.shape:  torch.Size([512, 256])\n",
            "Epoch 2/20\n"
          ]
        },
        {
          "output_type": "stream",
          "name": "stderr",
          "text": [
            "\r20it [00:55,  2.68s/it]"
          ]
        },
        {
          "output_type": "stream",
          "name": "stdout",
          "text": [
            "loss: 5.3162665367126465\n",
            "avg_rank: 100.6875\n",
            "\n",
            "h_i.shape:  torch.Size([512, 256])\n",
            "Epoch 2/20\n"
          ]
        },
        {
          "output_type": "stream",
          "name": "stderr",
          "text": [
            "\r21it [00:57,  2.67s/it]"
          ]
        },
        {
          "output_type": "stream",
          "name": "stdout",
          "text": [
            "loss: 5.242697715759277\n",
            "avg_rank: 92.0947265625\n",
            "\n",
            "h_i.shape:  torch.Size([512, 256])\n",
            "Epoch 2/20\n"
          ]
        },
        {
          "output_type": "stream",
          "name": "stderr",
          "text": [
            "\r22it [01:00,  2.67s/it]"
          ]
        },
        {
          "output_type": "stream",
          "name": "stdout",
          "text": [
            "loss: 5.261044025421143\n",
            "avg_rank: 96.505859375\n",
            "\n",
            "h_i.shape:  torch.Size([512, 256])\n",
            "Epoch 2/20\n"
          ]
        },
        {
          "output_type": "stream",
          "name": "stderr",
          "text": [
            "\r23it [01:02,  2.63s/it]"
          ]
        },
        {
          "output_type": "stream",
          "name": "stdout",
          "text": [
            "loss: 5.213897228240967\n",
            "avg_rank: 91.3505859375\n",
            "\n",
            "h_i.shape:  torch.Size([512, 256])\n",
            "Epoch 2/20\n"
          ]
        },
        {
          "output_type": "stream",
          "name": "stderr",
          "text": [
            "\r24it [01:05,  2.63s/it]"
          ]
        },
        {
          "output_type": "stream",
          "name": "stdout",
          "text": [
            "loss: 5.183867454528809\n",
            "avg_rank: 88.9326171875\n",
            "\n",
            "h_i.shape:  torch.Size([512, 256])\n",
            "Epoch 2/20\n"
          ]
        },
        {
          "output_type": "stream",
          "name": "stderr",
          "text": [
            "\r25it [01:08,  2.62s/it]"
          ]
        },
        {
          "output_type": "stream",
          "name": "stdout",
          "text": [
            "loss: 5.140894412994385\n",
            "avg_rank: 85.1416015625\n",
            "\n",
            "h_i.shape:  torch.Size([512, 256])\n",
            "Epoch 2/20\n"
          ]
        },
        {
          "output_type": "stream",
          "name": "stderr",
          "text": [
            "\r26it [01:10,  2.64s/it]"
          ]
        },
        {
          "output_type": "stream",
          "name": "stdout",
          "text": [
            "loss: 5.25808048248291\n",
            "avg_rank: 94.828125\n",
            "\n",
            "h_i.shape:  torch.Size([512, 256])\n",
            "Epoch 2/20\n"
          ]
        },
        {
          "output_type": "stream",
          "name": "stderr",
          "text": [
            "\r27it [01:13,  2.66s/it]"
          ]
        },
        {
          "output_type": "stream",
          "name": "stdout",
          "text": [
            "loss: 5.019740104675293\n",
            "avg_rank: 79.05859375\n",
            "\n",
            "h_i.shape:  torch.Size([512, 256])\n",
            "Epoch 2/20\n"
          ]
        },
        {
          "output_type": "stream",
          "name": "stderr",
          "text": [
            "\r28it [01:16,  2.68s/it]"
          ]
        },
        {
          "output_type": "stream",
          "name": "stdout",
          "text": [
            "loss: 5.171271800994873\n",
            "avg_rank: 91.3779296875\n",
            "\n",
            "h_i.shape:  torch.Size([512, 256])\n",
            "Epoch 2/20\n"
          ]
        },
        {
          "output_type": "stream",
          "name": "stderr",
          "text": [
            "\r29it [01:18,  2.69s/it]"
          ]
        },
        {
          "output_type": "stream",
          "name": "stdout",
          "text": [
            "loss: 5.054427623748779\n",
            "avg_rank: 77.001953125\n",
            "\n",
            "h_i.shape:  torch.Size([512, 256])\n",
            "Epoch 2/20\n"
          ]
        },
        {
          "output_type": "stream",
          "name": "stderr",
          "text": [
            "\r30it [01:21,  2.70s/it]"
          ]
        },
        {
          "output_type": "stream",
          "name": "stdout",
          "text": [
            "loss: 5.050121784210205\n",
            "avg_rank: 80.41015625\n",
            "\n",
            "h_i.shape:  torch.Size([512, 256])\n",
            "Epoch 2/20\n",
            "loss: 5.291533470153809\n",
            "avg_rank: 99.572265625"
          ]
        },
        {
          "output_type": "stream",
          "name": "stderr",
          "text": [
            "\r31it [01:24,  2.69s/it]"
          ]
        },
        {
          "output_type": "stream",
          "name": "stdout",
          "text": [
            "\n",
            "\n",
            "h_i.shape:  torch.Size([512, 256])\n",
            "Epoch 2/20\n"
          ]
        },
        {
          "output_type": "stream",
          "name": "stderr",
          "text": [
            "\r32it [01:27,  2.72s/it]"
          ]
        },
        {
          "output_type": "stream",
          "name": "stdout",
          "text": [
            "loss: 5.137538433074951\n",
            "avg_rank: 88.0380859375\n",
            "\n",
            "h_i.shape:  torch.Size([512, 256])\n",
            "Epoch 2/20\n"
          ]
        },
        {
          "output_type": "stream",
          "name": "stderr",
          "text": [
            "\r33it [01:29,  2.67s/it]"
          ]
        },
        {
          "output_type": "stream",
          "name": "stdout",
          "text": [
            "loss: 5.114305019378662\n",
            "avg_rank: 80.6953125\n",
            "\n",
            "h_i.shape:  torch.Size([512, 256])\n",
            "Epoch 2/20\n"
          ]
        },
        {
          "output_type": "stream",
          "name": "stderr",
          "text": [
            "\r34it [01:32,  2.65s/it]"
          ]
        },
        {
          "output_type": "stream",
          "name": "stdout",
          "text": [
            "loss: 5.170990467071533\n",
            "avg_rank: 83.3623046875\n",
            "\n",
            "h_i.shape:  torch.Size([512, 256])\n",
            "Epoch 2/20\n"
          ]
        },
        {
          "output_type": "stream",
          "name": "stderr",
          "text": [
            "\r35it [01:34,  2.63s/it]"
          ]
        },
        {
          "output_type": "stream",
          "name": "stdout",
          "text": [
            "loss: 5.0064239501953125\n",
            "avg_rank: 72.4052734375\n",
            "\n",
            "h_i.shape:  torch.Size([512, 256])\n",
            "Epoch 2/20\n"
          ]
        },
        {
          "output_type": "stream",
          "name": "stderr",
          "text": [
            "\r36it [01:37,  2.63s/it]"
          ]
        },
        {
          "output_type": "stream",
          "name": "stdout",
          "text": [
            "loss: 5.206223964691162\n",
            "avg_rank: 92.4814453125\n",
            "\n",
            "h_i.shape:  torch.Size([512, 256])\n",
            "Epoch 2/20\n"
          ]
        },
        {
          "output_type": "stream",
          "name": "stderr",
          "text": [
            "\r37it [01:40,  2.60s/it]"
          ]
        },
        {
          "output_type": "stream",
          "name": "stdout",
          "text": [
            "loss: 5.132430553436279\n",
            "avg_rank: 87.541015625\n",
            "\n",
            "h_i.shape:  torch.Size([512, 256])\n",
            "Epoch 2/20\n"
          ]
        },
        {
          "output_type": "stream",
          "name": "stderr",
          "text": [
            "38it [01:42,  2.70s/it]\n"
          ]
        },
        {
          "output_type": "stream",
          "name": "stdout",
          "text": [
            "loss: 5.332015037536621\n",
            "avg_rank: 104.9814453125\n",
            "\n"
          ]
        },
        {
          "output_type": "stream",
          "name": "stderr",
          "text": [
            "100%|██████████| 9949/9949 [00:22<00:00, 449.34it/s]\n",
            "100%|██████████| 9949/9949 [00:02<00:00, 4044.48it/s]\n",
            "100%|██████████| 9949/9949 [00:06<00:00, 1593.55it/s]\n",
            "100%|██████████| 9949/9949 [00:01<00:00, 5545.96it/s]\n"
          ]
        },
        {
          "output_type": "stream",
          "name": "stdout",
          "text": [
            "Validation nDCG on epoch 1\n",
            "Encoder - 0.2160727450257437\n",
            "Projector - 0.2140575400082251\n"
          ]
        },
        {
          "output_type": "stream",
          "name": "stderr",
          "text": [
            "\r0it [00:00, ?it/s]"
          ]
        },
        {
          "output_type": "stream",
          "name": "stdout",
          "text": [
            "h_i.shape:  torch.Size([512, 256])\n",
            "Epoch 3/20\n"
          ]
        },
        {
          "output_type": "stream",
          "name": "stderr",
          "text": [
            "\r1it [00:02,  2.59s/it]"
          ]
        },
        {
          "output_type": "stream",
          "name": "stdout",
          "text": [
            "loss: 5.211006164550781\n",
            "avg_rank: 92.9775390625\n",
            "\n",
            "h_i.shape:  torch.Size([512, 256])\n",
            "Epoch 3/20\n"
          ]
        },
        {
          "output_type": "stream",
          "name": "stderr",
          "text": [
            "\r2it [00:05,  2.54s/it]"
          ]
        },
        {
          "output_type": "stream",
          "name": "stdout",
          "text": [
            "loss: 5.294893741607666\n",
            "avg_rank: 105.642578125\n",
            "\n",
            "h_i.shape:  torch.Size([512, 256])\n",
            "Epoch 3/20\n"
          ]
        },
        {
          "output_type": "stream",
          "name": "stderr",
          "text": [
            "\r3it [00:07,  2.56s/it]"
          ]
        },
        {
          "output_type": "stream",
          "name": "stdout",
          "text": [
            "loss: 5.168030261993408\n",
            "avg_rank: 87.67578125\n",
            "\n",
            "h_i.shape:  torch.Size([512, 256])\n",
            "Epoch 3/20\n"
          ]
        },
        {
          "output_type": "stream",
          "name": "stderr",
          "text": [
            "\r4it [00:10,  2.59s/it]"
          ]
        },
        {
          "output_type": "stream",
          "name": "stdout",
          "text": [
            "loss: 5.170302867889404\n",
            "avg_rank: 86.53515625\n",
            "\n",
            "h_i.shape:  torch.Size([512, 256])\n",
            "Epoch 3/20\n"
          ]
        },
        {
          "output_type": "stream",
          "name": "stderr",
          "text": [
            "\r5it [00:12,  2.61s/it]"
          ]
        },
        {
          "output_type": "stream",
          "name": "stdout",
          "text": [
            "loss: 5.161333084106445\n",
            "avg_rank: 85.2265625\n",
            "\n",
            "h_i.shape:  torch.Size([512, 256])\n",
            "Epoch 3/20\n"
          ]
        },
        {
          "output_type": "stream",
          "name": "stderr",
          "text": [
            "\r6it [00:15,  2.62s/it]"
          ]
        },
        {
          "output_type": "stream",
          "name": "stdout",
          "text": [
            "loss: 4.9850754737854\n",
            "avg_rank: 77.8603515625\n",
            "\n",
            "h_i.shape:  torch.Size([512, 256])\n",
            "Epoch 3/20\n"
          ]
        },
        {
          "output_type": "stream",
          "name": "stderr",
          "text": [
            "\r7it [00:18,  2.60s/it]"
          ]
        },
        {
          "output_type": "stream",
          "name": "stdout",
          "text": [
            "loss: 5.03334903717041\n",
            "avg_rank: 76.333984375\n",
            "\n",
            "h_i.shape:  torch.Size([512, 256])\n",
            "Epoch 3/20\n"
          ]
        },
        {
          "output_type": "stream",
          "name": "stderr",
          "text": [
            "\r8it [00:20,  2.62s/it]"
          ]
        },
        {
          "output_type": "stream",
          "name": "stdout",
          "text": [
            "loss: 5.035388469696045\n",
            "avg_rank: 82.900390625\n",
            "\n",
            "h_i.shape:  torch.Size([512, 256])\n",
            "Epoch 3/20\n"
          ]
        },
        {
          "output_type": "stream",
          "name": "stderr",
          "text": [
            "\r9it [00:23,  2.64s/it]"
          ]
        },
        {
          "output_type": "stream",
          "name": "stdout",
          "text": [
            "loss: 5.103037357330322\n",
            "avg_rank: 87.748046875\n",
            "\n",
            "h_i.shape:  torch.Size([512, 256])\n",
            "Epoch 3/20\n"
          ]
        },
        {
          "output_type": "stream",
          "name": "stderr",
          "text": [
            "\r10it [00:26,  2.65s/it]"
          ]
        },
        {
          "output_type": "stream",
          "name": "stdout",
          "text": [
            "loss: 5.354072093963623\n",
            "avg_rank: 109.7646484375\n",
            "\n",
            "h_i.shape:  torch.Size([512, 256])\n",
            "Epoch 3/20\n"
          ]
        },
        {
          "output_type": "stream",
          "name": "stderr",
          "text": [
            "\r11it [00:28,  2.66s/it]"
          ]
        },
        {
          "output_type": "stream",
          "name": "stdout",
          "text": [
            "loss: 5.080285549163818\n",
            "avg_rank: 85.0693359375\n",
            "\n",
            "h_i.shape:  torch.Size([512, 256])\n",
            "Epoch 3/20\n"
          ]
        },
        {
          "output_type": "stream",
          "name": "stderr",
          "text": [
            "\r12it [00:31,  2.64s/it]"
          ]
        },
        {
          "output_type": "stream",
          "name": "stdout",
          "text": [
            "loss: 5.099474906921387\n",
            "avg_rank: 83.5263671875\n",
            "\n",
            "h_i.shape:  torch.Size([512, 256])\n"
          ]
        },
        {
          "output_type": "stream",
          "name": "stderr",
          "text": [
            "\r13it [00:34,  2.70s/it]"
          ]
        },
        {
          "output_type": "stream",
          "name": "stdout",
          "text": [
            "Epoch 3/20\n",
            "loss: 5.141129016876221\n",
            "avg_rank: 89.263671875\n",
            "\n",
            "h_i.shape:  torch.Size([512, 256])\n",
            "Epoch 3/20\n"
          ]
        },
        {
          "output_type": "stream",
          "name": "stderr",
          "text": [
            "\r14it [00:37,  2.73s/it]"
          ]
        },
        {
          "output_type": "stream",
          "name": "stdout",
          "text": [
            "loss: 5.179091930389404\n",
            "avg_rank: 94.0966796875\n",
            "\n",
            "h_i.shape:  torch.Size([512, 256])\n",
            "Epoch 3/20\n"
          ]
        },
        {
          "output_type": "stream",
          "name": "stderr",
          "text": [
            "\r15it [00:39,  2.71s/it]"
          ]
        },
        {
          "output_type": "stream",
          "name": "stdout",
          "text": [
            "loss: 5.132141590118408\n",
            "avg_rank: 83.421875\n",
            "\n",
            "h_i.shape:  torch.Size([512, 256])\n",
            "Epoch 3/20\n"
          ]
        },
        {
          "output_type": "stream",
          "name": "stderr",
          "text": [
            "\r16it [00:42,  2.75s/it]"
          ]
        },
        {
          "output_type": "stream",
          "name": "stdout",
          "text": [
            "loss: 5.162614345550537\n",
            "avg_rank: 87.076171875\n",
            "\n",
            "h_i.shape:  torch.Size([512, 256])\n",
            "Epoch 3/20\n"
          ]
        },
        {
          "output_type": "stream",
          "name": "stderr",
          "text": [
            "\r17it [00:45,  2.76s/it]"
          ]
        },
        {
          "output_type": "stream",
          "name": "stdout",
          "text": [
            "loss: 5.246970176696777\n",
            "avg_rank: 96.740234375\n",
            "\n",
            "h_i.shape:  torch.Size([512, 256])\n",
            "Epoch 3/20\n"
          ]
        },
        {
          "output_type": "stream",
          "name": "stderr",
          "text": [
            "\r18it [00:47,  2.72s/it]"
          ]
        },
        {
          "output_type": "stream",
          "name": "stdout",
          "text": [
            "loss: 5.169454097747803\n",
            "avg_rank: 83.87890625\n",
            "\n",
            "h_i.shape:  torch.Size([512, 256])\n",
            "Epoch 3/20\n"
          ]
        },
        {
          "output_type": "stream",
          "name": "stderr",
          "text": [
            "\r19it [00:50,  2.72s/it]"
          ]
        },
        {
          "output_type": "stream",
          "name": "stdout",
          "text": [
            "loss: 5.091482639312744\n",
            "avg_rank: 84.060546875\n",
            "\n",
            "h_i.shape:  torch.Size([512, 256])\n",
            "Epoch 3/20\n"
          ]
        },
        {
          "output_type": "stream",
          "name": "stderr",
          "text": [
            "\r20it [00:53,  2.72s/it]"
          ]
        },
        {
          "output_type": "stream",
          "name": "stdout",
          "text": [
            "loss: 5.0295610427856445\n",
            "avg_rank: 79.1220703125\n",
            "\n",
            "h_i.shape:  torch.Size([512, 256])\n",
            "Epoch 3/20\n"
          ]
        },
        {
          "output_type": "stream",
          "name": "stderr",
          "text": [
            "\r21it [00:56,  2.72s/it]"
          ]
        },
        {
          "output_type": "stream",
          "name": "stdout",
          "text": [
            "loss: 5.001594543457031\n",
            "avg_rank: 79.7099609375\n",
            "\n",
            "h_i.shape:  torch.Size([512, 256])\n",
            "Epoch 3/20\n"
          ]
        },
        {
          "output_type": "stream",
          "name": "stderr",
          "text": [
            "\r22it [00:58,  2.73s/it]"
          ]
        },
        {
          "output_type": "stream",
          "name": "stdout",
          "text": [
            "loss: 5.00501823425293\n",
            "avg_rank: 80.94921875\n",
            "\n",
            "h_i.shape:  torch.Size([512, 256])\n",
            "Epoch 3/20\n"
          ]
        },
        {
          "output_type": "stream",
          "name": "stderr",
          "text": [
            "\r23it [01:01,  2.71s/it]"
          ]
        },
        {
          "output_type": "stream",
          "name": "stdout",
          "text": [
            "loss: 5.033073902130127\n",
            "avg_rank: 80.6083984375\n",
            "\n",
            "h_i.shape:  torch.Size([512, 256])\n",
            "Epoch 3/20\n"
          ]
        },
        {
          "output_type": "stream",
          "name": "stderr",
          "text": [
            "\r24it [01:04,  2.73s/it]"
          ]
        },
        {
          "output_type": "stream",
          "name": "stdout",
          "text": [
            "loss: 4.958900451660156\n",
            "avg_rank: 78.0751953125\n",
            "\n",
            "h_i.shape:  torch.Size([512, 256])\n",
            "Epoch 3/20\n"
          ]
        },
        {
          "output_type": "stream",
          "name": "stderr",
          "text": [
            "\r25it [01:07,  2.75s/it]"
          ]
        },
        {
          "output_type": "stream",
          "name": "stdout",
          "text": [
            "loss: 4.912647724151611\n",
            "avg_rank: 72.48046875\n",
            "\n",
            "h_i.shape:  torch.Size([512, 256])\n",
            "Epoch 3/20\n"
          ]
        },
        {
          "output_type": "stream",
          "name": "stderr",
          "text": [
            "\r26it [01:10,  2.78s/it]"
          ]
        },
        {
          "output_type": "stream",
          "name": "stdout",
          "text": [
            "loss: 5.130681037902832\n",
            "avg_rank: 82.693359375\n",
            "\n",
            "h_i.shape:  torch.Size([512, 256])\n",
            "Epoch 3/20\n"
          ]
        },
        {
          "output_type": "stream",
          "name": "stderr",
          "text": [
            "\r27it [01:12,  2.78s/it]"
          ]
        },
        {
          "output_type": "stream",
          "name": "stdout",
          "text": [
            "loss: 4.843545436859131\n",
            "avg_rank: 67.0283203125\n",
            "\n",
            "h_i.shape:  torch.Size([512, 256])\n",
            "Epoch 3/20\n"
          ]
        },
        {
          "output_type": "stream",
          "name": "stderr",
          "text": [
            "\r28it [01:15,  2.75s/it]"
          ]
        },
        {
          "output_type": "stream",
          "name": "stdout",
          "text": [
            "loss: 4.940985202789307\n",
            "avg_rank: 77.1240234375\n",
            "\n",
            "h_i.shape:  torch.Size([512, 256])\n",
            "Epoch 3/20\n"
          ]
        },
        {
          "output_type": "stream",
          "name": "stderr",
          "text": [
            "\r29it [01:18,  2.75s/it]"
          ]
        },
        {
          "output_type": "stream",
          "name": "stdout",
          "text": [
            "loss: 4.940301895141602\n",
            "avg_rank: 79.4072265625\n",
            "\n",
            "h_i.shape:  torch.Size([512, 256])\n",
            "Epoch 3/20\n"
          ]
        },
        {
          "output_type": "stream",
          "name": "stderr",
          "text": [
            "\r30it [01:21,  2.84s/it]"
          ]
        },
        {
          "output_type": "stream",
          "name": "stdout",
          "text": [
            "loss: 4.861083984375\n",
            "avg_rank: 71.306640625\n",
            "\n",
            "h_i.shape:  torch.Size([512, 256])\n",
            "Epoch 3/20\n"
          ]
        },
        {
          "output_type": "stream",
          "name": "stderr",
          "text": [
            "\r31it [01:23,  2.81s/it]"
          ]
        },
        {
          "output_type": "stream",
          "name": "stdout",
          "text": [
            "loss: 5.002673625946045\n",
            "avg_rank: 78.0673828125\n",
            "\n",
            "h_i.shape:  torch.Size([512, 256])\n",
            "Epoch 3/20\n"
          ]
        },
        {
          "output_type": "stream",
          "name": "stderr",
          "text": [
            "\r32it [01:26,  2.79s/it]"
          ]
        },
        {
          "output_type": "stream",
          "name": "stdout",
          "text": [
            "loss: 5.086031436920166\n",
            "avg_rank: 81.486328125\n",
            "\n",
            "h_i.shape:  torch.Size([512, 256])\n",
            "Epoch 3/20\n"
          ]
        },
        {
          "output_type": "stream",
          "name": "stderr",
          "text": [
            "\r33it [01:29,  2.78s/it]"
          ]
        },
        {
          "output_type": "stream",
          "name": "stdout",
          "text": [
            "loss: 4.922145843505859\n",
            "avg_rank: 72.54296875\n",
            "\n",
            "h_i.shape:  torch.Size([512, 256])\n",
            "Epoch 3/20\n"
          ]
        },
        {
          "output_type": "stream",
          "name": "stderr",
          "text": [
            "\r34it [01:32,  2.80s/it]"
          ]
        },
        {
          "output_type": "stream",
          "name": "stdout",
          "text": [
            "loss: 5.0501389503479\n",
            "avg_rank: 78.439453125\n",
            "\n",
            "h_i.shape:  torch.Size([512, 256])\n",
            "Epoch 3/20\n"
          ]
        },
        {
          "output_type": "stream",
          "name": "stderr",
          "text": [
            "\r35it [01:35,  2.79s/it]"
          ]
        },
        {
          "output_type": "stream",
          "name": "stdout",
          "text": [
            "loss: 4.9226861000061035\n",
            "avg_rank: 73.9921875\n",
            "\n",
            "h_i.shape:  torch.Size([512, 256])\n",
            "Epoch 3/20\n"
          ]
        },
        {
          "output_type": "stream",
          "name": "stderr",
          "text": [
            "\r36it [01:37,  2.81s/it]"
          ]
        },
        {
          "output_type": "stream",
          "name": "stdout",
          "text": [
            "loss: 5.0735626220703125\n",
            "avg_rank: 83.18359375\n",
            "\n",
            "h_i.shape:  torch.Size([512, 256])\n",
            "Epoch 3/20\n"
          ]
        },
        {
          "output_type": "stream",
          "name": "stderr",
          "text": [
            "\r37it [01:40,  2.80s/it]"
          ]
        },
        {
          "output_type": "stream",
          "name": "stdout",
          "text": [
            "loss: 4.948863506317139\n",
            "avg_rank: 79.0380859375\n",
            "\n",
            "h_i.shape:  torch.Size([512, 256])\n",
            "Epoch 3/20\n"
          ]
        },
        {
          "output_type": "stream",
          "name": "stderr",
          "text": [
            "38it [01:43,  2.73s/it]\n"
          ]
        },
        {
          "output_type": "stream",
          "name": "stdout",
          "text": [
            "loss: 5.135903358459473\n",
            "avg_rank: 88.958984375\n",
            "\n"
          ]
        },
        {
          "output_type": "stream",
          "name": "stderr",
          "text": [
            "100%|██████████| 9949/9949 [00:23<00:00, 427.75it/s]\n",
            "100%|██████████| 9949/9949 [00:01<00:00, 5294.06it/s]\n",
            "100%|██████████| 9949/9949 [00:05<00:00, 1817.96it/s]\n",
            "100%|██████████| 9949/9949 [00:01<00:00, 5480.11it/s]\n"
          ]
        },
        {
          "output_type": "stream",
          "name": "stdout",
          "text": [
            "Validation nDCG on epoch 2\n",
            "Encoder - 0.23318697558568302\n",
            "Projector - 0.24036898751426602\n"
          ]
        },
        {
          "output_type": "stream",
          "name": "stderr",
          "text": [
            "\r0it [00:00, ?it/s]"
          ]
        },
        {
          "output_type": "stream",
          "name": "stdout",
          "text": [
            "h_i.shape:  torch.Size([512, 256])\n",
            "Epoch 4/20\n"
          ]
        },
        {
          "output_type": "stream",
          "name": "stderr",
          "text": [
            "\r1it [00:02,  2.86s/it]"
          ]
        },
        {
          "output_type": "stream",
          "name": "stdout",
          "text": [
            "loss: 4.973763465881348\n",
            "avg_rank: 77.763671875\n",
            "\n",
            "h_i.shape:  torch.Size([512, 256])\n",
            "Epoch 4/20\n"
          ]
        },
        {
          "output_type": "stream",
          "name": "stderr",
          "text": [
            "\r2it [00:05,  2.82s/it]"
          ]
        },
        {
          "output_type": "stream",
          "name": "stdout",
          "text": [
            "loss: 5.173859596252441\n",
            "avg_rank: 93.943359375\n",
            "\n",
            "h_i.shape:  torch.Size([512, 256])\n",
            "Epoch 4/20\n"
          ]
        },
        {
          "output_type": "stream",
          "name": "stderr",
          "text": [
            "\r3it [00:08,  2.81s/it]"
          ]
        },
        {
          "output_type": "stream",
          "name": "stdout",
          "text": [
            "loss: 5.096248149871826\n",
            "avg_rank: 85.537109375\n",
            "\n",
            "h_i.shape:  torch.Size([512, 256])\n",
            "Epoch 4/20\n"
          ]
        },
        {
          "output_type": "stream",
          "name": "stderr",
          "text": [
            "\r4it [00:11,  2.81s/it]"
          ]
        },
        {
          "output_type": "stream",
          "name": "stdout",
          "text": [
            "loss: 5.027711391448975\n",
            "avg_rank: 80.984375\n",
            "\n",
            "h_i.shape:  torch.Size([512, 256])\n",
            "Epoch 4/20\n"
          ]
        },
        {
          "output_type": "stream",
          "name": "stderr",
          "text": [
            "\r5it [00:14,  2.84s/it]"
          ]
        },
        {
          "output_type": "stream",
          "name": "stdout",
          "text": [
            "loss: 4.913154125213623\n",
            "avg_rank: 67.3720703125\n",
            "\n",
            "h_i.shape:  torch.Size([512, 256])\n",
            "Epoch 4/20\n"
          ]
        },
        {
          "output_type": "stream",
          "name": "stderr",
          "text": [
            "\r6it [00:16,  2.82s/it]"
          ]
        },
        {
          "output_type": "stream",
          "name": "stdout",
          "text": [
            "loss: 4.924742698669434\n",
            "avg_rank: 75.6650390625\n",
            "\n",
            "h_i.shape:  torch.Size([512, 256])\n",
            "Epoch 4/20\n"
          ]
        },
        {
          "output_type": "stream",
          "name": "stderr",
          "text": [
            "\r7it [00:19,  2.79s/it]"
          ]
        },
        {
          "output_type": "stream",
          "name": "stdout",
          "text": [
            "loss: 4.800495624542236\n",
            "avg_rank: 63.958984375\n",
            "\n",
            "h_i.shape:  torch.Size([512, 256])\n",
            "Epoch 4/20\n"
          ]
        },
        {
          "output_type": "stream",
          "name": "stderr",
          "text": [
            "\r8it [00:22,  2.77s/it]"
          ]
        },
        {
          "output_type": "stream",
          "name": "stdout",
          "text": [
            "loss: 4.779325008392334\n",
            "avg_rank: 65.953125\n",
            "\n",
            "h_i.shape:  torch.Size([512, 256])\n",
            "Epoch 4/20\n"
          ]
        },
        {
          "output_type": "stream",
          "name": "stderr",
          "text": [
            "\r9it [00:25,  2.75s/it]"
          ]
        },
        {
          "output_type": "stream",
          "name": "stdout",
          "text": [
            "loss: 5.030950546264648\n",
            "avg_rank: 80.9951171875\n",
            "\n",
            "h_i.shape:  torch.Size([512, 256])\n",
            "Epoch 4/20\n"
          ]
        },
        {
          "output_type": "stream",
          "name": "stderr",
          "text": [
            "\r10it [00:27,  2.78s/it]"
          ]
        },
        {
          "output_type": "stream",
          "name": "stdout",
          "text": [
            "loss: 5.048051357269287\n",
            "avg_rank: 87.2705078125\n",
            "\n",
            "h_i.shape:  torch.Size([512, 256])\n",
            "Epoch 4/20\n"
          ]
        },
        {
          "output_type": "stream",
          "name": "stderr",
          "text": [
            "\r11it [00:30,  2.81s/it]"
          ]
        },
        {
          "output_type": "stream",
          "name": "stdout",
          "text": [
            "loss: 4.92274808883667\n",
            "avg_rank: 77.7626953125\n",
            "\n",
            "h_i.shape:  torch.Size([512, 256])\n",
            "Epoch 4/20\n"
          ]
        },
        {
          "output_type": "stream",
          "name": "stderr",
          "text": [
            "\r12it [00:33,  2.78s/it]"
          ]
        },
        {
          "output_type": "stream",
          "name": "stdout",
          "text": [
            "loss: 4.971267223358154\n",
            "avg_rank: 78.421875\n",
            "\n",
            "h_i.shape:  torch.Size([512, 256])\n",
            "Epoch 4/20\n"
          ]
        },
        {
          "output_type": "stream",
          "name": "stderr",
          "text": [
            "\r13it [00:36,  2.76s/it]"
          ]
        },
        {
          "output_type": "stream",
          "name": "stdout",
          "text": [
            "loss: 5.006319522857666\n",
            "avg_rank: 79.80078125\n",
            "\n",
            "h_i.shape:  torch.Size([512, 256])\n",
            "Epoch 4/20\n"
          ]
        },
        {
          "output_type": "stream",
          "name": "stderr",
          "text": [
            "\r14it [00:38,  2.75s/it]"
          ]
        },
        {
          "output_type": "stream",
          "name": "stdout",
          "text": [
            "loss: 4.878851890563965\n",
            "avg_rank: 73.1474609375\n",
            "\n",
            "h_i.shape:  torch.Size([512, 256])\n",
            "Epoch 4/20\n"
          ]
        },
        {
          "output_type": "stream",
          "name": "stderr",
          "text": [
            "\r15it [00:41,  2.74s/it]"
          ]
        },
        {
          "output_type": "stream",
          "name": "stdout",
          "text": [
            "loss: 5.0381011962890625\n",
            "avg_rank: 82.0283203125\n",
            "\n",
            "h_i.shape:  torch.Size([512, 256])\n",
            "Epoch 4/20\n"
          ]
        },
        {
          "output_type": "stream",
          "name": "stderr",
          "text": [
            "\r16it [00:44,  2.76s/it]"
          ]
        },
        {
          "output_type": "stream",
          "name": "stdout",
          "text": [
            "loss: 5.017392635345459\n",
            "avg_rank: 81.8154296875\n",
            "\n",
            "h_i.shape:  torch.Size([512, 256])\n",
            "Epoch 4/20\n"
          ]
        },
        {
          "output_type": "stream",
          "name": "stderr",
          "text": [
            "\r17it [00:47,  2.77s/it]"
          ]
        },
        {
          "output_type": "stream",
          "name": "stdout",
          "text": [
            "loss: 5.093653202056885\n",
            "avg_rank: 90.1123046875\n",
            "\n",
            "h_i.shape:  torch.Size([512, 256])\n",
            "Epoch 4/20\n"
          ]
        },
        {
          "output_type": "stream",
          "name": "stderr",
          "text": [
            "\r18it [00:50,  2.79s/it]"
          ]
        },
        {
          "output_type": "stream",
          "name": "stdout",
          "text": [
            "loss: 4.875880241394043\n",
            "avg_rank: 65.9169921875\n",
            "\n",
            "h_i.shape:  torch.Size([512, 256])\n",
            "Epoch 4/20\n"
          ]
        },
        {
          "output_type": "stream",
          "name": "stderr",
          "text": [
            "\r19it [00:52,  2.80s/it]"
          ]
        },
        {
          "output_type": "stream",
          "name": "stdout",
          "text": [
            "loss: 4.996642112731934\n",
            "avg_rank: 83.9599609375\n",
            "\n",
            "h_i.shape:  torch.Size([512, 256])\n",
            "Epoch 4/20\n"
          ]
        },
        {
          "output_type": "stream",
          "name": "stderr",
          "text": [
            "\r20it [00:55,  2.80s/it]"
          ]
        },
        {
          "output_type": "stream",
          "name": "stdout",
          "text": [
            "loss: 4.902229309082031\n",
            "avg_rank: 75.0888671875\n",
            "\n",
            "h_i.shape:  torch.Size([512, 256])\n",
            "Epoch 4/20\n"
          ]
        },
        {
          "output_type": "stream",
          "name": "stderr",
          "text": [
            "\r21it [00:58,  2.81s/it]"
          ]
        },
        {
          "output_type": "stream",
          "name": "stdout",
          "text": [
            "loss: 4.929695129394531\n",
            "avg_rank: 75.0634765625\n",
            "\n",
            "h_i.shape:  torch.Size([512, 256])\n",
            "Epoch 4/20\n"
          ]
        },
        {
          "output_type": "stream",
          "name": "stderr",
          "text": [
            "\r22it [01:01,  2.82s/it]"
          ]
        },
        {
          "output_type": "stream",
          "name": "stdout",
          "text": [
            "loss: 4.904128074645996\n",
            "avg_rank: 71.916015625\n",
            "\n",
            "h_i.shape:  torch.Size([512, 256])\n",
            "Epoch 4/20\n"
          ]
        },
        {
          "output_type": "stream",
          "name": "stderr",
          "text": [
            "\r23it [01:04,  2.81s/it]"
          ]
        },
        {
          "output_type": "stream",
          "name": "stdout",
          "text": [
            "loss: 4.92542028427124\n",
            "avg_rank: 75.3369140625\n",
            "\n",
            "h_i.shape:  torch.Size([512, 256])\n",
            "Epoch 4/20\n"
          ]
        },
        {
          "output_type": "stream",
          "name": "stderr",
          "text": [
            "\r24it [01:07,  2.82s/it]"
          ]
        },
        {
          "output_type": "stream",
          "name": "stdout",
          "text": [
            "loss: 4.818078994750977\n",
            "avg_rank: 72.74609375\n",
            "\n",
            "h_i.shape:  torch.Size([512, 256])\n",
            "Epoch 4/20\n"
          ]
        },
        {
          "output_type": "stream",
          "name": "stderr",
          "text": [
            "\r25it [01:09,  2.83s/it]"
          ]
        },
        {
          "output_type": "stream",
          "name": "stdout",
          "text": [
            "loss: 4.822991371154785\n",
            "avg_rank: 69.1728515625\n",
            "\n",
            "h_i.shape:  torch.Size([512, 256])\n",
            "Epoch 4/20\n"
          ]
        },
        {
          "output_type": "stream",
          "name": "stderr",
          "text": [
            "\r26it [01:12,  2.84s/it]"
          ]
        },
        {
          "output_type": "stream",
          "name": "stdout",
          "text": [
            "loss: 4.936182022094727\n",
            "avg_rank: 72.5546875\n",
            "\n",
            "h_i.shape:  torch.Size([512, 256])\n",
            "Epoch 4/20\n"
          ]
        },
        {
          "output_type": "stream",
          "name": "stderr",
          "text": [
            "\r27it [01:15,  2.86s/it]"
          ]
        },
        {
          "output_type": "stream",
          "name": "stdout",
          "text": [
            "loss: 4.812423229217529\n",
            "avg_rank: 68.380859375\n",
            "\n",
            "h_i.shape:  torch.Size([512, 256])\n",
            "Epoch 4/20\n"
          ]
        },
        {
          "output_type": "stream",
          "name": "stderr",
          "text": [
            "\r28it [01:18,  2.82s/it]"
          ]
        },
        {
          "output_type": "stream",
          "name": "stdout",
          "text": [
            "loss: 4.740608215332031\n",
            "avg_rank: 68.751953125\n",
            "\n",
            "h_i.shape:  torch.Size([512, 256])\n",
            "Epoch 4/20\n"
          ]
        },
        {
          "output_type": "stream",
          "name": "stderr",
          "text": [
            "\r29it [01:21,  2.77s/it]"
          ]
        },
        {
          "output_type": "stream",
          "name": "stdout",
          "text": [
            "loss: 4.7741546630859375\n",
            "avg_rank: 68.228515625\n",
            "\n",
            "h_i.shape:  torch.Size([512, 256])\n",
            "Epoch 4/20\n"
          ]
        },
        {
          "output_type": "stream",
          "name": "stderr",
          "text": [
            "\r30it [01:23,  2.76s/it]"
          ]
        },
        {
          "output_type": "stream",
          "name": "stdout",
          "text": [
            "loss: 4.736473560333252\n",
            "avg_rank: 68.84375\n",
            "\n",
            "h_i.shape:  torch.Size([512, 256])\n",
            "Epoch 4/20\n"
          ]
        },
        {
          "output_type": "stream",
          "name": "stderr",
          "text": [
            "\r31it [01:26,  2.73s/it]"
          ]
        },
        {
          "output_type": "stream",
          "name": "stdout",
          "text": [
            "loss: 4.839010715484619\n",
            "avg_rank: 72.6962890625\n",
            "\n",
            "h_i.shape:  torch.Size([512, 256])\n",
            "Epoch 4/20\n"
          ]
        },
        {
          "output_type": "stream",
          "name": "stderr",
          "text": [
            "\r32it [01:29,  2.73s/it]"
          ]
        },
        {
          "output_type": "stream",
          "name": "stdout",
          "text": [
            "loss: 4.9763875007629395\n",
            "avg_rank: 78.494140625\n",
            "\n",
            "h_i.shape:  torch.Size([512, 256])\n",
            "Epoch 4/20\n"
          ]
        },
        {
          "output_type": "stream",
          "name": "stderr",
          "text": [
            "\r33it [01:31,  2.70s/it]"
          ]
        },
        {
          "output_type": "stream",
          "name": "stdout",
          "text": [
            "loss: 4.873427391052246\n",
            "avg_rank: 66.90234375\n",
            "\n",
            "h_i.shape:  torch.Size([512, 256])\n",
            "Epoch 4/20\n"
          ]
        },
        {
          "output_type": "stream",
          "name": "stderr",
          "text": [
            "\r34it [01:34,  2.70s/it]"
          ]
        },
        {
          "output_type": "stream",
          "name": "stdout",
          "text": [
            "loss: 4.804068088531494\n",
            "avg_rank: 64.5341796875\n",
            "\n",
            "h_i.shape:  torch.Size([512, 256])\n",
            "Epoch 4/20\n"
          ]
        },
        {
          "output_type": "stream",
          "name": "stderr",
          "text": [
            "\r35it [01:37,  2.68s/it]"
          ]
        },
        {
          "output_type": "stream",
          "name": "stdout",
          "text": [
            "loss: 4.7731852531433105\n",
            "avg_rank: 67.6484375\n",
            "\n",
            "h_i.shape:  torch.Size([512, 256])\n",
            "Epoch 4/20\n"
          ]
        },
        {
          "output_type": "stream",
          "name": "stderr",
          "text": [
            "\r36it [01:39,  2.68s/it]"
          ]
        },
        {
          "output_type": "stream",
          "name": "stdout",
          "text": [
            "loss: 4.962672233581543\n",
            "avg_rank: 77.3857421875\n",
            "\n",
            "h_i.shape:  torch.Size([512, 256])\n",
            "Epoch 4/20\n"
          ]
        },
        {
          "output_type": "stream",
          "name": "stderr",
          "text": [
            "\r37it [01:42,  2.67s/it]"
          ]
        },
        {
          "output_type": "stream",
          "name": "stdout",
          "text": [
            "loss: 4.895492076873779\n",
            "avg_rank: 72.4541015625\n",
            "\n",
            "h_i.shape:  torch.Size([512, 256])\n",
            "Epoch 4/20\n"
          ]
        },
        {
          "output_type": "stream",
          "name": "stderr",
          "text": [
            "38it [01:45,  2.77s/it]\n"
          ]
        },
        {
          "output_type": "stream",
          "name": "stdout",
          "text": [
            "loss: 5.05122709274292\n",
            "avg_rank: 83.859375\n",
            "\n"
          ]
        },
        {
          "output_type": "stream",
          "name": "stderr",
          "text": [
            "100%|██████████| 9949/9949 [00:21<00:00, 456.63it/s]\n",
            "100%|██████████| 9949/9949 [00:01<00:00, 5438.63it/s]\n",
            "100%|██████████| 9949/9949 [00:05<00:00, 1827.32it/s]\n",
            "100%|██████████| 9949/9949 [00:03<00:00, 2739.40it/s]\n"
          ]
        },
        {
          "output_type": "stream",
          "name": "stdout",
          "text": [
            "Validation nDCG on epoch 3\n",
            "Encoder - 0.24591884456302268\n",
            "Projector - 0.25422796994568597\n"
          ]
        },
        {
          "output_type": "stream",
          "name": "stderr",
          "text": [
            "\r0it [00:00, ?it/s]"
          ]
        },
        {
          "output_type": "stream",
          "name": "stdout",
          "text": [
            "h_i.shape:  torch.Size([512, 256])\n",
            "Epoch 5/20\n"
          ]
        },
        {
          "output_type": "stream",
          "name": "stderr",
          "text": [
            "\r1it [00:02,  2.63s/it]"
          ]
        },
        {
          "output_type": "stream",
          "name": "stdout",
          "text": [
            "loss: 4.768727779388428\n",
            "avg_rank: 64.666015625\n",
            "\n",
            "h_i.shape:  torch.Size([512, 256])\n",
            "Epoch 5/20\n"
          ]
        },
        {
          "output_type": "stream",
          "name": "stderr",
          "text": [
            "\r2it [00:05,  2.57s/it]"
          ]
        },
        {
          "output_type": "stream",
          "name": "stdout",
          "text": [
            "loss: 4.981292247772217\n",
            "avg_rank: 81.771484375\n",
            "\n",
            "h_i.shape:  torch.Size([512, 256])\n",
            "Epoch 5/20\n"
          ]
        },
        {
          "output_type": "stream",
          "name": "stderr",
          "text": [
            "\r3it [00:07,  2.58s/it]"
          ]
        },
        {
          "output_type": "stream",
          "name": "stdout",
          "text": [
            "loss: 4.9331841468811035\n",
            "avg_rank: 77.28515625\n",
            "\n",
            "h_i.shape:  torch.Size([512, 256])\n",
            "Epoch 5/20\n"
          ]
        },
        {
          "output_type": "stream",
          "name": "stderr",
          "text": [
            "\r4it [00:10,  2.60s/it]"
          ]
        },
        {
          "output_type": "stream",
          "name": "stdout",
          "text": [
            "loss: 4.921116352081299\n",
            "avg_rank: 75.478515625\n",
            "\n",
            "h_i.shape:  torch.Size([512, 256])\n",
            "Epoch 5/20\n"
          ]
        },
        {
          "output_type": "stream",
          "name": "stderr",
          "text": [
            "\r5it [00:13,  2.63s/it]"
          ]
        },
        {
          "output_type": "stream",
          "name": "stdout",
          "text": [
            "loss: 4.783786296844482\n",
            "avg_rank: 65.748046875\n",
            "\n",
            "h_i.shape:  torch.Size([512, 256])\n",
            "Epoch 5/20\n"
          ]
        },
        {
          "output_type": "stream",
          "name": "stderr",
          "text": [
            "\r6it [00:15,  2.65s/it]"
          ]
        },
        {
          "output_type": "stream",
          "name": "stdout",
          "text": [
            "loss: 4.762323379516602\n",
            "avg_rank: 66.818359375\n",
            "\n",
            "h_i.shape:  torch.Size([512, 256])\n",
            "Epoch 5/20\n"
          ]
        },
        {
          "output_type": "stream",
          "name": "stderr",
          "text": [
            "\r7it [00:18,  2.62s/it]"
          ]
        },
        {
          "output_type": "stream",
          "name": "stdout",
          "text": [
            "loss: 4.6836628913879395\n",
            "avg_rank: 59.3935546875\n",
            "\n",
            "h_i.shape:  torch.Size([512, 256])\n",
            "Epoch 5/20\n"
          ]
        },
        {
          "output_type": "stream",
          "name": "stderr",
          "text": [
            "\r8it [00:20,  2.63s/it]"
          ]
        },
        {
          "output_type": "stream",
          "name": "stdout",
          "text": [
            "loss: 4.836190223693848\n",
            "avg_rank: 67.8662109375\n",
            "\n",
            "h_i.shape:  torch.Size([512, 256])\n",
            "Epoch 5/20\n"
          ]
        },
        {
          "output_type": "stream",
          "name": "stderr",
          "text": [
            "\r9it [00:23,  2.70s/it]"
          ]
        },
        {
          "output_type": "stream",
          "name": "stdout",
          "text": [
            "loss: 4.841917514801025\n",
            "avg_rank: 66.2080078125\n",
            "\n",
            "h_i.shape:  torch.Size([512, 256])\n",
            "Epoch 5/20\n"
          ]
        },
        {
          "output_type": "stream",
          "name": "stderr",
          "text": [
            "\r10it [00:26,  2.70s/it]"
          ]
        },
        {
          "output_type": "stream",
          "name": "stdout",
          "text": [
            "loss: 4.998437404632568\n",
            "avg_rank: 82.5068359375\n",
            "\n",
            "h_i.shape:  torch.Size([512, 256])\n",
            "Epoch 5/20\n"
          ]
        },
        {
          "output_type": "stream",
          "name": "stderr",
          "text": [
            "\r11it [00:29,  2.69s/it]"
          ]
        },
        {
          "output_type": "stream",
          "name": "stdout",
          "text": [
            "loss: 4.836550235748291\n",
            "avg_rank: 71.5\n",
            "\n",
            "h_i.shape:  torch.Size([512, 256])\n",
            "Epoch 5/20\n"
          ]
        },
        {
          "output_type": "stream",
          "name": "stderr",
          "text": [
            "\r12it [00:31,  2.67s/it]"
          ]
        },
        {
          "output_type": "stream",
          "name": "stdout",
          "text": [
            "loss: 4.80275821685791\n",
            "avg_rank: 68.7939453125\n",
            "\n",
            "h_i.shape:  torch.Size([512, 256])\n",
            "Epoch 5/20\n"
          ]
        },
        {
          "output_type": "stream",
          "name": "stderr",
          "text": [
            "\r13it [00:34,  2.67s/it]"
          ]
        },
        {
          "output_type": "stream",
          "name": "stdout",
          "text": [
            "loss: 4.948843955993652\n",
            "avg_rank: 80.4130859375\n",
            "\n",
            "h_i.shape:  torch.Size([512, 256])\n",
            "Epoch 5/20\n"
          ]
        },
        {
          "output_type": "stream",
          "name": "stderr",
          "text": [
            "\r14it [00:37,  2.68s/it]"
          ]
        },
        {
          "output_type": "stream",
          "name": "stdout",
          "text": [
            "loss: 4.873626232147217\n",
            "avg_rank: 72.826171875\n",
            "\n",
            "h_i.shape:  torch.Size([512, 256])\n",
            "Epoch 5/20\n"
          ]
        },
        {
          "output_type": "stream",
          "name": "stderr",
          "text": [
            "\r15it [00:39,  2.67s/it]"
          ]
        },
        {
          "output_type": "stream",
          "name": "stdout",
          "text": [
            "loss: 4.970193386077881\n",
            "avg_rank: 79.6845703125\n",
            "\n",
            "h_i.shape:  torch.Size([512, 256])\n",
            "Epoch 5/20\n"
          ]
        },
        {
          "output_type": "stream",
          "name": "stderr",
          "text": [
            "\r16it [00:42,  2.67s/it]"
          ]
        },
        {
          "output_type": "stream",
          "name": "stdout",
          "text": [
            "loss: 4.855099678039551\n",
            "avg_rank: 68.541015625\n",
            "\n",
            "h_i.shape:  torch.Size([512, 256])\n",
            "Epoch 5/20\n"
          ]
        },
        {
          "output_type": "stream",
          "name": "stderr",
          "text": [
            "\r17it [00:45,  2.71s/it]"
          ]
        },
        {
          "output_type": "stream",
          "name": "stdout",
          "text": [
            "loss: 4.985707759857178\n",
            "avg_rank: 84.2001953125\n",
            "\n",
            "h_i.shape:  torch.Size([512, 256])\n",
            "Epoch 5/20\n"
          ]
        },
        {
          "output_type": "stream",
          "name": "stderr",
          "text": [
            "\r18it [00:47,  2.69s/it]"
          ]
        },
        {
          "output_type": "stream",
          "name": "stdout",
          "text": [
            "loss: 4.792551040649414\n",
            "avg_rank: 62.8759765625\n",
            "\n",
            "h_i.shape:  torch.Size([512, 256])\n",
            "Epoch 5/20\n"
          ]
        },
        {
          "output_type": "stream",
          "name": "stderr",
          "text": [
            "\r19it [00:50,  2.69s/it]"
          ]
        },
        {
          "output_type": "stream",
          "name": "stdout",
          "text": [
            "loss: 4.851346969604492\n",
            "avg_rank: 72.849609375\n",
            "\n",
            "h_i.shape:  torch.Size([512, 256])\n",
            "Epoch 5/20\n"
          ]
        },
        {
          "output_type": "stream",
          "name": "stderr",
          "text": [
            "\r20it [00:53,  2.72s/it]"
          ]
        },
        {
          "output_type": "stream",
          "name": "stdout",
          "text": [
            "loss: 4.920581340789795\n",
            "avg_rank: 77.8564453125\n",
            "\n",
            "h_i.shape:  torch.Size([512, 256])\n",
            "Epoch 5/20\n"
          ]
        },
        {
          "output_type": "stream",
          "name": "stderr",
          "text": [
            "\r21it [00:56,  2.73s/it]"
          ]
        },
        {
          "output_type": "stream",
          "name": "stdout",
          "text": [
            "loss: 4.913977146148682\n",
            "avg_rank: 73.396484375\n",
            "\n",
            "h_i.shape:  torch.Size([512, 256])\n",
            "Epoch 5/20\n"
          ]
        },
        {
          "output_type": "stream",
          "name": "stderr",
          "text": [
            "\r22it [00:58,  2.74s/it]"
          ]
        },
        {
          "output_type": "stream",
          "name": "stdout",
          "text": [
            "loss: 4.78264856338501\n",
            "avg_rank: 63.908203125\n",
            "\n",
            "h_i.shape:  torch.Size([512, 256])\n",
            "Epoch 5/20\n"
          ]
        },
        {
          "output_type": "stream",
          "name": "stderr",
          "text": [
            "\r23it [01:01,  2.74s/it]"
          ]
        },
        {
          "output_type": "stream",
          "name": "stdout",
          "text": [
            "loss: 4.7888970375061035\n",
            "avg_rank: 66.3603515625\n",
            "\n",
            "h_i.shape:  torch.Size([512, 256])\n",
            "Epoch 5/20\n"
          ]
        },
        {
          "output_type": "stream",
          "name": "stderr",
          "text": [
            "\r24it [01:04,  2.75s/it]"
          ]
        },
        {
          "output_type": "stream",
          "name": "stdout",
          "text": [
            "loss: 4.75270414352417\n",
            "avg_rank: 65.9130859375\n",
            "\n",
            "h_i.shape:  torch.Size([512, 256])\n",
            "Epoch 5/20\n"
          ]
        },
        {
          "output_type": "stream",
          "name": "stderr",
          "text": [
            "\r25it [01:07,  2.78s/it]"
          ]
        },
        {
          "output_type": "stream",
          "name": "stdout",
          "text": [
            "loss: 4.801114082336426\n",
            "avg_rank: 71.57421875\n",
            "\n",
            "h_i.shape:  torch.Size([512, 256])\n",
            "Epoch 5/20\n"
          ]
        },
        {
          "output_type": "stream",
          "name": "stderr",
          "text": [
            "\r26it [01:10,  2.87s/it]"
          ]
        },
        {
          "output_type": "stream",
          "name": "stdout",
          "text": [
            "loss: 4.887118339538574\n",
            "avg_rank: 75.5048828125\n",
            "\n",
            "h_i.shape:  torch.Size([512, 256])\n",
            "Epoch 5/20\n"
          ]
        },
        {
          "output_type": "stream",
          "name": "stderr",
          "text": [
            "\r27it [01:13,  2.84s/it]"
          ]
        },
        {
          "output_type": "stream",
          "name": "stdout",
          "text": [
            "loss: 4.643656253814697\n",
            "avg_rank: 56.1416015625\n",
            "\n",
            "h_i.shape:  torch.Size([512, 256])\n",
            "Epoch 5/20\n"
          ]
        },
        {
          "output_type": "stream",
          "name": "stderr",
          "text": [
            "\r28it [01:15,  2.82s/it]"
          ]
        },
        {
          "output_type": "stream",
          "name": "stdout",
          "text": [
            "loss: 4.721080303192139\n",
            "avg_rank: 68.060546875\n",
            "\n",
            "h_i.shape:  torch.Size([512, 256])\n",
            "Epoch 5/20\n"
          ]
        },
        {
          "output_type": "stream",
          "name": "stderr",
          "text": [
            "\r29it [01:18,  2.82s/it]"
          ]
        },
        {
          "output_type": "stream",
          "name": "stdout",
          "text": [
            "loss: 4.699777603149414\n",
            "avg_rank: 64.7841796875\n",
            "\n",
            "h_i.shape:  torch.Size([512, 256])\n",
            "Epoch 5/20\n"
          ]
        },
        {
          "output_type": "stream",
          "name": "stderr",
          "text": [
            "\r30it [01:21,  2.81s/it]"
          ]
        },
        {
          "output_type": "stream",
          "name": "stdout",
          "text": [
            "loss: 4.640271186828613\n",
            "avg_rank: 59.8291015625\n",
            "\n",
            "h_i.shape:  torch.Size([512, 256])\n",
            "Epoch 5/20\n"
          ]
        },
        {
          "output_type": "stream",
          "name": "stderr",
          "text": [
            "\r31it [01:24,  2.80s/it]"
          ]
        },
        {
          "output_type": "stream",
          "name": "stdout",
          "text": [
            "loss: 4.778544902801514\n",
            "avg_rank: 70.3974609375\n",
            "\n",
            "h_i.shape:  torch.Size([512, 256])\n",
            "Epoch 5/20\n"
          ]
        },
        {
          "output_type": "stream",
          "name": "stderr",
          "text": [
            "\r32it [01:27,  2.79s/it]"
          ]
        },
        {
          "output_type": "stream",
          "name": "stdout",
          "text": [
            "loss: 4.870086669921875\n",
            "avg_rank: 74.08984375\n",
            "\n",
            "h_i.shape:  torch.Size([512, 256])\n",
            "Epoch 5/20\n"
          ]
        },
        {
          "output_type": "stream",
          "name": "stderr",
          "text": [
            "\r33it [01:29,  2.77s/it]"
          ]
        },
        {
          "output_type": "stream",
          "name": "stdout",
          "text": [
            "loss: 4.786061763763428\n",
            "avg_rank: 65.6982421875\n",
            "\n",
            "h_i.shape:  torch.Size([512, 256])\n",
            "Epoch 5/20\n"
          ]
        },
        {
          "output_type": "stream",
          "name": "stderr",
          "text": [
            "\r34it [01:32,  2.78s/it]"
          ]
        },
        {
          "output_type": "stream",
          "name": "stdout",
          "text": [
            "loss: 4.75649356842041\n",
            "avg_rank: 62.76171875\n",
            "\n",
            "h_i.shape:  torch.Size([512, 256])\n",
            "Epoch 5/20\n"
          ]
        },
        {
          "output_type": "stream",
          "name": "stderr",
          "text": [
            "\r35it [01:35,  2.76s/it]"
          ]
        },
        {
          "output_type": "stream",
          "name": "stdout",
          "text": [
            "loss: 4.634622097015381\n",
            "avg_rank: 60.8720703125\n",
            "\n",
            "h_i.shape:  torch.Size([512, 256])\n",
            "Epoch 5/20\n"
          ]
        },
        {
          "output_type": "stream",
          "name": "stderr",
          "text": [
            "\r36it [01:38,  2.76s/it]"
          ]
        },
        {
          "output_type": "stream",
          "name": "stdout",
          "text": [
            "loss: 4.903985977172852\n",
            "avg_rank: 78.203125\n",
            "\n",
            "h_i.shape:  torch.Size([512, 256])\n",
            "Epoch 5/20\n"
          ]
        },
        {
          "output_type": "stream",
          "name": "stderr",
          "text": [
            "\r37it [01:40,  2.76s/it]"
          ]
        },
        {
          "output_type": "stream",
          "name": "stdout",
          "text": [
            "loss: 4.84096097946167\n",
            "avg_rank: 74.2216796875\n",
            "\n",
            "h_i.shape:  torch.Size([512, 256])\n",
            "Epoch 5/20\n"
          ]
        },
        {
          "output_type": "stream",
          "name": "stderr",
          "text": [
            "38it [01:43,  2.73s/it]\n"
          ]
        },
        {
          "output_type": "stream",
          "name": "stdout",
          "text": [
            "loss: 4.945206642150879\n",
            "avg_rank: 71.576171875\n",
            "\n"
          ]
        },
        {
          "output_type": "stream",
          "name": "stderr",
          "text": [
            "100%|██████████| 9949/9949 [00:22<00:00, 434.80it/s]\n",
            "100%|██████████| 9949/9949 [00:01<00:00, 5416.56it/s]\n",
            "100%|██████████| 9949/9949 [00:05<00:00, 1792.92it/s]\n",
            "100%|██████████| 9949/9949 [00:01<00:00, 5569.30it/s]\n"
          ]
        },
        {
          "output_type": "stream",
          "name": "stdout",
          "text": [
            "Validation nDCG on epoch 4\n",
            "Encoder - 0.25749647646454904\n",
            "Projector - 0.2676593056157368\n"
          ]
        },
        {
          "output_type": "stream",
          "name": "stderr",
          "text": [
            "\r0it [00:00, ?it/s]"
          ]
        },
        {
          "output_type": "stream",
          "name": "stdout",
          "text": [
            "h_i.shape:  torch.Size([512, 256])\n",
            "Epoch 6/20\n"
          ]
        },
        {
          "output_type": "stream",
          "name": "stderr",
          "text": [
            "\r1it [00:02,  2.81s/it]"
          ]
        },
        {
          "output_type": "stream",
          "name": "stdout",
          "text": [
            "loss: 4.831192493438721\n",
            "avg_rank: 68.0107421875\n",
            "\n",
            "h_i.shape:  torch.Size([512, 256])\n",
            "Epoch 6/20\n"
          ]
        },
        {
          "output_type": "stream",
          "name": "stderr",
          "text": [
            "\r2it [00:05,  2.68s/it]"
          ]
        },
        {
          "output_type": "stream",
          "name": "stdout",
          "text": [
            "loss: 4.895689010620117\n",
            "avg_rank: 81.306640625\n",
            "\n",
            "h_i.shape:  torch.Size([512, 256])\n",
            "Epoch 6/20\n"
          ]
        },
        {
          "output_type": "stream",
          "name": "stderr",
          "text": [
            "\r3it [00:08,  2.68s/it]"
          ]
        },
        {
          "output_type": "stream",
          "name": "stdout",
          "text": [
            "loss: 4.948112964630127\n",
            "avg_rank: 77.0322265625\n",
            "\n",
            "h_i.shape:  torch.Size([512, 256])\n",
            "Epoch 6/20\n"
          ]
        },
        {
          "output_type": "stream",
          "name": "stderr",
          "text": [
            "\r4it [00:10,  2.71s/it]"
          ]
        },
        {
          "output_type": "stream",
          "name": "stdout",
          "text": [
            "loss: 4.884618759155273\n",
            "avg_rank: 74.0107421875\n",
            "\n",
            "h_i.shape:  torch.Size([512, 256])\n",
            "Epoch 6/20\n"
          ]
        },
        {
          "output_type": "stream",
          "name": "stderr",
          "text": [
            "\r5it [00:13,  2.72s/it]"
          ]
        },
        {
          "output_type": "stream",
          "name": "stdout",
          "text": [
            "loss: 4.685678958892822\n",
            "avg_rank: 63.3974609375\n",
            "\n",
            "h_i.shape:  torch.Size([512, 256])\n",
            "Epoch 6/20\n"
          ]
        },
        {
          "output_type": "stream",
          "name": "stderr",
          "text": [
            "\r6it [00:16,  2.79s/it]"
          ]
        },
        {
          "output_type": "stream",
          "name": "stdout",
          "text": [
            "loss: 4.7653584480285645\n",
            "avg_rank: 67.92578125\n",
            "\n",
            "h_i.shape:  torch.Size([512, 256])\n",
            "Epoch 6/20\n"
          ]
        },
        {
          "output_type": "stream",
          "name": "stderr",
          "text": [
            "\r7it [00:19,  2.78s/it]"
          ]
        },
        {
          "output_type": "stream",
          "name": "stdout",
          "text": [
            "loss: 4.590887546539307\n",
            "avg_rank: 55.4892578125\n",
            "\n",
            "h_i.shape:  torch.Size([512, 256])\n",
            "Epoch 6/20\n"
          ]
        },
        {
          "output_type": "stream",
          "name": "stderr",
          "text": [
            "\r8it [00:22,  2.79s/it]"
          ]
        },
        {
          "output_type": "stream",
          "name": "stdout",
          "text": [
            "loss: 4.632050514221191\n",
            "avg_rank: 59.06640625\n",
            "\n",
            "h_i.shape:  torch.Size([512, 256])\n",
            "Epoch 6/20\n"
          ]
        },
        {
          "output_type": "stream",
          "name": "stderr",
          "text": [
            "\r9it [00:24,  2.76s/it]"
          ]
        },
        {
          "output_type": "stream",
          "name": "stdout",
          "text": [
            "loss: 4.861008644104004\n",
            "avg_rank: 73.1552734375\n",
            "\n",
            "h_i.shape:  torch.Size([512, 256])\n",
            "Epoch 6/20\n"
          ]
        },
        {
          "output_type": "stream",
          "name": "stderr",
          "text": [
            "\r10it [00:27,  2.76s/it]"
          ]
        },
        {
          "output_type": "stream",
          "name": "stdout",
          "text": [
            "loss: 5.017324447631836\n",
            "avg_rank: 83.1083984375\n",
            "\n",
            "h_i.shape:  torch.Size([512, 256])\n",
            "Epoch 6/20\n"
          ]
        },
        {
          "output_type": "stream",
          "name": "stderr",
          "text": [
            "\r11it [00:30,  2.75s/it]"
          ]
        },
        {
          "output_type": "stream",
          "name": "stdout",
          "text": [
            "loss: 4.6474080085754395\n",
            "avg_rank: 61.6259765625\n",
            "\n",
            "h_i.shape:  torch.Size([512, 256])\n",
            "Epoch 6/20\n"
          ]
        },
        {
          "output_type": "stream",
          "name": "stderr",
          "text": [
            "\r12it [00:32,  2.74s/it]"
          ]
        },
        {
          "output_type": "stream",
          "name": "stdout",
          "text": [
            "loss: 4.865360260009766\n",
            "avg_rank: 75.6513671875\n",
            "\n",
            "h_i.shape:  torch.Size([512, 256])\n",
            "Epoch 6/20\n"
          ]
        },
        {
          "output_type": "stream",
          "name": "stderr",
          "text": [
            "\r13it [00:35,  2.72s/it]"
          ]
        },
        {
          "output_type": "stream",
          "name": "stdout",
          "text": [
            "loss: 4.8528313636779785\n",
            "avg_rank: 79.4033203125\n",
            "\n",
            "h_i.shape:  torch.Size([512, 256])\n",
            "Epoch 6/20\n"
          ]
        },
        {
          "output_type": "stream",
          "name": "stderr",
          "text": [
            "\r14it [00:38,  2.72s/it]"
          ]
        },
        {
          "output_type": "stream",
          "name": "stdout",
          "text": [
            "loss: 4.738421440124512\n",
            "avg_rank: 63.2177734375\n",
            "\n",
            "h_i.shape:  torch.Size([512, 256])\n",
            "Epoch 6/20\n"
          ]
        },
        {
          "output_type": "stream",
          "name": "stderr",
          "text": [
            "\r15it [00:41,  2.72s/it]"
          ]
        },
        {
          "output_type": "stream",
          "name": "stdout",
          "text": [
            "loss: 4.86497163772583\n",
            "avg_rank: 74.8173828125\n",
            "\n",
            "h_i.shape:  torch.Size([512, 256])\n",
            "Epoch 6/20\n"
          ]
        },
        {
          "output_type": "stream",
          "name": "stderr",
          "text": [
            "\r16it [00:43,  2.72s/it]"
          ]
        },
        {
          "output_type": "stream",
          "name": "stdout",
          "text": [
            "loss: 4.800624370574951\n",
            "avg_rank: 68.40234375\n",
            "\n",
            "h_i.shape:  torch.Size([512, 256])\n",
            "Epoch 6/20\n"
          ]
        },
        {
          "output_type": "stream",
          "name": "stderr",
          "text": [
            "\r17it [00:46,  2.73s/it]"
          ]
        },
        {
          "output_type": "stream",
          "name": "stdout",
          "text": [
            "loss: 5.013887405395508\n",
            "avg_rank: 82.97265625\n",
            "\n",
            "h_i.shape:  torch.Size([512, 256])\n",
            "Epoch 6/20\n"
          ]
        },
        {
          "output_type": "stream",
          "name": "stderr",
          "text": [
            "\r18it [00:49,  2.75s/it]"
          ]
        },
        {
          "output_type": "stream",
          "name": "stdout",
          "text": [
            "loss: 4.716958045959473\n",
            "avg_rank: 62.1552734375\n",
            "\n",
            "h_i.shape:  torch.Size([512, 256])\n",
            "Epoch 6/20\n"
          ]
        },
        {
          "output_type": "stream",
          "name": "stderr",
          "text": [
            "\r19it [00:52,  2.82s/it]"
          ]
        },
        {
          "output_type": "stream",
          "name": "stdout",
          "text": [
            "loss: 4.6829423904418945\n",
            "avg_rank: 61.01953125\n",
            "\n",
            "h_i.shape:  torch.Size([512, 256])\n",
            "Epoch 6/20\n"
          ]
        },
        {
          "output_type": "stream",
          "name": "stderr",
          "text": [
            "\r20it [00:54,  2.77s/it]"
          ]
        },
        {
          "output_type": "stream",
          "name": "stdout",
          "text": [
            "loss: 4.726655960083008\n",
            "avg_rank: 68.4287109375\n",
            "\n",
            "h_i.shape:  torch.Size([512, 256])\n",
            "Epoch 6/20\n"
          ]
        },
        {
          "output_type": "stream",
          "name": "stderr",
          "text": [
            "\r21it [00:57,  2.71s/it]"
          ]
        },
        {
          "output_type": "stream",
          "name": "stdout",
          "text": [
            "loss: 4.807873725891113\n",
            "avg_rank: 66.43359375\n",
            "\n",
            "h_i.shape:  torch.Size([512, 256])\n",
            "Epoch 6/20\n"
          ]
        },
        {
          "output_type": "stream",
          "name": "stderr",
          "text": [
            "\r22it [01:00,  2.72s/it]"
          ]
        },
        {
          "output_type": "stream",
          "name": "stdout",
          "text": [
            "loss: 4.716423988342285\n",
            "avg_rank: 60.576171875\n",
            "\n",
            "h_i.shape:  torch.Size([512, 256])\n",
            "Epoch 6/20\n"
          ]
        },
        {
          "output_type": "stream",
          "name": "stderr",
          "text": [
            "\r23it [01:03,  2.75s/it]"
          ]
        },
        {
          "output_type": "stream",
          "name": "stdout",
          "text": [
            "loss: 4.731080532073975\n",
            "avg_rank: 65.3818359375\n",
            "\n",
            "h_i.shape:  torch.Size([512, 256])\n",
            "Epoch 6/20\n"
          ]
        },
        {
          "output_type": "stream",
          "name": "stderr",
          "text": [
            "\r24it [01:05,  2.77s/it]"
          ]
        },
        {
          "output_type": "stream",
          "name": "stdout",
          "text": [
            "loss: 4.590247631072998\n",
            "avg_rank: 62.3642578125\n",
            "\n",
            "h_i.shape:  torch.Size([512, 256])\n",
            "Epoch 6/20\n"
          ]
        },
        {
          "output_type": "stream",
          "name": "stderr",
          "text": [
            "\r25it [01:08,  2.75s/it]"
          ]
        },
        {
          "output_type": "stream",
          "name": "stdout",
          "text": [
            "loss: 4.681338310241699\n",
            "avg_rank: 68.302734375\n",
            "\n",
            "h_i.shape:  torch.Size([512, 256])\n",
            "Epoch 6/20\n"
          ]
        },
        {
          "output_type": "stream",
          "name": "stderr",
          "text": [
            "\r26it [01:11,  2.75s/it]"
          ]
        },
        {
          "output_type": "stream",
          "name": "stdout",
          "text": [
            "loss: 4.754901885986328\n",
            "avg_rank: 68.076171875\n",
            "\n",
            "h_i.shape:  torch.Size([512, 256])\n",
            "Epoch 6/20\n"
          ]
        },
        {
          "output_type": "stream",
          "name": "stderr",
          "text": [
            "\r27it [01:14,  2.71s/it]"
          ]
        },
        {
          "output_type": "stream",
          "name": "stdout",
          "text": [
            "loss: 4.61022424697876\n",
            "avg_rank: 55.44140625\n",
            "\n",
            "h_i.shape:  torch.Size([512, 256])\n",
            "Epoch 6/20\n"
          ]
        },
        {
          "output_type": "stream",
          "name": "stderr",
          "text": [
            "\r28it [01:16,  2.67s/it]"
          ]
        },
        {
          "output_type": "stream",
          "name": "stdout",
          "text": [
            "loss: 4.618077278137207\n",
            "avg_rank: 64.7421875\n",
            "\n",
            "h_i.shape:  torch.Size([512, 256])\n",
            "Epoch 6/20\n"
          ]
        },
        {
          "output_type": "stream",
          "name": "stderr",
          "text": [
            "\r29it [01:19,  2.65s/it]"
          ]
        },
        {
          "output_type": "stream",
          "name": "stdout",
          "text": [
            "loss: 4.707335948944092\n",
            "avg_rank: 63.1318359375\n",
            "\n",
            "h_i.shape:  torch.Size([512, 256])\n",
            "Epoch 6/20\n"
          ]
        },
        {
          "output_type": "stream",
          "name": "stderr",
          "text": [
            "\r30it [01:21,  2.63s/it]"
          ]
        },
        {
          "output_type": "stream",
          "name": "stdout",
          "text": [
            "loss: 4.596498489379883\n",
            "avg_rank: 60.5009765625\n",
            "\n",
            "h_i.shape:  torch.Size([512, 256])\n",
            "Epoch 6/20\n"
          ]
        },
        {
          "output_type": "stream",
          "name": "stderr",
          "text": [
            "\r31it [01:24,  2.59s/it]"
          ]
        },
        {
          "output_type": "stream",
          "name": "stdout",
          "text": [
            "loss: 4.644674301147461\n",
            "avg_rank: 61.123046875\n",
            "\n",
            "h_i.shape:  torch.Size([512, 256])\n",
            "Epoch 6/20\n"
          ]
        },
        {
          "output_type": "stream",
          "name": "stderr",
          "text": [
            "\r32it [01:26,  2.61s/it]"
          ]
        },
        {
          "output_type": "stream",
          "name": "stdout",
          "text": [
            "loss: 4.63457727432251\n",
            "avg_rank: 56.4599609375\n",
            "\n",
            "h_i.shape:  torch.Size([512, 256])\n",
            "Epoch 6/20\n"
          ]
        },
        {
          "output_type": "stream",
          "name": "stderr",
          "text": [
            "\r33it [01:29,  2.61s/it]"
          ]
        },
        {
          "output_type": "stream",
          "name": "stdout",
          "text": [
            "loss: 4.6285247802734375\n",
            "avg_rank: 57.2197265625\n",
            "\n",
            "h_i.shape:  torch.Size([512, 256])\n",
            "Epoch 6/20\n"
          ]
        },
        {
          "output_type": "stream",
          "name": "stderr",
          "text": [
            "\r34it [01:32,  2.63s/it]"
          ]
        },
        {
          "output_type": "stream",
          "name": "stdout",
          "text": [
            "loss: 4.631767749786377\n",
            "avg_rank: 57.7919921875\n",
            "\n",
            "h_i.shape:  torch.Size([512, 256])\n",
            "Epoch 6/20\n"
          ]
        },
        {
          "output_type": "stream",
          "name": "stderr",
          "text": [
            "\r35it [01:34,  2.63s/it]"
          ]
        },
        {
          "output_type": "stream",
          "name": "stdout",
          "text": [
            "loss: 4.483454704284668\n",
            "avg_rank: 53.0751953125\n",
            "\n",
            "h_i.shape:  torch.Size([512, 256])\n",
            "Epoch 6/20\n"
          ]
        },
        {
          "output_type": "stream",
          "name": "stderr",
          "text": [
            "\r36it [01:37,  2.65s/it]"
          ]
        },
        {
          "output_type": "stream",
          "name": "stdout",
          "text": [
            "loss: 4.802603721618652\n",
            "avg_rank: 72.9794921875\n",
            "\n",
            "h_i.shape:  torch.Size([512, 256])\n",
            "Epoch 6/20\n"
          ]
        },
        {
          "output_type": "stream",
          "name": "stderr",
          "text": [
            "\r37it [01:40,  2.63s/it]"
          ]
        },
        {
          "output_type": "stream",
          "name": "stdout",
          "text": [
            "loss: 4.604766368865967\n",
            "avg_rank: 59.4462890625\n",
            "\n",
            "h_i.shape:  torch.Size([512, 256])\n",
            "Epoch 6/20\n"
          ]
        },
        {
          "output_type": "stream",
          "name": "stderr",
          "text": [
            "38it [01:42,  2.70s/it]\n"
          ]
        },
        {
          "output_type": "stream",
          "name": "stdout",
          "text": [
            "loss: 4.782779216766357\n",
            "avg_rank: 66.0048828125\n",
            "\n"
          ]
        },
        {
          "output_type": "stream",
          "name": "stderr",
          "text": [
            "100%|██████████| 9949/9949 [00:21<00:00, 459.35it/s]\n",
            "100%|██████████| 9949/9949 [00:01<00:00, 5441.70it/s]\n",
            "100%|██████████| 9949/9949 [00:05<00:00, 1823.04it/s]\n",
            "100%|██████████| 9949/9949 [00:01<00:00, 5395.89it/s]\n"
          ]
        },
        {
          "output_type": "stream",
          "name": "stdout",
          "text": [
            "Validation nDCG on epoch 5\n",
            "Encoder - 0.26452645193320734\n",
            "Projector - 0.28152653673017713\n"
          ]
        },
        {
          "output_type": "stream",
          "name": "stderr",
          "text": [
            "\r0it [00:00, ?it/s]"
          ]
        },
        {
          "output_type": "stream",
          "name": "stdout",
          "text": [
            "h_i.shape:  torch.Size([512, 256])\n",
            "Epoch 7/20\n"
          ]
        },
        {
          "output_type": "stream",
          "name": "stderr",
          "text": [
            "\r1it [00:02,  2.71s/it]"
          ]
        },
        {
          "output_type": "stream",
          "name": "stdout",
          "text": [
            "loss: 4.637939929962158\n",
            "avg_rank: 59.275390625\n",
            "\n",
            "h_i.shape:  torch.Size([512, 256])\n",
            "Epoch 7/20\n"
          ]
        },
        {
          "output_type": "stream",
          "name": "stderr",
          "text": [
            "\r2it [00:05,  2.60s/it]"
          ]
        },
        {
          "output_type": "stream",
          "name": "stdout",
          "text": [
            "loss: 4.886902809143066\n",
            "avg_rank: 78.4794921875\n",
            "\n",
            "h_i.shape:  torch.Size([512, 256])\n",
            "Epoch 7/20\n"
          ]
        },
        {
          "output_type": "stream",
          "name": "stderr",
          "text": [
            "\r3it [00:07,  2.57s/it]"
          ]
        },
        {
          "output_type": "stream",
          "name": "stdout",
          "text": [
            "loss: 4.773802280426025\n",
            "avg_rank: 69.44921875\n",
            "\n",
            "h_i.shape:  torch.Size([512, 256])\n",
            "Epoch 7/20\n"
          ]
        },
        {
          "output_type": "stream",
          "name": "stderr",
          "text": [
            "\r4it [00:10,  2.58s/it]"
          ]
        },
        {
          "output_type": "stream",
          "name": "stdout",
          "text": [
            "loss: 4.713290214538574\n",
            "avg_rank: 62.4150390625\n",
            "\n",
            "h_i.shape:  torch.Size([512, 256])\n",
            "Epoch 7/20\n"
          ]
        },
        {
          "output_type": "stream",
          "name": "stderr",
          "text": [
            "\r5it [00:13,  2.63s/it]"
          ]
        },
        {
          "output_type": "stream",
          "name": "stdout",
          "text": [
            "loss: 4.547182083129883\n",
            "avg_rank: 50.234375\n",
            "\n",
            "h_i.shape:  torch.Size([512, 256])\n",
            "Epoch 7/20\n"
          ]
        },
        {
          "output_type": "stream",
          "name": "stderr",
          "text": [
            "\r6it [00:15,  2.70s/it]"
          ]
        },
        {
          "output_type": "stream",
          "name": "stdout",
          "text": [
            "loss: 4.668346405029297\n",
            "avg_rank: 60.892578125\n",
            "\n",
            "h_i.shape:  torch.Size([512, 256])\n",
            "Epoch 7/20\n"
          ]
        },
        {
          "output_type": "stream",
          "name": "stderr",
          "text": [
            "\r7it [00:18,  2.68s/it]"
          ]
        },
        {
          "output_type": "stream",
          "name": "stdout",
          "text": [
            "loss: 4.55114221572876\n",
            "avg_rank: 55.0830078125\n",
            "\n",
            "h_i.shape:  torch.Size([512, 256])\n",
            "Epoch 7/20\n"
          ]
        },
        {
          "output_type": "stream",
          "name": "stderr",
          "text": [
            "\r8it [00:21,  2.68s/it]"
          ]
        },
        {
          "output_type": "stream",
          "name": "stdout",
          "text": [
            "loss: 4.629229545593262\n",
            "avg_rank: 59.03125\n",
            "\n",
            "h_i.shape:  torch.Size([512, 256])\n",
            "Epoch 7/20\n"
          ]
        },
        {
          "output_type": "stream",
          "name": "stderr",
          "text": [
            "\r9it [00:23,  2.68s/it]"
          ]
        },
        {
          "output_type": "stream",
          "name": "stdout",
          "text": [
            "loss: 4.717534065246582\n",
            "avg_rank: 66.880859375\n",
            "\n",
            "h_i.shape:  torch.Size([512, 256])\n",
            "Epoch 7/20\n"
          ]
        },
        {
          "output_type": "stream",
          "name": "stderr",
          "text": [
            "\r10it [00:26,  2.70s/it]"
          ]
        },
        {
          "output_type": "stream",
          "name": "stdout",
          "text": [
            "loss: 4.834478378295898\n",
            "avg_rank: 74.6728515625\n",
            "\n",
            "h_i.shape:  torch.Size([512, 256])\n",
            "Epoch 7/20\n"
          ]
        },
        {
          "output_type": "stream",
          "name": "stderr",
          "text": [
            "\r11it [00:29,  2.68s/it]"
          ]
        },
        {
          "output_type": "stream",
          "name": "stdout",
          "text": [
            "loss: 4.596750259399414\n",
            "avg_rank: 60.986328125\n",
            "\n",
            "h_i.shape:  torch.Size([512, 256])\n",
            "Epoch 7/20\n"
          ]
        },
        {
          "output_type": "stream",
          "name": "stderr",
          "text": [
            "\r12it [00:31,  2.67s/it]"
          ]
        },
        {
          "output_type": "stream",
          "name": "stdout",
          "text": [
            "loss: 4.677430152893066\n",
            "avg_rank: 64.58984375\n",
            "\n",
            "h_i.shape:  torch.Size([512, 256])\n",
            "Epoch 7/20\n"
          ]
        },
        {
          "output_type": "stream",
          "name": "stderr",
          "text": [
            "\r13it [00:34,  2.65s/it]"
          ]
        },
        {
          "output_type": "stream",
          "name": "stdout",
          "text": [
            "loss: 4.742901802062988\n",
            "avg_rank: 67.9228515625\n",
            "\n",
            "h_i.shape:  torch.Size([512, 256])\n",
            "Epoch 7/20\n"
          ]
        },
        {
          "output_type": "stream",
          "name": "stderr",
          "text": [
            "\r14it [00:37,  2.65s/it]"
          ]
        },
        {
          "output_type": "stream",
          "name": "stdout",
          "text": [
            "loss: 4.759549617767334\n",
            "avg_rank: 65.06640625\n",
            "\n",
            "h_i.shape:  torch.Size([512, 256])\n",
            "Epoch 7/20\n"
          ]
        },
        {
          "output_type": "stream",
          "name": "stderr",
          "text": [
            "\r15it [00:39,  2.64s/it]"
          ]
        },
        {
          "output_type": "stream",
          "name": "stdout",
          "text": [
            "loss: 4.721566677093506\n",
            "avg_rank: 66.693359375\n",
            "\n",
            "h_i.shape:  torch.Size([512, 256])\n",
            "Epoch 7/20\n"
          ]
        },
        {
          "output_type": "stream",
          "name": "stderr",
          "text": [
            "\r16it [00:42,  2.64s/it]"
          ]
        },
        {
          "output_type": "stream",
          "name": "stdout",
          "text": [
            "loss: 4.80946683883667\n",
            "avg_rank: 70.642578125\n",
            "\n",
            "h_i.shape:  torch.Size([512, 256])\n",
            "Epoch 7/20\n"
          ]
        },
        {
          "output_type": "stream",
          "name": "stderr",
          "text": [
            "\r17it [00:45,  2.66s/it]"
          ]
        },
        {
          "output_type": "stream",
          "name": "stdout",
          "text": [
            "loss: 4.984455108642578\n",
            "avg_rank: 82.14453125\n",
            "\n",
            "h_i.shape:  torch.Size([512, 256])\n",
            "Epoch 7/20\n"
          ]
        },
        {
          "output_type": "stream",
          "name": "stderr",
          "text": [
            "\r18it [00:47,  2.64s/it]"
          ]
        },
        {
          "output_type": "stream",
          "name": "stdout",
          "text": [
            "loss: 4.620924949645996\n",
            "avg_rank: 53.4423828125\n",
            "\n",
            "h_i.shape:  torch.Size([512, 256])\n",
            "Epoch 7/20\n"
          ]
        },
        {
          "output_type": "stream",
          "name": "stderr",
          "text": [
            "\r19it [00:50,  2.66s/it]"
          ]
        },
        {
          "output_type": "stream",
          "name": "stdout",
          "text": [
            "loss: 4.685205459594727\n",
            "avg_rank: 65.095703125\n",
            "\n",
            "h_i.shape:  torch.Size([512, 256])\n",
            "Epoch 7/20\n"
          ]
        },
        {
          "output_type": "stream",
          "name": "stderr",
          "text": [
            "\r20it [00:53,  2.69s/it]"
          ]
        },
        {
          "output_type": "stream",
          "name": "stdout",
          "text": [
            "loss: 4.621496200561523\n",
            "avg_rank: 59.5625\n",
            "\n",
            "h_i.shape:  torch.Size([512, 256])\n",
            "Epoch 7/20\n"
          ]
        },
        {
          "output_type": "stream",
          "name": "stderr",
          "text": [
            "\r21it [00:56,  2.75s/it]"
          ]
        },
        {
          "output_type": "stream",
          "name": "stdout",
          "text": [
            "loss: 4.696955680847168\n",
            "avg_rank: 61.138671875\n",
            "\n",
            "h_i.shape:  torch.Size([512, 256])\n",
            "Epoch 7/20\n"
          ]
        },
        {
          "output_type": "stream",
          "name": "stderr",
          "text": [
            "\r22it [00:59,  2.84s/it]"
          ]
        },
        {
          "output_type": "stream",
          "name": "stdout",
          "text": [
            "loss: 4.59011173248291\n",
            "avg_rank: 58.861328125\n",
            "\n",
            "h_i.shape:  torch.Size([512, 256])\n",
            "Epoch 7/20\n"
          ]
        },
        {
          "output_type": "stream",
          "name": "stderr",
          "text": [
            "\r23it [01:02,  2.87s/it]"
          ]
        },
        {
          "output_type": "stream",
          "name": "stdout",
          "text": [
            "loss: 4.7201433181762695\n",
            "avg_rank: 64.515625\n",
            "\n",
            "h_i.shape:  torch.Size([512, 256])\n",
            "Epoch 7/20\n"
          ]
        },
        {
          "output_type": "stream",
          "name": "stderr",
          "text": [
            "\r24it [01:05,  2.88s/it]"
          ]
        },
        {
          "output_type": "stream",
          "name": "stdout",
          "text": [
            "loss: 4.629546165466309\n",
            "avg_rank: 63.1806640625\n",
            "\n",
            "h_i.shape:  torch.Size([512, 256])\n",
            "Epoch 7/20\n"
          ]
        },
        {
          "output_type": "stream",
          "name": "stderr",
          "text": [
            "\r25it [01:07,  2.86s/it]"
          ]
        },
        {
          "output_type": "stream",
          "name": "stdout",
          "text": [
            "loss: 4.612016677856445\n",
            "avg_rank: 55.201171875\n",
            "\n",
            "h_i.shape:  torch.Size([512, 256])\n",
            "Epoch 7/20\n"
          ]
        },
        {
          "output_type": "stream",
          "name": "stderr",
          "text": [
            "\r26it [01:10,  2.88s/it]"
          ]
        },
        {
          "output_type": "stream",
          "name": "stdout",
          "text": [
            "loss: 4.709835052490234\n",
            "avg_rank: 64.3037109375\n",
            "\n",
            "h_i.shape:  torch.Size([512, 256])\n",
            "Epoch 7/20\n"
          ]
        },
        {
          "output_type": "stream",
          "name": "stderr",
          "text": [
            "\r27it [01:13,  2.83s/it]"
          ]
        },
        {
          "output_type": "stream",
          "name": "stdout",
          "text": [
            "loss: 4.556572914123535\n",
            "avg_rank: 55.462890625\n",
            "\n",
            "h_i.shape:  torch.Size([512, 256])\n",
            "Epoch 7/20\n"
          ]
        },
        {
          "output_type": "stream",
          "name": "stderr",
          "text": [
            "\r28it [01:16,  2.80s/it]"
          ]
        },
        {
          "output_type": "stream",
          "name": "stdout",
          "text": [
            "loss: 4.490535259246826\n",
            "avg_rank: 57.826171875\n",
            "\n",
            "h_i.shape:  torch.Size([512, 256])\n",
            "Epoch 7/20\n"
          ]
        },
        {
          "output_type": "stream",
          "name": "stderr",
          "text": [
            "\r29it [01:19,  2.81s/it]"
          ]
        },
        {
          "output_type": "stream",
          "name": "stdout",
          "text": [
            "loss: 4.5924506187438965\n",
            "avg_rank: 63.275390625\n",
            "\n",
            "h_i.shape:  torch.Size([512, 256])\n",
            "Epoch 7/20\n"
          ]
        },
        {
          "output_type": "stream",
          "name": "stderr",
          "text": [
            "\r30it [01:21,  2.81s/it]"
          ]
        },
        {
          "output_type": "stream",
          "name": "stdout",
          "text": [
            "loss: 4.533586025238037\n",
            "avg_rank: 56.80078125\n",
            "\n",
            "h_i.shape:  torch.Size([512, 256])\n",
            "Epoch 7/20\n"
          ]
        },
        {
          "output_type": "stream",
          "name": "stderr",
          "text": [
            "\r31it [01:24,  2.79s/it]"
          ]
        },
        {
          "output_type": "stream",
          "name": "stdout",
          "text": [
            "loss: 4.597079277038574\n",
            "avg_rank: 59.5693359375\n",
            "\n",
            "h_i.shape:  torch.Size([512, 256])\n",
            "Epoch 7/20\n"
          ]
        },
        {
          "output_type": "stream",
          "name": "stderr",
          "text": [
            "\r32it [01:27,  2.80s/it]"
          ]
        },
        {
          "output_type": "stream",
          "name": "stdout",
          "text": [
            "loss: 4.645355701446533\n",
            "avg_rank: 62.33203125\n",
            "\n",
            "h_i.shape:  torch.Size([512, 256])\n",
            "Epoch 7/20\n"
          ]
        },
        {
          "output_type": "stream",
          "name": "stderr",
          "text": [
            "\r33it [01:30,  2.77s/it]"
          ]
        },
        {
          "output_type": "stream",
          "name": "stdout",
          "text": [
            "loss: 4.649918556213379\n",
            "avg_rank: 60.3427734375\n",
            "\n",
            "h_i.shape:  torch.Size([512, 256])\n",
            "Epoch 7/20\n"
          ]
        },
        {
          "output_type": "stream",
          "name": "stderr",
          "text": [
            "\r34it [01:32,  2.78s/it]"
          ]
        },
        {
          "output_type": "stream",
          "name": "stdout",
          "text": [
            "loss: 4.566908836364746\n",
            "avg_rank: 53.0478515625\n",
            "\n",
            "h_i.shape:  torch.Size([512, 256])\n",
            "Epoch 7/20\n"
          ]
        },
        {
          "output_type": "stream",
          "name": "stderr",
          "text": [
            "\r35it [01:35,  2.78s/it]"
          ]
        },
        {
          "output_type": "stream",
          "name": "stdout",
          "text": [
            "loss: 4.471042633056641\n",
            "avg_rank: 56.0732421875\n",
            "\n",
            "h_i.shape:  torch.Size([512, 256])\n",
            "Epoch 7/20\n"
          ]
        },
        {
          "output_type": "stream",
          "name": "stderr",
          "text": [
            "\r36it [01:38,  2.79s/it]"
          ]
        },
        {
          "output_type": "stream",
          "name": "stdout",
          "text": [
            "loss: 4.658896446228027\n",
            "avg_rank: 66.6552734375\n",
            "\n",
            "h_i.shape:  torch.Size([512, 256])\n",
            "Epoch 7/20\n"
          ]
        },
        {
          "output_type": "stream",
          "name": "stderr",
          "text": [
            "\r37it [01:41,  2.79s/it]"
          ]
        },
        {
          "output_type": "stream",
          "name": "stdout",
          "text": [
            "loss: 4.557744026184082\n",
            "avg_rank: 57.529296875\n",
            "\n",
            "h_i.shape:  torch.Size([512, 256])\n",
            "Epoch 7/20\n"
          ]
        },
        {
          "output_type": "stream",
          "name": "stderr",
          "text": [
            "38it [01:44,  2.74s/it]\n"
          ]
        },
        {
          "output_type": "stream",
          "name": "stdout",
          "text": [
            "loss: 4.778086185455322\n",
            "avg_rank: 67.1533203125\n",
            "\n"
          ]
        },
        {
          "output_type": "stream",
          "name": "stderr",
          "text": [
            "100%|██████████| 9949/9949 [00:22<00:00, 437.84it/s]\n",
            "100%|██████████| 9949/9949 [00:01<00:00, 5503.11it/s]\n",
            "100%|██████████| 9949/9949 [00:05<00:00, 1773.35it/s]\n",
            "100%|██████████| 9949/9949 [00:01<00:00, 5130.19it/s]\n"
          ]
        },
        {
          "output_type": "stream",
          "name": "stdout",
          "text": [
            "Validation nDCG on epoch 6\n",
            "Encoder - 0.2743775606331548\n",
            "Projector - 0.2924048152660072\n"
          ]
        },
        {
          "output_type": "stream",
          "name": "stderr",
          "text": [
            "\r0it [00:00, ?it/s]"
          ]
        },
        {
          "output_type": "stream",
          "name": "stdout",
          "text": [
            "h_i.shape:  torch.Size([512, 256])\n",
            "Epoch 8/20\n"
          ]
        },
        {
          "output_type": "stream",
          "name": "stderr",
          "text": [
            "\r1it [00:02,  2.77s/it]"
          ]
        },
        {
          "output_type": "stream",
          "name": "stdout",
          "text": [
            "loss: 4.585975170135498\n",
            "avg_rank: 58.6044921875\n",
            "\n",
            "h_i.shape:  torch.Size([512, 256])\n",
            "Epoch 8/20\n"
          ]
        },
        {
          "output_type": "stream",
          "name": "stderr",
          "text": [
            "\r2it [00:05,  2.69s/it]"
          ]
        },
        {
          "output_type": "stream",
          "name": "stdout",
          "text": [
            "loss: 4.833623886108398\n",
            "avg_rank: 77.892578125\n",
            "\n",
            "h_i.shape:  torch.Size([512, 256])\n",
            "Epoch 8/20\n"
          ]
        },
        {
          "output_type": "stream",
          "name": "stderr",
          "text": [
            "\r3it [00:08,  2.75s/it]"
          ]
        },
        {
          "output_type": "stream",
          "name": "stdout",
          "text": [
            "loss: 4.781599521636963\n",
            "avg_rank: 67.14453125\n",
            "\n",
            "h_i.shape:  torch.Size([512, 256])\n",
            "Epoch 8/20\n"
          ]
        },
        {
          "output_type": "stream",
          "name": "stderr",
          "text": [
            "\r4it [00:11,  2.77s/it]"
          ]
        },
        {
          "output_type": "stream",
          "name": "stdout",
          "text": [
            "loss: 4.703304767608643\n",
            "avg_rank: 65.8056640625\n",
            "\n",
            "h_i.shape:  torch.Size([512, 256])\n",
            "Epoch 8/20\n"
          ]
        },
        {
          "output_type": "stream",
          "name": "stderr",
          "text": [
            "\r5it [00:13,  2.77s/it]"
          ]
        },
        {
          "output_type": "stream",
          "name": "stdout",
          "text": [
            "loss: 4.630473613739014\n",
            "avg_rank: 54.5380859375\n",
            "\n",
            "h_i.shape:  torch.Size([512, 256])\n",
            "Epoch 8/20\n"
          ]
        },
        {
          "output_type": "stream",
          "name": "stderr",
          "text": [
            "\r6it [00:16,  2.76s/it]"
          ]
        },
        {
          "output_type": "stream",
          "name": "stdout",
          "text": [
            "loss: 4.636473178863525\n",
            "avg_rank: 58.5009765625\n",
            "\n",
            "h_i.shape:  torch.Size([512, 256])\n",
            "Epoch 8/20\n"
          ]
        },
        {
          "output_type": "stream",
          "name": "stderr",
          "text": [
            "\r7it [00:19,  2.76s/it]"
          ]
        },
        {
          "output_type": "stream",
          "name": "stdout",
          "text": [
            "loss: 4.5222063064575195\n",
            "avg_rank: 54.16796875\n",
            "\n",
            "h_i.shape:  torch.Size([512, 256])\n",
            "Epoch 8/20\n"
          ]
        },
        {
          "output_type": "stream",
          "name": "stderr",
          "text": [
            "\r8it [00:22,  2.77s/it]"
          ]
        },
        {
          "output_type": "stream",
          "name": "stdout",
          "text": [
            "loss: 4.573315143585205\n",
            "avg_rank: 60.923828125\n",
            "\n",
            "h_i.shape:  torch.Size([512, 256])\n",
            "Epoch 8/20\n"
          ]
        },
        {
          "output_type": "stream",
          "name": "stderr",
          "text": [
            "\r9it [00:24,  2.77s/it]"
          ]
        },
        {
          "output_type": "stream",
          "name": "stdout",
          "text": [
            "loss: 4.753661632537842\n",
            "avg_rank: 69.8681640625\n",
            "\n",
            "h_i.shape:  torch.Size([512, 256])\n",
            "Epoch 8/20\n"
          ]
        },
        {
          "output_type": "stream",
          "name": "stderr",
          "text": [
            "\r10it [00:27,  2.79s/it]"
          ]
        },
        {
          "output_type": "stream",
          "name": "stdout",
          "text": [
            "loss: 4.801357269287109\n",
            "avg_rank: 72.5029296875\n",
            "\n",
            "h_i.shape:  torch.Size([512, 256])\n",
            "Epoch 8/20\n"
          ]
        },
        {
          "output_type": "stream",
          "name": "stderr",
          "text": [
            "\r11it [00:30,  2.79s/it]"
          ]
        },
        {
          "output_type": "stream",
          "name": "stdout",
          "text": [
            "loss: 4.594327926635742\n",
            "avg_rank: 64.5771484375\n",
            "\n",
            "h_i.shape:  torch.Size([512, 256])\n",
            "Epoch 8/20\n"
          ]
        },
        {
          "output_type": "stream",
          "name": "stderr",
          "text": [
            "\r12it [00:33,  2.77s/it]"
          ]
        },
        {
          "output_type": "stream",
          "name": "stdout",
          "text": [
            "loss: 4.64363956451416\n",
            "avg_rank: 60.0986328125\n",
            "\n",
            "h_i.shape:  torch.Size([512, 256])\n",
            "Epoch 8/20\n"
          ]
        },
        {
          "output_type": "stream",
          "name": "stderr",
          "text": [
            "\r13it [00:35,  2.73s/it]"
          ]
        },
        {
          "output_type": "stream",
          "name": "stdout",
          "text": [
            "loss: 4.668474197387695\n",
            "avg_rank: 64.7958984375\n",
            "\n",
            "h_i.shape:  torch.Size([512, 256])\n",
            "Epoch 8/20\n"
          ]
        },
        {
          "output_type": "stream",
          "name": "stderr",
          "text": [
            "\r14it [00:38,  2.71s/it]"
          ]
        },
        {
          "output_type": "stream",
          "name": "stdout",
          "text": [
            "loss: 4.623939037322998\n",
            "avg_rank: 59.4560546875\n",
            "\n",
            "h_i.shape:  torch.Size([512, 256])\n",
            "Epoch 8/20\n"
          ]
        },
        {
          "output_type": "stream",
          "name": "stderr",
          "text": [
            "\r15it [00:41,  2.68s/it]"
          ]
        },
        {
          "output_type": "stream",
          "name": "stdout",
          "text": [
            "loss: 4.834746360778809\n",
            "avg_rank: 71.7890625\n",
            "\n",
            "h_i.shape:  torch.Size([512, 256])\n",
            "Epoch 8/20\n"
          ]
        },
        {
          "output_type": "stream",
          "name": "stderr",
          "text": [
            "\r16it [00:43,  2.67s/it]"
          ]
        },
        {
          "output_type": "stream",
          "name": "stdout",
          "text": [
            "loss: 4.653343200683594\n",
            "avg_rank: 63.6435546875\n",
            "\n",
            "h_i.shape:  torch.Size([512, 256])\n",
            "Epoch 8/20\n"
          ]
        },
        {
          "output_type": "stream",
          "name": "stderr",
          "text": [
            "\r17it [00:46,  2.67s/it]"
          ]
        },
        {
          "output_type": "stream",
          "name": "stdout",
          "text": [
            "loss: 4.913127899169922\n",
            "avg_rank: 79.7294921875\n",
            "\n",
            "h_i.shape:  torch.Size([512, 256])\n",
            "Epoch 8/20\n"
          ]
        },
        {
          "output_type": "stream",
          "name": "stderr",
          "text": [
            "\r18it [00:49,  2.67s/it]"
          ]
        },
        {
          "output_type": "stream",
          "name": "stdout",
          "text": [
            "loss: 4.573333263397217\n",
            "avg_rank: 54.5263671875\n",
            "\n",
            "h_i.shape:  torch.Size([512, 256])\n",
            "Epoch 8/20\n"
          ]
        },
        {
          "output_type": "stream",
          "name": "stderr",
          "text": [
            "\r19it [00:51,  2.72s/it]"
          ]
        },
        {
          "output_type": "stream",
          "name": "stdout",
          "text": [
            "loss: 4.635776519775391\n",
            "avg_rank: 60.7568359375\n",
            "\n",
            "h_i.shape:  torch.Size([512, 256])\n",
            "Epoch 8/20\n"
          ]
        },
        {
          "output_type": "stream",
          "name": "stderr",
          "text": [
            "\r20it [00:54,  2.77s/it]"
          ]
        },
        {
          "output_type": "stream",
          "name": "stdout",
          "text": [
            "loss: 4.720759391784668\n",
            "avg_rank: 68.630859375\n",
            "\n",
            "h_i.shape:  torch.Size([512, 256])\n",
            "Epoch 8/20\n"
          ]
        },
        {
          "output_type": "stream",
          "name": "stderr",
          "text": [
            "\r21it [00:57,  2.79s/it]"
          ]
        },
        {
          "output_type": "stream",
          "name": "stdout",
          "text": [
            "loss: 4.639673709869385\n",
            "avg_rank: 59.08984375\n",
            "\n",
            "h_i.shape:  torch.Size([512, 256])\n",
            "Epoch 8/20\n"
          ]
        },
        {
          "output_type": "stream",
          "name": "stderr",
          "text": [
            "\r22it [01:00,  2.78s/it]"
          ]
        },
        {
          "output_type": "stream",
          "name": "stdout",
          "text": [
            "loss: 4.611738681793213\n",
            "avg_rank: 58.3408203125\n",
            "\n",
            "h_i.shape:  torch.Size([512, 256])\n",
            "Epoch 8/20\n"
          ]
        },
        {
          "output_type": "stream",
          "name": "stderr",
          "text": [
            "\r23it [01:03,  2.80s/it]"
          ]
        },
        {
          "output_type": "stream",
          "name": "stdout",
          "text": [
            "loss: 4.621867656707764\n",
            "avg_rank: 63.287109375\n",
            "\n",
            "h_i.shape:  torch.Size([512, 256])\n",
            "Epoch 8/20\n"
          ]
        },
        {
          "output_type": "stream",
          "name": "stderr",
          "text": [
            "\r24it [01:06,  2.81s/it]"
          ]
        },
        {
          "output_type": "stream",
          "name": "stdout",
          "text": [
            "loss: 4.478183269500732\n",
            "avg_rank: 56.720703125\n",
            "\n",
            "h_i.shape:  torch.Size([512, 256])\n",
            "Epoch 8/20\n"
          ]
        },
        {
          "output_type": "stream",
          "name": "stderr",
          "text": [
            "\r25it [01:08,  2.79s/it]"
          ]
        },
        {
          "output_type": "stream",
          "name": "stdout",
          "text": [
            "loss: 4.58889627456665\n",
            "avg_rank: 58.6142578125\n",
            "\n",
            "h_i.shape:  torch.Size([512, 256])\n",
            "Epoch 8/20\n"
          ]
        },
        {
          "output_type": "stream",
          "name": "stderr",
          "text": [
            "\r26it [01:11,  2.79s/it]"
          ]
        },
        {
          "output_type": "stream",
          "name": "stdout",
          "text": [
            "loss: 4.759913444519043\n",
            "avg_rank: 70.587890625\n",
            "\n",
            "h_i.shape:  torch.Size([512, 256])\n",
            "Epoch 8/20\n"
          ]
        },
        {
          "output_type": "stream",
          "name": "stderr",
          "text": [
            "\r27it [01:14,  2.75s/it]"
          ]
        },
        {
          "output_type": "stream",
          "name": "stdout",
          "text": [
            "loss: 4.549991607666016\n",
            "avg_rank: 54.7470703125\n",
            "\n",
            "h_i.shape:  torch.Size([512, 256])\n",
            "Epoch 8/20\n"
          ]
        },
        {
          "output_type": "stream",
          "name": "stderr",
          "text": [
            "\r28it [01:16,  2.70s/it]"
          ]
        },
        {
          "output_type": "stream",
          "name": "stdout",
          "text": [
            "loss: 4.565689563751221\n",
            "avg_rank: 57.2607421875\n",
            "\n",
            "h_i.shape:  torch.Size([512, 256])\n",
            "Epoch 8/20\n"
          ]
        },
        {
          "output_type": "stream",
          "name": "stderr",
          "text": [
            "\r29it [01:19,  2.66s/it]"
          ]
        },
        {
          "output_type": "stream",
          "name": "stdout",
          "text": [
            "loss: 4.56442403793335\n",
            "avg_rank: 61.9833984375\n",
            "\n",
            "h_i.shape:  torch.Size([512, 256])\n",
            "Epoch 8/20\n"
          ]
        },
        {
          "output_type": "stream",
          "name": "stderr",
          "text": [
            "\r30it [01:22,  2.64s/it]"
          ]
        },
        {
          "output_type": "stream",
          "name": "stdout",
          "text": [
            "loss: 4.448354721069336\n",
            "avg_rank: 54.513671875\n",
            "\n",
            "h_i.shape:  torch.Size([512, 256])\n",
            "Epoch 8/20\n"
          ]
        },
        {
          "output_type": "stream",
          "name": "stderr",
          "text": [
            "\r31it [01:24,  2.62s/it]"
          ]
        },
        {
          "output_type": "stream",
          "name": "stdout",
          "text": [
            "loss: 4.561222076416016\n",
            "avg_rank: 59.0205078125\n",
            "\n",
            "h_i.shape:  torch.Size([512, 256])\n",
            "Epoch 8/20\n"
          ]
        },
        {
          "output_type": "stream",
          "name": "stderr",
          "text": [
            "\r32it [01:27,  2.62s/it]"
          ]
        },
        {
          "output_type": "stream",
          "name": "stdout",
          "text": [
            "loss: 4.636632442474365\n",
            "avg_rank: 63.46875\n",
            "\n",
            "h_i.shape:  torch.Size([512, 256])\n",
            "Epoch 8/20\n"
          ]
        },
        {
          "output_type": "stream",
          "name": "stderr",
          "text": [
            "\r33it [01:29,  2.62s/it]"
          ]
        },
        {
          "output_type": "stream",
          "name": "stdout",
          "text": [
            "loss: 4.5291666984558105\n",
            "avg_rank: 57.787109375\n",
            "\n",
            "h_i.shape:  torch.Size([512, 256])\n",
            "Epoch 8/20\n"
          ]
        },
        {
          "output_type": "stream",
          "name": "stderr",
          "text": [
            "\r34it [01:32,  2.63s/it]"
          ]
        },
        {
          "output_type": "stream",
          "name": "stdout",
          "text": [
            "loss: 4.538742542266846\n",
            "avg_rank: 50.7734375\n",
            "\n",
            "h_i.shape:  torch.Size([512, 256])\n",
            "Epoch 8/20\n"
          ]
        },
        {
          "output_type": "stream",
          "name": "stderr",
          "text": [
            "\r35it [01:35,  2.64s/it]"
          ]
        },
        {
          "output_type": "stream",
          "name": "stdout",
          "text": [
            "loss: 4.505039691925049\n",
            "avg_rank: 57.9248046875\n",
            "\n",
            "h_i.shape:  torch.Size([512, 256])\n",
            "Epoch 8/20\n"
          ]
        },
        {
          "output_type": "stream",
          "name": "stderr",
          "text": [
            "\r36it [01:37,  2.66s/it]"
          ]
        },
        {
          "output_type": "stream",
          "name": "stdout",
          "text": [
            "loss: 4.733572959899902\n",
            "avg_rank: 66.1240234375\n",
            "\n",
            "h_i.shape:  torch.Size([512, 256])\n",
            "Epoch 8/20\n"
          ]
        },
        {
          "output_type": "stream",
          "name": "stderr",
          "text": [
            "\r37it [01:40,  2.70s/it]"
          ]
        },
        {
          "output_type": "stream",
          "name": "stdout",
          "text": [
            "loss: 4.729612350463867\n",
            "avg_rank: 66.115234375\n",
            "\n",
            "h_i.shape:  torch.Size([512, 256])\n",
            "Epoch 8/20\n"
          ]
        },
        {
          "output_type": "stream",
          "name": "stderr",
          "text": [
            "38it [01:43,  2.72s/it]\n"
          ]
        },
        {
          "output_type": "stream",
          "name": "stdout",
          "text": [
            "loss: 4.674887657165527\n",
            "avg_rank: 61.00390625\n",
            "\n"
          ]
        },
        {
          "output_type": "stream",
          "name": "stderr",
          "text": [
            "100%|██████████| 9949/9949 [00:21<00:00, 455.73it/s]\n",
            "100%|██████████| 9949/9949 [00:01<00:00, 5378.21it/s]\n",
            "100%|██████████| 9949/9949 [00:05<00:00, 1799.02it/s]\n",
            "100%|██████████| 9949/9949 [00:01<00:00, 5472.53it/s]\n"
          ]
        },
        {
          "output_type": "stream",
          "name": "stdout",
          "text": [
            "Validation nDCG on epoch 7\n",
            "Encoder - 0.2767833608614286\n",
            "Projector - 0.2930720104713863\n"
          ]
        },
        {
          "output_type": "stream",
          "name": "stderr",
          "text": [
            "\r0it [00:00, ?it/s]"
          ]
        },
        {
          "output_type": "stream",
          "name": "stdout",
          "text": [
            "h_i.shape:  torch.Size([512, 256])\n",
            "Epoch 9/20\n"
          ]
        },
        {
          "output_type": "stream",
          "name": "stderr",
          "text": [
            "\r1it [00:02,  2.63s/it]"
          ]
        },
        {
          "output_type": "stream",
          "name": "stdout",
          "text": [
            "loss: 4.56646728515625\n",
            "avg_rank: 55.865234375\n",
            "\n",
            "h_i.shape:  torch.Size([512, 256])\n",
            "Epoch 9/20\n"
          ]
        },
        {
          "output_type": "stream",
          "name": "stderr",
          "text": [
            "\r2it [00:05,  2.64s/it]"
          ]
        },
        {
          "output_type": "stream",
          "name": "stdout",
          "text": [
            "loss: 4.733645915985107\n",
            "avg_rank: 67.12109375\n",
            "\n",
            "h_i.shape:  torch.Size([512, 256])\n",
            "Epoch 9/20\n"
          ]
        },
        {
          "output_type": "stream",
          "name": "stderr",
          "text": [
            "\r3it [00:07,  2.61s/it]"
          ]
        },
        {
          "output_type": "stream",
          "name": "stdout",
          "text": [
            "loss: 4.731209754943848\n",
            "avg_rank: 69.6474609375\n",
            "\n",
            "h_i.shape:  torch.Size([512, 256])\n",
            "Epoch 9/20\n"
          ]
        },
        {
          "output_type": "stream",
          "name": "stderr",
          "text": [
            "\r4it [00:10,  2.61s/it]"
          ]
        },
        {
          "output_type": "stream",
          "name": "stdout",
          "text": [
            "loss: 4.683890342712402\n",
            "avg_rank: 63.142578125\n",
            "\n",
            "h_i.shape:  torch.Size([512, 256])\n",
            "Epoch 9/20\n"
          ]
        },
        {
          "output_type": "stream",
          "name": "stderr",
          "text": [
            "\r5it [00:13,  2.61s/it]"
          ]
        },
        {
          "output_type": "stream",
          "name": "stdout",
          "text": [
            "loss: 4.512729644775391\n",
            "avg_rank: 50.830078125\n",
            "\n",
            "h_i.shape:  torch.Size([512, 256])\n",
            "Epoch 9/20\n"
          ]
        },
        {
          "output_type": "stream",
          "name": "stderr",
          "text": [
            "\r6it [00:15,  2.67s/it]"
          ]
        },
        {
          "output_type": "stream",
          "name": "stdout",
          "text": [
            "loss: 4.610784530639648\n",
            "avg_rank: 60.337890625\n",
            "\n",
            "h_i.shape:  torch.Size([512, 256])\n",
            "Epoch 9/20\n"
          ]
        },
        {
          "output_type": "stream",
          "name": "stderr",
          "text": [
            "\r7it [00:18,  2.63s/it]"
          ]
        },
        {
          "output_type": "stream",
          "name": "stdout",
          "text": [
            "loss: 4.379138469696045\n",
            "avg_rank: 44.0625\n",
            "\n",
            "h_i.shape:  torch.Size([512, 256])\n",
            "Epoch 9/20\n"
          ]
        },
        {
          "output_type": "stream",
          "name": "stderr",
          "text": [
            "\r8it [00:20,  2.61s/it]"
          ]
        },
        {
          "output_type": "stream",
          "name": "stdout",
          "text": [
            "loss: 4.516743183135986\n",
            "avg_rank: 55.134765625\n",
            "\n",
            "h_i.shape:  torch.Size([512, 256])\n",
            "Epoch 9/20\n"
          ]
        },
        {
          "output_type": "stream",
          "name": "stderr",
          "text": [
            "\r9it [00:23,  2.63s/it]"
          ]
        },
        {
          "output_type": "stream",
          "name": "stdout",
          "text": [
            "loss: 4.564576625823975\n",
            "avg_rank: 63.8759765625\n",
            "\n"
          ]
        },
        {
          "output_type": "stream",
          "name": "stderr",
          "text": [
            "\r9it [00:25,  2.82s/it]\n"
          ]
        },
        {
          "output_type": "error",
          "ename": "KeyboardInterrupt",
          "evalue": "ignored",
          "traceback": [
            "\u001b[0;31m---------------------------------------------------------------------------\u001b[0m",
            "\u001b[0;31mKeyboardInterrupt\u001b[0m                         Traceback (most recent call last)",
            "\u001b[0;32m<ipython-input-31-b8aebe648d44>\u001b[0m in \u001b[0;36m<module>\u001b[0;34m\u001b[0m\n\u001b[1;32m     27\u001b[0m         \u001b[0mcriterion\u001b[0m \u001b[0;34m=\u001b[0m \u001b[0mNT_Xent\u001b[0m\u001b[0;34m(\u001b[0m\u001b[0mtemperature\u001b[0m \u001b[0;34m=\u001b[0m \u001b[0mTEMPERATURE\u001b[0m\u001b[0;34m)\u001b[0m\u001b[0;34m,\u001b[0m\u001b[0;34m\u001b[0m\u001b[0;34m\u001b[0m\u001b[0m\n\u001b[1;32m     28\u001b[0m         \u001b[0mnum_epochs\u001b[0m \u001b[0;34m=\u001b[0m \u001b[0mNUM_EPOCHS\u001b[0m\u001b[0;34m,\u001b[0m\u001b[0;34m\u001b[0m\u001b[0;34m\u001b[0m\u001b[0m\n\u001b[0;32m---> 29\u001b[0;31m         \u001b[0mcheckpoint_path\u001b[0m \u001b[0;34m=\u001b[0m \u001b[0mCHECKPOINT_PATH\u001b[0m\u001b[0;34m\u001b[0m\u001b[0;34m\u001b[0m\u001b[0m\n\u001b[0m\u001b[1;32m     30\u001b[0m )\n\u001b[1;32m     31\u001b[0m \u001b[0;34m\u001b[0m\u001b[0m\n",
            "\u001b[0;32m<ipython-input-10-afcdec988a72>\u001b[0m in \u001b[0;36mtrain\u001b[0;34m(module, train_loader, val_loader, valset_meta, optimizer, criterion, num_epochs, checkpoint_path, top_size)\u001b[0m\n\u001b[1;32m      5\u001b[0m     \u001b[0mmetric2\u001b[0m \u001b[0;34m=\u001b[0m \u001b[0;34m[\u001b[0m\u001b[0;34m]\u001b[0m\u001b[0;34m\u001b[0m\u001b[0;34m\u001b[0m\u001b[0m\n\u001b[1;32m      6\u001b[0m     \u001b[0;32mfor\u001b[0m \u001b[0mepoch\u001b[0m \u001b[0;32min\u001b[0m \u001b[0mrange\u001b[0m\u001b[0;34m(\u001b[0m\u001b[0mnum_epochs\u001b[0m\u001b[0;34m)\u001b[0m\u001b[0;34m:\u001b[0m\u001b[0;34m\u001b[0m\u001b[0;34m\u001b[0m\u001b[0m\n\u001b[0;32m----> 7\u001b[0;31m         \u001b[0;32mfor\u001b[0m \u001b[0mbatch\u001b[0m \u001b[0;32min\u001b[0m \u001b[0mtqdm\u001b[0m\u001b[0;34m(\u001b[0m\u001b[0mtrain_loader\u001b[0m\u001b[0;34m)\u001b[0m\u001b[0;34m:\u001b[0m\u001b[0;34m\u001b[0m\u001b[0;34m\u001b[0m\u001b[0m\n\u001b[0m\u001b[1;32m      8\u001b[0m             \u001b[0moptimizer\u001b[0m\u001b[0;34m.\u001b[0m\u001b[0mzero_grad\u001b[0m\u001b[0;34m(\u001b[0m\u001b[0;34m)\u001b[0m\u001b[0;34m\u001b[0m\u001b[0;34m\u001b[0m\u001b[0m\n\u001b[1;32m      9\u001b[0m             \u001b[0mmodule\u001b[0m\u001b[0;34m.\u001b[0m\u001b[0mtrain\u001b[0m\u001b[0;34m(\u001b[0m\u001b[0;34m)\u001b[0m\u001b[0;34m\u001b[0m\u001b[0;34m\u001b[0m\u001b[0m\n",
            "\u001b[0;32m/usr/local/lib/python3.7/dist-packages/tqdm/std.py\u001b[0m in \u001b[0;36m__iter__\u001b[0;34m(self)\u001b[0m\n\u001b[1;32m   1193\u001b[0m \u001b[0;34m\u001b[0m\u001b[0m\n\u001b[1;32m   1194\u001b[0m         \u001b[0;32mtry\u001b[0m\u001b[0;34m:\u001b[0m\u001b[0;34m\u001b[0m\u001b[0;34m\u001b[0m\u001b[0m\n\u001b[0;32m-> 1195\u001b[0;31m             \u001b[0;32mfor\u001b[0m \u001b[0mobj\u001b[0m \u001b[0;32min\u001b[0m \u001b[0miterable\u001b[0m\u001b[0;34m:\u001b[0m\u001b[0;34m\u001b[0m\u001b[0;34m\u001b[0m\u001b[0m\n\u001b[0m\u001b[1;32m   1196\u001b[0m                 \u001b[0;32myield\u001b[0m \u001b[0mobj\u001b[0m\u001b[0;34m\u001b[0m\u001b[0;34m\u001b[0m\u001b[0m\n\u001b[1;32m   1197\u001b[0m                 \u001b[0;31m# Update and possibly print the progressbar.\u001b[0m\u001b[0;34m\u001b[0m\u001b[0;34m\u001b[0m\u001b[0;34m\u001b[0m\u001b[0m\n",
            "\u001b[0;32m<ipython-input-8-b5b1b7ee2dc1>\u001b[0m in \u001b[0;36m__iter__\u001b[0;34m(self)\u001b[0m\n\u001b[1;32m     55\u001b[0m             \u001b[0mbatch_ids\u001b[0m\u001b[0;34m.\u001b[0m\u001b[0mappend\u001b[0m\u001b[0;34m(\u001b[0m\u001b[0mpair_ids\u001b[0m\u001b[0;34m)\u001b[0m\u001b[0;34m\u001b[0m\u001b[0;34m\u001b[0m\u001b[0m\n\u001b[1;32m     56\u001b[0m             \u001b[0;32mif\u001b[0m \u001b[0mlen\u001b[0m\u001b[0;34m(\u001b[0m\u001b[0mbatch_ids\u001b[0m\u001b[0;34m)\u001b[0m \u001b[0;34m==\u001b[0m \u001b[0mself\u001b[0m\u001b[0;34m.\u001b[0m\u001b[0mbatch_size\u001b[0m\u001b[0;34m:\u001b[0m\u001b[0;34m\u001b[0m\u001b[0;34m\u001b[0m\u001b[0m\n\u001b[0;32m---> 57\u001b[0;31m                 \u001b[0mbatch\u001b[0m \u001b[0;34m=\u001b[0m \u001b[0mself\u001b[0m\u001b[0;34m.\u001b[0m\u001b[0m_get_batch\u001b[0m\u001b[0;34m(\u001b[0m\u001b[0mbatch_ids\u001b[0m\u001b[0;34m)\u001b[0m\u001b[0;34m\u001b[0m\u001b[0;34m\u001b[0m\u001b[0m\n\u001b[0m\u001b[1;32m     58\u001b[0m                 \u001b[0;32myield\u001b[0m \u001b[0mbatch\u001b[0m\u001b[0;34m\u001b[0m\u001b[0;34m\u001b[0m\u001b[0m\n\u001b[1;32m     59\u001b[0m                 \u001b[0mbatch_ids\u001b[0m \u001b[0;34m=\u001b[0m \u001b[0;34m[\u001b[0m\u001b[0;34m]\u001b[0m\u001b[0;34m\u001b[0m\u001b[0;34m\u001b[0m\u001b[0m\n",
            "\u001b[0;32m<ipython-input-8-b5b1b7ee2dc1>\u001b[0m in \u001b[0;36m_get_batch\u001b[0;34m(self, batch_ids)\u001b[0m\n\u001b[1;32m     46\u001b[0m     \u001b[0;32mdef\u001b[0m \u001b[0m_get_batch\u001b[0m\u001b[0;34m(\u001b[0m\u001b[0mself\u001b[0m\u001b[0;34m,\u001b[0m \u001b[0mbatch_ids\u001b[0m\u001b[0;34m)\u001b[0m\u001b[0;34m:\u001b[0m\u001b[0;34m\u001b[0m\u001b[0;34m\u001b[0m\u001b[0m\n\u001b[1;32m     47\u001b[0m         \u001b[0mbatch_ids\u001b[0m \u001b[0;34m=\u001b[0m \u001b[0mnp\u001b[0m\u001b[0;34m.\u001b[0m\u001b[0marray\u001b[0m\u001b[0;34m(\u001b[0m\u001b[0mbatch_ids\u001b[0m\u001b[0;34m)\u001b[0m\u001b[0;34m.\u001b[0m\u001b[0mreshape\u001b[0m\u001b[0;34m(\u001b[0m\u001b[0;34m-\u001b[0m\u001b[0;36m1\u001b[0m\u001b[0;34m)\u001b[0m\u001b[0;34m\u001b[0m\u001b[0;34m\u001b[0m\u001b[0m\n\u001b[0;32m---> 48\u001b[0;31m         \u001b[0mbatch_features\u001b[0m \u001b[0;34m=\u001b[0m \u001b[0mself\u001b[0m\u001b[0;34m.\u001b[0m\u001b[0mfeatures_loader\u001b[0m\u001b[0;34m.\u001b[0m\u001b[0mload_batch\u001b[0m\u001b[0;34m(\u001b[0m\u001b[0mbatch_ids\u001b[0m\u001b[0;34m)\u001b[0m\u001b[0;34m\u001b[0m\u001b[0;34m\u001b[0m\u001b[0m\n\u001b[0m\u001b[1;32m     49\u001b[0m         \u001b[0mbatch_features\u001b[0m \u001b[0;34m=\u001b[0m \u001b[0mbatch_features\u001b[0m\u001b[0;34m.\u001b[0m\u001b[0mreshape\u001b[0m\u001b[0;34m(\u001b[0m\u001b[0mself\u001b[0m\u001b[0;34m.\u001b[0m\u001b[0mbatch_size\u001b[0m\u001b[0;34m,\u001b[0m \u001b[0;36m2\u001b[0m\u001b[0;34m,\u001b[0m \u001b[0;34m*\u001b[0m\u001b[0mself\u001b[0m\u001b[0;34m.\u001b[0m\u001b[0mfeatures_size\u001b[0m\u001b[0;34m)\u001b[0m\u001b[0;34m\u001b[0m\u001b[0;34m\u001b[0m\u001b[0m\n\u001b[1;32m     50\u001b[0m         \u001b[0;32mreturn\u001b[0m \u001b[0mbatch_features\u001b[0m\u001b[0;34m\u001b[0m\u001b[0;34m\u001b[0m\u001b[0m\n",
            "\u001b[0;32m<ipython-input-8-b5b1b7ee2dc1>\u001b[0m in \u001b[0;36mload_batch\u001b[0;34m(self, tracks_ids)\u001b[0m\n\u001b[1;32m     23\u001b[0m \u001b[0;34m\u001b[0m\u001b[0m\n\u001b[1;32m     24\u001b[0m     \u001b[0;32mdef\u001b[0m \u001b[0mload_batch\u001b[0m\u001b[0;34m(\u001b[0m\u001b[0mself\u001b[0m\u001b[0;34m,\u001b[0m \u001b[0mtracks_ids\u001b[0m\u001b[0;34m)\u001b[0m\u001b[0;34m:\u001b[0m\u001b[0;34m\u001b[0m\u001b[0;34m\u001b[0m\u001b[0m\n\u001b[0;32m---> 25\u001b[0;31m         \u001b[0mbatch\u001b[0m \u001b[0;34m=\u001b[0m \u001b[0;34m[\u001b[0m\u001b[0mself\u001b[0m\u001b[0;34m.\u001b[0m\u001b[0m_load_item\u001b[0m\u001b[0;34m(\u001b[0m\u001b[0mtrack_id\u001b[0m\u001b[0;34m)\u001b[0m \u001b[0;32mfor\u001b[0m \u001b[0mtrack_id\u001b[0m \u001b[0;32min\u001b[0m \u001b[0mtracks_ids\u001b[0m\u001b[0;34m]\u001b[0m\u001b[0;34m\u001b[0m\u001b[0;34m\u001b[0m\u001b[0m\n\u001b[0m\u001b[1;32m     26\u001b[0m         \u001b[0;32mreturn\u001b[0m \u001b[0mtorch\u001b[0m\u001b[0;34m.\u001b[0m\u001b[0mtensor\u001b[0m\u001b[0;34m(\u001b[0m\u001b[0mnp\u001b[0m\u001b[0;34m.\u001b[0m\u001b[0marray\u001b[0m\u001b[0;34m(\u001b[0m\u001b[0mbatch\u001b[0m\u001b[0;34m)\u001b[0m\u001b[0;34m)\u001b[0m\u001b[0;34m.\u001b[0m\u001b[0mto\u001b[0m\u001b[0;34m(\u001b[0m\u001b[0mself\u001b[0m\u001b[0;34m.\u001b[0m\u001b[0mdevice\u001b[0m\u001b[0;34m)\u001b[0m\u001b[0;34m\u001b[0m\u001b[0;34m\u001b[0m\u001b[0m\n\u001b[1;32m     27\u001b[0m \u001b[0;34m\u001b[0m\u001b[0m\n",
            "\u001b[0;32m<ipython-input-8-b5b1b7ee2dc1>\u001b[0m in \u001b[0;36m<listcomp>\u001b[0;34m(.0)\u001b[0m\n\u001b[1;32m     23\u001b[0m \u001b[0;34m\u001b[0m\u001b[0m\n\u001b[1;32m     24\u001b[0m     \u001b[0;32mdef\u001b[0m \u001b[0mload_batch\u001b[0m\u001b[0;34m(\u001b[0m\u001b[0mself\u001b[0m\u001b[0;34m,\u001b[0m \u001b[0mtracks_ids\u001b[0m\u001b[0;34m)\u001b[0m\u001b[0;34m:\u001b[0m\u001b[0;34m\u001b[0m\u001b[0;34m\u001b[0m\u001b[0m\n\u001b[0;32m---> 25\u001b[0;31m         \u001b[0mbatch\u001b[0m \u001b[0;34m=\u001b[0m \u001b[0;34m[\u001b[0m\u001b[0mself\u001b[0m\u001b[0;34m.\u001b[0m\u001b[0m_load_item\u001b[0m\u001b[0;34m(\u001b[0m\u001b[0mtrack_id\u001b[0m\u001b[0;34m)\u001b[0m \u001b[0;32mfor\u001b[0m \u001b[0mtrack_id\u001b[0m \u001b[0;32min\u001b[0m \u001b[0mtracks_ids\u001b[0m\u001b[0;34m]\u001b[0m\u001b[0;34m\u001b[0m\u001b[0;34m\u001b[0m\u001b[0m\n\u001b[0m\u001b[1;32m     26\u001b[0m         \u001b[0;32mreturn\u001b[0m \u001b[0mtorch\u001b[0m\u001b[0;34m.\u001b[0m\u001b[0mtensor\u001b[0m\u001b[0;34m(\u001b[0m\u001b[0mnp\u001b[0m\u001b[0;34m.\u001b[0m\u001b[0marray\u001b[0m\u001b[0;34m(\u001b[0m\u001b[0mbatch\u001b[0m\u001b[0;34m)\u001b[0m\u001b[0;34m)\u001b[0m\u001b[0;34m.\u001b[0m\u001b[0mto\u001b[0m\u001b[0;34m(\u001b[0m\u001b[0mself\u001b[0m\u001b[0;34m.\u001b[0m\u001b[0mdevice\u001b[0m\u001b[0;34m)\u001b[0m\u001b[0;34m\u001b[0m\u001b[0;34m\u001b[0m\u001b[0m\n\u001b[1;32m     27\u001b[0m \u001b[0;34m\u001b[0m\u001b[0m\n",
            "\u001b[0;32m<ipython-input-8-b5b1b7ee2dc1>\u001b[0m in \u001b[0;36m_load_item\u001b[0;34m(self, track_id)\u001b[0m\n\u001b[1;32m     18\u001b[0m     \u001b[0;32mdef\u001b[0m \u001b[0m_load_item\u001b[0m\u001b[0;34m(\u001b[0m\u001b[0mself\u001b[0m\u001b[0;34m,\u001b[0m \u001b[0mtrack_id\u001b[0m\u001b[0;34m)\u001b[0m\u001b[0;34m:\u001b[0m\u001b[0;34m\u001b[0m\u001b[0;34m\u001b[0m\u001b[0m\n\u001b[1;32m     19\u001b[0m         \u001b[0mtrack_features_file_path\u001b[0m \u001b[0;34m=\u001b[0m \u001b[0mself\u001b[0m\u001b[0;34m.\u001b[0m\u001b[0mtrackid2path\u001b[0m\u001b[0;34m[\u001b[0m\u001b[0mtrack_id\u001b[0m\u001b[0;34m]\u001b[0m\u001b[0;34m\u001b[0m\u001b[0;34m\u001b[0m\u001b[0m\n\u001b[0;32m---> 20\u001b[0;31m         \u001b[0mtrack_features\u001b[0m \u001b[0;34m=\u001b[0m \u001b[0mnp\u001b[0m\u001b[0;34m.\u001b[0m\u001b[0mload\u001b[0m\u001b[0;34m(\u001b[0m\u001b[0mos\u001b[0m\u001b[0;34m.\u001b[0m\u001b[0mpath\u001b[0m\u001b[0;34m.\u001b[0m\u001b[0mjoin\u001b[0m\u001b[0;34m(\u001b[0m\u001b[0mself\u001b[0m\u001b[0;34m.\u001b[0m\u001b[0mfeatures_dir_path\u001b[0m\u001b[0;34m,\u001b[0m \u001b[0mtrack_features_file_path\u001b[0m\u001b[0;34m)\u001b[0m\u001b[0;34m)\u001b[0m\u001b[0;34m\u001b[0m\u001b[0;34m\u001b[0m\u001b[0m\n\u001b[0m\u001b[1;32m     21\u001b[0m         \u001b[0mpadding\u001b[0m \u001b[0;34m=\u001b[0m \u001b[0;34m(\u001b[0m\u001b[0mtrack_features\u001b[0m\u001b[0;34m.\u001b[0m\u001b[0mshape\u001b[0m\u001b[0;34m[\u001b[0m\u001b[0;36m1\u001b[0m\u001b[0;34m]\u001b[0m \u001b[0;34m-\u001b[0m \u001b[0mself\u001b[0m\u001b[0;34m.\u001b[0m\u001b[0mcrop_size\u001b[0m\u001b[0;34m)\u001b[0m \u001b[0;34m//\u001b[0m \u001b[0;36m2\u001b[0m\u001b[0;34m\u001b[0m\u001b[0;34m\u001b[0m\u001b[0m\n\u001b[1;32m     22\u001b[0m         \u001b[0;32mreturn\u001b[0m \u001b[0mtrack_features\u001b[0m\u001b[0;34m[\u001b[0m\u001b[0;34m:\u001b[0m\u001b[0;34m,\u001b[0m \u001b[0mpadding\u001b[0m\u001b[0;34m:\u001b[0m\u001b[0mpadding\u001b[0m\u001b[0;34m+\u001b[0m\u001b[0mself\u001b[0m\u001b[0;34m.\u001b[0m\u001b[0mcrop_size\u001b[0m\u001b[0;34m]\u001b[0m\u001b[0;34m\u001b[0m\u001b[0;34m\u001b[0m\u001b[0m\n",
            "\u001b[0;32m/usr/local/lib/python3.7/dist-packages/numpy/lib/npyio.py\u001b[0m in \u001b[0;36mload\u001b[0;34m(file, mmap_mode, allow_pickle, fix_imports, encoding)\u001b[0m\n\u001b[1;32m    422\u001b[0m         \u001b[0m_ZIP_SUFFIX\u001b[0m \u001b[0;34m=\u001b[0m \u001b[0;34mb'PK\\x05\\x06'\u001b[0m \u001b[0;31m# empty zip files start with this\u001b[0m\u001b[0;34m\u001b[0m\u001b[0;34m\u001b[0m\u001b[0m\n\u001b[1;32m    423\u001b[0m         \u001b[0mN\u001b[0m \u001b[0;34m=\u001b[0m \u001b[0mlen\u001b[0m\u001b[0;34m(\u001b[0m\u001b[0mformat\u001b[0m\u001b[0;34m.\u001b[0m\u001b[0mMAGIC_PREFIX\u001b[0m\u001b[0;34m)\u001b[0m\u001b[0;34m\u001b[0m\u001b[0;34m\u001b[0m\u001b[0m\n\u001b[0;32m--> 424\u001b[0;31m         \u001b[0mmagic\u001b[0m \u001b[0;34m=\u001b[0m \u001b[0mfid\u001b[0m\u001b[0;34m.\u001b[0m\u001b[0mread\u001b[0m\u001b[0;34m(\u001b[0m\u001b[0mN\u001b[0m\u001b[0;34m)\u001b[0m\u001b[0;34m\u001b[0m\u001b[0;34m\u001b[0m\u001b[0m\n\u001b[0m\u001b[1;32m    425\u001b[0m         \u001b[0;31m# If the file size is less than N, we need to make sure not\u001b[0m\u001b[0;34m\u001b[0m\u001b[0;34m\u001b[0m\u001b[0;34m\u001b[0m\u001b[0m\n\u001b[1;32m    426\u001b[0m         \u001b[0;31m# to seek past the beginning of the file\u001b[0m\u001b[0;34m\u001b[0m\u001b[0;34m\u001b[0m\u001b[0;34m\u001b[0m\u001b[0m\n",
            "\u001b[0;31mKeyboardInterrupt\u001b[0m: "
          ]
        }
      ]
    },
    {
      "cell_type": "markdown",
      "source": [
        "**Encoder**"
      ],
      "metadata": {
        "id": "j36BYeXHwj1F"
      }
    },
    {
      "cell_type": "code",
      "source": [
        "def train_ae(module, train_loader,optimizer, criterion, num_epochs): #, val_loader, valset_meta, optimizer, criterion, num_epochs, checkpoint_path, top_size = 100):\n",
        "    max_ndcg = None\n",
        "    losses = []\n",
        "    for epoch in range(num_epochs):\n",
        "        for tracks_ids, tracks_features in train_loader:\n",
        "            optimizer.zero_grad()\n",
        "            module.train()\n",
        "            reconstructed, _ = module(tracks_features)\n",
        "            loss = criterion(reconstructed, tracks_features)\n",
        "            loss.backward()\n",
        "            optimizer.step()\n",
        "            print(\"Epoch {}/{}\".format(epoch+1, num_epochs))\n",
        "            print(\"loss: {}\".format(loss))\n",
        "            print()\n",
        "            losses.append(loss.item())\n",
        "        '''with torch.no_grad():\n",
        "            module.eval()\n",
        "            for X_batch in val_loader:\n",
        "                X_batch = X_batch.view(-1, 3, 64, 64).float()\n",
        "                reconstructed, _ = model(X_batch.to(device))\n",
        "                loss = loss_fn(reconstructed.view(-1, 3, 64, 64), X_batch.to(device))\n",
        "                val_losses_per_epoch.append(loss.item())\n",
        "            \n",
        "            print(\"Validation nDCG on epoch {}\".format(epoch))\n",
        "            print(\"Encoder - {}\".format(val_ndcg_encoder))\n",
        "            print(\"Projector - {}\".format(val_ndcg_projector))\n",
        "            if (max_ndcg is None) or (val_ndcg_encoder > max_ndcg):\n",
        "                max_ndcg = val_ndcg_encoder\n",
        "                torch.save(model_encoder.state_dict(), checkpoint_path)'''\n",
        "    return losses"
      ],
      "metadata": {
        "id": "xCPQSH9OxdYX"
      },
      "execution_count": null,
      "outputs": []
    },
    {
      "cell_type": "code",
      "source": [
        "\n",
        "class Autoencoder(nn.Module):\n",
        "    def __init__(self, output_features_size):\n",
        "        super().__init__()\n",
        "        self.n_features = output_features_size\n",
        "\n",
        "        self.encoder = nn.Sequential(\n",
        "            nn.Conv1d(512, self.n_features, kernel_size=3, padding=1),\n",
        "            nn.Conv1d(self.n_features, self.n_features, kernel_size=3, padding=1),\n",
        "            nn.Conv1d(self.n_features, self.n_features//2, kernel_size=3, padding=1),\n",
        "\n",
        "            nn.MaxPool1d(2, 2, return_indices=False),\n",
        "\n",
        "            nn.Conv1d(self.n_features//2, self.n_features//2, kernel_size=3, padding=1),\n",
        "            nn.Conv1d(self.n_features//2, self.n_features//4, kernel_size=3, padding=1),\n",
        "\n",
        "            nn.Conv1d(self.n_features//4, self.n_features//4, kernel_size=3, padding=1),\n",
        "            nn.Conv1d(self.n_features//4, self.n_features//8, kernel_size=3, padding=1),\n",
        "\n",
        "            nn.MaxPool1d(2, 2, return_indices=False),\n",
        "\n",
        "            nn.Conv1d(self.n_features//8, self.n_features//8, kernel_size=3, padding=1),\n",
        "            nn.Conv1d(self.n_features//8, self.n_features//8, kernel_size=3, padding=1)\n",
        "        )\n",
        "       \n",
        "        self.decoder = nn.Sequential(\n",
        "            nn.ConvTranspose1d(self.n_features//8, self.n_features//8, kernel_size=3, padding=1),\n",
        "            nn.ConvTranspose1d(self.n_features//8, self.n_features//4,stride =2, kernel_size=3, padding=0),\n",
        "           #nn.MaxUnpool1d(2),\n",
        "            nn.ConvTranspose1d(self.n_features//4, self.n_features//2, kernel_size=3, padding=1),\n",
        "            nn.ConvTranspose1d(self.n_features//2, self.n_features, kernel_size=3, padding=1),\n",
        "            #nn.MaxUnpool1d(2),\n",
        "            nn.ConvTranspose1d(self.n_features, self.n_features,stride = 2,kernel_size=2, padding=1),\n",
        "            nn.ConvTranspose1d(self.n_features, self.n_features, kernel_size=3, padding=1)\n",
        "        )\n",
        "\n",
        "    def forward(self, x):\n",
        "        print('x.shape ' , x.shape)\n",
        "        latent = self.encoder(x) #.view(-1, 512)\n",
        "        print('latent.shape ' ,latent.shape)\n",
        "        #latent = self.encoder(x)\n",
        "        reconstructed = self.decoder(latent)\n",
        "        print('reconstructed.shape ' ,reconstructed.shape)\n",
        "        return reconstructed, latent\n"
      ],
      "metadata": {
        "id": "E-MpjqMexCa6"
      },
      "execution_count": null,
      "outputs": []
    },
    {
      "cell_type": "code",
      "source": [
        "autoen = Autoencoder(\n",
        "    output_features_size = 512,\n",
        ").to(device)"
      ],
      "metadata": {
        "id": "hD-HT2dG4RR6"
      },
      "execution_count": null,
      "outputs": []
    },
    {
      "cell_type": "code",
      "source": [
        "losses = train_ae(module= autoen,\n",
        "         train_loader = TestLoader(FeaturesLoader(TRAINSET_PATH, validation_meta_info, device), batch_size = BATCH_SIZE),\n",
        "         optimizer = torch.optim.Adam(autoen.parameters(), lr = LR),\n",
        "         criterion = F.mse_loss,\n",
        "         num_epochs = NUM_EPOCHS)"
      ],
      "metadata": {
        "id": "yLdIGPTN3g8D"
      },
      "execution_count": null,
      "outputs": []
    },
    {
      "cell_type": "code",
      "source": [
        "with open(\"losses.txt\", \"w\") as output:\n",
        "    output.write(str(l))"
      ],
      "metadata": {
        "id": "E7NzqAlvYGAd"
      },
      "execution_count": null,
      "outputs": []
    },
    {
      "cell_type": "code",
      "source": [
        "with open(\"met1.txt\", \"w\") as output:\n",
        "    output.write(str(m1))"
      ],
      "metadata": {
        "id": "zx64563MYr7N"
      },
      "execution_count": null,
      "outputs": []
    },
    {
      "cell_type": "code",
      "source": [
        "with open(\"met2.txt\", \"w\") as output:\n",
        "    output.write(str(m2))"
      ],
      "metadata": {
        "id": "1V1uhDTMYsGH"
      },
      "execution_count": null,
      "outputs": []
    },
    {
      "cell_type": "code",
      "source": [
        "plt.plot(losses)"
      ],
      "metadata": {
        "colab": {
          "base_uri": "https://localhost:8080/",
          "height": 171
        },
        "id": "KcIw-hlOThYq",
        "outputId": "70f36943-06ba-4fd6-cebb-8ad180fbf267"
      },
      "execution_count": null,
      "outputs": [
        {
          "output_type": "error",
          "ename": "NameError",
          "evalue": "ignored",
          "traceback": [
            "\u001b[0;31m---------------------------------------------------------------------------\u001b[0m",
            "\u001b[0;31mNameError\u001b[0m                                 Traceback (most recent call last)",
            "\u001b[0;32m<ipython-input-72-1f71c63ba2d5>\u001b[0m in \u001b[0;36m<module>\u001b[0;34m\u001b[0m\n\u001b[0;32m----> 1\u001b[0;31m \u001b[0mplt\u001b[0m\u001b[0;34m.\u001b[0m\u001b[0mplot\u001b[0m\u001b[0;34m(\u001b[0m\u001b[0mlosses\u001b[0m\u001b[0;34m)\u001b[0m\u001b[0;34m\u001b[0m\u001b[0;34m\u001b[0m\u001b[0m\n\u001b[0m",
            "\u001b[0;31mNameError\u001b[0m: name 'plt' is not defined"
          ]
        }
      ]
    },
    {
      "cell_type": "code",
      "source": [
        "\n",
        "plt.plot(losses)"
      ],
      "metadata": {
        "colab": {
          "base_uri": "https://localhost:8080/",
          "height": 283
        },
        "id": "mrAFV0HIbv7E",
        "outputId": "a844219e-a08d-461b-effe-bea4f3217744"
      },
      "execution_count": null,
      "outputs": [
        {
          "output_type": "execute_result",
          "data": {
            "text/plain": [
              "[<matplotlib.lines.Line2D at 0x7f7c135c1f50>]"
            ]
          },
          "metadata": {},
          "execution_count": 184
        },
        {
          "output_type": "display_data",
          "data": {
            "text/plain": [
              "<Figure size 432x288 with 1 Axes>"
            ],
            "image/png": "[encoded data removed]"
          },
          "metadata": {
            "needs_background": "light"
          }
        }
      ]
    },
    {
      "cell_type": "code",
      "source": [
        "l1, m11, m21 = l, m1, m2"
      ],
      "metadata": {
        "id": "1MWeoeceZiQ2"
      },
      "execution_count": null,
      "outputs": []
    },
    {
      "cell_type": "code",
      "source": [
        "import matplotlib.pyplot as plt\n",
        "\n",
        "plt.plot(l)"
      ],
      "metadata": {
        "colab": {
          "base_uri": "https://localhost:8080/",
          "height": 283
        },
        "id": "1ay5R_LcNkE4",
        "outputId": "d5c1b3e2-836e-4758-9e29-42010bc8168e"
      },
      "execution_count": null,
      "outputs": [
        {
          "output_type": "execute_result",
          "data": {
            "text/plain": [
              "[<matplotlib.lines.Line2D at 0x7fcd7613ee90>]"
            ]
          },
          "metadata": {},
          "execution_count": 17
        },
        {
          "output_type": "display_data",
          "data": {
            "text/plain": [
              "<Figure size 432x288 with 1 Axes>"
            ],
            "image/png": "[encoded data removed]"
          },
          "metadata": {
            "needs_background": "light"
          }
        }
      ]
    },
    {
      "cell_type": "code",
      "source": [
        "plt.plot(l1)"
      ],
      "metadata": {
        "colab": {
          "base_uri": "https://localhost:8080/",
          "height": 283
        },
        "id": "hDupy8i0Zqmd",
        "outputId": "3e7880ea-f76c-447a-a20a-f22768f21259"
      },
      "execution_count": null,
      "outputs": [
        {
          "output_type": "execute_result",
          "data": {
            "text/plain": [
              "[<matplotlib.lines.Line2D at 0x7fce0cc6d690>]"
            ]
          },
          "metadata": {},
          "execution_count": 30
        },
        {
          "output_type": "display_data",
          "data": {
            "text/plain": [
              "<Figure size 432x288 with 1 Axes>"
            ],
            "image/png": "[encoded data removed]"
          },
          "metadata": {
            "needs_background": "light"
          }
        }
      ]
    },
    {
      "cell_type": "code",
      "source": [
        "plt.plot(m1)\n",
        "plt.plot(m2)"
      ],
      "metadata": {
        "colab": {
          "base_uri": "https://localhost:8080/",
          "height": 287
        },
        "id": "pWo4fz4MNDAv",
        "outputId": "b164fc4d-9c4c-41ed-c9ce-685b67622cbb"
      },
      "execution_count": null,
      "outputs": [
        {
          "output_type": "execute_result",
          "data": {
            "text/plain": [
              "[<matplotlib.lines.Line2D at 0x7fcbd8153510>]"
            ]
          },
          "metadata": {},
          "execution_count": 18
        },
        {
          "output_type": "display_data",
          "data": {
            "text/plain": [
              "<Figure size 432x288 with 1 Axes>"
            ],
            "image/png": "[encoded data removed]"
          },
          "metadata": {
            "needs_background": "light"
          }
        }
      ]
    },
    {
      "cell_type": "code",
      "source": [
        "plt.plot(m11)\n",
        "plt.plot(m21)"
      ],
      "metadata": {
        "colab": {
          "base_uri": "https://localhost:8080/",
          "height": 283
        },
        "id": "YHbBLWeeZu1F",
        "outputId": "8d97982c-2ecf-4f45-b763-03d4dd4fee14"
      },
      "execution_count": null,
      "outputs": [
        {
          "output_type": "execute_result",
          "data": {
            "text/plain": [
              "[<matplotlib.lines.Line2D at 0x7fce046edb10>]"
            ]
          },
          "metadata": {},
          "execution_count": 31
        },
        {
          "output_type": "display_data",
          "data": {
            "text/plain": [
              "<Figure size 432x288 with 1 Axes>"
            ],
            "image/png": "[encoded data removed]"
          },
          "metadata": {
            "needs_background": "light"
          }
        }
      ]
    }
  ]
}