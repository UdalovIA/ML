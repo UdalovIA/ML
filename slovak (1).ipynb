{
  "nbformat": 4,
  "nbformat_minor": 0,
  "metadata": {
    "colab": {
      "name": "slovak.ipynb",
      "provenance": []
    },
    "kernelspec": {
      "name": "python3",
      "display_name": "Python 3"
    },
    "language_info": {
      "name": "python"
    },
    "accelerator": "GPU"
  },
  "cells": [
    {
      "cell_type": "code",
      "metadata": {
        "id": "yDSsxIMWlBaa"
      },
      "source": [
        "import warnings\n",
        "warnings.filterwarnings('ignore')\n",
        "import numpy as np\n",
        "import zipfile\n",
        "import os\n",
        "import matplotlib.pyplot as plt\n",
        "import tensorflow as tf\n",
        "from google.colab import drive\n",
        "from keras.models import Sequential\n",
        "from keras import layers\n",
        "from keras.optimizers import RMSprop"
      ],
      "execution_count": null,
      "outputs": []
    },
    {
      "cell_type": "code",
      "metadata": {
        "id": "z9vzlyY6r60F",
        "colab": {
          "base_uri": "https://localhost:8080/"
        },
        "outputId": "23283178-51e6-47bf-c359-d32d6130b7b7"
      },
      "source": [
        "drive.mount('/content/drive')"
      ],
      "execution_count": null,
      "outputs": [
        {
          "output_type": "stream",
          "text": [
            "Mounted at /content/drive\n"
          ],
          "name": "stdout"
        }
      ]
    },
    {
      "cell_type": "code",
      "metadata": {
        "colab": {
          "base_uri": "https://localhost:8080/"
        },
        "id": "nsA2FHx6r8wY",
        "outputId": "33a7c9ae-5abf-455e-f3a9-428c82ee31ce"
      },
      "source": [
        "zip_file = '/content/drive/My Drive/01/push.zip'\n",
        "z = zipfile.ZipFile(zip_file, 'r')\n",
        "z.extractall()\n",
        "os.listdir()"
      ],
      "execution_count": null,
      "outputs": [
        {
          "output_type": "execute_result",
          "data": {
            "text/plain": [
              "['.config', 'drive', '1.txt', 'sample_data']"
            ]
          },
          "metadata": {
            "tags": []
          },
          "execution_count": 3
        }
      ]
    },
    {
      "cell_type": "code",
      "metadata": {
        "colab": {
          "base_uri": "https://localhost:8080/"
        },
        "id": "EDjpIQp4tf8T",
        "outputId": "8726a671-0f10-41a8-9dd7-2576589d4577"
      },
      "source": [
        "data_dir = './'\n",
        "fname = os.path.join(data_dir, '1.txt')\n",
        "text = open(fname).read().lower()\n",
        "print('Corpus length:', len(text))"
      ],
      "execution_count": null,
      "outputs": [
        {
          "output_type": "stream",
          "text": [
            "Corpus length: 3117513\n"
          ],
          "name": "stdout"
        }
      ]
    },
    {
      "cell_type": "code",
      "metadata": {
        "colab": {
          "base_uri": "https://localhost:8080/"
        },
        "id": "wRE15AQj1DZ9",
        "outputId": "9e706423-8d94-4188-e32a-b6a09bb8fd15"
      },
      "source": [
        "maxlen = 60 \n",
        "step = 3 \n",
        "sentences = [] \n",
        "next_chars = [] \n",
        "for i in range(0, len(text) - maxlen, step):\n",
        "    sentences.append(text[i: i + maxlen])\n",
        "    next_chars.append(text[i + maxlen])\n",
        "print('Number of sequences:', len(sentences))\n",
        "chars = sorted(list(set(text))) \n",
        "print('Unique characters:', len(chars))\n",
        "char_indices = dict((char, chars.index(char)) for char in chars)\n",
        "print('Vectorization...')\n",
        "x = np.zeros((len(sentences), maxlen, len(chars)), dtype=np.bool)\n",
        "y = np.zeros((len(sentences), len(chars)), dtype=np.bool)\n",
        "for i, sentence in enumerate(sentences):\n",
        "    for t, char in enumerate(sentence):\n",
        "        x[i, t, char_indices[char]] = 1\n",
        "    y[i, char_indices[next_chars[i]]] = 1"
      ],
      "execution_count": null,
      "outputs": [
        {
          "output_type": "stream",
          "text": [
            "Number of sequences: 1039151\n",
            "Unique characters: 118\n",
            "Vectorization...\n"
          ],
          "name": "stdout"
        }
      ]
    },
    {
      "cell_type": "code",
      "metadata": {
        "id": "pzSmQf7L12QX"
      },
      "source": [
        "import keras\n",
        "from keras import layers"
      ],
      "execution_count": null,
      "outputs": []
    },
    {
      "cell_type": "code",
      "metadata": {
        "id": "ypK9GDEk1uuh"
      },
      "source": [
        "model = keras.models.Sequential()\n",
        "model.add(layers.LSTM(256, input_shape=(maxlen, len(chars))))\n",
        "model.add(layers.Dense(len(chars), activation='softmax'))"
      ],
      "execution_count": null,
      "outputs": []
    },
    {
      "cell_type": "code",
      "metadata": {
        "id": "NHO_K9o-2Bbe"
      },
      "source": [
        "optimizer = keras.optimizers.RMSprop(lr=0.002)\n",
        "model.compile(loss='categorical_crossentropy', optimizer=optimizer)"
      ],
      "execution_count": null,
      "outputs": []
    },
    {
      "cell_type": "code",
      "metadata": {
        "id": "dFYRqk6j2H68"
      },
      "source": [
        "def sample(preds, temperature=1.0):\n",
        "  preds = np.asarray(preds).astype('float64')\n",
        "  preds = np.log(preds) / temperature\n",
        "  exp_preds = np.exp(preds)\n",
        "  preds = exp_preds / np.sum(exp_preds)\n",
        "  probas = np.random.multinomial(1, preds, 1)\n",
        "  return np.argmax(probas)"
      ],
      "execution_count": null,
      "outputs": []
    },
    {
      "cell_type": "code",
      "metadata": {
        "colab": {
          "base_uri": "https://localhost:8080/",
          "height": 1000
        },
        "id": "cy6ZgUzr2NsH",
        "outputId": "47773c0f-9722-4a12-f472-abee8adab2bf"
      },
      "source": [
        "import random\n",
        "import sys\n",
        "\n",
        "for epoch in range(1, 150):\n",
        "    print('epoch', epoch)\n",
        "    # Fit the model for 1 epoch on the available training data\n",
        "    model.fit(x, y,\n",
        "              batch_size=256,\n",
        "              epochs=1)\n",
        "\n",
        "    # Select a text seed at random\n",
        "    "
      ],
      "execution_count": null,
      "outputs": [
        {
          "output_type": "stream",
          "text": [
            "epoch 1\n",
            "4060/4060 [==============================] - 66s 16ms/step - loss: 1.1498\n",
            "epoch 2\n",
            "4060/4060 [==============================] - 65s 16ms/step - loss: 1.1477\n",
            "epoch 3\n",
            "4060/4060 [==============================] - 66s 16ms/step - loss: 1.1464\n",
            "epoch 4\n",
            "4060/4060 [==============================] - 66s 16ms/step - loss: 1.1453\n",
            "epoch 5\n",
            "4060/4060 [==============================] - 65s 16ms/step - loss: 1.1443\n",
            "epoch 6\n",
            "4060/4060 [==============================] - 66s 16ms/step - loss: 1.1433\n",
            "epoch 7\n",
            "4060/4060 [==============================] - 65s 16ms/step - loss: 1.1421\n",
            "epoch 8\n",
            "4060/4060 [==============================] - 65s 16ms/step - loss: 1.1414\n",
            "epoch 9\n",
            "4060/4060 [==============================] - 65s 16ms/step - loss: 1.1408\n",
            "epoch 10\n",
            "4060/4060 [==============================] - 65s 16ms/step - loss: 1.1396\n",
            "epoch 11\n",
            "4060/4060 [==============================] - 65s 16ms/step - loss: 1.1387\n",
            "epoch 12\n",
            "4060/4060 [==============================] - 65s 16ms/step - loss: 1.1386\n",
            "epoch 13\n",
            "4060/4060 [==============================] - 65s 16ms/step - loss: 1.1371\n",
            "epoch 14\n",
            "4060/4060 [==============================] - 66s 16ms/step - loss: 1.1361\n",
            "epoch 15\n",
            "4060/4060 [==============================] - 65s 16ms/step - loss: 1.1352\n",
            "epoch 16\n",
            "4060/4060 [==============================] - 65s 16ms/step - loss: 1.1346\n",
            "epoch 17\n",
            "4060/4060 [==============================] - 65s 16ms/step - loss: 1.1339\n",
            "epoch 18\n",
            "4060/4060 [==============================] - 65s 16ms/step - loss: 1.1328\n",
            "epoch 19\n",
            "4060/4060 [==============================] - 65s 16ms/step - loss: 1.1318\n",
            "epoch 20\n",
            "4060/4060 [==============================] - 66s 16ms/step - loss: 1.1307\n",
            "epoch 21\n",
            "4060/4060 [==============================] - 65s 16ms/step - loss: 1.1306\n",
            "epoch 22\n",
            "4060/4060 [==============================] - 66s 16ms/step - loss: 1.1295\n",
            "epoch 23\n",
            "4060/4060 [==============================] - 65s 16ms/step - loss: 1.1286\n",
            "epoch 24\n",
            "4060/4060 [==============================] - 66s 16ms/step - loss: 1.1281\n",
            "epoch 25\n",
            "4060/4060 [==============================] - 66s 16ms/step - loss: 1.1272\n",
            "epoch 26\n",
            "3585/4060 [=========================>....] - ETA: 7s - loss: 1.1230"
          ],
          "name": "stdout"
        },
        {
          "output_type": "error",
          "ename": "KeyboardInterrupt",
          "evalue": "ignored",
          "traceback": [
            "\u001b[0;31m---------------------------------------------------------------------------\u001b[0m",
            "\u001b[0;31mKeyboardInterrupt\u001b[0m                         Traceback (most recent call last)",
            "\u001b[0;32m<ipython-input-32-934820bdb6a4>\u001b[0m in \u001b[0;36m<module>\u001b[0;34m()\u001b[0m\n\u001b[1;32m      7\u001b[0m     model.fit(x, y,\n\u001b[1;32m      8\u001b[0m               \u001b[0mbatch_size\u001b[0m\u001b[0;34m=\u001b[0m\u001b[0;36m256\u001b[0m\u001b[0;34m,\u001b[0m\u001b[0;34m\u001b[0m\u001b[0;34m\u001b[0m\u001b[0m\n\u001b[0;32m----> 9\u001b[0;31m               epochs=1)\n\u001b[0m\u001b[1;32m     10\u001b[0m \u001b[0;34m\u001b[0m\u001b[0m\n\u001b[1;32m     11\u001b[0m     \u001b[0;31m# Select a text seed at random\u001b[0m\u001b[0;34m\u001b[0m\u001b[0;34m\u001b[0m\u001b[0;34m\u001b[0m\u001b[0m\n",
            "\u001b[0;32m/usr/local/lib/python3.7/dist-packages/keras/engine/training.py\u001b[0m in \u001b[0;36mfit\u001b[0;34m(self, x, y, batch_size, epochs, verbose, callbacks, validation_split, validation_data, shuffle, class_weight, sample_weight, initial_epoch, steps_per_epoch, validation_steps, validation_batch_size, validation_freq, max_queue_size, workers, use_multiprocessing)\u001b[0m\n\u001b[1;32m   1156\u001b[0m                 _r=1):\n\u001b[1;32m   1157\u001b[0m               \u001b[0mcallbacks\u001b[0m\u001b[0;34m.\u001b[0m\u001b[0mon_train_batch_begin\u001b[0m\u001b[0;34m(\u001b[0m\u001b[0mstep\u001b[0m\u001b[0;34m)\u001b[0m\u001b[0;34m\u001b[0m\u001b[0;34m\u001b[0m\u001b[0m\n\u001b[0;32m-> 1158\u001b[0;31m               \u001b[0mtmp_logs\u001b[0m \u001b[0;34m=\u001b[0m \u001b[0mself\u001b[0m\u001b[0;34m.\u001b[0m\u001b[0mtrain_function\u001b[0m\u001b[0;34m(\u001b[0m\u001b[0miterator\u001b[0m\u001b[0;34m)\u001b[0m\u001b[0;34m\u001b[0m\u001b[0;34m\u001b[0m\u001b[0m\n\u001b[0m\u001b[1;32m   1159\u001b[0m               \u001b[0;32mif\u001b[0m \u001b[0mdata_handler\u001b[0m\u001b[0;34m.\u001b[0m\u001b[0mshould_sync\u001b[0m\u001b[0;34m:\u001b[0m\u001b[0;34m\u001b[0m\u001b[0;34m\u001b[0m\u001b[0m\n\u001b[1;32m   1160\u001b[0m                 \u001b[0mcontext\u001b[0m\u001b[0;34m.\u001b[0m\u001b[0masync_wait\u001b[0m\u001b[0;34m(\u001b[0m\u001b[0;34m)\u001b[0m\u001b[0;34m\u001b[0m\u001b[0;34m\u001b[0m\u001b[0m\n",
            "\u001b[0;32m/usr/local/lib/python3.7/dist-packages/tensorflow/python/eager/def_function.py\u001b[0m in \u001b[0;36m__call__\u001b[0;34m(self, *args, **kwds)\u001b[0m\n\u001b[1;32m    887\u001b[0m \u001b[0;34m\u001b[0m\u001b[0m\n\u001b[1;32m    888\u001b[0m       \u001b[0;32mwith\u001b[0m \u001b[0mOptionalXlaContext\u001b[0m\u001b[0;34m(\u001b[0m\u001b[0mself\u001b[0m\u001b[0;34m.\u001b[0m\u001b[0m_jit_compile\u001b[0m\u001b[0;34m)\u001b[0m\u001b[0;34m:\u001b[0m\u001b[0;34m\u001b[0m\u001b[0;34m\u001b[0m\u001b[0m\n\u001b[0;32m--> 889\u001b[0;31m         \u001b[0mresult\u001b[0m \u001b[0;34m=\u001b[0m \u001b[0mself\u001b[0m\u001b[0;34m.\u001b[0m\u001b[0m_call\u001b[0m\u001b[0;34m(\u001b[0m\u001b[0;34m*\u001b[0m\u001b[0margs\u001b[0m\u001b[0;34m,\u001b[0m \u001b[0;34m**\u001b[0m\u001b[0mkwds\u001b[0m\u001b[0;34m)\u001b[0m\u001b[0;34m\u001b[0m\u001b[0;34m\u001b[0m\u001b[0m\n\u001b[0m\u001b[1;32m    890\u001b[0m \u001b[0;34m\u001b[0m\u001b[0m\n\u001b[1;32m    891\u001b[0m       \u001b[0mnew_tracing_count\u001b[0m \u001b[0;34m=\u001b[0m \u001b[0mself\u001b[0m\u001b[0;34m.\u001b[0m\u001b[0mexperimental_get_tracing_count\u001b[0m\u001b[0;34m(\u001b[0m\u001b[0;34m)\u001b[0m\u001b[0;34m\u001b[0m\u001b[0;34m\u001b[0m\u001b[0m\n",
            "\u001b[0;32m/usr/local/lib/python3.7/dist-packages/tensorflow/python/eager/def_function.py\u001b[0m in \u001b[0;36m_call\u001b[0;34m(self, *args, **kwds)\u001b[0m\n\u001b[1;32m    915\u001b[0m       \u001b[0;31m# In this case we have created variables on the first call, so we run the\u001b[0m\u001b[0;34m\u001b[0m\u001b[0;34m\u001b[0m\u001b[0;34m\u001b[0m\u001b[0m\n\u001b[1;32m    916\u001b[0m       \u001b[0;31m# defunned version which is guaranteed to never create variables.\u001b[0m\u001b[0;34m\u001b[0m\u001b[0;34m\u001b[0m\u001b[0;34m\u001b[0m\u001b[0m\n\u001b[0;32m--> 917\u001b[0;31m       \u001b[0;32mreturn\u001b[0m \u001b[0mself\u001b[0m\u001b[0;34m.\u001b[0m\u001b[0m_stateless_fn\u001b[0m\u001b[0;34m(\u001b[0m\u001b[0;34m*\u001b[0m\u001b[0margs\u001b[0m\u001b[0;34m,\u001b[0m \u001b[0;34m**\u001b[0m\u001b[0mkwds\u001b[0m\u001b[0;34m)\u001b[0m  \u001b[0;31m# pylint: disable=not-callable\u001b[0m\u001b[0;34m\u001b[0m\u001b[0;34m\u001b[0m\u001b[0m\n\u001b[0m\u001b[1;32m    918\u001b[0m     \u001b[0;32melif\u001b[0m \u001b[0mself\u001b[0m\u001b[0;34m.\u001b[0m\u001b[0m_stateful_fn\u001b[0m \u001b[0;32mis\u001b[0m \u001b[0;32mnot\u001b[0m \u001b[0;32mNone\u001b[0m\u001b[0;34m:\u001b[0m\u001b[0;34m\u001b[0m\u001b[0;34m\u001b[0m\u001b[0m\n\u001b[1;32m    919\u001b[0m       \u001b[0;31m# Release the lock early so that multiple threads can perform the call\u001b[0m\u001b[0;34m\u001b[0m\u001b[0;34m\u001b[0m\u001b[0;34m\u001b[0m\u001b[0m\n",
            "\u001b[0;32m/usr/local/lib/python3.7/dist-packages/tensorflow/python/eager/function.py\u001b[0m in \u001b[0;36m__call__\u001b[0;34m(self, *args, **kwargs)\u001b[0m\n\u001b[1;32m   3022\u001b[0m        filtered_flat_args) = self._maybe_define_function(args, kwargs)\n\u001b[1;32m   3023\u001b[0m     return graph_function._call_flat(\n\u001b[0;32m-> 3024\u001b[0;31m         filtered_flat_args, captured_inputs=graph_function.captured_inputs)  # pylint: disable=protected-access\n\u001b[0m\u001b[1;32m   3025\u001b[0m \u001b[0;34m\u001b[0m\u001b[0m\n\u001b[1;32m   3026\u001b[0m   \u001b[0;34m@\u001b[0m\u001b[0mproperty\u001b[0m\u001b[0;34m\u001b[0m\u001b[0;34m\u001b[0m\u001b[0m\n",
            "\u001b[0;32m/usr/local/lib/python3.7/dist-packages/tensorflow/python/eager/function.py\u001b[0m in \u001b[0;36m_call_flat\u001b[0;34m(self, args, captured_inputs, cancellation_manager)\u001b[0m\n\u001b[1;32m   1959\u001b[0m       \u001b[0;31m# No tape is watching; skip to running the function.\u001b[0m\u001b[0;34m\u001b[0m\u001b[0;34m\u001b[0m\u001b[0;34m\u001b[0m\u001b[0m\n\u001b[1;32m   1960\u001b[0m       return self._build_call_outputs(self._inference_function.call(\n\u001b[0;32m-> 1961\u001b[0;31m           ctx, args, cancellation_manager=cancellation_manager))\n\u001b[0m\u001b[1;32m   1962\u001b[0m     forward_backward = self._select_forward_and_backward_functions(\n\u001b[1;32m   1963\u001b[0m         \u001b[0margs\u001b[0m\u001b[0;34m,\u001b[0m\u001b[0;34m\u001b[0m\u001b[0;34m\u001b[0m\u001b[0m\n",
            "\u001b[0;32m/usr/local/lib/python3.7/dist-packages/tensorflow/python/eager/function.py\u001b[0m in \u001b[0;36mcall\u001b[0;34m(self, ctx, args, cancellation_manager)\u001b[0m\n\u001b[1;32m    594\u001b[0m               \u001b[0minputs\u001b[0m\u001b[0;34m=\u001b[0m\u001b[0margs\u001b[0m\u001b[0;34m,\u001b[0m\u001b[0;34m\u001b[0m\u001b[0;34m\u001b[0m\u001b[0m\n\u001b[1;32m    595\u001b[0m               \u001b[0mattrs\u001b[0m\u001b[0;34m=\u001b[0m\u001b[0mattrs\u001b[0m\u001b[0;34m,\u001b[0m\u001b[0;34m\u001b[0m\u001b[0;34m\u001b[0m\u001b[0m\n\u001b[0;32m--> 596\u001b[0;31m               ctx=ctx)\n\u001b[0m\u001b[1;32m    597\u001b[0m         \u001b[0;32melse\u001b[0m\u001b[0;34m:\u001b[0m\u001b[0;34m\u001b[0m\u001b[0;34m\u001b[0m\u001b[0m\n\u001b[1;32m    598\u001b[0m           outputs = execute.execute_with_cancellation(\n",
            "\u001b[0;32m/usr/local/lib/python3.7/dist-packages/tensorflow/python/eager/execute.py\u001b[0m in \u001b[0;36mquick_execute\u001b[0;34m(op_name, num_outputs, inputs, attrs, ctx, name)\u001b[0m\n\u001b[1;32m     58\u001b[0m     \u001b[0mctx\u001b[0m\u001b[0;34m.\u001b[0m\u001b[0mensure_initialized\u001b[0m\u001b[0;34m(\u001b[0m\u001b[0;34m)\u001b[0m\u001b[0;34m\u001b[0m\u001b[0;34m\u001b[0m\u001b[0m\n\u001b[1;32m     59\u001b[0m     tensors = pywrap_tfe.TFE_Py_Execute(ctx._handle, device_name, op_name,\n\u001b[0;32m---> 60\u001b[0;31m                                         inputs, attrs, num_outputs)\n\u001b[0m\u001b[1;32m     61\u001b[0m   \u001b[0;32mexcept\u001b[0m \u001b[0mcore\u001b[0m\u001b[0;34m.\u001b[0m\u001b[0m_NotOkStatusException\u001b[0m \u001b[0;32mas\u001b[0m \u001b[0me\u001b[0m\u001b[0;34m:\u001b[0m\u001b[0;34m\u001b[0m\u001b[0;34m\u001b[0m\u001b[0m\n\u001b[1;32m     62\u001b[0m     \u001b[0;32mif\u001b[0m \u001b[0mname\u001b[0m \u001b[0;32mis\u001b[0m \u001b[0;32mnot\u001b[0m \u001b[0;32mNone\u001b[0m\u001b[0;34m:\u001b[0m\u001b[0;34m\u001b[0m\u001b[0;34m\u001b[0m\u001b[0m\n",
            "\u001b[0;31mKeyboardInterrupt\u001b[0m: "
          ]
        }
      ]
    },
    {
      "cell_type": "code",
      "metadata": {
        "id": "Xyk27ORZhL4U"
      },
      "source": [
        "model.save('slovak.h5') "
      ],
      "execution_count": null,
      "outputs": []
    },
    {
      "cell_type": "code",
      "metadata": {
        "colab": {
          "base_uri": "https://localhost:8080/"
        },
        "id": "YNK0mK_4I-LA",
        "outputId": "901166a7-3e8d-437b-beb0-225aaf0d034e"
      },
      "source": [
        "start_index = random.randint(0, len(text) - maxlen - 1)\n",
        "generated_text = text[start_index: start_index + maxlen]\n",
        "print('--- Generating with seed: \"' + generated_text + '\"')\n",
        "\n",
        "for temperature in [0.2]:\n",
        "    print('------ temperature:', temperature)\n",
        "    sys.stdout.write(generated_text)\n",
        "\n",
        "    # We generate 400 characters\n",
        "    for i in range(4000):\n",
        "        sampled = np.zeros((1, maxlen, len(chars)))\n",
        "        for t, char in enumerate(generated_text):\n",
        "            sampled[0, t, char_indices[char]] = 1.\n",
        "\n",
        "        preds = model.predict(sampled, verbose=0)[0]\n",
        "        next_index = sample(preds, temperature)\n",
        "        next_char = chars[next_index]\n",
        "\n",
        "        generated_text += next_char\n",
        "        generated_text = generated_text[1:]\n",
        "\n",
        "        sys.stdout.write(next_char)\n",
        "        sys.stdout.flush()\n",
        "    print()"
      ],
      "execution_count": null,
      "outputs": [
        {
          "output_type": "stream",
          "text": [
            "--- Generating with seed: \"к хотелось еще раз поблагодарить дядю за все его благодеяния\"\n",
            "------ temperature: 0.2\n",
            "к хотелось еще раз поблагодарить дядю за все его благодеяниями.\n",
            "\n",
            "на столов подобрала ее и в противоречившем голосом после своего отца своего выстрела. все это приехавших с ней и подобным-точно поднимающиеся на вопрос о нашем противоречие в противоречие и не понимает этого. он поднялся и все то, что он не мог принимать его в своем событии на вопрос о представие своего места, и солдаты во время своего места в одном из успейних против которого он слышал все то, что он понял, что он не мог быть оставлять на то, что на помести и не понимающему причином и старательно поднимались на свое время обедал к нему. он не мог вывести от него. он собрал свою походку и в котором он подошел к нему.\n",
            "\n",
            "– ты знаешь, что на то же молодое лицо, которое он не мог принимать его в том же времени, как он подошел к ней. он подошел к ней и поднимал по комнате. он подошел к нему и подошел к солдатам и посмотрел на него. – они в самом деле, – сказала она, – не только не сказал по-русски, – сказал он, – она смеялись от него от него. – она стараяся и потому что в противоречие об этом слове. в котором он был на то, что он был на то, что он не мог удержать в свое время воспоминание о своих сложном предполагается этого причина на вопрос о противоречитель в том, что он в этот день стариков и в том, что он в первый раз при всех страстелей – было только того, что не было в том, что он не мог быть совершенно это событие не понимал про него свободным, и только в конце самого себя все войско в середине своего времени, и в то время как он увидал его в событии и принял его к ней в своем событии и подобрал и после этого она стала в самом себе в своей более и тот же предложение казаки, и в особенности на половине события. но в противоречил одного эта образа в то время, как он поднимал свое столицы и обратился к нему и поднимал свои столика, как будто он подошел к ней.\n",
            "\n",
            "\n",
            "\n",
            "\n",
            "\n",
            "xix\n",
            "\n",
            "\n",
            "\n",
            "\n",
            "в простое против него не поднимали его своего мужа, он все более и более одним-тобор. – вот она, ваше сиятельство, – сказал он, – она не понимала.\n",
            "\n",
            "– ну, а ты сложил и после поговорит – и потому, что все это все выехали и в первой кутузову, не видал в том, что он событив на положениях и принял его к ней и стал читать себя в своем предмете всего на свое место. на помешенный маленький комнаты стали отказаться, что он в этот день последний раз на которой он собирал с ним и подобным-то вратом и сел на свое время обедать и подобрал и повернулся и подошел к княжне марье. – вот вас совется, – сказала она, – не могу ничего не в том же слова; то он уже этого был совершен в себе и все войско. он подошел к нему и принял его к нему. он подошел к нему и подошел к нему.\n",
            "\n",
            "– ну, что же это так не видали и сама, – сказал он, – она стала сказать ему свое положение. – как же вы не было? – сказал он, – не могу и не видеть этого. я не могу принять его ваше веселое и событие. вот он уже не был от него. все это все было приятное и совершенно не только как будто в своем собою своей жене. – после подводы поднял голову, стал быть поднятыми и поднимались к нему. но в то время как он видел только одни и с тем выражением поднимались на свое место. «это ты скажу ваше сиятельство.\n",
            "\n",
            "– не могу и не видеть этого. – она подошла к своей болезни. «нет, это не было себя в самом собаку в первое время войну, он стоял в первый раз на своей жене. – это не было приезда.\n",
            "\n",
            "– ну, а вы это сказали, что я не понимаю, что он не мог принимать не могло повернуться в своем собою свободу. в том же положении проезжали в первый раз в полку с долоховым волосы, и потому что он сказал ему не в своем полку.\n",
            "\n",
            "– ты это был такой женитьбетем солдат. – она повели к себе старшие в комнату.\n",
            "\n",
            "пьер вынал про него под обедами, с которым он собрал с ним.\n",
            "\n",
            "– вы мне вы понимаете, что наполеон все был после всегда произведением своим рассказам отдать свое время и в том самом событии, но в этот день против настоящего солдата в двери. он сказал ему свои столиков. после этого не подвинулись к нему. но в то время как он успел от него. он посмотрел на него и обратился к матери. он просветил от него и подошел к солдатам и поднимал \n"
          ],
          "name": "stdout"
        }
      ]
    }
  ]
}